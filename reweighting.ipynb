{
 "cells": [
  {
   "cell_type": "code",
   "execution_count": 1,
   "metadata": {
    "pycharm": {
     "is_executing": true,
     "name": "#%%\n"
    }
   },
   "outputs": [],
   "source": [
    "from icl.util_classes.arg_classes import ReweightingArgs\n",
    "from sklearn.metrics import accuracy_score\n",
    "from icl.utils.load_huggingface_dataset import load_huggingface_dataset_train_and_test\n",
    "import numpy as np"
   ]
  },
  {
   "cell_type": "code",
   "execution_count": 2,
   "metadata": {
    "pycharm": {
     "name": "#%%\n"
    }
   },
   "outputs": [],
   "source": [
    "def get_acc(y,labels):\n",
    "    scores = y.predictions[0]\n",
    "    acc = accuracy_score(labels, np.argmax(scores, axis=1))\n",
    "    return acc"
   ]
  },
  {
   "cell_type": "code",
   "execution_count": 4,
   "metadata": {
    "pycharm": {
     "is_executing": true,
     "name": "#%%\n"
    }
   },
   "outputs": [],
   "source": [
    "all_results = []\n",
    "for task_name in ['sst2']:#,'trec','agnews','emo']:\n",
    "    dataset = load_huggingface_dataset_train_and_test(task_name)\n",
    "    task_results = []\n",
    "    for lr in [0.1]:#,0.01]:\n",
    "        result_ls = []\n",
    "        for seed in [42]:#,43,44,45,46]:\n",
    "            test_sample = dataset['test'].shuffle(seed=seed).select(range(min(1000,len(dataset['test']))))\n",
    "            labels = np.array(test_sample['label'])\n",
    "            args = ReweightingArgs(task_name=task_name, lr=lr,seeds=[seed])\n",
    "            results = args.load_result()[0][0]\n",
    "            y,y1,_,y2,y3 = results\n",
    "\n",
    "            acc_1 = get_acc(y,labels)\n",
    "            acc_2 = get_acc(y2,labels)\n",
    "            result_ls.append([acc_1,acc_2])\n",
    "        task_results.append(result_ls)\n",
    "    all_results.append(task_results)"
   ]
  },
  {
   "cell_type": "code",
   "execution_count": 5,
   "metadata": {},
   "outputs": [
    {
     "data": {
      "text/plain": [
       "[[[[0.8704128440366973, 0.5493119266055045]]]]"
      ]
     },
     "execution_count": 5,
     "metadata": {},
     "output_type": "execute_result"
    }
   ],
   "source": [
    "all_results"
   ]
  }
 ],
 "metadata": {
  "kernelspec": {
   "display_name": "Python 3.10.10 ('wm')",
   "language": "python",
   "name": "python3"
  },
  "language_info": {
   "codemirror_mode": {
    "name": "ipython",
    "version": 3
   },
   "file_extension": ".py",
   "mimetype": "text/x-python",
   "name": "python",
   "nbconvert_exporter": "python",
   "pygments_lexer": "ipython3",
   "version": "3.10.12"
  },
  "orig_nbformat": 4,
  "vscode": {
   "interpreter": {
    "hash": "69f52fabb15766d39c6bf90ba53c555c905cb082f5a671ecb5c4487727b3f015"
   }
  }
 },
 "nbformat": 4,
 "nbformat_minor": 2
}
