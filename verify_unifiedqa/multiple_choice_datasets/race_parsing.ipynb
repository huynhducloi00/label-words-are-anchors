{
 "cells": [
  {
   "cell_type": "code",
   "execution_count": 4,
   "metadata": {},
   "outputs": [],
   "source": [
    "from datasets import load_dataset\n",
    "DATASET_NAME = 'race'\n",
    "dataset = load_dataset(\"ehovy/race\", \"all\", split=[\"train\", \"test\"])"
   ]
  },
  {
   "cell_type": "code",
   "execution_count": 5,
   "metadata": {},
   "outputs": [],
   "source": [
    "def get_prompt(dataset, index, has_choice=False):\n",
    "    # try:\n",
    "        json_line = dataset[index]\n",
    "        question = json_line[\"question\"]\n",
    "        choice_texts = [x.replace(\"\\n\", \" \").replace(' ( ) ','') for x in json_line[\"options\"]]\n",
    "        candidates = \" \".join(\n",
    "            [\n",
    "                f\"( ) {text}\"\n",
    "                for text in choice_texts\n",
    "            ]\n",
    "        )\n",
    "        answer_key = json_line[\"answer\"][0]\n",
    "        answer_key_idx = ord(answer_key) - \\\n",
    "            (ord(\"A\") if answer_key in 'ABCDE' else ord(\"1\"))\n",
    "        answer_text = choice_texts[answer_key_idx]\n",
    "        fact = f\"{json_line['article']}{'' if json_line['article'][-1]=='.' else '.'}\"\n",
    "        prompt = f\"{fact} {question} \\\\n {candidates}\"\n",
    "        return prompt, answer_text"
   ]
  },
  {
   "cell_type": "code",
   "execution_count": 6,
   "metadata": {},
   "outputs": [
    {
     "name": "stderr",
     "output_type": "stream",
     "text": [
      "100%|██████████| 87866/87866 [00:08<00:00, 10437.76it/s]\n",
      "100%|██████████| 4934/4934 [00:00<00:00, 10355.36it/s]\n"
     ]
    }
   ],
   "source": [
    "from tqdm import tqdm\n",
    "import pickle\n",
    "\n",
    "for index, dataname in enumerate(['train', 'test']):\n",
    "    container = []\n",
    "    for ques_index, ques in enumerate(tqdm(dataset[index])):\n",
    "        container.append(\n",
    "            get_prompt(dataset[index], ques_index, has_choice=False)\n",
    "        )\n",
    "    pickle.dump(container, open(f\"{DATASET_NAME}_{dataname}.pkl\", \"wb\"))"
   ]
  }
 ],
 "metadata": {
  "kernelspec": {
   "display_name": "Python 3.10.10 ('wm')",
   "language": "python",
   "name": "python3"
  },
  "language_info": {
   "codemirror_mode": {
    "name": "ipython",
    "version": 3
   },
   "file_extension": ".py",
   "mimetype": "text/x-python",
   "name": "python",
   "nbconvert_exporter": "python",
   "pygments_lexer": "ipython3",
   "version": "3.10.12"
  },
  "orig_nbformat": 4,
  "vscode": {
   "interpreter": {
    "hash": "69f52fabb15766d39c6bf90ba53c555c905cb082f5a671ecb5c4487727b3f015"
   }
  }
 },
 "nbformat": 4,
 "nbformat_minor": 2
}
