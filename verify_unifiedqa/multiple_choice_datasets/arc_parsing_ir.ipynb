{
 "cells": [
  {
   "cell_type": "code",
   "execution_count": 1,
   "metadata": {},
   "outputs": [],
   "source": [
    "from datasets import load_dataset\n",
    "import json\n",
    "\n",
    "DATASET_NAME = \"arc_ir\"\n",
    "orders = [\"train\", \"validation\", \"test\"]\n",
    "dataset = {}\n",
    "dataset[\"easy\"] = load_dataset(\"allenai/ai2_arc\", \"ARC-Easy\", split=orders)\n",
    "dataset[\"challenge\"] = load_dataset(\"allenai/ai2_arc\", \"ARC-Challenge\", split=orders)"
   ]
  },
  {
   "cell_type": "code",
   "execution_count": 2,
   "metadata": {},
   "outputs": [
    {
     "name": "stderr",
     "output_type": "stream",
     "text": [
      "1250it [00:00, 71916.82it/s]?, ?it/s]\n",
      "338it [00:00, 78428.57it/s]\n",
      "1397it [00:00, 74465.19it/s]\n",
      "100%|██████████| 3/3 [00:00<00:00, 54.57it/s]\n"
     ]
    }
   ],
   "source": [
    "from tqdm import tqdm\n",
    "\n",
    "parent = \"ARC-DA-v1.1\"\n",
    "data_ir = [[] for x in orders]\n",
    "for idx, order in enumerate(tqdm(orders)):\n",
    "    for a in tqdm(open(f\"{parent}/{order}.jsonl\")):\n",
    "        data_ir[idx].append(json.loads(a))"
   ]
  },
  {
   "cell_type": "code",
   "execution_count": 3,
   "metadata": {},
   "outputs": [
    {
     "data": {
      "text/plain": [
       "{'question_id': 'ARCEZ_Mercury_7221148',\n",
       " 'tag': 'EASY-TRAIN',\n",
       " 'question': \"A baby kit fox grows to become an adult with a mass of over 3.5 kg. What factor will have the greatest influence on this kit fox's survival?\",\n",
       " 'answers': ['habitat',\n",
       "  'amount of predators around',\n",
       "  'how smart the fox is',\n",
       "  'the population of predator in the area',\n",
       "  \"the conditions of the fox's habitat\",\n",
       "  'the availability of food',\n",
       "  'larger predators prevalence',\n",
       "  'food sources',\n",
       "  'food availability',\n",
       "  'availability of food']}"
      ]
     },
     "execution_count": 3,
     "metadata": {},
     "output_type": "execute_result"
    }
   ],
   "source": [
    "data_ir[0][0]"
   ]
  },
  {
   "cell_type": "code",
   "execution_count": 4,
   "metadata": {},
   "outputs": [],
   "source": [
    "# ['easy' if 'ARCEZ' in ques_id else 'challenge']\n",
    "clue_map = {}\n",
    "\n",
    "\n",
    "def cleanit(x):\n",
    "    if x[-1] == \".\":\n",
    "        return x[:-1]\n",
    "    return x\n",
    "\n",
    "\n",
    "for portion_idx in [0, 1, 2]:\n",
    "    for clue in data_ir[portion_idx]:\n",
    "        ques_id = clue[\"question_id\"]\n",
    "        clean = list(set([cleanit(x) for x in clue[\"answers\"]]))\n",
    "        clue_map[ques_id[ques_id.index(\"_\") + 1 :]] = clean\n",
    "\n",
    "# for x in clue_map:\n",
    "#     print(x, len(clue_map[x]))"
   ]
  },
  {
   "cell_type": "code",
   "execution_count": 5,
   "metadata": {},
   "outputs": [],
   "source": [
    "# portion_idx=0\n",
    "# for kind in ['easy','challenge']:\n",
    "#     print(f'for {kind}:')\n",
    "#     for portion_idx in [0,1,2]:\n",
    "#         count=0\n",
    "#         for json_line in dataset[kind][portion_idx]:\n",
    "\n",
    "#         print(f\"portion {portion_idx}, len{len(dataset[kind][portion_idx])}, count{count}\")"
   ]
  },
  {
   "cell_type": "code",
   "execution_count": 6,
   "metadata": {},
   "outputs": [],
   "source": [
    "def get_clue(json_line):\n",
    "    x = json_line[\"id\"]\n",
    "    if x in clue_map:\n",
    "        choices = json_line[\"choices\"]\n",
    "        answer_key = json_line[\"answerKey\"][0]\n",
    "        answer_key_idx = ord(answer_key) - (\n",
    "            ord(\"A\") if answer_key in \"ABCDE\" else ord(\"1\")\n",
    "        )\n",
    "        answer_text = cleanit(choices[\"text\"][answer_key_idx])\n",
    "        # if 'atom' in answer_text:\n",
    "        #     print(f\"Wrong-ness########### '{answer_text}', clue:'{clue_map[x]}'\")\n",
    "        if answer_text in clue_map[x]:\n",
    "            return [k for k in clue_map[x] if k != answer_text]\n",
    "        return clue_map[x]\n",
    "    return None"
   ]
  },
  {
   "cell_type": "code",
   "execution_count": 7,
   "metadata": {},
   "outputs": [],
   "source": [
    "def get_prompt(json_line, has_choice=False):\n",
    "    # try:\n",
    "    question = json_line[\"question\"]\n",
    "    choices = json_line[\"choices\"]\n",
    "    choice_texts = choices[\"text\"]\n",
    "    perms = list(range(len(choice_texts)))\n",
    "    choice_texts = [cleanit(choice_texts[perms[i]]) for i in range(len(choice_texts))]\n",
    "    candidates = \" \".join(\n",
    "        [\n",
    "            f\"({label if has_choice else ' '}) {text}\"\n",
    "            for text, label in zip(choice_texts, choices[\"label\"])\n",
    "        ]\n",
    "    ).replace(\"\\n\", \" \")\n",
    "    answer_key = json_line[\"answerKey\"][0]\n",
    "    answer_key_idx = ord(answer_key) - (ord(\"A\") if answer_key in \"ABCDE\" else ord(\"1\"))\n",
    "    answer_text = choice_texts[answer_key_idx]\n",
    "    clue = get_clue(json_line)\n",
    "    fact = f\"Clue: {', '.join(clue)}. \" if clue else \"\"\n",
    "    prompt = f\"{fact}Question: {question} \\\\n {candidates}\"\n",
    "    # if clue:\n",
    "    #     print(prompt,'Answer: ', answer_text)\n",
    "    return prompt, answer_text\n",
    "\n",
    "\n",
    "# except:\n",
    "#     print(answer_key)"
   ]
  },
  {
   "cell_type": "code",
   "execution_count": 8,
   "metadata": {},
   "outputs": [
    {
     "name": "stderr",
     "output_type": "stream",
     "text": [
      "100%|██████████| 2251/2251 [00:00<00:00, 11266.82it/s]\n",
      "100%|██████████| 570/570 [00:00<00:00, 16492.50it/s]\n",
      "100%|██████████| 1119/1119 [00:00<00:00, 16795.41it/s]\n",
      "100%|██████████| 299/299 [00:00<00:00, 16109.14it/s]\n",
      "100%|██████████| 2376/2376 [00:00<00:00, 11959.18it/s]\n",
      "100%|██████████| 1172/1172 [00:00<00:00, 13758.51it/s]\n"
     ]
    }
   ],
   "source": [
    "from tqdm import tqdm\n",
    "import pickle\n",
    "\n",
    "container_train = []\n",
    "for key, datas in dataset.items():\n",
    "    container_train.extend([get_prompt(x, has_choice=False) for x in tqdm(datas[0])])\n",
    "    container_train.extend([get_prompt(x, has_choice=False) for x in tqdm(datas[1])])\n",
    "pickle.dump(container_train, open(f\"{DATASET_NAME}_train.pkl\", \"wb\"))\n",
    "for key, datas in dataset.items():\n",
    "    pickle.dump(\n",
    "        [get_prompt(x, has_choice=False) for x in tqdm(datas[2])],\n",
    "        open(f\"{DATASET_NAME}_{key}_test.pkl\", \"wb\"),\n",
    "    )"
   ]
  },
  {
   "cell_type": "code",
   "execution_count": 9,
   "metadata": {},
   "outputs": [
    {
     "data": {
      "text/plain": [
       "[]"
      ]
     },
     "execution_count": 9,
     "metadata": {},
     "output_type": "execute_result"
    }
   ],
   "source": [
    "[x for x in container_train[0] if \"Clue\" in x]"
   ]
  }
 ],
 "metadata": {
  "kernelspec": {
   "display_name": "Python 3.10.10 ('wm')",
   "language": "python",
   "name": "python3"
  },
  "language_info": {
   "codemirror_mode": {
    "name": "ipython",
    "version": 3
   },
   "file_extension": ".py",
   "mimetype": "text/x-python",
   "name": "python",
   "nbconvert_exporter": "python",
   "pygments_lexer": "ipython3",
   "version": "3.10.12"
  },
  "orig_nbformat": 4,
  "vscode": {
   "interpreter": {
    "hash": "69f52fabb15766d39c6bf90ba53c555c905cb082f5a671ecb5c4487727b3f015"
   }
  }
 },
 "nbformat": 4,
 "nbformat_minor": 2
}
