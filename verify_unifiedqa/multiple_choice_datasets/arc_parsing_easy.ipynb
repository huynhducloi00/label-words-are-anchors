{
 "cells": [
  {
   "cell_type": "code",
   "execution_count": 1,
   "metadata": {},
   "outputs": [],
   "source": [
    "from datasets import load_dataset\n",
    "DATASET_NAME='arc_easy'\n",
    "dataset_easy = load_dataset(\"allenai/ai2_arc\", \"ARC-Easy\", split=[\"train\", \"test\",'validation'])"
   ]
  },
  {
   "cell_type": "code",
   "execution_count": 2,
   "metadata": {},
   "outputs": [],
   "source": [
    "def get_prompt(json_line, has_choice=False):\n",
    "    try:\n",
    "        question = json_line[\"question\"]\n",
    "        choices = json_line[\"choices\"]\n",
    "        choice_texts = choices[\"text\"]\n",
    "        perms=list(range(len(choice_texts)))\n",
    "        choice_texts = [choice_texts[perms[i]] for i in range(len(choice_texts))]\n",
    "        candidates = \" \".join(\n",
    "            [\n",
    "                f\"({label if has_choice else ' '}) {text}\"\n",
    "                for text, label in zip(choice_texts, choices[\"label\"])\n",
    "            ]\n",
    "        ).replace(\"\\n\", \" \")\n",
    "        answer_key = json_line[\"answerKey\"][0]\n",
    "        answer_key_idx = ord(answer_key) - (ord(\"A\") if answer_key in 'ABCDE' else ord(\"1\"))\n",
    "        answer_text = choices[\"text\"][answer_key_idx]\n",
    "        fact=f\"{json_line['fact1']}. \" if 'fact1' in json_line else ''\n",
    "        prompt = f\"{fact}{question} \\\\n {candidates}\"\n",
    "        return prompt, answer_text\n",
    "    except:\n",
    "        print(answer_key)"
   ]
  },
  {
   "cell_type": "code",
   "execution_count": 3,
   "metadata": {},
   "outputs": [
    {
     "name": "stderr",
     "output_type": "stream",
     "text": [
      "100%|██████████| 2251/2251 [00:00<00:00, 15468.16it/s]\n",
      "100%|██████████| 2376/2376 [00:00<00:00, 15772.13it/s]\n"
     ]
    }
   ],
   "source": [
    "from tqdm import tqdm\n",
    "import pickle\n",
    "container_train=[]\n",
    "container_test=[]\n",
    "for dataset in [dataset_easy]:\n",
    "    container_train.extend([get_prompt(x, has_choice=False) for x in tqdm(dataset[0])])\n",
    "    container_test.extend([get_prompt(x, has_choice=False) for x in tqdm(dataset[1])])\n",
    "pickle.dump(container_train, open(f\"{DATASET_NAME}_train.pkl\", \"wb\"))\n",
    "pickle.dump(container_test, open(f\"{DATASET_NAME}_test.pkl\", \"wb\"))"
   ]
  }
 ],
 "metadata": {
  "kernelspec": {
   "display_name": "Python 3.10.10 ('wm')",
   "language": "python",
   "name": "python3"
  },
  "language_info": {
   "codemirror_mode": {
    "name": "ipython",
    "version": 3
   },
   "file_extension": ".py",
   "mimetype": "text/x-python",
   "name": "python",
   "nbconvert_exporter": "python",
   "pygments_lexer": "ipython3",
   "version": "3.10.12"
  },
  "orig_nbformat": 4,
  "vscode": {
   "interpreter": {
    "hash": "69f52fabb15766d39c6bf90ba53c555c905cb082f5a671ecb5c4487727b3f015"
   }
  }
 },
 "nbformat": 4,
 "nbformat_minor": 2
}
