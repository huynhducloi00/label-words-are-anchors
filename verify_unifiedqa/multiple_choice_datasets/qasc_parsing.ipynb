{
 "cells": [
  {
   "cell_type": "code",
   "execution_count": 1,
   "metadata": {},
   "outputs": [],
   "source": [
    "from datasets import load_dataset\n",
    "\n",
    "DATASET_NAME = \"qasc\"\n",
    "# dataset = load_dataset(\"allenai/qasc\", \"\", split=[\"train\", \"validation\",'test'])\n",
    "import pandas as pd\n",
    "PARENT='QASC_Dataset_2Step'\n",
    "train, dev, test=[pd.read_json(f'{PARENT}/{x}.jsonl', lines=True) for x in ['train','dev','test']]"
   ]
  },
  {
   "cell_type": "code",
   "execution_count": 2,
   "metadata": {},
   "outputs": [],
   "source": [
    "def trimx(x):\n",
    "    if len(x)>0 and x[-1]=='.':\n",
    "        return x[:-1]\n",
    "    return x\n",
    "def get_choice_para(question_bundle):\n",
    "    return [f\"{'. '.join([trimx(m) for m in k['para'].split('. ')[-2:]])}| {k['text']}\" for k in question_bundle['choices']]\n"
   ]
  },
  {
   "cell_type": "code",
   "execution_count": 3,
   "metadata": {},
   "outputs": [
    {
     "data": {
      "text/plain": [
       "8"
      ]
     },
     "execution_count": 3,
     "metadata": {},
     "output_type": "execute_result"
    }
   ],
   "source": [
    "choice_len = max([len(x['choices']) for x in train['question']])\n",
    "choice_len"
   ]
  },
  {
   "cell_type": "code",
   "execution_count": 4,
   "metadata": {
    "tags": [
     "parameters"
    ]
   },
   "outputs": [],
   "source": [
    "NUM_PERMUTE_QUESTION = None\n",
    "EACH_HAS = 16\n",
    "NUM_CHOICE=8"
   ]
  },
  {
   "cell_type": "code",
   "execution_count": 5,
   "metadata": {},
   "outputs": [
    {
     "name": "stderr",
     "output_type": "stream",
     "text": [
      " 11%|█         | 860/8134 [00:00<00:00, 8589.34it/s]"
     ]
    },
    {
     "name": "stderr",
     "output_type": "stream",
     "text": [
      "100%|██████████| 8134/8134 [00:00<00:00, 9490.81it/s] \n",
      "100%|██████████| 926/926 [00:00<00:00, 8920.48it/s]\n",
      "100%|██████████| 920/920 [00:00<00:00, 10802.07it/s]\n"
     ]
    }
   ],
   "source": [
    "import pickle\n",
    "from tqdm import tqdm, trange\n",
    "import numpy as np\n",
    "\n",
    "\n",
    "def get_prompt(dataset, index, location=-1, has_choice=False, dataset_index=0):\n",
    "    is_test = dataset_index == 2\n",
    "    try:\n",
    "        json_line = dataset.loc[index]\n",
    "        question = json_line[\"question\"]\n",
    "        choices = [x['text'] for x in question['choices']]\n",
    "        choice_texts = get_choice_para(question)\n",
    "        # print(choice_texts)\n",
    "        if not is_test:\n",
    "            answer_key = json_line[\"answerKey\"]\n",
    "            answer_key_idx = ord(answer_key[0]) - ord(\"A\")\n",
    "            answer_text = choices[answer_key_idx]\n",
    "            if location > -1:\n",
    "                perm = np.random.permutation(len(choice_texts)-1)\n",
    "                choice_texts.remove(answer_text)\n",
    "                choice_texts = [choice_texts[perm[i]].replace(\n",
    "                    \"\\n\", \" \") for i in range(len(choice_texts))]\n",
    "                choice_texts.insert(location, answer_text)\n",
    "        if location == -1:\n",
    "            perm = list(range(NUM_CHOICE))\n",
    "            choice_texts = [choice_texts[perm[i]].replace(\n",
    "                \"\\n\", \" \") for i in range(len(choice_texts))]\n",
    "        candidates = \" \".join(\n",
    "            [\n",
    "                f\"( ) {text}\" for text in choice_texts\n",
    "            ]\n",
    "        ).replace(\"\\n\", \" \")\n",
    "\n",
    "        # print(answer_key_idx,answer_text)\n",
    "        prompt = f\"{question['stem']} \\\\n {candidates}\"\n",
    "        if is_test:\n",
    "            return (json_line['id'], prompt)\n",
    "        else:\n",
    "            return (prompt, answer_text)\n",
    "\n",
    "    except:\n",
    "        raise Exception(f'Answer key is {answer_key}')\n",
    "\n",
    "        # print(\"QUESTION: \", question, \"ANSWER KEY\", answer_key)\n",
    "\n",
    "\n",
    "if NUM_PERMUTE_QUESTION:\n",
    "    container = []\n",
    "    each_choice_has = EACH_HAS/NUM_CHOICE\n",
    "    for ques_index in trange(NUM_PERMUTE_QUESTION):\n",
    "        for idx in range(EACH_HAS):\n",
    "            location = int(idx/each_choice_has)\n",
    "            content = get_prompt(dataset, ques_index,\n",
    "                                 location, has_choice=False)\n",
    "            # print(content, location)\n",
    "            container.append(content)\n",
    "\n",
    "    pickle.dump(\n",
    "        (NUM_PERMUTE_QUESTION, EACH_HAS, container),\n",
    "        open(f\"{DATASET_NAME}_test_permute.pkl\", \"wb\"),\n",
    "    )\n",
    "else:\n",
    "    for index, (dataset, dataname) in enumerate(zip([train, dev, test], ['train', 'dev', 'test'])):\n",
    "        container = []\n",
    "        for ques_index in trange(len(dataset)):\n",
    "            prompt=get_prompt(dataset, ques_index,\n",
    "                             has_choice=False, dataset_index=index)\n",
    "            container.append(prompt)\n",
    "        pickle.dump(container, open(f\"{DATASET_NAME}_{dataname}.pkl\", \"wb\"))"
   ]
  }
 ],
 "metadata": {
  "kernelspec": {
   "display_name": "Python 3 (ipykernel)",
   "language": "python",
   "name": "python3"
  },
  "language_info": {
   "codemirror_mode": {
    "name": "ipython",
    "version": 3
   },
   "file_extension": ".py",
   "mimetype": "text/x-python",
   "name": "python",
   "nbconvert_exporter": "python",
   "pygments_lexer": "ipython3",
   "version": "3.10.12"
  },
  "vscode": {
   "interpreter": {
    "hash": "69f52fabb15766d39c6bf90ba53c555c905cb082f5a671ecb5c4487727b3f015"
   }
  }
 },
 "nbformat": 4,
 "nbformat_minor": 4
}
