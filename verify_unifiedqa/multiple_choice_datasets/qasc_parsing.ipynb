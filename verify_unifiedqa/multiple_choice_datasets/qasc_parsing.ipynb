{
 "cells": [
  {
   "cell_type": "code",
   "execution_count": 16,
   "metadata": {},
   "outputs": [],
   "source": [
    "from datasets import load_dataset\n",
    "DATASET_NAME='qasc'\n",
    "dataset = load_dataset(\"allenai/qasc\", \"\", split=[\"train\", \"validation\"])"
   ]
  },
  {
   "cell_type": "code",
   "execution_count": 17,
   "metadata": {},
   "outputs": [
    {
     "data": {
      "text/plain": [
       "{'id': '3E7TUJ2EGCLQNOV1WEAJ2NN9ROPD9K',\n",
       " 'question': 'What type of water formation is formed by clouds?',\n",
       " 'choices': {'text': ['pearls',\n",
       "   'streams',\n",
       "   'shells',\n",
       "   'diamonds',\n",
       "   'rain',\n",
       "   'beads',\n",
       "   'cooled',\n",
       "   'liquid'],\n",
       "  'label': ['A', 'B', 'C', 'D', 'E', 'F', 'G', 'H']},\n",
       " 'answerKey': 'F',\n",
       " 'fact1': 'beads of water are formed by water vapor condensing',\n",
       " 'fact2': 'Clouds are made of water vapor.',\n",
       " 'combinedfact': 'Beads of water can be formed by clouds.',\n",
       " 'formatted_question': 'What type of water formation is formed by clouds? (A) pearls (B) streams (C) shells (D) diamonds (E) rain (F) beads (G) cooled (H) liquid'}"
      ]
     },
     "execution_count": 17,
     "metadata": {},
     "output_type": "execute_result"
    }
   ],
   "source": [
    "dataset[0][0]"
   ]
  },
  {
   "cell_type": "code",
   "execution_count": 18,
   "metadata": {},
   "outputs": [],
   "source": [
    "def get_prompt(dataset, index, has_choice=False):\n",
    "    try:\n",
    "        json_line = dataset[index]\n",
    "        question = json_line[\"question\"]\n",
    "        choices = json_line[\"choices\"]\n",
    "        choice_texts = choices[\"text\"]\n",
    "        perm=list(range(len(choice_texts)))\n",
    "        choice_texts = [choice_texts[perm[i]].replace(\"\\n\", \" \") for i in range(len(choice_texts))]\n",
    "        candidates = \" \".join(\n",
    "            [\n",
    "                f\"({label if has_choice else ' '}) {text}\"\n",
    "                for text, label in zip(choice_texts, choices[\"label\"])\n",
    "            ]\n",
    "        ).replace(\"\\n\", \" \")\n",
    "        answer_key = json_line[\"answerKey\"]\n",
    "        answer_key_idx = ord(answer_key[0]) - ord(\"A\")\n",
    "        answer_text = choice_texts[answer_key_idx]\n",
    "        fact = f\"{json_line['combinedfact']}{'' if json_line['combinedfact'][-1]=='.' else '.'}\"\n",
    "        prompt = f\"{fact} {question} \\\\n {candidates}\"\n",
    "        return prompt, answer_text\n",
    "    except:\n",
    "        print('QUESTION: ',question,'ANSWER KEY', answer_key)"
   ]
  },
  {
   "cell_type": "code",
   "execution_count": 19,
   "metadata": {},
   "outputs": [
    {
     "name": "stderr",
     "output_type": "stream",
     "text": [
      "100%|██████████| 8134/8134 [00:02<00:00, 3973.66it/s]\n",
      "100%|██████████| 926/926 [00:00<00:00, 4942.26it/s]\n"
     ]
    }
   ],
   "source": [
    "from tqdm import tqdm\n",
    "import pickle\n",
    "for index, dataname in enumerate(['train','test']):\n",
    "    container=[]\n",
    "    for ques_index, ques in enumerate(tqdm(dataset[index])):\n",
    "        container.append(\n",
    "                get_prompt(dataset[index], ques_index, has_choice=False)\n",
    "            )\n",
    "    pickle.dump(container, open(f\"{DATASET_NAME}_{dataname}.pkl\", \"wb\"))"
   ]
  }
 ],
 "metadata": {
  "kernelspec": {
   "display_name": "Python 3.10.10 ('wm')",
   "language": "python",
   "name": "python3"
  },
  "language_info": {
   "codemirror_mode": {
    "name": "ipython",
    "version": 3
   },
   "file_extension": ".py",
   "mimetype": "text/x-python",
   "name": "python",
   "nbconvert_exporter": "python",
   "pygments_lexer": "ipython3",
   "version": "3.10.12"
  },
  "orig_nbformat": 4,
  "vscode": {
   "interpreter": {
    "hash": "69f52fabb15766d39c6bf90ba53c555c905cb082f5a671ecb5c4487727b3f015"
   }
  }
 },
 "nbformat": 4,
 "nbformat_minor": 2
}
