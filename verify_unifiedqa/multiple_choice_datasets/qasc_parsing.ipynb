{
 "cells": [
  {
   "cell_type": "code",
   "execution_count": 8,
   "metadata": {},
   "outputs": [],
   "source": [
    "from datasets import load_dataset\n",
    "\n",
    "DATASET_NAME = \"qasc\"\n",
    "dataset = load_dataset(\"allenai/qasc\", \"\", split=[\"train\", \"validation\"])"
   ]
  },
  {
   "cell_type": "code",
   "execution_count": 9,
   "metadata": {},
   "outputs": [
    {
     "data": {
      "text/plain": [
       "8"
      ]
     },
     "execution_count": 9,
     "metadata": {},
     "output_type": "execute_result"
    }
   ],
   "source": [
    "choice_len = max([len(x[\"label\"]) for x in dataset[1][\"choices\"]])\n",
    "choice_len"
   ]
  },
  {
   "cell_type": "code",
   "execution_count": 10,
   "metadata": {
    "tags": [
     "parameters"
    ]
   },
   "outputs": [],
   "source": [
    "NUM_PERMUTE_QUESTION = 100\n",
    "EACH_HAS = 16\n",
    "NUM_CHOICE=8"
   ]
  },
  {
   "cell_type": "code",
   "execution_count": 11,
   "metadata": {},
   "outputs": [],
   "source": [
    "# all_ques1=[x for x in dataset[0]['id']]\n",
    "# all_ques2=[x for x in dataset[1]['id']]"
   ]
  },
  {
   "cell_type": "code",
   "execution_count": 12,
   "metadata": {},
   "outputs": [],
   "source": [
    "# [x for x in all_ques1 if x in all_ques2]"
   ]
  },
  {
   "cell_type": "code",
   "execution_count": 13,
   "metadata": {},
   "outputs": [],
   "source": [
    "import numpy as np\n",
    "\n",
    "\n",
    "def get_prompt(dataset, index, location=-1, has_choice=False):\n",
    "    try:\n",
    "        json_line = dataset[index]\n",
    "        question = json_line[\"question\"]\n",
    "        choices = json_line[\"choices\"]\n",
    "        choice_texts = choices[\"text\"]\n",
    "        answer_key = json_line[\"answerKey\"]\n",
    "        answer_key_idx = ord(answer_key[0]) - ord(\"A\")\n",
    "        answer_text = choices[\"text\"][answer_key_idx]\n",
    "        if location>-1:\n",
    "            perm=np.random.permutation(len(choice_texts)-1)\n",
    "            choice_texts.remove(answer_text)\n",
    "            choice_texts = [choice_texts[perm[i]].replace(\"\\n\", \" \") for i in range(len(choice_texts))]\n",
    "            choice_texts.insert(location, answer_text)\n",
    "        else:\n",
    "            perm=list(range(NUM_CHOICE))\n",
    "            choice_texts = [choice_texts[perm[i]].replace(\"\\n\", \" \") for i in range(len(choice_texts))]\n",
    "        candidates = \" \".join(\n",
    "            [\n",
    "                f\"({label if has_choice else ' '}) {text}\"\n",
    "                for text, label in zip(choice_texts, choices[\"label\"])\n",
    "            ]\n",
    "        ).replace(\"\\n\", \" \")\n",
    "        \n",
    "        # print(answer_key_idx,answer_text)\n",
    "        fact = f\"{json_line['combinedfact']}{'' if json_line['combinedfact'][-1]=='.' else '.'}\"\n",
    "        prompt = f\"{fact} {question} \\\\n {candidates}\"\n",
    "        return prompt, answer_text\n",
    "    except:\n",
    "        print(\"QUESTION: \", question, \"ANSWER KEY\", answer_key)"
   ]
  },
  {
   "cell_type": "code",
   "execution_count": 14,
   "metadata": {},
   "outputs": [
    {
     "name": "stderr",
     "output_type": "stream",
     "text": [
      "100%|██████████| 100/100 [00:00<00:00, 634.36it/s]\n"
     ]
    }
   ],
   "source": [
    "import random\n",
    "from tqdm import tqdm, trange\n",
    "import pickle\n",
    "\n",
    "if NUM_PERMUTE_QUESTION:\n",
    "    container = []\n",
    "    each_choice_has=EACH_HAS/NUM_CHOICE\n",
    "    for ques_index in trange(NUM_PERMUTE_QUESTION):\n",
    "        for idx in range(EACH_HAS):\n",
    "            location=int(idx/each_choice_has)\n",
    "            content=get_prompt(dataset[1], ques_index, location, has_choice=False)\n",
    "            # print(content, location)\n",
    "            container.append(content)\n",
    "            \n",
    "    pickle.dump(\n",
    "        (NUM_PERMUTE_QUESTION, EACH_HAS, container),\n",
    "        open(f\"{DATASET_NAME}_test_permute.pkl\", \"wb\"),\n",
    "    )\n",
    "else:\n",
    "    for index, dataname in enumerate([\"train\", \"test\"]):\n",
    "        container = []\n",
    "        for ques_index, ques in enumerate(tqdm(dataset[index])):\n",
    "            container.append(get_prompt(dataset[index], ques_index, has_choice=False))\n",
    "        pickle.dump(container, open(f\"{DATASET_NAME}_{dataname}.pkl\", \"wb\"))"
   ]
  }
 ],
 "metadata": {
  "kernelspec": {
   "display_name": "Python 3.10.10 ('wm')",
   "language": "python",
   "name": "python3"
  },
  "language_info": {
   "codemirror_mode": {
    "name": "ipython",
    "version": 3
   },
   "file_extension": ".py",
   "mimetype": "text/x-python",
   "name": "python",
   "nbconvert_exporter": "python",
   "pygments_lexer": "ipython3",
   "version": "3.10.12"
  },
  "orig_nbformat": 4,
  "vscode": {
   "interpreter": {
    "hash": "69f52fabb15766d39c6bf90ba53c555c905cb082f5a671ecb5c4487727b3f015"
   }
  }
 },
 "nbformat": 4,
 "nbformat_minor": 2
}
