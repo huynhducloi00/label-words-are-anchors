{
 "cells": [
  {
   "cell_type": "code",
   "execution_count": 1,
   "metadata": {},
   "outputs": [],
   "source": [
    "from datasets import load_dataset\n",
    "\n",
    "DATASET_NAME = \"qasc\"\n",
    "dataset = load_dataset(\"allenai/qasc\", \"\", split=[\"train\", \"validation\",'test'])"
   ]
  },
  {
   "cell_type": "code",
   "execution_count": 6,
   "metadata": {},
   "outputs": [
    {
     "name": "stdout",
     "output_type": "stream",
     "text": [
      "16987131\n"
     ]
    }
   ],
   "source": [
    "# store_corpus=[]\n",
    "# with open('QASC_Corpus.txt', 'r') as fr:\n",
    "#     while True:\n",
    "#         content=fr.readline()\n",
    "#         store_corpus.append(content)\n",
    "#         if not content:\n",
    "#             break\n",
    "# print(len(store_corpus))"
   ]
  },
  {
   "cell_type": "code",
   "execution_count": 2,
   "metadata": {},
   "outputs": [
    {
     "data": {
      "text/plain": [
       "{'id': '3C44YUNSI1OBFBB8D36GODNOZN9DPA',\n",
       " 'question': 'What type of birth do therian mammals have?',\n",
       " 'choices': {'text': ['Anthax',\n",
       "   'under water',\n",
       "   'uterus',\n",
       "   'wombs',\n",
       "   'two',\n",
       "   'moles',\n",
       "   'live',\n",
       "   'embryo'],\n",
       "  'label': ['A', 'B', 'C', 'D', 'E', 'F', 'G', 'H']},\n",
       " 'answerKey': '',\n",
       " 'fact1': '',\n",
       " 'fact2': '',\n",
       " 'combinedfact': '',\n",
       " 'formatted_question': 'What type of birth do therian mammals have? (A) Anthax (B) under water (C) uterus (D) wombs (E) two (F) moles (G) live (H) embryo'}"
      ]
     },
     "execution_count": 2,
     "metadata": {},
     "output_type": "execute_result"
    }
   ],
   "source": [
    "dataset[2][0]"
   ]
  },
  {
   "cell_type": "code",
   "execution_count": 4,
   "metadata": {},
   "outputs": [
    {
     "data": {
      "text/plain": [
       "8"
      ]
     },
     "execution_count": 4,
     "metadata": {},
     "output_type": "execute_result"
    }
   ],
   "source": [
    "choice_len = max([len(x[\"label\"]) for x in dataset[1][\"choices\"]])\n",
    "choice_len"
   ]
  },
  {
   "cell_type": "code",
   "execution_count": 5,
   "metadata": {
    "tags": [
     "parameters"
    ]
   },
   "outputs": [],
   "source": [
    "NUM_PERMUTE_QUESTION = None\n",
    "EACH_HAS = 16\n",
    "NUM_CHOICE=8"
   ]
  },
  {
   "cell_type": "code",
   "execution_count": 6,
   "metadata": {},
   "outputs": [],
   "source": [
    "# all_ques1=[x for x in dataset[0]['id']]\n",
    "# all_ques2=[x for x in dataset[1]['id']]"
   ]
  },
  {
   "cell_type": "code",
   "execution_count": 7,
   "metadata": {},
   "outputs": [],
   "source": [
    "# [x for x in all_ques1 if x in all_ques2]"
   ]
  },
  {
   "cell_type": "code",
   "execution_count": 8,
   "metadata": {},
   "outputs": [],
   "source": [
    "import numpy as np\n",
    "\n",
    "\n",
    "def get_prompt(dataset, index, location=-1, has_choice=False,dataset_index=0):\n",
    "    is_test=dataset_index==2\n",
    "    is_validation=dataset_index==1\n",
    "    try:\n",
    "        json_line = dataset[index]\n",
    "        question = json_line[\"question\"]\n",
    "        choices = json_line[\"choices\"]\n",
    "        choice_texts = choices[\"text\"]\n",
    "        if not is_test:\n",
    "            answer_key = json_line[\"answerKey\"]\n",
    "            answer_key_idx = ord(answer_key[0]) - ord(\"A\")\n",
    "            answer_text = choices[\"text\"][answer_key_idx]\n",
    "            if location>-1:\n",
    "                perm=np.random.permutation(len(choice_texts)-1)\n",
    "                choice_texts.remove(answer_text)\n",
    "                choice_texts = [choice_texts[perm[i]].replace(\"\\n\", \" \") for i in range(len(choice_texts))]\n",
    "                choice_texts.insert(location, answer_text)\n",
    "        if location==-1:\n",
    "            perm=list(range(NUM_CHOICE))\n",
    "            choice_texts = [choice_texts[perm[i]].replace(\"\\n\", \" \") for i in range(len(choice_texts))]\n",
    "        candidates = \" \".join(\n",
    "            [\n",
    "                f\"({label if has_choice else ' '}) {text}\"\n",
    "                for text, label in zip(choice_texts, choices[\"label\"])\n",
    "            ]\n",
    "        ).replace(\"\\n\", \" \")\n",
    "        \n",
    "        # print(answer_key_idx,answer_text)\n",
    "        fact = ''\n",
    "        if is_test:\n",
    "            prompt = f\"{question} \\\\n {candidates}\"\n",
    "            return [(json_line['id'],prompt)]\n",
    "        else:\n",
    "            fact=f\"{json_line['combinedfact']}{'' if json_line['combinedfact'][-1]=='.' else '.'}\"\n",
    "            prompt_without_hint = f\"{question} \\\\n {candidates}\"\n",
    "            prompt_with_hint = f\"{fact} {prompt_without_hint}\"\n",
    "            if is_validation:\n",
    "                # only need one version\n",
    "                return [(prompt_with_hint, answer_text)]\n",
    "            # if training set\n",
    "            return  [(prompt_without_hint, answer_text)] #,(prompt_with_hint, answer_text)]\n",
    "    except:\n",
    "        raise Exception(f'Answer key is {answer_key}')\n",
    "        # print(\"QUESTION: \", question, \"ANSWER KEY\", answer_key)"
   ]
  },
  {
   "cell_type": "code",
   "execution_count": 9,
   "metadata": {},
   "outputs": [
    {
     "name": "stderr",
     "output_type": "stream",
     "text": [
      "100%|██████████| 8134/8134 [00:01<00:00, 6194.99it/s]\n",
      "100%|██████████| 926/926 [00:00<00:00, 6998.29it/s]\n",
      "100%|██████████| 920/920 [00:00<00:00, 3093.48it/s]\n"
     ]
    }
   ],
   "source": [
    "import random\n",
    "from tqdm import tqdm, trange\n",
    "import pickle\n",
    "\n",
    "if NUM_PERMUTE_QUESTION:\n",
    "    container = []\n",
    "    each_choice_has=EACH_HAS/NUM_CHOICE\n",
    "    for ques_index in trange(NUM_PERMUTE_QUESTION):\n",
    "        for idx in range(EACH_HAS):\n",
    "            location=int(idx/each_choice_has)\n",
    "            content=get_prompt(dataset[1], ques_index, location, has_choice=False)\n",
    "            # print(content, location)\n",
    "            container.append(content)\n",
    "            \n",
    "    pickle.dump(\n",
    "        (NUM_PERMUTE_QUESTION, EACH_HAS, container),\n",
    "        open(f\"{DATASET_NAME}_test_permute.pkl\", \"wb\"),\n",
    "    )\n",
    "else:\n",
    "    for index, dataname in enumerate([\"train\", 'validate',\"test\"]):\n",
    "        container = []\n",
    "        for ques_index, ques in enumerate(tqdm(dataset[index])):\n",
    "            container.extend(get_prompt(dataset[index], ques_index, has_choice=False, dataset_index=index))\n",
    "        pickle.dump(container, open(f\"{DATASET_NAME}_{dataname}.pkl\", \"wb\"))"
   ]
  }
 ],
 "metadata": {
  "kernelspec": {
   "display_name": "Python 3 (ipykernel)",
   "language": "python",
   "name": "python3"
  },
  "language_info": {
   "codemirror_mode": {
    "name": "ipython",
    "version": 3
   },
   "file_extension": ".py",
   "mimetype": "text/x-python",
   "name": "python",
   "nbconvert_exporter": "python",
   "pygments_lexer": "ipython3",
   "version": "3.11.5"
  },
  "vscode": {
   "interpreter": {
    "hash": "69f52fabb15766d39c6bf90ba53c555c905cb082f5a671ecb5c4487727b3f015"
   }
  }
 },
 "nbformat": 4,
 "nbformat_minor": 4
}
