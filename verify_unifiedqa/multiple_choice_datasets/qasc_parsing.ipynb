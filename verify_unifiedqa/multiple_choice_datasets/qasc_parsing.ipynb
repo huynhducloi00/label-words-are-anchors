{
 "cells": [
  {
   "cell_type": "code",
   "execution_count": 35,
   "metadata": {},
   "outputs": [],
   "source": [
    "from datasets import load_dataset\n",
    "DATASET_NAME='qasc'\n",
    "dataset = load_dataset(\"allenai/qasc\", \"\", split=[\"train\", \"validation\"])"
   ]
  },
  {
   "cell_type": "code",
   "execution_count": 36,
   "metadata": {},
   "outputs": [
    {
     "data": {
      "text/plain": [
       "8"
      ]
     },
     "execution_count": 36,
     "metadata": {},
     "output_type": "execute_result"
    }
   ],
   "source": [
    "choice_len=max([len(x['label']) for x in dataset[1]['choices']])\n",
    "choice_len"
   ]
  },
  {
   "cell_type": "code",
   "execution_count": 46,
   "metadata": {
    "tags": [
     "parameters"
    ]
   },
   "outputs": [],
   "source": [
    "NUM_PERMUTE_QUESTION=10\n",
    "EACH_HAS=50"
   ]
  },
  {
   "cell_type": "code",
   "execution_count": 47,
   "metadata": {},
   "outputs": [],
   "source": [
    "# all_ques1=[x for x in dataset[0]['id']]\n",
    "# all_ques2=[x for x in dataset[1]['id']]"
   ]
  },
  {
   "cell_type": "code",
   "execution_count": 48,
   "metadata": {},
   "outputs": [],
   "source": [
    "# [x for x in all_ques1 if x in all_ques2]"
   ]
  },
  {
   "cell_type": "code",
   "execution_count": 49,
   "metadata": {},
   "outputs": [],
   "source": [
    "def get_prompt(dataset, index,perm=None,  has_choice=False):\n",
    "    try:\n",
    "        json_line = dataset[index]\n",
    "        question = json_line[\"question\"]\n",
    "        choices = json_line[\"choices\"]\n",
    "        choice_texts = choices[\"text\"]\n",
    "        choice_texts = [choice_texts[perm[i]].replace(\"\\n\", \" \") for i in range(len(choice_texts))]\n",
    "        candidates = \" \".join(\n",
    "            [\n",
    "                f\"({label if has_choice else ' '}) {text}\"\n",
    "                for text, label in zip(choice_texts, choices[\"label\"])\n",
    "            ]\n",
    "        ).replace(\"\\n\", \" \")\n",
    "        answer_key = json_line[\"answerKey\"]\n",
    "        answer_key_idx = ord(answer_key[0]) - ord(\"A\")\n",
    "        answer_text = choice_texts[answer_key_idx]\n",
    "        fact = f\"{json_line['combinedfact']}{'' if json_line['combinedfact'][-1]=='.' else '.'}\"\n",
    "        prompt = f\"{fact} {question} \\\\n {candidates}\"\n",
    "        return prompt, answer_text\n",
    "    except:\n",
    "        print('QUESTION: ',question,'ANSWER KEY', answer_key)"
   ]
  },
  {
   "cell_type": "code",
   "execution_count": 50,
   "metadata": {},
   "outputs": [],
   "source": [
    "import itertools\n",
    "\n",
    "\n",
    "all_permutes=list(itertools.permutations(list(range(choice_len))))"
   ]
  },
  {
   "cell_type": "code",
   "execution_count": 51,
   "metadata": {},
   "outputs": [
    {
     "name": "stderr",
     "output_type": "stream",
     "text": [
      "100%|██████████| 50/50 [00:00<00:00, 7356.62it/s]\n",
      "100%|██████████| 50/50 [00:00<00:00, 4382.21it/s]\n",
      "100%|██████████| 50/50 [00:00<00:00, 4916.77it/s]\n",
      "100%|██████████| 50/50 [00:00<00:00, 4909.18it/s]\n",
      "100%|██████████| 50/50 [00:00<00:00, 4803.81it/s]\n",
      "100%|██████████| 50/50 [00:00<00:00, 4911.94it/s]\n",
      "100%|██████████| 50/50 [00:00<00:00, 4864.99it/s]\n",
      "100%|██████████| 50/50 [00:00<00:00, 5036.03it/s]\n",
      "100%|██████████| 50/50 [00:00<00:00, 5407.12it/s]\n",
      "100%|██████████| 50/50 [00:00<00:00, 5077.48it/s]\n",
      "100%|██████████| 10/10 [00:00<00:00, 71.25it/s]\n"
     ]
    }
   ],
   "source": [
    "import random\n",
    "from tqdm import tqdm, trange\n",
    "import pickle\n",
    "if NUM_PERMUTE_QUESTION:\n",
    "    container=[]\n",
    "    for ques_index in trange(NUM_PERMUTE_QUESTION):\n",
    "        selection=random.sample(all_permutes,EACH_HAS)\n",
    "        for perm in tqdm(selection):\n",
    "            container.append(\n",
    "                    get_prompt(dataset[1],ques_index,perm,  has_choice=False)\n",
    "                )\n",
    "    pickle.dump(container, open(f\"{DATASET_NAME}_test_permute.pkl\", \"wb\"))\n",
    "else:\n",
    "    for index, dataname in enumerate(['train','test']):\n",
    "        container=[]\n",
    "        for ques_index, ques in enumerate(tqdm(dataset[index])):\n",
    "            container.append(\n",
    "                    get_prompt(dataset[index], ques_index, has_choice=False)\n",
    "                )\n",
    "        pickle.dump(container, open(f\"{DATASET_NAME}_{dataname}.pkl\", \"wb\"))"
   ]
  }
 ],
 "metadata": {
  "kernelspec": {
   "display_name": "Python 3.10.10 ('wm')",
   "language": "python",
   "name": "python3"
  },
  "language_info": {
   "codemirror_mode": {
    "name": "ipython",
    "version": 3
   },
   "file_extension": ".py",
   "mimetype": "text/x-python",
   "name": "python",
   "nbconvert_exporter": "python",
   "pygments_lexer": "ipython3",
   "version": "3.10.12"
  },
  "orig_nbformat": 4,
  "vscode": {
   "interpreter": {
    "hash": "69f52fabb15766d39c6bf90ba53c555c905cb082f5a671ecb5c4487727b3f015"
   }
  }
 },
 "nbformat": 4,
 "nbformat_minor": 2
}
