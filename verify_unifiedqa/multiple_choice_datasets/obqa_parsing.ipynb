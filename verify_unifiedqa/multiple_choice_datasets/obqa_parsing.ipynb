{
 "cells": [
  {
   "cell_type": "code",
   "execution_count": null,
   "metadata": {},
   "outputs": [],
   "source": [
    "from datasets import load_dataset\n",
    "\n",
    "dataset = load_dataset(\"openbookqa\", \"main\", split=[\"train\", \"test\"])"
   ]
  },
  {
   "cell_type": "code",
   "execution_count": null,
   "metadata": {},
   "outputs": [],
   "source": [
    "def get_prompt(dataset, index, perm=[0, 1, 2, 3], has_choice=False):\n",
    "    json_line = dataset[index]\n",
    "    question = json_line[\"question_stem\"]\n",
    "    choices = json_line[\"choices\"]\n",
    "    choice_texts = choices[\"text\"]\n",
    "    choice_texts = [choice_texts[perm[i]] for i in range(len(choice_texts))]\n",
    "    candidates = \" \".join(\n",
    "        [\n",
    "            f\"({label if has_choice else ' '}) {text}\"\n",
    "            for text, label in zip(choice_texts, choices[\"label\"])\n",
    "        ]\n",
    "    ).replace(\"\\n\", \" \")\n",
    "    answer_key = json_line[\"answerKey\"]\n",
    "    answer_key_idx = ord(answer_key[0]) - ord(\"A\")\n",
    "    answer_text = choices[\"text\"][answer_key_idx]\n",
    "    question_pad = f\"{question} \\\\n \"\n",
    "    prompt = f\"{question_pad}{candidates}\"\n",
    "    return prompt, answer_text"
   ]
  },
  {
   "cell_type": "code",
   "execution_count": null,
   "metadata": {},
   "outputs": [],
   "source": [
    "import itertools\n",
    "\n",
    "perm_order = list(itertools.permutations([0, 1, 2, 3], 4))"
   ]
  },
  {
   "cell_type": "code",
   "execution_count": 53,
   "metadata": {},
   "outputs": [
    {
     "name": "stderr",
     "output_type": "stream",
     "text": [
      "  0%|          | 0/4957 [00:00<?, ?it/s]"
     ]
    },
    {
     "name": "stderr",
     "output_type": "stream",
     "text": [
      "100%|██████████| 4957/4957 [00:19<00:00, 253.80it/s]\n"
     ]
    }
   ],
   "source": [
    "from tqdm import tqdm\n",
    "import pickle\n",
    "\n",
    "train_without_abcd = []\n",
    "for index, ques in enumerate(tqdm(dataset[0])):\n",
    "    for order in perm_order:\n",
    "        train_without_abcd.append(\n",
    "            get_prompt(dataset[0], index, order, has_choice=False)\n",
    "        )\n",
    "pickle.dump(train_without_abcd, open(\"train_without_abcd.pkl\", \"wb\"))\n",
    "\n",
    "test_without_abcd = []\n",
    "for index, ques in enumerate(tqdm(dataset[1])):\n",
    "    for order in perm_order:\n",
    "        test_without_abcd.append(\n",
    "            get_prompt(dataset[1], index, order, has_choice=False)\n",
    "        )\n",
    "pickle.dump(test_without_abcd, open(\"test_without_abcd.pkl\", \"wb\"))"
   ]
  },
  {
   "cell_type": "code",
   "execution_count": 52,
   "metadata": {},
   "outputs": [],
   "source": [
    "import json\n",
    "import pickle\n",
    "obj = pickle.load(open(\"test_with_abcd.pkl\", \"rb\"))\n",
    "\n",
    "with open(\"test_with_abcd.txt\", \"w\") as f:\n",
    "    json.dump(obj, f, indent=2)\n"
   ]
  },
  {
   "cell_type": "code",
   "execution_count": 3,
   "metadata": {},
   "outputs": [],
   "source": [
    "# def get_prompt(index, perm):\n",
    "#     json_line = dataset[\"test\"][index]\n",
    "#     question = json_line[\"question_stem\"]\n",
    "#     choices = json_line[\"choices\"]\n",
    "#     choice_texts = choices[\"text\"]\n",
    "#     choice_texts = [choice_texts[perm[i]] for i in range(len(choice_texts))]\n",
    "\n",
    "#     def change(text, leng=20, is_question=False):\n",
    "#         pad_x = [0] * leng\n",
    "#         encoded = tokenizer.encode(text)[:-1]\n",
    "#         if len(encoded) > leng:\n",
    "#             print(\"too long \", len(encoded), leng, is_question)\n",
    "#         pad_x[: len(encoded)] = encoded\n",
    "#         return tokenizer.decode(pad_x)\n",
    "\n",
    "#     candidates = \" \".join(\n",
    "#         [\n",
    "#             change(f\"( ) {text}\", ANSWER_PAD)\n",
    "#             for text, label in zip(choice_texts, choices[\"label\"])\n",
    "#         ]\n",
    "#     ).replace(\"\\n\", \" \")\n",
    "#     # print(json_line)\n",
    "#     answer_key = json_line[\"answerKey\"]\n",
    "#     answer_key_idx = ord(answer_key[0]) - ord(\"A\")\n",
    "#     # answer_text = choice_texts[answer_key_idx]\n",
    "#     # id = \"OBQA_\" + json_line['id']\n",
    "#     question_pad = f\"{question} \\\\n \"\n",
    "#     prompt = f\"{change(question_pad,QUESTION_PAD, is_question=True)}{candidates}\"\n",
    "#     return prompt, choice_texts"
   ]
  }
 ],
 "metadata": {
  "kernelspec": {
   "display_name": "Python 3.10.10 ('wm')",
   "language": "python",
   "name": "python3"
  },
  "language_info": {
   "codemirror_mode": {
    "name": "ipython",
    "version": 3
   },
   "file_extension": ".py",
   "mimetype": "text/x-python",
   "name": "python",
   "nbconvert_exporter": "python",
   "pygments_lexer": "ipython3",
   "version": "3.10.12"
  },
  "orig_nbformat": 4,
  "vscode": {
   "interpreter": {
    "hash": "69f52fabb15766d39c6bf90ba53c555c905cb082f5a671ecb5c4487727b3f015"
   }
  }
 },
 "nbformat": 4,
 "nbformat_minor": 2
}
