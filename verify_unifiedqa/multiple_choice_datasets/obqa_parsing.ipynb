{
 "cells": [
  {
   "cell_type": "code",
   "execution_count": 1,
   "metadata": {},
   "outputs": [],
   "source": [
    "from datasets import load_dataset\n",
    "\n",
    "dataset = load_dataset(\"openbookqa\", \"additional\", split=[\"train\", \"test\"])"
   ]
  },
  {
   "cell_type": "code",
   "execution_count": 14,
   "metadata": {
    "tags": [
     "parameters"
    ]
   },
   "outputs": [],
   "source": [
    "NUM_PERMUTE_QUESTION=10\n",
    "EACH_HAS=24\n",
    "NUM_CHOICE=4"
   ]
  },
  {
   "cell_type": "code",
   "execution_count": 23,
   "metadata": {},
   "outputs": [],
   "source": [
    "import random\n",
    "\n",
    "\n",
    "total_ques=NUM_PERMUTE_QUESTION*EACH_HAS\n",
    "each_choice=int(total_ques/NUM_CHOICE)\n",
    "choice_rank=[[] for _ in range(NUM_CHOICE)]\n",
    "all_index=list(range(total_ques))\n",
    "random.shuffle(all_index)\n",
    "for idx in range(NUM_CHOICE):\n",
    "    choice_rank[idx]=all_index[idx:(idx+1)*each_choice]"
   ]
  },
  {
   "cell_type": "code",
   "execution_count": 3,
   "metadata": {},
   "outputs": [
    {
     "data": {
      "text/plain": [
       "{'id': '7-980',\n",
       " 'question_stem': 'The sun is responsible for',\n",
       " 'choices': {'text': ['puppies learning new tricks',\n",
       "   'children growing up and getting old',\n",
       "   'flowers wilting in a vase',\n",
       "   'plants sprouting, blooming and wilting'],\n",
       "  'label': ['A', 'B', 'C', 'D']},\n",
       " 'answerKey': 'D',\n",
       " 'fact1': 'the sun is the source of energy for physical cycles on Earth',\n",
       " 'humanScore': 1.0,\n",
       " 'clarity': 2.0,\n",
       " 'turkIdAnonymized': 'b356d338b7'}"
      ]
     },
     "execution_count": 3,
     "metadata": {},
     "output_type": "execute_result"
    }
   ],
   "source": [
    "dataset[0][0]"
   ]
  },
  {
   "cell_type": "code",
   "execution_count": 29,
   "metadata": {},
   "outputs": [],
   "source": [
    "import numpy as np\n",
    "\n",
    "\n",
    "def get_prompt(dataset, index, location, has_choice=False):\n",
    "    json_line = dataset[index]\n",
    "    question = json_line[\"question_stem\"]\n",
    "    choices = json_line[\"choices\"]\n",
    "    choice_texts = choices[\"text\"]\n",
    "    answer_key = json_line[\"answerKey\"]\n",
    "    answer_key_idx = ord(answer_key[0]) - ord(\"A\")\n",
    "    answer_text = choices[\"text\"][answer_key_idx]\n",
    "    perm=np.random.permutation(len(choice_texts)-1)\n",
    "    choice_texts.remove(answer_text)\n",
    "    choice_texts = [choice_texts[perm[i]].replace(\"\\n\", \" \") for i in range(len(choice_texts))]\n",
    "    choice_texts.insert(location, answer_text)\n",
    "    candidates = \" \".join(\n",
    "        [\n",
    "            f\"({label if has_choice else ' '}) {text}\"\n",
    "            for text, label in zip(choice_texts, choices[\"label\"])\n",
    "        ]\n",
    "    ).replace(\"\\n\", \" \")\n",
    "    \n",
    "    fact = f\"{json_line['fact1']}{'' if json_line['fact1'][-1]=='.' else '.'}\"\n",
    "    prompt = f\"{fact} {question} \\\\n {candidates}\"\n",
    "    return prompt, answer_text"
   ]
  },
  {
   "cell_type": "code",
   "execution_count": 30,
   "metadata": {},
   "outputs": [
    {
     "data": {
      "text/plain": [
       "{'id': '8-343',\n",
       " 'question_stem': 'A person wants to start saving money so that they can afford a nice vacation at the end of the year. After looking over their budget and expenses, they decide the best way to save money is to',\n",
       " 'choices': {'text': ['make more phone calls',\n",
       "   'quit eating lunch out',\n",
       "   'buy less with monopoly money',\n",
       "   'have lunch with friends'],\n",
       "  'label': ['A', 'B', 'C', 'D']},\n",
       " 'answerKey': 'B',\n",
       " 'fact1': 'using less resources usually causes money to be saved',\n",
       " 'humanScore': 1.0,\n",
       " 'clarity': 2.0,\n",
       " 'turkIdAnonymized': 'b356d338b7'}"
      ]
     },
     "execution_count": 30,
     "metadata": {},
     "output_type": "execute_result"
    }
   ],
   "source": [
    "dataset[1][0]"
   ]
  },
  {
   "cell_type": "code",
   "execution_count": 31,
   "metadata": {},
   "outputs": [
    {
     "name": "stderr",
     "output_type": "stream",
     "text": [
      "100%|██████████| 10/10 [00:00<00:00, 229.01it/s]\n"
     ]
    }
   ],
   "source": [
    "from tqdm import tqdm, trange\n",
    "import pickle\n",
    "DATASET_NAME='obqa_fact'\n",
    "if NUM_PERMUTE_QUESTION:\n",
    "    container=[]\n",
    "    each_choice_has=EACH_HAS/NUM_CHOICE\n",
    "    for ques_index in trange(NUM_PERMUTE_QUESTION):\n",
    "        for idx in range(EACH_HAS):\n",
    "            location=int(idx/each_choice_has)\n",
    "            container.append(\n",
    "                    get_prompt(dataset[1],ques_index,location,  has_choice=False)\n",
    "                )\n",
    "    pickle.dump((NUM_PERMUTE_QUESTION, EACH_HAS, container), open(f\"{DATASET_NAME}_test_permute.pkl\", \"wb\"))\n",
    "else:\n",
    "    for index, dataname in enumerate(['train','test']):\n",
    "        container=[]\n",
    "        for ques_index, ques in enumerate(tqdm(dataset[index])):\n",
    "            container.append(\n",
    "                    get_prompt(dataset[index], ques_index, has_choice=False)\n",
    "                )\n",
    "        pickle.dump(container, open(f\"{DATASET_NAME}_{dataname}.pkl\", \"wb\"))"
   ]
  }
 ],
 "metadata": {
  "kernelspec": {
   "display_name": "Python 3.10.10 ('wm')",
   "language": "python",
   "name": "python3"
  },
  "language_info": {
   "codemirror_mode": {
    "name": "ipython",
    "version": 3
   },
   "file_extension": ".py",
   "mimetype": "text/x-python",
   "name": "python",
   "nbconvert_exporter": "python",
   "pygments_lexer": "ipython3",
   "version": "3.10.12"
  },
  "orig_nbformat": 4,
  "vscode": {
   "interpreter": {
    "hash": "69f52fabb15766d39c6bf90ba53c555c905cb082f5a671ecb5c4487727b3f015"
   }
  }
 },
 "nbformat": 4,
 "nbformat_minor": 2
}
