{
 "cells": [
  {
   "cell_type": "code",
   "execution_count": 1,
   "metadata": {},
   "outputs": [
    {
     "name": "stderr",
     "output_type": "stream",
     "text": [
      "/home/ldh0033@auburn.edu/loi_research/leveraging-llms-for-mcqa/loi_test/label-words-are-anchors/.venv/lib/python3.10/site-packages/tqdm/auto.py:21: TqdmWarning: IProgress not found. Please update jupyter and ipywidgets. See https://ipywidgets.readthedocs.io/en/stable/user_install.html\n",
      "  from .autonotebook import tqdm as notebook_tqdm\n",
      "Downloading data: 100%|██████████| 635k/635k [00:01<00:00, 548kB/s]\n",
      "Downloading data: 100%|██████████| 75.9k/75.9k [00:00<00:00, 114kB/s]\n",
      "Downloading data: 100%|██████████| 72.5k/72.5k [00:01<00:00, 72.4kB/s]\n",
      "Generating train split: 100%|██████████| 4957/4957 [00:00<00:00, 108120.07 examples/s]\n",
      "Generating validation split: 100%|██████████| 500/500 [00:00<00:00, 96785.67 examples/s]\n",
      "Generating test split: 100%|██████████| 500/500 [00:00<00:00, 88847.31 examples/s]\n"
     ]
    }
   ],
   "source": [
    "from datasets import load_dataset\n",
    "\n",
    "dataset = load_dataset(\"openbookqa\", \"additional\", split=[\"train\", \"test\"])"
   ]
  },
  {
   "cell_type": "code",
   "execution_count": 2,
   "metadata": {},
   "outputs": [
    {
     "data": {
      "text/plain": [
       "{'id': '7-980',\n",
       " 'question_stem': 'The sun is responsible for',\n",
       " 'choices': {'text': ['puppies learning new tricks',\n",
       "   'children growing up and getting old',\n",
       "   'flowers wilting in a vase',\n",
       "   'plants sprouting, blooming and wilting'],\n",
       "  'label': ['A', 'B', 'C', 'D']},\n",
       " 'answerKey': 'D',\n",
       " 'fact1': 'the sun is the source of energy for physical cycles on Earth',\n",
       " 'humanScore': 1.0,\n",
       " 'clarity': 2.0,\n",
       " 'turkIdAnonymized': 'b356d338b7'}"
      ]
     },
     "execution_count": 2,
     "metadata": {},
     "output_type": "execute_result"
    }
   ],
   "source": [
    "dataset[0][0]"
   ]
  },
  {
   "cell_type": "code",
   "execution_count": 3,
   "metadata": {},
   "outputs": [],
   "source": [
    "def get_prompt(dataset, index, perm=[0, 1, 2, 3], has_choice=False):\n",
    "    json_line = dataset[index]\n",
    "    question = json_line[\"question_stem\"]\n",
    "    choices = json_line[\"choices\"]\n",
    "    choice_texts = choices[\"text\"]\n",
    "    choice_texts = [choice_texts[perm[i]] for i in range(len(choice_texts))]\n",
    "    candidates = \" \".join(\n",
    "        [\n",
    "            f\"({label if has_choice else ' '}) {text}\"\n",
    "            for text, label in zip(choice_texts, choices[\"label\"])\n",
    "        ]\n",
    "    ).replace(\"\\n\", \" \")\n",
    "    answer_key = json_line[\"answerKey\"]\n",
    "    answer_key_idx = ord(answer_key[0]) - ord(\"A\")\n",
    "    answer_text = choices[\"text\"][answer_key_idx]\n",
    "    prompt = f\"{json_line['fact1']}. {question} \\\\n {candidates}\"\n",
    "    return prompt, answer_text"
   ]
  },
  {
   "cell_type": "code",
   "execution_count": 4,
   "metadata": {},
   "outputs": [
    {
     "name": "stderr",
     "output_type": "stream",
     "text": [
      "100%|██████████| 4957/4957 [00:01<00:00, 3691.61it/s]\n",
      "100%|██████████| 500/500 [00:00<00:00, 3961.95it/s]\n"
     ]
    }
   ],
   "source": [
    "from tqdm import tqdm\n",
    "import pickle\n",
    "DATASET_NAME='obqa_fact'\n",
    "for index, dataname in enumerate(['train','test']):\n",
    "    container=[]\n",
    "    for ques_index, ques in enumerate(tqdm(dataset[index])):\n",
    "        container.append(\n",
    "                get_prompt(dataset[index], ques_index, has_choice=False)\n",
    "            )\n",
    "    pickle.dump(container, open(f\"{DATASET_NAME}_{dataname}.pkl\", \"wb\"))"
   ]
  },
  {
   "cell_type": "code",
   "execution_count": 52,
   "metadata": {},
   "outputs": [],
   "source": [
    "import json\n",
    "import pickle\n",
    "obj = pickle.load(open(\"test_with_abcd.pkl\", \"rb\"))\n",
    "\n",
    "with open(\"test_with_abcd.txt\", \"w\") as f:\n",
    "    json.dump(obj, f, indent=2)\n"
   ]
  },
  {
   "cell_type": "code",
   "execution_count": 3,
   "metadata": {},
   "outputs": [],
   "source": [
    "# def get_prompt(index, perm):\n",
    "#     json_line = dataset[\"test\"][index]\n",
    "#     question = json_line[\"question_stem\"]\n",
    "#     choices = json_line[\"choices\"]\n",
    "#     choice_texts = choices[\"text\"]\n",
    "#     choice_texts = [choice_texts[perm[i]] for i in range(len(choice_texts))]\n",
    "\n",
    "#     def change(text, leng=20, is_question=False):\n",
    "#         pad_x = [0] * leng\n",
    "#         encoded = tokenizer.encode(text)[:-1]\n",
    "#         if len(encoded) > leng:\n",
    "#             print(\"too long \", len(encoded), leng, is_question)\n",
    "#         pad_x[: len(encoded)] = encoded\n",
    "#         return tokenizer.decode(pad_x)\n",
    "\n",
    "#     candidates = \" \".join(\n",
    "#         [\n",
    "#             change(f\"( ) {text}\", ANSWER_PAD)\n",
    "#             for text, label in zip(choice_texts, choices[\"label\"])\n",
    "#         ]\n",
    "#     ).replace(\"\\n\", \" \")\n",
    "#     # print(json_line)\n",
    "#     answer_key = json_line[\"answerKey\"]\n",
    "#     answer_key_idx = ord(answer_key[0]) - ord(\"A\")\n",
    "#     # answer_text = choice_texts[answer_key_idx]\n",
    "#     # id = \"OBQA_\" + json_line['id']\n",
    "#     question_pad = f\"{question} \\\\n \"\n",
    "#     prompt = f\"{change(question_pad,QUESTION_PAD, is_question=True)}{candidates}\"\n",
    "#     return prompt, choice_texts"
   ]
  }
 ],
 "metadata": {
  "kernelspec": {
   "display_name": "Python 3.10.10 ('wm')",
   "language": "python",
   "name": "python3"
  },
  "language_info": {
   "codemirror_mode": {
    "name": "ipython",
    "version": 3
   },
   "file_extension": ".py",
   "mimetype": "text/x-python",
   "name": "python",
   "nbconvert_exporter": "python",
   "pygments_lexer": "ipython3",
   "version": "3.10.12"
  },
  "orig_nbformat": 4,
  "vscode": {
   "interpreter": {
    "hash": "69f52fabb15766d39c6bf90ba53c555c905cb082f5a671ecb5c4487727b3f015"
   }
  }
 },
 "nbformat": 4,
 "nbformat_minor": 2
}
