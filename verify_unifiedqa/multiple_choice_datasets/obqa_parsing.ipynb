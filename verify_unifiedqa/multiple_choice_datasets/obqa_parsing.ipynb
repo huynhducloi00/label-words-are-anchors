{
 "cells": [
  {
   "cell_type": "code",
   "execution_count": 1,
   "metadata": {},
   "outputs": [],
   "source": [
    "from datasets import load_dataset\n",
    "\n",
    "dataset = load_dataset(\"openbookqa\", \"additional\", split=[\"train\", \"test\"])"
   ]
  },
  {
   "cell_type": "code",
   "execution_count": 2,
   "metadata": {
    "tags": [
     "parameters"
    ]
   },
   "outputs": [],
   "source": [
    "NUM_PERMUTE_QUESTION=10\n",
    "EACH_HAS=24"
   ]
  },
  {
   "cell_type": "code",
   "execution_count": 3,
   "metadata": {},
   "outputs": [
    {
     "data": {
      "text/plain": [
       "{'id': '7-980',\n",
       " 'question_stem': 'The sun is responsible for',\n",
       " 'choices': {'text': ['puppies learning new tricks',\n",
       "   'children growing up and getting old',\n",
       "   'flowers wilting in a vase',\n",
       "   'plants sprouting, blooming and wilting'],\n",
       "  'label': ['A', 'B', 'C', 'D']},\n",
       " 'answerKey': 'D',\n",
       " 'fact1': 'the sun is the source of energy for physical cycles on Earth',\n",
       " 'humanScore': 1.0,\n",
       " 'clarity': 2.0,\n",
       " 'turkIdAnonymized': 'b356d338b7'}"
      ]
     },
     "execution_count": 3,
     "metadata": {},
     "output_type": "execute_result"
    }
   ],
   "source": [
    "dataset[0][0]"
   ]
  },
  {
   "cell_type": "code",
   "execution_count": 4,
   "metadata": {},
   "outputs": [],
   "source": [
    "def get_prompt(dataset, index, perm=[0, 1, 2, 3], has_choice=False):\n",
    "    json_line = dataset[index]\n",
    "    question = json_line[\"question_stem\"]\n",
    "    choices = json_line[\"choices\"]\n",
    "    choice_texts = choices[\"text\"]\n",
    "    choice_texts = [choice_texts[perm[i]].replace(\"\\n\", \" \") for i in range(len(choice_texts))]\n",
    "    candidates = \" \".join(\n",
    "        [\n",
    "            f\"({label if has_choice else ' '}) {text}\"\n",
    "            for text, label in zip(choice_texts, choices[\"label\"])\n",
    "        ]\n",
    "    ).replace(\"\\n\", \" \")\n",
    "    answer_key = json_line[\"answerKey\"]\n",
    "    answer_key_idx = ord(answer_key[0]) - ord(\"A\")\n",
    "    answer_text = choices[\"text\"][answer_key_idx]\n",
    "    fact = f\"{json_line['fact1']}{'' if json_line['fact1'][-1]=='.' else '.'}\"\n",
    "    prompt = f\"{fact} {question} \\\\n {candidates}\"\n",
    "    return prompt, answer_text"
   ]
  },
  {
   "cell_type": "code",
   "execution_count": 5,
   "metadata": {},
   "outputs": [],
   "source": [
    "import itertools\n",
    "\n",
    "\n",
    "all_permutes=list(itertools.permutations([0,1, 2, 3]))"
   ]
  },
  {
   "cell_type": "code",
   "execution_count": 6,
   "metadata": {},
   "outputs": [
    {
     "data": {
      "text/plain": [
       "{'id': '8-343',\n",
       " 'question_stem': 'A person wants to start saving money so that they can afford a nice vacation at the end of the year. After looking over their budget and expenses, they decide the best way to save money is to',\n",
       " 'choices': {'text': ['make more phone calls',\n",
       "   'quit eating lunch out',\n",
       "   'buy less with monopoly money',\n",
       "   'have lunch with friends'],\n",
       "  'label': ['A', 'B', 'C', 'D']},\n",
       " 'answerKey': 'B',\n",
       " 'fact1': 'using less resources usually causes money to be saved',\n",
       " 'humanScore': 1.0,\n",
       " 'clarity': 2.0,\n",
       " 'turkIdAnonymized': 'b356d338b7'}"
      ]
     },
     "execution_count": 6,
     "metadata": {},
     "output_type": "execute_result"
    }
   ],
   "source": [
    "dataset[1][0]"
   ]
  },
  {
   "cell_type": "code",
   "execution_count": 9,
   "metadata": {},
   "outputs": [
    {
     "name": "stderr",
     "output_type": "stream",
     "text": [
      "100%|██████████| 24/24 [00:00<00:00, 3124.54it/s]\n",
      "100%|██████████| 24/24 [00:00<00:00, 5197.40it/s]\n",
      "100%|██████████| 24/24 [00:00<00:00, 5248.62it/s]\n",
      "100%|██████████| 24/24 [00:00<00:00, 5325.82it/s]\n",
      "100%|██████████| 24/24 [00:00<00:00, 6043.30it/s]\n",
      "100%|██████████| 24/24 [00:00<00:00, 6116.00it/s]\n",
      "100%|██████████| 24/24 [00:00<00:00, 5386.81it/s]\n",
      "100%|██████████| 24/24 [00:00<00:00, 5283.05it/s]\n",
      "100%|██████████| 24/24 [00:00<00:00, 5443.02it/s]\n",
      "100%|██████████| 24/24 [00:00<00:00, 6056.03it/s]\n",
      "100%|██████████| 10/10 [00:00<00:00, 113.48it/s]\n"
     ]
    }
   ],
   "source": [
    "from tqdm import tqdm, trange\n",
    "import pickle\n",
    "DATASET_NAME='obqa_fact'\n",
    "if NUM_PERMUTE_QUESTION:\n",
    "    container=[]\n",
    "    for ques_index in trange(NUM_PERMUTE_QUESTION):\n",
    "        for perm in tqdm(all_permutes):\n",
    "            container.append(\n",
    "                    get_prompt(dataset[1],ques_index,perm,  has_choice=False)\n",
    "                )\n",
    "    pickle.dump((NUM_PERMUTE_QUESTION, EACH_HAS, container), open(f\"{DATASET_NAME}_test_permute.pkl\", \"wb\"))\n",
    "else:\n",
    "    for index, dataname in enumerate(['train','test']):\n",
    "        container=[]\n",
    "        for ques_index, ques in enumerate(tqdm(dataset[index])):\n",
    "            container.append(\n",
    "                    get_prompt(dataset[index], ques_index, has_choice=False)\n",
    "                )\n",
    "        pickle.dump(container, open(f\"{DATASET_NAME}_{dataname}.pkl\", \"wb\"))"
   ]
  }
 ],
 "metadata": {
  "kernelspec": {
   "display_name": "Python 3.10.10 ('wm')",
   "language": "python",
   "name": "python3"
  },
  "language_info": {
   "codemirror_mode": {
    "name": "ipython",
    "version": 3
   },
   "file_extension": ".py",
   "mimetype": "text/x-python",
   "name": "python",
   "nbconvert_exporter": "python",
   "pygments_lexer": "ipython3",
   "version": "3.10.12"
  },
  "orig_nbformat": 4,
  "vscode": {
   "interpreter": {
    "hash": "69f52fabb15766d39c6bf90ba53c555c905cb082f5a671ecb5c4487727b3f015"
   }
  }
 },
 "nbformat": 4,
 "nbformat_minor": 2
}
