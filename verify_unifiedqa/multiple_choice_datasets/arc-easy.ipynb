{
 "cells": [
  {
   "cell_type": "code",
   "execution_count": 25,
   "metadata": {},
   "outputs": [
    {
     "data": {
      "application/vnd.jupyter.widget-view+json": {
       "model_id": "5d1bb2ae0a0040708ed1e5ad4687d15e",
       "version_major": 2,
       "version_minor": 0
      },
      "text/plain": [
       "Downloading data files:   0%|          | 0/3 [00:00<?, ?it/s]"
      ]
     },
     "metadata": {},
     "output_type": "display_data"
    },
    {
     "data": {
      "application/vnd.jupyter.widget-view+json": {
       "model_id": "efbb5e27a05445ff98284a25bf96392a",
       "version_major": 2,
       "version_minor": 0
      },
      "text/plain": [
       "Downloading data:   0%|          | 0.00/190k [00:00<?, ?B/s]"
      ]
     },
     "metadata": {},
     "output_type": "display_data"
    },
    {
     "data": {
      "application/vnd.jupyter.widget-view+json": {
       "model_id": "b402919515184cd8b842ec68323e8d52",
       "version_major": 2,
       "version_minor": 0
      },
      "text/plain": [
       "Downloading data:   0%|          | 0.00/204k [00:00<?, ?B/s]"
      ]
     },
     "metadata": {},
     "output_type": "display_data"
    },
    {
     "data": {
      "application/vnd.jupyter.widget-view+json": {
       "model_id": "d0f85217d45949baaef8d4705d846292",
       "version_major": 2,
       "version_minor": 0
      },
      "text/plain": [
       "Downloading data:   0%|          | 0.00/55.7k [00:00<?, ?B/s]"
      ]
     },
     "metadata": {},
     "output_type": "display_data"
    },
    {
     "data": {
      "application/vnd.jupyter.widget-view+json": {
       "model_id": "ddb85cb750394944806db3311e3b9550",
       "version_major": 2,
       "version_minor": 0
      },
      "text/plain": [
       "Extracting data files:   0%|          | 0/3 [00:00<?, ?it/s]"
      ]
     },
     "metadata": {},
     "output_type": "display_data"
    },
    {
     "data": {
      "application/vnd.jupyter.widget-view+json": {
       "model_id": "eece60d201134f42991a1be532f365ad",
       "version_major": 2,
       "version_minor": 0
      },
      "text/plain": [
       "Generating train split:   0%|          | 0/1119 [00:00<?, ? examples/s]"
      ]
     },
     "metadata": {},
     "output_type": "display_data"
    },
    {
     "data": {
      "application/vnd.jupyter.widget-view+json": {
       "model_id": "89aba2696619434cac12d6fe01ee36fc",
       "version_major": 2,
       "version_minor": 0
      },
      "text/plain": [
       "Generating test split:   0%|          | 0/1172 [00:00<?, ? examples/s]"
      ]
     },
     "metadata": {},
     "output_type": "display_data"
    },
    {
     "data": {
      "application/vnd.jupyter.widget-view+json": {
       "model_id": "631d653d017643f2b4e9f5bde5911b4c",
       "version_major": 2,
       "version_minor": 0
      },
      "text/plain": [
       "Generating validation split:   0%|          | 0/299 [00:00<?, ? examples/s]"
      ]
     },
     "metadata": {},
     "output_type": "display_data"
    }
   ],
   "source": [
    "from datasets import load_dataset\n",
    "# DATASET_NAME='arc_easy'\n",
    "# dataset = load_dataset(\"allenai/ai2_arc\", \"ARC-Easy\", split=[\"train\", \"test\"])\n",
    "DATASET_NAME='arc_hard'\n",
    "dataset = load_dataset(\"allenai/ai2_arc\", \"ARC-Challenge\", split=[\"train\", \"test\"])"
   ]
  },
  {
   "cell_type": "code",
   "execution_count": 26,
   "metadata": {},
   "outputs": [],
   "source": [
    "import itertools\n",
    "\n",
    "perm_order = list(itertools.permutations([0, 1, 2, 3], 4))"
   ]
  },
  {
   "cell_type": "code",
   "execution_count": 27,
   "metadata": {},
   "outputs": [],
   "source": [
    "def get_prompt(dataset, index, has_choice=False):\n",
    "    try:\n",
    "        json_line = dataset[index]\n",
    "        question = json_line[\"question\"]\n",
    "        choices = json_line[\"choices\"]\n",
    "        choice_texts = choices[\"text\"]\n",
    "        if len(choice_texts)<4:\n",
    "            print(len(choice_texts))\n",
    "            choice_texts.append(' ')\n",
    "        candidates = \" \".join(\n",
    "            [\n",
    "                f\"({label if has_choice else ' '}) {text}\"\n",
    "                for text, label in zip(choice_texts, choices[\"label\"])\n",
    "            ]\n",
    "        ).replace(\"\\n\", \" \")\n",
    "        answer_key = json_line[\"answerKey\"]\n",
    "        if answer_key[0] in '1234':\n",
    "            answer_key_idx = ord(answer_key[0]) - ord(\"1\")\n",
    "        else:\n",
    "            answer_key_idx = ord(answer_key[0]) - ord(\"A\")\n",
    "        answer_text = choices[\"text\"][answer_key_idx]\n",
    "        \n",
    "        question_pad = f\"{question} \\\\n \"\n",
    "        prompt = f\"{question_pad}{candidates}\"\n",
    "        context=''\n",
    "    except:\n",
    "        print(question,choice_texts)\n",
    "    return context,prompt, answer_text"
   ]
  },
  {
   "cell_type": "code",
   "execution_count": 28,
   "metadata": {},
   "outputs": [
    {
     "name": "stderr",
     "output_type": "stream",
     "text": [
      "100%|██████████| 1119/1119 [00:00<00:00, 4337.13it/s]\n"
     ]
    },
    {
     "name": "stdout",
     "output_type": "stream",
     "text": [
      "3\n"
     ]
    },
    {
     "name": "stderr",
     "output_type": "stream",
     "text": [
      "  0%|          | 0/1172 [00:00<?, ?it/s]"
     ]
    },
    {
     "name": "stdout",
     "output_type": "stream",
     "text": [
      "3\n"
     ]
    },
    {
     "name": "stderr",
     "output_type": "stream",
     "text": [
      "100%|██████████| 1172/1172 [00:00<00:00, 5215.47it/s]"
     ]
    },
    {
     "name": "stdout",
     "output_type": "stream",
     "text": [
      "3\n",
      "3\n",
      "3\n"
     ]
    },
    {
     "name": "stderr",
     "output_type": "stream",
     "text": [
      "\n"
     ]
    }
   ],
   "source": [
    "from tqdm import tqdm\n",
    "import pickle\n",
    "\n",
    "for index, dataname in enumerate(['train','test']):\n",
    "    container=[]\n",
    "    for ques_index, ques in enumerate(tqdm(dataset[index])):\n",
    "        container.append(\n",
    "                get_prompt(dataset[index], ques_index, has_choice=False)\n",
    "            )\n",
    "    pickle.dump(container, open(f\"{DATASET_NAME}_{dataname}.pkl\", \"wb\"))"
   ]
  }
 ],
 "metadata": {
  "kernelspec": {
   "display_name": "Python 3.10.10 ('wm')",
   "language": "python",
   "name": "python3"
  },
  "language_info": {
   "codemirror_mode": {
    "name": "ipython",
    "version": 3
   },
   "file_extension": ".py",
   "mimetype": "text/x-python",
   "name": "python",
   "nbconvert_exporter": "python",
   "pygments_lexer": "ipython3",
   "version": "3.10.12"
  },
  "orig_nbformat": 4,
  "vscode": {
   "interpreter": {
    "hash": "69f52fabb15766d39c6bf90ba53c555c905cb082f5a671ecb5c4487727b3f015"
   }
  }
 },
 "nbformat": 4,
 "nbformat_minor": 2
}
