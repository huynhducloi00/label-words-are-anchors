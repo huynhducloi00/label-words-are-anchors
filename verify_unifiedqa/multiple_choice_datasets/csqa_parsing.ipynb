{
 "cells": [
  {
   "cell_type": "code",
   "execution_count": 6,
   "metadata": {},
   "outputs": [],
   "source": [
    "from datasets import load_dataset\n",
    "DATASET_NAME='arc_hard'\n",
    "dataset = load_dataset(\"tau/commonsense_qa\", \"\", split=[\"train\", \"validation\"])"
   ]
  },
  {
   "cell_type": "code",
   "execution_count": 7,
   "metadata": {},
   "outputs": [
    {
     "data": {
      "text/plain": [
       "{'id': '1afa02df02c908a558b4036e80242fac',\n",
       " 'question': 'A revolving door is convenient for two direction travel, but it also serves as a security measure at a what?',\n",
       " 'question_concept': 'revolving door',\n",
       " 'choices': {'label': ['A', 'B', 'C', 'D', 'E'],\n",
       "  'text': ['bank', 'library', 'department store', 'mall', 'new york']},\n",
       " 'answerKey': 'A'}"
      ]
     },
     "execution_count": 7,
     "metadata": {},
     "output_type": "execute_result"
    }
   ],
   "source": [
    "dataset[1][0]"
   ]
  },
  {
   "cell_type": "code",
   "execution_count": 8,
   "metadata": {},
   "outputs": [],
   "source": [
    "def get_prompt(json_line, has_choice=False):\n",
    "    try:\n",
    "        question = json_line[\"question\"]\n",
    "        choices = json_line[\"choices\"]\n",
    "        choice_texts = choices[\"text\"]\n",
    "        perms=list(range(len(choice_texts)))\n",
    "        choice_texts = [choice_texts[perms[i]] for i in range(len(choice_texts))]\n",
    "        candidates = \" \".join(\n",
    "            [\n",
    "                f\"({label if has_choice else ' '}) {text}\"\n",
    "                for text, label in zip(choice_texts, choices[\"label\"])\n",
    "            ]\n",
    "        ).replace(\"\\n\", \" \")\n",
    "        answer_key = json_line[\"answerKey\"][0]\n",
    "        answer_key_idx = ord(answer_key) - (ord(\"A\") if answer_key in 'ABCDE' else ord(\"1\"))\n",
    "        answer_text = choices[\"text\"][answer_key_idx]\n",
    "        fact=f\"{json_line['fact1']}. \" if 'fact1' in json_line else ''\n",
    "        prompt = f\"{fact}{question} \\\\n {candidates}\"\n",
    "        return prompt, answer_text\n",
    "    except:\n",
    "        print(answer_key)"
   ]
  },
  {
   "cell_type": "code",
   "execution_count": 9,
   "metadata": {},
   "outputs": [
    {
     "name": "stderr",
     "output_type": "stream",
     "text": [
      "100%|██████████| 9741/9741 [00:01<00:00, 7898.18it/s]\n",
      "100%|██████████| 1221/1221 [00:00<00:00, 7928.54it/s]\n"
     ]
    }
   ],
   "source": [
    "from tqdm import tqdm\n",
    "import pickle\n",
    "container=[get_prompt(x, has_choice=False) for x in tqdm(dataset[0])]\n",
    "pickle.dump(container, open(f\"{DATASET_NAME}_train.pkl\", \"wb\"))\n",
    "pickle.dump([get_prompt(x, has_choice=False) for x in tqdm(dataset[1])], open(f\"{DATASET_NAME}_test.pkl\", \"wb\"))"
   ]
  }
 ],
 "metadata": {
  "kernelspec": {
   "display_name": "Python 3.10.10 ('wm')",
   "language": "python",
   "name": "python3"
  },
  "language_info": {
   "codemirror_mode": {
    "name": "ipython",
    "version": 3
   },
   "file_extension": ".py",
   "mimetype": "text/x-python",
   "name": "python",
   "nbconvert_exporter": "python",
   "pygments_lexer": "ipython3",
   "version": "3.10.12"
  },
  "orig_nbformat": 4,
  "vscode": {
   "interpreter": {
    "hash": "69f52fabb15766d39c6bf90ba53c555c905cb082f5a671ecb5c4487727b3f015"
   }
  }
 },
 "nbformat": 4,
 "nbformat_minor": 2
}
