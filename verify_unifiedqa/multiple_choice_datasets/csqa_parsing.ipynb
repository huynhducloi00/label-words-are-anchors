{
 "cells": [
  {
   "cell_type": "code",
   "execution_count": 1,
   "metadata": {},
   "outputs": [],
   "source": [
    "from datasets import load_dataset\n",
    "DATASET_NAME='csqa'\n",
    "dataset = load_dataset(\"tau/commonsense_qa\", \"\", split=[\"train\", \"validation\"])"
   ]
  },
  {
   "cell_type": "code",
   "execution_count": 2,
   "metadata": {
    "tags": [
     "parameters"
    ]
   },
   "outputs": [],
   "source": [
    "NUM_PERMUTE_QUESTION=10\n",
    "EACH_HAS=50"
   ]
  },
  {
   "cell_type": "code",
   "execution_count": 3,
   "metadata": {},
   "outputs": [
    {
     "name": "stdout",
     "output_type": "stream",
     "text": [
      "max 5\n",
      "5\n"
     ]
    }
   ],
   "source": [
    "choice_len=max([len(x['label']) for x in dataset[1]['choices']])\n",
    "print('max',choice_len)\n",
    "print(min([len(x['label']) for x in dataset[1]['choices']]))"
   ]
  },
  {
   "cell_type": "code",
   "execution_count": 6,
   "metadata": {},
   "outputs": [
    {
     "data": {
      "text/plain": [
       "{'id': '1afa02df02c908a558b4036e80242fac',\n",
       " 'question': 'A revolving door is convenient for two direction travel, but it also serves as a security measure at a what?',\n",
       " 'question_concept': 'revolving door',\n",
       " 'choices': {'label': ['A', 'B', 'C', 'D', 'E'],\n",
       "  'text': ['bank', 'library', 'department store', 'mall', 'new york']},\n",
       " 'answerKey': 'A'}"
      ]
     },
     "execution_count": 6,
     "metadata": {},
     "output_type": "execute_result"
    }
   ],
   "source": [
    "dataset[1][0]"
   ]
  },
  {
   "cell_type": "code",
   "execution_count": 10,
   "metadata": {},
   "outputs": [],
   "source": [
    "def get_prompt(data,ques_index, perms, has_choice=False):\n",
    "    try:\n",
    "        json_line=data[ques_index]\n",
    "        question = json_line[\"question\"]\n",
    "        choices = json_line[\"choices\"]\n",
    "        choice_texts = choices[\"text\"]\n",
    "        choice_texts = [choice_texts[perms[i]] for i in range(len(choice_texts))]\n",
    "        candidates = \" \".join(\n",
    "            [\n",
    "                f\"({label if has_choice else ' '}) {text}\"\n",
    "                for text, label in zip(choice_texts, choices[\"label\"])\n",
    "            ]\n",
    "        ).replace(\"\\n\", \" \")\n",
    "        answer_key = json_line[\"answerKey\"][0]\n",
    "        answer_key_idx = ord(answer_key) - (ord(\"A\") if answer_key in 'ABCDE' else ord(\"1\"))\n",
    "        answer_text = choices[\"text\"][answer_key_idx]\n",
    "        fact=f\"{json_line['fact1']}. \" if 'fact1' in json_line else ''\n",
    "        prompt = f\"{fact}{question} \\\\n {candidates}\"\n",
    "        return prompt, answer_text\n",
    "    except:\n",
    "        print(answer_key)"
   ]
  },
  {
   "cell_type": "code",
   "execution_count": 11,
   "metadata": {},
   "outputs": [
    {
     "name": "stderr",
     "output_type": "stream",
     "text": [
      "100%|██████████| 50/50 [00:00<00:00, 2300.44it/s]\n",
      "100%|██████████| 50/50 [00:00<00:00, 3227.98it/s]\n",
      "100%|██████████| 50/50 [00:00<00:00, 3477.58it/s]\n",
      "100%|██████████| 50/50 [00:00<00:00, 3844.81it/s]\n",
      "100%|██████████| 50/50 [00:00<00:00, 3818.00it/s]\n",
      "100%|██████████| 50/50 [00:00<00:00, 4071.74it/s]\n",
      "100%|██████████| 50/50 [00:00<00:00, 4145.63it/s]\n",
      "100%|██████████| 50/50 [00:00<00:00, 4420.92it/s]\n",
      "100%|██████████| 50/50 [00:00<00:00, 4252.91it/s]\n",
      "100%|██████████| 50/50 [00:00<00:00, 4253.34it/s]\n",
      "100%|██████████| 10/10 [00:00<00:00, 52.99it/s]\n"
     ]
    }
   ],
   "source": [
    "import random\n",
    "from tqdm import tqdm, trange\n",
    "import pickle\n",
    "import itertools\n",
    "all_permutes=list(itertools.permutations(list(range(choice_len))))\n",
    "if NUM_PERMUTE_QUESTION:\n",
    "    container=[]\n",
    "    for ques_index in trange(NUM_PERMUTE_QUESTION):\n",
    "        selection=random.sample(all_permutes,EACH_HAS)\n",
    "        for perm in tqdm(selection):\n",
    "            container.append(\n",
    "                    get_prompt(dataset[1],ques_index, perm,  has_choice=False)\n",
    "                )\n",
    "    pickle.dump(container, open(f\"{DATASET_NAME}_test_permute.pkl\", \"wb\"))\n",
    "else:\n",
    "    container=[get_prompt(x, has_choice=False) for x in tqdm(dataset[0])]\n",
    "    pickle.dump(container, open(f\"{DATASET_NAME}_train.pkl\", \"wb\"))\n",
    "    pickle.dump([get_prompt(x, has_choice=False) for x in tqdm(dataset[1])], open(f\"{DATASET_NAME}_test.pkl\", \"wb\"))"
   ]
  }
 ],
 "metadata": {
  "kernelspec": {
   "display_name": "Python 3.10.10 ('wm')",
   "language": "python",
   "name": "python3"
  },
  "language_info": {
   "codemirror_mode": {
    "name": "ipython",
    "version": 3
   },
   "file_extension": ".py",
   "mimetype": "text/x-python",
   "name": "python",
   "nbconvert_exporter": "python",
   "pygments_lexer": "ipython3",
   "version": "3.10.12"
  },
  "orig_nbformat": 4,
  "vscode": {
   "interpreter": {
    "hash": "69f52fabb15766d39c6bf90ba53c555c905cb082f5a671ecb5c4487727b3f015"
   }
  }
 },
 "nbformat": 4,
 "nbformat_minor": 2
}
