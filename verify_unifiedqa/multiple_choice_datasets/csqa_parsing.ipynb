{
 "cells": [
  {
   "cell_type": "code",
   "execution_count": 1,
   "metadata": {},
   "outputs": [],
   "source": [
    "from datasets import load_dataset\n",
    "\n",
    "DATASET_NAME = \"csqa\"\n",
    "dataset = load_dataset(\"tau/commonsense_qa\", \"\", split=[\"train\", \"validation\"])"
   ]
  },
  {
   "cell_type": "code",
   "execution_count": 2,
   "metadata": {
    "tags": [
     "parameters"
    ]
   },
   "outputs": [],
   "source": [
    "NUM_PERMUTE_QUESTION = 10\n",
    "EACH_HAS = 50\n",
    "NUM_CHOICE = 5"
   ]
  },
  {
   "cell_type": "code",
   "execution_count": 3,
   "metadata": {},
   "outputs": [
    {
     "name": "stdout",
     "output_type": "stream",
     "text": [
      "max 5\n",
      "5\n"
     ]
    }
   ],
   "source": [
    "choice_len = max([len(x[\"label\"]) for x in dataset[1][\"choices\"]])\n",
    "print(\"max\", choice_len)\n",
    "print(min([len(x[\"label\"]) for x in dataset[1][\"choices\"]]))"
   ]
  },
  {
   "cell_type": "code",
   "execution_count": 4,
   "metadata": {},
   "outputs": [
    {
     "data": {
      "text/plain": [
       "{'id': '1afa02df02c908a558b4036e80242fac',\n",
       " 'question': 'A revolving door is convenient for two direction travel, but it also serves as a security measure at a what?',\n",
       " 'question_concept': 'revolving door',\n",
       " 'choices': {'label': ['A', 'B', 'C', 'D', 'E'],\n",
       "  'text': ['bank', 'library', 'department store', 'mall', 'new york']},\n",
       " 'answerKey': 'A'}"
      ]
     },
     "execution_count": 4,
     "metadata": {},
     "output_type": "execute_result"
    }
   ],
   "source": [
    "dataset[1][0]"
   ]
  },
  {
   "cell_type": "code",
   "execution_count": 5,
   "metadata": {},
   "outputs": [],
   "source": [
    "import numpy as np\n",
    "\n",
    "\n",
    "def get_prompt(data, ques_index, location=-1, has_choice=False):\n",
    "    try:\n",
    "        json_line = data[ques_index]\n",
    "        question = json_line[\"question\"]\n",
    "        choices = json_line[\"choices\"]\n",
    "        choice_texts = choices[\"text\"]\n",
    "        answer_key = json_line[\"answerKey\"][0]\n",
    "        answer_key_idx = ord(answer_key) - (\n",
    "            ord(\"A\") if answer_key in \"ABCDE\" else ord(\"1\")\n",
    "        )\n",
    "        answer_text = choices[\"text\"][answer_key_idx]\n",
    "        if location > -1:\n",
    "            perm = np.random.permutation(len(choice_texts) - 1)\n",
    "            choice_texts.remove(answer_text)\n",
    "            choice_texts = [\n",
    "                choice_texts[perm[i]].replace(\"\\n\", \" \")\n",
    "                for i in range(len(choice_texts))\n",
    "            ]\n",
    "            choice_texts.insert(location, answer_text)\n",
    "        else:\n",
    "            perm = list(range(NUM_CHOICE))\n",
    "            choice_texts = [\n",
    "                choice_texts[perm[i]].replace(\"\\n\", \" \")\n",
    "                for i in range(len(choice_texts))\n",
    "            ]\n",
    "        candidates = \" \".join(\n",
    "            [\n",
    "                f\"({label if has_choice else ' '}) {text}\"\n",
    "                for text, label in zip(choice_texts, choices[\"label\"])\n",
    "            ]\n",
    "        ).replace(\"\\n\", \" \")\n",
    "\n",
    "        fact = f\"{json_line['fact1']}. \" if \"fact1\" in json_line else \"\"\n",
    "        prompt = f\"{fact}{question} \\\\n {candidates}\"\n",
    "        return prompt, answer_text\n",
    "    except:\n",
    "        print(answer_key)"
   ]
  },
  {
   "cell_type": "code",
   "execution_count": 6,
   "metadata": {},
   "outputs": [
    {
     "name": "stderr",
     "output_type": "stream",
     "text": [
      "100%|██████████| 10/10 [00:00<00:00, 142.65it/s]\n"
     ]
    }
   ],
   "source": [
    "import random\n",
    "from tqdm import tqdm, trange\n",
    "import pickle\n",
    "import itertools\n",
    "\n",
    "all_permutes = list(itertools.permutations(list(range(choice_len))))\n",
    "if NUM_PERMUTE_QUESTION:\n",
    "    container = []\n",
    "    each_choice_has = EACH_HAS / NUM_CHOICE\n",
    "    for ques_index in trange(NUM_PERMUTE_QUESTION):\n",
    "        for idx in range(EACH_HAS):\n",
    "            location = int(idx / each_choice_has)\n",
    "            container.append(\n",
    "                get_prompt(dataset[1], ques_index, location, has_choice=False)\n",
    "            )\n",
    "    pickle.dump(\n",
    "        (NUM_PERMUTE_QUESTION, EACH_HAS, container),\n",
    "        open(f\"{DATASET_NAME}_test_permute.pkl\", \"wb\"),\n",
    "    )\n",
    "else:\n",
    "    container = [\n",
    "        get_prompt(dataset[0], x, has_choice=False) for x in trange(len(dataset[0]))\n",
    "    ]\n",
    "    pickle.dump(container, open(f\"{DATASET_NAME}_train.pkl\", \"wb\"))\n",
    "    pickle.dump(\n",
    "        [get_prompt(dataset[1], x, has_choice=False) for x in trange(len(dataset[1]))],\n",
    "        open(f\"{DATASET_NAME}_test.pkl\", \"wb\"),\n",
    "    )"
   ]
  }
 ],
 "metadata": {
  "kernelspec": {
   "display_name": "Python 3.10.10 ('wm')",
   "language": "python",
   "name": "python3"
  },
  "language_info": {
   "codemirror_mode": {
    "name": "ipython",
    "version": 3
   },
   "file_extension": ".py",
   "mimetype": "text/x-python",
   "name": "python",
   "nbconvert_exporter": "python",
   "pygments_lexer": "ipython3",
   "version": "3.10.12"
  },
  "orig_nbformat": 4,
  "vscode": {
   "interpreter": {
    "hash": "69f52fabb15766d39c6bf90ba53c555c905cb082f5a671ecb5c4487727b3f015"
   }
  }
 },
 "nbformat": 4,
 "nbformat_minor": 2
}
