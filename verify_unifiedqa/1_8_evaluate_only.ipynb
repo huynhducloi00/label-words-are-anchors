{
 "cells": [
  {
   "cell_type": "code",
   "execution_count": 2,
   "metadata": {},
   "outputs": [],
   "source": [
    "import os"
   ]
  },
  {
   "cell_type": "code",
   "execution_count": 3,
   "metadata": {
    "editable": true,
    "slideshow": {
     "slide_type": ""
    },
    "tags": [
     "parameters"
    ]
   },
   "outputs": [],
   "source": [
    "model_parent_path = os.getcwd()\n",
    "model_path = 'google-t5/new_t5-large_qasc_epoch_1__eval_qasc_acc_63.61.pkl'\n",
    "model_name = None\n",
    "tokenizer_name = \"google-t5/t5-large\"\n",
    "max_answer_length = 300\n",
    "BATCH_SIZE = 10\n",
    "accumulate_step = None\n",
    "DATA_NAME_SINGLE = \"qasc\"\n",
    "NUM_EPOCHS = 1\n",
    "VISIBLE_DEVICE = \"3\"\n",
    "DEVICE = 0\n",
    "TO_TEST=True"
   ]
  },
  {
   "cell_type": "code",
   "execution_count": 4,
   "metadata": {
    "editable": true,
    "slideshow": {
     "slide_type": ""
    },
    "tags": []
   },
   "outputs": [
    {
     "name": "stdout",
     "output_type": "stream",
     "text": [
      "Loi params: google-t5/new_t5-large_qasc_epoch_1__eval_qasc_acc_63.61.pkl#####300#####batch_size=10;accumulate_step=None\n"
     ]
    }
   ],
   "source": [
    "os.environ[\"CUDA_VISIBLE_DEVICES\"] = str(VISIBLE_DEVICE)  # cannot work\n",
    "print(\n",
    "    f\"Loi params: {model_path}{'#'*5}{max_answer_length}{'#'*5}batch_size={BATCH_SIZE};accumulate_step={accumulate_step}\"\n",
    ")\n",
    "DATABASE_NAME = [DATA_NAME_SINGLE]  # ,'arc_hard']#,'race','mctest',]"
   ]
  },
  {
   "cell_type": "code",
   "execution_count": 5,
   "metadata": {},
   "outputs": [],
   "source": [
    "import torch\n",
    "import pickle\n",
    "from torch.utils.data import Dataset, DataLoader\n",
    "from transformers import T5Tokenizer, T5ForConditionalGeneration, Adafactor\n",
    "from functools import wraps, partial\n",
    "from torch.nn.modules.sparse import Embedding\n",
    "from torch.optim import Adam, SGD\n",
    "import torch.nn as nn\n",
    "from tqdm.notebook import trange, tqdm\n",
    "from random_utils import set_seed\n",
    "import pandas as pd"
   ]
  },
  {
   "cell_type": "code",
   "execution_count": 6,
   "metadata": {},
   "outputs": [
    {
     "name": "stderr",
     "output_type": "stream",
     "text": [
      "/home/ldh0033@auburn.edu/.local/lib/python3.10/site-packages/transformers/models/t5/tokenization_t5.py:246: FutureWarning: This tokenizer was incorrectly instantiated with a model max length of 512 which will be corrected in Transformers v5.\n",
      "For now, this behavior is kept to avoid breaking backwards compatibility when padding/encoding with `truncation is True`.\n",
      "- Be aware that you SHOULD NOT rely on google-t5/t5-large automatically truncating your input to 512 when padding/encoding.\n",
      "- If you want to encode/pad to sequences longer than 512 you can either instantiate this tokenizer with `model_max_length` or pass `max_length` when encoding/padding.\n",
      "- To avoid this warning, please instantiate this tokenizer with `model_max_length` set to your preferred value.\n",
      "  warnings.warn(\n",
      "You are using the default legacy behaviour of the <class 'transformers.models.t5.tokenization_t5.T5Tokenizer'>. This is expected, and simply means that the `legacy` (previous) behavior will be used so nothing changes for you. If you want to use the new behaviour, set `legacy=False`. This should only be set if you understand what it means, and thoroughly read the reason why this was added as explained in https://github.com/huggingface/transformers/pull/24565\n",
      "Special tokens have been added in the vocabulary, make sure the associated word embeddings are fine-tuned or trained.\n"
     ]
    }
   ],
   "source": [
    "# model_name = \"loi_with_padding_just_same_answer_len_70.pkl\"\n",
    "\n",
    "# \"loi_with_padding_1.pkl\"#\n",
    "# model_name = (\n",
    "#     \"allenai/unifiedqa-v2-t5-large-1363200\"  # you can specify the model size here\n",
    "# )\n",
    "tokenizer = T5Tokenizer.from_pretrained(tokenizer_name)\n",
    "\n",
    "model_original = (\n",
    "    T5ForConditionalGeneration.from_pretrained(\n",
    "        f\"{model_parent_path}/{model_path}\", device_map=\"auto\"\n",
    "    )\n",
    "    if model_path\n",
    "    else T5ForConditionalGeneration.from_pretrained(model_name, device_map=\"auto\")\n",
    ")\n",
    "model = model_original\n",
    "# model.hf_device_map"
   ]
  },
  {
   "cell_type": "code",
   "execution_count": 7,
   "metadata": {},
   "outputs": [],
   "source": [
    "dataset_test = []\n",
    "[dataset_test.append([]) for x in DATABASE_NAME]\n",
    "moi_index = []\n",
    "# TO_TEST=False\n",
    "for i, dataname in enumerate(DATABASE_NAME):\n",
    "    dataset_test[i] = pickle.load(\n",
    "        open(f\"multiple_choice_datasets/{dataname}_{'test' if TO_TEST==True else 'validate'}.pkl\", \"rb\")\n",
    "    )\n",
    "# TO_TEST=True"
   ]
  },
  {
   "cell_type": "code",
   "execution_count": 8,
   "metadata": {},
   "outputs": [
    {
     "data": {
      "text/plain": [
       "'What type of birth do therian mammals have? \\\\n ( ) . Anthax ( ) Water deficit induces abscisic acid accumulation in endosperm of maize viviparous mutants. Mammals that are viviparous are called therian mammals. under water ( ) With placental abruption, the placenta prematurely separates from the uterus. Placental mammals are therian mammals in which a placenta develops during pregnancy. uterus ( ) Placental mammals are therian mammals in which a placenta develops during pregnancy. Placental Mammals Placental mammals have wombs. wombs ( ) All non-identical pregnancies have two placentas and two sacs. Placental mammals are therian mammals in which a placenta develops during pregnancy. two ( ) Moles that appear at birth are called congenital nevi. Mammals that are viviparous are called therian mammals. moles ( ) Viviparous sharks give birth to live young. Mammals that are viviparous are called therian mammals. live ( ) Viviparous sharks form a placental from the embryo to the oviduct wall. Mammals that are viviparous are called therian mammals. embryo'"
      ]
     },
     "execution_count": 8,
     "metadata": {},
     "output_type": "execute_result"
    }
   ],
   "source": [
    "import textwrap\n",
    "# dataset_test[0][0]\n",
    "# ques=4\n",
    "dataset_test[0][0][1]\n",
    "# print('correct: ',dataset_test[ques][1],'length',len(dataset_test[0][0]))"
   ]
  },
  {
   "cell_type": "code",
   "execution_count": 9,
   "metadata": {},
   "outputs": [],
   "source": [
    "import traceback\n",
    "def hook(hook_before, oldfunc, hook_after):\n",
    "\n",
    "    def foo(*args, **kwargs):\n",
    "        hook_before(*args, **kwargs)\n",
    "        aa = oldfunc(*args, **kwargs)\n",
    "        hook_after(*args, **kwargs)\n",
    "        return aa\n",
    "\n",
    "    return foo\n",
    "def new_compute_bias(self, query_length, key_length, device=None):\n",
    "    \"\"\"Compute binned relative position bias\"\"\"\n",
    "    if device is None:\n",
    "        device = self.relative_attention_bias.weight.device\n",
    "    context_position = torch.arange(query_length, dtype=torch.long, device=device)[\n",
    "        :, None\n",
    "    ]\n",
    "    memory_position = torch.arange(key_length, dtype=torch.long, device=device)[None, :]\n",
    "\n",
    "    relative_position = (\n",
    "        memory_position - context_position\n",
    "    )  # shape (query_length, key_length)\n",
    "    if self.is_decoder:\n",
    "        values = values.permute([2, 0, 1]).unsqueeze(\n",
    "            0\n",
    "        )  # shape (1, num_heads, query_length, key_length)\n",
    "        return values\n",
    "\n",
    "    anchors = self.anchor_array\n",
    "    values = []\n",
    "    for anchor in anchors:\n",
    "        mot = [[anchor[idx], anchor[idx + 1]] for idx in range(len(anchor) - 1)]\n",
    "        if len(mot)>0:\n",
    "            max_answer_length = max([x[1] - x[0] for x in mot])\n",
    "            # print(a, b, c, d, max_answer_length)\n",
    "            context_position_new = context_position.clone()\n",
    "            for i in range(1, len(mot)):\n",
    "                context_position_new[mot[i][0] : mot[i][1]] = (\n",
    "                    context_position_new[mot[i][0] : mot[i][1]] - mot[0][0]\n",
    "                )\n",
    "            context_position_new[-1] = mot[0][0] + 2 * max_answer_length\n",
    "            memory_position_new = context_position_new.clone().view(1, -1)\n",
    "            relative_position = (\n",
    "                memory_position_new - context_position_new\n",
    "            )  # shape (query_length, key_length)\n",
    "            for i in range(len(mot)):\n",
    "                for j in range(len(mot)):\n",
    "                    if i != j:\n",
    "                        x = mot[i]\n",
    "                        y = mot[j]\n",
    "                        relative_position[x[0] : x[1], y[0] : y[1]] += max_answer_length\n",
    "        relative_position_bucket = self._relative_position_bucket(\n",
    "            relative_position,  # shape (query_length, key_length)\n",
    "            bidirectional=(not self.is_decoder),\n",
    "            num_buckets=self.relative_attention_num_buckets,\n",
    "            max_distance=self.relative_attention_max_distance,\n",
    "        )\n",
    "        value = self.relative_attention_bias(relative_position_bucket)\n",
    "        values.append(value)\n",
    "    values = torch.stack(values)  # shape [1, 91, 91, 16]\n",
    "    values = values.permute(\n",
    "        [0, 3, 1, 2]\n",
    "    )  # shape (batch size, num_heads, query_length, key_length)\n",
    "    return values\n",
    "import textwrap\n",
    "\n",
    "\n",
    "extra_dim_learning = []\n",
    "\n",
    "\n",
    "def set_mode(MODE):\n",
    "    itself = model.encoder.block[0].layer[0].SelfAttention\n",
    "    if MODE == \"new\":\n",
    "        itself.compute_bias = partial(new_compute_bias, itself)\n",
    "        model.forward = hook(\n",
    "            input_before_hooker,\n",
    "            partial(T5ForConditionalGeneration.forward, model),\n",
    "            input_after_hooker,\n",
    "        )\n",
    "\n",
    "    else:\n",
    "        itself.compute_bias = partial(\n",
    "            model.encoder.block[0].layer[0].SelfAttention.__class__.compute_bias, itself\n",
    "        )\n",
    "        model.forward = partial(T5ForConditionalGeneration.forward, model)\n",
    "\n",
    "\n",
    "def check_encoded(all_input_ids):\n",
    "    anchors = []\n",
    "    for input_ids in all_input_ids:\n",
    "        # print('\\n'.join([f'{x.item()},{y}' for x,y in zip(input_ids, tokens)][50:]))\n",
    "        original = input_ids.tolist()\n",
    "        anchor = []\n",
    "        for i in range(len(input_ids)):\n",
    "            if (\n",
    "                i < len(input_ids) - 2\n",
    "                and input_ids[i] == 41\n",
    "                and input_ids[i + 1] == 3\n",
    "                and input_ids[i + 2] == 61\n",
    "            ) or original[i] == 1:\n",
    "                anchor.append(i)\n",
    "        anchors.append(anchor)\n",
    "    return anchors\n",
    "\n",
    "\n",
    "def input_before_hooker(*args, **kwargs):\n",
    "    input_ids = kwargs[\"input_ids\"]\n",
    "    # print('old ',input_ids)\n",
    "    anchors = check_encoded(input_ids)\n",
    "    final_inputs = []\n",
    "    for input_id, anchor in zip(input_ids, anchors):\n",
    "        input_id = input_id.tolist()\n",
    "        if len(anchor)>1:\n",
    "            real_max_len = max(\n",
    "                [anchor[idx + 1] - anchor[idx] for idx in range(len(anchor) - 1)]\n",
    "            )\n",
    "            if real_max_len > max_answer_length:\n",
    "                print(f\"ALERT: MAX LENGTH IS {real_max_len}\")\n",
    "            for x in reversed(range(1, len(anchor))):\n",
    "                if anchor[x] - anchor[x - 1] < max_answer_length:\n",
    "                    [\n",
    "                        input_id.insert(anchor[x], 0)\n",
    "                        for _ in range(max_answer_length - (anchor[x] - anchor[x - 1]))\n",
    "                    ]\n",
    "\n",
    "        final_inputs.append(input_id)\n",
    "\n",
    "    max_length = max([len(input) for input in final_inputs])\n",
    "    mask = [[1] * max_length] * len(final_inputs)\n",
    "    for idx, input in enumerate(final_inputs):\n",
    "        for x in range(max_length):\n",
    "            if x >= len(input):\n",
    "                mask[idx][x] = 0\n",
    "        for x in range(max_length - len(input)):\n",
    "            input.append(0)\n",
    "    kwargs[\"input_ids\"] = torch.tensor(final_inputs).to(input_ids.device)\n",
    "    kwargs[\"attention_mask\"] = torch.tensor(mask).to(input_ids.device)\n",
    "    # print('new ',kwargs[\"input_ids\"])\n",
    "    # print('attention_mask ',kwargs[\"attention_mask\"])\n",
    "    anchors = check_encoded(kwargs[\"input_ids\"])\n",
    "    model.encoder.block[0].layer[0].SelfAttention.anchor_array = anchors\n",
    "\n",
    "\n",
    "def input_after_hooker(*args, **kwargs):\n",
    "    model.encoder.block[0].layer[0].SelfAttention.anchor_array = None\n",
    "\n",
    "def measure_unalike(arr, print_arr=False):\n",
    "    n = len(arr)\n",
    "    arr = pd.Series(arr).value_counts()\n",
    "    if print_arr:\n",
    "        print(arr)\n",
    "    return 1 - ((arr / n) ** 2).sum()\n",
    "\n",
    "def get_model_forward(input_ids, attention_mask, model=model):\n",
    "    with torch.no_grad():\n",
    "        start = []\n",
    "        [start.append([0]) for x in range(len(input_ids))]\n",
    "        for k in range(max_answer_length):\n",
    "            # print(torch.tensor(start).shape)\n",
    "            result = model(\n",
    "                input_ids=input_ids.to(DEVICE),\n",
    "                attention_mask=attention_mask.to(DEVICE),\n",
    "                decoder_input_ids=torch.tensor(start).to(DEVICE),\n",
    "                output_attentions=True,\n",
    "            )\n",
    "            item = result.logits.argmax(dim=2)[:, -1]\n",
    "            # print('loi',result.logits.shape, item)\n",
    "            for index in range(len(item)):\n",
    "                start[index].append(item[index].item())\n",
    "            if torch.allclose(item, torch.tensor(1)):\n",
    "                break\n",
    "            #     break\n",
    "    result = []\n",
    "    for batch in start:\n",
    "        y = -1\n",
    "        for index, x in enumerate(batch):\n",
    "            if x == 1:\n",
    "                y = index\n",
    "                break\n",
    "        result.append(batch[: y + 1] if y > -1 else batch)\n",
    "    return [tokenizer.decode(x, skip_special_tokens=True) for x in result]\n",
    "\n",
    "\n",
    "def run_model(input_strs):\n",
    "    if input_strs is str:\n",
    "        input_strs = [input_strs]\n",
    "    input_ids_wrapper = tokenizer(input_strs, padding=True, return_tensors=\"pt\")\n",
    "\n",
    "    answer = get_model_forward(\n",
    "        input_ids_wrapper[\"input_ids\"], input_ids_wrapper[\"attention_mask\"]\n",
    "    )\n",
    "    return answer\n",
    "# set_mode('old')\n",
    "set_mode(\"new\")"
   ]
  },
  {
   "cell_type": "code",
   "execution_count": 10,
   "metadata": {},
   "outputs": [
    {
     "data": {
      "text/plain": [
       "['quna nham']"
      ]
     },
     "execution_count": 10,
     "metadata": {},
     "output_type": "execute_result"
    }
   ],
   "source": [
    "\n",
    "run_model('quna nham ')\n"
   ]
  },
  {
   "cell_type": "code",
   "execution_count": 11,
   "metadata": {},
   "outputs": [],
   "source": [
    "kk = [\n",
    "    (index, x, y)\n",
    "    for index, (x, y) in enumerate(model.named_parameters())\n",
    "    if y.requires_grad == True\n",
    "]\n",
    "[(index, x) for index, x, y in kk if \"decoder\" in x]\n",
    "len(kk)\n",
    "all_position_weight = [\n",
    "    y\n",
    "    for index, x, y in kk\n",
    "    if (\"extra_dimension_embedding\" in x)\n",
    "    or ((\"encoder\" in x) and (\"relative_attention_bias\" in x))\n",
    "]\n",
    "to_train_model = [y for index, x, y in kk]"
   ]
  },
  {
   "cell_type": "code",
   "execution_count": 12,
   "metadata": {},
   "outputs": [],
   "source": [
    "def getAnswer(numeral):\n",
    "    return chr(ord('A')+numeral)"
   ]
  },
  {
   "cell_type": "code",
   "execution_count": 13,
   "metadata": {},
   "outputs": [],
   "source": [
    "from difflib import SequenceMatcher\n",
    "def similar(str1, str2):\n",
    "    return SequenceMatcher(None, str1, str2).ratio()\n"
   ]
  },
  {
   "cell_type": "code",
   "execution_count": 14,
   "metadata": {},
   "outputs": [
    {
     "data": {
      "application/vnd.jupyter.widget-view+json": {
       "model_id": "a393328d8e36446dbcf0a743308dd587",
       "version_major": 2,
       "version_minor": 0
      },
      "text/plain": [
       "  0%|          | 0/920 [00:00<?, ?it/s]"
      ]
     },
     "metadata": {},
     "output_type": "display_data"
    }
   ],
   "source": [
    "import csv\n",
    "import numpy as np\n",
    "def evaluate_test():\n",
    "    data = dataset_test[0]\n",
    "    mal=0\n",
    "    bad_choices=[]\n",
    "    with open(f\"{model_path.replace('/','_')}_{DATA_NAME_SINGLE}_test_submission.csv\", 'w', newline='') as f:\n",
    "        pbar=trange(len(data))\n",
    "        for ques in pbar:\n",
    "            id, question = data[ques]\n",
    "            # question = data[ques][0]\n",
    "            answer = run_model(question)[0]\n",
    "            choices=question.split(' ( ) ')[1:]\n",
    "            choices=[x.split('. ')[-1] for x in choices]\n",
    "            # print(choices, 'my answer:',answer)\n",
    "            if answer in choices: \n",
    "                numeral=choices.index(answer)\n",
    "                letter=getAnswer(numeral)\n",
    "            else:\n",
    "                mal+=1\n",
    "                bad_choices.append((ques,answer))\n",
    "                selection=np.argmax([similar(x,answer) for x in choices])\n",
    "                letter=getAnswer(selection)\n",
    "            chuoi=f'\"{id}\",\"{letter}\"\\n'\n",
    "            f.write(chuoi)\n",
    "            pbar.set_postfix_str(f'{mal}/{ques+1}={mal/(ques+1)*100:0.02f}%')\n",
    "    return bad_choices \n",
    "if TO_TEST:\n",
    "    bad_choices=evaluate_test()"
   ]
  },
  {
   "cell_type": "code",
   "execution_count": 15,
   "metadata": {},
   "outputs": [
    {
     "name": "stdout",
     "output_type": "stream",
     "text": [
      "53 ['Many terrestrial and lizard-like with deep skulls, elongate. Mollusks occupy habitats ranging from the deep ocean to shallow waters to moist terrestrial niches. lizards', 'Camels are excellent for patrolling perimeter fences in semi-arid areas. Prefers moist niches in otherwise arid or semi-arid habitats, with debris, and friable soil. camels', 'Mosses and liverworts are bryophytes. Bryophytes occupy niches in moist habitats. liverworts', 'Cacti of arid regions can withstand considerable water loss. Prefers moist niches in otherwise arid or semi-arid habitats, with debris, and friable soil. cacti', 'Corvidae and other predators eat eggs. Prey selection is based more on what is available in the habitat the predator occupies. Corvidae', 'Amphibians are believed to have evolved directly from Chondrichthyes. By then, mammals had evolved and started to occupy the niches the dinosaurs once occupied. chondrichthyes', 'Octopus Octopus, marine mollusk, found worldwide in tropical and warm temperate waters. Mollusks occupy habitats ranging from the deep ocean to shallow waters to moist terrestrial niches. Octopuses', 'Occupied sites are colored red and empty sites are colored black. New born Yorkshire terriers are black in color. yorkshire terriers'] Fabricated answer  Octopus\n",
      "==================================================\n",
      "56 ['Moist, dark areas make the most attractive habitats. Bryophytes occupy niches in moist habitats. dark as night', 'Wildlife habitats in trees, stumps, and underground. Bryophytes occupy niches in moist habitats. underground', 'Habitats of the Red River hog have moist, soft soil that produces dense vegetation year-round. Bryophytes occupy niches in moist habitats. producers', 'Many desert habitat was affected. Bryophytes occupy niches in moist habitats. desert', 'Habitat preference is similar to shovelnose. Bryophytes occupy niches in moist habitats. similar', 'Group size is affected by habitat. Bryophytes occupy niches in moist habitats. size', \"Humans can alter a habitat's balance. Bryophytes occupy niches in moist habitats. Balanced\", 'Orchid habitat is delicate and complex. Bryophytes occupy niches in moist habitats. complex'] Fabricated answer  moist\n",
      "==================================================\n",
      "107 ['Actions follow thoughts. Culture is the environment in which actions and thoughts take place. changes in the environment', \"Infections are often treated with antibiotics. Legionnaires' disease can be treated effectively with antibiotics. Legionnaires' disease\", 'Material handling strains and sprains often are caused by overexertion. Ankle sprains are usually caused by twisting the ankle. Twisted ankle', 'Bryophytes also prefer living in shady places such as ravines and forest. Bryophytes Bryophytes include the mosses, liverworts, and hornworts. mosses, liverworts, hornworts', 'On the wall, there is a large canvas, painted red. Labs are listed in red on the day on which they take place. Painted walls', 'Differentiation of B-cells into plasma cells is often regulated by what other type of cell. Division of B cells takes place, followed by differentiation into plasma cells or apoptosis. cell division', 'Collision Tolerance controls the accuracy of collisions. Manipulation takes place in a world often dominated by friction and collisions. Controlled manipulation', 'Rooks take in the same way as they move without taking. If an enemy piece is standing on a square to which the Rook can move, it can be captured. Captured enemies'] Fabricated answer  Cell division\n",
      "==================================================\n",
      "142 ['. chondrichthyes', 'Placental mammals give birth to relatively large and mature infants. Placental Mammals Placental mammals have wombs. mammals with wombs', 'For infants, exposure is largely through baby food and breast milk. Mammals give live birth and give their babies milk. mammals with beaks', 'Mammals are a class of animal. Placental mammals give birth to relatively large and mature infants. animals in Class Aves', 'Placental mammals retain their offspring in special structures called the uterus. Placental mammals give birth to relatively large and mature infants. their offspring', 'Most desert animals are lizards or small mammals, they are adapted to the high heat. Placental mammals give birth to relatively large and mature infants. desert lizards', 'For infants, exposure is largely through baby food and breast milk. Mammals give live birth and give their babies milk. mammals with scales', 'Placental cells fail to grow and divide. Placental mammals give birth to relatively large and mature infants. multinucleated cells'] Fabricated answer  Placental Mammals\n",
      "==================================================\n",
      "401 ['Perhaps one of the most interesting and colorful words in the English language is the word fuck . Perhaps, then, the substance of what the word is can be used to describe what the word means. What color it is', 'Many textures and texture blends are applied to it. People describe objects in many ways using size, shape, colors, and textures. color and pattern blending', 'Variables are used for the parameters. Parameters describe what the system is , while state variables describe what it is doing . What state it is in', 'the volume of an object can be used to describe the size of that object. Volume Volume is a measure of how much space a space figure takes up. How much space it takes up', 'Movable objects are used as props. Hinge joints are classified as a movable joint. A hinged joint', 'Bubble maps are used to describe objects. If plotting to a specific plate scale, the size of a zoomed map can be specified by plate scale. scales or plates', \"What's Hot CGI script created. Script Objects describes how to define and use script objects. How hot it is\", 'Every object is chalk white. Graphite and chalk are minerals. Mineral graphite'] Fabricated answer  How much space it takes\n",
      "==================================================\n",
      "534 ['Severe thunderstorms sometimes produce tornadoes without warning. Several groups of mammals have decided to do without teeth altogether. tornadoes', 'Whales are mammals. Male beaked whales have barnacles on their teeth sometimes. a beak', 'Then the reptile was carefully returned to the water. Reptiles have undifferentiated teeth whereas mammals have differentiated teeth. water', 'Orangutans are the largest arboreal mammal. Orangutans have strong teeth and jaws. Jaws', 'Vertebrates possess two types of bone. Mammals have two types of teeth, the primary teeth and the permanent teeth. bones', 'Ants are the preferred food of the Anteater. Anteaters are the only mammals to have no teeth. food', 'Yet our teeth are ideally adapted to eat practically anything in a marine environment. Marine mammals are mammals that have adapted, or adjusted, to life in the ocean. ocean', 'Dolphins are mammals. Teeth Dolphins have sharp, cone-shaped teeth. shape'] Fabricated answer  jaws\n",
      "==================================================\n",
      "618 ['Eggs come from wombs, and wombs are attached to women. Eggs and sperm pass out of their bodies through pores in a fold on the sides of their bodies. wombs', 'Normally, the fallopian tubes carry the eggs to the uterus. Eggs and sperm pass out of their bodies through pores in a fold on the sides of their bodies. uterus', 'Urine leaves the bladder in a single tube, the urethra, that runs to the penis or to the vagina. Sperm pass out of the body through the urethra. urine', 'Fluid builds up in the glands around the urethra. Sperm pass out of the body through the urethra. glands', 'Yes, an egg can be ovulated from one ovary and be captured by the tube on the opposite side. Eggs and sperm pass out of their bodies through pores in a fold on the sides of their bodies. ovaries', 'Females lay eggs singly in niches that are cut into both sides of the egg gallery. Eggs and sperm pass out of their bodies through pores in a fold on the sides of their bodies. females', 'Urine leaves the bladder in a single tube, the urethra, that runs to the penis or to the vagina. Sperm pass out of the body through the urethra. penis', 'Urine leaves the bladder in a single tube, the urethra, that runs to the penis or to the vagina. Sperm pass out of the body through the urethra. vagina'] Fabricated answer  vagina.\n",
      "==================================================\n",
      "620 ['Eggs indicate eggs in the ovaries. Eggs and sperm pass out of their bodies through pores in a fold on the sides of their bodies. ovaries', 'Then the egg is implanted into the uterus of a surrogate mother. Eggs and sperm pass out of their bodies through pores in a fold on the sides of their bodies. uterus', 'On the right is the urethra running through the penis. Sperm pass out of the body through the urethra. penis', 'Fluid builds up in the glands around the urethra. Sperm pass out of the body through the urethra. glands', 'Then a small tube is inserted into the bladder through the urethra. Sperm pass out of the body through the urethra. tubes', 'Natural membrane condoms have pores. Eggs and sperm pass out of their bodies through pores in a fold on the sides of their bodies. condom', 'Dendrites arise from the neuronal cell body. Information flow in a neuron is in through the dendrites, out through the axon. Axons', 'Female gametes are eggs or ova. Eggs and sperm pass out of their bodies through pores in a fold on the sides of their bodies. gametes'] Fabricated answer  urethra\n",
      "==================================================\n",
      "630 [\"Swimming increases the lungs' oxygen intake capability and makes one's muscles feel refreshed. Oxygen intake causes stimuli to the brain. The brain to feel pain\", 'Stimuli represent changes in the environment. Extensive bone changes can cause a deformity. bone deformities', 'Outside stimuli can be reduced by covering the eyes and ears. Eye irritant, can cause headaches and lung irritation. lung irritants', 'New listings get a lot of play. Lots and lots of stimuli for the brain to digest and play with. A new brain', 'Osteoporosis causes the loss of bone mass and strength. Osteoporosis is a condition marked by decreased bone mass and decreased bone density. decreases bone density', 'Money is the milk of politics. Visual or auditory stimuli can cause milk ejection. money', 'Many of the changes are transient. Causes and Risks can be a transient response to many stimuli . changes form', \"Legionella species of bacteria cause Legionnaires' Disease. Legionnaire's Disease Legionnaire's disease is attributable to legionella bacteria. Legionnaires' disease\"] Fabricated answer  changes in bone density\n",
      "==================================================\n",
      "696 [\"If the viewers miss that then it's a good thing. Panoramic images can also be record and accessed by the viewer. a thing that can be panoramic\", 'Teachers then use the images to illustrate the concepts they want to convey. Voice Recorded human voice is used to convey the concept. a voice recorder', 'Counting records Use the Totals feature to count records in a query. And sometimes the things that cant be counted, count. a thing that cant be panoramic', 'All digital cameras consume a lot of energy and a lot of batteries. a camera is used for recording images. a lot of energy', 'Image is blue pencil. mineral graphite is used for making pencil lead. Mineral graphite', 'High magnification and atomic scale imaging and electron diffraction analysis are common features. Neutron image plate detectors are used to record diffraction at a high resolution. scales or plates', \"Image processing Using GIMP GIMP is the GNU Image Manipulation Program. GIMP stands for GNU Image Manipulation Program, and that's what it is. Controlled manipulation\", 'Audio Microphones Most cameras have built in microphones that record all the sounds in a shoot. Much like a microphone converts sounds into electrical signals, cameras use an imager. electrical signals'] Fabricated answer  a camera\n",
      "==================================================\n",
      "859 [\"If it's cold weather, dress warmly and warm up longer. Winters are cold with occasional snow and ice, dress warmly. warm the planet\", 'After the age of two years, the body begins to produce less lactase. Unmelted winter snow and ice accumulate from year to year, and an ice age can begin. less friction', 'John Close of the ship Northumberland, aged 45 years. Unmelted winter snow and ice accumulate from year to year, and an ice age can begin. Stomata closing', 'Earth aligns with beginning of sun One earth year to sun year. Unmelted winter snow and ice accumulate from year to year, and an ice age can begin. heat the earth', 'Ice ages buried the planet in snow and ice for millions of years at a time. Unmelted winter snow and ice accumulate from year to year, and an ice age can begin. bury the planet', 'For instance, the minimum age to operate a fork-lift is eighteen years of age. Unmelted winter snow and ice accumulate from year to year, and an ice age can begin. Lifting objects', 'Bottom drains prevent the accumulation of water. Unmelted winter snow and ice accumulate from year to year, and an ice age can begin. prevents water loss', 'Blue whales begin mating between 5-10 years of age. Unmelted winter snow and ice accumulate from year to year, and an ice age can begin. save the whales'] Fabricated answer  heat the planet\n",
      "==================================================\n",
      "911 ['An octopus looks like a spider in the water. Octopus cyanea requires very good water quality as do most octopus species. Look good', 'Octopus, squid, shrimps, crabs, and clams are eaten occasionally. Octopus ink, unlike squid ink, is supposed to be somewhat bitter in taste. Avoid being eaten', 'Octopuses live close to land and in deep water. Octopus ink, unlike squid ink, is supposed to be somewhat bitter in taste. Stomata closing', 'Direct NCBI download Octopus is now able to directly communicate with the NCBI databases. Octopus ink, unlike squid ink, is supposed to be somewhat bitter in taste. communicate', 'Seed is disseminated by transport on animal hides. ink is used for hiding from predators by octopuses. disseminate it', 'Natural predators help control mites. Octopuses spray a cloud of ink at their predators. Controlled manipulation', 'Sometimes the colours on the wings help hide the insect from predators. ink is used for hiding from predators by octopuses. Prevent people from dying', 'Bases taste bitter and feel slippery. Octopus ink, unlike squid ink, is supposed to be somewhat bitter in taste. Feel happy'] Fabricated answer  Communicate\n",
      "==================================================\n"
     ]
    }
   ],
   "source": [
    "import numpy as np\n",
    "for x in bad_choices:\n",
    "    ques=dataset_test[0][x[0]][1]\n",
    "    choices=ques.split(' ( ) ')[1:]\n",
    "    ans=x[1]\n",
    "    print(x[0], choices, 'Fabricated answer ',ans)\n",
    "    print('='*50)"
   ]
  },
  {
   "cell_type": "code",
   "execution_count": 16,
   "metadata": {},
   "outputs": [],
   "source": [
    "\n",
    "def evaluate_validate():\n",
    "    ll = 1\n",
    "    wrong_answers = [[] for x in range(ll)]\n",
    "    got_2 = [[] for x in range(ll)]\n",
    "    got_1 = [[] for x in range(ll)]\n",
    "    answers = [[] for x in range(ll)]\n",
    "    last_str = None\n",
    "    last_acc = None\n",
    "    for ix in range(ll):\n",
    "        print(f\"Name {DATABASE_NAME[ix]}\")\n",
    "        # [pickle.load(open(f\"multiple_choice_datasets/obqa_fact_test.pkl\", \"rb\"))]:\n",
    "        # print(f\"test {data==dataset_test}\")\n",
    "        count = 0\n",
    "        count1 = 0\n",
    "        count2 = 0\n",
    "        count10 = 0\n",
    "        total = 0\n",
    "        data = dataset_test[ix]\n",
    "        pbar1 = trange(len(data))\n",
    "        for ques in pbar1:\n",
    "            question = data[ques][0]\n",
    "            key = data[ques][1]\n",
    "            total += 1\n",
    "            answer = run_model(question)[0]\n",
    "            answers[ix].append(answer)\n",
    "            if key == answer:\n",
    "                count += 1\n",
    "            else:\n",
    "                wrong_answers[ix].append(ques)\n",
    "            if key[0] == answer[0]:\n",
    "                count1 += 1\n",
    "                got_1[ix].append(ques)\n",
    "            if key[:2] == answer[:2]:\n",
    "                count2 += 1\n",
    "                got_2[ix].append(ques)\n",
    "            if answer in question:\n",
    "                count10 += 1\n",
    "            last_str = f\"{count}, {count1}, {count2}, {count10},{total},{count/total*100:.2f},{count10/total*100:.2f}\"\n",
    "            last_acc = f\"{count/total*100:.2f}\"\n",
    "            pbar1.set_postfix_str(last_str)\n",
    "    return last_str, last_acc,wrong_answers"
   ]
  },
  {
   "cell_type": "code",
   "execution_count": 17,
   "metadata": {},
   "outputs": [],
   "source": [
    "if not TO_TEST:\n",
    "    last_str, last_acc,wrong_answers= evaluate()\n",
    "    print(last_str, last_acc,wrong_answers)"
   ]
  },
  {
   "cell_type": "markdown",
   "metadata": {},
   "source": [
    "### Measure resilient"
   ]
  },
  {
   "cell_type": "code",
   "execution_count": 18,
   "metadata": {},
   "outputs": [
    {
     "data": {
      "text/plain": [
       "0.0"
      ]
     },
     "execution_count": 18,
     "metadata": {},
     "output_type": "execute_result"
    }
   ],
   "source": [
    "def measure_unalike(arr):\n",
    "    n = len(arr)\n",
    "    arr = pd.Series(arr).value_counts()\n",
    "    return 1 - ((arr / n) ** 2).sum()\n",
    "\n",
    "\n",
    "measure_unalike([\"a\", \"a\", \"a\"])"
   ]
  }
 ],
 "metadata": {
  "kernelspec": {
   "display_name": "Python 3 (ipykernel)",
   "language": "python",
   "name": "python3"
  },
  "language_info": {
   "codemirror_mode": {
    "name": "ipython",
    "version": 3
   },
   "file_extension": ".py",
   "mimetype": "text/x-python",
   "name": "python",
   "nbconvert_exporter": "python",
   "pygments_lexer": "ipython3",
   "version": "3.10.12"
  }
 },
 "nbformat": 4,
 "nbformat_minor": 4
}
