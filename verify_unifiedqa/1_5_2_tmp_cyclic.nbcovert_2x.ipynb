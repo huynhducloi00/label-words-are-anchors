{
 "cells": [
  {
   "cell_type": "code",
   "execution_count": 1,
   "metadata": {
    "execution": {
     "iopub.execute_input": "2024-04-04T23:38:21.536742Z",
     "iopub.status.busy": "2024-04-04T23:38:21.536241Z",
     "iopub.status.idle": "2024-04-04T23:38:22.962598Z",
     "shell.execute_reply": "2024-04-04T23:38:22.962080Z"
    }
   },
   "outputs": [],
   "source": [
    "import torch\n",
    "import pickle\n",
    "from torch.utils.data import Dataset, DataLoader\n",
    "from tqdm import trange\n",
    "from transformers import T5Tokenizer, T5ForConditionalGeneration, Adafactor\n",
    "from functools import wraps, partial\n",
    "from torch.nn.modules.sparse import Embedding\n",
    "from torch.optim import Adam, SGD\n",
    "import torch.nn as nn\n",
    "from tqdm import tqdm\n",
    "from random_utils import set_seed\n",
    "import pandas as pd"
   ]
  },
  {
   "cell_type": "code",
   "execution_count": 2,
   "metadata": {
    "execution": {
     "iopub.execute_input": "2024-04-04T23:38:22.966851Z",
     "iopub.status.busy": "2024-04-04T23:38:22.966340Z",
     "iopub.status.idle": "2024-04-04T23:38:26.491734Z",
     "shell.execute_reply": "2024-04-04T23:38:26.491303Z"
    }
   },
   "outputs": [
    {
     "name": "stderr",
     "output_type": "stream",
     "text": [
      "/home/ldh0033@auburn.edu/.local/lib/python3.10/site-packages/transformers/models/t5/tokenization_t5.py:246: FutureWarning: This tokenizer was incorrectly instantiated with a model max length of 512 which will be corrected in Transformers v5.\n",
      "For now, this behavior is kept to avoid breaking backwards compatibility when padding/encoding with `truncation is True`.\n",
      "- Be aware that you SHOULD NOT rely on google-t5/t5-large automatically truncating your input to 512 when padding/encoding.\n",
      "- If you want to encode/pad to sequences longer than 512 you can either instantiate this tokenizer with `model_max_length` or pass `max_length` when encoding/padding.\n",
      "- To avoid this warning, please instantiate this tokenizer with `model_max_length` set to your preferred value.\n",
      "  warnings.warn(\n",
      "You are using the default legacy behaviour of the <class 'transformers.models.t5.tokenization_t5.T5Tokenizer'>. This is expected, and simply means that the `legacy` (previous) behavior will be used so nothing changes for you. If you want to use the new behaviour, set `legacy=False`. This should only be set if you understand what it means, and thoroughly read the reason why this was added as explained in https://github.com/huggingface/transformers/pull/24565\n",
      "Special tokens have been added in the vocabulary, make sure the associated word embeddings are fine-tuned or trained.\n"
     ]
    },
    {
     "data": {
      "text/plain": [
       "{'shared': 0,\n",
       " 'decoder.embed_tokens': 0,\n",
       " 'encoder.embed_tokens': 0,\n",
       " 'lm_head': 0,\n",
       " 'encoder.block.0': 0,\n",
       " 'encoder.block.1': 0,\n",
       " 'encoder.block.2': 0,\n",
       " 'encoder.block.3': 0,\n",
       " 'encoder.block.4': 0,\n",
       " 'encoder.block.5': 0,\n",
       " 'encoder.block.6': 0,\n",
       " 'encoder.block.7': 0,\n",
       " 'encoder.block.8': 0,\n",
       " 'encoder.block.9': 0,\n",
       " 'encoder.block.10': 0,\n",
       " 'encoder.block.11': 0,\n",
       " 'encoder.block.12': 0,\n",
       " 'encoder.block.13': 0,\n",
       " 'encoder.block.14': 0,\n",
       " 'encoder.block.15': 0,\n",
       " 'encoder.block.16': 0,\n",
       " 'encoder.block.17': 1,\n",
       " 'encoder.block.18': 1,\n",
       " 'encoder.block.19': 1,\n",
       " 'encoder.block.20': 1,\n",
       " 'encoder.block.21': 1,\n",
       " 'encoder.block.22': 1,\n",
       " 'encoder.block.23': 1,\n",
       " 'encoder.final_layer_norm': 1,\n",
       " 'encoder.dropout': 1,\n",
       " 'decoder.block.0': 1,\n",
       " 'decoder.block.1': 1,\n",
       " 'decoder.block.2': 1,\n",
       " 'decoder.block.3': 1,\n",
       " 'decoder.block.4': 1,\n",
       " 'decoder.block.5': 1,\n",
       " 'decoder.block.6': 1,\n",
       " 'decoder.block.7': 1,\n",
       " 'decoder.block.8': 1,\n",
       " 'decoder.block.9': 1,\n",
       " 'decoder.block.10': 2,\n",
       " 'decoder.block.11': 2,\n",
       " 'decoder.block.12': 2,\n",
       " 'decoder.block.13': 2,\n",
       " 'decoder.block.14': 2,\n",
       " 'decoder.block.15': 2,\n",
       " 'decoder.block.16': 2,\n",
       " 'decoder.block.17': 2,\n",
       " 'decoder.block.18': 2,\n",
       " 'decoder.block.19': 2,\n",
       " 'decoder.block.20': 2,\n",
       " 'decoder.block.21': 2,\n",
       " 'decoder.block.22': 2,\n",
       " 'decoder.block.23': 2,\n",
       " 'decoder.final_layer_norm': 2,\n",
       " 'decoder.dropout': 2}"
      ]
     },
     "execution_count": 2,
     "metadata": {},
     "output_type": "execute_result"
    }
   ],
   "source": [
    "model_name =\"google-t5/t5-large\" \n",
    "# \"loi_with_padding_1.pkl\"#\n",
    "# model_name = (\n",
    "#     \"allenai/unifiedqa-v2-t5-large-1363200\"  # you can specify the model size here\n",
    "# )\n",
    "tokenizer = T5Tokenizer.from_pretrained(\"google-t5/t5-large\")\n",
    "\n",
    "model_original = T5ForConditionalGeneration.from_pretrained(\n",
    "    model_name, device_map=f\"auto\")  # 'auto')\n",
    "model = model_original\n",
    "# model.hf_device_map\n"
   ]
  },
  {
   "cell_type": "code",
   "execution_count": 3,
   "metadata": {
    "execution": {
     "iopub.execute_input": "2024-04-04T23:38:26.494440Z",
     "iopub.status.busy": "2024-04-04T23:38:26.493943Z",
     "iopub.status.idle": "2024-04-04T23:38:26.495808Z",
     "shell.execute_reply": "2024-04-04T23:38:26.495400Z"
    }
   },
   "outputs": [],
   "source": [
    "DEVICE=0"
   ]
  },
  {
   "cell_type": "code",
   "execution_count": 4,
   "metadata": {
    "execution": {
     "iopub.execute_input": "2024-04-04T23:38:26.498430Z",
     "iopub.status.busy": "2024-04-04T23:38:26.497933Z",
     "iopub.status.idle": "2024-04-04T23:38:26.501226Z",
     "shell.execute_reply": "2024-04-04T23:38:26.500830Z"
    }
   },
   "outputs": [],
   "source": [
    "\n",
    "DATABASE_NAME = \"obqa_fact\"\n",
    "dataset_test = pickle.load(\n",
    "    open(f\"multiple_choice_datasets/{DATABASE_NAME}_test.pkl\", \"rb\"))\n",
    "dataset_train = pickle.load(\n",
    "    open(f\"multiple_choice_datasets/{DATABASE_NAME}_train.pkl\", \"rb\"))"
   ]
  },
  {
   "cell_type": "code",
   "execution_count": 5,
   "metadata": {
    "execution": {
     "iopub.execute_input": "2024-04-04T23:38:26.504213Z",
     "iopub.status.busy": "2024-04-04T23:38:26.503735Z",
     "iopub.status.idle": "2024-04-04T23:38:26.505469Z",
     "shell.execute_reply": "2024-04-04T23:38:26.505045Z"
    }
   },
   "outputs": [],
   "source": [
    "def hook(hook_before, oldfunc, hook_after):\n",
    "\n",
    "    def foo(*args, **kwargs):\n",
    "        hook_before(*args, **kwargs)\n",
    "        aa = oldfunc(*args, **kwargs)\n",
    "        hook_after(*args, **kwargs)\n",
    "        return aa\n",
    "\n",
    "    return foo\n"
   ]
  },
  {
   "cell_type": "code",
   "execution_count": 6,
   "metadata": {
    "execution": {
     "iopub.execute_input": "2024-04-04T23:38:26.512373Z",
     "iopub.status.busy": "2024-04-04T23:38:26.511879Z",
     "iopub.status.idle": "2024-04-04T23:38:26.513160Z",
     "shell.execute_reply": "2024-04-04T23:38:26.513535Z"
    }
   },
   "outputs": [],
   "source": [
    "def new_compute_bias(self, query_length, key_length, device=None):\n",
    "    \"\"\"Compute binned relative position bias\"\"\"\n",
    "    if device is None:\n",
    "        device = self.relative_attention_bias.weight.device\n",
    "    context_position = torch.arange(query_length, dtype=torch.long, device=device)[\n",
    "        :, None\n",
    "    ]\n",
    "    memory_position = torch.arange(\n",
    "        key_length, dtype=torch.long, device=device)[None, :]\n",
    "\n",
    "    relative_position = (\n",
    "        memory_position - context_position\n",
    "    )  # shape (query_length, key_length)\n",
    "    if self.is_decoder:\n",
    "        values = values.permute([2, 0, 1]).unsqueeze(\n",
    "            0\n",
    "        )  # shape (1, num_heads, query_length, key_length)\n",
    "        return values\n",
    "\n",
    "    anchors =self.anchor_array\n",
    "    values = []\n",
    "    for anchor in anchors:\n",
    "        a = [anchor[0], anchor[1]]\n",
    "        b = [anchor[1], anchor[2]]\n",
    "        c = [anchor[2], anchor[3]]\n",
    "        d = [anchor[3], anchor[4]]\n",
    "        mot = [a, b, c, d]\n",
    "        max_answer_length = max([x[1] - x[0] for x in mot])\n",
    "        # print(a, b, c, d, max_answer_length)\n",
    "        context_position_new = context_position.clone()\n",
    "        context_position_new[b[0]: b[1]\n",
    "                             ] = context_position_new[b[0]: b[1]] - a[0]\n",
    "        context_position_new[c[0]: c[1]\n",
    "                             ] = context_position_new[c[0]: c[1]] - a[0]\n",
    "        context_position_new[d[0]: d[1]\n",
    "                             ] = context_position_new[d[0]: d[1]] - a[0]\n",
    "        context_position_new[-1] = context_position_new[a[0]\n",
    "                                                        ] + 2 * max_answer_length\n",
    "        memory_position_new = context_position_new.clone().view(1, -1)\n",
    "        relative_position = (\n",
    "            memory_position_new - context_position_new\n",
    "        )  # shape (query_length, key_length)\n",
    "        for i in range(len(mot)):\n",
    "            for j in range(len(mot)):\n",
    "                if i != j:\n",
    "                    x = mot[i]\n",
    "                    y = mot[j]\n",
    "                    relative_position[x[0]: x[1], y[0]                                      : y[1]] += max_answer_length\n",
    "        relative_position_bucket = self._relative_position_bucket(\n",
    "            relative_position,  # shape (query_length, key_length)\n",
    "            bidirectional=(not self.is_decoder),\n",
    "            num_buckets=self.relative_attention_num_buckets,\n",
    "            max_distance=self.relative_attention_max_distance,\n",
    "        )\n",
    "        value = self.relative_attention_bias(relative_position_bucket)\n",
    "        values.append(value)\n",
    "    values = torch.stack(values)  # shape [1, 91, 91, 16]\n",
    "    values = values.permute(\n",
    "        [0, 3, 1, 2]\n",
    "    )  # shape (batch size, num_heads, query_length, key_length)\n",
    "    return values\n"
   ]
  },
  {
   "cell_type": "code",
   "execution_count": 7,
   "metadata": {
    "execution": {
     "iopub.execute_input": "2024-04-04T23:38:26.521004Z",
     "iopub.status.busy": "2024-04-04T23:38:26.520526Z",
     "iopub.status.idle": "2024-04-04T23:38:26.522579Z",
     "shell.execute_reply": "2024-04-04T23:38:26.522177Z"
    }
   },
   "outputs": [
    {
     "name": "stdout",
     "output_type": "stream",
     "text": [
      "the sun is the source of energy for physical cycles on Earth. The sun\n",
      "is responsible for \\n ( ) puppies learning new tricks ( ) children\n",
      "growing up and getting old ( ) flowers wilting in a vase ( ) plants\n",
      "sprouting, blooming and wilting\n"
     ]
    }
   ],
   "source": [
    "\n",
    "import textwrap\n",
    "\n",
    "\n",
    "extra_dim_learning = []\n",
    "\n",
    "\n",
    "def set_mode(MODE):\n",
    "    itself = model.encoder.block[0].layer[0].SelfAttention\n",
    "    if MODE == \"new\":\n",
    "        # itself.forward = partial(modified_self_attention_forward, itself)\n",
    "        itself.compute_bias = partial(new_compute_bias, itself)\n",
    "        model.forward = hook(input_before_hooker, partial(\n",
    "            T5ForConditionalGeneration.forward, model), input_after_hooker)\n",
    "\n",
    "    else:\n",
    "        # itself.forward = partial(\n",
    "        #     model.encoder.block[0].layer[0].SelfAttention.__class__.forward, itself\n",
    "        # )\n",
    "        itself.compute_bias = partial(\n",
    "            model.encoder.block[0].layer[0].SelfAttention.__class__.compute_bias, itself\n",
    "        )\n",
    "        model.forward =T5ForConditionalGeneration.forward\n",
    "\n",
    "\n",
    "\n",
    "def check_encoded(all_input_ids):\n",
    "    anchors = []\n",
    "    for input_ids in all_input_ids:\n",
    "        # print('\\n'.join([f'{x.item()},{y}' for x,y in zip(input_ids, tokens)][50:]))\n",
    "        original = input_ids.tolist()\n",
    "        anchor = []\n",
    "        for i in range(len(input_ids)):\n",
    "            if (\n",
    "                i < len(input_ids) - 2\n",
    "                and input_ids[i] == 41\n",
    "                and input_ids[i + 1] == 3\n",
    "                and input_ids[i + 2] == 61\n",
    "            ) or original[i] == 1:\n",
    "                anchor.append(i)\n",
    "        anchors.append(anchor)\n",
    "    return anchors\n",
    "\n",
    "def input_before_hooker(*args, **kwargs):\n",
    "    input_ids=kwargs[\"input_ids\"]\n",
    "    # print('old ',input_ids)\n",
    "    anchors=check_encoded(input_ids)\n",
    "    final_inputs=[]\n",
    "    for input_id, anchor in zip(input_ids, anchors):\n",
    "        input_id=input_id.tolist()\n",
    "        max_answer_length = max([anchor[idx+1] - anchor[idx] for idx in range(len(anchor)-1)])\n",
    "        for x in reversed(range(1, 5)):\n",
    "            if anchor[x] - anchor[x - 1] < max_answer_length:\n",
    "                [\n",
    "                    input_id.insert(anchor[x], 0)\n",
    "                    for _ in range(max_answer_length - (anchor[x] - anchor[x - 1]))\n",
    "                ]\n",
    "        final_inputs.append(input_id)\n",
    "    max_length=max([len(input) for input in final_inputs])\n",
    "    mask=[[1]*max_length]*len(final_inputs)\n",
    "    for idx,input in enumerate(final_inputs):\n",
    "        for x in range(max_length):\n",
    "            if x>=len(input):\n",
    "                mask[idx][x]=0\n",
    "        for x in range(max_length-len(input)):\n",
    "            input.append(0)\n",
    "    kwargs[\"input_ids\"]=torch.tensor(final_inputs).to(input_ids.device)\n",
    "    kwargs['attention_mask']=torch.tensor(mask).to(input_ids.device)\n",
    "    # print('new ',kwargs[\"input_ids\"])\n",
    "    anchors=check_encoded(kwargs[\"input_ids\"])\n",
    "    model.encoder.block[0].layer[0].SelfAttention.anchor_array = anchors\n",
    "\n",
    "def input_after_hooker(*args, **kwargs):\n",
    "    model.encoder.block[0].layer[0].SelfAttention.anchor_array = None\n",
    "\n",
    "print(textwrap.fill(dataset_train[0][0]))\n",
    "\n",
    "# set_mode('old')\n",
    "set_mode('new')\n",
    "# run_model([dataset_train[0][0],dataset_train[1][0]])\n",
    "# run_model([\"\"\"A person wants to start\"\"\", 'mot hai ba'])\n"
   ]
  },
  {
   "cell_type": "code",
   "execution_count": 8,
   "metadata": {
    "execution": {
     "iopub.execute_input": "2024-04-04T23:38:26.527869Z",
     "iopub.status.busy": "2024-04-04T23:38:26.527400Z",
     "iopub.status.idle": "2024-04-04T23:38:26.529212Z",
     "shell.execute_reply": "2024-04-04T23:38:26.528825Z"
    }
   },
   "outputs": [],
   "source": [
    "\n",
    "def measure_unalike(arr, print_arr=False):\n",
    "    n = len(arr)\n",
    "    arr = pd.Series(arr).value_counts()\n",
    "    if print_arr:\n",
    "        print(arr)\n",
    "    return 1 - ((arr / n)**2).sum()\n",
    "\n",
    "\n",
    "question_to_do = 5\n",
    "per_question = 20\n",
    "\n",
    "\n",
    "def get_model_forward(input_ids, attention_mask, model=model):\n",
    "    with torch.no_grad():\n",
    "        start = []\n",
    "        [start.append([0]) for x in range(len(input_ids))]\n",
    "        for k in range(50):\n",
    "            # print(torch.tensor(start).shape)\n",
    "            result = model(\n",
    "                input_ids=input_ids.to(DEVICE),\n",
    "                attention_mask=attention_mask.to(DEVICE),\n",
    "                decoder_input_ids=torch.tensor(start).to(DEVICE),\n",
    "                output_attentions=True,\n",
    "            )\n",
    "            item = result.logits.argmax(dim=2)[:, -1]\n",
    "            # print('loi',result.logits.shape, item)\n",
    "            for index in range(len(item)):\n",
    "                start[index].append(item[index].item())\n",
    "            if torch.allclose(item, torch.tensor(1)):\n",
    "                break\n",
    "            #     break\n",
    "    result = []\n",
    "    for batch in start:\n",
    "        y = -1\n",
    "        for index, x in enumerate(batch):\n",
    "            if x == 1:\n",
    "                y = index\n",
    "                break\n",
    "        result.append(batch[:y+1] if y > -1 else batch)\n",
    "    return [tokenizer.decode(x, skip_special_tokens=True) for x in result]\n",
    "\n",
    "\n",
    "def run_model(input_strs):\n",
    "    if input_strs is str:\n",
    "        input_strs = [input_strs]\n",
    "    input_ids_wrapper = tokenizer(\n",
    "        input_strs, padding=True, return_tensors='pt')\n",
    "\n",
    "    answer = get_model_forward(input_ids_wrapper['input_ids'],\n",
    "                               input_ids_wrapper['attention_mask'])\n",
    "    return answer\n",
    "\n"
   ]
  },
  {
   "cell_type": "code",
   "execution_count": 9,
   "metadata": {
    "execution": {
     "iopub.execute_input": "2024-04-04T23:38:26.534220Z",
     "iopub.status.busy": "2024-04-04T23:38:26.533768Z",
     "iopub.status.idle": "2024-04-04T23:38:26.535474Z",
     "shell.execute_reply": "2024-04-04T23:38:26.535092Z"
    }
   },
   "outputs": [],
   "source": [
    "kk = [(index, x, y) for index, (x, y) in enumerate(model.named_parameters())\n",
    "      if y.requires_grad == True]\n",
    "[(index, x) for index, x, y in kk if \"decoder\" in x]\n",
    "len(kk)\n",
    "all_position_weight = [\n",
    "    y for index, x, y in kk if (\"extra_dimension_embedding\" in x) or (\n",
    "        (\"encoder\" in x) and (\"relative_attention_bias\" in x))\n",
    "]\n",
    "to_train_model = [y for index, x, y in kk]"
   ]
  },
  {
   "cell_type": "code",
   "execution_count": 10,
   "metadata": {
    "execution": {
     "iopub.execute_input": "2024-04-04T23:38:26.542993Z",
     "iopub.status.busy": "2024-04-04T23:38:26.542550Z",
     "iopub.status.idle": "2024-04-04T23:38:26.544239Z",
     "shell.execute_reply": "2024-04-04T23:38:26.543856Z"
    }
   },
   "outputs": [],
   "source": [
    "data_array = [\n",
    "    (ques, answer, ques.split(\" ( ) \")[1:])\n",
    "    for ques, answer in [\n",
    "        (\n",
    "            dataset_train[x][0],\n",
    "            dataset_train[x][1],\n",
    "        )\n",
    "        for x in range(len(dataset_train))\n",
    "    ]\n",
    "]"
   ]
  },
  {
   "cell_type": "code",
   "execution_count": 11,
   "metadata": {
    "execution": {
     "iopub.execute_input": "2024-04-04T23:38:26.549493Z",
     "iopub.status.busy": "2024-04-04T23:38:26.549040Z",
     "iopub.status.idle": "2024-04-04T23:38:26.550665Z",
     "shell.execute_reply": "2024-04-04T23:38:26.550242Z"
    }
   },
   "outputs": [],
   "source": [
    "class CheckTransform(object):\n",
    "\n",
    "    def __call__(self, sample):\n",
    "        # print(f\"'{sample[1]}'\")\n",
    "        return {\n",
    "            \"input_ids\": sample[0],\n",
    "            \"label_index\": sample[2].index(sample[1]),\n",
    "            \"all_labels\": sample[2],\n",
    "        }\n",
    "\n",
    "\n",
    "class CustomDataset(Dataset):\n",
    "\n",
    "    def __init__(self, dataset_array, transform=None):\n",
    "        self.dataset = dataset_array\n",
    "        self.transform = transform\n",
    "\n",
    "    def __len__(self):\n",
    "        return len(self.dataset)\n",
    "\n",
    "    def __getitem__(self, idx):\n",
    "        return self.transform(self.dataset[idx])\n",
    "\n",
    "\n",
    "def collate(datas):\n",
    "    wrapper = tokenizer(sum([x[\"all_labels\"] for x in datas], []),\n",
    "                        padding=True)\n",
    "    wrapper[\"all_label_ids\"] = torch.tensor(wrapper.pop(\"input_ids\"))\n",
    "    # wrapper[\"label_index\"] = torch.tensor([x[\"label_index\"] for x in datas])\n",
    "    for k in wrapper[\"all_label_ids\"]:\n",
    "        k[k == tokenizer.pad_token_id] = -100\n",
    "    wrapper[\"all_decoder_attention_masks\"] = torch.tensor(\n",
    "        wrapper.pop(\"attention_mask\"))\n",
    "\n",
    "    for_input = tokenizer([x[\"input_ids\"] for x in datas], padding=True)\n",
    "    wrapper['input_ids'] = torch.tensor(for_input.pop('input_ids'))\n",
    "    wrapper['attention_mask'] = torch.tensor(for_input.pop('attention_mask'))\n",
    "    wrapper[\"label_index\"] = torch.tensor([x[\"label_index\"] for x in datas])\n",
    "    return wrapper\n",
    "\n",
    "\n",
    "loi_dataloader = DataLoader(\n",
    "    CustomDataset(\n",
    "        data_array,\n",
    "        CheckTransform(),\n",
    "    ),\n",
    "    batch_size=10,\n",
    "    shuffle=True,\n",
    "    collate_fn=collate,\n",
    ")\n",
    "# for k in loi_dataloader:\n",
    "#     print(k[\"all_label_ids\"])\n",
    "#     break"
   ]
  },
  {
   "cell_type": "code",
   "execution_count": 12,
   "metadata": {
    "execution": {
     "iopub.execute_input": "2024-04-04T23:38:26.553104Z",
     "iopub.status.busy": "2024-04-04T23:38:26.552659Z",
     "iopub.status.idle": "2024-04-04T23:38:26.554681Z",
     "shell.execute_reply": "2024-04-04T23:38:26.554280Z"
    }
   },
   "outputs": [
    {
     "data": {
      "text/plain": [
       "4957"
      ]
     },
     "execution_count": 12,
     "metadata": {},
     "output_type": "execute_result"
    }
   ],
   "source": [
    "len(data_array)"
   ]
  },
  {
   "cell_type": "code",
   "execution_count": 13,
   "metadata": {
    "execution": {
     "iopub.execute_input": "2024-04-04T23:38:26.557187Z",
     "iopub.status.busy": "2024-04-04T23:38:26.556743Z",
     "iopub.status.idle": "2024-04-04T23:38:26.559392Z",
     "shell.execute_reply": "2024-04-04T23:38:26.558988Z"
    }
   },
   "outputs": [],
   "source": [
    "# attention 898704\n",
    "# hidden state 242688\n",
    "# classification_layer = nn.Linear(242688, 4).to(DEVICE)\n",
    "optimizer = Adafactor(\n",
    "    to_train_model,  # + [x for x in classification_layer.parameters()],\n",
    "    relative_step=True,\n",
    "    warmup_init=True,\n",
    "    lr=None,\n",
    ")"
   ]
  },
  {
   "cell_type": "code",
   "execution_count": 14,
   "metadata": {
    "execution": {
     "iopub.execute_input": "2024-04-04T23:38:26.565222Z",
     "iopub.status.busy": "2024-04-04T23:38:26.564755Z",
     "iopub.status.idle": "2024-04-04T23:56:42.531911Z",
     "shell.execute_reply": "2024-04-04T23:56:42.532289Z"
    }
   },
   "outputs": [
    {
     "name": "stderr",
     "output_type": "stream",
     "text": [
      "Loss: 0.559: 100%|█████████████████████████████| 496/496 [03:52<00:00,  2.13it/s, ['buy less with friends']]\n",
      "Loss: 0.284: 100%|█████████████████████████████| 496/496 [03:34<00:00,  2.31it/s, ['quit eating lunch out']]\n",
      "Loss: 0.111: 100%|█████████████████████████████| 496/496 [03:35<00:00,  2.31it/s, ['buy less with friends']]\n",
      "Loss: 0.099: 100%|█████████████████████████████| 496/496 [03:39<00:00,  2.26it/s, ['buy less with friends']]\n",
      "Loss: 0.180: 100%|█████████████████████████████| 496/496 [03:33<00:00,  2.32it/s, ['quit eating lunch out']]\n"
     ]
    }
   ],
   "source": [
    "def turn_position_learning(on):\n",
    "    for x in all_position_weight:\n",
    "        x.requires_grad = on\n",
    "\n",
    "\n",
    "loss_running_score = 0\n",
    "correct_running_score = 0\n",
    "conform_running_score = 0\n",
    "count = 0\n",
    "extra_info = \"\"\n",
    "res_tokens = []\n",
    "accumulate = 10\n",
    "optimizer.zero_grad()\n",
    "set_seed(42)\n",
    "turn_position = False\n",
    "turn_position_learning(False)\n",
    "for learn_pos in range(5):\n",
    "    pbar = tqdm(loi_dataloader)\n",
    "    for wrapper in pbar:\n",
    "        count += 1\n",
    "        # if count%20==0:\n",
    "        #     turn_position=not turn_position\n",
    "        #     turn_position_learning(turn_position)\n",
    "        # if count>20:\n",
    "        #     break\n",
    "        # print(textwrap.fill(dataset_train[0][0]))\n",
    "        only_correct_label_ids = torch.stack([\n",
    "            wrapper[\"all_label_ids\"][batch_index * 4 + x]\n",
    "            for batch_index, x in enumerate(wrapper[\"label_index\"])\n",
    "        ])\n",
    "        only_correct_decoder_attention_mask = torch.stack([\n",
    "            wrapper[\"all_decoder_attention_masks\"][batch_index * 4 + x]\n",
    "            for batch_index, x in enumerate(wrapper[\"label_index\"])\n",
    "        ])\n",
    "        result = model(\n",
    "            input_ids=wrapper[\"input_ids\"].to(DEVICE),\n",
    "            attention_mask=wrapper['attention_mask'].to(DEVICE),\n",
    "            labels=only_correct_label_ids.to(DEVICE),\n",
    "            decoder_attention_mask=only_correct_decoder_attention_mask.to(\n",
    "                DEVICE),  # output_attentions=True\n",
    "        )\n",
    "        # conform_loss = 0\n",
    "        # for batch in range(wrapper[\"input_ids\"].shape[0]):\n",
    "        #     selected_answer = result.logits[batch].argmax(dim=1)\n",
    "        #     found = False\n",
    "        #     conform_losses = [0, 0, 0, 0]\n",
    "        #     for each_answer in range(4):\n",
    "        #         tui_batch = wrapper[\"all_label_ids\"][batch * 4 + each_answer]\n",
    "        #         conform_losses[each_answer] += loss_fn(\n",
    "        #                     result.logits[batch], tui_batch.to(DEVICE)\n",
    "        #                 )\n",
    "        #         # for m in range(len(tui_batch)):\n",
    "        #         #     if selected_answer[m] != tui_batch[m] and tui_batch[m] != -100:\n",
    "        #         #         conform_losses[each_answer] += loss_fn(\n",
    "        #         #             result.logits[batch][m], tui_batch[m].to(DEVICE)\n",
    "        #         #         )\n",
    "        #         # conform_min_index = torch.argmin(conform_losses)\n",
    "        #         # print(conform_min_index)\n",
    "        #     conform_loss += min(conform_losses)  # conform_losses[conform_min_index]\n",
    "        # conform_loss = conform_loss / wrapper[\"input_ids\"].shape[0]\n",
    "        # kk1=result.encoder_attentions\n",
    "        # break\n",
    "        # final_logits = classification_layer(\n",
    "        #     torch.flatten(result.encoder_last_hidden_state, start_dim=1)\n",
    "        # )\n",
    "        # loss = loss_fn(final_logits, wrapper[\"label_index\"].to(DEVICE))\n",
    "        loss = result.loss\n",
    "        loss_running_score = loss_running_score * 0.9 + loss.item() * 0.1\n",
    "        if loss != 0:\n",
    "            loss.backward()\n",
    "        optimizer.step()\n",
    "        optimizer.zero_grad()\n",
    "        # scheduler.step()\n",
    "        with torch.no_grad():\n",
    "            if count % 10 == 0:\n",
    "                extra_info = run_model(dataset_test[0][0])\n",
    "                # final_logits = classification_layer(torch.flatten(hidden, start_dim=1))\n",
    "                # extra_info = str(final_logits.argmax())\n",
    "            pbar.set_description_str(f\"Loss: {loss_running_score:.3f}\")\n",
    "            pbar.set_postfix_str(extra_info)\n",
    "pass"
   ]
  },
  {
   "cell_type": "code",
   "execution_count": 15,
   "metadata": {
    "execution": {
     "iopub.execute_input": "2024-04-04T23:56:42.535201Z",
     "iopub.status.busy": "2024-04-04T23:56:42.534723Z",
     "iopub.status.idle": "2024-04-04T23:56:54.156145Z",
     "shell.execute_reply": "2024-04-04T23:56:54.155652Z"
    }
   },
   "outputs": [],
   "source": [
    "model.save_pretrained(\"loi_with_padding_1.pkl\", from_pt=True)\n"
   ]
  },
  {
   "cell_type": "markdown",
   "metadata": {},
   "source": [
    "### Measure accuracy and answer coverage"
   ]
  },
  {
   "cell_type": "code",
   "execution_count": 16,
   "metadata": {
    "execution": {
     "iopub.execute_input": "2024-04-04T23:56:54.160445Z",
     "iopub.status.busy": "2024-04-04T23:56:54.159968Z",
     "iopub.status.idle": "2024-04-04T23:59:05.704541Z",
     "shell.execute_reply": "2024-04-04T23:59:05.704914Z"
    }
   },
   "outputs": [
    {
     "name": "stdout",
     "output_type": "stream",
     "text": [
      "test True\n"
     ]
    },
    {
     "name": "stderr",
     "output_type": "stream",
     "text": [
      "100%|█████████████████████████████████████████████| 500/500 [02:11<00:00,  3.80it/s, 202, 310, 298, 392,500]\n"
     ]
    }
   ],
   "source": [
    "for data in [dataset_test]:\n",
    "    print(f\"test {data==dataset_test}\")\n",
    "    count = 0\n",
    "    count1 = 0\n",
    "    count2 = 0\n",
    "    count10 = 0\n",
    "    total = 0\n",
    "    pbar1 = trange(len(data))\n",
    "    for ques in pbar1:\n",
    "        question = data[ques][0]\n",
    "        key = data[ques][1]\n",
    "        total += 1\n",
    "        answer = run_model(question)[0]\n",
    "        if key == answer:\n",
    "            count += 1\n",
    "        if key[0] == answer[0]:\n",
    "            count1 += 1\n",
    "        if key[:2] == answer[:2]:\n",
    "            count2 += 1\n",
    "        if answer in question:\n",
    "            count10 += 1\n",
    "        pbar1.set_postfix_str(\n",
    "            f\"{count}, {count1}, {count2}, {count10},{total}\")"
   ]
  },
  {
   "cell_type": "markdown",
   "metadata": {},
   "source": [
    "### Measure resilient"
   ]
  },
  {
   "cell_type": "code",
   "execution_count": 17,
   "metadata": {
    "execution": {
     "iopub.execute_input": "2024-04-04T23:59:05.709264Z",
     "iopub.status.busy": "2024-04-04T23:59:05.708791Z",
     "iopub.status.idle": "2024-04-04T23:59:05.711340Z",
     "shell.execute_reply": "2024-04-04T23:59:05.710934Z"
    }
   },
   "outputs": [
    {
     "data": {
      "text/plain": [
       "0.0"
      ]
     },
     "execution_count": 17,
     "metadata": {},
     "output_type": "execute_result"
    }
   ],
   "source": [
    "def measure_unalike(arr):\n",
    "    n = len(arr)\n",
    "    arr = pd.Series(arr).value_counts()\n",
    "    return 1 - ((arr / n)**2).sum()\n",
    "\n",
    "\n",
    "measure_unalike([\"a\", \"a\", \"a\"])"
   ]
  },
  {
   "cell_type": "code",
   "execution_count": 18,
   "metadata": {
    "execution": {
     "iopub.execute_input": "2024-04-04T23:59:05.714191Z",
     "iopub.status.busy": "2024-04-04T23:59:05.713719Z",
     "iopub.status.idle": "2024-04-04T23:59:05.715660Z",
     "shell.execute_reply": "2024-04-04T23:59:05.715243Z"
    }
   },
   "outputs": [],
   "source": [
    "# for data in [dataset_test]:\n",
    "#     count = 0\n",
    "#     count1 = 0\n",
    "#     count2 = 0\n",
    "#     count10 = 0\n",
    "#     total = 0\n",
    "#     question_index = range(5)\n",
    "#     pbar1 = tqdm(question_index)\n",
    "#     unalike = []\n",
    "#     for ques1 in pbar1:\n",
    "#         answer_set = []\n",
    "#         for m in trange(24):\n",
    "#             ques = ques1 * 24 + m\n",
    "#             question = data[ques][0]\n",
    "#             key = data[ques][1]\n",
    "#             question_convert = check(question)\n",
    "#             if question_convert is None:\n",
    "#                 continue\n",
    "#             total += 1\n",
    "#             answer, _, _, _ = get_model_forward(question_convert.to(DEVICE),\n",
    "#                                                 model=model2)\n",
    "#             answer_set.append(answer)\n",
    "#         unalike.append(measure_unalike(answer_set))\n",
    "# print(f\"Mean unalikeability: {sum(unalike)/len(unalike)}\")"
   ]
  },
  {
   "cell_type": "code",
   "execution_count": 19,
   "metadata": {
    "execution": {
     "iopub.execute_input": "2024-04-04T23:59:05.718623Z",
     "iopub.status.busy": "2024-04-04T23:59:05.718137Z",
     "iopub.status.idle": "2024-04-04T23:59:05.720098Z",
     "shell.execute_reply": "2024-04-04T23:59:05.719698Z"
    }
   },
   "outputs": [],
   "source": [
    "# pbar = trange(0, len(dataset_train), 24)\n",
    "# loss_score = 0\n",
    "# count = 0\n",
    "# extra_info = \"\"\n",
    "# set_seed(42)\n",
    "# res_tokens=[]\n",
    "# for learn_pos in range(10):\n",
    "#     for step in pbar:\n",
    "#         count += 1\n",
    "#         # if count>20:\n",
    "#         #     break\n",
    "#         # print(textwrap.fill(dataset_train[0][0]))\n",
    "#         input_tokens = check(dataset_train[step][0])\n",
    "#         if input_tokens is None:\n",
    "#             continue\n",
    "#         labels = tokenizer.encode(dataset_train[step][1], return_tensors=\"pt\")\n",
    "#         result = model(input_ids=input_tokens.to(DEVICE), labels=shape(labels).to(DEVICE))\n",
    "\n",
    "#         optimizer.zero_grad()\n",
    "#         loss =loss_fn(result.logits[0][learn_pos],labels[0][learn_pos].to(DEVICE))\n",
    "#         loss_score = loss_score * 0.9 + loss.item() * 0.1\n",
    "#         if loss.item()!=0:\n",
    "#             loss.backward()\n",
    "#         optimizer.step()\n",
    "#         # scheduler.step()\n",
    "#         with torch.no_grad():\n",
    "#             if count % 10 == 0:\n",
    "#                 extra_info, res_tokens = get_model_forward(check(dataset_test[0][0]).to(DEVICE))\n",
    "#             pbar.set_description_str(f\"Loss: {loss_score:.2f}\")\n",
    "#             pbar.set_postfix_str(res_tokens[:learn_pos+2])\n",
    "# pass"
   ]
  },
  {
   "cell_type": "code",
   "execution_count": 20,
   "metadata": {
    "execution": {
     "iopub.execute_input": "2024-04-04T23:59:05.722726Z",
     "iopub.status.busy": "2024-04-04T23:59:05.722242Z",
     "iopub.status.idle": "2024-04-04T23:59:05.723698Z",
     "shell.execute_reply": "2024-04-04T23:59:05.724053Z"
    }
   },
   "outputs": [],
   "source": [
    "# class ListDataset(Dataset):\n",
    "#     def __init__(self, li):\n",
    "#         super(ListDataset, self).__init__()\n",
    "#         self.li=li\n",
    "#     def __getitem__(self, index):\n",
    "#         x,y=self.li[index]\n",
    "#         return x,y\n",
    "#     def __len__(self):\n",
    "#         return len(self.li)\n",
    "# test_loader=DataLoader(ListDataset(dataset_test), batch_size=10, shuffle=True)\n",
    "# for x,y in test_loader:\n",
    "#     print(x,y)\n",
    "#     break\n",
    "# count=0\n",
    "# pbar=tqdm(test_loader)\n",
    "# for question,key in pbar:\n",
    "#     answer = run_model(question)\n",
    "#     count+=sum([answer[x]==key[x] for x in range(len(answer))])\n",
    "#     if key == answer:\n",
    "#         count += 1\n",
    "#     pbar.set_postfix_str(f'{count}')\n",
    "# print(count)"
   ]
  }
 ],
 "metadata": {
  "kernelspec": {
   "display_name": ".venv",
   "language": "python",
   "name": "python3"
  },
  "language_info": {
   "codemirror_mode": {
    "name": "ipython",
    "version": 3
   },
   "file_extension": ".py",
   "mimetype": "text/x-python",
   "name": "python",
   "nbconvert_exporter": "python",
   "pygments_lexer": "ipython3",
   "version": "3.10.12"
  }
 },
 "nbformat": 4,
 "nbformat_minor": 2
}
