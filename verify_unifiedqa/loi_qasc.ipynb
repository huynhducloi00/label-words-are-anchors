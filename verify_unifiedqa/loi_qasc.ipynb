{
 "cells": [
  {
   "cell_type": "code",
   "execution_count": 1,
   "id": "28ae94db",
   "metadata": {
    "execution": {
     "iopub.execute_input": "2024-04-06T18:22:48.895733Z",
     "iopub.status.busy": "2024-04-06T18:22:48.895419Z",
     "iopub.status.idle": "2024-04-06T18:22:50.701126Z",
     "shell.execute_reply": "2024-04-06T18:22:50.700812Z"
    },
    "papermill": {
     "duration": 1.821563,
     "end_time": "2024-04-06T18:22:50.701209",
     "exception": false,
     "start_time": "2024-04-06T18:22:48.879646",
     "status": "completed"
    },
    "tags": []
   },
   "outputs": [],
   "source": [
    "import torch\n",
    "import pickle\n",
    "from torch.utils.data import Dataset, DataLoader\n",
    "from tqdm import trange\n",
    "from transformers import T5Tokenizer, T5ForConditionalGeneration, Adafactor\n",
    "from functools import wraps, partial\n",
    "from torch.nn.modules.sparse import Embedding\n",
    "from torch.optim import Adam, SGD\n",
    "import torch.nn as nn\n",
    "from tqdm import tqdm\n",
    "from random_utils import set_seed\n",
    "import pandas as pd"
   ]
  },
  {
   "cell_type": "code",
   "execution_count": 2,
   "id": "f9c02768",
   "metadata": {
    "execution": {
     "iopub.execute_input": "2024-04-06T18:22:50.724012Z",
     "iopub.status.busy": "2024-04-06T18:22:50.723054Z",
     "iopub.status.idle": "2024-04-06T18:22:50.725575Z",
     "shell.execute_reply": "2024-04-06T18:22:50.725260Z"
    },
    "papermill": {
     "duration": 0.01408,
     "end_time": "2024-04-06T18:22:50.725643",
     "exception": false,
     "start_time": "2024-04-06T18:22:50.711563",
     "status": "completed"
    },
    "tags": [
     "parameters"
    ]
   },
   "outputs": [],
   "source": [
    "model_name='google-t5/t5-large'\n",
    "max_answer_length = 300\n",
    "BATCH_SIZE=10\n",
    "DATA_NAME_SINGLE='arc_easy'"
   ]
  },
  {
   "cell_type": "code",
   "execution_count": 3,
   "id": "c2ae7524",
   "metadata": {
    "execution": {
     "iopub.execute_input": "2024-04-06T18:22:50.748158Z",
     "iopub.status.busy": "2024-04-06T18:22:50.747840Z",
     "iopub.status.idle": "2024-04-06T18:22:50.749459Z",
     "shell.execute_reply": "2024-04-06T18:22:50.749177Z"
    },
    "papermill": {
     "duration": 0.013482,
     "end_time": "2024-04-06T18:22:50.749525",
     "exception": false,
     "start_time": "2024-04-06T18:22:50.736043",
     "status": "completed"
    },
    "tags": [
     "injected-parameters"
    ]
   },
   "outputs": [],
   "source": [
    "# Parameters\n",
    "model_name = \"google-t5/t5-large\"\n",
    "BATCH_SIZE = 10\n",
    "DATA_NAME_SINGLE = \"qasc\"\n"
   ]
  },
  {
   "cell_type": "code",
   "execution_count": 4,
   "id": "6d8c44e7",
   "metadata": {
    "execution": {
     "iopub.execute_input": "2024-04-06T18:22:50.772131Z",
     "iopub.status.busy": "2024-04-06T18:22:50.771662Z",
     "iopub.status.idle": "2024-04-06T18:22:50.773954Z",
     "shell.execute_reply": "2024-04-06T18:22:50.773641Z"
    },
    "papermill": {
     "duration": 0.014175,
     "end_time": "2024-04-06T18:22:50.774020",
     "exception": false,
     "start_time": "2024-04-06T18:22:50.759845",
     "status": "completed"
    },
    "tags": []
   },
   "outputs": [
    {
     "name": "stdout",
     "output_type": "stream",
     "text": [
      "Loi params: google-t5/t5-large#####300#####10\n"
     ]
    }
   ],
   "source": [
    "print(f\"Loi params: {model_name}{'#'*5}{max_answer_length}{'#'*5}{BATCH_SIZE}\")\n",
    "DATABASE_NAME = [DATA_NAME_SINGLE]#,'arc_hard']#,'race','mctest',]\n"
   ]
  },
  {
   "cell_type": "code",
   "execution_count": 5,
   "id": "f87259a7",
   "metadata": {
    "execution": {
     "iopub.execute_input": "2024-04-06T18:22:50.797196Z",
     "iopub.status.busy": "2024-04-06T18:22:50.796135Z",
     "iopub.status.idle": "2024-04-06T18:22:55.260370Z",
     "shell.execute_reply": "2024-04-06T18:22:55.259855Z"
    },
    "papermill": {
     "duration": 4.475672,
     "end_time": "2024-04-06T18:22:55.260494",
     "exception": false,
     "start_time": "2024-04-06T18:22:50.784822",
     "status": "completed"
    },
    "tags": []
   },
   "outputs": [
    {
     "name": "stderr",
     "output_type": "stream",
     "text": [
      "/home/ldh0033@auburn.edu/.local/lib/python3.10/site-packages/transformers/models/t5/tokenization_t5.py:246: FutureWarning: This tokenizer was incorrectly instantiated with a model max length of 512 which will be corrected in Transformers v5.\n",
      "For now, this behavior is kept to avoid breaking backwards compatibility when padding/encoding with `truncation is True`.\n",
      "- Be aware that you SHOULD NOT rely on google-t5/t5-large automatically truncating your input to 512 when padding/encoding.\n",
      "- If you want to encode/pad to sequences longer than 512 you can either instantiate this tokenizer with `model_max_length` or pass `max_length` when encoding/padding.\n",
      "- To avoid this warning, please instantiate this tokenizer with `model_max_length` set to your preferred value.\n",
      "  warnings.warn(\n",
      "You are using the default legacy behaviour of the <class 'transformers.models.t5.tokenization_t5.T5Tokenizer'>. This is expected, and simply means that the `legacy` (previous) behavior will be used so nothing changes for you. If you want to use the new behaviour, set `legacy=False`. This should only be set if you understand what it means, and thoroughly read the reason why this was added as explained in https://github.com/huggingface/transformers/pull/24565\n"
     ]
    },
    {
     "name": "stderr",
     "output_type": "stream",
     "text": [
      "Special tokens have been added in the vocabulary, make sure the associated word embeddings are fine-tuned or trained.\n"
     ]
    }
   ],
   "source": [
    "# model_name = \"loi_with_padding_just_same_answer_len_70.pkl\"\n",
    "\n",
    "# \"loi_with_padding_1.pkl\"#\n",
    "# model_name = (\n",
    "#     \"allenai/unifiedqa-v2-t5-large-1363200\"  # you can specify the model size here\n",
    "# )\n",
    "tokenizer = T5Tokenizer.from_pretrained(model_name)\n",
    "\n",
    "model_original = T5ForConditionalGeneration.from_pretrained(\n",
    "    model_name, device_map=f\"auto\")  # 'auto')\n",
    "model = model_original\n",
    "# model.hf_device_map"
   ]
  },
  {
   "cell_type": "code",
   "execution_count": 6,
   "id": "45d83dd9",
   "metadata": {
    "execution": {
     "iopub.execute_input": "2024-04-06T18:22:55.300493Z",
     "iopub.status.busy": "2024-04-06T18:22:55.299940Z",
     "iopub.status.idle": "2024-04-06T18:22:55.302009Z",
     "shell.execute_reply": "2024-04-06T18:22:55.301538Z"
    },
    "papermill": {
     "duration": 0.022738,
     "end_time": "2024-04-06T18:22:55.302115",
     "exception": false,
     "start_time": "2024-04-06T18:22:55.279377",
     "status": "completed"
    },
    "tags": []
   },
   "outputs": [],
   "source": [
    "DEVICE = 0"
   ]
  },
  {
   "cell_type": "code",
   "execution_count": 7,
   "id": "c4d4e4e7",
   "metadata": {
    "execution": {
     "iopub.execute_input": "2024-04-06T18:22:55.340465Z",
     "iopub.status.busy": "2024-04-06T18:22:55.340143Z",
     "iopub.status.idle": "2024-04-06T18:22:55.354109Z",
     "shell.execute_reply": "2024-04-06T18:22:55.354361Z"
    },
    "papermill": {
     "duration": 0.033941,
     "end_time": "2024-04-06T18:22:55.354463",
     "exception": false,
     "start_time": "2024-04-06T18:22:55.320522",
     "status": "completed"
    },
    "tags": []
   },
   "outputs": [
    {
     "name": "stdout",
     "output_type": "stream",
     "text": [
      " max: 712 \n",
      "        min:104\n",
      "            avg:227.3320629456602\n",
      "            len: 8134\n",
      " max: 71 \n",
      "        min:2\n",
      "            avg:11.033316941234325\n",
      "            len: 8134\n"
     ]
    }
   ],
   "source": [
    "\n",
    "dataset_test=[]\n",
    "dataset_train=[]\n",
    "[dataset_test.append([]) for x in DATABASE_NAME]\n",
    "moi_index=[]\n",
    "\n",
    "for i, dataname in enumerate(DATABASE_NAME):\n",
    "    dataset_test[i]=pickle.load(\n",
    "        open(f\"multiple_choice_datasets/{dataname}_test.pkl\", \"rb\"))\n",
    "    moi_index.append(len(dataset_train))\n",
    "    dataset_train.extend(pickle.load(\n",
    "        open(f\"multiple_choice_datasets/{dataname}_train.pkl\", \"rb\")))\n",
    "for i in range(2):    \n",
    "    print(f\"\"\" max: {max([len(x[i]) for x in dataset_train])} \n",
    "        min:{min([len(x[i]) for x in dataset_train])}\n",
    "            avg:{sum([len(x[i]) for x in dataset_train])/len(dataset_train)}\n",
    "            len: {len(dataset_train)}\"\"\")\n",
    "\n"
   ]
  },
  {
   "cell_type": "code",
   "execution_count": 8,
   "id": "a4b27027",
   "metadata": {
    "execution": {
     "iopub.execute_input": "2024-04-06T18:22:55.379622Z",
     "iopub.status.busy": "2024-04-06T18:22:55.379312Z",
     "iopub.status.idle": "2024-04-06T18:22:55.380955Z",
     "shell.execute_reply": "2024-04-06T18:22:55.380695Z"
    },
    "papermill": {
     "duration": 0.015444,
     "end_time": "2024-04-06T18:22:55.381022",
     "exception": false,
     "start_time": "2024-04-06T18:22:55.365578",
     "status": "completed"
    },
    "tags": []
   },
   "outputs": [],
   "source": [
    "# import textwrap\n",
    "\n",
    "# ques=4\n",
    "# print(textwrap.fill(dataset_test[ques][0]))\n",
    "# print('correct: ',dataset_test[ques][1],'length',len(dataset_test[0][0]))\n"
   ]
  },
  {
   "cell_type": "code",
   "execution_count": 9,
   "id": "a27412fd",
   "metadata": {
    "execution": {
     "iopub.execute_input": "2024-04-06T18:22:55.406897Z",
     "iopub.status.busy": "2024-04-06T18:22:55.405025Z",
     "iopub.status.idle": "2024-04-06T18:22:55.408338Z",
     "shell.execute_reply": "2024-04-06T18:22:55.408594Z"
    },
    "papermill": {
     "duration": 0.016368,
     "end_time": "2024-04-06T18:22:55.408675",
     "exception": false,
     "start_time": "2024-04-06T18:22:55.392307",
     "status": "completed"
    },
    "tags": []
   },
   "outputs": [],
   "source": [
    "def hook(hook_before, oldfunc, hook_after):\n",
    "\n",
    "    def foo(*args, **kwargs):\n",
    "        hook_before(*args, **kwargs)\n",
    "        aa = oldfunc(*args, **kwargs)\n",
    "        hook_after(*args, **kwargs)\n",
    "        return aa\n",
    "\n",
    "    return foo"
   ]
  },
  {
   "cell_type": "code",
   "execution_count": 10,
   "id": "0ed2db50",
   "metadata": {
    "execution": {
     "iopub.execute_input": "2024-04-06T18:22:55.441102Z",
     "iopub.status.busy": "2024-04-06T18:22:55.437836Z",
     "iopub.status.idle": "2024-04-06T18:22:55.442573Z",
     "shell.execute_reply": "2024-04-06T18:22:55.442832Z"
    },
    "papermill": {
     "duration": 0.022994,
     "end_time": "2024-04-06T18:22:55.442919",
     "exception": false,
     "start_time": "2024-04-06T18:22:55.419925",
     "status": "completed"
    },
    "tags": []
   },
   "outputs": [],
   "source": [
    "def new_compute_bias(self, query_length, key_length, device=None):\n",
    "    \"\"\"Compute binned relative position bias\"\"\"\n",
    "    if device is None:\n",
    "        device = self.relative_attention_bias.weight.device\n",
    "    context_position = torch.arange(query_length, dtype=torch.long, device=device)[\n",
    "        :, None\n",
    "    ]\n",
    "    memory_position = torch.arange(\n",
    "        key_length, dtype=torch.long, device=device)[None, :]\n",
    "\n",
    "    relative_position = (\n",
    "        memory_position - context_position\n",
    "    )  # shape (query_length, key_length)\n",
    "    if self.is_decoder:\n",
    "        values = values.permute([2, 0, 1]).unsqueeze(\n",
    "            0\n",
    "        )  # shape (1, num_heads, query_length, key_length)\n",
    "        return values\n",
    "\n",
    "    anchors = self.anchor_array\n",
    "    values = []\n",
    "    for anchor in anchors:\n",
    "        mot = [[anchor[idx], anchor[idx+1]] for idx in range(len(anchor)-1)]\n",
    "        max_answer_length = max([x[1] - x[0] for x in mot])\n",
    "        # print(a, b, c, d, max_answer_length)\n",
    "        context_position_new = context_position.clone()\n",
    "        for i in range(1, len(mot)):\n",
    "            context_position_new[mot[i][0]: mot[i][1]\n",
    "                                 ] = context_position_new[mot[i][0]: mot[i][1]] - mot[0][0]\n",
    "        context_position_new[-1] = mot[0][0] + 2 * max_answer_length\n",
    "        memory_position_new = context_position_new.clone().view(1, -1)\n",
    "        relative_position = (\n",
    "            memory_position_new - context_position_new\n",
    "        )  # shape (query_length, key_length)\n",
    "        for i in range(len(mot)):\n",
    "            for j in range(len(mot)):\n",
    "                if i != j:\n",
    "                    x = mot[i]\n",
    "                    y = mot[j]\n",
    "                    relative_position[x[0]: x[1], y[0]: y[1]] += max_answer_length\n",
    "        relative_position_bucket = self._relative_position_bucket(\n",
    "            relative_position,  # shape (query_length, key_length)\n",
    "            bidirectional=(not self.is_decoder),\n",
    "            num_buckets=self.relative_attention_num_buckets,\n",
    "            max_distance=self.relative_attention_max_distance,\n",
    "        )\n",
    "        value = self.relative_attention_bias(relative_position_bucket)\n",
    "        values.append(value)\n",
    "    values = torch.stack(values)  # shape [1, 91, 91, 16]\n",
    "    values = values.permute(\n",
    "        [0, 3, 1, 2]\n",
    "    )  # shape (batch size, num_heads, query_length, key_length)\n",
    "    return values"
   ]
  },
  {
   "cell_type": "code",
   "execution_count": 11,
   "id": "5a1152bd",
   "metadata": {
    "execution": {
     "iopub.execute_input": "2024-04-06T18:22:55.472708Z",
     "iopub.status.busy": "2024-04-06T18:22:55.467240Z",
     "iopub.status.idle": "2024-04-06T18:22:55.481076Z",
     "shell.execute_reply": "2024-04-06T18:22:55.480757Z"
    },
    "papermill": {
     "duration": 0.026799,
     "end_time": "2024-04-06T18:22:55.481147",
     "exception": false,
     "start_time": "2024-04-06T18:22:55.454348",
     "status": "completed"
    },
    "tags": []
   },
   "outputs": [
    {
     "name": "stdout",
     "output_type": "stream",
     "text": [
      "Beads of water can be formed by clouds. What type of water formation\n",
      "is formed by clouds? \\n ( ) pearls ( ) streams ( ) shells ( ) diamonds\n",
      "( ) rain ( ) beads ( ) cooled ( ) liquid\n"
     ]
    }
   ],
   "source": [
    "\n",
    "import textwrap\n",
    "\n",
    "\n",
    "extra_dim_learning = []\n",
    "\n",
    "\n",
    "def set_mode(MODE):\n",
    "    itself = model.encoder.block[0].layer[0].SelfAttention\n",
    "    if MODE == \"new\":\n",
    "        # itself.forward = partial(modified_self_attention_forward, itself)\n",
    "        itself.compute_bias = partial(new_compute_bias, itself)\n",
    "        model.forward = hook(input_before_hooker, partial(\n",
    "            T5ForConditionalGeneration.forward, model), input_after_hooker)\n",
    "\n",
    "    else:\n",
    "        # itself.forward = partial(\n",
    "        #     model.encoder.block[0].layer[0].SelfAttention.__class__.forward, itself\n",
    "        # )\n",
    "        itself.compute_bias = partial(\n",
    "            model.encoder.block[0].layer[0].SelfAttention.__class__.compute_bias, itself\n",
    "        )\n",
    "        model.forward = T5ForConditionalGeneration.forward\n",
    "\n",
    "\n",
    "def check_encoded(all_input_ids):\n",
    "    anchors = []\n",
    "    for input_ids in all_input_ids:\n",
    "        # print('\\n'.join([f'{x.item()},{y}' for x,y in zip(input_ids, tokens)][50:]))\n",
    "        original = input_ids.tolist()\n",
    "        anchor = []\n",
    "        for i in range(len(input_ids)):\n",
    "            if (\n",
    "                i < len(input_ids) - 2\n",
    "                and input_ids[i] == 41\n",
    "                and input_ids[i + 1] == 3\n",
    "                and input_ids[i + 2] == 61\n",
    "            ) or original[i] == 1:\n",
    "                anchor.append(i)\n",
    "        anchors.append(anchor)\n",
    "    return anchors\n",
    "\n",
    "\n",
    "def input_before_hooker(*args, **kwargs):\n",
    "    input_ids = kwargs[\"input_ids\"]\n",
    "    # print('old ',input_ids)\n",
    "    anchors = check_encoded(input_ids)\n",
    "    final_inputs = []\n",
    "    for input_id, anchor in zip(input_ids, anchors):\n",
    "        input_id = input_id.tolist()\n",
    "        \n",
    "        real_max_len = max([anchor[idx+1] - anchor[idx]\n",
    "                           for idx in range(len(anchor)-1)])\n",
    "        if real_max_len > max_answer_length:\n",
    "            print(f'ALERT: MAX LENGTH IS {real_max_len}')\n",
    "        for x in reversed(range(1, len(anchor))):\n",
    "            if anchor[x] - anchor[x - 1] < max_answer_length:\n",
    "                [\n",
    "                    input_id.insert(anchor[x], 0)\n",
    "                    for _ in range(max_answer_length - (anchor[x] - anchor[x - 1]))\n",
    "                ]\n",
    "\n",
    "        final_inputs.append(input_id)\n",
    "\n",
    "    max_length = max([len(input) for input in final_inputs])\n",
    "    mask = [[1]*max_length]*len(final_inputs)\n",
    "    for idx, input in enumerate(final_inputs):\n",
    "        for x in range(max_length):\n",
    "            if x >= len(input):\n",
    "                mask[idx][x] = 0\n",
    "        for x in range(max_length-len(input)):\n",
    "            input.append(0)\n",
    "    kwargs[\"input_ids\"] = torch.tensor(final_inputs).to(input_ids.device)\n",
    "    kwargs['attention_mask'] = torch.tensor(mask).to(input_ids.device)\n",
    "    # print('new ',kwargs[\"input_ids\"])\n",
    "    anchors = check_encoded(kwargs[\"input_ids\"])\n",
    "    model.encoder.block[0].layer[0].SelfAttention.anchor_array = anchors\n",
    "\n",
    "\n",
    "def input_after_hooker(*args, **kwargs):\n",
    "    model.encoder.block[0].layer[0].SelfAttention.anchor_array = None\n",
    "\n",
    "\n",
    "print(textwrap.fill(dataset_train[0][0]))\n",
    "\n",
    "# set_mode('old')\n",
    "set_mode('new')\n",
    "# run_model([dataset_train[0][0],dataset_train[1][0]])\n",
    "# run_model([\"\"\"A person wants to start\"\"\", 'mot hai ba'])"
   ]
  },
  {
   "cell_type": "code",
   "execution_count": 12,
   "id": "e8848d4a",
   "metadata": {
    "execution": {
     "iopub.execute_input": "2024-04-06T18:22:55.512347Z",
     "iopub.status.busy": "2024-04-06T18:22:55.505045Z",
     "iopub.status.idle": "2024-04-06T18:22:55.513684Z",
     "shell.execute_reply": "2024-04-06T18:22:55.513936Z"
    },
    "papermill": {
     "duration": 0.021492,
     "end_time": "2024-04-06T18:22:55.514019",
     "exception": false,
     "start_time": "2024-04-06T18:22:55.492527",
     "status": "completed"
    },
    "tags": []
   },
   "outputs": [],
   "source": [
    "\n",
    "def measure_unalike(arr, print_arr=False):\n",
    "    n = len(arr)\n",
    "    arr = pd.Series(arr).value_counts()\n",
    "    if print_arr:\n",
    "        print(arr)\n",
    "    return 1 - ((arr / n)**2).sum()\n",
    "\n",
    "\n",
    "question_to_do = 5\n",
    "per_question = 20\n",
    "\n",
    "\n",
    "def get_model_forward(input_ids, attention_mask, model=model):\n",
    "    with torch.no_grad():\n",
    "        start = []\n",
    "        [start.append([0]) for x in range(len(input_ids))]\n",
    "        for k in range(max_answer_length):\n",
    "            # print(torch.tensor(start).shape)\n",
    "            result = model(\n",
    "                input_ids=input_ids.to(DEVICE),\n",
    "                attention_mask=attention_mask.to(DEVICE),\n",
    "                decoder_input_ids=torch.tensor(start).to(DEVICE),\n",
    "                output_attentions=True,\n",
    "            )\n",
    "            item = result.logits.argmax(dim=2)[:, -1]\n",
    "            # print('loi',result.logits.shape, item)\n",
    "            for index in range(len(item)):\n",
    "                start[index].append(item[index].item())\n",
    "            if torch.allclose(item, torch.tensor(1)):\n",
    "                break\n",
    "            #     break\n",
    "    result = []\n",
    "    for batch in start:\n",
    "        y = -1\n",
    "        for index, x in enumerate(batch):\n",
    "            if x == 1:\n",
    "                y = index\n",
    "                break\n",
    "        result.append(batch[:y+1] if y > -1 else batch)\n",
    "    return [tokenizer.decode(x, skip_special_tokens=True) for x in result]\n",
    "\n",
    "\n",
    "def run_model(input_strs):\n",
    "    if input_strs is str:\n",
    "        input_strs = [input_strs]\n",
    "    input_ids_wrapper = tokenizer(\n",
    "        input_strs, padding=True, return_tensors='pt')\n",
    "\n",
    "    answer = get_model_forward(input_ids_wrapper['input_ids'],\n",
    "                               input_ids_wrapper['attention_mask'])\n",
    "    return answer"
   ]
  },
  {
   "cell_type": "code",
   "execution_count": 13,
   "id": "f4dbccab",
   "metadata": {
    "execution": {
     "iopub.execute_input": "2024-04-06T18:22:55.544956Z",
     "iopub.status.busy": "2024-04-06T18:22:55.544632Z",
     "iopub.status.idle": "2024-04-06T18:22:55.546311Z",
     "shell.execute_reply": "2024-04-06T18:22:55.546000Z"
    },
    "papermill": {
     "duration": 0.020952,
     "end_time": "2024-04-06T18:22:55.546382",
     "exception": false,
     "start_time": "2024-04-06T18:22:55.525430",
     "status": "completed"
    },
    "tags": []
   },
   "outputs": [],
   "source": [
    "kk = [(index, x, y) for index, (x, y) in enumerate(model.named_parameters())\n",
    "      if y.requires_grad == True]\n",
    "[(index, x) for index, x, y in kk if \"decoder\" in x]\n",
    "len(kk)\n",
    "all_position_weight = [\n",
    "    y for index, x, y in kk if (\"extra_dimension_embedding\" in x) or (\n",
    "        (\"encoder\" in x) and (\"relative_attention_bias\" in x))\n",
    "]\n",
    "to_train_model = [y for index, x, y in kk]"
   ]
  },
  {
   "cell_type": "code",
   "execution_count": 14,
   "id": "72c34540",
   "metadata": {
    "execution": {
     "iopub.execute_input": "2024-04-06T18:22:55.581002Z",
     "iopub.status.busy": "2024-04-06T18:22:55.575964Z",
     "iopub.status.idle": "2024-04-06T18:22:55.592519Z",
     "shell.execute_reply": "2024-04-06T18:22:55.592764Z"
    },
    "papermill": {
     "duration": 0.035002,
     "end_time": "2024-04-06T18:22:55.592867",
     "exception": false,
     "start_time": "2024-04-06T18:22:55.557865",
     "status": "completed"
    },
    "tags": []
   },
   "outputs": [],
   "source": [
    "data_array = [\n",
    "    (ques, answer, ques.split(\" ( ) \")[1:])\n",
    "    for ques, answer in [\n",
    "        (\n",
    "            dataset_train[x][0],\n",
    "            dataset_train[x][1],\n",
    "        )\n",
    "        for x in range(len(dataset_train))\n",
    "    ]\n",
    "]"
   ]
  },
  {
   "cell_type": "code",
   "execution_count": 15,
   "id": "bc9f1e5d",
   "metadata": {
    "execution": {
     "iopub.execute_input": "2024-04-06T18:22:55.618322Z",
     "iopub.status.busy": "2024-04-06T18:22:55.618012Z",
     "iopub.status.idle": "2024-04-06T18:22:55.619418Z",
     "shell.execute_reply": "2024-04-06T18:22:55.619671Z"
    },
    "papermill": {
     "duration": 0.015306,
     "end_time": "2024-04-06T18:22:55.619751",
     "exception": false,
     "start_time": "2024-04-06T18:22:55.604445",
     "status": "completed"
    },
    "tags": []
   },
   "outputs": [],
   "source": [
    "# [(print(idx),CheckTransform.__call__(None, data_array[idx])) for idx,x in enumerate(data_array)]"
   ]
  },
  {
   "cell_type": "code",
   "execution_count": 16,
   "id": "80fb5218",
   "metadata": {
    "execution": {
     "iopub.execute_input": "2024-04-06T18:22:55.650699Z",
     "iopub.status.busy": "2024-04-06T18:22:55.648823Z",
     "iopub.status.idle": "2024-04-06T18:22:55.652445Z",
     "shell.execute_reply": "2024-04-06T18:22:55.652156Z"
    },
    "papermill": {
     "duration": 0.021621,
     "end_time": "2024-04-06T18:22:55.652512",
     "exception": false,
     "start_time": "2024-04-06T18:22:55.630891",
     "status": "completed"
    },
    "tags": []
   },
   "outputs": [],
   "source": [
    "class CheckTransform(object):\n",
    "\n",
    "    def __call__(self, sample):\n",
    "        # print(f\"'{sample[1]}'\")\n",
    "        try:\n",
    "            return {\n",
    "            \"input_ids\": sample[0],\n",
    "            \"label_index\": sample[2].index(sample[1]),\n",
    "            \"all_labels\": sample[2],\n",
    "            }\n",
    "        except:\n",
    "            raise Exception('cao')\n",
    "            print('all answer: ',sample[2])\n",
    "            print('answer',sample[1])\n",
    "\n",
    "class CustomDataset(Dataset):\n",
    "\n",
    "    def __init__(self, dataset_array, transform=None):\n",
    "        self.dataset = dataset_array\n",
    "        self.transform = transform\n",
    "\n",
    "    def __len__(self):\n",
    "        return len(self.dataset)\n",
    "\n",
    "    def __getitem__(self, idx):\n",
    "        return self.transform(self.dataset[idx])\n",
    "\n",
    "\n",
    "def collate(datas):\n",
    "    wrapper = tokenizer([x[\"all_labels\"][x['label_index']] for x in datas],\n",
    "                        padding=True)\n",
    "    wrapper[\"label_ids\"] = torch.tensor(wrapper.pop(\"input_ids\"))\n",
    "    # wrapper[\"label_index\"] = torch.tensor([x[\"label_index\"] for x in datas])\n",
    "    for k in wrapper[\"label_ids\"]:\n",
    "        k[k == tokenizer.pad_token_id] = -100\n",
    "    wrapper[\"all_decoder_attention_masks\"] = torch.tensor(\n",
    "        wrapper.pop(\"attention_mask\"))\n",
    "\n",
    "    for_input = tokenizer([x[\"input_ids\"] for x in datas], padding=True)\n",
    "    wrapper['input_ids'] = torch.tensor(for_input.pop('input_ids'))\n",
    "    wrapper['attention_mask'] = torch.tensor(for_input.pop('attention_mask'))\n",
    "    return wrapper\n",
    "\n",
    "\n",
    "loi_dataloader = DataLoader(\n",
    "    CustomDataset(\n",
    "        data_array,\n",
    "        CheckTransform(),\n",
    "    ),\n",
    "    batch_size=BATCH_SIZE,\n",
    "    shuffle=True,\n",
    "    collate_fn=collate,\n",
    ")\n",
    "# for k in loi_dataloader:\n",
    "#     print(k[\"all_label_ids\"])\n",
    "#     break"
   ]
  },
  {
   "cell_type": "code",
   "execution_count": 17,
   "id": "ccd60319",
   "metadata": {
    "execution": {
     "iopub.execute_input": "2024-04-06T18:22:55.681659Z",
     "iopub.status.busy": "2024-04-06T18:22:55.681349Z",
     "iopub.status.idle": "2024-04-06T18:22:55.685571Z",
     "shell.execute_reply": "2024-04-06T18:22:55.685807Z"
    },
    "papermill": {
     "duration": 0.022327,
     "end_time": "2024-04-06T18:22:55.685885",
     "exception": false,
     "start_time": "2024-04-06T18:22:55.663558",
     "status": "completed"
    },
    "tags": []
   },
   "outputs": [],
   "source": [
    "from transformers.optimization import Adafactor, AdafactorSchedule\n",
    "\n",
    "# attention 898704\n",
    "# hidden state 242688\n",
    "# classification_layer = nn.Linear(242688, 4).to(DEVICE)\n",
    "# optimizer =AdamW(lr=1e-4)\n",
    "optimizer = Adafactor(\n",
    "    to_train_model,  # + [x for x in classification_layer.parameters()],\n",
    "    relative_step=False,\n",
    "    lr=1e-4,\n",
    ")\n",
    "# lr_schedule=AdafactorSchedule(optimizer)\n",
    "\n",
    "def evaluate():\n",
    "    ll=1\n",
    "    wrong_answers=[[] for x in range(ll)]\n",
    "    got_2=[[] for x in range(ll)]\n",
    "    got_1=[[] for x in range(ll)]\n",
    "    answers=[[] for x in range(ll)]\n",
    "    for ix in range(ll):\n",
    "        print(f'Name {DATABASE_NAME[ix]}')\n",
    "        #[pickle.load(open(f\"multiple_choice_datasets/obqa_fact_test.pkl\", \"rb\"))]:\n",
    "        # print(f\"test {data==dataset_test}\")\n",
    "        count = 0\n",
    "        count1 = 0\n",
    "        count2 = 0\n",
    "        count10 = 0\n",
    "        total = 0\n",
    "        data=dataset_test[ix]\n",
    "        pbar1 = trange(len(data))\n",
    "        for ques in pbar1:\n",
    "            question = data[ques][0]\n",
    "            key = data[ques][1]\n",
    "            total += 1\n",
    "            answer = run_model(question)[0]\n",
    "            answers[ix].append(answer)\n",
    "            if key == answer:\n",
    "                count += 1\n",
    "            else:\n",
    "                wrong_answers[ix].append(ques)\n",
    "            if key[0] == answer[0]:\n",
    "                count1 += 1\n",
    "                got_1[ix].append(ques)\n",
    "            if key[:2] == answer[:2]:\n",
    "                count2 += 1\n",
    "                got_2[ix].append(ques)\n",
    "            if answer in question:\n",
    "                count10 += 1\n",
    "            pbar1.set_postfix_str(\n",
    "                f\"{count}, {count1}, {count2}, {count10},{total},{count/total*100:.2f},{count10/total*100:.2f}\")"
   ]
  },
  {
   "cell_type": "code",
   "execution_count": 18,
   "id": "1a210453",
   "metadata": {
    "execution": {
     "iopub.execute_input": "2024-04-06T18:22:55.715329Z",
     "iopub.status.busy": "2024-04-06T18:22:55.715030Z",
     "iopub.status.idle": "2024-04-06T18:44:57.042296Z",
     "shell.execute_reply": "2024-04-06T18:44:57.041719Z"
    },
    "papermill": {
     "duration": 1320.233024,
     "end_time": "2024-04-06T18:44:55.930073",
     "exception": false,
     "start_time": "2024-04-06T18:22:55.697049",
     "status": "completed"
    },
    "tags": []
   },
   "outputs": [
    {
     "name": "stderr",
     "output_type": "stream",
     "text": [
      "\r",
      "  0%|                                                              | 0/814 [00:00<?, ?it/s]"
     ]
    },
    {
     "name": "stderr",
     "output_type": "stream",
     "text": [
      "\r",
      "Loss: 1.206:   0%|                                                 | 0/814 [00:03<?, ?it/s]"
     ]
    },
    {
     "name": "stderr",
     "output_type": "stream",
     "text": [
      "\r",
      "Loss: 1.206:   0%|                                                 | 0/814 [00:03<?, ?it/s]"
     ]
    },
    {
     "name": "stderr",
     "output_type": "stream",
     "text": [
      "\r",
      "Loss: 1.206:   0%|                                         | 1/814 [00:03<44:30,  3.28s/it]"
     ]
    },
    {
     "name": "stderr",
     "output_type": "stream",
     "text": [
      "\r",
      "Loss: 2.258:   0%|                                         | 1/814 [00:04<44:30,  3.28s/it]"
     ]
    },
    {
     "name": "stderr",
     "output_type": "stream",
     "text": [
      "\r",
      "Loss: 2.258:   0%|                                         | 1/814 [00:04<44:30,  3.28s/it]"
     ]
    },
    {
     "name": "stderr",
     "output_type": "stream",
     "text": [
      "\r",
      "Loss: 2.258:   0%|                                         | 2/814 [00:04<26:47,  1.98s/it]"
     ]
    },
    {
     "name": "stderr",
     "output_type": "stream",
     "text": [
      "\r",
      "Loss: 3.667:   0%|                                         | 2/814 [00:05<26:47,  1.98s/it]"
     ]
    },
    {
     "name": "stderr",
     "output_type": "stream",
     "text": [
      "\r",
      "Loss: 3.667:   0%|                                         | 2/814 [00:05<26:47,  1.98s/it]"
     ]
    },
    {
     "name": "stderr",
     "output_type": "stream",
     "text": [
      "\r",
      "Loss: 3.667:   0%|▏                                        | 3/814 [00:05<20:58,  1.55s/it]"
     ]
    },
    {
     "name": "stderr",
     "output_type": "stream",
     "text": [
      "\r",
      "Loss: 4.276:   0%|▏                                        | 3/814 [00:06<20:58,  1.55s/it]"
     ]
    },
    {
     "name": "stderr",
     "output_type": "stream",
     "text": [
      "\r",
      "Loss: 4.276:   0%|▏                                        | 3/814 [00:06<20:58,  1.55s/it]"
     ]
    },
    {
     "name": "stderr",
     "output_type": "stream",
     "text": [
      "\r",
      "Loss: 4.276:   0%|▏                                        | 4/814 [00:06<18:16,  1.35s/it]"
     ]
    },
    {
     "name": "stderr",
     "output_type": "stream",
     "text": [
      "\r",
      "Loss: 4.981:   0%|▏                                        | 4/814 [00:07<18:16,  1.35s/it]"
     ]
    },
    {
     "name": "stderr",
     "output_type": "stream",
     "text": [
      "\r",
      "Loss: 4.981:   0%|▏                                        | 4/814 [00:07<18:16,  1.35s/it]"
     ]
    },
    {
     "name": "stderr",
     "output_type": "stream",
     "text": [
      "\r",
      "Loss: 4.981:   1%|▎                                        | 5/814 [00:07<16:57,  1.26s/it]"
     ]
    },
    {
     "name": "stderr",
     "output_type": "stream",
     "text": [
      "\r",
      "Loss: 5.727:   1%|▎                                        | 5/814 [00:08<16:57,  1.26s/it]"
     ]
    },
    {
     "name": "stderr",
     "output_type": "stream",
     "text": [
      "\r",
      "Loss: 5.727:   1%|▎                                        | 5/814 [00:08<16:57,  1.26s/it]"
     ]
    },
    {
     "name": "stderr",
     "output_type": "stream",
     "text": [
      "\r",
      "Loss: 5.727:   1%|▎                                        | 6/814 [00:08<16:02,  1.19s/it]"
     ]
    },
    {
     "name": "stderr",
     "output_type": "stream",
     "text": [
      "\r",
      "Loss: 6.292:   1%|▎                                        | 6/814 [00:09<16:02,  1.19s/it]"
     ]
    },
    {
     "name": "stderr",
     "output_type": "stream",
     "text": [
      "\r",
      "Loss: 6.292:   1%|▎                                        | 6/814 [00:09<16:02,  1.19s/it]"
     ]
    },
    {
     "name": "stderr",
     "output_type": "stream",
     "text": [
      "\r",
      "Loss: 6.292:   1%|▎                                        | 7/814 [00:09<15:29,  1.15s/it]"
     ]
    },
    {
     "name": "stderr",
     "output_type": "stream",
     "text": [
      "\r",
      "Loss: 6.644:   1%|▎                                        | 7/814 [00:10<15:29,  1.15s/it]"
     ]
    },
    {
     "name": "stderr",
     "output_type": "stream",
     "text": [
      "\r",
      "Loss: 6.644:   1%|▎                                        | 7/814 [00:10<15:29,  1.15s/it]"
     ]
    },
    {
     "name": "stderr",
     "output_type": "stream",
     "text": [
      "\r",
      "Loss: 6.644:   1%|▍                                        | 8/814 [00:10<15:03,  1.12s/it]"
     ]
    },
    {
     "name": "stderr",
     "output_type": "stream",
     "text": [
      "\r",
      "Loss: 6.989:   1%|▍                                        | 8/814 [00:11<15:03,  1.12s/it]"
     ]
    },
    {
     "name": "stderr",
     "output_type": "stream",
     "text": [
      "\r",
      "Loss: 6.989:   1%|▍                                        | 8/814 [00:11<15:03,  1.12s/it]"
     ]
    },
    {
     "name": "stderr",
     "output_type": "stream",
     "text": [
      "\r",
      "Loss: 6.989:   1%|▍                                        | 9/814 [00:11<14:44,  1.10s/it]"
     ]
    },
    {
     "name": "stderr",
     "output_type": "stream",
     "text": [
      "\r",
      "Loss: 7.253:   1%|▍                                        | 9/814 [00:12<14:44,  1.10s/it]"
     ]
    },
    {
     "name": "stderr",
     "output_type": "stream",
     "text": [
      "\r",
      "Loss: 7.253:   1%|▍                                        | 9/814 [00:12<14:44,  1.10s/it]"
     ]
    },
    {
     "name": "stderr",
     "output_type": "stream",
     "text": [
      "\r",
      "Loss: 7.253:   1%|▍                                       | 10/814 [00:12<14:38,  1.09s/it]"
     ]
    },
    {
     "name": "stderr",
     "output_type": "stream",
     "text": [
      "\r",
      "Loss: 7.376:   1%|▍                                       | 10/814 [00:13<14:38,  1.09s/it]"
     ]
    },
    {
     "name": "stderr",
     "output_type": "stream",
     "text": [
      "\r",
      "Loss: 7.376:   1%|▍                                       | 10/814 [00:13<14:38,  1.09s/it]"
     ]
    },
    {
     "name": "stderr",
     "output_type": "stream",
     "text": [
      "\r",
      "Loss: 7.376:   1%|▌                                       | 11/814 [00:13<14:32,  1.09s/it]"
     ]
    },
    {
     "name": "stderr",
     "output_type": "stream",
     "text": [
      "\r",
      "Loss: 7.643:   1%|▌                                       | 11/814 [00:14<14:32,  1.09s/it]"
     ]
    },
    {
     "name": "stderr",
     "output_type": "stream",
     "text": [
      "\r",
      "Loss: 7.643:   1%|▌                                       | 11/814 [00:14<14:32,  1.09s/it]"
     ]
    },
    {
     "name": "stderr",
     "output_type": "stream",
     "text": [
      "\r",
      "Loss: 7.643:   1%|▌                                       | 12/814 [00:14<14:26,  1.08s/it]"
     ]
    },
    {
     "name": "stderr",
     "output_type": "stream",
     "text": [
      "\r",
      "Loss: 7.516:   1%|▌                                       | 12/814 [00:16<14:26,  1.08s/it]"
     ]
    },
    {
     "name": "stderr",
     "output_type": "stream",
     "text": [
      "\r",
      "Loss: 7.516:   1%|▌                                       | 12/814 [00:16<14:26,  1.08s/it]"
     ]
    },
    {
     "name": "stderr",
     "output_type": "stream",
     "text": [
      "\r",
      "Loss: 7.516:   2%|▋                                       | 13/814 [00:16<14:23,  1.08s/it]"
     ]
    },
    {
     "name": "stderr",
     "output_type": "stream",
     "text": [
      "\r",
      "Loss: 7.434:   2%|▋                                       | 13/814 [00:17<14:23,  1.08s/it]"
     ]
    },
    {
     "name": "stderr",
     "output_type": "stream",
     "text": [
      "\r",
      "Loss: 7.434:   2%|▋                                       | 13/814 [00:17<14:23,  1.08s/it]"
     ]
    },
    {
     "name": "stderr",
     "output_type": "stream",
     "text": [
      "\r",
      "Loss: 7.434:   2%|▋                                       | 14/814 [00:17<14:26,  1.08s/it]"
     ]
    },
    {
     "name": "stderr",
     "output_type": "stream",
     "text": [
      "\r",
      "Loss: 7.359:   2%|▋                                       | 14/814 [00:18<14:26,  1.08s/it]"
     ]
    },
    {
     "name": "stderr",
     "output_type": "stream",
     "text": [
      "\r",
      "Loss: 7.359:   2%|▋                                       | 14/814 [00:18<14:26,  1.08s/it]"
     ]
    },
    {
     "name": "stderr",
     "output_type": "stream",
     "text": [
      "\r",
      "Loss: 7.359:   2%|▋                                       | 15/814 [00:18<14:18,  1.07s/it]"
     ]
    },
    {
     "name": "stderr",
     "output_type": "stream",
     "text": [
      "\r",
      "Loss: 7.085:   2%|▋                                       | 15/814 [00:19<14:18,  1.07s/it]"
     ]
    },
    {
     "name": "stderr",
     "output_type": "stream",
     "text": [
      "\r",
      "Loss: 7.085:   2%|▋                                       | 15/814 [00:19<14:18,  1.07s/it]"
     ]
    },
    {
     "name": "stderr",
     "output_type": "stream",
     "text": [
      "\r",
      "Loss: 7.085:   2%|▊                                       | 16/814 [00:19<14:56,  1.12s/it]"
     ]
    },
    {
     "name": "stderr",
     "output_type": "stream",
     "text": [
      "\r",
      "Loss: 7.129:   2%|▊                                       | 16/814 [00:20<14:56,  1.12s/it]"
     ]
    },
    {
     "name": "stderr",
     "output_type": "stream",
     "text": [
      "\r",
      "Loss: 7.129:   2%|▊                                       | 16/814 [00:20<14:56,  1.12s/it]"
     ]
    },
    {
     "name": "stderr",
     "output_type": "stream",
     "text": [
      "\r",
      "Loss: 7.129:   2%|▊                                       | 17/814 [00:20<14:37,  1.10s/it]"
     ]
    },
    {
     "name": "stderr",
     "output_type": "stream",
     "text": [
      "\r",
      "Loss: 7.300:   2%|▊                                       | 17/814 [00:21<14:37,  1.10s/it]"
     ]
    },
    {
     "name": "stderr",
     "output_type": "stream",
     "text": [
      "\r",
      "Loss: 7.300:   2%|▊                                       | 17/814 [00:21<14:37,  1.10s/it]"
     ]
    },
    {
     "name": "stderr",
     "output_type": "stream",
     "text": [
      "\r",
      "Loss: 7.300:   2%|▉                                       | 18/814 [00:21<14:18,  1.08s/it]"
     ]
    },
    {
     "name": "stderr",
     "output_type": "stream",
     "text": [
      "\r",
      "Loss: 7.198:   2%|▉                                       | 18/814 [00:22<14:18,  1.08s/it]"
     ]
    },
    {
     "name": "stderr",
     "output_type": "stream",
     "text": [
      "\r",
      "Loss: 7.198:   2%|▉                                       | 18/814 [00:22<14:18,  1.08s/it]"
     ]
    },
    {
     "name": "stderr",
     "output_type": "stream",
     "text": [
      "\r",
      "Loss: 7.198:   2%|▉                                       | 19/814 [00:22<14:03,  1.06s/it]"
     ]
    },
    {
     "name": "stderr",
     "output_type": "stream",
     "text": [
      "\r",
      "Loss: 7.124:   2%|▉                                       | 19/814 [00:23<14:03,  1.06s/it]"
     ]
    },
    {
     "name": "stderr",
     "output_type": "stream",
     "text": [
      "\r",
      "Loss: 7.124:   2%|▉                                       | 19/814 [00:23<14:03,  1.06s/it]"
     ]
    },
    {
     "name": "stderr",
     "output_type": "stream",
     "text": [
      "\r",
      "Loss: 7.124:   2%|▉                                       | 20/814 [00:23<14:03,  1.06s/it]"
     ]
    },
    {
     "name": "stderr",
     "output_type": "stream",
     "text": [
      "\r",
      "Loss: 6.853:   2%|▉                                       | 20/814 [00:24<14:03,  1.06s/it]"
     ]
    },
    {
     "name": "stderr",
     "output_type": "stream",
     "text": [
      "\r",
      "Loss: 6.853:   2%|▉                                       | 20/814 [00:24<14:03,  1.06s/it]"
     ]
    },
    {
     "name": "stderr",
     "output_type": "stream",
     "text": [
      "\r",
      "Loss: 6.853:   3%|█                                       | 21/814 [00:24<14:00,  1.06s/it]"
     ]
    },
    {
     "name": "stderr",
     "output_type": "stream",
     "text": [
      "\r",
      "Loss: 6.752:   3%|█                                       | 21/814 [00:25<14:00,  1.06s/it]"
     ]
    },
    {
     "name": "stderr",
     "output_type": "stream",
     "text": [
      "\r",
      "Loss: 6.752:   3%|█                                       | 21/814 [00:25<14:00,  1.06s/it]"
     ]
    },
    {
     "name": "stderr",
     "output_type": "stream",
     "text": [
      "\r",
      "Loss: 6.752:   3%|█                                       | 22/814 [00:25<13:51,  1.05s/it]"
     ]
    },
    {
     "name": "stderr",
     "output_type": "stream",
     "text": [
      "\r",
      "Loss: 6.424:   3%|█                                       | 22/814 [00:26<13:51,  1.05s/it]"
     ]
    },
    {
     "name": "stderr",
     "output_type": "stream",
     "text": [
      "\r",
      "Loss: 6.424:   3%|█                                       | 22/814 [00:26<13:51,  1.05s/it]"
     ]
    },
    {
     "name": "stderr",
     "output_type": "stream",
     "text": [
      "\r",
      "Loss: 6.424:   3%|█▏                                      | 23/814 [00:26<13:45,  1.04s/it]"
     ]
    },
    {
     "name": "stderr",
     "output_type": "stream",
     "text": [
      "\r",
      "Loss: 5.977:   3%|█▏                                      | 23/814 [00:27<13:45,  1.04s/it]"
     ]
    },
    {
     "name": "stderr",
     "output_type": "stream",
     "text": [
      "\r",
      "Loss: 5.977:   3%|█▏                                      | 23/814 [00:27<13:45,  1.04s/it]"
     ]
    },
    {
     "name": "stderr",
     "output_type": "stream",
     "text": [
      "\r",
      "Loss: 5.977:   3%|█▏                                      | 24/814 [00:27<13:44,  1.04s/it]"
     ]
    },
    {
     "name": "stderr",
     "output_type": "stream",
     "text": [
      "\r",
      "Loss: 5.636:   3%|█▏                                      | 24/814 [00:28<13:44,  1.04s/it]"
     ]
    },
    {
     "name": "stderr",
     "output_type": "stream",
     "text": [
      "\r",
      "Loss: 5.636:   3%|█▏                                      | 24/814 [00:28<13:44,  1.04s/it]"
     ]
    },
    {
     "name": "stderr",
     "output_type": "stream",
     "text": [
      "\r",
      "Loss: 5.636:   3%|█▏                                      | 25/814 [00:28<13:50,  1.05s/it]"
     ]
    },
    {
     "name": "stderr",
     "output_type": "stream",
     "text": [
      "\r",
      "Loss: 5.318:   3%|█▏                                      | 25/814 [00:29<13:50,  1.05s/it]"
     ]
    },
    {
     "name": "stderr",
     "output_type": "stream",
     "text": [
      "\r",
      "Loss: 5.318:   3%|█▏                                      | 25/814 [00:29<13:50,  1.05s/it]"
     ]
    },
    {
     "name": "stderr",
     "output_type": "stream",
     "text": [
      "\r",
      "Loss: 5.318:   3%|█▎                                      | 26/814 [00:29<13:49,  1.05s/it]"
     ]
    },
    {
     "name": "stderr",
     "output_type": "stream",
     "text": [
      "\r",
      "Loss: 4.916:   3%|█▎                                      | 26/814 [00:30<13:49,  1.05s/it]"
     ]
    },
    {
     "name": "stderr",
     "output_type": "stream",
     "text": [
      "\r",
      "Loss: 4.916:   3%|█▎                                      | 26/814 [00:30<13:49,  1.05s/it]"
     ]
    },
    {
     "name": "stderr",
     "output_type": "stream",
     "text": [
      "\r",
      "Loss: 4.916:   3%|█▎                                      | 27/814 [00:30<13:47,  1.05s/it]"
     ]
    },
    {
     "name": "stderr",
     "output_type": "stream",
     "text": [
      "\r",
      "Loss: 4.562:   3%|█▎                                      | 27/814 [00:32<13:47,  1.05s/it]"
     ]
    },
    {
     "name": "stderr",
     "output_type": "stream",
     "text": [
      "\r",
      "Loss: 4.562:   3%|█▎                                      | 27/814 [00:32<13:47,  1.05s/it]"
     ]
    },
    {
     "name": "stderr",
     "output_type": "stream",
     "text": [
      "\r",
      "Loss: 4.562:   3%|█▍                                      | 28/814 [00:32<13:50,  1.06s/it]"
     ]
    },
    {
     "name": "stderr",
     "output_type": "stream",
     "text": [
      "\r",
      "Loss: 4.262:   3%|█▍                                      | 28/814 [00:33<13:50,  1.06s/it]"
     ]
    },
    {
     "name": "stderr",
     "output_type": "stream",
     "text": [
      "\r",
      "Loss: 4.262:   3%|█▍                                      | 28/814 [00:33<13:50,  1.06s/it]"
     ]
    },
    {
     "name": "stderr",
     "output_type": "stream",
     "text": [
      "\r",
      "Loss: 4.262:   4%|█▍                                      | 29/814 [00:33<13:55,  1.06s/it]"
     ]
    },
    {
     "name": "stderr",
     "output_type": "stream",
     "text": [
      "\r",
      "Loss: 3.957:   4%|█▍                                      | 29/814 [00:34<13:55,  1.06s/it]"
     ]
    },
    {
     "name": "stderr",
     "output_type": "stream",
     "text": [
      "\r",
      "Loss: 3.957:   4%|█▍                                      | 29/814 [00:34<13:55,  1.06s/it]"
     ]
    },
    {
     "name": "stderr",
     "output_type": "stream",
     "text": [
      "\r",
      "Loss: 3.957:   4%|█▍                                      | 30/814 [00:34<14:00,  1.07s/it]"
     ]
    },
    {
     "name": "stderr",
     "output_type": "stream",
     "text": [
      "\r",
      "Loss: 3.677:   4%|█▍                                      | 30/814 [00:35<14:00,  1.07s/it]"
     ]
    },
    {
     "name": "stderr",
     "output_type": "stream",
     "text": [
      "\r",
      "Loss: 3.677:   4%|█▍                                      | 30/814 [00:35<14:00,  1.07s/it]"
     ]
    },
    {
     "name": "stderr",
     "output_type": "stream",
     "text": [
      "\r",
      "Loss: 3.677:   4%|█▌                                      | 31/814 [00:35<13:54,  1.07s/it]"
     ]
    },
    {
     "name": "stderr",
     "output_type": "stream",
     "text": [
      "\r",
      "Loss: 3.448:   4%|█▌                                      | 31/814 [00:36<13:54,  1.07s/it]"
     ]
    },
    {
     "name": "stderr",
     "output_type": "stream",
     "text": [
      "\r",
      "Loss: 3.448:   4%|█▌                                      | 31/814 [00:36<13:54,  1.07s/it]"
     ]
    },
    {
     "name": "stderr",
     "output_type": "stream",
     "text": [
      "\r",
      "Loss: 3.448:   4%|█▌                                      | 32/814 [00:36<14:06,  1.08s/it]"
     ]
    },
    {
     "name": "stderr",
     "output_type": "stream",
     "text": [
      "\r",
      "Loss: 3.203:   4%|█▌                                      | 32/814 [00:37<14:06,  1.08s/it]"
     ]
    },
    {
     "name": "stderr",
     "output_type": "stream",
     "text": [
      "\r",
      "Loss: 3.203:   4%|█▌                                      | 32/814 [00:37<14:06,  1.08s/it]"
     ]
    },
    {
     "name": "stderr",
     "output_type": "stream",
     "text": [
      "\r",
      "Loss: 3.203:   4%|█▌                                      | 33/814 [00:37<14:14,  1.09s/it]"
     ]
    },
    {
     "name": "stderr",
     "output_type": "stream",
     "text": [
      "\r",
      "Loss: 2.964:   4%|█▌                                      | 33/814 [00:38<14:14,  1.09s/it]"
     ]
    },
    {
     "name": "stderr",
     "output_type": "stream",
     "text": [
      "\r",
      "Loss: 2.964:   4%|█▌                                      | 33/814 [00:38<14:14,  1.09s/it]"
     ]
    },
    {
     "name": "stderr",
     "output_type": "stream",
     "text": [
      "\r",
      "Loss: 2.964:   4%|█▋                                      | 34/814 [00:38<14:07,  1.09s/it]"
     ]
    },
    {
     "name": "stderr",
     "output_type": "stream",
     "text": [
      "\r",
      "Loss: 2.757:   4%|█▋                                      | 34/814 [00:39<14:07,  1.09s/it]"
     ]
    },
    {
     "name": "stderr",
     "output_type": "stream",
     "text": [
      "\r",
      "Loss: 2.757:   4%|█▋                                      | 34/814 [00:39<14:07,  1.09s/it]"
     ]
    },
    {
     "name": "stderr",
     "output_type": "stream",
     "text": [
      "\r",
      "Loss: 2.757:   4%|█▋                                      | 35/814 [00:39<14:09,  1.09s/it]"
     ]
    },
    {
     "name": "stderr",
     "output_type": "stream",
     "text": [
      "\r",
      "Loss: 2.585:   4%|█▋                                      | 35/814 [00:40<14:09,  1.09s/it]"
     ]
    },
    {
     "name": "stderr",
     "output_type": "stream",
     "text": [
      "\r",
      "Loss: 2.585:   4%|█▋                                      | 35/814 [00:40<14:09,  1.09s/it]"
     ]
    },
    {
     "name": "stderr",
     "output_type": "stream",
     "text": [
      "\r",
      "Loss: 2.585:   4%|█▊                                      | 36/814 [00:40<14:13,  1.10s/it]"
     ]
    },
    {
     "name": "stderr",
     "output_type": "stream",
     "text": [
      "\r",
      "Loss: 2.411:   4%|█▊                                      | 36/814 [00:41<14:13,  1.10s/it]"
     ]
    },
    {
     "name": "stderr",
     "output_type": "stream",
     "text": [
      "\r",
      "Loss: 2.411:   4%|█▊                                      | 36/814 [00:41<14:13,  1.10s/it]"
     ]
    },
    {
     "name": "stderr",
     "output_type": "stream",
     "text": [
      "\r",
      "Loss: 2.411:   5%|█▊                                      | 37/814 [00:41<14:16,  1.10s/it]"
     ]
    },
    {
     "name": "stderr",
     "output_type": "stream",
     "text": [
      "\r",
      "Loss: 2.210:   5%|█▊                                      | 37/814 [00:43<14:16,  1.10s/it]"
     ]
    },
    {
     "name": "stderr",
     "output_type": "stream",
     "text": [
      "\r",
      "Loss: 2.210:   5%|█▊                                      | 37/814 [00:43<14:16,  1.10s/it]"
     ]
    },
    {
     "name": "stderr",
     "output_type": "stream",
     "text": [
      "\r",
      "Loss: 2.210:   5%|█▊                                      | 38/814 [00:43<14:28,  1.12s/it]"
     ]
    },
    {
     "name": "stderr",
     "output_type": "stream",
     "text": [
      "\r",
      "Loss: 2.094:   5%|█▊                                      | 38/814 [00:44<14:28,  1.12s/it]"
     ]
    },
    {
     "name": "stderr",
     "output_type": "stream",
     "text": [
      "\r",
      "Loss: 2.094:   5%|█▊                                      | 38/814 [00:44<14:28,  1.12s/it]"
     ]
    },
    {
     "name": "stderr",
     "output_type": "stream",
     "text": [
      "\r",
      "Loss: 2.094:   5%|█▉                                      | 39/814 [00:44<14:14,  1.10s/it]"
     ]
    },
    {
     "name": "stderr",
     "output_type": "stream",
     "text": [
      "\r",
      "Loss: 1.940:   5%|█▉                                      | 39/814 [00:45<14:14,  1.10s/it]"
     ]
    },
    {
     "name": "stderr",
     "output_type": "stream",
     "text": [
      "\r",
      "Loss: 1.940:   5%|█▉                                      | 39/814 [00:45<14:14,  1.10s/it]"
     ]
    },
    {
     "name": "stderr",
     "output_type": "stream",
     "text": [
      "\r",
      "Loss: 1.940:   5%|█▉                                      | 40/814 [00:45<14:24,  1.12s/it]"
     ]
    },
    {
     "name": "stderr",
     "output_type": "stream",
     "text": [
      "\r",
      "Loss: 1.801:   5%|█▉                                      | 40/814 [00:47<14:24,  1.12s/it]"
     ]
    },
    {
     "name": "stderr",
     "output_type": "stream",
     "text": [
      "\r",
      "Loss: 1.801:   5%|█▉                                      | 40/814 [00:47<14:24,  1.12s/it]"
     ]
    },
    {
     "name": "stderr",
     "output_type": "stream",
     "text": [
      "\r",
      "Loss: 1.801:   5%|██                                      | 41/814 [00:47<17:06,  1.33s/it]"
     ]
    },
    {
     "name": "stderr",
     "output_type": "stream",
     "text": [
      "\r",
      "Loss: 1.684:   5%|██                                      | 41/814 [00:48<17:06,  1.33s/it]"
     ]
    },
    {
     "name": "stderr",
     "output_type": "stream",
     "text": [
      "\r",
      "Loss: 1.684:   5%|██                                      | 41/814 [00:48<17:06,  1.33s/it]"
     ]
    },
    {
     "name": "stderr",
     "output_type": "stream",
     "text": [
      "\r",
      "Loss: 1.684:   5%|██                                      | 42/814 [00:48<17:36,  1.37s/it]"
     ]
    },
    {
     "name": "stderr",
     "output_type": "stream",
     "text": [
      "\r",
      "Loss: 1.548:   5%|██                                      | 42/814 [00:49<17:36,  1.37s/it]"
     ]
    },
    {
     "name": "stderr",
     "output_type": "stream",
     "text": [
      "\r",
      "Loss: 1.548:   5%|██                                      | 42/814 [00:49<17:36,  1.37s/it]"
     ]
    },
    {
     "name": "stderr",
     "output_type": "stream",
     "text": [
      "\r",
      "Loss: 1.548:   5%|██                                      | 43/814 [00:49<16:26,  1.28s/it]"
     ]
    },
    {
     "name": "stderr",
     "output_type": "stream",
     "text": [
      "\r",
      "Loss: 1.456:   5%|██                                      | 43/814 [00:50<16:26,  1.28s/it]"
     ]
    },
    {
     "name": "stderr",
     "output_type": "stream",
     "text": [
      "\r",
      "Loss: 1.456:   5%|██                                      | 43/814 [00:50<16:26,  1.28s/it]"
     ]
    },
    {
     "name": "stderr",
     "output_type": "stream",
     "text": [
      "\r",
      "Loss: 1.456:   5%|██▏                                     | 44/814 [00:50<15:44,  1.23s/it]"
     ]
    },
    {
     "name": "stderr",
     "output_type": "stream",
     "text": [
      "\r",
      "Loss: 1.386:   5%|██▏                                     | 44/814 [00:51<15:44,  1.23s/it]"
     ]
    },
    {
     "name": "stderr",
     "output_type": "stream",
     "text": [
      "\r",
      "Loss: 1.386:   5%|██▏                                     | 44/814 [00:51<15:44,  1.23s/it]"
     ]
    },
    {
     "name": "stderr",
     "output_type": "stream",
     "text": [
      "\r",
      "Loss: 1.386:   6%|██▏                                     | 45/814 [00:51<15:04,  1.18s/it]"
     ]
    },
    {
     "name": "stderr",
     "output_type": "stream",
     "text": [
      "\r",
      "Loss: 1.299:   6%|██▏                                     | 45/814 [00:52<15:04,  1.18s/it]"
     ]
    },
    {
     "name": "stderr",
     "output_type": "stream",
     "text": [
      "\r",
      "Loss: 1.299:   6%|██▏                                     | 45/814 [00:52<15:04,  1.18s/it]"
     ]
    },
    {
     "name": "stderr",
     "output_type": "stream",
     "text": [
      "\r",
      "Loss: 1.299:   6%|██▎                                     | 46/814 [00:52<15:15,  1.19s/it]"
     ]
    },
    {
     "name": "stderr",
     "output_type": "stream",
     "text": [
      "\r",
      "Loss: 1.247:   6%|██▎                                     | 46/814 [00:54<15:15,  1.19s/it]"
     ]
    },
    {
     "name": "stderr",
     "output_type": "stream",
     "text": [
      "\r",
      "Loss: 1.247:   6%|██▎                                     | 46/814 [00:54<15:15,  1.19s/it]"
     ]
    },
    {
     "name": "stderr",
     "output_type": "stream",
     "text": [
      "\r",
      "Loss: 1.247:   6%|██▎                                     | 47/814 [00:54<17:40,  1.38s/it]"
     ]
    },
    {
     "name": "stderr",
     "output_type": "stream",
     "text": [
      "\r",
      "Loss: 1.160:   6%|██▎                                     | 47/814 [00:56<17:40,  1.38s/it]"
     ]
    },
    {
     "name": "stderr",
     "output_type": "stream",
     "text": [
      "\r",
      "Loss: 1.160:   6%|██▎                                     | 47/814 [00:56<17:40,  1.38s/it]"
     ]
    },
    {
     "name": "stderr",
     "output_type": "stream",
     "text": [
      "\r",
      "Loss: 1.160:   6%|██▎                                     | 48/814 [00:56<19:24,  1.52s/it]"
     ]
    },
    {
     "name": "stderr",
     "output_type": "stream",
     "text": [
      "\r",
      "Loss: 1.091:   6%|██▎                                     | 48/814 [00:58<19:24,  1.52s/it]"
     ]
    },
    {
     "name": "stderr",
     "output_type": "stream",
     "text": [
      "\r",
      "Loss: 1.091:   6%|██▎                                     | 48/814 [00:58<19:24,  1.52s/it]"
     ]
    },
    {
     "name": "stderr",
     "output_type": "stream",
     "text": [
      "\r",
      "Loss: 1.091:   6%|██▍                                     | 49/814 [00:58<20:36,  1.62s/it]"
     ]
    },
    {
     "name": "stderr",
     "output_type": "stream",
     "text": [
      "\r",
      "Loss: 1.040:   6%|██▍                                     | 49/814 [01:00<20:36,  1.62s/it]"
     ]
    },
    {
     "name": "stderr",
     "output_type": "stream",
     "text": [
      "\r",
      "Loss: 1.040:   6%|██▍                                     | 49/814 [01:00<20:36,  1.62s/it]"
     ]
    },
    {
     "name": "stderr",
     "output_type": "stream",
     "text": [
      "\r",
      "Loss: 1.040:   6%|██▍                                     | 50/814 [01:00<21:40,  1.70s/it]"
     ]
    },
    {
     "name": "stderr",
     "output_type": "stream",
     "text": [
      "\r",
      "Loss: 0.974:   6%|██▍                                     | 50/814 [01:02<21:40,  1.70s/it]"
     ]
    },
    {
     "name": "stderr",
     "output_type": "stream",
     "text": [
      "\r",
      "Loss: 0.974:   6%|██▍                                     | 50/814 [01:02<21:40,  1.70s/it]"
     ]
    },
    {
     "name": "stderr",
     "output_type": "stream",
     "text": [
      "\r",
      "Loss: 0.974:   6%|██▌                                     | 51/814 [01:02<22:17,  1.75s/it]"
     ]
    },
    {
     "name": "stderr",
     "output_type": "stream",
     "text": [
      "\r",
      "Loss: 0.901:   6%|██▌                                     | 51/814 [01:04<22:17,  1.75s/it]"
     ]
    },
    {
     "name": "stderr",
     "output_type": "stream",
     "text": [
      "\r",
      "Loss: 0.901:   6%|██▌                                     | 51/814 [01:04<22:17,  1.75s/it]"
     ]
    },
    {
     "name": "stderr",
     "output_type": "stream",
     "text": [
      "\r",
      "Loss: 0.901:   6%|██▌                                     | 52/814 [01:04<22:25,  1.77s/it]"
     ]
    },
    {
     "name": "stderr",
     "output_type": "stream",
     "text": [
      "\r",
      "Loss: 0.850:   6%|██▌                                     | 52/814 [01:05<22:25,  1.77s/it]"
     ]
    },
    {
     "name": "stderr",
     "output_type": "stream",
     "text": [
      "\r",
      "Loss: 0.850:   6%|██▌                                     | 52/814 [01:05<22:25,  1.77s/it]"
     ]
    },
    {
     "name": "stderr",
     "output_type": "stream",
     "text": [
      "\r",
      "Loss: 0.850:   7%|██▌                                     | 53/814 [01:05<19:49,  1.56s/it]"
     ]
    },
    {
     "name": "stderr",
     "output_type": "stream",
     "text": [
      "\r",
      "Loss: 0.801:   7%|██▌                                     | 53/814 [01:06<19:49,  1.56s/it]"
     ]
    },
    {
     "name": "stderr",
     "output_type": "stream",
     "text": [
      "\r",
      "Loss: 0.801:   7%|██▌                                     | 53/814 [01:06<19:49,  1.56s/it]"
     ]
    },
    {
     "name": "stderr",
     "output_type": "stream",
     "text": [
      "\r",
      "Loss: 0.801:   7%|██▋                                     | 54/814 [01:06<18:25,  1.45s/it]"
     ]
    },
    {
     "name": "stderr",
     "output_type": "stream",
     "text": [
      "\r",
      "Loss: 0.761:   7%|██▋                                     | 54/814 [01:08<18:25,  1.45s/it]"
     ]
    },
    {
     "name": "stderr",
     "output_type": "stream",
     "text": [
      "\r",
      "Loss: 0.761:   7%|██▋                                     | 54/814 [01:08<18:25,  1.45s/it]"
     ]
    },
    {
     "name": "stderr",
     "output_type": "stream",
     "text": [
      "\r",
      "Loss: 0.761:   7%|██▋                                     | 55/814 [01:08<19:58,  1.58s/it]"
     ]
    },
    {
     "name": "stderr",
     "output_type": "stream",
     "text": [
      "\r",
      "Loss: 0.725:   7%|██▋                                     | 55/814 [01:10<19:58,  1.58s/it]"
     ]
    },
    {
     "name": "stderr",
     "output_type": "stream",
     "text": [
      "\r",
      "Loss: 0.725:   7%|██▋                                     | 55/814 [01:10<19:58,  1.58s/it]"
     ]
    },
    {
     "name": "stderr",
     "output_type": "stream",
     "text": [
      "\r",
      "Loss: 0.725:   7%|██▊                                     | 56/814 [01:10<21:04,  1.67s/it]"
     ]
    },
    {
     "name": "stderr",
     "output_type": "stream",
     "text": [
      "\r",
      "Loss: 0.686:   7%|██▊                                     | 56/814 [01:11<21:04,  1.67s/it]"
     ]
    },
    {
     "name": "stderr",
     "output_type": "stream",
     "text": [
      "\r",
      "Loss: 0.686:   7%|██▊                                     | 56/814 [01:11<21:04,  1.67s/it]"
     ]
    },
    {
     "name": "stderr",
     "output_type": "stream",
     "text": [
      "\r",
      "Loss: 0.686:   7%|██▊                                     | 57/814 [01:11<21:46,  1.73s/it]"
     ]
    },
    {
     "name": "stderr",
     "output_type": "stream",
     "text": [
      "\r",
      "Loss: 0.637:   7%|██▊                                     | 57/814 [01:13<21:46,  1.73s/it]"
     ]
    },
    {
     "name": "stderr",
     "output_type": "stream",
     "text": [
      "\r",
      "Loss: 0.637:   7%|██▊                                     | 57/814 [01:13<21:46,  1.73s/it]"
     ]
    },
    {
     "name": "stderr",
     "output_type": "stream",
     "text": [
      "\r",
      "Loss: 0.637:   7%|██▊                                     | 58/814 [01:13<22:19,  1.77s/it]"
     ]
    },
    {
     "name": "stderr",
     "output_type": "stream",
     "text": [
      "\r",
      "Loss: 0.596:   7%|██▊                                     | 58/814 [01:15<22:19,  1.77s/it]"
     ]
    },
    {
     "name": "stderr",
     "output_type": "stream",
     "text": [
      "\r",
      "Loss: 0.596:   7%|██▊                                     | 58/814 [01:15<22:19,  1.77s/it]"
     ]
    },
    {
     "name": "stderr",
     "output_type": "stream",
     "text": [
      "\r",
      "Loss: 0.596:   7%|██▉                                     | 59/814 [01:15<22:38,  1.80s/it]"
     ]
    },
    {
     "name": "stderr",
     "output_type": "stream",
     "text": [
      "\r",
      "Loss: 0.576:   7%|██▉                                     | 59/814 [01:17<22:38,  1.80s/it]"
     ]
    },
    {
     "name": "stderr",
     "output_type": "stream",
     "text": [
      "\r",
      "Loss: 0.576:   7%|██▉                                     | 59/814 [01:17<22:38,  1.80s/it]"
     ]
    },
    {
     "name": "stderr",
     "output_type": "stream",
     "text": [
      "\r",
      "Loss: 0.576:   7%|██▉                                     | 60/814 [01:17<21:51,  1.74s/it]"
     ]
    },
    {
     "name": "stderr",
     "output_type": "stream",
     "text": [
      "\r",
      "Loss: 0.559:   7%|██▉                                     | 60/814 [01:18<21:51,  1.74s/it]"
     ]
    },
    {
     "name": "stderr",
     "output_type": "stream",
     "text": [
      "\r",
      "Loss: 0.559:   7%|██▉                                     | 60/814 [01:18<21:51,  1.74s/it]"
     ]
    },
    {
     "name": "stderr",
     "output_type": "stream",
     "text": [
      "\r",
      "Loss: 0.559:   7%|██▉                                     | 61/814 [01:18<19:50,  1.58s/it]"
     ]
    },
    {
     "name": "stderr",
     "output_type": "stream",
     "text": [
      "\r",
      "Loss: 0.530:   7%|██▉                                     | 61/814 [01:19<19:50,  1.58s/it]"
     ]
    },
    {
     "name": "stderr",
     "output_type": "stream",
     "text": [
      "\r",
      "Loss: 0.530:   7%|██▉                                     | 61/814 [01:19<19:50,  1.58s/it]"
     ]
    },
    {
     "name": "stderr",
     "output_type": "stream",
     "text": [
      "\r",
      "Loss: 0.530:   8%|███                                     | 62/814 [01:19<18:36,  1.48s/it]"
     ]
    },
    {
     "name": "stderr",
     "output_type": "stream",
     "text": [
      "\r",
      "Loss: 0.519:   8%|███                                     | 62/814 [01:21<18:36,  1.48s/it]"
     ]
    },
    {
     "name": "stderr",
     "output_type": "stream",
     "text": [
      "\r",
      "Loss: 0.519:   8%|███                                     | 62/814 [01:21<18:36,  1.48s/it]"
     ]
    },
    {
     "name": "stderr",
     "output_type": "stream",
     "text": [
      "\r",
      "Loss: 0.519:   8%|███                                     | 63/814 [01:21<20:03,  1.60s/it]"
     ]
    },
    {
     "name": "stderr",
     "output_type": "stream",
     "text": [
      "\r",
      "Loss: 0.488:   8%|███                                     | 63/814 [01:23<20:03,  1.60s/it]"
     ]
    },
    {
     "name": "stderr",
     "output_type": "stream",
     "text": [
      "\r",
      "Loss: 0.488:   8%|███                                     | 63/814 [01:23<20:03,  1.60s/it]"
     ]
    },
    {
     "name": "stderr",
     "output_type": "stream",
     "text": [
      "\r",
      "Loss: 0.488:   8%|███▏                                    | 64/814 [01:23<21:13,  1.70s/it]"
     ]
    },
    {
     "name": "stderr",
     "output_type": "stream",
     "text": [
      "\r",
      "Loss: 0.470:   8%|███▏                                    | 64/814 [01:25<21:13,  1.70s/it]"
     ]
    },
    {
     "name": "stderr",
     "output_type": "stream",
     "text": [
      "\r",
      "Loss: 0.470:   8%|███▏                                    | 64/814 [01:25<21:13,  1.70s/it]"
     ]
    },
    {
     "name": "stderr",
     "output_type": "stream",
     "text": [
      "\r",
      "Loss: 0.470:   8%|███▏                                    | 65/814 [01:25<21:48,  1.75s/it]"
     ]
    },
    {
     "name": "stderr",
     "output_type": "stream",
     "text": [
      "\r",
      "Loss: 0.437:   8%|███▏                                    | 65/814 [01:27<21:48,  1.75s/it]"
     ]
    },
    {
     "name": "stderr",
     "output_type": "stream",
     "text": [
      "\r",
      "Loss: 0.437:   8%|███▏                                    | 65/814 [01:27<21:48,  1.75s/it]"
     ]
    },
    {
     "name": "stderr",
     "output_type": "stream",
     "text": [
      "\r",
      "Loss: 0.437:   8%|███▏                                    | 66/814 [01:27<22:14,  1.78s/it]"
     ]
    },
    {
     "name": "stderr",
     "output_type": "stream",
     "text": [
      "\r",
      "Loss: 0.408:   8%|███▏                                    | 66/814 [01:29<22:14,  1.78s/it]"
     ]
    },
    {
     "name": "stderr",
     "output_type": "stream",
     "text": [
      "\r",
      "Loss: 0.408:   8%|███▏                                    | 66/814 [01:29<22:14,  1.78s/it]"
     ]
    },
    {
     "name": "stderr",
     "output_type": "stream",
     "text": [
      "\r",
      "Loss: 0.408:   8%|███▎                                    | 67/814 [01:29<22:29,  1.81s/it]"
     ]
    },
    {
     "name": "stderr",
     "output_type": "stream",
     "text": [
      "\r",
      "Loss: 0.399:   8%|███▎                                    | 67/814 [01:31<22:29,  1.81s/it]"
     ]
    },
    {
     "name": "stderr",
     "output_type": "stream",
     "text": [
      "\r",
      "Loss: 0.399:   8%|███▎                                    | 67/814 [01:31<22:29,  1.81s/it]"
     ]
    },
    {
     "name": "stderr",
     "output_type": "stream",
     "text": [
      "\r",
      "Loss: 0.399:   8%|███▎                                    | 68/814 [01:31<22:38,  1.82s/it]"
     ]
    },
    {
     "name": "stderr",
     "output_type": "stream",
     "text": [
      "\r",
      "Loss: 0.388:   8%|███▎                                    | 68/814 [01:32<22:38,  1.82s/it]"
     ]
    },
    {
     "name": "stderr",
     "output_type": "stream",
     "text": [
      "\r",
      "Loss: 0.388:   8%|███▎                                    | 68/814 [01:32<22:38,  1.82s/it]"
     ]
    },
    {
     "name": "stderr",
     "output_type": "stream",
     "text": [
      "\r",
      "Loss: 0.388:   8%|███▍                                    | 69/814 [01:32<22:52,  1.84s/it]"
     ]
    },
    {
     "name": "stderr",
     "output_type": "stream",
     "text": [
      "\r",
      "Loss: 0.370:   8%|███▍                                    | 69/814 [01:34<22:52,  1.84s/it]"
     ]
    },
    {
     "name": "stderr",
     "output_type": "stream",
     "text": [
      "\r",
      "Loss: 0.370:   8%|███▍                                    | 69/814 [01:34<22:52,  1.84s/it]"
     ]
    },
    {
     "name": "stderr",
     "output_type": "stream",
     "text": [
      "\r",
      "Loss: 0.370:   9%|███▍                                    | 70/814 [01:34<22:59,  1.85s/it]"
     ]
    },
    {
     "name": "stderr",
     "output_type": "stream",
     "text": [
      "\r",
      "Loss: 0.348:   9%|███▍                                    | 70/814 [01:36<22:59,  1.85s/it]"
     ]
    },
    {
     "name": "stderr",
     "output_type": "stream",
     "text": [
      "\r",
      "Loss: 0.348:   9%|███▍                                    | 70/814 [01:36<22:59,  1.85s/it]"
     ]
    },
    {
     "name": "stderr",
     "output_type": "stream",
     "text": [
      "\r",
      "Loss: 0.348:   9%|███▍                                    | 71/814 [01:36<22:58,  1.85s/it]"
     ]
    },
    {
     "name": "stderr",
     "output_type": "stream",
     "text": [
      "\r",
      "Loss: 0.333:   9%|███▍                                    | 71/814 [01:38<22:58,  1.85s/it]"
     ]
    },
    {
     "name": "stderr",
     "output_type": "stream",
     "text": [
      "\r",
      "Loss: 0.333:   9%|███▍                                    | 71/814 [01:38<22:58,  1.85s/it]"
     ]
    },
    {
     "name": "stderr",
     "output_type": "stream",
     "text": [
      "\r",
      "Loss: 0.333:   9%|███▌                                    | 72/814 [01:38<23:02,  1.86s/it]"
     ]
    },
    {
     "name": "stderr",
     "output_type": "stream",
     "text": [
      "\r",
      "Loss: 0.323:   9%|███▌                                    | 72/814 [01:39<23:02,  1.86s/it]"
     ]
    },
    {
     "name": "stderr",
     "output_type": "stream",
     "text": [
      "\r",
      "Loss: 0.323:   9%|███▌                                    | 72/814 [01:39<23:02,  1.86s/it]"
     ]
    },
    {
     "name": "stderr",
     "output_type": "stream",
     "text": [
      "\r",
      "Loss: 0.323:   9%|███▌                                    | 73/814 [01:39<20:35,  1.67s/it]"
     ]
    },
    {
     "name": "stderr",
     "output_type": "stream",
     "text": [
      "\r",
      "Loss: 0.298:   9%|███▌                                    | 73/814 [01:41<20:35,  1.67s/it]"
     ]
    },
    {
     "name": "stderr",
     "output_type": "stream",
     "text": [
      "\r",
      "Loss: 0.298:   9%|███▌                                    | 73/814 [01:41<20:35,  1.67s/it]"
     ]
    },
    {
     "name": "stderr",
     "output_type": "stream",
     "text": [
      "\r",
      "Loss: 0.298:   9%|███▋                                    | 74/814 [01:41<21:12,  1.72s/it]"
     ]
    },
    {
     "name": "stderr",
     "output_type": "stream",
     "text": [
      "\r",
      "Loss: 0.283:   9%|███▋                                    | 74/814 [01:43<21:12,  1.72s/it]"
     ]
    },
    {
     "name": "stderr",
     "output_type": "stream",
     "text": [
      "\r",
      "Loss: 0.283:   9%|███▋                                    | 74/814 [01:43<21:12,  1.72s/it]"
     ]
    },
    {
     "name": "stderr",
     "output_type": "stream",
     "text": [
      "\r",
      "Loss: 0.283:   9%|███▋                                    | 75/814 [01:43<21:44,  1.77s/it]"
     ]
    },
    {
     "name": "stderr",
     "output_type": "stream",
     "text": [
      "\r",
      "Loss: 0.267:   9%|███▋                                    | 75/814 [01:45<21:44,  1.77s/it]"
     ]
    },
    {
     "name": "stderr",
     "output_type": "stream",
     "text": [
      "\r",
      "Loss: 0.267:   9%|███▋                                    | 75/814 [01:45<21:44,  1.77s/it]"
     ]
    },
    {
     "name": "stderr",
     "output_type": "stream",
     "text": [
      "\r",
      "Loss: 0.267:   9%|███▋                                    | 76/814 [01:45<22:04,  1.79s/it]"
     ]
    },
    {
     "name": "stderr",
     "output_type": "stream",
     "text": [
      "\r",
      "Loss: 0.264:   9%|███▋                                    | 76/814 [01:47<22:04,  1.79s/it]"
     ]
    },
    {
     "name": "stderr",
     "output_type": "stream",
     "text": [
      "\r",
      "Loss: 0.264:   9%|███▋                                    | 76/814 [01:47<22:04,  1.79s/it]"
     ]
    },
    {
     "name": "stderr",
     "output_type": "stream",
     "text": [
      "\r",
      "Loss: 0.264:   9%|███▊                                    | 77/814 [01:47<22:16,  1.81s/it]"
     ]
    },
    {
     "name": "stderr",
     "output_type": "stream",
     "text": [
      "\r",
      "Loss: 0.266:   9%|███▊                                    | 77/814 [01:49<22:16,  1.81s/it]"
     ]
    },
    {
     "name": "stderr",
     "output_type": "stream",
     "text": [
      "\r",
      "Loss: 0.266:   9%|███▊                                    | 77/814 [01:49<22:16,  1.81s/it]"
     ]
    },
    {
     "name": "stderr",
     "output_type": "stream",
     "text": [
      "\r",
      "Loss: 0.266:  10%|███▊                                    | 78/814 [01:49<22:29,  1.83s/it]"
     ]
    },
    {
     "name": "stderr",
     "output_type": "stream",
     "text": [
      "\r",
      "Loss: 0.260:  10%|███▊                                    | 78/814 [01:50<22:29,  1.83s/it]"
     ]
    },
    {
     "name": "stderr",
     "output_type": "stream",
     "text": [
      "\r",
      "Loss: 0.260:  10%|███▊                                    | 78/814 [01:50<22:29,  1.83s/it]"
     ]
    },
    {
     "name": "stderr",
     "output_type": "stream",
     "text": [
      "\r",
      "Loss: 0.260:  10%|███▉                                    | 79/814 [01:50<22:45,  1.86s/it]"
     ]
    },
    {
     "name": "stderr",
     "output_type": "stream",
     "text": [
      "\r",
      "Loss: 0.244:  10%|███▉                                    | 79/814 [01:52<22:45,  1.86s/it]"
     ]
    },
    {
     "name": "stderr",
     "output_type": "stream",
     "text": [
      "\r",
      "Loss: 0.244:  10%|███▉                                    | 79/814 [01:52<22:45,  1.86s/it]"
     ]
    },
    {
     "name": "stderr",
     "output_type": "stream",
     "text": [
      "\r",
      "Loss: 0.244:  10%|███▉                                    | 80/814 [01:52<22:52,  1.87s/it]"
     ]
    },
    {
     "name": "stderr",
     "output_type": "stream",
     "text": [
      "\r",
      "Loss: 0.227:  10%|███▉                                    | 80/814 [01:54<22:52,  1.87s/it]"
     ]
    },
    {
     "name": "stderr",
     "output_type": "stream",
     "text": [
      "\r",
      "Loss: 0.227:  10%|███▉                                    | 80/814 [01:54<22:52,  1.87s/it]"
     ]
    },
    {
     "name": "stderr",
     "output_type": "stream",
     "text": [
      "\r",
      "Loss: 0.227:  10%|███▉                                    | 81/814 [01:54<22:56,  1.88s/it]"
     ]
    },
    {
     "name": "stderr",
     "output_type": "stream",
     "text": [
      "\r",
      "Loss: 0.232:  10%|███▉                                    | 81/814 [01:56<22:56,  1.88s/it]"
     ]
    },
    {
     "name": "stderr",
     "output_type": "stream",
     "text": [
      "\r",
      "Loss: 0.232:  10%|███▉                                    | 81/814 [01:56<22:56,  1.88s/it]"
     ]
    },
    {
     "name": "stderr",
     "output_type": "stream",
     "text": [
      "\r",
      "Loss: 0.232:  10%|████                                    | 82/814 [01:56<22:56,  1.88s/it]"
     ]
    },
    {
     "name": "stderr",
     "output_type": "stream",
     "text": [
      "\r",
      "Loss: 0.229:  10%|████                                    | 82/814 [01:58<22:56,  1.88s/it]"
     ]
    },
    {
     "name": "stderr",
     "output_type": "stream",
     "text": [
      "\r",
      "Loss: 0.229:  10%|████                                    | 82/814 [01:58<22:56,  1.88s/it]"
     ]
    },
    {
     "name": "stderr",
     "output_type": "stream",
     "text": [
      "\r",
      "Loss: 0.229:  10%|████                                    | 83/814 [01:58<22:51,  1.88s/it]"
     ]
    },
    {
     "name": "stderr",
     "output_type": "stream",
     "text": [
      "\r",
      "Loss: 0.240:  10%|████                                    | 83/814 [02:00<22:51,  1.88s/it]"
     ]
    },
    {
     "name": "stderr",
     "output_type": "stream",
     "text": [
      "\r",
      "Loss: 0.240:  10%|████                                    | 83/814 [02:00<22:51,  1.88s/it]"
     ]
    },
    {
     "name": "stderr",
     "output_type": "stream",
     "text": [
      "\r",
      "Loss: 0.240:  10%|████▏                                   | 84/814 [02:00<22:05,  1.82s/it]"
     ]
    },
    {
     "name": "stderr",
     "output_type": "stream",
     "text": [
      "\r",
      "Loss: 0.238:  10%|████▏                                   | 84/814 [02:01<22:05,  1.82s/it]"
     ]
    },
    {
     "name": "stderr",
     "output_type": "stream",
     "text": [
      "\r",
      "Loss: 0.238:  10%|████▏                                   | 84/814 [02:01<22:05,  1.82s/it]"
     ]
    },
    {
     "name": "stderr",
     "output_type": "stream",
     "text": [
      "\r",
      "Loss: 0.238:  10%|████▏                                   | 85/814 [02:01<20:02,  1.65s/it]"
     ]
    },
    {
     "name": "stderr",
     "output_type": "stream",
     "text": [
      "\r",
      "Loss: 0.229:  10%|████▏                                   | 85/814 [02:03<20:02,  1.65s/it]"
     ]
    },
    {
     "name": "stderr",
     "output_type": "stream",
     "text": [
      "\r",
      "Loss: 0.229:  10%|████▏                                   | 85/814 [02:03<20:02,  1.65s/it]"
     ]
    },
    {
     "name": "stderr",
     "output_type": "stream",
     "text": [
      "\r",
      "Loss: 0.229:  11%|████▏                                   | 86/814 [02:03<20:26,  1.68s/it]"
     ]
    },
    {
     "name": "stderr",
     "output_type": "stream",
     "text": [
      "\r",
      "Loss: 0.218:  11%|████▏                                   | 86/814 [02:04<20:26,  1.68s/it]"
     ]
    },
    {
     "name": "stderr",
     "output_type": "stream",
     "text": [
      "\r",
      "Loss: 0.218:  11%|████▏                                   | 86/814 [02:04<20:26,  1.68s/it]"
     ]
    },
    {
     "name": "stderr",
     "output_type": "stream",
     "text": [
      "\r",
      "Loss: 0.218:  11%|████▎                                   | 87/814 [02:04<18:44,  1.55s/it]"
     ]
    },
    {
     "name": "stderr",
     "output_type": "stream",
     "text": [
      "\r",
      "Loss: 0.201:  11%|████▎                                   | 87/814 [02:06<18:44,  1.55s/it]"
     ]
    },
    {
     "name": "stderr",
     "output_type": "stream",
     "text": [
      "\r",
      "Loss: 0.201:  11%|████▎                                   | 87/814 [02:06<18:44,  1.55s/it]"
     ]
    },
    {
     "name": "stderr",
     "output_type": "stream",
     "text": [
      "\r",
      "Loss: 0.201:  11%|████▎                                   | 88/814 [02:06<19:02,  1.57s/it]"
     ]
    },
    {
     "name": "stderr",
     "output_type": "stream",
     "text": [
      "\r",
      "Loss: 0.187:  11%|████▎                                   | 88/814 [02:07<19:02,  1.57s/it]"
     ]
    },
    {
     "name": "stderr",
     "output_type": "stream",
     "text": [
      "\r",
      "Loss: 0.187:  11%|████▎                                   | 88/814 [02:07<19:02,  1.57s/it]"
     ]
    },
    {
     "name": "stderr",
     "output_type": "stream",
     "text": [
      "\r",
      "Loss: 0.187:  11%|████▎                                   | 89/814 [02:07<19:55,  1.65s/it]"
     ]
    },
    {
     "name": "stderr",
     "output_type": "stream",
     "text": [
      "\r",
      "Loss: 0.179:  11%|████▎                                   | 89/814 [02:09<19:55,  1.65s/it]"
     ]
    },
    {
     "name": "stderr",
     "output_type": "stream",
     "text": [
      "\r",
      "Loss: 0.179:  11%|████▎                                   | 89/814 [02:09<19:55,  1.65s/it]"
     ]
    },
    {
     "name": "stderr",
     "output_type": "stream",
     "text": [
      "\r",
      "Loss: 0.179:  11%|████▍                                   | 90/814 [02:09<20:39,  1.71s/it]"
     ]
    },
    {
     "name": "stderr",
     "output_type": "stream",
     "text": [
      "\r",
      "Loss: 0.170:  11%|████▍                                   | 90/814 [02:11<20:39,  1.71s/it]"
     ]
    },
    {
     "name": "stderr",
     "output_type": "stream",
     "text": [
      "\r",
      "Loss: 0.170:  11%|████▍                                   | 90/814 [02:11<20:39,  1.71s/it]"
     ]
    },
    {
     "name": "stderr",
     "output_type": "stream",
     "text": [
      "\r",
      "Loss: 0.170:  11%|████▍                                   | 91/814 [02:11<19:57,  1.66s/it]"
     ]
    },
    {
     "name": "stderr",
     "output_type": "stream",
     "text": [
      "\r",
      "Loss: 0.164:  11%|████▍                                   | 91/814 [02:12<19:57,  1.66s/it]"
     ]
    },
    {
     "name": "stderr",
     "output_type": "stream",
     "text": [
      "\r",
      "Loss: 0.164:  11%|████▍                                   | 91/814 [02:12<19:57,  1.66s/it]"
     ]
    },
    {
     "name": "stderr",
     "output_type": "stream",
     "text": [
      "\r",
      "Loss: 0.164:  11%|████▌                                   | 92/814 [02:12<19:41,  1.64s/it]"
     ]
    },
    {
     "name": "stderr",
     "output_type": "stream",
     "text": [
      "\r",
      "Loss: 0.159:  11%|████▌                                   | 92/814 [02:14<19:41,  1.64s/it]"
     ]
    },
    {
     "name": "stderr",
     "output_type": "stream",
     "text": [
      "\r",
      "Loss: 0.159:  11%|████▌                                   | 92/814 [02:14<19:41,  1.64s/it]"
     ]
    },
    {
     "name": "stderr",
     "output_type": "stream",
     "text": [
      "\r",
      "Loss: 0.159:  11%|████▌                                   | 93/814 [02:14<18:40,  1.55s/it]"
     ]
    },
    {
     "name": "stderr",
     "output_type": "stream",
     "text": [
      "\r",
      "Loss: 0.155:  11%|████▌                                   | 93/814 [02:16<18:40,  1.55s/it]"
     ]
    },
    {
     "name": "stderr",
     "output_type": "stream",
     "text": [
      "\r",
      "Loss: 0.155:  11%|████▌                                   | 93/814 [02:16<18:40,  1.55s/it]"
     ]
    },
    {
     "name": "stderr",
     "output_type": "stream",
     "text": [
      "\r",
      "Loss: 0.155:  12%|████▌                                   | 94/814 [02:16<19:56,  1.66s/it]"
     ]
    },
    {
     "name": "stderr",
     "output_type": "stream",
     "text": [
      "\r",
      "Loss: 0.152:  12%|████▌                                   | 94/814 [02:18<19:56,  1.66s/it]"
     ]
    },
    {
     "name": "stderr",
     "output_type": "stream",
     "text": [
      "\r",
      "Loss: 0.152:  12%|████▌                                   | 94/814 [02:18<19:56,  1.66s/it]"
     ]
    },
    {
     "name": "stderr",
     "output_type": "stream",
     "text": [
      "\r",
      "Loss: 0.152:  12%|████▋                                   | 95/814 [02:18<20:54,  1.74s/it]"
     ]
    },
    {
     "name": "stderr",
     "output_type": "stream",
     "text": [
      "\r",
      "Loss: 0.139:  12%|████▋                                   | 95/814 [02:20<20:54,  1.74s/it]"
     ]
    },
    {
     "name": "stderr",
     "output_type": "stream",
     "text": [
      "\r",
      "Loss: 0.139:  12%|████▋                                   | 95/814 [02:20<20:54,  1.74s/it]"
     ]
    },
    {
     "name": "stderr",
     "output_type": "stream",
     "text": [
      "\r",
      "Loss: 0.139:  12%|████▋                                   | 96/814 [02:20<21:32,  1.80s/it]"
     ]
    },
    {
     "name": "stderr",
     "output_type": "stream",
     "text": [
      "\r",
      "Loss: 0.134:  12%|████▋                                   | 96/814 [02:21<21:32,  1.80s/it]"
     ]
    },
    {
     "name": "stderr",
     "output_type": "stream",
     "text": [
      "\r",
      "Loss: 0.134:  12%|████▋                                   | 96/814 [02:21<21:32,  1.80s/it]"
     ]
    },
    {
     "name": "stderr",
     "output_type": "stream",
     "text": [
      "\r",
      "Loss: 0.134:  12%|████▊                                   | 97/814 [02:21<21:49,  1.83s/it]"
     ]
    },
    {
     "name": "stderr",
     "output_type": "stream",
     "text": [
      "\r",
      "Loss: 0.125:  12%|████▊                                   | 97/814 [02:23<21:49,  1.83s/it]"
     ]
    },
    {
     "name": "stderr",
     "output_type": "stream",
     "text": [
      "\r",
      "Loss: 0.125:  12%|████▊                                   | 97/814 [02:23<21:49,  1.83s/it]"
     ]
    },
    {
     "name": "stderr",
     "output_type": "stream",
     "text": [
      "\r",
      "Loss: 0.125:  12%|████▊                                   | 98/814 [02:23<21:57,  1.84s/it]"
     ]
    },
    {
     "name": "stderr",
     "output_type": "stream",
     "text": [
      "\r",
      "Loss: 0.119:  12%|████▊                                   | 98/814 [02:25<21:57,  1.84s/it]"
     ]
    },
    {
     "name": "stderr",
     "output_type": "stream",
     "text": [
      "\r",
      "Loss: 0.119:  12%|████▊                                   | 98/814 [02:25<21:57,  1.84s/it]"
     ]
    },
    {
     "name": "stderr",
     "output_type": "stream",
     "text": [
      "\r",
      "Loss: 0.119:  12%|████▊                                   | 99/814 [02:25<22:11,  1.86s/it]"
     ]
    },
    {
     "name": "stderr",
     "output_type": "stream",
     "text": [
      "\r",
      "Loss: 0.113:  12%|████▊                                   | 99/814 [02:28<22:11,  1.86s/it]"
     ]
    },
    {
     "name": "stderr",
     "output_type": "stream",
     "text": [
      "\r",
      "Loss: 0.113:  12%|█▏        | 99/814 [02:28<22:11,  1.86s/it, ['local weather conditions']]"
     ]
    },
    {
     "name": "stderr",
     "output_type": "stream",
     "text": [
      "\r",
      "Loss: 0.113:  12%|█        | 100/814 [02:28<25:31,  2.15s/it, ['local weather conditions']]"
     ]
    },
    {
     "name": "stderr",
     "output_type": "stream",
     "text": [
      "\r",
      "Loss: 0.130:  12%|█        | 100/814 [02:30<25:31,  2.15s/it, ['local weather conditions']]"
     ]
    },
    {
     "name": "stderr",
     "output_type": "stream",
     "text": [
      "\r",
      "Loss: 0.130:  12%|█        | 100/814 [02:30<25:31,  2.15s/it, ['local weather conditions']]"
     ]
    },
    {
     "name": "stderr",
     "output_type": "stream",
     "text": [
      "\r",
      "Loss: 0.130:  12%|█        | 101/814 [02:30<24:31,  2.06s/it, ['local weather conditions']]"
     ]
    },
    {
     "name": "stderr",
     "output_type": "stream",
     "text": [
      "\r",
      "Loss: 0.123:  12%|█        | 101/814 [02:32<24:31,  2.06s/it, ['local weather conditions']]"
     ]
    },
    {
     "name": "stderr",
     "output_type": "stream",
     "text": [
      "\r",
      "Loss: 0.123:  12%|█        | 101/814 [02:32<24:31,  2.06s/it, ['local weather conditions']]"
     ]
    },
    {
     "name": "stderr",
     "output_type": "stream",
     "text": [
      "\r",
      "Loss: 0.123:  13%|█▏       | 102/814 [02:32<23:56,  2.02s/it, ['local weather conditions']]"
     ]
    },
    {
     "name": "stderr",
     "output_type": "stream",
     "text": [
      "\r",
      "Loss: 0.115:  13%|█▏       | 102/814 [02:34<23:56,  2.02s/it, ['local weather conditions']]"
     ]
    },
    {
     "name": "stderr",
     "output_type": "stream",
     "text": [
      "\r",
      "Loss: 0.115:  13%|█▏       | 102/814 [02:34<23:56,  2.02s/it, ['local weather conditions']]"
     ]
    },
    {
     "name": "stderr",
     "output_type": "stream",
     "text": [
      "\r",
      "Loss: 0.115:  13%|█▏       | 103/814 [02:34<23:27,  1.98s/it, ['local weather conditions']]"
     ]
    },
    {
     "name": "stderr",
     "output_type": "stream",
     "text": [
      "\r",
      "Loss: 0.107:  13%|█▏       | 103/814 [02:36<23:27,  1.98s/it, ['local weather conditions']]"
     ]
    },
    {
     "name": "stderr",
     "output_type": "stream",
     "text": [
      "\r",
      "Loss: 0.107:  13%|█▏       | 103/814 [02:36<23:27,  1.98s/it, ['local weather conditions']]"
     ]
    },
    {
     "name": "stderr",
     "output_type": "stream",
     "text": [
      "\r",
      "Loss: 0.107:  13%|█▏       | 104/814 [02:36<23:12,  1.96s/it, ['local weather conditions']]"
     ]
    },
    {
     "name": "stderr",
     "output_type": "stream",
     "text": [
      "\r",
      "Loss: 0.108:  13%|█▏       | 104/814 [02:38<23:12,  1.96s/it, ['local weather conditions']]"
     ]
    },
    {
     "name": "stderr",
     "output_type": "stream",
     "text": [
      "\r",
      "Loss: 0.108:  13%|█▏       | 104/814 [02:38<23:12,  1.96s/it, ['local weather conditions']]"
     ]
    },
    {
     "name": "stderr",
     "output_type": "stream",
     "text": [
      "\r",
      "Loss: 0.108:  13%|█▏       | 105/814 [02:38<22:58,  1.94s/it, ['local weather conditions']]"
     ]
    },
    {
     "name": "stderr",
     "output_type": "stream",
     "text": [
      "\r",
      "Loss: 0.104:  13%|█▏       | 105/814 [02:39<22:58,  1.94s/it, ['local weather conditions']]"
     ]
    },
    {
     "name": "stderr",
     "output_type": "stream",
     "text": [
      "\r",
      "Loss: 0.104:  13%|█▏       | 105/814 [02:39<22:58,  1.94s/it, ['local weather conditions']]"
     ]
    },
    {
     "name": "stderr",
     "output_type": "stream",
     "text": [
      "\r",
      "Loss: 0.104:  13%|█▏       | 106/814 [02:39<22:51,  1.94s/it, ['local weather conditions']]"
     ]
    },
    {
     "name": "stderr",
     "output_type": "stream",
     "text": [
      "\r",
      "Loss: 0.097:  13%|█▏       | 106/814 [02:41<22:51,  1.94s/it, ['local weather conditions']]"
     ]
    },
    {
     "name": "stderr",
     "output_type": "stream",
     "text": [
      "\r",
      "Loss: 0.097:  13%|█▏       | 106/814 [02:41<22:51,  1.94s/it, ['local weather conditions']]"
     ]
    },
    {
     "name": "stderr",
     "output_type": "stream",
     "text": [
      "\r",
      "Loss: 0.097:  13%|█▏       | 107/814 [02:41<20:19,  1.72s/it, ['local weather conditions']]"
     ]
    },
    {
     "name": "stderr",
     "output_type": "stream",
     "text": [
      "\r",
      "Loss: 0.103:  13%|█▏       | 107/814 [02:43<20:19,  1.72s/it, ['local weather conditions']]"
     ]
    },
    {
     "name": "stderr",
     "output_type": "stream",
     "text": [
      "\r",
      "Loss: 0.103:  13%|█▏       | 107/814 [02:43<20:19,  1.72s/it, ['local weather conditions']]"
     ]
    },
    {
     "name": "stderr",
     "output_type": "stream",
     "text": [
      "\r",
      "Loss: 0.103:  13%|█▏       | 108/814 [02:43<20:58,  1.78s/it, ['local weather conditions']]"
     ]
    },
    {
     "name": "stderr",
     "output_type": "stream",
     "text": [
      "\r",
      "Loss: 0.099:  13%|█▏       | 108/814 [02:44<20:58,  1.78s/it, ['local weather conditions']]"
     ]
    },
    {
     "name": "stderr",
     "output_type": "stream",
     "text": [
      "\r",
      "Loss: 0.099:  13%|█▏       | 108/814 [02:44<20:58,  1.78s/it, ['local weather conditions']]"
     ]
    },
    {
     "name": "stderr",
     "output_type": "stream",
     "text": [
      "\r",
      "Loss: 0.099:  13%|█▏       | 109/814 [02:44<20:22,  1.73s/it, ['local weather conditions']]"
     ]
    },
    {
     "name": "stderr",
     "output_type": "stream",
     "text": [
      "\r",
      "Loss: 0.096:  13%|█▏       | 109/814 [02:46<20:22,  1.73s/it, ['local weather conditions']]"
     ]
    },
    {
     "name": "stderr",
     "output_type": "stream",
     "text": [
      "\r",
      "Loss: 0.096:  13%|█▏       | 109/814 [02:46<20:22,  1.73s/it, ['local weather conditions']]"
     ]
    },
    {
     "name": "stderr",
     "output_type": "stream",
     "text": [
      "\r",
      "Loss: 0.096:  14%|█▏       | 110/814 [02:46<20:42,  1.77s/it, ['local weather conditions']]"
     ]
    },
    {
     "name": "stderr",
     "output_type": "stream",
     "text": [
      "\r",
      "Loss: 0.099:  14%|█▏       | 110/814 [02:48<20:42,  1.77s/it, ['local weather conditions']]"
     ]
    },
    {
     "name": "stderr",
     "output_type": "stream",
     "text": [
      "\r",
      "Loss: 0.099:  14%|█▏       | 110/814 [02:48<20:42,  1.77s/it, ['local weather conditions']]"
     ]
    },
    {
     "name": "stderr",
     "output_type": "stream",
     "text": [
      "\r",
      "Loss: 0.099:  14%|█▏       | 111/814 [02:48<21:12,  1.81s/it, ['local weather conditions']]"
     ]
    },
    {
     "name": "stderr",
     "output_type": "stream",
     "text": [
      "\r",
      "Loss: 0.092:  14%|█▏       | 111/814 [02:50<21:12,  1.81s/it, ['local weather conditions']]"
     ]
    },
    {
     "name": "stderr",
     "output_type": "stream",
     "text": [
      "\r",
      "Loss: 0.092:  14%|█▏       | 111/814 [02:50<21:12,  1.81s/it, ['local weather conditions']]"
     ]
    },
    {
     "name": "stderr",
     "output_type": "stream",
     "text": [
      "\r",
      "Loss: 0.092:  14%|█▏       | 112/814 [02:50<21:32,  1.84s/it, ['local weather conditions']]"
     ]
    },
    {
     "name": "stderr",
     "output_type": "stream",
     "text": [
      "\r",
      "Loss: 0.086:  14%|█▏       | 112/814 [02:52<21:32,  1.84s/it, ['local weather conditions']]"
     ]
    },
    {
     "name": "stderr",
     "output_type": "stream",
     "text": [
      "\r",
      "Loss: 0.086:  14%|█▏       | 112/814 [02:52<21:32,  1.84s/it, ['local weather conditions']]"
     ]
    },
    {
     "name": "stderr",
     "output_type": "stream",
     "text": [
      "\r",
      "Loss: 0.086:  14%|█▏       | 113/814 [02:52<21:24,  1.83s/it, ['local weather conditions']]"
     ]
    },
    {
     "name": "stderr",
     "output_type": "stream",
     "text": [
      "\r",
      "Loss: 0.084:  14%|█▏       | 113/814 [02:54<21:24,  1.83s/it, ['local weather conditions']]"
     ]
    },
    {
     "name": "stderr",
     "output_type": "stream",
     "text": [
      "\r",
      "Loss: 0.084:  14%|█▏       | 113/814 [02:54<21:24,  1.83s/it, ['local weather conditions']]"
     ]
    },
    {
     "name": "stderr",
     "output_type": "stream",
     "text": [
      "\r",
      "Loss: 0.084:  14%|█▎       | 114/814 [02:54<21:40,  1.86s/it, ['local weather conditions']]"
     ]
    },
    {
     "name": "stderr",
     "output_type": "stream",
     "text": [
      "\r",
      "Loss: 0.079:  14%|█▎       | 114/814 [02:55<21:40,  1.86s/it, ['local weather conditions']]"
     ]
    },
    {
     "name": "stderr",
     "output_type": "stream",
     "text": [
      "\r",
      "Loss: 0.079:  14%|█▎       | 114/814 [02:55<21:40,  1.86s/it, ['local weather conditions']]"
     ]
    },
    {
     "name": "stderr",
     "output_type": "stream",
     "text": [
      "\r",
      "Loss: 0.079:  14%|█▎       | 115/814 [02:55<21:47,  1.87s/it, ['local weather conditions']]"
     ]
    },
    {
     "name": "stderr",
     "output_type": "stream",
     "text": [
      "\r",
      "Loss: 0.083:  14%|█▎       | 115/814 [02:57<21:47,  1.87s/it, ['local weather conditions']]"
     ]
    },
    {
     "name": "stderr",
     "output_type": "stream",
     "text": [
      "\r",
      "Loss: 0.083:  14%|█▎       | 115/814 [02:57<21:47,  1.87s/it, ['local weather conditions']]"
     ]
    },
    {
     "name": "stderr",
     "output_type": "stream",
     "text": [
      "\r",
      "Loss: 0.083:  14%|█▎       | 116/814 [02:57<21:11,  1.82s/it, ['local weather conditions']]"
     ]
    },
    {
     "name": "stderr",
     "output_type": "stream",
     "text": [
      "\r",
      "Loss: 0.081:  14%|█▎       | 116/814 [02:59<21:11,  1.82s/it, ['local weather conditions']]"
     ]
    },
    {
     "name": "stderr",
     "output_type": "stream",
     "text": [
      "\r",
      "Loss: 0.081:  14%|█▎       | 116/814 [02:59<21:11,  1.82s/it, ['local weather conditions']]"
     ]
    },
    {
     "name": "stderr",
     "output_type": "stream",
     "text": [
      "\r",
      "Loss: 0.081:  14%|█▎       | 117/814 [02:59<21:26,  1.85s/it, ['local weather conditions']]"
     ]
    },
    {
     "name": "stderr",
     "output_type": "stream",
     "text": [
      "\r",
      "Loss: 0.090:  14%|█▎       | 117/814 [03:00<21:26,  1.85s/it, ['local weather conditions']]"
     ]
    },
    {
     "name": "stderr",
     "output_type": "stream",
     "text": [
      "\r",
      "Loss: 0.090:  14%|█▎       | 117/814 [03:00<21:26,  1.85s/it, ['local weather conditions']]"
     ]
    },
    {
     "name": "stderr",
     "output_type": "stream",
     "text": [
      "\r",
      "Loss: 0.090:  14%|█▎       | 118/814 [03:00<19:23,  1.67s/it, ['local weather conditions']]"
     ]
    },
    {
     "name": "stderr",
     "output_type": "stream",
     "text": [
      "\r",
      "Loss: 0.086:  14%|█▎       | 118/814 [03:02<19:23,  1.67s/it, ['local weather conditions']]"
     ]
    },
    {
     "name": "stderr",
     "output_type": "stream",
     "text": [
      "\r",
      "Loss: 0.086:  14%|█▎       | 118/814 [03:02<19:23,  1.67s/it, ['local weather conditions']]"
     ]
    },
    {
     "name": "stderr",
     "output_type": "stream",
     "text": [
      "\r",
      "Loss: 0.086:  15%|█▎       | 119/814 [03:02<19:48,  1.71s/it, ['local weather conditions']]"
     ]
    },
    {
     "name": "stderr",
     "output_type": "stream",
     "text": [
      "\r",
      "Loss: 0.078:  15%|█▎       | 119/814 [03:04<19:48,  1.71s/it, ['local weather conditions']]"
     ]
    },
    {
     "name": "stderr",
     "output_type": "stream",
     "text": [
      "\r",
      "Loss: 0.078:  15%|█▎       | 119/814 [03:04<19:48,  1.71s/it, ['local weather conditions']]"
     ]
    },
    {
     "name": "stderr",
     "output_type": "stream",
     "text": [
      "\r",
      "Loss: 0.078:  15%|█▎       | 120/814 [03:04<18:44,  1.62s/it, ['local weather conditions']]"
     ]
    },
    {
     "name": "stderr",
     "output_type": "stream",
     "text": [
      "\r",
      "Loss: 0.073:  15%|█▎       | 120/814 [03:05<18:44,  1.62s/it, ['local weather conditions']]"
     ]
    },
    {
     "name": "stderr",
     "output_type": "stream",
     "text": [
      "\r",
      "Loss: 0.073:  15%|█▎       | 120/814 [03:05<18:44,  1.62s/it, ['local weather conditions']]"
     ]
    },
    {
     "name": "stderr",
     "output_type": "stream",
     "text": [
      "\r",
      "Loss: 0.073:  15%|█▎       | 121/814 [03:05<19:33,  1.69s/it, ['local weather conditions']]"
     ]
    },
    {
     "name": "stderr",
     "output_type": "stream",
     "text": [
      "\r",
      "Loss: 0.070:  15%|█▎       | 121/814 [03:07<19:33,  1.69s/it, ['local weather conditions']]"
     ]
    },
    {
     "name": "stderr",
     "output_type": "stream",
     "text": [
      "\r",
      "Loss: 0.070:  15%|█▎       | 121/814 [03:07<19:33,  1.69s/it, ['local weather conditions']]"
     ]
    },
    {
     "name": "stderr",
     "output_type": "stream",
     "text": [
      "\r",
      "Loss: 0.070:  15%|█▎       | 122/814 [03:07<17:50,  1.55s/it, ['local weather conditions']]"
     ]
    },
    {
     "name": "stderr",
     "output_type": "stream",
     "text": [
      "\r",
      "Loss: 0.068:  15%|█▎       | 122/814 [03:08<17:50,  1.55s/it, ['local weather conditions']]"
     ]
    },
    {
     "name": "stderr",
     "output_type": "stream",
     "text": [
      "\r",
      "Loss: 0.068:  15%|█▎       | 122/814 [03:08<17:50,  1.55s/it, ['local weather conditions']]"
     ]
    },
    {
     "name": "stderr",
     "output_type": "stream",
     "text": [
      "\r",
      "Loss: 0.068:  15%|█▎       | 123/814 [03:08<18:49,  1.63s/it, ['local weather conditions']]"
     ]
    },
    {
     "name": "stderr",
     "output_type": "stream",
     "text": [
      "\r",
      "Loss: 0.075:  15%|█▎       | 123/814 [03:10<18:49,  1.63s/it, ['local weather conditions']]"
     ]
    },
    {
     "name": "stderr",
     "output_type": "stream",
     "text": [
      "\r",
      "Loss: 0.075:  15%|█▎       | 123/814 [03:10<18:49,  1.63s/it, ['local weather conditions']]"
     ]
    },
    {
     "name": "stderr",
     "output_type": "stream",
     "text": [
      "\r",
      "Loss: 0.075:  15%|█▎       | 124/814 [03:10<17:18,  1.51s/it, ['local weather conditions']]"
     ]
    },
    {
     "name": "stderr",
     "output_type": "stream",
     "text": [
      "\r",
      "Loss: 0.069:  15%|█▎       | 124/814 [03:12<17:18,  1.51s/it, ['local weather conditions']]"
     ]
    },
    {
     "name": "stderr",
     "output_type": "stream",
     "text": [
      "\r",
      "Loss: 0.069:  15%|█▎       | 124/814 [03:12<17:18,  1.51s/it, ['local weather conditions']]"
     ]
    },
    {
     "name": "stderr",
     "output_type": "stream",
     "text": [
      "\r",
      "Loss: 0.069:  15%|█▍       | 125/814 [03:12<18:32,  1.61s/it, ['local weather conditions']]"
     ]
    },
    {
     "name": "stderr",
     "output_type": "stream",
     "text": [
      "\r",
      "Loss: 0.084:  15%|█▍       | 125/814 [03:13<18:32,  1.61s/it, ['local weather conditions']]"
     ]
    },
    {
     "name": "stderr",
     "output_type": "stream",
     "text": [
      "\r",
      "Loss: 0.084:  15%|█▍       | 125/814 [03:13<18:32,  1.61s/it, ['local weather conditions']]"
     ]
    },
    {
     "name": "stderr",
     "output_type": "stream",
     "text": [
      "\r",
      "Loss: 0.084:  15%|█▍       | 126/814 [03:13<19:33,  1.71s/it, ['local weather conditions']]"
     ]
    },
    {
     "name": "stderr",
     "output_type": "stream",
     "text": [
      "\r",
      "Loss: 0.081:  15%|█▍       | 126/814 [03:15<19:33,  1.71s/it, ['local weather conditions']]"
     ]
    },
    {
     "name": "stderr",
     "output_type": "stream",
     "text": [
      "\r",
      "Loss: 0.081:  15%|█▍       | 126/814 [03:15<19:33,  1.71s/it, ['local weather conditions']]"
     ]
    },
    {
     "name": "stderr",
     "output_type": "stream",
     "text": [
      "\r",
      "Loss: 0.081:  16%|█▍       | 127/814 [03:15<18:56,  1.65s/it, ['local weather conditions']]"
     ]
    },
    {
     "name": "stderr",
     "output_type": "stream",
     "text": [
      "\r",
      "Loss: 0.079:  16%|█▍       | 127/814 [03:17<18:56,  1.65s/it, ['local weather conditions']]"
     ]
    },
    {
     "name": "stderr",
     "output_type": "stream",
     "text": [
      "\r",
      "Loss: 0.079:  16%|█▍       | 127/814 [03:17<18:56,  1.65s/it, ['local weather conditions']]"
     ]
    },
    {
     "name": "stderr",
     "output_type": "stream",
     "text": [
      "\r",
      "Loss: 0.079:  16%|█▍       | 128/814 [03:17<19:48,  1.73s/it, ['local weather conditions']]"
     ]
    },
    {
     "name": "stderr",
     "output_type": "stream",
     "text": [
      "\r",
      "Loss: 0.079:  16%|█▍       | 128/814 [03:18<19:48,  1.73s/it, ['local weather conditions']]"
     ]
    },
    {
     "name": "stderr",
     "output_type": "stream",
     "text": [
      "\r",
      "Loss: 0.079:  16%|█▍       | 128/814 [03:18<19:48,  1.73s/it, ['local weather conditions']]"
     ]
    },
    {
     "name": "stderr",
     "output_type": "stream",
     "text": [
      "\r",
      "Loss: 0.079:  16%|█▍       | 129/814 [03:18<18:46,  1.64s/it, ['local weather conditions']]"
     ]
    },
    {
     "name": "stderr",
     "output_type": "stream",
     "text": [
      "\r",
      "Loss: 0.074:  16%|█▍       | 129/814 [03:20<18:46,  1.64s/it, ['local weather conditions']]"
     ]
    },
    {
     "name": "stderr",
     "output_type": "stream",
     "text": [
      "\r",
      "Loss: 0.074:  16%|█▍       | 129/814 [03:20<18:46,  1.64s/it, ['local weather conditions']]"
     ]
    },
    {
     "name": "stderr",
     "output_type": "stream",
     "text": [
      "\r",
      "Loss: 0.074:  16%|█▍       | 130/814 [03:20<18:59,  1.67s/it, ['local weather conditions']]"
     ]
    },
    {
     "name": "stderr",
     "output_type": "stream",
     "text": [
      "\r",
      "Loss: 0.071:  16%|█▍       | 130/814 [03:22<18:59,  1.67s/it, ['local weather conditions']]"
     ]
    },
    {
     "name": "stderr",
     "output_type": "stream",
     "text": [
      "\r",
      "Loss: 0.071:  16%|█▍       | 130/814 [03:22<18:59,  1.67s/it, ['local weather conditions']]"
     ]
    },
    {
     "name": "stderr",
     "output_type": "stream",
     "text": [
      "\r",
      "Loss: 0.071:  16%|█▍       | 131/814 [03:22<19:08,  1.68s/it, ['local weather conditions']]"
     ]
    },
    {
     "name": "stderr",
     "output_type": "stream",
     "text": [
      "\r",
      "Loss: 0.065:  16%|█▍       | 131/814 [03:24<19:08,  1.68s/it, ['local weather conditions']]"
     ]
    },
    {
     "name": "stderr",
     "output_type": "stream",
     "text": [
      "\r",
      "Loss: 0.065:  16%|█▍       | 131/814 [03:24<19:08,  1.68s/it, ['local weather conditions']]"
     ]
    },
    {
     "name": "stderr",
     "output_type": "stream",
     "text": [
      "\r",
      "Loss: 0.065:  16%|█▍       | 132/814 [03:24<19:42,  1.73s/it, ['local weather conditions']]"
     ]
    },
    {
     "name": "stderr",
     "output_type": "stream",
     "text": [
      "\r",
      "Loss: 0.059:  16%|█▍       | 132/814 [03:25<19:42,  1.73s/it, ['local weather conditions']]"
     ]
    },
    {
     "name": "stderr",
     "output_type": "stream",
     "text": [
      "\r",
      "Loss: 0.059:  16%|█▍       | 132/814 [03:25<19:42,  1.73s/it, ['local weather conditions']]"
     ]
    },
    {
     "name": "stderr",
     "output_type": "stream",
     "text": [
      "\r",
      "Loss: 0.059:  16%|█▍       | 133/814 [03:25<17:52,  1.57s/it, ['local weather conditions']]"
     ]
    },
    {
     "name": "stderr",
     "output_type": "stream",
     "text": [
      "\r",
      "Loss: 0.062:  16%|█▍       | 133/814 [03:27<17:52,  1.57s/it, ['local weather conditions']]"
     ]
    },
    {
     "name": "stderr",
     "output_type": "stream",
     "text": [
      "\r",
      "Loss: 0.062:  16%|█▍       | 133/814 [03:27<17:52,  1.57s/it, ['local weather conditions']]"
     ]
    },
    {
     "name": "stderr",
     "output_type": "stream",
     "text": [
      "\r",
      "Loss: 0.062:  16%|█▍       | 134/814 [03:27<18:47,  1.66s/it, ['local weather conditions']]"
     ]
    },
    {
     "name": "stderr",
     "output_type": "stream",
     "text": [
      "\r",
      "Loss: 0.057:  16%|█▍       | 134/814 [03:28<18:47,  1.66s/it, ['local weather conditions']]"
     ]
    },
    {
     "name": "stderr",
     "output_type": "stream",
     "text": [
      "\r",
      "Loss: 0.057:  16%|█▍       | 134/814 [03:28<18:47,  1.66s/it, ['local weather conditions']]"
     ]
    },
    {
     "name": "stderr",
     "output_type": "stream",
     "text": [
      "\r",
      "Loss: 0.057:  17%|█▍       | 135/814 [03:28<17:22,  1.54s/it, ['local weather conditions']]"
     ]
    },
    {
     "name": "stderr",
     "output_type": "stream",
     "text": [
      "\r",
      "Loss: 0.053:  17%|█▍       | 135/814 [03:30<17:22,  1.54s/it, ['local weather conditions']]"
     ]
    },
    {
     "name": "stderr",
     "output_type": "stream",
     "text": [
      "\r",
      "Loss: 0.053:  17%|█▍       | 135/814 [03:30<17:22,  1.54s/it, ['local weather conditions']]"
     ]
    },
    {
     "name": "stderr",
     "output_type": "stream",
     "text": [
      "\r",
      "Loss: 0.053:  17%|█▌       | 136/814 [03:30<18:41,  1.65s/it, ['local weather conditions']]"
     ]
    },
    {
     "name": "stderr",
     "output_type": "stream",
     "text": [
      "\r",
      "Loss: 0.064:  17%|█▌       | 136/814 [03:32<18:41,  1.65s/it, ['local weather conditions']]"
     ]
    },
    {
     "name": "stderr",
     "output_type": "stream",
     "text": [
      "\r",
      "Loss: 0.064:  17%|█▌       | 136/814 [03:32<18:41,  1.65s/it, ['local weather conditions']]"
     ]
    },
    {
     "name": "stderr",
     "output_type": "stream",
     "text": [
      "\r",
      "Loss: 0.064:  17%|█▌       | 137/814 [03:32<19:45,  1.75s/it, ['local weather conditions']]"
     ]
    },
    {
     "name": "stderr",
     "output_type": "stream",
     "text": [
      "\r",
      "Loss: 0.064:  17%|█▌       | 137/814 [03:34<19:45,  1.75s/it, ['local weather conditions']]"
     ]
    },
    {
     "name": "stderr",
     "output_type": "stream",
     "text": [
      "\r",
      "Loss: 0.064:  17%|█▌       | 137/814 [03:34<19:45,  1.75s/it, ['local weather conditions']]"
     ]
    },
    {
     "name": "stderr",
     "output_type": "stream",
     "text": [
      "\r",
      "Loss: 0.064:  17%|█▌       | 138/814 [03:34<20:26,  1.81s/it, ['local weather conditions']]"
     ]
    },
    {
     "name": "stderr",
     "output_type": "stream",
     "text": [
      "\r",
      "Loss: 0.065:  17%|█▌       | 138/814 [03:36<20:26,  1.81s/it, ['local weather conditions']]"
     ]
    },
    {
     "name": "stderr",
     "output_type": "stream",
     "text": [
      "\r",
      "Loss: 0.065:  17%|█▌       | 138/814 [03:36<20:26,  1.81s/it, ['local weather conditions']]"
     ]
    },
    {
     "name": "stderr",
     "output_type": "stream",
     "text": [
      "\r",
      "Loss: 0.065:  17%|█▌       | 139/814 [03:36<20:47,  1.85s/it, ['local weather conditions']]"
     ]
    },
    {
     "name": "stderr",
     "output_type": "stream",
     "text": [
      "\r",
      "Loss: 0.069:  17%|█▌       | 139/814 [03:38<20:47,  1.85s/it, ['local weather conditions']]"
     ]
    },
    {
     "name": "stderr",
     "output_type": "stream",
     "text": [
      "\r",
      "Loss: 0.069:  17%|█▌       | 139/814 [03:38<20:47,  1.85s/it, ['local weather conditions']]"
     ]
    },
    {
     "name": "stderr",
     "output_type": "stream",
     "text": [
      "\r",
      "Loss: 0.069:  17%|█▌       | 140/814 [03:38<21:03,  1.87s/it, ['local weather conditions']]"
     ]
    },
    {
     "name": "stderr",
     "output_type": "stream",
     "text": [
      "\r",
      "Loss: 0.082:  17%|█▌       | 140/814 [03:39<21:03,  1.87s/it, ['local weather conditions']]"
     ]
    },
    {
     "name": "stderr",
     "output_type": "stream",
     "text": [
      "\r",
      "Loss: 0.082:  17%|█▌       | 140/814 [03:39<21:03,  1.87s/it, ['local weather conditions']]"
     ]
    },
    {
     "name": "stderr",
     "output_type": "stream",
     "text": [
      "\r",
      "Loss: 0.082:  17%|█▌       | 141/814 [03:39<19:03,  1.70s/it, ['local weather conditions']]"
     ]
    },
    {
     "name": "stderr",
     "output_type": "stream",
     "text": [
      "\r",
      "Loss: 0.094:  17%|█▌       | 141/814 [03:41<19:03,  1.70s/it, ['local weather conditions']]"
     ]
    },
    {
     "name": "stderr",
     "output_type": "stream",
     "text": [
      "\r",
      "Loss: 0.094:  17%|█▌       | 141/814 [03:41<19:03,  1.70s/it, ['local weather conditions']]"
     ]
    },
    {
     "name": "stderr",
     "output_type": "stream",
     "text": [
      "\r",
      "Loss: 0.094:  17%|█▌       | 142/814 [03:41<19:32,  1.74s/it, ['local weather conditions']]"
     ]
    },
    {
     "name": "stderr",
     "output_type": "stream",
     "text": [
      "\r",
      "Loss: 0.091:  17%|█▌       | 142/814 [03:42<19:32,  1.74s/it, ['local weather conditions']]"
     ]
    },
    {
     "name": "stderr",
     "output_type": "stream",
     "text": [
      "\r",
      "Loss: 0.091:  17%|█▌       | 142/814 [03:42<19:32,  1.74s/it, ['local weather conditions']]"
     ]
    },
    {
     "name": "stderr",
     "output_type": "stream",
     "text": [
      "\r",
      "Loss: 0.091:  18%|█▌       | 143/814 [03:42<17:24,  1.56s/it, ['local weather conditions']]"
     ]
    },
    {
     "name": "stderr",
     "output_type": "stream",
     "text": [
      "\r",
      "Loss: 0.085:  18%|█▌       | 143/814 [03:44<17:24,  1.56s/it, ['local weather conditions']]"
     ]
    },
    {
     "name": "stderr",
     "output_type": "stream",
     "text": [
      "\r",
      "Loss: 0.085:  18%|█▌       | 143/814 [03:44<17:24,  1.56s/it, ['local weather conditions']]"
     ]
    },
    {
     "name": "stderr",
     "output_type": "stream",
     "text": [
      "\r",
      "Loss: 0.085:  18%|█▌       | 144/814 [03:44<17:26,  1.56s/it, ['local weather conditions']]"
     ]
    },
    {
     "name": "stderr",
     "output_type": "stream",
     "text": [
      "\r",
      "Loss: 0.078:  18%|█▌       | 144/814 [03:45<17:26,  1.56s/it, ['local weather conditions']]"
     ]
    },
    {
     "name": "stderr",
     "output_type": "stream",
     "text": [
      "\r",
      "Loss: 0.078:  18%|█▌       | 144/814 [03:45<17:26,  1.56s/it, ['local weather conditions']]"
     ]
    },
    {
     "name": "stderr",
     "output_type": "stream",
     "text": [
      "\r",
      "Loss: 0.078:  18%|█▌       | 145/814 [03:45<18:17,  1.64s/it, ['local weather conditions']]"
     ]
    },
    {
     "name": "stderr",
     "output_type": "stream",
     "text": [
      "\r",
      "Loss: 0.076:  18%|█▌       | 145/814 [03:47<18:17,  1.64s/it, ['local weather conditions']]"
     ]
    },
    {
     "name": "stderr",
     "output_type": "stream",
     "text": [
      "\r",
      "Loss: 0.076:  18%|█▌       | 145/814 [03:47<18:17,  1.64s/it, ['local weather conditions']]"
     ]
    },
    {
     "name": "stderr",
     "output_type": "stream",
     "text": [
      "\r",
      "Loss: 0.076:  18%|█▌       | 146/814 [03:47<18:27,  1.66s/it, ['local weather conditions']]"
     ]
    },
    {
     "name": "stderr",
     "output_type": "stream",
     "text": [
      "\r",
      "Loss: 0.076:  18%|█▌       | 146/814 [03:49<18:27,  1.66s/it, ['local weather conditions']]"
     ]
    },
    {
     "name": "stderr",
     "output_type": "stream",
     "text": [
      "\r",
      "Loss: 0.076:  18%|█▌       | 146/814 [03:49<18:27,  1.66s/it, ['local weather conditions']]"
     ]
    },
    {
     "name": "stderr",
     "output_type": "stream",
     "text": [
      "\r",
      "Loss: 0.076:  18%|█▋       | 147/814 [03:49<18:05,  1.63s/it, ['local weather conditions']]"
     ]
    },
    {
     "name": "stderr",
     "output_type": "stream",
     "text": [
      "\r",
      "Loss: 0.070:  18%|█▋       | 147/814 [03:50<18:05,  1.63s/it, ['local weather conditions']]"
     ]
    },
    {
     "name": "stderr",
     "output_type": "stream",
     "text": [
      "\r",
      "Loss: 0.070:  18%|█▋       | 147/814 [03:50<18:05,  1.63s/it, ['local weather conditions']]"
     ]
    },
    {
     "name": "stderr",
     "output_type": "stream",
     "text": [
      "\r",
      "Loss: 0.070:  18%|█▋       | 148/814 [03:50<18:02,  1.62s/it, ['local weather conditions']]"
     ]
    },
    {
     "name": "stderr",
     "output_type": "stream",
     "text": [
      "\r",
      "Loss: 0.065:  18%|█▋       | 148/814 [03:52<18:02,  1.62s/it, ['local weather conditions']]"
     ]
    },
    {
     "name": "stderr",
     "output_type": "stream",
     "text": [
      "\r",
      "Loss: 0.065:  18%|█▋       | 148/814 [03:52<18:02,  1.62s/it, ['local weather conditions']]"
     ]
    },
    {
     "name": "stderr",
     "output_type": "stream",
     "text": [
      "\r",
      "Loss: 0.065:  18%|█▋       | 149/814 [03:52<17:52,  1.61s/it, ['local weather conditions']]"
     ]
    },
    {
     "name": "stderr",
     "output_type": "stream",
     "text": [
      "\r",
      "Loss: 0.061:  18%|█▋       | 149/814 [03:53<17:52,  1.61s/it, ['local weather conditions']]"
     ]
    },
    {
     "name": "stderr",
     "output_type": "stream",
     "text": [
      "\r",
      "Loss: 0.061:  18%|█▋       | 149/814 [03:53<17:52,  1.61s/it, ['local weather conditions']]"
     ]
    },
    {
     "name": "stderr",
     "output_type": "stream",
     "text": [
      "\r",
      "Loss: 0.061:  18%|█▋       | 150/814 [03:53<16:59,  1.54s/it, ['local weather conditions']]"
     ]
    },
    {
     "name": "stderr",
     "output_type": "stream",
     "text": [
      "\r",
      "Loss: 0.063:  18%|█▋       | 150/814 [03:55<16:59,  1.54s/it, ['local weather conditions']]"
     ]
    },
    {
     "name": "stderr",
     "output_type": "stream",
     "text": [
      "\r",
      "Loss: 0.063:  18%|█▋       | 150/814 [03:55<16:59,  1.54s/it, ['local weather conditions']]"
     ]
    },
    {
     "name": "stderr",
     "output_type": "stream",
     "text": [
      "\r",
      "Loss: 0.063:  19%|█▋       | 151/814 [03:55<18:23,  1.66s/it, ['local weather conditions']]"
     ]
    },
    {
     "name": "stderr",
     "output_type": "stream",
     "text": [
      "\r",
      "Loss: 0.059:  19%|█▋       | 151/814 [03:57<18:23,  1.66s/it, ['local weather conditions']]"
     ]
    },
    {
     "name": "stderr",
     "output_type": "stream",
     "text": [
      "\r",
      "Loss: 0.059:  19%|█▋       | 151/814 [03:57<18:23,  1.66s/it, ['local weather conditions']]"
     ]
    },
    {
     "name": "stderr",
     "output_type": "stream",
     "text": [
      "\r",
      "Loss: 0.059:  19%|█▋       | 152/814 [03:57<19:12,  1.74s/it, ['local weather conditions']]"
     ]
    },
    {
     "name": "stderr",
     "output_type": "stream",
     "text": [
      "\r",
      "Loss: 0.054:  19%|█▋       | 152/814 [03:59<19:12,  1.74s/it, ['local weather conditions']]"
     ]
    },
    {
     "name": "stderr",
     "output_type": "stream",
     "text": [
      "\r",
      "Loss: 0.054:  19%|█▋       | 152/814 [03:59<19:12,  1.74s/it, ['local weather conditions']]"
     ]
    },
    {
     "name": "stderr",
     "output_type": "stream",
     "text": [
      "\r",
      "Loss: 0.054:  19%|█▋       | 153/814 [03:59<19:45,  1.79s/it, ['local weather conditions']]"
     ]
    },
    {
     "name": "stderr",
     "output_type": "stream",
     "text": [
      "\r",
      "Loss: 0.056:  19%|█▋       | 153/814 [04:00<19:45,  1.79s/it, ['local weather conditions']]"
     ]
    },
    {
     "name": "stderr",
     "output_type": "stream",
     "text": [
      "\r",
      "Loss: 0.056:  19%|█▋       | 153/814 [04:00<19:45,  1.79s/it, ['local weather conditions']]"
     ]
    },
    {
     "name": "stderr",
     "output_type": "stream",
     "text": [
      "\r",
      "Loss: 0.056:  19%|█▋       | 154/814 [04:00<18:06,  1.65s/it, ['local weather conditions']]"
     ]
    },
    {
     "name": "stderr",
     "output_type": "stream",
     "text": [
      "\r",
      "Loss: 0.051:  19%|█▋       | 154/814 [04:02<18:06,  1.65s/it, ['local weather conditions']]"
     ]
    },
    {
     "name": "stderr",
     "output_type": "stream",
     "text": [
      "\r",
      "Loss: 0.051:  19%|█▋       | 154/814 [04:02<18:06,  1.65s/it, ['local weather conditions']]"
     ]
    },
    {
     "name": "stderr",
     "output_type": "stream",
     "text": [
      "\r",
      "Loss: 0.051:  19%|█▋       | 155/814 [04:02<19:04,  1.74s/it, ['local weather conditions']]"
     ]
    },
    {
     "name": "stderr",
     "output_type": "stream",
     "text": [
      "\r",
      "Loss: 0.054:  19%|█▋       | 155/814 [04:04<19:04,  1.74s/it, ['local weather conditions']]"
     ]
    },
    {
     "name": "stderr",
     "output_type": "stream",
     "text": [
      "\r",
      "Loss: 0.054:  19%|█▋       | 155/814 [04:04<19:04,  1.74s/it, ['local weather conditions']]"
     ]
    },
    {
     "name": "stderr",
     "output_type": "stream",
     "text": [
      "\r",
      "Loss: 0.054:  19%|█▋       | 156/814 [04:04<19:41,  1.80s/it, ['local weather conditions']]"
     ]
    },
    {
     "name": "stderr",
     "output_type": "stream",
     "text": [
      "\r",
      "Loss: 0.058:  19%|█▋       | 156/814 [04:06<19:41,  1.80s/it, ['local weather conditions']]"
     ]
    },
    {
     "name": "stderr",
     "output_type": "stream",
     "text": [
      "\r",
      "Loss: 0.058:  19%|█▋       | 156/814 [04:06<19:41,  1.80s/it, ['local weather conditions']]"
     ]
    },
    {
     "name": "stderr",
     "output_type": "stream",
     "text": [
      "\r",
      "Loss: 0.058:  19%|█▋       | 157/814 [04:06<20:10,  1.84s/it, ['local weather conditions']]"
     ]
    },
    {
     "name": "stderr",
     "output_type": "stream",
     "text": [
      "\r",
      "Loss: 0.055:  19%|█▋       | 157/814 [04:08<20:10,  1.84s/it, ['local weather conditions']]"
     ]
    },
    {
     "name": "stderr",
     "output_type": "stream",
     "text": [
      "\r",
      "Loss: 0.055:  19%|█▋       | 157/814 [04:08<20:10,  1.84s/it, ['local weather conditions']]"
     ]
    },
    {
     "name": "stderr",
     "output_type": "stream",
     "text": [
      "\r",
      "Loss: 0.055:  19%|█▋       | 158/814 [04:08<20:06,  1.84s/it, ['local weather conditions']]"
     ]
    },
    {
     "name": "stderr",
     "output_type": "stream",
     "text": [
      "\r",
      "Loss: 0.050:  19%|█▋       | 158/814 [04:10<20:06,  1.84s/it, ['local weather conditions']]"
     ]
    },
    {
     "name": "stderr",
     "output_type": "stream",
     "text": [
      "\r",
      "Loss: 0.050:  19%|█▋       | 158/814 [04:10<20:06,  1.84s/it, ['local weather conditions']]"
     ]
    },
    {
     "name": "stderr",
     "output_type": "stream",
     "text": [
      "\r",
      "Loss: 0.050:  20%|█▊       | 159/814 [04:10<20:25,  1.87s/it, ['local weather conditions']]"
     ]
    },
    {
     "name": "stderr",
     "output_type": "stream",
     "text": [
      "\r",
      "Loss: 0.047:  20%|█▊       | 159/814 [04:12<20:25,  1.87s/it, ['local weather conditions']]"
     ]
    },
    {
     "name": "stderr",
     "output_type": "stream",
     "text": [
      "\r",
      "Loss: 0.047:  20%|█▊       | 159/814 [04:12<20:25,  1.87s/it, ['local weather conditions']]"
     ]
    },
    {
     "name": "stderr",
     "output_type": "stream",
     "text": [
      "\r",
      "Loss: 0.047:  20%|█▊       | 160/814 [04:12<20:33,  1.89s/it, ['local weather conditions']]"
     ]
    },
    {
     "name": "stderr",
     "output_type": "stream",
     "text": [
      "\r",
      "Loss: 0.042:  20%|█▊       | 160/814 [04:14<20:33,  1.89s/it, ['local weather conditions']]"
     ]
    },
    {
     "name": "stderr",
     "output_type": "stream",
     "text": [
      "\r",
      "Loss: 0.042:  20%|█▊       | 160/814 [04:14<20:33,  1.89s/it, ['local weather conditions']]"
     ]
    },
    {
     "name": "stderr",
     "output_type": "stream",
     "text": [
      "\r",
      "Loss: 0.042:  20%|█▊       | 161/814 [04:14<20:37,  1.89s/it, ['local weather conditions']]"
     ]
    },
    {
     "name": "stderr",
     "output_type": "stream",
     "text": [
      "\r",
      "Loss: 0.039:  20%|█▊       | 161/814 [04:15<20:37,  1.89s/it, ['local weather conditions']]"
     ]
    },
    {
     "name": "stderr",
     "output_type": "stream",
     "text": [
      "\r",
      "Loss: 0.039:  20%|█▊       | 161/814 [04:15<20:37,  1.89s/it, ['local weather conditions']]"
     ]
    },
    {
     "name": "stderr",
     "output_type": "stream",
     "text": [
      "\r",
      "Loss: 0.039:  20%|█▊       | 162/814 [04:15<20:08,  1.85s/it, ['local weather conditions']]"
     ]
    },
    {
     "name": "stderr",
     "output_type": "stream",
     "text": [
      "\r",
      "Loss: 0.036:  20%|█▊       | 162/814 [04:17<20:08,  1.85s/it, ['local weather conditions']]"
     ]
    },
    {
     "name": "stderr",
     "output_type": "stream",
     "text": [
      "\r",
      "Loss: 0.036:  20%|█▊       | 162/814 [04:17<20:08,  1.85s/it, ['local weather conditions']]"
     ]
    },
    {
     "name": "stderr",
     "output_type": "stream",
     "text": [
      "\r",
      "Loss: 0.036:  20%|█▊       | 163/814 [04:17<20:15,  1.87s/it, ['local weather conditions']]"
     ]
    },
    {
     "name": "stderr",
     "output_type": "stream",
     "text": [
      "\r",
      "Loss: 0.035:  20%|█▊       | 163/814 [04:19<20:15,  1.87s/it, ['local weather conditions']]"
     ]
    },
    {
     "name": "stderr",
     "output_type": "stream",
     "text": [
      "\r",
      "Loss: 0.035:  20%|█▊       | 163/814 [04:19<20:15,  1.87s/it, ['local weather conditions']]"
     ]
    },
    {
     "name": "stderr",
     "output_type": "stream",
     "text": [
      "\r",
      "Loss: 0.035:  20%|█▊       | 164/814 [04:19<20:21,  1.88s/it, ['local weather conditions']]"
     ]
    },
    {
     "name": "stderr",
     "output_type": "stream",
     "text": [
      "\r",
      "Loss: 0.039:  20%|█▊       | 164/814 [04:21<20:21,  1.88s/it, ['local weather conditions']]"
     ]
    },
    {
     "name": "stderr",
     "output_type": "stream",
     "text": [
      "\r",
      "Loss: 0.039:  20%|█▊       | 164/814 [04:21<20:21,  1.88s/it, ['local weather conditions']]"
     ]
    },
    {
     "name": "stderr",
     "output_type": "stream",
     "text": [
      "\r",
      "Loss: 0.039:  20%|█▊       | 165/814 [04:21<20:21,  1.88s/it, ['local weather conditions']]"
     ]
    },
    {
     "name": "stderr",
     "output_type": "stream",
     "text": [
      "\r",
      "Loss: 0.038:  20%|█▊       | 165/814 [04:23<20:21,  1.88s/it, ['local weather conditions']]"
     ]
    },
    {
     "name": "stderr",
     "output_type": "stream",
     "text": [
      "\r",
      "Loss: 0.038:  20%|█▊       | 165/814 [04:23<20:21,  1.88s/it, ['local weather conditions']]"
     ]
    },
    {
     "name": "stderr",
     "output_type": "stream",
     "text": [
      "\r",
      "Loss: 0.038:  20%|█▊       | 166/814 [04:23<20:15,  1.88s/it, ['local weather conditions']]"
     ]
    },
    {
     "name": "stderr",
     "output_type": "stream",
     "text": [
      "\r",
      "Loss: 0.050:  20%|█▊       | 166/814 [04:25<20:15,  1.88s/it, ['local weather conditions']]"
     ]
    },
    {
     "name": "stderr",
     "output_type": "stream",
     "text": [
      "\r",
      "Loss: 0.050:  20%|█▊       | 166/814 [04:25<20:15,  1.88s/it, ['local weather conditions']]"
     ]
    },
    {
     "name": "stderr",
     "output_type": "stream",
     "text": [
      "\r",
      "Loss: 0.050:  21%|█▊       | 167/814 [04:25<20:14,  1.88s/it, ['local weather conditions']]"
     ]
    },
    {
     "name": "stderr",
     "output_type": "stream",
     "text": [
      "\r",
      "Loss: 0.046:  21%|█▊       | 167/814 [04:27<20:14,  1.88s/it, ['local weather conditions']]"
     ]
    },
    {
     "name": "stderr",
     "output_type": "stream",
     "text": [
      "\r",
      "Loss: 0.046:  21%|█▊       | 167/814 [04:27<20:14,  1.88s/it, ['local weather conditions']]"
     ]
    },
    {
     "name": "stderr",
     "output_type": "stream",
     "text": [
      "\r",
      "Loss: 0.046:  21%|█▊       | 168/814 [04:27<20:22,  1.89s/it, ['local weather conditions']]"
     ]
    },
    {
     "name": "stderr",
     "output_type": "stream",
     "text": [
      "\r",
      "Loss: 0.045:  21%|█▊       | 168/814 [04:29<20:22,  1.89s/it, ['local weather conditions']]"
     ]
    },
    {
     "name": "stderr",
     "output_type": "stream",
     "text": [
      "\r",
      "Loss: 0.045:  21%|█▊       | 168/814 [04:29<20:22,  1.89s/it, ['local weather conditions']]"
     ]
    },
    {
     "name": "stderr",
     "output_type": "stream",
     "text": [
      "\r",
      "Loss: 0.045:  21%|█▊       | 169/814 [04:29<20:18,  1.89s/it, ['local weather conditions']]"
     ]
    },
    {
     "name": "stderr",
     "output_type": "stream",
     "text": [
      "\r",
      "Loss: 0.041:  21%|█▊       | 169/814 [04:31<20:18,  1.89s/it, ['local weather conditions']]"
     ]
    },
    {
     "name": "stderr",
     "output_type": "stream",
     "text": [
      "\r",
      "Loss: 0.041:  21%|█▊       | 169/814 [04:31<20:18,  1.89s/it, ['local weather conditions']]"
     ]
    },
    {
     "name": "stderr",
     "output_type": "stream",
     "text": [
      "\r",
      "Loss: 0.041:  21%|█▉       | 170/814 [04:31<20:24,  1.90s/it, ['local weather conditions']]"
     ]
    },
    {
     "name": "stderr",
     "output_type": "stream",
     "text": [
      "\r",
      "Loss: 0.037:  21%|█▉       | 170/814 [04:32<20:24,  1.90s/it, ['local weather conditions']]"
     ]
    },
    {
     "name": "stderr",
     "output_type": "stream",
     "text": [
      "\r",
      "Loss: 0.037:  21%|█▉       | 170/814 [04:32<20:24,  1.90s/it, ['local weather conditions']]"
     ]
    },
    {
     "name": "stderr",
     "output_type": "stream",
     "text": [
      "\r",
      "Loss: 0.037:  21%|█▉       | 171/814 [04:32<19:29,  1.82s/it, ['local weather conditions']]"
     ]
    },
    {
     "name": "stderr",
     "output_type": "stream",
     "text": [
      "\r",
      "Loss: 0.034:  21%|█▉       | 171/814 [04:33<19:29,  1.82s/it, ['local weather conditions']]"
     ]
    },
    {
     "name": "stderr",
     "output_type": "stream",
     "text": [
      "\r",
      "Loss: 0.034:  21%|█▉       | 171/814 [04:33<19:29,  1.82s/it, ['local weather conditions']]"
     ]
    },
    {
     "name": "stderr",
     "output_type": "stream",
     "text": [
      "\r",
      "Loss: 0.034:  21%|█▉       | 172/814 [04:33<17:20,  1.62s/it, ['local weather conditions']]"
     ]
    },
    {
     "name": "stderr",
     "output_type": "stream",
     "text": [
      "\r",
      "Loss: 0.055:  21%|█▉       | 172/814 [04:35<17:20,  1.62s/it, ['local weather conditions']]"
     ]
    },
    {
     "name": "stderr",
     "output_type": "stream",
     "text": [
      "\r",
      "Loss: 0.055:  21%|█▉       | 172/814 [04:35<17:20,  1.62s/it, ['local weather conditions']]"
     ]
    },
    {
     "name": "stderr",
     "output_type": "stream",
     "text": [
      "\r",
      "Loss: 0.055:  21%|█▉       | 173/814 [04:35<16:54,  1.58s/it, ['local weather conditions']]"
     ]
    },
    {
     "name": "stderr",
     "output_type": "stream",
     "text": [
      "\r",
      "Loss: 0.051:  21%|█▉       | 173/814 [04:36<16:54,  1.58s/it, ['local weather conditions']]"
     ]
    },
    {
     "name": "stderr",
     "output_type": "stream",
     "text": [
      "\r",
      "Loss: 0.051:  21%|█▉       | 173/814 [04:36<16:54,  1.58s/it, ['local weather conditions']]"
     ]
    },
    {
     "name": "stderr",
     "output_type": "stream",
     "text": [
      "\r",
      "Loss: 0.051:  21%|█▉       | 174/814 [04:36<15:28,  1.45s/it, ['local weather conditions']]"
     ]
    },
    {
     "name": "stderr",
     "output_type": "stream",
     "text": [
      "\r",
      "Loss: 0.047:  21%|█▉       | 174/814 [04:37<15:28,  1.45s/it, ['local weather conditions']]"
     ]
    },
    {
     "name": "stderr",
     "output_type": "stream",
     "text": [
      "\r",
      "Loss: 0.047:  21%|█▉       | 174/814 [04:37<15:28,  1.45s/it, ['local weather conditions']]"
     ]
    },
    {
     "name": "stderr",
     "output_type": "stream",
     "text": [
      "\r",
      "Loss: 0.047:  21%|█▉       | 175/814 [04:37<14:34,  1.37s/it, ['local weather conditions']]"
     ]
    },
    {
     "name": "stderr",
     "output_type": "stream",
     "text": [
      "\r",
      "Loss: 0.046:  21%|█▉       | 175/814 [04:38<14:34,  1.37s/it, ['local weather conditions']]"
     ]
    },
    {
     "name": "stderr",
     "output_type": "stream",
     "text": [
      "\r",
      "Loss: 0.046:  21%|█▉       | 175/814 [04:38<14:34,  1.37s/it, ['local weather conditions']]"
     ]
    },
    {
     "name": "stderr",
     "output_type": "stream",
     "text": [
      "\r",
      "Loss: 0.046:  22%|█▉       | 176/814 [04:38<14:04,  1.32s/it, ['local weather conditions']]"
     ]
    },
    {
     "name": "stderr",
     "output_type": "stream",
     "text": [
      "\r",
      "Loss: 0.042:  22%|█▉       | 176/814 [04:40<14:04,  1.32s/it, ['local weather conditions']]"
     ]
    },
    {
     "name": "stderr",
     "output_type": "stream",
     "text": [
      "\r",
      "Loss: 0.042:  22%|█▉       | 176/814 [04:40<14:04,  1.32s/it, ['local weather conditions']]"
     ]
    },
    {
     "name": "stderr",
     "output_type": "stream",
     "text": [
      "\r",
      "Loss: 0.042:  22%|█▉       | 177/814 [04:40<13:40,  1.29s/it, ['local weather conditions']]"
     ]
    },
    {
     "name": "stderr",
     "output_type": "stream",
     "text": [
      "\r",
      "Loss: 0.039:  22%|█▉       | 177/814 [04:41<13:40,  1.29s/it, ['local weather conditions']]"
     ]
    },
    {
     "name": "stderr",
     "output_type": "stream",
     "text": [
      "\r",
      "Loss: 0.039:  22%|█▉       | 177/814 [04:41<13:40,  1.29s/it, ['local weather conditions']]"
     ]
    },
    {
     "name": "stderr",
     "output_type": "stream",
     "text": [
      "\r",
      "Loss: 0.039:  22%|█▉       | 178/814 [04:41<13:09,  1.24s/it, ['local weather conditions']]"
     ]
    },
    {
     "name": "stderr",
     "output_type": "stream",
     "text": [
      "\r",
      "Loss: 0.041:  22%|█▉       | 178/814 [04:42<13:09,  1.24s/it, ['local weather conditions']]"
     ]
    },
    {
     "name": "stderr",
     "output_type": "stream",
     "text": [
      "\r",
      "Loss: 0.041:  22%|█▉       | 178/814 [04:42<13:09,  1.24s/it, ['local weather conditions']]"
     ]
    },
    {
     "name": "stderr",
     "output_type": "stream",
     "text": [
      "\r",
      "Loss: 0.041:  22%|█▉       | 179/814 [04:42<13:12,  1.25s/it, ['local weather conditions']]"
     ]
    },
    {
     "name": "stderr",
     "output_type": "stream",
     "text": [
      "\r",
      "Loss: 0.050:  22%|█▉       | 179/814 [04:43<13:12,  1.25s/it, ['local weather conditions']]"
     ]
    },
    {
     "name": "stderr",
     "output_type": "stream",
     "text": [
      "\r",
      "Loss: 0.050:  22%|█▉       | 179/814 [04:43<13:12,  1.25s/it, ['local weather conditions']]"
     ]
    },
    {
     "name": "stderr",
     "output_type": "stream",
     "text": [
      "\r",
      "Loss: 0.050:  22%|█▉       | 180/814 [04:43<13:05,  1.24s/it, ['local weather conditions']]"
     ]
    },
    {
     "name": "stderr",
     "output_type": "stream",
     "text": [
      "\r",
      "Loss: 0.046:  22%|█▉       | 180/814 [04:44<13:05,  1.24s/it, ['local weather conditions']]"
     ]
    },
    {
     "name": "stderr",
     "output_type": "stream",
     "text": [
      "\r",
      "Loss: 0.046:  22%|█▉       | 180/814 [04:44<13:05,  1.24s/it, ['local weather conditions']]"
     ]
    },
    {
     "name": "stderr",
     "output_type": "stream",
     "text": [
      "\r",
      "Loss: 0.046:  22%|██       | 181/814 [04:44<12:57,  1.23s/it, ['local weather conditions']]"
     ]
    },
    {
     "name": "stderr",
     "output_type": "stream",
     "text": [
      "\r",
      "Loss: 0.042:  22%|██       | 181/814 [04:46<12:57,  1.23s/it, ['local weather conditions']]"
     ]
    },
    {
     "name": "stderr",
     "output_type": "stream",
     "text": [
      "\r",
      "Loss: 0.042:  22%|██       | 181/814 [04:46<12:57,  1.23s/it, ['local weather conditions']]"
     ]
    },
    {
     "name": "stderr",
     "output_type": "stream",
     "text": [
      "\r",
      "Loss: 0.042:  22%|██       | 182/814 [04:46<13:03,  1.24s/it, ['local weather conditions']]"
     ]
    },
    {
     "name": "stderr",
     "output_type": "stream",
     "text": [
      "\r",
      "Loss: 0.040:  22%|██       | 182/814 [04:47<13:03,  1.24s/it, ['local weather conditions']]"
     ]
    },
    {
     "name": "stderr",
     "output_type": "stream",
     "text": [
      "\r",
      "Loss: 0.040:  22%|██       | 182/814 [04:47<13:03,  1.24s/it, ['local weather conditions']]"
     ]
    },
    {
     "name": "stderr",
     "output_type": "stream",
     "text": [
      "\r",
      "Loss: 0.040:  22%|██       | 183/814 [04:47<12:44,  1.21s/it, ['local weather conditions']]"
     ]
    },
    {
     "name": "stderr",
     "output_type": "stream",
     "text": [
      "\r",
      "Loss: 0.037:  22%|██       | 183/814 [04:48<12:44,  1.21s/it, ['local weather conditions']]"
     ]
    },
    {
     "name": "stderr",
     "output_type": "stream",
     "text": [
      "\r",
      "Loss: 0.037:  22%|██       | 183/814 [04:48<12:44,  1.21s/it, ['local weather conditions']]"
     ]
    },
    {
     "name": "stderr",
     "output_type": "stream",
     "text": [
      "\r",
      "Loss: 0.037:  23%|██       | 184/814 [04:48<12:25,  1.18s/it, ['local weather conditions']]"
     ]
    },
    {
     "name": "stderr",
     "output_type": "stream",
     "text": [
      "\r",
      "Loss: 0.034:  23%|██       | 184/814 [04:49<12:25,  1.18s/it, ['local weather conditions']]"
     ]
    },
    {
     "name": "stderr",
     "output_type": "stream",
     "text": [
      "\r",
      "Loss: 0.034:  23%|██       | 184/814 [04:49<12:25,  1.18s/it, ['local weather conditions']]"
     ]
    },
    {
     "name": "stderr",
     "output_type": "stream",
     "text": [
      "\r",
      "Loss: 0.034:  23%|██       | 185/814 [04:49<12:22,  1.18s/it, ['local weather conditions']]"
     ]
    },
    {
     "name": "stderr",
     "output_type": "stream",
     "text": [
      "\r",
      "Loss: 0.031:  23%|██       | 185/814 [04:50<12:22,  1.18s/it, ['local weather conditions']]"
     ]
    },
    {
     "name": "stderr",
     "output_type": "stream",
     "text": [
      "\r",
      "Loss: 0.031:  23%|██       | 185/814 [04:50<12:22,  1.18s/it, ['local weather conditions']]"
     ]
    },
    {
     "name": "stderr",
     "output_type": "stream",
     "text": [
      "\r",
      "Loss: 0.031:  23%|██       | 186/814 [04:50<12:18,  1.18s/it, ['local weather conditions']]"
     ]
    },
    {
     "name": "stderr",
     "output_type": "stream",
     "text": [
      "\r",
      "Loss: 0.032:  23%|██       | 186/814 [04:52<12:18,  1.18s/it, ['local weather conditions']]"
     ]
    },
    {
     "name": "stderr",
     "output_type": "stream",
     "text": [
      "\r",
      "Loss: 0.032:  23%|██       | 186/814 [04:52<12:18,  1.18s/it, ['local weather conditions']]"
     ]
    },
    {
     "name": "stderr",
     "output_type": "stream",
     "text": [
      "\r",
      "Loss: 0.032:  23%|██       | 187/814 [04:52<12:24,  1.19s/it, ['local weather conditions']]"
     ]
    },
    {
     "name": "stderr",
     "output_type": "stream",
     "text": [
      "\r",
      "Loss: 0.029:  23%|██       | 187/814 [04:53<12:24,  1.19s/it, ['local weather conditions']]"
     ]
    },
    {
     "name": "stderr",
     "output_type": "stream",
     "text": [
      "\r",
      "Loss: 0.029:  23%|██       | 187/814 [04:53<12:24,  1.19s/it, ['local weather conditions']]"
     ]
    },
    {
     "name": "stderr",
     "output_type": "stream",
     "text": [
      "\r",
      "Loss: 0.029:  23%|██       | 188/814 [04:53<12:08,  1.16s/it, ['local weather conditions']]"
     ]
    },
    {
     "name": "stderr",
     "output_type": "stream",
     "text": [
      "\r",
      "Loss: 0.030:  23%|██       | 188/814 [04:54<12:08,  1.16s/it, ['local weather conditions']]"
     ]
    },
    {
     "name": "stderr",
     "output_type": "stream",
     "text": [
      "\r",
      "Loss: 0.030:  23%|██       | 188/814 [04:54<12:08,  1.16s/it, ['local weather conditions']]"
     ]
    },
    {
     "name": "stderr",
     "output_type": "stream",
     "text": [
      "\r",
      "Loss: 0.030:  23%|██       | 189/814 [04:54<12:05,  1.16s/it, ['local weather conditions']]"
     ]
    },
    {
     "name": "stderr",
     "output_type": "stream",
     "text": [
      "\r",
      "Loss: 0.028:  23%|██       | 189/814 [04:55<12:05,  1.16s/it, ['local weather conditions']]"
     ]
    },
    {
     "name": "stderr",
     "output_type": "stream",
     "text": [
      "\r",
      "Loss: 0.028:  23%|██       | 189/814 [04:55<12:05,  1.16s/it, ['local weather conditions']]"
     ]
    },
    {
     "name": "stderr",
     "output_type": "stream",
     "text": [
      "\r",
      "Loss: 0.028:  23%|██       | 190/814 [04:55<12:01,  1.16s/it, ['local weather conditions']]"
     ]
    },
    {
     "name": "stderr",
     "output_type": "stream",
     "text": [
      "\r",
      "Loss: 0.032:  23%|██       | 190/814 [04:56<12:01,  1.16s/it, ['local weather conditions']]"
     ]
    },
    {
     "name": "stderr",
     "output_type": "stream",
     "text": [
      "\r",
      "Loss: 0.032:  23%|██       | 190/814 [04:56<12:01,  1.16s/it, ['local weather conditions']]"
     ]
    },
    {
     "name": "stderr",
     "output_type": "stream",
     "text": [
      "\r",
      "Loss: 0.032:  23%|██       | 191/814 [04:56<11:44,  1.13s/it, ['local weather conditions']]"
     ]
    },
    {
     "name": "stderr",
     "output_type": "stream",
     "text": [
      "\r",
      "Loss: 0.030:  23%|██       | 191/814 [04:57<11:44,  1.13s/it, ['local weather conditions']]"
     ]
    },
    {
     "name": "stderr",
     "output_type": "stream",
     "text": [
      "\r",
      "Loss: 0.030:  23%|██       | 191/814 [04:57<11:44,  1.13s/it, ['local weather conditions']]"
     ]
    },
    {
     "name": "stderr",
     "output_type": "stream",
     "text": [
      "\r",
      "Loss: 0.030:  24%|██       | 192/814 [04:57<11:40,  1.13s/it, ['local weather conditions']]"
     ]
    },
    {
     "name": "stderr",
     "output_type": "stream",
     "text": [
      "\r",
      "Loss: 0.027:  24%|██       | 192/814 [04:58<11:40,  1.13s/it, ['local weather conditions']]"
     ]
    },
    {
     "name": "stderr",
     "output_type": "stream",
     "text": [
      "\r",
      "Loss: 0.027:  24%|██       | 192/814 [04:58<11:40,  1.13s/it, ['local weather conditions']]"
     ]
    },
    {
     "name": "stderr",
     "output_type": "stream",
     "text": [
      "\r",
      "Loss: 0.027:  24%|██▏      | 193/814 [04:58<11:38,  1.12s/it, ['local weather conditions']]"
     ]
    },
    {
     "name": "stderr",
     "output_type": "stream",
     "text": [
      "\r",
      "Loss: 0.027:  24%|██▏      | 193/814 [04:59<11:38,  1.12s/it, ['local weather conditions']]"
     ]
    },
    {
     "name": "stderr",
     "output_type": "stream",
     "text": [
      "\r",
      "Loss: 0.027:  24%|██▏      | 193/814 [04:59<11:38,  1.12s/it, ['local weather conditions']]"
     ]
    },
    {
     "name": "stderr",
     "output_type": "stream",
     "text": [
      "\r",
      "Loss: 0.027:  24%|██▏      | 194/814 [04:59<11:33,  1.12s/it, ['local weather conditions']]"
     ]
    },
    {
     "name": "stderr",
     "output_type": "stream",
     "text": [
      "\r",
      "Loss: 0.025:  24%|██▏      | 194/814 [05:01<11:33,  1.12s/it, ['local weather conditions']]"
     ]
    },
    {
     "name": "stderr",
     "output_type": "stream",
     "text": [
      "\r",
      "Loss: 0.025:  24%|██▏      | 194/814 [05:01<11:33,  1.12s/it, ['local weather conditions']]"
     ]
    },
    {
     "name": "stderr",
     "output_type": "stream",
     "text": [
      "\r",
      "Loss: 0.025:  24%|██▏      | 195/814 [05:01<11:44,  1.14s/it, ['local weather conditions']]"
     ]
    },
    {
     "name": "stderr",
     "output_type": "stream",
     "text": [
      "\r",
      "Loss: 0.023:  24%|██▏      | 195/814 [05:02<11:44,  1.14s/it, ['local weather conditions']]"
     ]
    },
    {
     "name": "stderr",
     "output_type": "stream",
     "text": [
      "\r",
      "Loss: 0.023:  24%|██▏      | 195/814 [05:02<11:44,  1.14s/it, ['local weather conditions']]"
     ]
    },
    {
     "name": "stderr",
     "output_type": "stream",
     "text": [
      "\r",
      "Loss: 0.023:  24%|██▏      | 196/814 [05:02<11:42,  1.14s/it, ['local weather conditions']]"
     ]
    },
    {
     "name": "stderr",
     "output_type": "stream",
     "text": [
      "\r",
      "Loss: 0.021:  24%|██▏      | 196/814 [05:03<11:42,  1.14s/it, ['local weather conditions']]"
     ]
    },
    {
     "name": "stderr",
     "output_type": "stream",
     "text": [
      "\r",
      "Loss: 0.021:  24%|██▏      | 196/814 [05:03<11:42,  1.14s/it, ['local weather conditions']]"
     ]
    },
    {
     "name": "stderr",
     "output_type": "stream",
     "text": [
      "\r",
      "Loss: 0.021:  24%|██▏      | 197/814 [05:03<11:33,  1.12s/it, ['local weather conditions']]"
     ]
    },
    {
     "name": "stderr",
     "output_type": "stream",
     "text": [
      "\r",
      "Loss: 0.058:  24%|██▏      | 197/814 [05:04<11:33,  1.12s/it, ['local weather conditions']]"
     ]
    },
    {
     "name": "stderr",
     "output_type": "stream",
     "text": [
      "\r",
      "Loss: 0.058:  24%|██▏      | 197/814 [05:04<11:33,  1.12s/it, ['local weather conditions']]"
     ]
    },
    {
     "name": "stderr",
     "output_type": "stream",
     "text": [
      "\r",
      "Loss: 0.058:  24%|██▏      | 198/814 [05:04<11:13,  1.09s/it, ['local weather conditions']]"
     ]
    },
    {
     "name": "stderr",
     "output_type": "stream",
     "text": [
      "\r",
      "Loss: 0.054:  24%|██▏      | 198/814 [05:05<11:13,  1.09s/it, ['local weather conditions']]"
     ]
    },
    {
     "name": "stderr",
     "output_type": "stream",
     "text": [
      "\r",
      "Loss: 0.054:  24%|██▏      | 198/814 [05:05<11:13,  1.09s/it, ['local weather conditions']]"
     ]
    },
    {
     "name": "stderr",
     "output_type": "stream",
     "text": [
      "\r",
      "Loss: 0.054:  24%|██▏      | 199/814 [05:05<11:35,  1.13s/it, ['local weather conditions']]"
     ]
    },
    {
     "name": "stderr",
     "output_type": "stream",
     "text": [
      "\r",
      "Loss: 0.049:  24%|██▏      | 199/814 [05:07<11:35,  1.13s/it, ['local weather conditions']]"
     ]
    },
    {
     "name": "stderr",
     "output_type": "stream",
     "text": [
      "\r",
      "Loss: 0.049:  24%|██▏      | 199/814 [05:07<11:35,  1.13s/it, ['local weather conditions']]"
     ]
    },
    {
     "name": "stderr",
     "output_type": "stream",
     "text": [
      "\r",
      "Loss: 0.049:  25%|██▏      | 200/814 [05:07<12:46,  1.25s/it, ['local weather conditions']]"
     ]
    },
    {
     "name": "stderr",
     "output_type": "stream",
     "text": [
      "\r",
      "Loss: 0.045:  25%|██▏      | 200/814 [05:08<12:46,  1.25s/it, ['local weather conditions']]"
     ]
    },
    {
     "name": "stderr",
     "output_type": "stream",
     "text": [
      "\r",
      "Loss: 0.045:  25%|██▏      | 200/814 [05:08<12:46,  1.25s/it, ['local weather conditions']]"
     ]
    },
    {
     "name": "stderr",
     "output_type": "stream",
     "text": [
      "\r",
      "Loss: 0.045:  25%|██▏      | 201/814 [05:08<12:07,  1.19s/it, ['local weather conditions']]"
     ]
    },
    {
     "name": "stderr",
     "output_type": "stream",
     "text": [
      "\r",
      "Loss: 0.043:  25%|██▏      | 201/814 [05:09<12:07,  1.19s/it, ['local weather conditions']]"
     ]
    },
    {
     "name": "stderr",
     "output_type": "stream",
     "text": [
      "\r",
      "Loss: 0.043:  25%|██▏      | 201/814 [05:09<12:07,  1.19s/it, ['local weather conditions']]"
     ]
    },
    {
     "name": "stderr",
     "output_type": "stream",
     "text": [
      "\r",
      "Loss: 0.043:  25%|██▏      | 202/814 [05:09<11:43,  1.15s/it, ['local weather conditions']]"
     ]
    },
    {
     "name": "stderr",
     "output_type": "stream",
     "text": [
      "\r",
      "Loss: 0.058:  25%|██▏      | 202/814 [05:10<11:43,  1.15s/it, ['local weather conditions']]"
     ]
    },
    {
     "name": "stderr",
     "output_type": "stream",
     "text": [
      "\r",
      "Loss: 0.058:  25%|██▏      | 202/814 [05:10<11:43,  1.15s/it, ['local weather conditions']]"
     ]
    },
    {
     "name": "stderr",
     "output_type": "stream",
     "text": [
      "\r",
      "Loss: 0.058:  25%|██▏      | 203/814 [05:10<11:33,  1.14s/it, ['local weather conditions']]"
     ]
    },
    {
     "name": "stderr",
     "output_type": "stream",
     "text": [
      "\r",
      "Loss: 0.053:  25%|██▏      | 203/814 [05:11<11:33,  1.14s/it, ['local weather conditions']]"
     ]
    },
    {
     "name": "stderr",
     "output_type": "stream",
     "text": [
      "\r",
      "Loss: 0.053:  25%|██▏      | 203/814 [05:11<11:33,  1.14s/it, ['local weather conditions']]"
     ]
    },
    {
     "name": "stderr",
     "output_type": "stream",
     "text": [
      "\r",
      "Loss: 0.053:  25%|██▎      | 204/814 [05:11<11:20,  1.12s/it, ['local weather conditions']]"
     ]
    },
    {
     "name": "stderr",
     "output_type": "stream",
     "text": [
      "\r",
      "Loss: 0.051:  25%|██▎      | 204/814 [05:12<11:20,  1.12s/it, ['local weather conditions']]"
     ]
    },
    {
     "name": "stderr",
     "output_type": "stream",
     "text": [
      "\r",
      "Loss: 0.051:  25%|██▎      | 204/814 [05:12<11:20,  1.12s/it, ['local weather conditions']]"
     ]
    },
    {
     "name": "stderr",
     "output_type": "stream",
     "text": [
      "\r",
      "Loss: 0.051:  25%|██▎      | 205/814 [05:12<11:06,  1.09s/it, ['local weather conditions']]"
     ]
    },
    {
     "name": "stderr",
     "output_type": "stream",
     "text": [
      "\r",
      "Loss: 0.052:  25%|██▎      | 205/814 [05:13<11:06,  1.09s/it, ['local weather conditions']]"
     ]
    },
    {
     "name": "stderr",
     "output_type": "stream",
     "text": [
      "\r",
      "Loss: 0.052:  25%|██▎      | 205/814 [05:13<11:06,  1.09s/it, ['local weather conditions']]"
     ]
    },
    {
     "name": "stderr",
     "output_type": "stream",
     "text": [
      "\r",
      "Loss: 0.052:  25%|██▎      | 206/814 [05:13<11:05,  1.09s/it, ['local weather conditions']]"
     ]
    },
    {
     "name": "stderr",
     "output_type": "stream",
     "text": [
      "\r",
      "Loss: 0.047:  25%|██▎      | 206/814 [05:14<11:05,  1.09s/it, ['local weather conditions']]"
     ]
    },
    {
     "name": "stderr",
     "output_type": "stream",
     "text": [
      "\r",
      "Loss: 0.047:  25%|██▎      | 206/814 [05:14<11:05,  1.09s/it, ['local weather conditions']]"
     ]
    },
    {
     "name": "stderr",
     "output_type": "stream",
     "text": [
      "\r",
      "Loss: 0.047:  25%|██▎      | 207/814 [05:14<10:56,  1.08s/it, ['local weather conditions']]"
     ]
    },
    {
     "name": "stderr",
     "output_type": "stream",
     "text": [
      "\r",
      "Loss: 0.048:  25%|██▎      | 207/814 [05:15<10:56,  1.08s/it, ['local weather conditions']]"
     ]
    },
    {
     "name": "stderr",
     "output_type": "stream",
     "text": [
      "\r",
      "Loss: 0.048:  25%|██▎      | 207/814 [05:15<10:56,  1.08s/it, ['local weather conditions']]"
     ]
    },
    {
     "name": "stderr",
     "output_type": "stream",
     "text": [
      "\r",
      "Loss: 0.048:  26%|██▎      | 208/814 [05:15<10:54,  1.08s/it, ['local weather conditions']]"
     ]
    },
    {
     "name": "stderr",
     "output_type": "stream",
     "text": [
      "\r",
      "Loss: 0.044:  26%|██▎      | 208/814 [05:16<10:54,  1.08s/it, ['local weather conditions']]"
     ]
    },
    {
     "name": "stderr",
     "output_type": "stream",
     "text": [
      "\r",
      "Loss: 0.044:  26%|██▎      | 208/814 [05:16<10:54,  1.08s/it, ['local weather conditions']]"
     ]
    },
    {
     "name": "stderr",
     "output_type": "stream",
     "text": [
      "\r",
      "Loss: 0.044:  26%|██▎      | 209/814 [05:16<10:45,  1.07s/it, ['local weather conditions']]"
     ]
    },
    {
     "name": "stderr",
     "output_type": "stream",
     "text": [
      "\r",
      "Loss: 0.040:  26%|██▎      | 209/814 [05:17<10:45,  1.07s/it, ['local weather conditions']]"
     ]
    },
    {
     "name": "stderr",
     "output_type": "stream",
     "text": [
      "\r",
      "Loss: 0.040:  26%|██▎      | 209/814 [05:17<10:45,  1.07s/it, ['local weather conditions']]"
     ]
    },
    {
     "name": "stderr",
     "output_type": "stream",
     "text": [
      "\r",
      "Loss: 0.040:  26%|██▎      | 210/814 [05:17<10:42,  1.06s/it, ['local weather conditions']]"
     ]
    },
    {
     "name": "stderr",
     "output_type": "stream",
     "text": [
      "\r",
      "Loss: 0.067:  26%|██▎      | 210/814 [05:18<10:42,  1.06s/it, ['local weather conditions']]"
     ]
    },
    {
     "name": "stderr",
     "output_type": "stream",
     "text": [
      "\r",
      "Loss: 0.067:  26%|██▎      | 210/814 [05:18<10:42,  1.06s/it, ['local weather conditions']]"
     ]
    },
    {
     "name": "stderr",
     "output_type": "stream",
     "text": [
      "\r",
      "Loss: 0.067:  26%|██▎      | 211/814 [05:18<10:44,  1.07s/it, ['local weather conditions']]"
     ]
    },
    {
     "name": "stderr",
     "output_type": "stream",
     "text": [
      "\r",
      "Loss: 0.061:  26%|██▎      | 211/814 [05:19<10:44,  1.07s/it, ['local weather conditions']]"
     ]
    },
    {
     "name": "stderr",
     "output_type": "stream",
     "text": [
      "\r",
      "Loss: 0.061:  26%|██▎      | 211/814 [05:19<10:44,  1.07s/it, ['local weather conditions']]"
     ]
    },
    {
     "name": "stderr",
     "output_type": "stream",
     "text": [
      "\r",
      "Loss: 0.061:  26%|██▎      | 212/814 [05:19<10:45,  1.07s/it, ['local weather conditions']]"
     ]
    },
    {
     "name": "stderr",
     "output_type": "stream",
     "text": [
      "\r",
      "Loss: 0.055:  26%|██▎      | 212/814 [05:20<10:45,  1.07s/it, ['local weather conditions']]"
     ]
    },
    {
     "name": "stderr",
     "output_type": "stream",
     "text": [
      "\r",
      "Loss: 0.055:  26%|██▎      | 212/814 [05:20<10:45,  1.07s/it, ['local weather conditions']]"
     ]
    },
    {
     "name": "stderr",
     "output_type": "stream",
     "text": [
      "\r",
      "Loss: 0.055:  26%|██▎      | 213/814 [05:20<10:54,  1.09s/it, ['local weather conditions']]"
     ]
    },
    {
     "name": "stderr",
     "output_type": "stream",
     "text": [
      "\r",
      "Loss: 0.050:  26%|██▎      | 213/814 [05:22<10:54,  1.09s/it, ['local weather conditions']]"
     ]
    },
    {
     "name": "stderr",
     "output_type": "stream",
     "text": [
      "\r",
      "Loss: 0.050:  26%|██▎      | 213/814 [05:22<10:54,  1.09s/it, ['local weather conditions']]"
     ]
    },
    {
     "name": "stderr",
     "output_type": "stream",
     "text": [
      "\r",
      "Loss: 0.050:  26%|██▎      | 214/814 [05:22<10:48,  1.08s/it, ['local weather conditions']]"
     ]
    },
    {
     "name": "stderr",
     "output_type": "stream",
     "text": [
      "\r",
      "Loss: 0.045:  26%|██▎      | 214/814 [05:23<10:48,  1.08s/it, ['local weather conditions']]"
     ]
    },
    {
     "name": "stderr",
     "output_type": "stream",
     "text": [
      "\r",
      "Loss: 0.045:  26%|██▎      | 214/814 [05:23<10:48,  1.08s/it, ['local weather conditions']]"
     ]
    },
    {
     "name": "stderr",
     "output_type": "stream",
     "text": [
      "\r",
      "Loss: 0.045:  26%|██▍      | 215/814 [05:23<10:44,  1.08s/it, ['local weather conditions']]"
     ]
    },
    {
     "name": "stderr",
     "output_type": "stream",
     "text": [
      "\r",
      "Loss: 0.044:  26%|██▍      | 215/814 [05:24<10:44,  1.08s/it, ['local weather conditions']]"
     ]
    },
    {
     "name": "stderr",
     "output_type": "stream",
     "text": [
      "\r",
      "Loss: 0.044:  26%|██▍      | 215/814 [05:24<10:44,  1.08s/it, ['local weather conditions']]"
     ]
    },
    {
     "name": "stderr",
     "output_type": "stream",
     "text": [
      "\r",
      "Loss: 0.044:  27%|██▍      | 216/814 [05:24<10:42,  1.07s/it, ['local weather conditions']]"
     ]
    },
    {
     "name": "stderr",
     "output_type": "stream",
     "text": [
      "\r",
      "Loss: 0.045:  27%|██▍      | 216/814 [05:25<10:42,  1.07s/it, ['local weather conditions']]"
     ]
    },
    {
     "name": "stderr",
     "output_type": "stream",
     "text": [
      "\r",
      "Loss: 0.045:  27%|██▍      | 216/814 [05:25<10:42,  1.07s/it, ['local weather conditions']]"
     ]
    },
    {
     "name": "stderr",
     "output_type": "stream",
     "text": [
      "\r",
      "Loss: 0.045:  27%|██▍      | 217/814 [05:25<10:39,  1.07s/it, ['local weather conditions']]"
     ]
    },
    {
     "name": "stderr",
     "output_type": "stream",
     "text": [
      "\r",
      "Loss: 0.084:  27%|██▍      | 217/814 [05:26<10:39,  1.07s/it, ['local weather conditions']]"
     ]
    },
    {
     "name": "stderr",
     "output_type": "stream",
     "text": [
      "\r",
      "Loss: 0.084:  27%|██▍      | 217/814 [05:26<10:39,  1.07s/it, ['local weather conditions']]"
     ]
    },
    {
     "name": "stderr",
     "output_type": "stream",
     "text": [
      "\r",
      "Loss: 0.084:  27%|██▍      | 218/814 [05:26<10:36,  1.07s/it, ['local weather conditions']]"
     ]
    },
    {
     "name": "stderr",
     "output_type": "stream",
     "text": [
      "\r",
      "Loss: 0.076:  27%|██▍      | 218/814 [05:27<10:36,  1.07s/it, ['local weather conditions']]"
     ]
    },
    {
     "name": "stderr",
     "output_type": "stream",
     "text": [
      "\r",
      "Loss: 0.076:  27%|██▍      | 218/814 [05:27<10:36,  1.07s/it, ['local weather conditions']]"
     ]
    },
    {
     "name": "stderr",
     "output_type": "stream",
     "text": [
      "\r",
      "Loss: 0.076:  27%|██▍      | 219/814 [05:27<10:34,  1.07s/it, ['local weather conditions']]"
     ]
    },
    {
     "name": "stderr",
     "output_type": "stream",
     "text": [
      "\r",
      "Loss: 0.074:  27%|██▍      | 219/814 [05:28<10:34,  1.07s/it, ['local weather conditions']]"
     ]
    },
    {
     "name": "stderr",
     "output_type": "stream",
     "text": [
      "\r",
      "Loss: 0.074:  27%|██▍      | 219/814 [05:28<10:34,  1.07s/it, ['local weather conditions']]"
     ]
    },
    {
     "name": "stderr",
     "output_type": "stream",
     "text": [
      "\r",
      "Loss: 0.074:  27%|██▍      | 220/814 [05:28<10:30,  1.06s/it, ['local weather conditions']]"
     ]
    },
    {
     "name": "stderr",
     "output_type": "stream",
     "text": [
      "\r",
      "Loss: 0.067:  27%|██▍      | 220/814 [05:29<10:30,  1.06s/it, ['local weather conditions']]"
     ]
    },
    {
     "name": "stderr",
     "output_type": "stream",
     "text": [
      "\r",
      "Loss: 0.067:  27%|██▍      | 220/814 [05:29<10:30,  1.06s/it, ['local weather conditions']]"
     ]
    },
    {
     "name": "stderr",
     "output_type": "stream",
     "text": [
      "\r",
      "Loss: 0.067:  27%|██▍      | 221/814 [05:29<10:23,  1.05s/it, ['local weather conditions']]"
     ]
    },
    {
     "name": "stderr",
     "output_type": "stream",
     "text": [
      "\r",
      "Loss: 0.065:  27%|██▍      | 221/814 [05:30<10:23,  1.05s/it, ['local weather conditions']]"
     ]
    },
    {
     "name": "stderr",
     "output_type": "stream",
     "text": [
      "\r",
      "Loss: 0.065:  27%|██▍      | 221/814 [05:30<10:23,  1.05s/it, ['local weather conditions']]"
     ]
    },
    {
     "name": "stderr",
     "output_type": "stream",
     "text": [
      "\r",
      "Loss: 0.065:  27%|██▍      | 222/814 [05:30<10:21,  1.05s/it, ['local weather conditions']]"
     ]
    },
    {
     "name": "stderr",
     "output_type": "stream",
     "text": [
      "\r",
      "Loss: 0.059:  27%|██▍      | 222/814 [05:31<10:21,  1.05s/it, ['local weather conditions']]"
     ]
    },
    {
     "name": "stderr",
     "output_type": "stream",
     "text": [
      "\r",
      "Loss: 0.059:  27%|██▍      | 222/814 [05:31<10:21,  1.05s/it, ['local weather conditions']]"
     ]
    },
    {
     "name": "stderr",
     "output_type": "stream",
     "text": [
      "\r",
      "Loss: 0.059:  27%|██▍      | 223/814 [05:31<10:16,  1.04s/it, ['local weather conditions']]"
     ]
    },
    {
     "name": "stderr",
     "output_type": "stream",
     "text": [
      "\r",
      "Loss: 0.053:  27%|██▍      | 223/814 [05:32<10:16,  1.04s/it, ['local weather conditions']]"
     ]
    },
    {
     "name": "stderr",
     "output_type": "stream",
     "text": [
      "\r",
      "Loss: 0.053:  27%|██▍      | 223/814 [05:32<10:16,  1.04s/it, ['local weather conditions']]"
     ]
    },
    {
     "name": "stderr",
     "output_type": "stream",
     "text": [
      "\r",
      "Loss: 0.053:  28%|██▍      | 224/814 [05:32<10:17,  1.05s/it, ['local weather conditions']]"
     ]
    },
    {
     "name": "stderr",
     "output_type": "stream",
     "text": [
      "\r",
      "Loss: 0.048:  28%|██▍      | 224/814 [05:33<10:17,  1.05s/it, ['local weather conditions']]"
     ]
    },
    {
     "name": "stderr",
     "output_type": "stream",
     "text": [
      "\r",
      "Loss: 0.048:  28%|██▍      | 224/814 [05:33<10:17,  1.05s/it, ['local weather conditions']]"
     ]
    },
    {
     "name": "stderr",
     "output_type": "stream",
     "text": [
      "\r",
      "Loss: 0.048:  28%|██▍      | 225/814 [05:33<10:14,  1.04s/it, ['local weather conditions']]"
     ]
    },
    {
     "name": "stderr",
     "output_type": "stream",
     "text": [
      "\r",
      "Loss: 0.045:  28%|██▍      | 225/814 [05:34<10:14,  1.04s/it, ['local weather conditions']]"
     ]
    },
    {
     "name": "stderr",
     "output_type": "stream",
     "text": [
      "\r",
      "Loss: 0.045:  28%|██▍      | 225/814 [05:34<10:14,  1.04s/it, ['local weather conditions']]"
     ]
    },
    {
     "name": "stderr",
     "output_type": "stream",
     "text": [
      "\r",
      "Loss: 0.045:  28%|██▍      | 226/814 [05:34<10:18,  1.05s/it, ['local weather conditions']]"
     ]
    },
    {
     "name": "stderr",
     "output_type": "stream",
     "text": [
      "\r",
      "Loss: 0.053:  28%|██▍      | 226/814 [05:35<10:18,  1.05s/it, ['local weather conditions']]"
     ]
    },
    {
     "name": "stderr",
     "output_type": "stream",
     "text": [
      "\r",
      "Loss: 0.053:  28%|██▍      | 226/814 [05:35<10:18,  1.05s/it, ['local weather conditions']]"
     ]
    },
    {
     "name": "stderr",
     "output_type": "stream",
     "text": [
      "\r",
      "Loss: 0.053:  28%|██▌      | 227/814 [05:35<10:21,  1.06s/it, ['local weather conditions']]"
     ]
    },
    {
     "name": "stderr",
     "output_type": "stream",
     "text": [
      "\r",
      "Loss: 0.049:  28%|██▌      | 227/814 [05:36<10:21,  1.06s/it, ['local weather conditions']]"
     ]
    },
    {
     "name": "stderr",
     "output_type": "stream",
     "text": [
      "\r",
      "Loss: 0.049:  28%|██▌      | 227/814 [05:36<10:21,  1.06s/it, ['local weather conditions']]"
     ]
    },
    {
     "name": "stderr",
     "output_type": "stream",
     "text": [
      "\r",
      "Loss: 0.049:  28%|██▌      | 228/814 [05:36<10:26,  1.07s/it, ['local weather conditions']]"
     ]
    },
    {
     "name": "stderr",
     "output_type": "stream",
     "text": [
      "\r",
      "Loss: 0.045:  28%|██▌      | 228/814 [05:37<10:26,  1.07s/it, ['local weather conditions']]"
     ]
    },
    {
     "name": "stderr",
     "output_type": "stream",
     "text": [
      "\r",
      "Loss: 0.045:  28%|██▌      | 228/814 [05:37<10:26,  1.07s/it, ['local weather conditions']]"
     ]
    },
    {
     "name": "stderr",
     "output_type": "stream",
     "text": [
      "\r",
      "Loss: 0.045:  28%|██▌      | 229/814 [05:37<10:39,  1.09s/it, ['local weather conditions']]"
     ]
    },
    {
     "name": "stderr",
     "output_type": "stream",
     "text": [
      "\r",
      "Loss: 0.050:  28%|██▌      | 229/814 [05:39<10:39,  1.09s/it, ['local weather conditions']]"
     ]
    },
    {
     "name": "stderr",
     "output_type": "stream",
     "text": [
      "\r",
      "Loss: 0.050:  28%|██▌      | 229/814 [05:39<10:39,  1.09s/it, ['local weather conditions']]"
     ]
    },
    {
     "name": "stderr",
     "output_type": "stream",
     "text": [
      "\r",
      "Loss: 0.050:  28%|██▌      | 230/814 [05:39<10:34,  1.09s/it, ['local weather conditions']]"
     ]
    },
    {
     "name": "stderr",
     "output_type": "stream",
     "text": [
      "\r",
      "Loss: 0.045:  28%|██▌      | 230/814 [05:40<10:34,  1.09s/it, ['local weather conditions']]"
     ]
    },
    {
     "name": "stderr",
     "output_type": "stream",
     "text": [
      "\r",
      "Loss: 0.045:  28%|██▌      | 230/814 [05:40<10:34,  1.09s/it, ['local weather conditions']]"
     ]
    },
    {
     "name": "stderr",
     "output_type": "stream",
     "text": [
      "\r",
      "Loss: 0.045:  28%|██▌      | 231/814 [05:40<10:46,  1.11s/it, ['local weather conditions']]"
     ]
    },
    {
     "name": "stderr",
     "output_type": "stream",
     "text": [
      "\r",
      "Loss: 0.042:  28%|██▌      | 231/814 [05:41<10:46,  1.11s/it, ['local weather conditions']]"
     ]
    },
    {
     "name": "stderr",
     "output_type": "stream",
     "text": [
      "\r",
      "Loss: 0.042:  28%|██▌      | 231/814 [05:41<10:46,  1.11s/it, ['local weather conditions']]"
     ]
    },
    {
     "name": "stderr",
     "output_type": "stream",
     "text": [
      "\r",
      "Loss: 0.042:  29%|██▌      | 232/814 [05:41<10:39,  1.10s/it, ['local weather conditions']]"
     ]
    },
    {
     "name": "stderr",
     "output_type": "stream",
     "text": [
      "\r",
      "Loss: 0.039:  29%|██▌      | 232/814 [05:42<10:39,  1.10s/it, ['local weather conditions']]"
     ]
    },
    {
     "name": "stderr",
     "output_type": "stream",
     "text": [
      "\r",
      "Loss: 0.039:  29%|██▌      | 232/814 [05:42<10:39,  1.10s/it, ['local weather conditions']]"
     ]
    },
    {
     "name": "stderr",
     "output_type": "stream",
     "text": [
      "\r",
      "Loss: 0.039:  29%|██▌      | 233/814 [05:42<10:39,  1.10s/it, ['local weather conditions']]"
     ]
    },
    {
     "name": "stderr",
     "output_type": "stream",
     "text": [
      "\r",
      "Loss: 0.035:  29%|██▌      | 233/814 [05:43<10:39,  1.10s/it, ['local weather conditions']]"
     ]
    },
    {
     "name": "stderr",
     "output_type": "stream",
     "text": [
      "\r",
      "Loss: 0.035:  29%|██▌      | 233/814 [05:43<10:39,  1.10s/it, ['local weather conditions']]"
     ]
    },
    {
     "name": "stderr",
     "output_type": "stream",
     "text": [
      "\r",
      "Loss: 0.035:  29%|██▌      | 234/814 [05:43<10:43,  1.11s/it, ['local weather conditions']]"
     ]
    },
    {
     "name": "stderr",
     "output_type": "stream",
     "text": [
      "\r",
      "Loss: 0.036:  29%|██▌      | 234/814 [05:44<10:43,  1.11s/it, ['local weather conditions']]"
     ]
    },
    {
     "name": "stderr",
     "output_type": "stream",
     "text": [
      "\r",
      "Loss: 0.036:  29%|██▌      | 234/814 [05:44<10:43,  1.11s/it, ['local weather conditions']]"
     ]
    },
    {
     "name": "stderr",
     "output_type": "stream",
     "text": [
      "\r",
      "Loss: 0.036:  29%|██▌      | 235/814 [05:44<10:41,  1.11s/it, ['local weather conditions']]"
     ]
    },
    {
     "name": "stderr",
     "output_type": "stream",
     "text": [
      "\r",
      "Loss: 0.033:  29%|██▌      | 235/814 [05:45<10:41,  1.11s/it, ['local weather conditions']]"
     ]
    },
    {
     "name": "stderr",
     "output_type": "stream",
     "text": [
      "\r",
      "Loss: 0.033:  29%|██▌      | 235/814 [05:45<10:41,  1.11s/it, ['local weather conditions']]"
     ]
    },
    {
     "name": "stderr",
     "output_type": "stream",
     "text": [
      "\r",
      "Loss: 0.033:  29%|██▌      | 236/814 [05:45<10:38,  1.10s/it, ['local weather conditions']]"
     ]
    },
    {
     "name": "stderr",
     "output_type": "stream",
     "text": [
      "\r",
      "Loss: 0.052:  29%|██▌      | 236/814 [05:46<10:38,  1.10s/it, ['local weather conditions']]"
     ]
    },
    {
     "name": "stderr",
     "output_type": "stream",
     "text": [
      "\r",
      "Loss: 0.052:  29%|██▌      | 236/814 [05:46<10:38,  1.10s/it, ['local weather conditions']]"
     ]
    },
    {
     "name": "stderr",
     "output_type": "stream",
     "text": [
      "\r",
      "Loss: 0.052:  29%|██▌      | 237/814 [05:46<10:40,  1.11s/it, ['local weather conditions']]"
     ]
    },
    {
     "name": "stderr",
     "output_type": "stream",
     "text": [
      "\r",
      "Loss: 0.047:  29%|██▌      | 237/814 [05:47<10:40,  1.11s/it, ['local weather conditions']]"
     ]
    },
    {
     "name": "stderr",
     "output_type": "stream",
     "text": [
      "\r",
      "Loss: 0.047:  29%|██▌      | 237/814 [05:47<10:40,  1.11s/it, ['local weather conditions']]"
     ]
    },
    {
     "name": "stderr",
     "output_type": "stream",
     "text": [
      "\r",
      "Loss: 0.047:  29%|██▋      | 238/814 [05:47<10:35,  1.10s/it, ['local weather conditions']]"
     ]
    },
    {
     "name": "stderr",
     "output_type": "stream",
     "text": [
      "\r",
      "Loss: 0.043:  29%|██▋      | 238/814 [05:49<10:35,  1.10s/it, ['local weather conditions']]"
     ]
    },
    {
     "name": "stderr",
     "output_type": "stream",
     "text": [
      "\r",
      "Loss: 0.043:  29%|██▋      | 238/814 [05:49<10:35,  1.10s/it, ['local weather conditions']]"
     ]
    },
    {
     "name": "stderr",
     "output_type": "stream",
     "text": [
      "\r",
      "Loss: 0.043:  29%|██▋      | 239/814 [05:49<10:31,  1.10s/it, ['local weather conditions']]"
     ]
    },
    {
     "name": "stderr",
     "output_type": "stream",
     "text": [
      "\r",
      "Loss: 0.040:  29%|██▋      | 239/814 [05:50<10:31,  1.10s/it, ['local weather conditions']]"
     ]
    },
    {
     "name": "stderr",
     "output_type": "stream",
     "text": [
      "\r",
      "Loss: 0.040:  29%|██▋      | 239/814 [05:50<10:31,  1.10s/it, ['local weather conditions']]"
     ]
    },
    {
     "name": "stderr",
     "output_type": "stream",
     "text": [
      "\r",
      "Loss: 0.040:  29%|██▋      | 240/814 [05:50<10:45,  1.12s/it, ['local weather conditions']]"
     ]
    },
    {
     "name": "stderr",
     "output_type": "stream",
     "text": [
      "\r",
      "Loss: 0.038:  29%|██▋      | 240/814 [05:51<10:45,  1.12s/it, ['local weather conditions']]"
     ]
    },
    {
     "name": "stderr",
     "output_type": "stream",
     "text": [
      "\r",
      "Loss: 0.038:  29%|██▋      | 240/814 [05:51<10:45,  1.12s/it, ['local weather conditions']]"
     ]
    },
    {
     "name": "stderr",
     "output_type": "stream",
     "text": [
      "\r",
      "Loss: 0.038:  30%|██▋      | 241/814 [05:51<10:37,  1.11s/it, ['local weather conditions']]"
     ]
    },
    {
     "name": "stderr",
     "output_type": "stream",
     "text": [
      "\r",
      "Loss: 0.036:  30%|██▋      | 241/814 [05:52<10:37,  1.11s/it, ['local weather conditions']]"
     ]
    },
    {
     "name": "stderr",
     "output_type": "stream",
     "text": [
      "\r",
      "Loss: 0.036:  30%|██▋      | 241/814 [05:52<10:37,  1.11s/it, ['local weather conditions']]"
     ]
    },
    {
     "name": "stderr",
     "output_type": "stream",
     "text": [
      "\r",
      "Loss: 0.036:  30%|██▋      | 242/814 [05:52<10:41,  1.12s/it, ['local weather conditions']]"
     ]
    },
    {
     "name": "stderr",
     "output_type": "stream",
     "text": [
      "\r",
      "Loss: 0.033:  30%|██▋      | 242/814 [05:53<10:41,  1.12s/it, ['local weather conditions']]"
     ]
    },
    {
     "name": "stderr",
     "output_type": "stream",
     "text": [
      "\r",
      "Loss: 0.033:  30%|██▋      | 242/814 [05:53<10:41,  1.12s/it, ['local weather conditions']]"
     ]
    },
    {
     "name": "stderr",
     "output_type": "stream",
     "text": [
      "\r",
      "Loss: 0.033:  30%|██▋      | 243/814 [05:53<10:37,  1.12s/it, ['local weather conditions']]"
     ]
    },
    {
     "name": "stderr",
     "output_type": "stream",
     "text": [
      "\r",
      "Loss: 0.030:  30%|██▋      | 243/814 [05:54<10:37,  1.12s/it, ['local weather conditions']]"
     ]
    },
    {
     "name": "stderr",
     "output_type": "stream",
     "text": [
      "\r",
      "Loss: 0.030:  30%|██▋      | 243/814 [05:54<10:37,  1.12s/it, ['local weather conditions']]"
     ]
    },
    {
     "name": "stderr",
     "output_type": "stream",
     "text": [
      "\r",
      "Loss: 0.030:  30%|██▋      | 244/814 [05:54<10:53,  1.15s/it, ['local weather conditions']]"
     ]
    },
    {
     "name": "stderr",
     "output_type": "stream",
     "text": [
      "\r",
      "Loss: 0.031:  30%|██▋      | 244/814 [05:55<10:53,  1.15s/it, ['local weather conditions']]"
     ]
    },
    {
     "name": "stderr",
     "output_type": "stream",
     "text": [
      "\r",
      "Loss: 0.031:  30%|██▋      | 244/814 [05:55<10:53,  1.15s/it, ['local weather conditions']]"
     ]
    },
    {
     "name": "stderr",
     "output_type": "stream",
     "text": [
      "\r",
      "Loss: 0.031:  30%|██▋      | 245/814 [05:55<10:58,  1.16s/it, ['local weather conditions']]"
     ]
    },
    {
     "name": "stderr",
     "output_type": "stream",
     "text": [
      "\r",
      "Loss: 0.038:  30%|██▋      | 245/814 [05:57<10:58,  1.16s/it, ['local weather conditions']]"
     ]
    },
    {
     "name": "stderr",
     "output_type": "stream",
     "text": [
      "\r",
      "Loss: 0.038:  30%|██▋      | 245/814 [05:57<10:58,  1.16s/it, ['local weather conditions']]"
     ]
    },
    {
     "name": "stderr",
     "output_type": "stream",
     "text": [
      "\r",
      "Loss: 0.038:  30%|██▋      | 246/814 [05:57<10:58,  1.16s/it, ['local weather conditions']]"
     ]
    },
    {
     "name": "stderr",
     "output_type": "stream",
     "text": [
      "\r",
      "Loss: 0.054:  30%|██▋      | 246/814 [05:58<10:58,  1.16s/it, ['local weather conditions']]"
     ]
    },
    {
     "name": "stderr",
     "output_type": "stream",
     "text": [
      "\r",
      "Loss: 0.054:  30%|██▋      | 246/814 [05:58<10:58,  1.16s/it, ['local weather conditions']]"
     ]
    },
    {
     "name": "stderr",
     "output_type": "stream",
     "text": [
      "\r",
      "Loss: 0.054:  30%|██▋      | 247/814 [05:58<11:06,  1.18s/it, ['local weather conditions']]"
     ]
    },
    {
     "name": "stderr",
     "output_type": "stream",
     "text": [
      "\r",
      "Loss: 0.050:  30%|██▋      | 247/814 [05:59<11:06,  1.18s/it, ['local weather conditions']]"
     ]
    },
    {
     "name": "stderr",
     "output_type": "stream",
     "text": [
      "\r",
      "Loss: 0.050:  30%|██▋      | 247/814 [05:59<11:06,  1.18s/it, ['local weather conditions']]"
     ]
    },
    {
     "name": "stderr",
     "output_type": "stream",
     "text": [
      "\r",
      "Loss: 0.050:  30%|██▋      | 248/814 [05:59<10:58,  1.16s/it, ['local weather conditions']]"
     ]
    },
    {
     "name": "stderr",
     "output_type": "stream",
     "text": [
      "\r",
      "Loss: 0.049:  30%|██▋      | 248/814 [06:00<10:58,  1.16s/it, ['local weather conditions']]"
     ]
    },
    {
     "name": "stderr",
     "output_type": "stream",
     "text": [
      "\r",
      "Loss: 0.049:  30%|██▋      | 248/814 [06:00<10:58,  1.16s/it, ['local weather conditions']]"
     ]
    },
    {
     "name": "stderr",
     "output_type": "stream",
     "text": [
      "\r",
      "Loss: 0.049:  31%|██▊      | 249/814 [06:00<10:55,  1.16s/it, ['local weather conditions']]"
     ]
    },
    {
     "name": "stderr",
     "output_type": "stream",
     "text": [
      "\r",
      "Loss: 0.055:  31%|██▊      | 249/814 [06:01<10:55,  1.16s/it, ['local weather conditions']]"
     ]
    },
    {
     "name": "stderr",
     "output_type": "stream",
     "text": [
      "\r",
      "Loss: 0.055:  31%|██▊      | 249/814 [06:01<10:55,  1.16s/it, ['local weather conditions']]"
     ]
    },
    {
     "name": "stderr",
     "output_type": "stream",
     "text": [
      "\r",
      "Loss: 0.055:  31%|██▊      | 250/814 [06:01<11:17,  1.20s/it, ['local weather conditions']]"
     ]
    },
    {
     "name": "stderr",
     "output_type": "stream",
     "text": [
      "\r",
      "Loss: 0.050:  31%|██▊      | 250/814 [06:03<11:17,  1.20s/it, ['local weather conditions']]"
     ]
    },
    {
     "name": "stderr",
     "output_type": "stream",
     "text": [
      "\r",
      "Loss: 0.050:  31%|██▊      | 250/814 [06:03<11:17,  1.20s/it, ['local weather conditions']]"
     ]
    },
    {
     "name": "stderr",
     "output_type": "stream",
     "text": [
      "\r",
      "Loss: 0.050:  31%|██▊      | 251/814 [06:03<11:40,  1.24s/it, ['local weather conditions']]"
     ]
    },
    {
     "name": "stderr",
     "output_type": "stream",
     "text": [
      "\r",
      "Loss: 0.051:  31%|██▊      | 251/814 [06:04<11:40,  1.24s/it, ['local weather conditions']]"
     ]
    },
    {
     "name": "stderr",
     "output_type": "stream",
     "text": [
      "\r",
      "Loss: 0.051:  31%|██▊      | 251/814 [06:04<11:40,  1.24s/it, ['local weather conditions']]"
     ]
    },
    {
     "name": "stderr",
     "output_type": "stream",
     "text": [
      "\r",
      "Loss: 0.051:  31%|██▊      | 252/814 [06:04<11:46,  1.26s/it, ['local weather conditions']]"
     ]
    },
    {
     "name": "stderr",
     "output_type": "stream",
     "text": [
      "\r",
      "Loss: 0.046:  31%|██▊      | 252/814 [06:05<11:46,  1.26s/it, ['local weather conditions']]"
     ]
    },
    {
     "name": "stderr",
     "output_type": "stream",
     "text": [
      "\r",
      "Loss: 0.046:  31%|██▊      | 252/814 [06:05<11:46,  1.26s/it, ['local weather conditions']]"
     ]
    },
    {
     "name": "stderr",
     "output_type": "stream",
     "text": [
      "\r",
      "Loss: 0.046:  31%|██▊      | 253/814 [06:05<11:31,  1.23s/it, ['local weather conditions']]"
     ]
    },
    {
     "name": "stderr",
     "output_type": "stream",
     "text": [
      "\r",
      "Loss: 0.056:  31%|██▊      | 253/814 [06:07<11:31,  1.23s/it, ['local weather conditions']]"
     ]
    },
    {
     "name": "stderr",
     "output_type": "stream",
     "text": [
      "\r",
      "Loss: 0.056:  31%|██▊      | 253/814 [06:07<11:31,  1.23s/it, ['local weather conditions']]"
     ]
    },
    {
     "name": "stderr",
     "output_type": "stream",
     "text": [
      "\r",
      "Loss: 0.056:  31%|██▊      | 254/814 [06:07<13:19,  1.43s/it, ['local weather conditions']]"
     ]
    },
    {
     "name": "stderr",
     "output_type": "stream",
     "text": [
      "\r",
      "Loss: 0.051:  31%|██▊      | 254/814 [06:09<13:19,  1.43s/it, ['local weather conditions']]"
     ]
    },
    {
     "name": "stderr",
     "output_type": "stream",
     "text": [
      "\r",
      "Loss: 0.051:  31%|██▊      | 254/814 [06:09<13:19,  1.43s/it, ['local weather conditions']]"
     ]
    },
    {
     "name": "stderr",
     "output_type": "stream",
     "text": [
      "\r",
      "Loss: 0.051:  31%|██▊      | 255/814 [06:09<14:37,  1.57s/it, ['local weather conditions']]"
     ]
    },
    {
     "name": "stderr",
     "output_type": "stream",
     "text": [
      "\r",
      "Loss: 0.046:  31%|██▊      | 255/814 [06:11<14:37,  1.57s/it, ['local weather conditions']]"
     ]
    },
    {
     "name": "stderr",
     "output_type": "stream",
     "text": [
      "\r",
      "Loss: 0.046:  31%|██▊      | 255/814 [06:11<14:37,  1.57s/it, ['local weather conditions']]"
     ]
    },
    {
     "name": "stderr",
     "output_type": "stream",
     "text": [
      "\r",
      "Loss: 0.046:  31%|██▊      | 256/814 [06:11<14:51,  1.60s/it, ['local weather conditions']]"
     ]
    },
    {
     "name": "stderr",
     "output_type": "stream",
     "text": [
      "\r",
      "Loss: 0.049:  31%|██▊      | 256/814 [06:12<14:51,  1.60s/it, ['local weather conditions']]"
     ]
    },
    {
     "name": "stderr",
     "output_type": "stream",
     "text": [
      "\r",
      "Loss: 0.049:  31%|██▊      | 256/814 [06:12<14:51,  1.60s/it, ['local weather conditions']]"
     ]
    },
    {
     "name": "stderr",
     "output_type": "stream",
     "text": [
      "\r",
      "Loss: 0.049:  32%|██▊      | 257/814 [06:12<14:18,  1.54s/it, ['local weather conditions']]"
     ]
    },
    {
     "name": "stderr",
     "output_type": "stream",
     "text": [
      "\r",
      "Loss: 0.045:  32%|██▊      | 257/814 [06:13<14:18,  1.54s/it, ['local weather conditions']]"
     ]
    },
    {
     "name": "stderr",
     "output_type": "stream",
     "text": [
      "\r",
      "Loss: 0.045:  32%|██▊      | 257/814 [06:13<14:18,  1.54s/it, ['local weather conditions']]"
     ]
    },
    {
     "name": "stderr",
     "output_type": "stream",
     "text": [
      "\r",
      "Loss: 0.045:  32%|██▊      | 258/814 [06:13<13:24,  1.45s/it, ['local weather conditions']]"
     ]
    },
    {
     "name": "stderr",
     "output_type": "stream",
     "text": [
      "\r",
      "Loss: 0.041:  32%|██▊      | 258/814 [06:14<13:24,  1.45s/it, ['local weather conditions']]"
     ]
    },
    {
     "name": "stderr",
     "output_type": "stream",
     "text": [
      "\r",
      "Loss: 0.041:  32%|██▊      | 258/814 [06:14<13:24,  1.45s/it, ['local weather conditions']]"
     ]
    },
    {
     "name": "stderr",
     "output_type": "stream",
     "text": [
      "\r",
      "Loss: 0.041:  32%|██▊      | 259/814 [06:14<12:32,  1.36s/it, ['local weather conditions']]"
     ]
    },
    {
     "name": "stderr",
     "output_type": "stream",
     "text": [
      "\r",
      "Loss: 0.071:  32%|██▊      | 259/814 [06:16<12:32,  1.36s/it, ['local weather conditions']]"
     ]
    },
    {
     "name": "stderr",
     "output_type": "stream",
     "text": [
      "\r",
      "Loss: 0.071:  32%|██▊      | 259/814 [06:16<12:32,  1.36s/it, ['local weather conditions']]"
     ]
    },
    {
     "name": "stderr",
     "output_type": "stream",
     "text": [
      "\r",
      "Loss: 0.071:  32%|██▊      | 260/814 [06:16<12:02,  1.30s/it, ['local weather conditions']]"
     ]
    },
    {
     "name": "stderr",
     "output_type": "stream",
     "text": [
      "\r",
      "Loss: 0.064:  32%|██▊      | 260/814 [06:17<12:02,  1.30s/it, ['local weather conditions']]"
     ]
    },
    {
     "name": "stderr",
     "output_type": "stream",
     "text": [
      "\r",
      "Loss: 0.064:  32%|██▊      | 260/814 [06:17<12:02,  1.30s/it, ['local weather conditions']]"
     ]
    },
    {
     "name": "stderr",
     "output_type": "stream",
     "text": [
      "\r",
      "Loss: 0.064:  32%|██▉      | 261/814 [06:17<11:45,  1.28s/it, ['local weather conditions']]"
     ]
    },
    {
     "name": "stderr",
     "output_type": "stream",
     "text": [
      "\r",
      "Loss: 0.058:  32%|██▉      | 261/814 [06:18<11:45,  1.28s/it, ['local weather conditions']]"
     ]
    },
    {
     "name": "stderr",
     "output_type": "stream",
     "text": [
      "\r",
      "Loss: 0.058:  32%|██▉      | 261/814 [06:18<11:45,  1.28s/it, ['local weather conditions']]"
     ]
    },
    {
     "name": "stderr",
     "output_type": "stream",
     "text": [
      "\r",
      "Loss: 0.058:  32%|██▉      | 262/814 [06:18<12:12,  1.33s/it, ['local weather conditions']]"
     ]
    },
    {
     "name": "stderr",
     "output_type": "stream",
     "text": [
      "\r",
      "Loss: 0.053:  32%|██▉      | 262/814 [06:20<12:12,  1.33s/it, ['local weather conditions']]"
     ]
    },
    {
     "name": "stderr",
     "output_type": "stream",
     "text": [
      "\r",
      "Loss: 0.053:  32%|██▉      | 262/814 [06:20<12:12,  1.33s/it, ['local weather conditions']]"
     ]
    },
    {
     "name": "stderr",
     "output_type": "stream",
     "text": [
      "\r",
      "Loss: 0.053:  32%|██▉      | 263/814 [06:20<11:57,  1.30s/it, ['local weather conditions']]"
     ]
    },
    {
     "name": "stderr",
     "output_type": "stream",
     "text": [
      "\r",
      "Loss: 0.048:  32%|██▉      | 263/814 [06:21<11:57,  1.30s/it, ['local weather conditions']]"
     ]
    },
    {
     "name": "stderr",
     "output_type": "stream",
     "text": [
      "\r",
      "Loss: 0.048:  32%|██▉      | 263/814 [06:21<11:57,  1.30s/it, ['local weather conditions']]"
     ]
    },
    {
     "name": "stderr",
     "output_type": "stream",
     "text": [
      "\r",
      "Loss: 0.048:  32%|██▉      | 264/814 [06:21<11:27,  1.25s/it, ['local weather conditions']]"
     ]
    },
    {
     "name": "stderr",
     "output_type": "stream",
     "text": [
      "\r",
      "Loss: 0.046:  32%|██▉      | 264/814 [06:22<11:27,  1.25s/it, ['local weather conditions']]"
     ]
    },
    {
     "name": "stderr",
     "output_type": "stream",
     "text": [
      "\r",
      "Loss: 0.046:  32%|██▉      | 264/814 [06:22<11:27,  1.25s/it, ['local weather conditions']]"
     ]
    },
    {
     "name": "stderr",
     "output_type": "stream",
     "text": [
      "\r",
      "Loss: 0.046:  33%|██▉      | 265/814 [06:22<11:01,  1.20s/it, ['local weather conditions']]"
     ]
    },
    {
     "name": "stderr",
     "output_type": "stream",
     "text": [
      "\r",
      "Loss: 0.045:  33%|██▉      | 265/814 [06:24<11:01,  1.20s/it, ['local weather conditions']]"
     ]
    },
    {
     "name": "stderr",
     "output_type": "stream",
     "text": [
      "\r",
      "Loss: 0.045:  33%|██▉      | 265/814 [06:24<11:01,  1.20s/it, ['local weather conditions']]"
     ]
    },
    {
     "name": "stderr",
     "output_type": "stream",
     "text": [
      "\r",
      "Loss: 0.045:  33%|██▉      | 266/814 [06:24<12:40,  1.39s/it, ['local weather conditions']]"
     ]
    },
    {
     "name": "stderr",
     "output_type": "stream",
     "text": [
      "\r",
      "Loss: 0.041:  33%|██▉      | 266/814 [06:26<12:40,  1.39s/it, ['local weather conditions']]"
     ]
    },
    {
     "name": "stderr",
     "output_type": "stream",
     "text": [
      "\r",
      "Loss: 0.041:  33%|██▉      | 266/814 [06:26<12:40,  1.39s/it, ['local weather conditions']]"
     ]
    },
    {
     "name": "stderr",
     "output_type": "stream",
     "text": [
      "\r",
      "Loss: 0.041:  33%|██▉      | 267/814 [06:26<14:09,  1.55s/it, ['local weather conditions']]"
     ]
    },
    {
     "name": "stderr",
     "output_type": "stream",
     "text": [
      "\r",
      "Loss: 0.040:  33%|██▉      | 267/814 [06:27<14:09,  1.55s/it, ['local weather conditions']]"
     ]
    },
    {
     "name": "stderr",
     "output_type": "stream",
     "text": [
      "\r",
      "Loss: 0.040:  33%|██▉      | 267/814 [06:27<14:09,  1.55s/it, ['local weather conditions']]"
     ]
    },
    {
     "name": "stderr",
     "output_type": "stream",
     "text": [
      "\r",
      "Loss: 0.040:  33%|██▉      | 268/814 [06:27<15:08,  1.66s/it, ['local weather conditions']]"
     ]
    },
    {
     "name": "stderr",
     "output_type": "stream",
     "text": [
      "\r",
      "Loss: 0.036:  33%|██▉      | 268/814 [06:29<15:08,  1.66s/it, ['local weather conditions']]"
     ]
    },
    {
     "name": "stderr",
     "output_type": "stream",
     "text": [
      "\r",
      "Loss: 0.036:  33%|██▉      | 268/814 [06:29<15:08,  1.66s/it, ['local weather conditions']]"
     ]
    },
    {
     "name": "stderr",
     "output_type": "stream",
     "text": [
      "\r",
      "Loss: 0.036:  33%|██▉      | 269/814 [06:29<15:51,  1.75s/it, ['local weather conditions']]"
     ]
    },
    {
     "name": "stderr",
     "output_type": "stream",
     "text": [
      "\r",
      "Loss: 0.033:  33%|██▉      | 269/814 [06:31<15:51,  1.75s/it, ['local weather conditions']]"
     ]
    },
    {
     "name": "stderr",
     "output_type": "stream",
     "text": [
      "\r",
      "Loss: 0.033:  33%|██▉      | 269/814 [06:31<15:51,  1.75s/it, ['local weather conditions']]"
     ]
    },
    {
     "name": "stderr",
     "output_type": "stream",
     "text": [
      "\r",
      "Loss: 0.033:  33%|██▉      | 270/814 [06:31<14:29,  1.60s/it, ['local weather conditions']]"
     ]
    },
    {
     "name": "stderr",
     "output_type": "stream",
     "text": [
      "\r",
      "Loss: 0.029:  33%|██▉      | 270/814 [06:33<14:29,  1.60s/it, ['local weather conditions']]"
     ]
    },
    {
     "name": "stderr",
     "output_type": "stream",
     "text": [
      "\r",
      "Loss: 0.029:  33%|██▉      | 270/814 [06:33<14:29,  1.60s/it, ['local weather conditions']]"
     ]
    },
    {
     "name": "stderr",
     "output_type": "stream",
     "text": [
      "\r",
      "Loss: 0.029:  33%|██▉      | 271/814 [06:33<15:21,  1.70s/it, ['local weather conditions']]"
     ]
    },
    {
     "name": "stderr",
     "output_type": "stream",
     "text": [
      "\r",
      "Loss: 0.027:  33%|██▉      | 271/814 [06:35<15:21,  1.70s/it, ['local weather conditions']]"
     ]
    },
    {
     "name": "stderr",
     "output_type": "stream",
     "text": [
      "\r",
      "Loss: 0.027:  33%|██▉      | 271/814 [06:35<15:21,  1.70s/it, ['local weather conditions']]"
     ]
    },
    {
     "name": "stderr",
     "output_type": "stream",
     "text": [
      "\r",
      "Loss: 0.027:  33%|███      | 272/814 [06:35<16:00,  1.77s/it, ['local weather conditions']]"
     ]
    },
    {
     "name": "stderr",
     "output_type": "stream",
     "text": [
      "\r",
      "Loss: 0.025:  33%|███      | 272/814 [06:36<16:00,  1.77s/it, ['local weather conditions']]"
     ]
    },
    {
     "name": "stderr",
     "output_type": "stream",
     "text": [
      "\r",
      "Loss: 0.025:  33%|███      | 272/814 [06:36<16:00,  1.77s/it, ['local weather conditions']]"
     ]
    },
    {
     "name": "stderr",
     "output_type": "stream",
     "text": [
      "\r",
      "Loss: 0.025:  34%|███      | 273/814 [06:36<15:44,  1.75s/it, ['local weather conditions']]"
     ]
    },
    {
     "name": "stderr",
     "output_type": "stream",
     "text": [
      "\r",
      "Loss: 0.024:  34%|███      | 273/814 [06:38<15:44,  1.75s/it, ['local weather conditions']]"
     ]
    },
    {
     "name": "stderr",
     "output_type": "stream",
     "text": [
      "\r",
      "Loss: 0.024:  34%|███      | 273/814 [06:38<15:44,  1.75s/it, ['local weather conditions']]"
     ]
    },
    {
     "name": "stderr",
     "output_type": "stream",
     "text": [
      "\r",
      "Loss: 0.024:  34%|███      | 274/814 [06:38<15:15,  1.70s/it, ['local weather conditions']]"
     ]
    },
    {
     "name": "stderr",
     "output_type": "stream",
     "text": [
      "\r",
      "Loss: 0.024:  34%|███      | 274/814 [06:39<15:15,  1.70s/it, ['local weather conditions']]"
     ]
    },
    {
     "name": "stderr",
     "output_type": "stream",
     "text": [
      "\r",
      "Loss: 0.024:  34%|███      | 274/814 [06:39<15:15,  1.70s/it, ['local weather conditions']]"
     ]
    },
    {
     "name": "stderr",
     "output_type": "stream",
     "text": [
      "\r",
      "Loss: 0.024:  34%|███      | 275/814 [06:39<14:51,  1.65s/it, ['local weather conditions']]"
     ]
    },
    {
     "name": "stderr",
     "output_type": "stream",
     "text": [
      "\r",
      "Loss: 0.022:  34%|███      | 275/814 [06:41<14:51,  1.65s/it, ['local weather conditions']]"
     ]
    },
    {
     "name": "stderr",
     "output_type": "stream",
     "text": [
      "\r",
      "Loss: 0.022:  34%|███      | 275/814 [06:41<14:51,  1.65s/it, ['local weather conditions']]"
     ]
    },
    {
     "name": "stderr",
     "output_type": "stream",
     "text": [
      "\r",
      "Loss: 0.022:  34%|███      | 276/814 [06:41<14:13,  1.59s/it, ['local weather conditions']]"
     ]
    },
    {
     "name": "stderr",
     "output_type": "stream",
     "text": [
      "\r",
      "Loss: 0.022:  34%|███      | 276/814 [06:43<14:13,  1.59s/it, ['local weather conditions']]"
     ]
    },
    {
     "name": "stderr",
     "output_type": "stream",
     "text": [
      "\r",
      "Loss: 0.022:  34%|███      | 276/814 [06:43<14:13,  1.59s/it, ['local weather conditions']]"
     ]
    },
    {
     "name": "stderr",
     "output_type": "stream",
     "text": [
      "\r",
      "Loss: 0.022:  34%|███      | 277/814 [06:43<15:12,  1.70s/it, ['local weather conditions']]"
     ]
    },
    {
     "name": "stderr",
     "output_type": "stream",
     "text": [
      "\r",
      "Loss: 0.022:  34%|███      | 277/814 [06:45<15:12,  1.70s/it, ['local weather conditions']]"
     ]
    },
    {
     "name": "stderr",
     "output_type": "stream",
     "text": [
      "\r",
      "Loss: 0.022:  34%|███      | 277/814 [06:45<15:12,  1.70s/it, ['local weather conditions']]"
     ]
    },
    {
     "name": "stderr",
     "output_type": "stream",
     "text": [
      "\r",
      "Loss: 0.022:  34%|███      | 278/814 [06:45<15:50,  1.77s/it, ['local weather conditions']]"
     ]
    },
    {
     "name": "stderr",
     "output_type": "stream",
     "text": [
      "\r",
      "Loss: 0.021:  34%|███      | 278/814 [06:47<15:50,  1.77s/it, ['local weather conditions']]"
     ]
    },
    {
     "name": "stderr",
     "output_type": "stream",
     "text": [
      "\r",
      "Loss: 0.021:  34%|███      | 278/814 [06:47<15:50,  1.77s/it, ['local weather conditions']]"
     ]
    },
    {
     "name": "stderr",
     "output_type": "stream",
     "text": [
      "\r",
      "Loss: 0.021:  34%|███      | 279/814 [06:47<16:16,  1.82s/it, ['local weather conditions']]"
     ]
    },
    {
     "name": "stderr",
     "output_type": "stream",
     "text": [
      "\r",
      "Loss: 0.019:  34%|███      | 279/814 [06:49<16:16,  1.82s/it, ['local weather conditions']]"
     ]
    },
    {
     "name": "stderr",
     "output_type": "stream",
     "text": [
      "\r",
      "Loss: 0.019:  34%|███      | 279/814 [06:49<16:16,  1.82s/it, ['local weather conditions']]"
     ]
    },
    {
     "name": "stderr",
     "output_type": "stream",
     "text": [
      "\r",
      "Loss: 0.019:  34%|███      | 280/814 [06:49<16:28,  1.85s/it, ['local weather conditions']]"
     ]
    },
    {
     "name": "stderr",
     "output_type": "stream",
     "text": [
      "\r",
      "Loss: 0.017:  34%|███      | 280/814 [06:50<16:28,  1.85s/it, ['local weather conditions']]"
     ]
    },
    {
     "name": "stderr",
     "output_type": "stream",
     "text": [
      "\r",
      "Loss: 0.017:  34%|███      | 280/814 [06:50<16:28,  1.85s/it, ['local weather conditions']]"
     ]
    },
    {
     "name": "stderr",
     "output_type": "stream",
     "text": [
      "\r",
      "Loss: 0.017:  35%|███      | 281/814 [06:50<16:33,  1.86s/it, ['local weather conditions']]"
     ]
    },
    {
     "name": "stderr",
     "output_type": "stream",
     "text": [
      "\r",
      "Loss: 0.016:  35%|███      | 281/814 [06:52<16:33,  1.86s/it, ['local weather conditions']]"
     ]
    },
    {
     "name": "stderr",
     "output_type": "stream",
     "text": [
      "\r",
      "Loss: 0.016:  35%|███      | 281/814 [06:52<16:33,  1.86s/it, ['local weather conditions']]"
     ]
    },
    {
     "name": "stderr",
     "output_type": "stream",
     "text": [
      "\r",
      "Loss: 0.016:  35%|███      | 282/814 [06:52<16:39,  1.88s/it, ['local weather conditions']]"
     ]
    },
    {
     "name": "stderr",
     "output_type": "stream",
     "text": [
      "\r",
      "Loss: 0.016:  35%|███      | 282/814 [06:54<16:39,  1.88s/it, ['local weather conditions']]"
     ]
    },
    {
     "name": "stderr",
     "output_type": "stream",
     "text": [
      "\r",
      "Loss: 0.016:  35%|███      | 282/814 [06:54<16:39,  1.88s/it, ['local weather conditions']]"
     ]
    },
    {
     "name": "stderr",
     "output_type": "stream",
     "text": [
      "\r",
      "Loss: 0.016:  35%|███▏     | 283/814 [06:54<16:48,  1.90s/it, ['local weather conditions']]"
     ]
    },
    {
     "name": "stderr",
     "output_type": "stream",
     "text": [
      "\r",
      "Loss: 0.015:  35%|███▏     | 283/814 [06:56<16:48,  1.90s/it, ['local weather conditions']]"
     ]
    },
    {
     "name": "stderr",
     "output_type": "stream",
     "text": [
      "\r",
      "Loss: 0.015:  35%|███▏     | 283/814 [06:56<16:48,  1.90s/it, ['local weather conditions']]"
     ]
    },
    {
     "name": "stderr",
     "output_type": "stream",
     "text": [
      "\r",
      "Loss: 0.015:  35%|███▏     | 284/814 [06:56<16:46,  1.90s/it, ['local weather conditions']]"
     ]
    },
    {
     "name": "stderr",
     "output_type": "stream",
     "text": [
      "\r",
      "Loss: 0.014:  35%|███▏     | 284/814 [06:58<16:46,  1.90s/it, ['local weather conditions']]"
     ]
    },
    {
     "name": "stderr",
     "output_type": "stream",
     "text": [
      "\r",
      "Loss: 0.014:  35%|███▏     | 284/814 [06:58<16:46,  1.90s/it, ['local weather conditions']]"
     ]
    },
    {
     "name": "stderr",
     "output_type": "stream",
     "text": [
      "\r",
      "Loss: 0.014:  35%|███▏     | 285/814 [06:58<16:55,  1.92s/it, ['local weather conditions']]"
     ]
    },
    {
     "name": "stderr",
     "output_type": "stream",
     "text": [
      "\r",
      "Loss: 0.013:  35%|███▏     | 285/814 [07:00<16:55,  1.92s/it, ['local weather conditions']]"
     ]
    },
    {
     "name": "stderr",
     "output_type": "stream",
     "text": [
      "\r",
      "Loss: 0.013:  35%|███▏     | 285/814 [07:00<16:55,  1.92s/it, ['local weather conditions']]"
     ]
    },
    {
     "name": "stderr",
     "output_type": "stream",
     "text": [
      "\r",
      "Loss: 0.013:  35%|███▏     | 286/814 [07:00<16:54,  1.92s/it, ['local weather conditions']]"
     ]
    },
    {
     "name": "stderr",
     "output_type": "stream",
     "text": [
      "\r",
      "Loss: 0.012:  35%|███▏     | 286/814 [07:01<16:54,  1.92s/it, ['local weather conditions']]"
     ]
    },
    {
     "name": "stderr",
     "output_type": "stream",
     "text": [
      "\r",
      "Loss: 0.012:  35%|███▏     | 286/814 [07:01<16:54,  1.92s/it, ['local weather conditions']]"
     ]
    },
    {
     "name": "stderr",
     "output_type": "stream",
     "text": [
      "\r",
      "Loss: 0.012:  35%|███▏     | 287/814 [07:01<14:53,  1.70s/it, ['local weather conditions']]"
     ]
    },
    {
     "name": "stderr",
     "output_type": "stream",
     "text": [
      "\r",
      "Loss: 0.011:  35%|███▏     | 287/814 [07:03<14:53,  1.70s/it, ['local weather conditions']]"
     ]
    },
    {
     "name": "stderr",
     "output_type": "stream",
     "text": [
      "\r",
      "Loss: 0.011:  35%|███▏     | 287/814 [07:03<14:53,  1.70s/it, ['local weather conditions']]"
     ]
    },
    {
     "name": "stderr",
     "output_type": "stream",
     "text": [
      "\r",
      "Loss: 0.011:  35%|███▏     | 288/814 [07:03<13:58,  1.59s/it, ['local weather conditions']]"
     ]
    },
    {
     "name": "stderr",
     "output_type": "stream",
     "text": [
      "\r",
      "Loss: 0.010:  35%|███▏     | 288/814 [07:05<13:58,  1.59s/it, ['local weather conditions']]"
     ]
    },
    {
     "name": "stderr",
     "output_type": "stream",
     "text": [
      "\r",
      "Loss: 0.010:  35%|███▏     | 288/814 [07:05<13:58,  1.59s/it, ['local weather conditions']]"
     ]
    },
    {
     "name": "stderr",
     "output_type": "stream",
     "text": [
      "\r",
      "Loss: 0.010:  36%|███▏     | 289/814 [07:05<14:48,  1.69s/it, ['local weather conditions']]"
     ]
    },
    {
     "name": "stderr",
     "output_type": "stream",
     "text": [
      "\r",
      "Loss: 0.015:  36%|███▏     | 289/814 [07:06<14:48,  1.69s/it, ['local weather conditions']]"
     ]
    },
    {
     "name": "stderr",
     "output_type": "stream",
     "text": [
      "\r",
      "Loss: 0.015:  36%|███▏     | 289/814 [07:06<14:48,  1.69s/it, ['local weather conditions']]"
     ]
    },
    {
     "name": "stderr",
     "output_type": "stream",
     "text": [
      "\r",
      "Loss: 0.015:  36%|███▏     | 290/814 [07:06<15:00,  1.72s/it, ['local weather conditions']]"
     ]
    },
    {
     "name": "stderr",
     "output_type": "stream",
     "text": [
      "\r",
      "Loss: 0.014:  36%|███▏     | 290/814 [07:07<15:00,  1.72s/it, ['local weather conditions']]"
     ]
    },
    {
     "name": "stderr",
     "output_type": "stream",
     "text": [
      "\r",
      "Loss: 0.014:  36%|███▏     | 290/814 [07:07<15:00,  1.72s/it, ['local weather conditions']]"
     ]
    },
    {
     "name": "stderr",
     "output_type": "stream",
     "text": [
      "\r",
      "Loss: 0.014:  36%|███▏     | 291/814 [07:07<13:30,  1.55s/it, ['local weather conditions']]"
     ]
    },
    {
     "name": "stderr",
     "output_type": "stream",
     "text": [
      "\r",
      "Loss: 0.013:  36%|███▏     | 291/814 [07:09<13:30,  1.55s/it, ['local weather conditions']]"
     ]
    },
    {
     "name": "stderr",
     "output_type": "stream",
     "text": [
      "\r",
      "Loss: 0.013:  36%|███▏     | 291/814 [07:09<13:30,  1.55s/it, ['local weather conditions']]"
     ]
    },
    {
     "name": "stderr",
     "output_type": "stream",
     "text": [
      "\r",
      "Loss: 0.013:  36%|███▏     | 292/814 [07:09<14:19,  1.65s/it, ['local weather conditions']]"
     ]
    },
    {
     "name": "stderr",
     "output_type": "stream",
     "text": [
      "\r",
      "Loss: 0.025:  36%|███▏     | 292/814 [07:11<14:19,  1.65s/it, ['local weather conditions']]"
     ]
    },
    {
     "name": "stderr",
     "output_type": "stream",
     "text": [
      "\r",
      "Loss: 0.025:  36%|███▏     | 292/814 [07:11<14:19,  1.65s/it, ['local weather conditions']]"
     ]
    },
    {
     "name": "stderr",
     "output_type": "stream",
     "text": [
      "\r",
      "Loss: 0.025:  36%|███▏     | 293/814 [07:11<13:52,  1.60s/it, ['local weather conditions']]"
     ]
    },
    {
     "name": "stderr",
     "output_type": "stream",
     "text": [
      "\r",
      "Loss: 0.022:  36%|███▏     | 293/814 [07:13<13:52,  1.60s/it, ['local weather conditions']]"
     ]
    },
    {
     "name": "stderr",
     "output_type": "stream",
     "text": [
      "\r",
      "Loss: 0.022:  36%|███▏     | 293/814 [07:13<13:52,  1.60s/it, ['local weather conditions']]"
     ]
    },
    {
     "name": "stderr",
     "output_type": "stream",
     "text": [
      "\r",
      "Loss: 0.022:  36%|███▎     | 294/814 [07:13<14:42,  1.70s/it, ['local weather conditions']]"
     ]
    },
    {
     "name": "stderr",
     "output_type": "stream",
     "text": [
      "\r",
      "Loss: 0.026:  36%|███▎     | 294/814 [07:15<14:42,  1.70s/it, ['local weather conditions']]"
     ]
    },
    {
     "name": "stderr",
     "output_type": "stream",
     "text": [
      "\r",
      "Loss: 0.026:  36%|███▎     | 294/814 [07:15<14:42,  1.70s/it, ['local weather conditions']]"
     ]
    },
    {
     "name": "stderr",
     "output_type": "stream",
     "text": [
      "\r",
      "Loss: 0.026:  36%|███▎     | 295/814 [07:15<15:13,  1.76s/it, ['local weather conditions']]"
     ]
    },
    {
     "name": "stderr",
     "output_type": "stream",
     "text": [
      "\r",
      "Loss: 0.024:  36%|███▎     | 295/814 [07:17<15:13,  1.76s/it, ['local weather conditions']]"
     ]
    },
    {
     "name": "stderr",
     "output_type": "stream",
     "text": [
      "\r",
      "Loss: 0.024:  36%|███▎     | 295/814 [07:17<15:13,  1.76s/it, ['local weather conditions']]"
     ]
    },
    {
     "name": "stderr",
     "output_type": "stream",
     "text": [
      "\r",
      "Loss: 0.024:  36%|███▎     | 296/814 [07:17<15:33,  1.80s/it, ['local weather conditions']]"
     ]
    },
    {
     "name": "stderr",
     "output_type": "stream",
     "text": [
      "\r",
      "Loss: 0.022:  36%|███▎     | 296/814 [07:18<15:33,  1.80s/it, ['local weather conditions']]"
     ]
    },
    {
     "name": "stderr",
     "output_type": "stream",
     "text": [
      "\r",
      "Loss: 0.022:  36%|███▎     | 296/814 [07:18<15:33,  1.80s/it, ['local weather conditions']]"
     ]
    },
    {
     "name": "stderr",
     "output_type": "stream",
     "text": [
      "\r",
      "Loss: 0.022:  36%|███▎     | 297/814 [07:18<15:50,  1.84s/it, ['local weather conditions']]"
     ]
    },
    {
     "name": "stderr",
     "output_type": "stream",
     "text": [
      "\r",
      "Loss: 0.020:  36%|███▎     | 297/814 [07:20<15:50,  1.84s/it, ['local weather conditions']]"
     ]
    },
    {
     "name": "stderr",
     "output_type": "stream",
     "text": [
      "\r",
      "Loss: 0.020:  36%|███▎     | 297/814 [07:20<15:50,  1.84s/it, ['local weather conditions']]"
     ]
    },
    {
     "name": "stderr",
     "output_type": "stream",
     "text": [
      "\r",
      "Loss: 0.020:  37%|███▎     | 298/814 [07:20<16:03,  1.87s/it, ['local weather conditions']]"
     ]
    },
    {
     "name": "stderr",
     "output_type": "stream",
     "text": [
      "\r",
      "Loss: 0.057:  37%|███▎     | 298/814 [07:22<16:03,  1.87s/it, ['local weather conditions']]"
     ]
    },
    {
     "name": "stderr",
     "output_type": "stream",
     "text": [
      "\r",
      "Loss: 0.057:  37%|███▎     | 298/814 [07:22<16:03,  1.87s/it, ['local weather conditions']]"
     ]
    },
    {
     "name": "stderr",
     "output_type": "stream",
     "text": [
      "\r",
      "Loss: 0.057:  37%|███▎     | 299/814 [07:22<16:12,  1.89s/it, ['local weather conditions']]"
     ]
    },
    {
     "name": "stderr",
     "output_type": "stream",
     "text": [
      "\r",
      "Loss: 0.051:  37%|███▎     | 299/814 [07:25<16:12,  1.89s/it, ['local weather conditions']]"
     ]
    },
    {
     "name": "stderr",
     "output_type": "stream",
     "text": [
      "\r",
      "Loss: 0.051:  37%|███▎     | 299/814 [07:25<16:12,  1.89s/it, ['local weather conditions']]"
     ]
    },
    {
     "name": "stderr",
     "output_type": "stream",
     "text": [
      "\r",
      "Loss: 0.051:  37%|███▎     | 300/814 [07:25<18:39,  2.18s/it, ['local weather conditions']]"
     ]
    },
    {
     "name": "stderr",
     "output_type": "stream",
     "text": [
      "\r",
      "Loss: 0.046:  37%|███▎     | 300/814 [07:27<18:39,  2.18s/it, ['local weather conditions']]"
     ]
    },
    {
     "name": "stderr",
     "output_type": "stream",
     "text": [
      "\r",
      "Loss: 0.046:  37%|███▎     | 300/814 [07:27<18:39,  2.18s/it, ['local weather conditions']]"
     ]
    },
    {
     "name": "stderr",
     "output_type": "stream",
     "text": [
      "\r",
      "Loss: 0.046:  37%|███▎     | 301/814 [07:27<18:03,  2.11s/it, ['local weather conditions']]"
     ]
    },
    {
     "name": "stderr",
     "output_type": "stream",
     "text": [
      "\r",
      "Loss: 0.042:  37%|███▎     | 301/814 [07:29<18:03,  2.11s/it, ['local weather conditions']]"
     ]
    },
    {
     "name": "stderr",
     "output_type": "stream",
     "text": [
      "\r",
      "Loss: 0.042:  37%|███▎     | 301/814 [07:29<18:03,  2.11s/it, ['local weather conditions']]"
     ]
    },
    {
     "name": "stderr",
     "output_type": "stream",
     "text": [
      "\r",
      "Loss: 0.042:  37%|███▎     | 302/814 [07:29<17:35,  2.06s/it, ['local weather conditions']]"
     ]
    },
    {
     "name": "stderr",
     "output_type": "stream",
     "text": [
      "\r",
      "Loss: 0.047:  37%|███▎     | 302/814 [07:31<17:35,  2.06s/it, ['local weather conditions']]"
     ]
    },
    {
     "name": "stderr",
     "output_type": "stream",
     "text": [
      "\r",
      "Loss: 0.047:  37%|███▎     | 302/814 [07:31<17:35,  2.06s/it, ['local weather conditions']]"
     ]
    },
    {
     "name": "stderr",
     "output_type": "stream",
     "text": [
      "\r",
      "Loss: 0.047:  37%|███▎     | 303/814 [07:31<17:17,  2.03s/it, ['local weather conditions']]"
     ]
    },
    {
     "name": "stderr",
     "output_type": "stream",
     "text": [
      "\r",
      "Loss: 0.046:  37%|███▎     | 303/814 [07:33<17:17,  2.03s/it, ['local weather conditions']]"
     ]
    },
    {
     "name": "stderr",
     "output_type": "stream",
     "text": [
      "\r",
      "Loss: 0.046:  37%|███▎     | 303/814 [07:33<17:17,  2.03s/it, ['local weather conditions']]"
     ]
    },
    {
     "name": "stderr",
     "output_type": "stream",
     "text": [
      "\r",
      "Loss: 0.046:  37%|███▎     | 304/814 [07:33<17:00,  2.00s/it, ['local weather conditions']]"
     ]
    },
    {
     "name": "stderr",
     "output_type": "stream",
     "text": [
      "\r",
      "Loss: 0.044:  37%|███▎     | 304/814 [07:35<17:00,  2.00s/it, ['local weather conditions']]"
     ]
    },
    {
     "name": "stderr",
     "output_type": "stream",
     "text": [
      "\r",
      "Loss: 0.044:  37%|███▎     | 304/814 [07:35<17:00,  2.00s/it, ['local weather conditions']]"
     ]
    },
    {
     "name": "stderr",
     "output_type": "stream",
     "text": [
      "\r",
      "Loss: 0.044:  37%|███▎     | 305/814 [07:35<16:37,  1.96s/it, ['local weather conditions']]"
     ]
    },
    {
     "name": "stderr",
     "output_type": "stream",
     "text": [
      "\r",
      "Loss: 0.043:  37%|███▎     | 305/814 [07:36<16:37,  1.96s/it, ['local weather conditions']]"
     ]
    },
    {
     "name": "stderr",
     "output_type": "stream",
     "text": [
      "\r",
      "Loss: 0.043:  37%|███▎     | 305/814 [07:36<16:37,  1.96s/it, ['local weather conditions']]"
     ]
    },
    {
     "name": "stderr",
     "output_type": "stream",
     "text": [
      "\r",
      "Loss: 0.043:  38%|███▍     | 306/814 [07:36<14:44,  1.74s/it, ['local weather conditions']]"
     ]
    },
    {
     "name": "stderr",
     "output_type": "stream",
     "text": [
      "\r",
      "Loss: 0.046:  38%|███▍     | 306/814 [07:38<14:44,  1.74s/it, ['local weather conditions']]"
     ]
    },
    {
     "name": "stderr",
     "output_type": "stream",
     "text": [
      "\r",
      "Loss: 0.046:  38%|███▍     | 306/814 [07:38<14:44,  1.74s/it, ['local weather conditions']]"
     ]
    },
    {
     "name": "stderr",
     "output_type": "stream",
     "text": [
      "\r",
      "Loss: 0.046:  38%|███▍     | 307/814 [07:38<15:08,  1.79s/it, ['local weather conditions']]"
     ]
    },
    {
     "name": "stderr",
     "output_type": "stream",
     "text": [
      "\r",
      "Loss: 0.041:  38%|███▍     | 307/814 [07:40<15:08,  1.79s/it, ['local weather conditions']]"
     ]
    },
    {
     "name": "stderr",
     "output_type": "stream",
     "text": [
      "\r",
      "Loss: 0.041:  38%|███▍     | 307/814 [07:40<15:08,  1.79s/it, ['local weather conditions']]"
     ]
    },
    {
     "name": "stderr",
     "output_type": "stream",
     "text": [
      "\r",
      "Loss: 0.041:  38%|███▍     | 308/814 [07:40<15:25,  1.83s/it, ['local weather conditions']]"
     ]
    },
    {
     "name": "stderr",
     "output_type": "stream",
     "text": [
      "\r",
      "Loss: 0.037:  38%|███▍     | 308/814 [07:42<15:25,  1.83s/it, ['local weather conditions']]"
     ]
    },
    {
     "name": "stderr",
     "output_type": "stream",
     "text": [
      "\r",
      "Loss: 0.037:  38%|███▍     | 308/814 [07:42<15:25,  1.83s/it, ['local weather conditions']]"
     ]
    },
    {
     "name": "stderr",
     "output_type": "stream",
     "text": [
      "\r",
      "Loss: 0.037:  38%|███▍     | 309/814 [07:42<15:39,  1.86s/it, ['local weather conditions']]"
     ]
    },
    {
     "name": "stderr",
     "output_type": "stream",
     "text": [
      "\r",
      "Loss: 0.034:  38%|███▍     | 309/814 [07:44<15:39,  1.86s/it, ['local weather conditions']]"
     ]
    },
    {
     "name": "stderr",
     "output_type": "stream",
     "text": [
      "\r",
      "Loss: 0.034:  38%|███▍     | 309/814 [07:44<15:39,  1.86s/it, ['local weather conditions']]"
     ]
    },
    {
     "name": "stderr",
     "output_type": "stream",
     "text": [
      "\r",
      "Loss: 0.034:  38%|███▍     | 310/814 [07:44<15:51,  1.89s/it, ['local weather conditions']]"
     ]
    },
    {
     "name": "stderr",
     "output_type": "stream",
     "text": [
      "\r",
      "Loss: 0.030:  38%|███▍     | 310/814 [07:46<15:51,  1.89s/it, ['local weather conditions']]"
     ]
    },
    {
     "name": "stderr",
     "output_type": "stream",
     "text": [
      "\r",
      "Loss: 0.030:  38%|███▍     | 310/814 [07:46<15:51,  1.89s/it, ['local weather conditions']]"
     ]
    },
    {
     "name": "stderr",
     "output_type": "stream",
     "text": [
      "\r",
      "Loss: 0.030:  38%|███▍     | 311/814 [07:46<15:56,  1.90s/it, ['local weather conditions']]"
     ]
    },
    {
     "name": "stderr",
     "output_type": "stream",
     "text": [
      "\r",
      "Loss: 0.033:  38%|███▍     | 311/814 [07:48<15:56,  1.90s/it, ['local weather conditions']]"
     ]
    },
    {
     "name": "stderr",
     "output_type": "stream",
     "text": [
      "\r",
      "Loss: 0.033:  38%|███▍     | 311/814 [07:48<15:56,  1.90s/it, ['local weather conditions']]"
     ]
    },
    {
     "name": "stderr",
     "output_type": "stream",
     "text": [
      "\r",
      "Loss: 0.033:  38%|███▍     | 312/814 [07:48<15:51,  1.89s/it, ['local weather conditions']]"
     ]
    },
    {
     "name": "stderr",
     "output_type": "stream",
     "text": [
      "\r",
      "Loss: 0.033:  38%|███▍     | 312/814 [07:50<15:51,  1.89s/it, ['local weather conditions']]"
     ]
    },
    {
     "name": "stderr",
     "output_type": "stream",
     "text": [
      "\r",
      "Loss: 0.033:  38%|███▍     | 312/814 [07:50<15:51,  1.89s/it, ['local weather conditions']]"
     ]
    },
    {
     "name": "stderr",
     "output_type": "stream",
     "text": [
      "\r",
      "Loss: 0.033:  38%|███▍     | 313/814 [07:50<15:52,  1.90s/it, ['local weather conditions']]"
     ]
    },
    {
     "name": "stderr",
     "output_type": "stream",
     "text": [
      "\r",
      "Loss: 0.029:  38%|███▍     | 313/814 [07:51<15:52,  1.90s/it, ['local weather conditions']]"
     ]
    },
    {
     "name": "stderr",
     "output_type": "stream",
     "text": [
      "\r",
      "Loss: 0.029:  38%|███▍     | 313/814 [07:51<15:52,  1.90s/it, ['local weather conditions']]"
     ]
    },
    {
     "name": "stderr",
     "output_type": "stream",
     "text": [
      "\r",
      "Loss: 0.029:  39%|███▍     | 314/814 [07:51<14:20,  1.72s/it, ['local weather conditions']]"
     ]
    },
    {
     "name": "stderr",
     "output_type": "stream",
     "text": [
      "\r",
      "Loss: 0.027:  39%|███▍     | 314/814 [07:53<14:20,  1.72s/it, ['local weather conditions']]"
     ]
    },
    {
     "name": "stderr",
     "output_type": "stream",
     "text": [
      "\r",
      "Loss: 0.027:  39%|███▍     | 314/814 [07:53<14:20,  1.72s/it, ['local weather conditions']]"
     ]
    },
    {
     "name": "stderr",
     "output_type": "stream",
     "text": [
      "\r",
      "Loss: 0.027:  39%|███▍     | 315/814 [07:53<14:46,  1.78s/it, ['local weather conditions']]"
     ]
    },
    {
     "name": "stderr",
     "output_type": "stream",
     "text": [
      "\r",
      "Loss: 0.024:  39%|███▍     | 315/814 [07:55<14:46,  1.78s/it, ['local weather conditions']]"
     ]
    },
    {
     "name": "stderr",
     "output_type": "stream",
     "text": [
      "\r",
      "Loss: 0.024:  39%|███▍     | 315/814 [07:55<14:46,  1.78s/it, ['local weather conditions']]"
     ]
    },
    {
     "name": "stderr",
     "output_type": "stream",
     "text": [
      "\r",
      "Loss: 0.024:  39%|███▍     | 316/814 [07:55<15:07,  1.82s/it, ['local weather conditions']]"
     ]
    },
    {
     "name": "stderr",
     "output_type": "stream",
     "text": [
      "\r",
      "Loss: 0.027:  39%|███▍     | 316/814 [07:57<15:07,  1.82s/it, ['local weather conditions']]"
     ]
    },
    {
     "name": "stderr",
     "output_type": "stream",
     "text": [
      "\r",
      "Loss: 0.027:  39%|███▍     | 316/814 [07:57<15:07,  1.82s/it, ['local weather conditions']]"
     ]
    },
    {
     "name": "stderr",
     "output_type": "stream",
     "text": [
      "\r",
      "Loss: 0.027:  39%|███▌     | 317/814 [07:57<15:22,  1.86s/it, ['local weather conditions']]"
     ]
    },
    {
     "name": "stderr",
     "output_type": "stream",
     "text": [
      "\r",
      "Loss: 0.026:  39%|███▌     | 317/814 [07:58<15:22,  1.86s/it, ['local weather conditions']]"
     ]
    },
    {
     "name": "stderr",
     "output_type": "stream",
     "text": [
      "\r",
      "Loss: 0.026:  39%|███▌     | 317/814 [07:58<15:22,  1.86s/it, ['local weather conditions']]"
     ]
    },
    {
     "name": "stderr",
     "output_type": "stream",
     "text": [
      "\r",
      "Loss: 0.026:  39%|███▌     | 318/814 [07:58<15:14,  1.84s/it, ['local weather conditions']]"
     ]
    },
    {
     "name": "stderr",
     "output_type": "stream",
     "text": [
      "\r",
      "Loss: 0.026:  39%|███▌     | 318/814 [08:00<15:14,  1.84s/it, ['local weather conditions']]"
     ]
    },
    {
     "name": "stderr",
     "output_type": "stream",
     "text": [
      "\r",
      "Loss: 0.026:  39%|███▌     | 318/814 [08:00<15:14,  1.84s/it, ['local weather conditions']]"
     ]
    },
    {
     "name": "stderr",
     "output_type": "stream",
     "text": [
      "\r",
      "Loss: 0.026:  39%|███▌     | 319/814 [08:00<15:24,  1.87s/it, ['local weather conditions']]"
     ]
    },
    {
     "name": "stderr",
     "output_type": "stream",
     "text": [
      "\r",
      "Loss: 0.024:  39%|███▌     | 319/814 [08:02<15:24,  1.87s/it, ['local weather conditions']]"
     ]
    },
    {
     "name": "stderr",
     "output_type": "stream",
     "text": [
      "\r",
      "Loss: 0.024:  39%|███▌     | 319/814 [08:02<15:24,  1.87s/it, ['local weather conditions']]"
     ]
    },
    {
     "name": "stderr",
     "output_type": "stream",
     "text": [
      "\r",
      "Loss: 0.024:  39%|███▌     | 320/814 [08:02<15:30,  1.88s/it, ['local weather conditions']]"
     ]
    },
    {
     "name": "stderr",
     "output_type": "stream",
     "text": [
      "\r",
      "Loss: 0.024:  39%|███▌     | 320/814 [08:04<15:30,  1.88s/it, ['local weather conditions']]"
     ]
    },
    {
     "name": "stderr",
     "output_type": "stream",
     "text": [
      "\r",
      "Loss: 0.024:  39%|███▌     | 320/814 [08:04<15:30,  1.88s/it, ['local weather conditions']]"
     ]
    },
    {
     "name": "stderr",
     "output_type": "stream",
     "text": [
      "\r",
      "Loss: 0.024:  39%|███▌     | 321/814 [08:04<15:31,  1.89s/it, ['local weather conditions']]"
     ]
    },
    {
     "name": "stderr",
     "output_type": "stream",
     "text": [
      "\r",
      "Loss: 0.022:  39%|███▌     | 321/814 [08:06<15:31,  1.89s/it, ['local weather conditions']]"
     ]
    },
    {
     "name": "stderr",
     "output_type": "stream",
     "text": [
      "\r",
      "Loss: 0.022:  39%|███▌     | 321/814 [08:06<15:31,  1.89s/it, ['local weather conditions']]"
     ]
    },
    {
     "name": "stderr",
     "output_type": "stream",
     "text": [
      "\r",
      "Loss: 0.022:  40%|███▌     | 322/814 [08:06<15:41,  1.91s/it, ['local weather conditions']]"
     ]
    },
    {
     "name": "stderr",
     "output_type": "stream",
     "text": [
      "\r",
      "Loss: 0.020:  40%|███▌     | 322/814 [08:08<15:41,  1.91s/it, ['local weather conditions']]"
     ]
    },
    {
     "name": "stderr",
     "output_type": "stream",
     "text": [
      "\r",
      "Loss: 0.020:  40%|███▌     | 322/814 [08:08<15:41,  1.91s/it, ['local weather conditions']]"
     ]
    },
    {
     "name": "stderr",
     "output_type": "stream",
     "text": [
      "\r",
      "Loss: 0.020:  40%|███▌     | 323/814 [08:08<15:41,  1.92s/it, ['local weather conditions']]"
     ]
    },
    {
     "name": "stderr",
     "output_type": "stream",
     "text": [
      "\r",
      "Loss: 0.018:  40%|███▌     | 323/814 [08:10<15:41,  1.92s/it, ['local weather conditions']]"
     ]
    },
    {
     "name": "stderr",
     "output_type": "stream",
     "text": [
      "\r",
      "Loss: 0.018:  40%|███▌     | 323/814 [08:10<15:41,  1.92s/it, ['local weather conditions']]"
     ]
    },
    {
     "name": "stderr",
     "output_type": "stream",
     "text": [
      "\r",
      "Loss: 0.018:  40%|███▌     | 324/814 [08:10<15:40,  1.92s/it, ['local weather conditions']]"
     ]
    },
    {
     "name": "stderr",
     "output_type": "stream",
     "text": [
      "\r",
      "Loss: 0.016:  40%|███▌     | 324/814 [08:11<15:40,  1.92s/it, ['local weather conditions']]"
     ]
    },
    {
     "name": "stderr",
     "output_type": "stream",
     "text": [
      "\r",
      "Loss: 0.016:  40%|███▌     | 324/814 [08:11<15:40,  1.92s/it, ['local weather conditions']]"
     ]
    },
    {
     "name": "stderr",
     "output_type": "stream",
     "text": [
      "\r",
      "Loss: 0.016:  40%|███▌     | 325/814 [08:11<13:45,  1.69s/it, ['local weather conditions']]"
     ]
    },
    {
     "name": "stderr",
     "output_type": "stream",
     "text": [
      "\r",
      "Loss: 0.015:  40%|███▌     | 325/814 [08:12<13:45,  1.69s/it, ['local weather conditions']]"
     ]
    },
    {
     "name": "stderr",
     "output_type": "stream",
     "text": [
      "\r",
      "Loss: 0.015:  40%|███▌     | 325/814 [08:12<13:45,  1.69s/it, ['local weather conditions']]"
     ]
    },
    {
     "name": "stderr",
     "output_type": "stream",
     "text": [
      "\r",
      "Loss: 0.015:  40%|███▌     | 326/814 [08:12<12:40,  1.56s/it, ['local weather conditions']]"
     ]
    },
    {
     "name": "stderr",
     "output_type": "stream",
     "text": [
      "\r",
      "Loss: 0.014:  40%|███▌     | 326/814 [08:14<12:40,  1.56s/it, ['local weather conditions']]"
     ]
    },
    {
     "name": "stderr",
     "output_type": "stream",
     "text": [
      "\r",
      "Loss: 0.014:  40%|███▌     | 326/814 [08:14<12:40,  1.56s/it, ['local weather conditions']]"
     ]
    },
    {
     "name": "stderr",
     "output_type": "stream",
     "text": [
      "\r",
      "Loss: 0.014:  40%|███▌     | 327/814 [08:14<13:35,  1.67s/it, ['local weather conditions']]"
     ]
    },
    {
     "name": "stderr",
     "output_type": "stream",
     "text": [
      "\r",
      "Loss: 0.013:  40%|███▌     | 327/814 [08:16<13:35,  1.67s/it, ['local weather conditions']]"
     ]
    },
    {
     "name": "stderr",
     "output_type": "stream",
     "text": [
      "\r",
      "Loss: 0.013:  40%|███▌     | 327/814 [08:16<13:35,  1.67s/it, ['local weather conditions']]"
     ]
    },
    {
     "name": "stderr",
     "output_type": "stream",
     "text": [
      "\r",
      "Loss: 0.013:  40%|███▋     | 328/814 [08:16<14:15,  1.76s/it, ['local weather conditions']]"
     ]
    },
    {
     "name": "stderr",
     "output_type": "stream",
     "text": [
      "\r",
      "Loss: 0.012:  40%|███▋     | 328/814 [08:18<14:15,  1.76s/it, ['local weather conditions']]"
     ]
    },
    {
     "name": "stderr",
     "output_type": "stream",
     "text": [
      "\r",
      "Loss: 0.012:  40%|███▋     | 328/814 [08:18<14:15,  1.76s/it, ['local weather conditions']]"
     ]
    },
    {
     "name": "stderr",
     "output_type": "stream",
     "text": [
      "\r",
      "Loss: 0.012:  40%|███▋     | 329/814 [08:18<14:35,  1.80s/it, ['local weather conditions']]"
     ]
    },
    {
     "name": "stderr",
     "output_type": "stream",
     "text": [
      "\r",
      "Loss: 0.011:  40%|███▋     | 329/814 [08:20<14:35,  1.80s/it, ['local weather conditions']]"
     ]
    },
    {
     "name": "stderr",
     "output_type": "stream",
     "text": [
      "\r",
      "Loss: 0.011:  40%|███▋     | 329/814 [08:20<14:35,  1.80s/it, ['local weather conditions']]"
     ]
    },
    {
     "name": "stderr",
     "output_type": "stream",
     "text": [
      "\r",
      "Loss: 0.011:  41%|███▋     | 330/814 [08:20<14:49,  1.84s/it, ['local weather conditions']]"
     ]
    },
    {
     "name": "stderr",
     "output_type": "stream",
     "text": [
      "\r",
      "Loss: 0.010:  41%|███▋     | 330/814 [08:22<14:49,  1.84s/it, ['local weather conditions']]"
     ]
    },
    {
     "name": "stderr",
     "output_type": "stream",
     "text": [
      "\r",
      "Loss: 0.010:  41%|███▋     | 330/814 [08:22<14:49,  1.84s/it, ['local weather conditions']]"
     ]
    },
    {
     "name": "stderr",
     "output_type": "stream",
     "text": [
      "\r",
      "Loss: 0.010:  41%|███▋     | 331/814 [08:22<14:34,  1.81s/it, ['local weather conditions']]"
     ]
    },
    {
     "name": "stderr",
     "output_type": "stream",
     "text": [
      "\r",
      "Loss: 0.009:  41%|███▋     | 331/814 [08:23<14:34,  1.81s/it, ['local weather conditions']]"
     ]
    },
    {
     "name": "stderr",
     "output_type": "stream",
     "text": [
      "\r",
      "Loss: 0.009:  41%|███▋     | 331/814 [08:23<14:34,  1.81s/it, ['local weather conditions']]"
     ]
    },
    {
     "name": "stderr",
     "output_type": "stream",
     "text": [
      "\r",
      "Loss: 0.009:  41%|███▋     | 332/814 [08:23<13:01,  1.62s/it, ['local weather conditions']]"
     ]
    },
    {
     "name": "stderr",
     "output_type": "stream",
     "text": [
      "\r",
      "Loss: 0.008:  41%|███▋     | 332/814 [08:25<13:01,  1.62s/it, ['local weather conditions']]"
     ]
    },
    {
     "name": "stderr",
     "output_type": "stream",
     "text": [
      "\r",
      "Loss: 0.008:  41%|███▋     | 332/814 [08:25<13:01,  1.62s/it, ['local weather conditions']]"
     ]
    },
    {
     "name": "stderr",
     "output_type": "stream",
     "text": [
      "\r",
      "Loss: 0.008:  41%|███▋     | 333/814 [08:25<13:45,  1.72s/it, ['local weather conditions']]"
     ]
    },
    {
     "name": "stderr",
     "output_type": "stream",
     "text": [
      "\r",
      "Loss: 0.007:  41%|███▋     | 333/814 [08:27<13:45,  1.72s/it, ['local weather conditions']]"
     ]
    },
    {
     "name": "stderr",
     "output_type": "stream",
     "text": [
      "\r",
      "Loss: 0.007:  41%|███▋     | 333/814 [08:27<13:45,  1.72s/it, ['local weather conditions']]"
     ]
    },
    {
     "name": "stderr",
     "output_type": "stream",
     "text": [
      "\r",
      "Loss: 0.007:  41%|███▋     | 334/814 [08:27<14:14,  1.78s/it, ['local weather conditions']]"
     ]
    },
    {
     "name": "stderr",
     "output_type": "stream",
     "text": [
      "\r",
      "Loss: 0.009:  41%|███▋     | 334/814 [08:29<14:14,  1.78s/it, ['local weather conditions']]"
     ]
    },
    {
     "name": "stderr",
     "output_type": "stream",
     "text": [
      "\r",
      "Loss: 0.009:  41%|███▋     | 334/814 [08:29<14:14,  1.78s/it, ['local weather conditions']]"
     ]
    },
    {
     "name": "stderr",
     "output_type": "stream",
     "text": [
      "\r",
      "Loss: 0.009:  41%|███▋     | 335/814 [08:29<14:28,  1.81s/it, ['local weather conditions']]"
     ]
    },
    {
     "name": "stderr",
     "output_type": "stream",
     "text": [
      "\r",
      "Loss: 0.053:  41%|███▋     | 335/814 [08:31<14:28,  1.81s/it, ['local weather conditions']]"
     ]
    },
    {
     "name": "stderr",
     "output_type": "stream",
     "text": [
      "\r",
      "Loss: 0.053:  41%|███▋     | 335/814 [08:31<14:28,  1.81s/it, ['local weather conditions']]"
     ]
    },
    {
     "name": "stderr",
     "output_type": "stream",
     "text": [
      "\r",
      "Loss: 0.053:  41%|███▋     | 336/814 [08:31<14:35,  1.83s/it, ['local weather conditions']]"
     ]
    },
    {
     "name": "stderr",
     "output_type": "stream",
     "text": [
      "\r",
      "Loss: 0.050:  41%|███▋     | 336/814 [08:33<14:35,  1.83s/it, ['local weather conditions']]"
     ]
    },
    {
     "name": "stderr",
     "output_type": "stream",
     "text": [
      "\r",
      "Loss: 0.050:  41%|███▋     | 336/814 [08:33<14:35,  1.83s/it, ['local weather conditions']]"
     ]
    },
    {
     "name": "stderr",
     "output_type": "stream",
     "text": [
      "\r",
      "Loss: 0.050:  41%|███▋     | 337/814 [08:33<14:39,  1.84s/it, ['local weather conditions']]"
     ]
    },
    {
     "name": "stderr",
     "output_type": "stream",
     "text": [
      "\r",
      "Loss: 0.047:  41%|███▋     | 337/814 [08:34<14:39,  1.84s/it, ['local weather conditions']]"
     ]
    },
    {
     "name": "stderr",
     "output_type": "stream",
     "text": [
      "\r",
      "Loss: 0.047:  41%|███▋     | 337/814 [08:34<14:39,  1.84s/it, ['local weather conditions']]"
     ]
    },
    {
     "name": "stderr",
     "output_type": "stream",
     "text": [
      "\r",
      "Loss: 0.047:  42%|███▋     | 338/814 [08:34<14:43,  1.86s/it, ['local weather conditions']]"
     ]
    },
    {
     "name": "stderr",
     "output_type": "stream",
     "text": [
      "\r",
      "Loss: 0.042:  42%|███▋     | 338/814 [08:36<14:43,  1.86s/it, ['local weather conditions']]"
     ]
    },
    {
     "name": "stderr",
     "output_type": "stream",
     "text": [
      "\r",
      "Loss: 0.042:  42%|███▋     | 338/814 [08:36<14:43,  1.86s/it, ['local weather conditions']]"
     ]
    },
    {
     "name": "stderr",
     "output_type": "stream",
     "text": [
      "\r",
      "Loss: 0.042:  42%|███▋     | 339/814 [08:36<14:45,  1.86s/it, ['local weather conditions']]"
     ]
    },
    {
     "name": "stderr",
     "output_type": "stream",
     "text": [
      "\r",
      "Loss: 0.038:  42%|███▋     | 339/814 [08:38<14:45,  1.86s/it, ['local weather conditions']]"
     ]
    },
    {
     "name": "stderr",
     "output_type": "stream",
     "text": [
      "\r",
      "Loss: 0.038:  42%|███▋     | 339/814 [08:38<14:45,  1.86s/it, ['local weather conditions']]"
     ]
    },
    {
     "name": "stderr",
     "output_type": "stream",
     "text": [
      "\r",
      "Loss: 0.038:  42%|███▊     | 340/814 [08:38<14:48,  1.88s/it, ['local weather conditions']]"
     ]
    },
    {
     "name": "stderr",
     "output_type": "stream",
     "text": [
      "\r",
      "Loss: 0.034:  42%|███▊     | 340/814 [08:40<14:48,  1.88s/it, ['local weather conditions']]"
     ]
    },
    {
     "name": "stderr",
     "output_type": "stream",
     "text": [
      "\r",
      "Loss: 0.034:  42%|███▊     | 340/814 [08:40<14:48,  1.88s/it, ['local weather conditions']]"
     ]
    },
    {
     "name": "stderr",
     "output_type": "stream",
     "text": [
      "\r",
      "Loss: 0.034:  42%|███▊     | 341/814 [08:40<13:46,  1.75s/it, ['local weather conditions']]"
     ]
    },
    {
     "name": "stderr",
     "output_type": "stream",
     "text": [
      "\r",
      "Loss: 0.031:  42%|███▊     | 341/814 [08:42<13:46,  1.75s/it, ['local weather conditions']]"
     ]
    },
    {
     "name": "stderr",
     "output_type": "stream",
     "text": [
      "\r",
      "Loss: 0.031:  42%|███▊     | 341/814 [08:42<13:46,  1.75s/it, ['local weather conditions']]"
     ]
    },
    {
     "name": "stderr",
     "output_type": "stream",
     "text": [
      "\r",
      "Loss: 0.031:  42%|███▊     | 342/814 [08:42<14:08,  1.80s/it, ['local weather conditions']]"
     ]
    },
    {
     "name": "stderr",
     "output_type": "stream",
     "text": [
      "\r",
      "Loss: 0.028:  42%|███▊     | 342/814 [08:43<14:08,  1.80s/it, ['local weather conditions']]"
     ]
    },
    {
     "name": "stderr",
     "output_type": "stream",
     "text": [
      "\r",
      "Loss: 0.028:  42%|███▊     | 342/814 [08:43<14:08,  1.80s/it, ['local weather conditions']]"
     ]
    },
    {
     "name": "stderr",
     "output_type": "stream",
     "text": [
      "\r",
      "Loss: 0.028:  42%|███▊     | 343/814 [08:43<14:23,  1.83s/it, ['local weather conditions']]"
     ]
    },
    {
     "name": "stderr",
     "output_type": "stream",
     "text": [
      "\r",
      "Loss: 0.026:  42%|███▊     | 343/814 [08:45<14:23,  1.83s/it, ['local weather conditions']]"
     ]
    },
    {
     "name": "stderr",
     "output_type": "stream",
     "text": [
      "\r",
      "Loss: 0.026:  42%|███▊     | 343/814 [08:45<14:23,  1.83s/it, ['local weather conditions']]"
     ]
    },
    {
     "name": "stderr",
     "output_type": "stream",
     "text": [
      "\r",
      "Loss: 0.026:  42%|███▊     | 344/814 [08:45<14:31,  1.85s/it, ['local weather conditions']]"
     ]
    },
    {
     "name": "stderr",
     "output_type": "stream",
     "text": [
      "\r",
      "Loss: 0.024:  42%|███▊     | 344/814 [08:47<14:31,  1.85s/it, ['local weather conditions']]"
     ]
    },
    {
     "name": "stderr",
     "output_type": "stream",
     "text": [
      "\r",
      "Loss: 0.024:  42%|███▊     | 344/814 [08:47<14:31,  1.85s/it, ['local weather conditions']]"
     ]
    },
    {
     "name": "stderr",
     "output_type": "stream",
     "text": [
      "\r",
      "Loss: 0.024:  42%|███▊     | 345/814 [08:47<14:35,  1.87s/it, ['local weather conditions']]"
     ]
    },
    {
     "name": "stderr",
     "output_type": "stream",
     "text": [
      "\r",
      "Loss: 0.023:  42%|███▊     | 345/814 [08:49<14:35,  1.87s/it, ['local weather conditions']]"
     ]
    },
    {
     "name": "stderr",
     "output_type": "stream",
     "text": [
      "\r",
      "Loss: 0.023:  42%|███▊     | 345/814 [08:49<14:35,  1.87s/it, ['local weather conditions']]"
     ]
    },
    {
     "name": "stderr",
     "output_type": "stream",
     "text": [
      "\r",
      "Loss: 0.023:  43%|███▊     | 346/814 [08:49<14:35,  1.87s/it, ['local weather conditions']]"
     ]
    },
    {
     "name": "stderr",
     "output_type": "stream",
     "text": [
      "\r",
      "Loss: 0.021:  43%|███▊     | 346/814 [08:51<14:35,  1.87s/it, ['local weather conditions']]"
     ]
    },
    {
     "name": "stderr",
     "output_type": "stream",
     "text": [
      "\r",
      "Loss: 0.021:  43%|███▊     | 346/814 [08:51<14:35,  1.87s/it, ['local weather conditions']]"
     ]
    },
    {
     "name": "stderr",
     "output_type": "stream",
     "text": [
      "\r",
      "Loss: 0.021:  43%|███▊     | 347/814 [08:51<14:30,  1.86s/it, ['local weather conditions']]"
     ]
    },
    {
     "name": "stderr",
     "output_type": "stream",
     "text": [
      "\r",
      "Loss: 0.019:  43%|███▊     | 347/814 [08:52<14:30,  1.86s/it, ['local weather conditions']]"
     ]
    },
    {
     "name": "stderr",
     "output_type": "stream",
     "text": [
      "\r",
      "Loss: 0.019:  43%|███▊     | 347/814 [08:52<14:30,  1.86s/it, ['local weather conditions']]"
     ]
    },
    {
     "name": "stderr",
     "output_type": "stream",
     "text": [
      "\r",
      "Loss: 0.019:  43%|███▊     | 348/814 [08:52<12:55,  1.66s/it, ['local weather conditions']]"
     ]
    },
    {
     "name": "stderr",
     "output_type": "stream",
     "text": [
      "\r",
      "Loss: 0.017:  43%|███▊     | 348/814 [08:53<12:55,  1.66s/it, ['local weather conditions']]"
     ]
    },
    {
     "name": "stderr",
     "output_type": "stream",
     "text": [
      "\r",
      "Loss: 0.017:  43%|███▊     | 348/814 [08:53<12:55,  1.66s/it, ['local weather conditions']]"
     ]
    },
    {
     "name": "stderr",
     "output_type": "stream",
     "text": [
      "\r",
      "Loss: 0.017:  43%|███▊     | 349/814 [08:53<11:41,  1.51s/it, ['local weather conditions']]"
     ]
    },
    {
     "name": "stderr",
     "output_type": "stream",
     "text": [
      "\r",
      "Loss: 0.015:  43%|███▊     | 349/814 [08:55<11:41,  1.51s/it, ['local weather conditions']]"
     ]
    },
    {
     "name": "stderr",
     "output_type": "stream",
     "text": [
      "\r",
      "Loss: 0.015:  43%|███▊     | 349/814 [08:55<11:41,  1.51s/it, ['local weather conditions']]"
     ]
    },
    {
     "name": "stderr",
     "output_type": "stream",
     "text": [
      "\r",
      "Loss: 0.015:  43%|███▊     | 350/814 [08:55<10:55,  1.41s/it, ['local weather conditions']]"
     ]
    },
    {
     "name": "stderr",
     "output_type": "stream",
     "text": [
      "\r",
      "Loss: 0.015:  43%|███▊     | 350/814 [08:56<10:55,  1.41s/it, ['local weather conditions']]"
     ]
    },
    {
     "name": "stderr",
     "output_type": "stream",
     "text": [
      "\r",
      "Loss: 0.015:  43%|███▊     | 350/814 [08:56<10:55,  1.41s/it, ['local weather conditions']]"
     ]
    },
    {
     "name": "stderr",
     "output_type": "stream",
     "text": [
      "\r",
      "Loss: 0.015:  43%|███▉     | 351/814 [08:56<10:21,  1.34s/it, ['local weather conditions']]"
     ]
    },
    {
     "name": "stderr",
     "output_type": "stream",
     "text": [
      "\r",
      "Loss: 0.013:  43%|███▉     | 351/814 [08:57<10:21,  1.34s/it, ['local weather conditions']]"
     ]
    },
    {
     "name": "stderr",
     "output_type": "stream",
     "text": [
      "\r",
      "Loss: 0.013:  43%|███▉     | 351/814 [08:57<10:21,  1.34s/it, ['local weather conditions']]"
     ]
    },
    {
     "name": "stderr",
     "output_type": "stream",
     "text": [
      "\r",
      "Loss: 0.013:  43%|███▉     | 352/814 [08:57<10:46,  1.40s/it, ['local weather conditions']]"
     ]
    },
    {
     "name": "stderr",
     "output_type": "stream",
     "text": [
      "\r",
      "Loss: 0.014:  43%|███▉     | 352/814 [08:58<10:46,  1.40s/it, ['local weather conditions']]"
     ]
    },
    {
     "name": "stderr",
     "output_type": "stream",
     "text": [
      "\r",
      "Loss: 0.014:  43%|███▉     | 352/814 [08:58<10:46,  1.40s/it, ['local weather conditions']]"
     ]
    },
    {
     "name": "stderr",
     "output_type": "stream",
     "text": [
      "\r",
      "Loss: 0.014:  43%|███▉     | 353/814 [08:58<09:59,  1.30s/it, ['local weather conditions']]"
     ]
    },
    {
     "name": "stderr",
     "output_type": "stream",
     "text": [
      "\r",
      "Loss: 0.012:  43%|███▉     | 353/814 [08:59<09:59,  1.30s/it, ['local weather conditions']]"
     ]
    },
    {
     "name": "stderr",
     "output_type": "stream",
     "text": [
      "\r",
      "Loss: 0.012:  43%|███▉     | 353/814 [08:59<09:59,  1.30s/it, ['local weather conditions']]"
     ]
    },
    {
     "name": "stderr",
     "output_type": "stream",
     "text": [
      "\r",
      "Loss: 0.012:  43%|███▉     | 354/814 [08:59<09:29,  1.24s/it, ['local weather conditions']]"
     ]
    },
    {
     "name": "stderr",
     "output_type": "stream",
     "text": [
      "\r",
      "Loss: 0.013:  43%|███▉     | 354/814 [09:01<09:29,  1.24s/it, ['local weather conditions']]"
     ]
    },
    {
     "name": "stderr",
     "output_type": "stream",
     "text": [
      "\r",
      "Loss: 0.013:  43%|███▉     | 354/814 [09:01<09:29,  1.24s/it, ['local weather conditions']]"
     ]
    },
    {
     "name": "stderr",
     "output_type": "stream",
     "text": [
      "\r",
      "Loss: 0.013:  44%|███▉     | 355/814 [09:01<09:15,  1.21s/it, ['local weather conditions']]"
     ]
    },
    {
     "name": "stderr",
     "output_type": "stream",
     "text": [
      "\r",
      "Loss: 0.012:  44%|███▉     | 355/814 [09:02<09:15,  1.21s/it, ['local weather conditions']]"
     ]
    },
    {
     "name": "stderr",
     "output_type": "stream",
     "text": [
      "\r",
      "Loss: 0.012:  44%|███▉     | 355/814 [09:02<09:15,  1.21s/it, ['local weather conditions']]"
     ]
    },
    {
     "name": "stderr",
     "output_type": "stream",
     "text": [
      "\r",
      "Loss: 0.012:  44%|███▉     | 356/814 [09:02<09:00,  1.18s/it, ['local weather conditions']]"
     ]
    },
    {
     "name": "stderr",
     "output_type": "stream",
     "text": [
      "\r",
      "Loss: 0.011:  44%|███▉     | 356/814 [09:03<09:00,  1.18s/it, ['local weather conditions']]"
     ]
    },
    {
     "name": "stderr",
     "output_type": "stream",
     "text": [
      "\r",
      "Loss: 0.011:  44%|███▉     | 356/814 [09:03<09:00,  1.18s/it, ['local weather conditions']]"
     ]
    },
    {
     "name": "stderr",
     "output_type": "stream",
     "text": [
      "\r",
      "Loss: 0.011:  44%|███▉     | 357/814 [09:03<08:57,  1.18s/it, ['local weather conditions']]"
     ]
    },
    {
     "name": "stderr",
     "output_type": "stream",
     "text": [
      "\r",
      "Loss: 0.010:  44%|███▉     | 357/814 [09:04<08:57,  1.18s/it, ['local weather conditions']]"
     ]
    },
    {
     "name": "stderr",
     "output_type": "stream",
     "text": [
      "\r",
      "Loss: 0.010:  44%|███▉     | 357/814 [09:04<08:57,  1.18s/it, ['local weather conditions']]"
     ]
    },
    {
     "name": "stderr",
     "output_type": "stream",
     "text": [
      "\r",
      "Loss: 0.010:  44%|███▉     | 358/814 [09:04<08:49,  1.16s/it, ['local weather conditions']]"
     ]
    },
    {
     "name": "stderr",
     "output_type": "stream",
     "text": [
      "\r",
      "Loss: 0.009:  44%|███▉     | 358/814 [09:05<08:49,  1.16s/it, ['local weather conditions']]"
     ]
    },
    {
     "name": "stderr",
     "output_type": "stream",
     "text": [
      "\r",
      "Loss: 0.009:  44%|███▉     | 358/814 [09:05<08:49,  1.16s/it, ['local weather conditions']]"
     ]
    },
    {
     "name": "stderr",
     "output_type": "stream",
     "text": [
      "\r",
      "Loss: 0.009:  44%|███▉     | 359/814 [09:05<08:46,  1.16s/it, ['local weather conditions']]"
     ]
    },
    {
     "name": "stderr",
     "output_type": "stream",
     "text": [
      "\r",
      "Loss: 0.009:  44%|███▉     | 359/814 [09:06<08:46,  1.16s/it, ['local weather conditions']]"
     ]
    },
    {
     "name": "stderr",
     "output_type": "stream",
     "text": [
      "\r",
      "Loss: 0.009:  44%|███▉     | 359/814 [09:06<08:46,  1.16s/it, ['local weather conditions']]"
     ]
    },
    {
     "name": "stderr",
     "output_type": "stream",
     "text": [
      "\r",
      "Loss: 0.009:  44%|███▉     | 360/814 [09:06<08:40,  1.15s/it, ['local weather conditions']]"
     ]
    },
    {
     "name": "stderr",
     "output_type": "stream",
     "text": [
      "\r",
      "Loss: 0.008:  44%|███▉     | 360/814 [09:07<08:40,  1.15s/it, ['local weather conditions']]"
     ]
    },
    {
     "name": "stderr",
     "output_type": "stream",
     "text": [
      "\r",
      "Loss: 0.008:  44%|███▉     | 360/814 [09:07<08:40,  1.15s/it, ['local weather conditions']]"
     ]
    },
    {
     "name": "stderr",
     "output_type": "stream",
     "text": [
      "\r",
      "Loss: 0.008:  44%|███▉     | 361/814 [09:07<08:39,  1.15s/it, ['local weather conditions']]"
     ]
    },
    {
     "name": "stderr",
     "output_type": "stream",
     "text": [
      "\r",
      "Loss: 0.008:  44%|███▉     | 361/814 [09:09<08:39,  1.15s/it, ['local weather conditions']]"
     ]
    },
    {
     "name": "stderr",
     "output_type": "stream",
     "text": [
      "\r",
      "Loss: 0.008:  44%|███▉     | 361/814 [09:09<08:39,  1.15s/it, ['local weather conditions']]"
     ]
    },
    {
     "name": "stderr",
     "output_type": "stream",
     "text": [
      "\r",
      "Loss: 0.008:  44%|████     | 362/814 [09:09<08:38,  1.15s/it, ['local weather conditions']]"
     ]
    },
    {
     "name": "stderr",
     "output_type": "stream",
     "text": [
      "\r",
      "Loss: 0.008:  44%|████     | 362/814 [09:10<08:38,  1.15s/it, ['local weather conditions']]"
     ]
    },
    {
     "name": "stderr",
     "output_type": "stream",
     "text": [
      "\r",
      "Loss: 0.008:  44%|████     | 362/814 [09:10<08:38,  1.15s/it, ['local weather conditions']]"
     ]
    },
    {
     "name": "stderr",
     "output_type": "stream",
     "text": [
      "\r",
      "Loss: 0.008:  45%|████     | 363/814 [09:10<08:33,  1.14s/it, ['local weather conditions']]"
     ]
    },
    {
     "name": "stderr",
     "output_type": "stream",
     "text": [
      "\r",
      "Loss: 0.007:  45%|████     | 363/814 [09:11<08:33,  1.14s/it, ['local weather conditions']]"
     ]
    },
    {
     "name": "stderr",
     "output_type": "stream",
     "text": [
      "\r",
      "Loss: 0.007:  45%|████     | 363/814 [09:11<08:33,  1.14s/it, ['local weather conditions']]"
     ]
    },
    {
     "name": "stderr",
     "output_type": "stream",
     "text": [
      "\r",
      "Loss: 0.007:  45%|████     | 364/814 [09:11<08:14,  1.10s/it, ['local weather conditions']]"
     ]
    },
    {
     "name": "stderr",
     "output_type": "stream",
     "text": [
      "\r",
      "Loss: 0.006:  45%|████     | 364/814 [09:12<08:14,  1.10s/it, ['local weather conditions']]"
     ]
    },
    {
     "name": "stderr",
     "output_type": "stream",
     "text": [
      "\r",
      "Loss: 0.006:  45%|████     | 364/814 [09:12<08:14,  1.10s/it, ['local weather conditions']]"
     ]
    },
    {
     "name": "stderr",
     "output_type": "stream",
     "text": [
      "\r",
      "Loss: 0.006:  45%|████     | 365/814 [09:12<08:11,  1.09s/it, ['local weather conditions']]"
     ]
    },
    {
     "name": "stderr",
     "output_type": "stream",
     "text": [
      "\r",
      "Loss: 0.006:  45%|████     | 365/814 [09:13<08:11,  1.09s/it, ['local weather conditions']]"
     ]
    },
    {
     "name": "stderr",
     "output_type": "stream",
     "text": [
      "\r",
      "Loss: 0.006:  45%|████     | 365/814 [09:13<08:11,  1.09s/it, ['local weather conditions']]"
     ]
    },
    {
     "name": "stderr",
     "output_type": "stream",
     "text": [
      "\r",
      "Loss: 0.006:  45%|████     | 366/814 [09:13<08:11,  1.10s/it, ['local weather conditions']]"
     ]
    },
    {
     "name": "stderr",
     "output_type": "stream",
     "text": [
      "\r",
      "Loss: 0.005:  45%|████     | 366/814 [09:14<08:11,  1.10s/it, ['local weather conditions']]"
     ]
    },
    {
     "name": "stderr",
     "output_type": "stream",
     "text": [
      "\r",
      "Loss: 0.005:  45%|████     | 366/814 [09:14<08:11,  1.10s/it, ['local weather conditions']]"
     ]
    },
    {
     "name": "stderr",
     "output_type": "stream",
     "text": [
      "\r",
      "Loss: 0.005:  45%|████     | 367/814 [09:14<08:01,  1.08s/it, ['local weather conditions']]"
     ]
    },
    {
     "name": "stderr",
     "output_type": "stream",
     "text": [
      "\r",
      "Loss: 0.005:  45%|████     | 367/814 [09:15<08:01,  1.08s/it, ['local weather conditions']]"
     ]
    },
    {
     "name": "stderr",
     "output_type": "stream",
     "text": [
      "\r",
      "Loss: 0.005:  45%|████     | 367/814 [09:15<08:01,  1.08s/it, ['local weather conditions']]"
     ]
    },
    {
     "name": "stderr",
     "output_type": "stream",
     "text": [
      "\r",
      "Loss: 0.005:  45%|████     | 368/814 [09:15<07:58,  1.07s/it, ['local weather conditions']]"
     ]
    },
    {
     "name": "stderr",
     "output_type": "stream",
     "text": [
      "\r",
      "Loss: 0.005:  45%|████     | 368/814 [09:16<07:58,  1.07s/it, ['local weather conditions']]"
     ]
    },
    {
     "name": "stderr",
     "output_type": "stream",
     "text": [
      "\r",
      "Loss: 0.005:  45%|████     | 368/814 [09:16<07:58,  1.07s/it, ['local weather conditions']]"
     ]
    },
    {
     "name": "stderr",
     "output_type": "stream",
     "text": [
      "\r",
      "Loss: 0.005:  45%|████     | 369/814 [09:16<08:00,  1.08s/it, ['local weather conditions']]"
     ]
    },
    {
     "name": "stderr",
     "output_type": "stream",
     "text": [
      "\r",
      "Loss: 0.004:  45%|████     | 369/814 [09:17<08:00,  1.08s/it, ['local weather conditions']]"
     ]
    },
    {
     "name": "stderr",
     "output_type": "stream",
     "text": [
      "\r",
      "Loss: 0.004:  45%|████     | 369/814 [09:17<08:00,  1.08s/it, ['local weather conditions']]"
     ]
    },
    {
     "name": "stderr",
     "output_type": "stream",
     "text": [
      "\r",
      "Loss: 0.004:  45%|████     | 370/814 [09:17<07:57,  1.08s/it, ['local weather conditions']]"
     ]
    },
    {
     "name": "stderr",
     "output_type": "stream",
     "text": [
      "\r",
      "Loss: 0.004:  45%|████     | 370/814 [09:18<07:57,  1.08s/it, ['local weather conditions']]"
     ]
    },
    {
     "name": "stderr",
     "output_type": "stream",
     "text": [
      "\r",
      "Loss: 0.004:  45%|████     | 370/814 [09:18<07:57,  1.08s/it, ['local weather conditions']]"
     ]
    },
    {
     "name": "stderr",
     "output_type": "stream",
     "text": [
      "\r",
      "Loss: 0.004:  46%|████     | 371/814 [09:18<07:54,  1.07s/it, ['local weather conditions']]"
     ]
    },
    {
     "name": "stderr",
     "output_type": "stream",
     "text": [
      "\r",
      "Loss: 0.004:  46%|████     | 371/814 [09:19<07:54,  1.07s/it, ['local weather conditions']]"
     ]
    },
    {
     "name": "stderr",
     "output_type": "stream",
     "text": [
      "\r",
      "Loss: 0.004:  46%|████     | 371/814 [09:19<07:54,  1.07s/it, ['local weather conditions']]"
     ]
    },
    {
     "name": "stderr",
     "output_type": "stream",
     "text": [
      "\r",
      "Loss: 0.004:  46%|████     | 372/814 [09:19<07:59,  1.08s/it, ['local weather conditions']]"
     ]
    },
    {
     "name": "stderr",
     "output_type": "stream",
     "text": [
      "\r",
      "Loss: 0.034:  46%|████     | 372/814 [09:20<07:59,  1.08s/it, ['local weather conditions']]"
     ]
    },
    {
     "name": "stderr",
     "output_type": "stream",
     "text": [
      "\r",
      "Loss: 0.034:  46%|████     | 372/814 [09:20<07:59,  1.08s/it, ['local weather conditions']]"
     ]
    },
    {
     "name": "stderr",
     "output_type": "stream",
     "text": [
      "\r",
      "Loss: 0.034:  46%|████     | 373/814 [09:20<08:14,  1.12s/it, ['local weather conditions']]"
     ]
    },
    {
     "name": "stderr",
     "output_type": "stream",
     "text": [
      "\r",
      "Loss: 0.054:  46%|████     | 373/814 [09:22<08:14,  1.12s/it, ['local weather conditions']]"
     ]
    },
    {
     "name": "stderr",
     "output_type": "stream",
     "text": [
      "\r",
      "Loss: 0.054:  46%|████     | 373/814 [09:22<08:14,  1.12s/it, ['local weather conditions']]"
     ]
    },
    {
     "name": "stderr",
     "output_type": "stream",
     "text": [
      "\r",
      "Loss: 0.054:  46%|████▏    | 374/814 [09:22<08:09,  1.11s/it, ['local weather conditions']]"
     ]
    },
    {
     "name": "stderr",
     "output_type": "stream",
     "text": [
      "\r",
      "Loss: 0.049:  46%|████▏    | 374/814 [09:23<08:09,  1.11s/it, ['local weather conditions']]"
     ]
    },
    {
     "name": "stderr",
     "output_type": "stream",
     "text": [
      "\r",
      "Loss: 0.049:  46%|████▏    | 374/814 [09:23<08:09,  1.11s/it, ['local weather conditions']]"
     ]
    },
    {
     "name": "stderr",
     "output_type": "stream",
     "text": [
      "\r",
      "Loss: 0.049:  46%|████▏    | 375/814 [09:23<08:00,  1.10s/it, ['local weather conditions']]"
     ]
    },
    {
     "name": "stderr",
     "output_type": "stream",
     "text": [
      "\r",
      "Loss: 0.044:  46%|████▏    | 375/814 [09:24<08:00,  1.10s/it, ['local weather conditions']]"
     ]
    },
    {
     "name": "stderr",
     "output_type": "stream",
     "text": [
      "\r",
      "Loss: 0.044:  46%|████▏    | 375/814 [09:24<08:00,  1.10s/it, ['local weather conditions']]"
     ]
    },
    {
     "name": "stderr",
     "output_type": "stream",
     "text": [
      "\r",
      "Loss: 0.044:  46%|████▏    | 376/814 [09:24<08:00,  1.10s/it, ['local weather conditions']]"
     ]
    },
    {
     "name": "stderr",
     "output_type": "stream",
     "text": [
      "\r",
      "Loss: 0.040:  46%|████▏    | 376/814 [09:25<08:00,  1.10s/it, ['local weather conditions']]"
     ]
    },
    {
     "name": "stderr",
     "output_type": "stream",
     "text": [
      "\r",
      "Loss: 0.040:  46%|████▏    | 376/814 [09:25<08:00,  1.10s/it, ['local weather conditions']]"
     ]
    },
    {
     "name": "stderr",
     "output_type": "stream",
     "text": [
      "\r",
      "Loss: 0.040:  46%|████▏    | 377/814 [09:25<07:53,  1.08s/it, ['local weather conditions']]"
     ]
    },
    {
     "name": "stderr",
     "output_type": "stream",
     "text": [
      "\r",
      "Loss: 0.051:  46%|████▏    | 377/814 [09:26<07:53,  1.08s/it, ['local weather conditions']]"
     ]
    },
    {
     "name": "stderr",
     "output_type": "stream",
     "text": [
      "\r",
      "Loss: 0.051:  46%|████▏    | 377/814 [09:26<07:53,  1.08s/it, ['local weather conditions']]"
     ]
    },
    {
     "name": "stderr",
     "output_type": "stream",
     "text": [
      "\r",
      "Loss: 0.051:  46%|████▏    | 378/814 [09:26<07:51,  1.08s/it, ['local weather conditions']]"
     ]
    },
    {
     "name": "stderr",
     "output_type": "stream",
     "text": [
      "\r",
      "Loss: 0.046:  46%|████▏    | 378/814 [09:27<07:51,  1.08s/it, ['local weather conditions']]"
     ]
    },
    {
     "name": "stderr",
     "output_type": "stream",
     "text": [
      "\r",
      "Loss: 0.046:  46%|████▏    | 378/814 [09:27<07:51,  1.08s/it, ['local weather conditions']]"
     ]
    },
    {
     "name": "stderr",
     "output_type": "stream",
     "text": [
      "\r",
      "Loss: 0.046:  47%|████▏    | 379/814 [09:27<07:53,  1.09s/it, ['local weather conditions']]"
     ]
    },
    {
     "name": "stderr",
     "output_type": "stream",
     "text": [
      "\r",
      "Loss: 0.042:  47%|████▏    | 379/814 [09:28<07:53,  1.09s/it, ['local weather conditions']]"
     ]
    },
    {
     "name": "stderr",
     "output_type": "stream",
     "text": [
      "\r",
      "Loss: 0.042:  47%|████▏    | 379/814 [09:28<07:53,  1.09s/it, ['local weather conditions']]"
     ]
    },
    {
     "name": "stderr",
     "output_type": "stream",
     "text": [
      "\r",
      "Loss: 0.042:  47%|████▏    | 380/814 [09:28<08:01,  1.11s/it, ['local weather conditions']]"
     ]
    },
    {
     "name": "stderr",
     "output_type": "stream",
     "text": [
      "\r",
      "Loss: 0.038:  47%|████▏    | 380/814 [09:29<08:01,  1.11s/it, ['local weather conditions']]"
     ]
    },
    {
     "name": "stderr",
     "output_type": "stream",
     "text": [
      "\r",
      "Loss: 0.038:  47%|████▏    | 380/814 [09:29<08:01,  1.11s/it, ['local weather conditions']]"
     ]
    },
    {
     "name": "stderr",
     "output_type": "stream",
     "text": [
      "\r",
      "Loss: 0.038:  47%|████▏    | 381/814 [09:29<07:54,  1.10s/it, ['local weather conditions']]"
     ]
    },
    {
     "name": "stderr",
     "output_type": "stream",
     "text": [
      "\r",
      "Loss: 0.034:  47%|████▏    | 381/814 [09:30<07:54,  1.10s/it, ['local weather conditions']]"
     ]
    },
    {
     "name": "stderr",
     "output_type": "stream",
     "text": [
      "\r",
      "Loss: 0.034:  47%|████▏    | 381/814 [09:30<07:54,  1.10s/it, ['local weather conditions']]"
     ]
    },
    {
     "name": "stderr",
     "output_type": "stream",
     "text": [
      "\r",
      "Loss: 0.034:  47%|████▏    | 382/814 [09:30<07:55,  1.10s/it, ['local weather conditions']]"
     ]
    },
    {
     "name": "stderr",
     "output_type": "stream",
     "text": [
      "\r",
      "Loss: 0.032:  47%|████▏    | 382/814 [09:31<07:55,  1.10s/it, ['local weather conditions']]"
     ]
    },
    {
     "name": "stderr",
     "output_type": "stream",
     "text": [
      "\r",
      "Loss: 0.032:  47%|████▏    | 382/814 [09:31<07:55,  1.10s/it, ['local weather conditions']]"
     ]
    },
    {
     "name": "stderr",
     "output_type": "stream",
     "text": [
      "\r",
      "Loss: 0.032:  47%|████▏    | 383/814 [09:31<07:53,  1.10s/it, ['local weather conditions']]"
     ]
    },
    {
     "name": "stderr",
     "output_type": "stream",
     "text": [
      "\r",
      "Loss: 0.029:  47%|████▏    | 383/814 [09:32<07:53,  1.10s/it, ['local weather conditions']]"
     ]
    },
    {
     "name": "stderr",
     "output_type": "stream",
     "text": [
      "\r",
      "Loss: 0.029:  47%|████▏    | 383/814 [09:32<07:53,  1.10s/it, ['local weather conditions']]"
     ]
    },
    {
     "name": "stderr",
     "output_type": "stream",
     "text": [
      "\r",
      "Loss: 0.029:  47%|████▏    | 384/814 [09:32<07:42,  1.08s/it, ['local weather conditions']]"
     ]
    },
    {
     "name": "stderr",
     "output_type": "stream",
     "text": [
      "\r",
      "Loss: 0.029:  47%|████▏    | 384/814 [09:33<07:42,  1.08s/it, ['local weather conditions']]"
     ]
    },
    {
     "name": "stderr",
     "output_type": "stream",
     "text": [
      "\r",
      "Loss: 0.029:  47%|████▏    | 384/814 [09:33<07:42,  1.08s/it, ['local weather conditions']]"
     ]
    },
    {
     "name": "stderr",
     "output_type": "stream",
     "text": [
      "\r",
      "Loss: 0.029:  47%|████▎    | 385/814 [09:33<07:39,  1.07s/it, ['local weather conditions']]"
     ]
    },
    {
     "name": "stderr",
     "output_type": "stream",
     "text": [
      "\r",
      "Loss: 0.026:  47%|████▎    | 385/814 [09:35<07:39,  1.07s/it, ['local weather conditions']]"
     ]
    },
    {
     "name": "stderr",
     "output_type": "stream",
     "text": [
      "\r",
      "Loss: 0.026:  47%|████▎    | 385/814 [09:35<07:39,  1.07s/it, ['local weather conditions']]"
     ]
    },
    {
     "name": "stderr",
     "output_type": "stream",
     "text": [
      "\r",
      "Loss: 0.026:  47%|████▎    | 386/814 [09:35<07:35,  1.07s/it, ['local weather conditions']]"
     ]
    },
    {
     "name": "stderr",
     "output_type": "stream",
     "text": [
      "\r",
      "Loss: 0.023:  47%|████▎    | 386/814 [09:36<07:35,  1.07s/it, ['local weather conditions']]"
     ]
    },
    {
     "name": "stderr",
     "output_type": "stream",
     "text": [
      "\r",
      "Loss: 0.023:  47%|████▎    | 386/814 [09:36<07:35,  1.07s/it, ['local weather conditions']]"
     ]
    },
    {
     "name": "stderr",
     "output_type": "stream",
     "text": [
      "\r",
      "Loss: 0.023:  48%|████▎    | 387/814 [09:36<07:33,  1.06s/it, ['local weather conditions']]"
     ]
    },
    {
     "name": "stderr",
     "output_type": "stream",
     "text": [
      "\r",
      "Loss: 0.021:  48%|████▎    | 387/814 [09:37<07:33,  1.06s/it, ['local weather conditions']]"
     ]
    },
    {
     "name": "stderr",
     "output_type": "stream",
     "text": [
      "\r",
      "Loss: 0.021:  48%|████▎    | 387/814 [09:37<07:33,  1.06s/it, ['local weather conditions']]"
     ]
    },
    {
     "name": "stderr",
     "output_type": "stream",
     "text": [
      "\r",
      "Loss: 0.021:  48%|████▎    | 388/814 [09:37<07:31,  1.06s/it, ['local weather conditions']]"
     ]
    },
    {
     "name": "stderr",
     "output_type": "stream",
     "text": [
      "\r",
      "Loss: 0.019:  48%|████▎    | 388/814 [09:38<07:31,  1.06s/it, ['local weather conditions']]"
     ]
    },
    {
     "name": "stderr",
     "output_type": "stream",
     "text": [
      "\r",
      "Loss: 0.019:  48%|████▎    | 388/814 [09:38<07:31,  1.06s/it, ['local weather conditions']]"
     ]
    },
    {
     "name": "stderr",
     "output_type": "stream",
     "text": [
      "\r",
      "Loss: 0.019:  48%|████▎    | 389/814 [09:38<07:28,  1.06s/it, ['local weather conditions']]"
     ]
    },
    {
     "name": "stderr",
     "output_type": "stream",
     "text": [
      "\r",
      "Loss: 0.020:  48%|████▎    | 389/814 [09:39<07:28,  1.06s/it, ['local weather conditions']]"
     ]
    },
    {
     "name": "stderr",
     "output_type": "stream",
     "text": [
      "\r",
      "Loss: 0.020:  48%|████▎    | 389/814 [09:39<07:28,  1.06s/it, ['local weather conditions']]"
     ]
    },
    {
     "name": "stderr",
     "output_type": "stream",
     "text": [
      "\r",
      "Loss: 0.020:  48%|████▎    | 390/814 [09:39<07:31,  1.06s/it, ['local weather conditions']]"
     ]
    },
    {
     "name": "stderr",
     "output_type": "stream",
     "text": [
      "\r",
      "Loss: 0.019:  48%|████▎    | 390/814 [09:40<07:31,  1.06s/it, ['local weather conditions']]"
     ]
    },
    {
     "name": "stderr",
     "output_type": "stream",
     "text": [
      "\r",
      "Loss: 0.019:  48%|████▎    | 390/814 [09:40<07:31,  1.06s/it, ['local weather conditions']]"
     ]
    },
    {
     "name": "stderr",
     "output_type": "stream",
     "text": [
      "\r",
      "Loss: 0.019:  48%|████▎    | 391/814 [09:40<07:39,  1.09s/it, ['local weather conditions']]"
     ]
    },
    {
     "name": "stderr",
     "output_type": "stream",
     "text": [
      "\r",
      "Loss: 0.017:  48%|████▎    | 391/814 [09:41<07:39,  1.09s/it, ['local weather conditions']]"
     ]
    },
    {
     "name": "stderr",
     "output_type": "stream",
     "text": [
      "\r",
      "Loss: 0.017:  48%|████▎    | 391/814 [09:41<07:39,  1.09s/it, ['local weather conditions']]"
     ]
    },
    {
     "name": "stderr",
     "output_type": "stream",
     "text": [
      "\r",
      "Loss: 0.017:  48%|████▎    | 392/814 [09:41<07:39,  1.09s/it, ['local weather conditions']]"
     ]
    },
    {
     "name": "stderr",
     "output_type": "stream",
     "text": [
      "\r",
      "Loss: 0.015:  48%|████▎    | 392/814 [09:42<07:39,  1.09s/it, ['local weather conditions']]"
     ]
    },
    {
     "name": "stderr",
     "output_type": "stream",
     "text": [
      "\r",
      "Loss: 0.015:  48%|████▎    | 392/814 [09:42<07:39,  1.09s/it, ['local weather conditions']]"
     ]
    },
    {
     "name": "stderr",
     "output_type": "stream",
     "text": [
      "\r",
      "Loss: 0.015:  48%|████▎    | 393/814 [09:42<07:41,  1.10s/it, ['local weather conditions']]"
     ]
    },
    {
     "name": "stderr",
     "output_type": "stream",
     "text": [
      "\r",
      "Loss: 0.046:  48%|████▎    | 393/814 [09:43<07:41,  1.10s/it, ['local weather conditions']]"
     ]
    },
    {
     "name": "stderr",
     "output_type": "stream",
     "text": [
      "\r",
      "Loss: 0.046:  48%|████▎    | 393/814 [09:43<07:41,  1.10s/it, ['local weather conditions']]"
     ]
    },
    {
     "name": "stderr",
     "output_type": "stream",
     "text": [
      "\r",
      "Loss: 0.046:  48%|████▎    | 394/814 [09:43<07:42,  1.10s/it, ['local weather conditions']]"
     ]
    },
    {
     "name": "stderr",
     "output_type": "stream",
     "text": [
      "\r",
      "Loss: 0.045:  48%|████▎    | 394/814 [09:44<07:42,  1.10s/it, ['local weather conditions']]"
     ]
    },
    {
     "name": "stderr",
     "output_type": "stream",
     "text": [
      "\r",
      "Loss: 0.045:  48%|████▎    | 394/814 [09:44<07:42,  1.10s/it, ['local weather conditions']]"
     ]
    },
    {
     "name": "stderr",
     "output_type": "stream",
     "text": [
      "\r",
      "Loss: 0.045:  49%|████▎    | 395/814 [09:44<07:39,  1.10s/it, ['local weather conditions']]"
     ]
    },
    {
     "name": "stderr",
     "output_type": "stream",
     "text": [
      "\r",
      "Loss: 0.041:  49%|████▎    | 395/814 [09:45<07:39,  1.10s/it, ['local weather conditions']]"
     ]
    },
    {
     "name": "stderr",
     "output_type": "stream",
     "text": [
      "\r",
      "Loss: 0.041:  49%|████▎    | 395/814 [09:45<07:39,  1.10s/it, ['local weather conditions']]"
     ]
    },
    {
     "name": "stderr",
     "output_type": "stream",
     "text": [
      "\r",
      "Loss: 0.041:  49%|████▍    | 396/814 [09:45<07:35,  1.09s/it, ['local weather conditions']]"
     ]
    },
    {
     "name": "stderr",
     "output_type": "stream",
     "text": [
      "\r",
      "Loss: 0.037:  49%|████▍    | 396/814 [09:46<07:35,  1.09s/it, ['local weather conditions']]"
     ]
    },
    {
     "name": "stderr",
     "output_type": "stream",
     "text": [
      "\r",
      "Loss: 0.037:  49%|████▍    | 396/814 [09:46<07:35,  1.09s/it, ['local weather conditions']]"
     ]
    },
    {
     "name": "stderr",
     "output_type": "stream",
     "text": [
      "\r",
      "Loss: 0.037:  49%|████▍    | 397/814 [09:46<07:35,  1.09s/it, ['local weather conditions']]"
     ]
    },
    {
     "name": "stderr",
     "output_type": "stream",
     "text": [
      "\r",
      "Loss: 0.055:  49%|████▍    | 397/814 [09:48<07:35,  1.09s/it, ['local weather conditions']]"
     ]
    },
    {
     "name": "stderr",
     "output_type": "stream",
     "text": [
      "\r",
      "Loss: 0.055:  49%|████▍    | 397/814 [09:48<07:35,  1.09s/it, ['local weather conditions']]"
     ]
    },
    {
     "name": "stderr",
     "output_type": "stream",
     "text": [
      "\r",
      "Loss: 0.055:  49%|████▍    | 398/814 [09:48<07:30,  1.08s/it, ['local weather conditions']]"
     ]
    },
    {
     "name": "stderr",
     "output_type": "stream",
     "text": [
      "\r",
      "Loss: 0.053:  49%|████▍    | 398/814 [09:49<07:30,  1.08s/it, ['local weather conditions']]"
     ]
    },
    {
     "name": "stderr",
     "output_type": "stream",
     "text": [
      "\r",
      "Loss: 0.053:  49%|████▍    | 398/814 [09:49<07:30,  1.08s/it, ['local weather conditions']]"
     ]
    },
    {
     "name": "stderr",
     "output_type": "stream",
     "text": [
      "\r",
      "Loss: 0.053:  49%|████▍    | 399/814 [09:49<07:27,  1.08s/it, ['local weather conditions']]"
     ]
    },
    {
     "name": "stderr",
     "output_type": "stream",
     "text": [
      "\r",
      "Loss: 0.053:  49%|████▍    | 399/814 [09:50<07:27,  1.08s/it, ['local weather conditions']]"
     ]
    },
    {
     "name": "stderr",
     "output_type": "stream",
     "text": [
      "\r",
      "Loss: 0.053:  49%|████▍    | 399/814 [09:50<07:27,  1.08s/it, ['local weather conditions']]"
     ]
    },
    {
     "name": "stderr",
     "output_type": "stream",
     "text": [
      "\r",
      "Loss: 0.053:  49%|████▍    | 400/814 [09:50<08:27,  1.23s/it, ['local weather conditions']]"
     ]
    },
    {
     "name": "stderr",
     "output_type": "stream",
     "text": [
      "\r",
      "Loss: 0.048:  49%|████▍    | 400/814 [09:51<08:27,  1.23s/it, ['local weather conditions']]"
     ]
    },
    {
     "name": "stderr",
     "output_type": "stream",
     "text": [
      "\r",
      "Loss: 0.048:  49%|████▍    | 400/814 [09:51<08:27,  1.23s/it, ['local weather conditions']]"
     ]
    },
    {
     "name": "stderr",
     "output_type": "stream",
     "text": [
      "\r",
      "Loss: 0.048:  49%|████▍    | 401/814 [09:51<08:12,  1.19s/it, ['local weather conditions']]"
     ]
    },
    {
     "name": "stderr",
     "output_type": "stream",
     "text": [
      "\r",
      "Loss: 0.059:  49%|████▍    | 401/814 [09:52<08:12,  1.19s/it, ['local weather conditions']]"
     ]
    },
    {
     "name": "stderr",
     "output_type": "stream",
     "text": [
      "\r",
      "Loss: 0.059:  49%|████▍    | 401/814 [09:52<08:12,  1.19s/it, ['local weather conditions']]"
     ]
    },
    {
     "name": "stderr",
     "output_type": "stream",
     "text": [
      "\r",
      "Loss: 0.059:  49%|████▍    | 402/814 [09:52<08:08,  1.19s/it, ['local weather conditions']]"
     ]
    },
    {
     "name": "stderr",
     "output_type": "stream",
     "text": [
      "\r",
      "Loss: 0.054:  49%|████▍    | 402/814 [09:54<08:08,  1.19s/it, ['local weather conditions']]"
     ]
    },
    {
     "name": "stderr",
     "output_type": "stream",
     "text": [
      "\r",
      "Loss: 0.054:  49%|████▍    | 402/814 [09:54<08:08,  1.19s/it, ['local weather conditions']]"
     ]
    },
    {
     "name": "stderr",
     "output_type": "stream",
     "text": [
      "\r",
      "Loss: 0.054:  50%|████▍    | 403/814 [09:54<07:58,  1.16s/it, ['local weather conditions']]"
     ]
    },
    {
     "name": "stderr",
     "output_type": "stream",
     "text": [
      "\r",
      "Loss: 0.053:  50%|████▍    | 403/814 [09:55<07:58,  1.16s/it, ['local weather conditions']]"
     ]
    },
    {
     "name": "stderr",
     "output_type": "stream",
     "text": [
      "\r",
      "Loss: 0.053:  50%|████▍    | 403/814 [09:55<07:58,  1.16s/it, ['local weather conditions']]"
     ]
    },
    {
     "name": "stderr",
     "output_type": "stream",
     "text": [
      "\r",
      "Loss: 0.053:  50%|████▍    | 404/814 [09:55<07:41,  1.12s/it, ['local weather conditions']]"
     ]
    },
    {
     "name": "stderr",
     "output_type": "stream",
     "text": [
      "\r",
      "Loss: 0.049:  50%|████▍    | 404/814 [09:56<07:41,  1.12s/it, ['local weather conditions']]"
     ]
    },
    {
     "name": "stderr",
     "output_type": "stream",
     "text": [
      "\r",
      "Loss: 0.049:  50%|████▍    | 404/814 [09:56<07:41,  1.12s/it, ['local weather conditions']]"
     ]
    },
    {
     "name": "stderr",
     "output_type": "stream",
     "text": [
      "\r",
      "Loss: 0.049:  50%|████▍    | 405/814 [09:56<07:43,  1.13s/it, ['local weather conditions']]"
     ]
    },
    {
     "name": "stderr",
     "output_type": "stream",
     "text": [
      "\r",
      "Loss: 0.044:  50%|████▍    | 405/814 [09:57<07:43,  1.13s/it, ['local weather conditions']]"
     ]
    },
    {
     "name": "stderr",
     "output_type": "stream",
     "text": [
      "\r",
      "Loss: 0.044:  50%|████▍    | 405/814 [09:57<07:43,  1.13s/it, ['local weather conditions']]"
     ]
    },
    {
     "name": "stderr",
     "output_type": "stream",
     "text": [
      "\r",
      "Loss: 0.044:  50%|████▍    | 406/814 [09:57<07:36,  1.12s/it, ['local weather conditions']]"
     ]
    },
    {
     "name": "stderr",
     "output_type": "stream",
     "text": [
      "\r",
      "Loss: 0.040:  50%|████▍    | 406/814 [09:58<07:36,  1.12s/it, ['local weather conditions']]"
     ]
    },
    {
     "name": "stderr",
     "output_type": "stream",
     "text": [
      "\r",
      "Loss: 0.040:  50%|████▍    | 406/814 [09:58<07:36,  1.12s/it, ['local weather conditions']]"
     ]
    },
    {
     "name": "stderr",
     "output_type": "stream",
     "text": [
      "\r",
      "Loss: 0.040:  50%|████▌    | 407/814 [09:58<07:33,  1.11s/it, ['local weather conditions']]"
     ]
    },
    {
     "name": "stderr",
     "output_type": "stream",
     "text": [
      "\r",
      "Loss: 0.036:  50%|████▌    | 407/814 [09:59<07:33,  1.11s/it, ['local weather conditions']]"
     ]
    },
    {
     "name": "stderr",
     "output_type": "stream",
     "text": [
      "\r",
      "Loss: 0.036:  50%|████▌    | 407/814 [09:59<07:33,  1.11s/it, ['local weather conditions']]"
     ]
    },
    {
     "name": "stderr",
     "output_type": "stream",
     "text": [
      "\r",
      "Loss: 0.036:  50%|████▌    | 408/814 [09:59<07:28,  1.11s/it, ['local weather conditions']]"
     ]
    },
    {
     "name": "stderr",
     "output_type": "stream",
     "text": [
      "\r",
      "Loss: 0.049:  50%|████▌    | 408/814 [10:00<07:28,  1.11s/it, ['local weather conditions']]"
     ]
    },
    {
     "name": "stderr",
     "output_type": "stream",
     "text": [
      "\r",
      "Loss: 0.049:  50%|████▌    | 408/814 [10:00<07:28,  1.11s/it, ['local weather conditions']]"
     ]
    },
    {
     "name": "stderr",
     "output_type": "stream",
     "text": [
      "\r",
      "Loss: 0.049:  50%|████▌    | 409/814 [10:00<07:23,  1.10s/it, ['local weather conditions']]"
     ]
    },
    {
     "name": "stderr",
     "output_type": "stream",
     "text": [
      "\r",
      "Loss: 0.045:  50%|████▌    | 409/814 [10:01<07:23,  1.10s/it, ['local weather conditions']]"
     ]
    },
    {
     "name": "stderr",
     "output_type": "stream",
     "text": [
      "\r",
      "Loss: 0.045:  50%|████▌    | 409/814 [10:01<07:23,  1.10s/it, ['local weather conditions']]"
     ]
    },
    {
     "name": "stderr",
     "output_type": "stream",
     "text": [
      "\r",
      "Loss: 0.045:  50%|████▌    | 410/814 [10:01<07:22,  1.09s/it, ['local weather conditions']]"
     ]
    },
    {
     "name": "stderr",
     "output_type": "stream",
     "text": [
      "\r",
      "Loss: 0.044:  50%|████▌    | 410/814 [10:02<07:22,  1.09s/it, ['local weather conditions']]"
     ]
    },
    {
     "name": "stderr",
     "output_type": "stream",
     "text": [
      "\r",
      "Loss: 0.044:  50%|████▌    | 410/814 [10:02<07:22,  1.09s/it, ['local weather conditions']]"
     ]
    },
    {
     "name": "stderr",
     "output_type": "stream",
     "text": [
      "\r",
      "Loss: 0.044:  50%|████▌    | 411/814 [10:02<07:23,  1.10s/it, ['local weather conditions']]"
     ]
    },
    {
     "name": "stderr",
     "output_type": "stream",
     "text": [
      "\r",
      "Loss: 0.039:  50%|████▌    | 411/814 [10:03<07:23,  1.10s/it, ['local weather conditions']]"
     ]
    },
    {
     "name": "stderr",
     "output_type": "stream",
     "text": [
      "\r",
      "Loss: 0.039:  50%|████▌    | 411/814 [10:03<07:23,  1.10s/it, ['local weather conditions']]"
     ]
    },
    {
     "name": "stderr",
     "output_type": "stream",
     "text": [
      "\r",
      "Loss: 0.039:  51%|████▌    | 412/814 [10:03<07:20,  1.09s/it, ['local weather conditions']]"
     ]
    },
    {
     "name": "stderr",
     "output_type": "stream",
     "text": [
      "\r",
      "Loss: 0.036:  51%|████▌    | 412/814 [10:05<07:20,  1.09s/it, ['local weather conditions']]"
     ]
    },
    {
     "name": "stderr",
     "output_type": "stream",
     "text": [
      "\r",
      "Loss: 0.036:  51%|████▌    | 412/814 [10:05<07:20,  1.09s/it, ['local weather conditions']]"
     ]
    },
    {
     "name": "stderr",
     "output_type": "stream",
     "text": [
      "\r",
      "Loss: 0.036:  51%|████▌    | 413/814 [10:05<07:19,  1.10s/it, ['local weather conditions']]"
     ]
    },
    {
     "name": "stderr",
     "output_type": "stream",
     "text": [
      "\r",
      "Loss: 0.032:  51%|████▌    | 413/814 [10:06<07:19,  1.10s/it, ['local weather conditions']]"
     ]
    },
    {
     "name": "stderr",
     "output_type": "stream",
     "text": [
      "\r",
      "Loss: 0.032:  51%|████▌    | 413/814 [10:06<07:19,  1.10s/it, ['local weather conditions']]"
     ]
    },
    {
     "name": "stderr",
     "output_type": "stream",
     "text": [
      "\r",
      "Loss: 0.032:  51%|████▌    | 414/814 [10:06<07:21,  1.10s/it, ['local weather conditions']]"
     ]
    },
    {
     "name": "stderr",
     "output_type": "stream",
     "text": [
      "\r",
      "Loss: 0.031:  51%|████▌    | 414/814 [10:07<07:21,  1.10s/it, ['local weather conditions']]"
     ]
    },
    {
     "name": "stderr",
     "output_type": "stream",
     "text": [
      "\r",
      "Loss: 0.031:  51%|████▌    | 414/814 [10:07<07:21,  1.10s/it, ['local weather conditions']]"
     ]
    },
    {
     "name": "stderr",
     "output_type": "stream",
     "text": [
      "\r",
      "Loss: 0.031:  51%|████▌    | 415/814 [10:07<07:21,  1.11s/it, ['local weather conditions']]"
     ]
    },
    {
     "name": "stderr",
     "output_type": "stream",
     "text": [
      "\r",
      "Loss: 0.030:  51%|████▌    | 415/814 [10:08<07:21,  1.11s/it, ['local weather conditions']]"
     ]
    },
    {
     "name": "stderr",
     "output_type": "stream",
     "text": [
      "\r",
      "Loss: 0.030:  51%|████▌    | 415/814 [10:08<07:21,  1.11s/it, ['local weather conditions']]"
     ]
    },
    {
     "name": "stderr",
     "output_type": "stream",
     "text": [
      "\r",
      "Loss: 0.030:  51%|████▌    | 416/814 [10:08<07:22,  1.11s/it, ['local weather conditions']]"
     ]
    },
    {
     "name": "stderr",
     "output_type": "stream",
     "text": [
      "\r",
      "Loss: 0.027:  51%|████▌    | 416/814 [10:09<07:22,  1.11s/it, ['local weather conditions']]"
     ]
    },
    {
     "name": "stderr",
     "output_type": "stream",
     "text": [
      "\r",
      "Loss: 0.027:  51%|████▌    | 416/814 [10:09<07:22,  1.11s/it, ['local weather conditions']]"
     ]
    },
    {
     "name": "stderr",
     "output_type": "stream",
     "text": [
      "\r",
      "Loss: 0.027:  51%|████▌    | 417/814 [10:09<07:17,  1.10s/it, ['local weather conditions']]"
     ]
    },
    {
     "name": "stderr",
     "output_type": "stream",
     "text": [
      "\r",
      "Loss: 0.025:  51%|████▌    | 417/814 [10:10<07:17,  1.10s/it, ['local weather conditions']]"
     ]
    },
    {
     "name": "stderr",
     "output_type": "stream",
     "text": [
      "\r",
      "Loss: 0.025:  51%|████▌    | 417/814 [10:10<07:17,  1.10s/it, ['local weather conditions']]"
     ]
    },
    {
     "name": "stderr",
     "output_type": "stream",
     "text": [
      "\r",
      "Loss: 0.025:  51%|████▌    | 418/814 [10:10<07:17,  1.11s/it, ['local weather conditions']]"
     ]
    },
    {
     "name": "stderr",
     "output_type": "stream",
     "text": [
      "\r",
      "Loss: 0.026:  51%|████▌    | 418/814 [10:11<07:17,  1.11s/it, ['local weather conditions']]"
     ]
    },
    {
     "name": "stderr",
     "output_type": "stream",
     "text": [
      "\r",
      "Loss: 0.026:  51%|████▌    | 418/814 [10:11<07:17,  1.11s/it, ['local weather conditions']]"
     ]
    },
    {
     "name": "stderr",
     "output_type": "stream",
     "text": [
      "\r",
      "Loss: 0.026:  51%|████▋    | 419/814 [10:11<07:16,  1.11s/it, ['local weather conditions']]"
     ]
    },
    {
     "name": "stderr",
     "output_type": "stream",
     "text": [
      "\r",
      "Loss: 0.024:  51%|████▋    | 419/814 [10:12<07:16,  1.11s/it, ['local weather conditions']]"
     ]
    },
    {
     "name": "stderr",
     "output_type": "stream",
     "text": [
      "\r",
      "Loss: 0.024:  51%|████▋    | 419/814 [10:12<07:16,  1.11s/it, ['local weather conditions']]"
     ]
    },
    {
     "name": "stderr",
     "output_type": "stream",
     "text": [
      "\r",
      "Loss: 0.024:  52%|████▋    | 420/814 [10:12<07:15,  1.11s/it, ['local weather conditions']]"
     ]
    },
    {
     "name": "stderr",
     "output_type": "stream",
     "text": [
      "\r",
      "Loss: 0.022:  52%|████▋    | 420/814 [10:13<07:15,  1.11s/it, ['local weather conditions']]"
     ]
    },
    {
     "name": "stderr",
     "output_type": "stream",
     "text": [
      "\r",
      "Loss: 0.022:  52%|████▋    | 420/814 [10:13<07:15,  1.11s/it, ['local weather conditions']]"
     ]
    },
    {
     "name": "stderr",
     "output_type": "stream",
     "text": [
      "\r",
      "Loss: 0.022:  52%|████▋    | 421/814 [10:13<07:11,  1.10s/it, ['local weather conditions']]"
     ]
    },
    {
     "name": "stderr",
     "output_type": "stream",
     "text": [
      "\r",
      "Loss: 0.022:  52%|████▋    | 421/814 [10:14<07:11,  1.10s/it, ['local weather conditions']]"
     ]
    },
    {
     "name": "stderr",
     "output_type": "stream",
     "text": [
      "\r",
      "Loss: 0.022:  52%|████▋    | 421/814 [10:14<07:11,  1.10s/it, ['local weather conditions']]"
     ]
    },
    {
     "name": "stderr",
     "output_type": "stream",
     "text": [
      "\r",
      "Loss: 0.022:  52%|████▋    | 422/814 [10:14<07:12,  1.10s/it, ['local weather conditions']]"
     ]
    },
    {
     "name": "stderr",
     "output_type": "stream",
     "text": [
      "\r",
      "Loss: 0.021:  52%|████▋    | 422/814 [10:16<07:12,  1.10s/it, ['local weather conditions']]"
     ]
    },
    {
     "name": "stderr",
     "output_type": "stream",
     "text": [
      "\r",
      "Loss: 0.021:  52%|████▋    | 422/814 [10:16<07:12,  1.10s/it, ['local weather conditions']]"
     ]
    },
    {
     "name": "stderr",
     "output_type": "stream",
     "text": [
      "\r",
      "Loss: 0.021:  52%|████▋    | 423/814 [10:16<07:08,  1.10s/it, ['local weather conditions']]"
     ]
    },
    {
     "name": "stderr",
     "output_type": "stream",
     "text": [
      "\r",
      "Loss: 0.019:  52%|████▋    | 423/814 [10:17<07:08,  1.10s/it, ['local weather conditions']]"
     ]
    },
    {
     "name": "stderr",
     "output_type": "stream",
     "text": [
      "\r",
      "Loss: 0.019:  52%|████▋    | 423/814 [10:17<07:08,  1.10s/it, ['local weather conditions']]"
     ]
    },
    {
     "name": "stderr",
     "output_type": "stream",
     "text": [
      "\r",
      "Loss: 0.019:  52%|████▋    | 424/814 [10:17<07:08,  1.10s/it, ['local weather conditions']]"
     ]
    },
    {
     "name": "stderr",
     "output_type": "stream",
     "text": [
      "\r",
      "Loss: 0.017:  52%|████▋    | 424/814 [10:18<07:08,  1.10s/it, ['local weather conditions']]"
     ]
    },
    {
     "name": "stderr",
     "output_type": "stream",
     "text": [
      "\r",
      "Loss: 0.017:  52%|████▋    | 424/814 [10:18<07:08,  1.10s/it, ['local weather conditions']]"
     ]
    },
    {
     "name": "stderr",
     "output_type": "stream",
     "text": [
      "\r",
      "Loss: 0.017:  52%|████▋    | 425/814 [10:18<07:04,  1.09s/it, ['local weather conditions']]"
     ]
    },
    {
     "name": "stderr",
     "output_type": "stream",
     "text": [
      "\r",
      "Loss: 0.016:  52%|████▋    | 425/814 [10:19<07:04,  1.09s/it, ['local weather conditions']]"
     ]
    },
    {
     "name": "stderr",
     "output_type": "stream",
     "text": [
      "\r",
      "Loss: 0.016:  52%|████▋    | 425/814 [10:19<07:04,  1.09s/it, ['local weather conditions']]"
     ]
    },
    {
     "name": "stderr",
     "output_type": "stream",
     "text": [
      "\r",
      "Loss: 0.016:  52%|████▋    | 426/814 [10:19<07:02,  1.09s/it, ['local weather conditions']]"
     ]
    },
    {
     "name": "stderr",
     "output_type": "stream",
     "text": [
      "\r",
      "Loss: 0.014:  52%|████▋    | 426/814 [10:20<07:02,  1.09s/it, ['local weather conditions']]"
     ]
    },
    {
     "name": "stderr",
     "output_type": "stream",
     "text": [
      "\r",
      "Loss: 0.014:  52%|████▋    | 426/814 [10:20<07:02,  1.09s/it, ['local weather conditions']]"
     ]
    },
    {
     "name": "stderr",
     "output_type": "stream",
     "text": [
      "\r",
      "Loss: 0.014:  52%|████▋    | 427/814 [10:20<07:03,  1.09s/it, ['local weather conditions']]"
     ]
    },
    {
     "name": "stderr",
     "output_type": "stream",
     "text": [
      "\r",
      "Loss: 0.013:  52%|████▋    | 427/814 [10:21<07:03,  1.09s/it, ['local weather conditions']]"
     ]
    },
    {
     "name": "stderr",
     "output_type": "stream",
     "text": [
      "\r",
      "Loss: 0.013:  52%|████▋    | 427/814 [10:21<07:03,  1.09s/it, ['local weather conditions']]"
     ]
    },
    {
     "name": "stderr",
     "output_type": "stream",
     "text": [
      "\r",
      "Loss: 0.013:  53%|████▋    | 428/814 [10:21<07:14,  1.13s/it, ['local weather conditions']]"
     ]
    },
    {
     "name": "stderr",
     "output_type": "stream",
     "text": [
      "\r",
      "Loss: 0.015:  53%|████▋    | 428/814 [10:22<07:14,  1.13s/it, ['local weather conditions']]"
     ]
    },
    {
     "name": "stderr",
     "output_type": "stream",
     "text": [
      "\r",
      "Loss: 0.015:  53%|████▋    | 428/814 [10:22<07:14,  1.13s/it, ['local weather conditions']]"
     ]
    },
    {
     "name": "stderr",
     "output_type": "stream",
     "text": [
      "\r",
      "Loss: 0.015:  53%|████▋    | 429/814 [10:22<07:11,  1.12s/it, ['local weather conditions']]"
     ]
    },
    {
     "name": "stderr",
     "output_type": "stream",
     "text": [
      "\r",
      "Loss: 0.014:  53%|████▋    | 429/814 [10:23<07:11,  1.12s/it, ['local weather conditions']]"
     ]
    },
    {
     "name": "stderr",
     "output_type": "stream",
     "text": [
      "\r",
      "Loss: 0.014:  53%|████▋    | 429/814 [10:23<07:11,  1.12s/it, ['local weather conditions']]"
     ]
    },
    {
     "name": "stderr",
     "output_type": "stream",
     "text": [
      "\r",
      "Loss: 0.014:  53%|████▊    | 430/814 [10:23<07:17,  1.14s/it, ['local weather conditions']]"
     ]
    },
    {
     "name": "stderr",
     "output_type": "stream",
     "text": [
      "\r",
      "Loss: 0.013:  53%|████▊    | 430/814 [10:25<07:17,  1.14s/it, ['local weather conditions']]"
     ]
    },
    {
     "name": "stderr",
     "output_type": "stream",
     "text": [
      "\r",
      "Loss: 0.013:  53%|████▊    | 430/814 [10:25<07:17,  1.14s/it, ['local weather conditions']]"
     ]
    },
    {
     "name": "stderr",
     "output_type": "stream",
     "text": [
      "\r",
      "Loss: 0.013:  53%|████▊    | 431/814 [10:25<07:11,  1.13s/it, ['local weather conditions']]"
     ]
    },
    {
     "name": "stderr",
     "output_type": "stream",
     "text": [
      "\r",
      "Loss: 0.034:  53%|████▊    | 431/814 [10:26<07:11,  1.13s/it, ['local weather conditions']]"
     ]
    },
    {
     "name": "stderr",
     "output_type": "stream",
     "text": [
      "\r",
      "Loss: 0.034:  53%|████▊    | 431/814 [10:26<07:11,  1.13s/it, ['local weather conditions']]"
     ]
    },
    {
     "name": "stderr",
     "output_type": "stream",
     "text": [
      "\r",
      "Loss: 0.034:  53%|████▊    | 432/814 [10:26<07:15,  1.14s/it, ['local weather conditions']]"
     ]
    },
    {
     "name": "stderr",
     "output_type": "stream",
     "text": [
      "\r",
      "Loss: 0.031:  53%|████▊    | 432/814 [10:27<07:15,  1.14s/it, ['local weather conditions']]"
     ]
    },
    {
     "name": "stderr",
     "output_type": "stream",
     "text": [
      "\r",
      "Loss: 0.031:  53%|████▊    | 432/814 [10:27<07:15,  1.14s/it, ['local weather conditions']]"
     ]
    },
    {
     "name": "stderr",
     "output_type": "stream",
     "text": [
      "\r",
      "Loss: 0.031:  53%|████▊    | 433/814 [10:27<08:17,  1.31s/it, ['local weather conditions']]"
     ]
    },
    {
     "name": "stderr",
     "output_type": "stream",
     "text": [
      "\r",
      "Loss: 0.028:  53%|████▊    | 433/814 [10:29<08:17,  1.31s/it, ['local weather conditions']]"
     ]
    },
    {
     "name": "stderr",
     "output_type": "stream",
     "text": [
      "\r",
      "Loss: 0.028:  53%|████▊    | 433/814 [10:29<08:17,  1.31s/it, ['local weather conditions']]"
     ]
    },
    {
     "name": "stderr",
     "output_type": "stream",
     "text": [
      "\r",
      "Loss: 0.028:  53%|████▊    | 434/814 [10:29<09:26,  1.49s/it, ['local weather conditions']]"
     ]
    },
    {
     "name": "stderr",
     "output_type": "stream",
     "text": [
      "\r",
      "Loss: 0.025:  53%|████▊    | 434/814 [10:31<09:26,  1.49s/it, ['local weather conditions']]"
     ]
    },
    {
     "name": "stderr",
     "output_type": "stream",
     "text": [
      "\r",
      "Loss: 0.025:  53%|████▊    | 434/814 [10:31<09:26,  1.49s/it, ['local weather conditions']]"
     ]
    },
    {
     "name": "stderr",
     "output_type": "stream",
     "text": [
      "\r",
      "Loss: 0.025:  53%|████▊    | 435/814 [10:31<10:14,  1.62s/it, ['local weather conditions']]"
     ]
    },
    {
     "name": "stderr",
     "output_type": "stream",
     "text": [
      "\r",
      "Loss: 0.047:  53%|████▊    | 435/814 [10:33<10:14,  1.62s/it, ['local weather conditions']]"
     ]
    },
    {
     "name": "stderr",
     "output_type": "stream",
     "text": [
      "\r",
      "Loss: 0.047:  53%|████▊    | 435/814 [10:33<10:14,  1.62s/it, ['local weather conditions']]"
     ]
    },
    {
     "name": "stderr",
     "output_type": "stream",
     "text": [
      "\r",
      "Loss: 0.047:  54%|████▊    | 436/814 [10:33<10:46,  1.71s/it, ['local weather conditions']]"
     ]
    },
    {
     "name": "stderr",
     "output_type": "stream",
     "text": [
      "\r",
      "Loss: 0.043:  54%|████▊    | 436/814 [10:35<10:46,  1.71s/it, ['local weather conditions']]"
     ]
    },
    {
     "name": "stderr",
     "output_type": "stream",
     "text": [
      "\r",
      "Loss: 0.043:  54%|████▊    | 436/814 [10:35<10:46,  1.71s/it, ['local weather conditions']]"
     ]
    },
    {
     "name": "stderr",
     "output_type": "stream",
     "text": [
      "\r",
      "Loss: 0.043:  54%|████▊    | 437/814 [10:35<11:09,  1.78s/it, ['local weather conditions']]"
     ]
    },
    {
     "name": "stderr",
     "output_type": "stream",
     "text": [
      "\r",
      "Loss: 0.039:  54%|████▊    | 437/814 [10:37<11:09,  1.78s/it, ['local weather conditions']]"
     ]
    },
    {
     "name": "stderr",
     "output_type": "stream",
     "text": [
      "\r",
      "Loss: 0.039:  54%|████▊    | 437/814 [10:37<11:09,  1.78s/it, ['local weather conditions']]"
     ]
    },
    {
     "name": "stderr",
     "output_type": "stream",
     "text": [
      "\r",
      "Loss: 0.039:  54%|████▊    | 438/814 [10:37<11:25,  1.82s/it, ['local weather conditions']]"
     ]
    },
    {
     "name": "stderr",
     "output_type": "stream",
     "text": [
      "\r",
      "Loss: 0.035:  54%|████▊    | 438/814 [10:39<11:25,  1.82s/it, ['local weather conditions']]"
     ]
    },
    {
     "name": "stderr",
     "output_type": "stream",
     "text": [
      "\r",
      "Loss: 0.035:  54%|████▊    | 438/814 [10:39<11:25,  1.82s/it, ['local weather conditions']]"
     ]
    },
    {
     "name": "stderr",
     "output_type": "stream",
     "text": [
      "\r",
      "Loss: 0.035:  54%|████▊    | 439/814 [10:39<11:33,  1.85s/it, ['local weather conditions']]"
     ]
    },
    {
     "name": "stderr",
     "output_type": "stream",
     "text": [
      "\r",
      "Loss: 0.032:  54%|████▊    | 439/814 [10:41<11:33,  1.85s/it, ['local weather conditions']]"
     ]
    },
    {
     "name": "stderr",
     "output_type": "stream",
     "text": [
      "\r",
      "Loss: 0.032:  54%|████▊    | 439/814 [10:41<11:33,  1.85s/it, ['local weather conditions']]"
     ]
    },
    {
     "name": "stderr",
     "output_type": "stream",
     "text": [
      "\r",
      "Loss: 0.032:  54%|████▊    | 440/814 [10:41<11:40,  1.87s/it, ['local weather conditions']]"
     ]
    },
    {
     "name": "stderr",
     "output_type": "stream",
     "text": [
      "\r",
      "Loss: 0.031:  54%|████▊    | 440/814 [10:43<11:40,  1.87s/it, ['local weather conditions']]"
     ]
    },
    {
     "name": "stderr",
     "output_type": "stream",
     "text": [
      "\r",
      "Loss: 0.031:  54%|████▊    | 440/814 [10:43<11:40,  1.87s/it, ['local weather conditions']]"
     ]
    },
    {
     "name": "stderr",
     "output_type": "stream",
     "text": [
      "\r",
      "Loss: 0.031:  54%|████▉    | 441/814 [10:43<11:47,  1.90s/it, ['local weather conditions']]"
     ]
    },
    {
     "name": "stderr",
     "output_type": "stream",
     "text": [
      "\r",
      "Loss: 0.058:  54%|████▉    | 441/814 [10:45<11:47,  1.90s/it, ['local weather conditions']]"
     ]
    },
    {
     "name": "stderr",
     "output_type": "stream",
     "text": [
      "\r",
      "Loss: 0.058:  54%|████▉    | 441/814 [10:45<11:47,  1.90s/it, ['local weather conditions']]"
     ]
    },
    {
     "name": "stderr",
     "output_type": "stream",
     "text": [
      "\r",
      "Loss: 0.058:  54%|████▉    | 442/814 [10:45<11:47,  1.90s/it, ['local weather conditions']]"
     ]
    },
    {
     "name": "stderr",
     "output_type": "stream",
     "text": [
      "\r",
      "Loss: 0.058:  54%|████▉    | 442/814 [10:47<11:47,  1.90s/it, ['local weather conditions']]"
     ]
    },
    {
     "name": "stderr",
     "output_type": "stream",
     "text": [
      "\r",
      "Loss: 0.058:  54%|████▉    | 442/814 [10:47<11:47,  1.90s/it, ['local weather conditions']]"
     ]
    },
    {
     "name": "stderr",
     "output_type": "stream",
     "text": [
      "\r",
      "Loss: 0.058:  54%|████▉    | 443/814 [10:47<11:45,  1.90s/it, ['local weather conditions']]"
     ]
    },
    {
     "name": "stderr",
     "output_type": "stream",
     "text": [
      "\r",
      "Loss: 0.053:  54%|████▉    | 443/814 [10:49<11:45,  1.90s/it, ['local weather conditions']]"
     ]
    },
    {
     "name": "stderr",
     "output_type": "stream",
     "text": [
      "\r",
      "Loss: 0.053:  54%|████▉    | 443/814 [10:49<11:45,  1.90s/it, ['local weather conditions']]"
     ]
    },
    {
     "name": "stderr",
     "output_type": "stream",
     "text": [
      "\r",
      "Loss: 0.053:  55%|████▉    | 444/814 [10:49<11:45,  1.91s/it, ['local weather conditions']]"
     ]
    },
    {
     "name": "stderr",
     "output_type": "stream",
     "text": [
      "\r",
      "Loss: 0.048:  55%|████▉    | 444/814 [10:50<11:45,  1.91s/it, ['local weather conditions']]"
     ]
    },
    {
     "name": "stderr",
     "output_type": "stream",
     "text": [
      "\r",
      "Loss: 0.048:  55%|████▉    | 444/814 [10:50<11:45,  1.91s/it, ['local weather conditions']]"
     ]
    },
    {
     "name": "stderr",
     "output_type": "stream",
     "text": [
      "\r",
      "Loss: 0.048:  55%|████▉    | 445/814 [10:50<11:44,  1.91s/it, ['local weather conditions']]"
     ]
    },
    {
     "name": "stderr",
     "output_type": "stream",
     "text": [
      "\r",
      "Loss: 0.043:  55%|████▉    | 445/814 [10:52<11:44,  1.91s/it, ['local weather conditions']]"
     ]
    },
    {
     "name": "stderr",
     "output_type": "stream",
     "text": [
      "\r",
      "Loss: 0.043:  55%|████▉    | 445/814 [10:52<11:44,  1.91s/it, ['local weather conditions']]"
     ]
    },
    {
     "name": "stderr",
     "output_type": "stream",
     "text": [
      "\r",
      "Loss: 0.043:  55%|████▉    | 446/814 [10:52<11:44,  1.91s/it, ['local weather conditions']]"
     ]
    },
    {
     "name": "stderr",
     "output_type": "stream",
     "text": [
      "\r",
      "Loss: 0.039:  55%|████▉    | 446/814 [10:54<11:44,  1.91s/it, ['local weather conditions']]"
     ]
    },
    {
     "name": "stderr",
     "output_type": "stream",
     "text": [
      "\r",
      "Loss: 0.039:  55%|████▉    | 446/814 [10:54<11:44,  1.91s/it, ['local weather conditions']]"
     ]
    },
    {
     "name": "stderr",
     "output_type": "stream",
     "text": [
      "\r",
      "Loss: 0.039:  55%|████▉    | 447/814 [10:54<11:42,  1.91s/it, ['local weather conditions']]"
     ]
    },
    {
     "name": "stderr",
     "output_type": "stream",
     "text": [
      "\r",
      "Loss: 0.037:  55%|████▉    | 447/814 [10:56<11:42,  1.91s/it, ['local weather conditions']]"
     ]
    },
    {
     "name": "stderr",
     "output_type": "stream",
     "text": [
      "\r",
      "Loss: 0.037:  55%|████▉    | 447/814 [10:56<11:42,  1.91s/it, ['local weather conditions']]"
     ]
    },
    {
     "name": "stderr",
     "output_type": "stream",
     "text": [
      "\r",
      "Loss: 0.037:  55%|████▉    | 448/814 [10:56<11:38,  1.91s/it, ['local weather conditions']]"
     ]
    },
    {
     "name": "stderr",
     "output_type": "stream",
     "text": [
      "\r",
      "Loss: 0.033:  55%|████▉    | 448/814 [10:58<11:38,  1.91s/it, ['local weather conditions']]"
     ]
    },
    {
     "name": "stderr",
     "output_type": "stream",
     "text": [
      "\r",
      "Loss: 0.033:  55%|████▉    | 448/814 [10:58<11:38,  1.91s/it, ['local weather conditions']]"
     ]
    },
    {
     "name": "stderr",
     "output_type": "stream",
     "text": [
      "\r",
      "Loss: 0.033:  55%|████▉    | 449/814 [10:58<11:40,  1.92s/it, ['local weather conditions']]"
     ]
    },
    {
     "name": "stderr",
     "output_type": "stream",
     "text": [
      "\r",
      "Loss: 0.033:  55%|████▉    | 449/814 [11:00<11:40,  1.92s/it, ['local weather conditions']]"
     ]
    },
    {
     "name": "stderr",
     "output_type": "stream",
     "text": [
      "\r",
      "Loss: 0.033:  55%|████▉    | 449/814 [11:00<11:40,  1.92s/it, ['local weather conditions']]"
     ]
    },
    {
     "name": "stderr",
     "output_type": "stream",
     "text": [
      "\r",
      "Loss: 0.033:  55%|████▉    | 450/814 [11:00<11:40,  1.92s/it, ['local weather conditions']]"
     ]
    },
    {
     "name": "stderr",
     "output_type": "stream",
     "text": [
      "\r",
      "Loss: 0.029:  55%|████▉    | 450/814 [11:02<11:40,  1.92s/it, ['local weather conditions']]"
     ]
    },
    {
     "name": "stderr",
     "output_type": "stream",
     "text": [
      "\r",
      "Loss: 0.029:  55%|████▉    | 450/814 [11:02<11:40,  1.92s/it, ['local weather conditions']]"
     ]
    },
    {
     "name": "stderr",
     "output_type": "stream",
     "text": [
      "\r",
      "Loss: 0.029:  55%|████▉    | 451/814 [11:02<11:03,  1.83s/it, ['local weather conditions']]"
     ]
    },
    {
     "name": "stderr",
     "output_type": "stream",
     "text": [
      "\r",
      "Loss: 0.027:  55%|████▉    | 451/814 [11:04<11:03,  1.83s/it, ['local weather conditions']]"
     ]
    },
    {
     "name": "stderr",
     "output_type": "stream",
     "text": [
      "\r",
      "Loss: 0.027:  55%|████▉    | 451/814 [11:04<11:03,  1.83s/it, ['local weather conditions']]"
     ]
    },
    {
     "name": "stderr",
     "output_type": "stream",
     "text": [
      "\r",
      "Loss: 0.027:  56%|████▉    | 452/814 [11:04<11:07,  1.84s/it, ['local weather conditions']]"
     ]
    },
    {
     "name": "stderr",
     "output_type": "stream",
     "text": [
      "\r",
      "Loss: 0.024:  56%|████▉    | 452/814 [11:05<11:07,  1.84s/it, ['local weather conditions']]"
     ]
    },
    {
     "name": "stderr",
     "output_type": "stream",
     "text": [
      "\r",
      "Loss: 0.024:  56%|████▉    | 452/814 [11:05<11:07,  1.84s/it, ['local weather conditions']]"
     ]
    },
    {
     "name": "stderr",
     "output_type": "stream",
     "text": [
      "\r",
      "Loss: 0.024:  56%|█████    | 453/814 [11:05<11:12,  1.86s/it, ['local weather conditions']]"
     ]
    },
    {
     "name": "stderr",
     "output_type": "stream",
     "text": [
      "\r",
      "Loss: 0.022:  56%|█████    | 453/814 [11:07<11:12,  1.86s/it, ['local weather conditions']]"
     ]
    },
    {
     "name": "stderr",
     "output_type": "stream",
     "text": [
      "\r",
      "Loss: 0.022:  56%|█████    | 453/814 [11:07<11:12,  1.86s/it, ['local weather conditions']]"
     ]
    },
    {
     "name": "stderr",
     "output_type": "stream",
     "text": [
      "\r",
      "Loss: 0.022:  56%|█████    | 454/814 [11:07<10:44,  1.79s/it, ['local weather conditions']]"
     ]
    },
    {
     "name": "stderr",
     "output_type": "stream",
     "text": [
      "\r",
      "Loss: 0.020:  56%|█████    | 454/814 [11:09<10:44,  1.79s/it, ['local weather conditions']]"
     ]
    },
    {
     "name": "stderr",
     "output_type": "stream",
     "text": [
      "\r",
      "Loss: 0.020:  56%|█████    | 454/814 [11:09<10:44,  1.79s/it, ['local weather conditions']]"
     ]
    },
    {
     "name": "stderr",
     "output_type": "stream",
     "text": [
      "\r",
      "Loss: 0.020:  56%|█████    | 455/814 [11:09<10:56,  1.83s/it, ['local weather conditions']]"
     ]
    },
    {
     "name": "stderr",
     "output_type": "stream",
     "text": [
      "\r",
      "Loss: 0.018:  56%|█████    | 455/814 [11:11<10:56,  1.83s/it, ['local weather conditions']]"
     ]
    },
    {
     "name": "stderr",
     "output_type": "stream",
     "text": [
      "\r",
      "Loss: 0.018:  56%|█████    | 455/814 [11:11<10:56,  1.83s/it, ['local weather conditions']]"
     ]
    },
    {
     "name": "stderr",
     "output_type": "stream",
     "text": [
      "\r",
      "Loss: 0.018:  56%|█████    | 456/814 [11:11<11:11,  1.88s/it, ['local weather conditions']]"
     ]
    },
    {
     "name": "stderr",
     "output_type": "stream",
     "text": [
      "\r",
      "Loss: 0.017:  56%|█████    | 456/814 [11:13<11:11,  1.88s/it, ['local weather conditions']]"
     ]
    },
    {
     "name": "stderr",
     "output_type": "stream",
     "text": [
      "\r",
      "Loss: 0.017:  56%|█████    | 456/814 [11:13<11:11,  1.88s/it, ['local weather conditions']]"
     ]
    },
    {
     "name": "stderr",
     "output_type": "stream",
     "text": [
      "\r",
      "Loss: 0.017:  56%|█████    | 457/814 [11:13<10:47,  1.81s/it, ['local weather conditions']]"
     ]
    },
    {
     "name": "stderr",
     "output_type": "stream",
     "text": [
      "\r",
      "Loss: 0.015:  56%|█████    | 457/814 [11:14<10:47,  1.81s/it, ['local weather conditions']]"
     ]
    },
    {
     "name": "stderr",
     "output_type": "stream",
     "text": [
      "\r",
      "Loss: 0.015:  56%|█████    | 457/814 [11:14<10:47,  1.81s/it, ['local weather conditions']]"
     ]
    },
    {
     "name": "stderr",
     "output_type": "stream",
     "text": [
      "\r",
      "Loss: 0.015:  56%|█████    | 458/814 [11:14<10:49,  1.82s/it, ['local weather conditions']]"
     ]
    },
    {
     "name": "stderr",
     "output_type": "stream",
     "text": [
      "\r",
      "Loss: 0.014:  56%|█████    | 458/814 [11:16<10:49,  1.82s/it, ['local weather conditions']]"
     ]
    },
    {
     "name": "stderr",
     "output_type": "stream",
     "text": [
      "\r",
      "Loss: 0.014:  56%|█████    | 458/814 [11:16<10:49,  1.82s/it, ['local weather conditions']]"
     ]
    },
    {
     "name": "stderr",
     "output_type": "stream",
     "text": [
      "\r",
      "Loss: 0.014:  56%|█████    | 459/814 [11:16<10:00,  1.69s/it, ['local weather conditions']]"
     ]
    },
    {
     "name": "stderr",
     "output_type": "stream",
     "text": [
      "\r",
      "Loss: 0.013:  56%|█████    | 459/814 [11:18<10:00,  1.69s/it, ['local weather conditions']]"
     ]
    },
    {
     "name": "stderr",
     "output_type": "stream",
     "text": [
      "\r",
      "Loss: 0.013:  56%|█████    | 459/814 [11:18<10:00,  1.69s/it, ['local weather conditions']]"
     ]
    },
    {
     "name": "stderr",
     "output_type": "stream",
     "text": [
      "\r",
      "Loss: 0.013:  57%|█████    | 460/814 [11:18<10:26,  1.77s/it, ['local weather conditions']]"
     ]
    },
    {
     "name": "stderr",
     "output_type": "stream",
     "text": [
      "\r",
      "Loss: 0.012:  57%|█████    | 460/814 [11:20<10:26,  1.77s/it, ['local weather conditions']]"
     ]
    },
    {
     "name": "stderr",
     "output_type": "stream",
     "text": [
      "\r",
      "Loss: 0.012:  57%|█████    | 460/814 [11:20<10:26,  1.77s/it, ['local weather conditions']]"
     ]
    },
    {
     "name": "stderr",
     "output_type": "stream",
     "text": [
      "\r",
      "Loss: 0.012:  57%|█████    | 461/814 [11:20<10:44,  1.83s/it, ['local weather conditions']]"
     ]
    },
    {
     "name": "stderr",
     "output_type": "stream",
     "text": [
      "\r",
      "Loss: 0.011:  57%|█████    | 461/814 [11:22<10:44,  1.83s/it, ['local weather conditions']]"
     ]
    },
    {
     "name": "stderr",
     "output_type": "stream",
     "text": [
      "\r",
      "Loss: 0.011:  57%|█████    | 461/814 [11:22<10:44,  1.83s/it, ['local weather conditions']]"
     ]
    },
    {
     "name": "stderr",
     "output_type": "stream",
     "text": [
      "\r",
      "Loss: 0.011:  57%|█████    | 462/814 [11:22<10:55,  1.86s/it, ['local weather conditions']]"
     ]
    },
    {
     "name": "stderr",
     "output_type": "stream",
     "text": [
      "\r",
      "Loss: 0.010:  57%|█████    | 462/814 [11:24<10:55,  1.86s/it, ['local weather conditions']]"
     ]
    },
    {
     "name": "stderr",
     "output_type": "stream",
     "text": [
      "\r",
      "Loss: 0.010:  57%|█████    | 462/814 [11:24<10:55,  1.86s/it, ['local weather conditions']]"
     ]
    },
    {
     "name": "stderr",
     "output_type": "stream",
     "text": [
      "\r",
      "Loss: 0.010:  57%|█████    | 463/814 [11:24<11:04,  1.89s/it, ['local weather conditions']]"
     ]
    },
    {
     "name": "stderr",
     "output_type": "stream",
     "text": [
      "\r",
      "Loss: 0.012:  57%|█████    | 463/814 [11:26<11:04,  1.89s/it, ['local weather conditions']]"
     ]
    },
    {
     "name": "stderr",
     "output_type": "stream",
     "text": [
      "\r",
      "Loss: 0.012:  57%|█████    | 463/814 [11:26<11:04,  1.89s/it, ['local weather conditions']]"
     ]
    },
    {
     "name": "stderr",
     "output_type": "stream",
     "text": [
      "\r",
      "Loss: 0.012:  57%|█████▏   | 464/814 [11:26<11:06,  1.90s/it, ['local weather conditions']]"
     ]
    },
    {
     "name": "stderr",
     "output_type": "stream",
     "text": [
      "\r",
      "Loss: 0.044:  57%|█████▏   | 464/814 [11:28<11:06,  1.90s/it, ['local weather conditions']]"
     ]
    },
    {
     "name": "stderr",
     "output_type": "stream",
     "text": [
      "\r",
      "Loss: 0.044:  57%|█████▏   | 464/814 [11:28<11:06,  1.90s/it, ['local weather conditions']]"
     ]
    },
    {
     "name": "stderr",
     "output_type": "stream",
     "text": [
      "\r",
      "Loss: 0.044:  57%|█████▏   | 465/814 [11:28<11:07,  1.91s/it, ['local weather conditions']]"
     ]
    },
    {
     "name": "stderr",
     "output_type": "stream",
     "text": [
      "\r",
      "Loss: 0.041:  57%|█████▏   | 465/814 [11:29<11:07,  1.91s/it, ['local weather conditions']]"
     ]
    },
    {
     "name": "stderr",
     "output_type": "stream",
     "text": [
      "\r",
      "Loss: 0.041:  57%|█████▏   | 465/814 [11:29<11:07,  1.91s/it, ['local weather conditions']]"
     ]
    },
    {
     "name": "stderr",
     "output_type": "stream",
     "text": [
      "\r",
      "Loss: 0.041:  57%|█████▏   | 466/814 [11:29<11:06,  1.92s/it, ['local weather conditions']]"
     ]
    },
    {
     "name": "stderr",
     "output_type": "stream",
     "text": [
      "\r",
      "Loss: 0.066:  57%|█████▏   | 466/814 [11:31<11:06,  1.92s/it, ['local weather conditions']]"
     ]
    },
    {
     "name": "stderr",
     "output_type": "stream",
     "text": [
      "\r",
      "Loss: 0.066:  57%|█████▏   | 466/814 [11:31<11:06,  1.92s/it, ['local weather conditions']]"
     ]
    },
    {
     "name": "stderr",
     "output_type": "stream",
     "text": [
      "\r",
      "Loss: 0.066:  57%|█████▏   | 467/814 [11:31<11:03,  1.91s/it, ['local weather conditions']]"
     ]
    },
    {
     "name": "stderr",
     "output_type": "stream",
     "text": [
      "\r",
      "Loss: 0.063:  57%|█████▏   | 467/814 [11:33<11:03,  1.91s/it, ['local weather conditions']]"
     ]
    },
    {
     "name": "stderr",
     "output_type": "stream",
     "text": [
      "\r",
      "Loss: 0.063:  57%|█████▏   | 467/814 [11:33<11:03,  1.91s/it, ['local weather conditions']]"
     ]
    },
    {
     "name": "stderr",
     "output_type": "stream",
     "text": [
      "\r",
      "Loss: 0.063:  57%|█████▏   | 468/814 [11:33<11:04,  1.92s/it, ['local weather conditions']]"
     ]
    },
    {
     "name": "stderr",
     "output_type": "stream",
     "text": [
      "\r",
      "Loss: 0.062:  57%|█████▏   | 468/814 [11:35<11:04,  1.92s/it, ['local weather conditions']]"
     ]
    },
    {
     "name": "stderr",
     "output_type": "stream",
     "text": [
      "\r",
      "Loss: 0.062:  57%|█████▏   | 468/814 [11:35<11:04,  1.92s/it, ['local weather conditions']]"
     ]
    },
    {
     "name": "stderr",
     "output_type": "stream",
     "text": [
      "\r",
      "Loss: 0.062:  58%|█████▏   | 469/814 [11:35<11:03,  1.92s/it, ['local weather conditions']]"
     ]
    },
    {
     "name": "stderr",
     "output_type": "stream",
     "text": [
      "\r",
      "Loss: 0.056:  58%|█████▏   | 469/814 [11:37<11:03,  1.92s/it, ['local weather conditions']]"
     ]
    },
    {
     "name": "stderr",
     "output_type": "stream",
     "text": [
      "\r",
      "Loss: 0.056:  58%|█████▏   | 469/814 [11:37<11:03,  1.92s/it, ['local weather conditions']]"
     ]
    },
    {
     "name": "stderr",
     "output_type": "stream",
     "text": [
      "\r",
      "Loss: 0.056:  58%|█████▏   | 470/814 [11:37<11:01,  1.92s/it, ['local weather conditions']]"
     ]
    },
    {
     "name": "stderr",
     "output_type": "stream",
     "text": [
      "\r",
      "Loss: 0.051:  58%|█████▏   | 470/814 [11:39<11:01,  1.92s/it, ['local weather conditions']]"
     ]
    },
    {
     "name": "stderr",
     "output_type": "stream",
     "text": [
      "\r",
      "Loss: 0.051:  58%|█████▏   | 470/814 [11:39<11:01,  1.92s/it, ['local weather conditions']]"
     ]
    },
    {
     "name": "stderr",
     "output_type": "stream",
     "text": [
      "\r",
      "Loss: 0.051:  58%|█████▏   | 471/814 [11:39<10:59,  1.92s/it, ['local weather conditions']]"
     ]
    },
    {
     "name": "stderr",
     "output_type": "stream",
     "text": [
      "\r",
      "Loss: 0.046:  58%|█████▏   | 471/814 [11:41<10:59,  1.92s/it, ['local weather conditions']]"
     ]
    },
    {
     "name": "stderr",
     "output_type": "stream",
     "text": [
      "\r",
      "Loss: 0.046:  58%|█████▏   | 471/814 [11:41<10:59,  1.92s/it, ['local weather conditions']]"
     ]
    },
    {
     "name": "stderr",
     "output_type": "stream",
     "text": [
      "\r",
      "Loss: 0.046:  58%|█████▏   | 472/814 [11:41<10:57,  1.92s/it, ['local weather conditions']]"
     ]
    },
    {
     "name": "stderr",
     "output_type": "stream",
     "text": [
      "\r",
      "Loss: 0.041:  58%|█████▏   | 472/814 [11:43<10:57,  1.92s/it, ['local weather conditions']]"
     ]
    },
    {
     "name": "stderr",
     "output_type": "stream",
     "text": [
      "\r",
      "Loss: 0.041:  58%|█████▏   | 472/814 [11:43<10:57,  1.92s/it, ['local weather conditions']]"
     ]
    },
    {
     "name": "stderr",
     "output_type": "stream",
     "text": [
      "\r",
      "Loss: 0.041:  58%|█████▏   | 473/814 [11:43<10:56,  1.92s/it, ['local weather conditions']]"
     ]
    },
    {
     "name": "stderr",
     "output_type": "stream",
     "text": [
      "\r",
      "Loss: 0.038:  58%|█████▏   | 473/814 [11:45<10:56,  1.92s/it, ['local weather conditions']]"
     ]
    },
    {
     "name": "stderr",
     "output_type": "stream",
     "text": [
      "\r",
      "Loss: 0.038:  58%|█████▏   | 473/814 [11:45<10:56,  1.92s/it, ['local weather conditions']]"
     ]
    },
    {
     "name": "stderr",
     "output_type": "stream",
     "text": [
      "\r",
      "Loss: 0.038:  58%|█████▏   | 474/814 [11:45<10:55,  1.93s/it, ['local weather conditions']]"
     ]
    },
    {
     "name": "stderr",
     "output_type": "stream",
     "text": [
      "\r",
      "Loss: 0.035:  58%|█████▏   | 474/814 [11:47<10:55,  1.93s/it, ['local weather conditions']]"
     ]
    },
    {
     "name": "stderr",
     "output_type": "stream",
     "text": [
      "\r",
      "Loss: 0.035:  58%|█████▏   | 474/814 [11:47<10:55,  1.93s/it, ['local weather conditions']]"
     ]
    },
    {
     "name": "stderr",
     "output_type": "stream",
     "text": [
      "\r",
      "Loss: 0.035:  58%|█████▎   | 475/814 [11:47<10:53,  1.93s/it, ['local weather conditions']]"
     ]
    },
    {
     "name": "stderr",
     "output_type": "stream",
     "text": [
      "\r",
      "Loss: 0.032:  58%|█████▎   | 475/814 [11:49<10:53,  1.93s/it, ['local weather conditions']]"
     ]
    },
    {
     "name": "stderr",
     "output_type": "stream",
     "text": [
      "\r",
      "Loss: 0.032:  58%|█████▎   | 475/814 [11:49<10:53,  1.93s/it, ['local weather conditions']]"
     ]
    },
    {
     "name": "stderr",
     "output_type": "stream",
     "text": [
      "\r",
      "Loss: 0.032:  58%|█████▎   | 476/814 [11:49<10:51,  1.93s/it, ['local weather conditions']]"
     ]
    },
    {
     "name": "stderr",
     "output_type": "stream",
     "text": [
      "\r",
      "Loss: 0.029:  58%|█████▎   | 476/814 [11:50<10:51,  1.93s/it, ['local weather conditions']]"
     ]
    },
    {
     "name": "stderr",
     "output_type": "stream",
     "text": [
      "\r",
      "Loss: 0.029:  58%|█████▎   | 476/814 [11:50<10:51,  1.93s/it, ['local weather conditions']]"
     ]
    },
    {
     "name": "stderr",
     "output_type": "stream",
     "text": [
      "\r",
      "Loss: 0.029:  59%|█████▎   | 477/814 [11:50<10:27,  1.86s/it, ['local weather conditions']]"
     ]
    },
    {
     "name": "stderr",
     "output_type": "stream",
     "text": [
      "\r",
      "Loss: 0.026:  59%|█████▎   | 477/814 [11:52<10:27,  1.86s/it, ['local weather conditions']]"
     ]
    },
    {
     "name": "stderr",
     "output_type": "stream",
     "text": [
      "\r",
      "Loss: 0.026:  59%|█████▎   | 477/814 [11:52<10:27,  1.86s/it, ['local weather conditions']]"
     ]
    },
    {
     "name": "stderr",
     "output_type": "stream",
     "text": [
      "\r",
      "Loss: 0.026:  59%|█████▎   | 478/814 [11:52<09:10,  1.64s/it, ['local weather conditions']]"
     ]
    },
    {
     "name": "stderr",
     "output_type": "stream",
     "text": [
      "\r",
      "Loss: 0.024:  59%|█████▎   | 478/814 [11:53<09:10,  1.64s/it, ['local weather conditions']]"
     ]
    },
    {
     "name": "stderr",
     "output_type": "stream",
     "text": [
      "\r",
      "Loss: 0.024:  59%|█████▎   | 478/814 [11:54<09:10,  1.64s/it, ['local weather conditions']]"
     ]
    },
    {
     "name": "stderr",
     "output_type": "stream",
     "text": [
      "\r",
      "Loss: 0.024:  59%|█████▎   | 479/814 [11:54<09:39,  1.73s/it, ['local weather conditions']]"
     ]
    },
    {
     "name": "stderr",
     "output_type": "stream",
     "text": [
      "\r",
      "Loss: 0.022:  59%|█████▎   | 479/814 [11:55<09:39,  1.73s/it, ['local weather conditions']]"
     ]
    },
    {
     "name": "stderr",
     "output_type": "stream",
     "text": [
      "\r",
      "Loss: 0.022:  59%|█████▎   | 479/814 [11:55<09:39,  1.73s/it, ['local weather conditions']]"
     ]
    },
    {
     "name": "stderr",
     "output_type": "stream",
     "text": [
      "\r",
      "Loss: 0.022:  59%|█████▎   | 480/814 [11:55<09:58,  1.79s/it, ['local weather conditions']]"
     ]
    },
    {
     "name": "stderr",
     "output_type": "stream",
     "text": [
      "\r",
      "Loss: 0.021:  59%|█████▎   | 480/814 [11:57<09:58,  1.79s/it, ['local weather conditions']]"
     ]
    },
    {
     "name": "stderr",
     "output_type": "stream",
     "text": [
      "\r",
      "Loss: 0.021:  59%|█████▎   | 480/814 [11:57<09:58,  1.79s/it, ['local weather conditions']]"
     ]
    },
    {
     "name": "stderr",
     "output_type": "stream",
     "text": [
      "\r",
      "Loss: 0.021:  59%|█████▎   | 481/814 [11:57<09:06,  1.64s/it, ['local weather conditions']]"
     ]
    },
    {
     "name": "stderr",
     "output_type": "stream",
     "text": [
      "\r",
      "Loss: 0.022:  59%|█████▎   | 481/814 [11:59<09:06,  1.64s/it, ['local weather conditions']]"
     ]
    },
    {
     "name": "stderr",
     "output_type": "stream",
     "text": [
      "\r",
      "Loss: 0.022:  59%|█████▎   | 481/814 [11:59<09:06,  1.64s/it, ['local weather conditions']]"
     ]
    },
    {
     "name": "stderr",
     "output_type": "stream",
     "text": [
      "\r",
      "Loss: 0.022:  59%|█████▎   | 482/814 [11:59<09:31,  1.72s/it, ['local weather conditions']]"
     ]
    },
    {
     "name": "stderr",
     "output_type": "stream",
     "text": [
      "\r",
      "Loss: 0.020:  59%|█████▎   | 482/814 [12:01<09:31,  1.72s/it, ['local weather conditions']]"
     ]
    },
    {
     "name": "stderr",
     "output_type": "stream",
     "text": [
      "\r",
      "Loss: 0.020:  59%|█████▎   | 482/814 [12:01<09:31,  1.72s/it, ['local weather conditions']]"
     ]
    },
    {
     "name": "stderr",
     "output_type": "stream",
     "text": [
      "\r",
      "Loss: 0.020:  59%|█████▎   | 483/814 [12:01<09:52,  1.79s/it, ['local weather conditions']]"
     ]
    },
    {
     "name": "stderr",
     "output_type": "stream",
     "text": [
      "\r",
      "Loss: 0.018:  59%|█████▎   | 483/814 [12:02<09:52,  1.79s/it, ['local weather conditions']]"
     ]
    },
    {
     "name": "stderr",
     "output_type": "stream",
     "text": [
      "\r",
      "Loss: 0.018:  59%|█████▎   | 483/814 [12:03<09:52,  1.79s/it, ['local weather conditions']]"
     ]
    },
    {
     "name": "stderr",
     "output_type": "stream",
     "text": [
      "\r",
      "Loss: 0.018:  59%|█████▎   | 484/814 [12:03<10:03,  1.83s/it, ['local weather conditions']]"
     ]
    },
    {
     "name": "stderr",
     "output_type": "stream",
     "text": [
      "\r",
      "Loss: 0.021:  59%|█████▎   | 484/814 [12:04<10:03,  1.83s/it, ['local weather conditions']]"
     ]
    },
    {
     "name": "stderr",
     "output_type": "stream",
     "text": [
      "\r",
      "Loss: 0.021:  59%|█████▎   | 484/814 [12:04<10:03,  1.83s/it, ['local weather conditions']]"
     ]
    },
    {
     "name": "stderr",
     "output_type": "stream",
     "text": [
      "\r",
      "Loss: 0.021:  60%|█████▎   | 485/814 [12:04<10:13,  1.87s/it, ['local weather conditions']]"
     ]
    },
    {
     "name": "stderr",
     "output_type": "stream",
     "text": [
      "\r",
      "Loss: 0.021:  60%|█████▎   | 485/814 [12:06<10:13,  1.87s/it, ['local weather conditions']]"
     ]
    },
    {
     "name": "stderr",
     "output_type": "stream",
     "text": [
      "\r",
      "Loss: 0.021:  60%|█████▎   | 485/814 [12:06<10:13,  1.87s/it, ['local weather conditions']]"
     ]
    },
    {
     "name": "stderr",
     "output_type": "stream",
     "text": [
      "\r",
      "Loss: 0.021:  60%|█████▎   | 486/814 [12:06<10:19,  1.89s/it, ['local weather conditions']]"
     ]
    },
    {
     "name": "stderr",
     "output_type": "stream",
     "text": [
      "\r",
      "Loss: 0.019:  60%|█████▎   | 486/814 [12:08<10:19,  1.89s/it, ['local weather conditions']]"
     ]
    },
    {
     "name": "stderr",
     "output_type": "stream",
     "text": [
      "\r",
      "Loss: 0.019:  60%|█████▎   | 486/814 [12:08<10:19,  1.89s/it, ['local weather conditions']]"
     ]
    },
    {
     "name": "stderr",
     "output_type": "stream",
     "text": [
      "\r",
      "Loss: 0.019:  60%|█████▍   | 487/814 [12:08<10:21,  1.90s/it, ['local weather conditions']]"
     ]
    },
    {
     "name": "stderr",
     "output_type": "stream",
     "text": [
      "\r",
      "Loss: 0.018:  60%|█████▍   | 487/814 [12:10<10:21,  1.90s/it, ['local weather conditions']]"
     ]
    },
    {
     "name": "stderr",
     "output_type": "stream",
     "text": [
      "\r",
      "Loss: 0.018:  60%|█████▍   | 487/814 [12:10<10:21,  1.90s/it, ['local weather conditions']]"
     ]
    },
    {
     "name": "stderr",
     "output_type": "stream",
     "text": [
      "\r",
      "Loss: 0.018:  60%|█████▍   | 488/814 [12:10<10:21,  1.91s/it, ['local weather conditions']]"
     ]
    },
    {
     "name": "stderr",
     "output_type": "stream",
     "text": [
      "\r",
      "Loss: 0.016:  60%|█████▍   | 488/814 [12:12<10:21,  1.91s/it, ['local weather conditions']]"
     ]
    },
    {
     "name": "stderr",
     "output_type": "stream",
     "text": [
      "\r",
      "Loss: 0.016:  60%|█████▍   | 488/814 [12:12<10:21,  1.91s/it, ['local weather conditions']]"
     ]
    },
    {
     "name": "stderr",
     "output_type": "stream",
     "text": [
      "\r",
      "Loss: 0.016:  60%|█████▍   | 489/814 [12:12<10:21,  1.91s/it, ['local weather conditions']]"
     ]
    },
    {
     "name": "stderr",
     "output_type": "stream",
     "text": [
      "\r",
      "Loss: 0.021:  60%|█████▍   | 489/814 [12:14<10:21,  1.91s/it, ['local weather conditions']]"
     ]
    },
    {
     "name": "stderr",
     "output_type": "stream",
     "text": [
      "\r",
      "Loss: 0.021:  60%|█████▍   | 489/814 [12:14<10:21,  1.91s/it, ['local weather conditions']]"
     ]
    },
    {
     "name": "stderr",
     "output_type": "stream",
     "text": [
      "\r",
      "Loss: 0.021:  60%|█████▍   | 490/814 [12:14<10:22,  1.92s/it, ['local weather conditions']]"
     ]
    },
    {
     "name": "stderr",
     "output_type": "stream",
     "text": [
      "\r",
      "Loss: 0.019:  60%|█████▍   | 490/814 [12:16<10:22,  1.92s/it, ['local weather conditions']]"
     ]
    },
    {
     "name": "stderr",
     "output_type": "stream",
     "text": [
      "\r",
      "Loss: 0.019:  60%|█████▍   | 490/814 [12:16<10:22,  1.92s/it, ['local weather conditions']]"
     ]
    },
    {
     "name": "stderr",
     "output_type": "stream",
     "text": [
      "\r",
      "Loss: 0.019:  60%|█████▍   | 491/814 [12:16<10:18,  1.91s/it, ['local weather conditions']]"
     ]
    },
    {
     "name": "stderr",
     "output_type": "stream",
     "text": [
      "\r",
      "Loss: 0.018:  60%|█████▍   | 491/814 [12:18<10:18,  1.91s/it, ['local weather conditions']]"
     ]
    },
    {
     "name": "stderr",
     "output_type": "stream",
     "text": [
      "\r",
      "Loss: 0.018:  60%|█████▍   | 491/814 [12:18<10:18,  1.91s/it, ['local weather conditions']]"
     ]
    },
    {
     "name": "stderr",
     "output_type": "stream",
     "text": [
      "\r",
      "Loss: 0.018:  60%|█████▍   | 492/814 [12:18<10:18,  1.92s/it, ['local weather conditions']]"
     ]
    },
    {
     "name": "stderr",
     "output_type": "stream",
     "text": [
      "\r",
      "Loss: 0.017:  60%|█████▍   | 492/814 [12:20<10:18,  1.92s/it, ['local weather conditions']]"
     ]
    },
    {
     "name": "stderr",
     "output_type": "stream",
     "text": [
      "\r",
      "Loss: 0.017:  60%|█████▍   | 492/814 [12:20<10:18,  1.92s/it, ['local weather conditions']]"
     ]
    },
    {
     "name": "stderr",
     "output_type": "stream",
     "text": [
      "\r",
      "Loss: 0.017:  61%|█████▍   | 493/814 [12:20<10:20,  1.93s/it, ['local weather conditions']]"
     ]
    },
    {
     "name": "stderr",
     "output_type": "stream",
     "text": [
      "\r",
      "Loss: 0.015:  61%|█████▍   | 493/814 [12:22<10:20,  1.93s/it, ['local weather conditions']]"
     ]
    },
    {
     "name": "stderr",
     "output_type": "stream",
     "text": [
      "\r",
      "Loss: 0.015:  61%|█████▍   | 493/814 [12:22<10:20,  1.93s/it, ['local weather conditions']]"
     ]
    },
    {
     "name": "stderr",
     "output_type": "stream",
     "text": [
      "\r",
      "Loss: 0.015:  61%|█████▍   | 494/814 [12:22<10:19,  1.93s/it, ['local weather conditions']]"
     ]
    },
    {
     "name": "stderr",
     "output_type": "stream",
     "text": [
      "\r",
      "Loss: 0.014:  61%|█████▍   | 494/814 [12:24<10:19,  1.93s/it, ['local weather conditions']]"
     ]
    },
    {
     "name": "stderr",
     "output_type": "stream",
     "text": [
      "\r",
      "Loss: 0.014:  61%|█████▍   | 494/814 [12:24<10:19,  1.93s/it, ['local weather conditions']]"
     ]
    },
    {
     "name": "stderr",
     "output_type": "stream",
     "text": [
      "\r",
      "Loss: 0.014:  61%|█████▍   | 495/814 [12:24<10:15,  1.93s/it, ['local weather conditions']]"
     ]
    },
    {
     "name": "stderr",
     "output_type": "stream",
     "text": [
      "\r",
      "Loss: 0.015:  61%|█████▍   | 495/814 [12:26<10:15,  1.93s/it, ['local weather conditions']]"
     ]
    },
    {
     "name": "stderr",
     "output_type": "stream",
     "text": [
      "\r",
      "Loss: 0.015:  61%|█████▍   | 495/814 [12:26<10:15,  1.93s/it, ['local weather conditions']]"
     ]
    },
    {
     "name": "stderr",
     "output_type": "stream",
     "text": [
      "\r",
      "Loss: 0.015:  61%|█████▍   | 496/814 [12:26<10:12,  1.93s/it, ['local weather conditions']]"
     ]
    },
    {
     "name": "stderr",
     "output_type": "stream",
     "text": [
      "\r",
      "Loss: 0.014:  61%|█████▍   | 496/814 [12:28<10:12,  1.93s/it, ['local weather conditions']]"
     ]
    },
    {
     "name": "stderr",
     "output_type": "stream",
     "text": [
      "\r",
      "Loss: 0.014:  61%|█████▍   | 496/814 [12:28<10:12,  1.93s/it, ['local weather conditions']]"
     ]
    },
    {
     "name": "stderr",
     "output_type": "stream",
     "text": [
      "\r",
      "Loss: 0.014:  61%|█████▍   | 497/814 [12:28<10:11,  1.93s/it, ['local weather conditions']]"
     ]
    },
    {
     "name": "stderr",
     "output_type": "stream",
     "text": [
      "\r",
      "Loss: 0.013:  61%|█████▍   | 497/814 [12:30<10:11,  1.93s/it, ['local weather conditions']]"
     ]
    },
    {
     "name": "stderr",
     "output_type": "stream",
     "text": [
      "\r",
      "Loss: 0.013:  61%|█████▍   | 497/814 [12:30<10:11,  1.93s/it, ['local weather conditions']]"
     ]
    },
    {
     "name": "stderr",
     "output_type": "stream",
     "text": [
      "\r",
      "Loss: 0.013:  61%|█████▌   | 498/814 [12:30<10:15,  1.95s/it, ['local weather conditions']]"
     ]
    },
    {
     "name": "stderr",
     "output_type": "stream",
     "text": [
      "\r",
      "Loss: 0.015:  61%|█████▌   | 498/814 [12:32<10:15,  1.95s/it, ['local weather conditions']]"
     ]
    },
    {
     "name": "stderr",
     "output_type": "stream",
     "text": [
      "\r",
      "Loss: 0.015:  61%|█████▌   | 498/814 [12:32<10:15,  1.95s/it, ['local weather conditions']]"
     ]
    },
    {
     "name": "stderr",
     "output_type": "stream",
     "text": [
      "\r",
      "Loss: 0.015:  61%|█████▌   | 499/814 [12:32<10:16,  1.96s/it, ['local weather conditions']]"
     ]
    },
    {
     "name": "stderr",
     "output_type": "stream",
     "text": [
      "\r",
      "Loss: 0.013:  61%|█████▌   | 499/814 [12:34<10:16,  1.96s/it, ['local weather conditions']]"
     ]
    },
    {
     "name": "stderr",
     "output_type": "stream",
     "text": [
      "\r",
      "Loss: 0.013:  61%|█████▌   | 499/814 [12:34<10:16,  1.96s/it, ['local weather conditions']]"
     ]
    },
    {
     "name": "stderr",
     "output_type": "stream",
     "text": [
      "\r",
      "Loss: 0.013:  61%|█████▌   | 500/814 [12:34<11:38,  2.23s/it, ['local weather conditions']]"
     ]
    },
    {
     "name": "stderr",
     "output_type": "stream",
     "text": [
      "\r",
      "Loss: 0.012:  61%|█████▌   | 500/814 [12:36<11:38,  2.23s/it, ['local weather conditions']]"
     ]
    },
    {
     "name": "stderr",
     "output_type": "stream",
     "text": [
      "\r",
      "Loss: 0.012:  61%|█████▌   | 500/814 [12:36<11:38,  2.23s/it, ['local weather conditions']]"
     ]
    },
    {
     "name": "stderr",
     "output_type": "stream",
     "text": [
      "\r",
      "Loss: 0.012:  62%|█████▌   | 501/814 [12:36<11:10,  2.14s/it, ['local weather conditions']]"
     ]
    },
    {
     "name": "stderr",
     "output_type": "stream",
     "text": [
      "\r",
      "Loss: 0.011:  62%|█████▌   | 501/814 [12:38<11:10,  2.14s/it, ['local weather conditions']]"
     ]
    },
    {
     "name": "stderr",
     "output_type": "stream",
     "text": [
      "\r",
      "Loss: 0.011:  62%|█████▌   | 501/814 [12:38<11:10,  2.14s/it, ['local weather conditions']]"
     ]
    },
    {
     "name": "stderr",
     "output_type": "stream",
     "text": [
      "\r",
      "Loss: 0.011:  62%|█████▌   | 502/814 [12:38<10:49,  2.08s/it, ['local weather conditions']]"
     ]
    },
    {
     "name": "stderr",
     "output_type": "stream",
     "text": [
      "\r",
      "Loss: 0.010:  62%|█████▌   | 502/814 [12:40<10:49,  2.08s/it, ['local weather conditions']]"
     ]
    },
    {
     "name": "stderr",
     "output_type": "stream",
     "text": [
      "\r",
      "Loss: 0.010:  62%|█████▌   | 502/814 [12:40<10:49,  2.08s/it, ['local weather conditions']]"
     ]
    },
    {
     "name": "stderr",
     "output_type": "stream",
     "text": [
      "\r",
      "Loss: 0.010:  62%|█████▌   | 503/814 [12:40<10:34,  2.04s/it, ['local weather conditions']]"
     ]
    },
    {
     "name": "stderr",
     "output_type": "stream",
     "text": [
      "\r",
      "Loss: 0.009:  62%|█████▌   | 503/814 [12:42<10:34,  2.04s/it, ['local weather conditions']]"
     ]
    },
    {
     "name": "stderr",
     "output_type": "stream",
     "text": [
      "\r",
      "Loss: 0.009:  62%|█████▌   | 503/814 [12:42<10:34,  2.04s/it, ['local weather conditions']]"
     ]
    },
    {
     "name": "stderr",
     "output_type": "stream",
     "text": [
      "\r",
      "Loss: 0.009:  62%|█████▌   | 504/814 [12:42<10:07,  1.96s/it, ['local weather conditions']]"
     ]
    },
    {
     "name": "stderr",
     "output_type": "stream",
     "text": [
      "\r",
      "Loss: 0.009:  62%|█████▌   | 504/814 [12:44<10:07,  1.96s/it, ['local weather conditions']]"
     ]
    },
    {
     "name": "stderr",
     "output_type": "stream",
     "text": [
      "\r",
      "Loss: 0.009:  62%|█████▌   | 504/814 [12:44<10:07,  1.96s/it, ['local weather conditions']]"
     ]
    },
    {
     "name": "stderr",
     "output_type": "stream",
     "text": [
      "\r",
      "Loss: 0.009:  62%|█████▌   | 505/814 [12:44<09:37,  1.87s/it, ['local weather conditions']]"
     ]
    },
    {
     "name": "stderr",
     "output_type": "stream",
     "text": [
      "\r",
      "Loss: 0.014:  62%|█████▌   | 505/814 [12:46<09:37,  1.87s/it, ['local weather conditions']]"
     ]
    },
    {
     "name": "stderr",
     "output_type": "stream",
     "text": [
      "\r",
      "Loss: 0.014:  62%|█████▌   | 505/814 [12:46<09:37,  1.87s/it, ['local weather conditions']]"
     ]
    },
    {
     "name": "stderr",
     "output_type": "stream",
     "text": [
      "\r",
      "Loss: 0.014:  62%|█████▌   | 506/814 [12:46<09:36,  1.87s/it, ['local weather conditions']]"
     ]
    },
    {
     "name": "stderr",
     "output_type": "stream",
     "text": [
      "\r",
      "Loss: 0.013:  62%|█████▌   | 506/814 [12:47<09:36,  1.87s/it, ['local weather conditions']]"
     ]
    },
    {
     "name": "stderr",
     "output_type": "stream",
     "text": [
      "\r",
      "Loss: 0.013:  62%|█████▌   | 506/814 [12:48<09:36,  1.87s/it, ['local weather conditions']]"
     ]
    },
    {
     "name": "stderr",
     "output_type": "stream",
     "text": [
      "\r",
      "Loss: 0.013:  62%|█████▌   | 507/814 [12:48<09:38,  1.88s/it, ['local weather conditions']]"
     ]
    },
    {
     "name": "stderr",
     "output_type": "stream",
     "text": [
      "\r",
      "Loss: 0.011:  62%|█████▌   | 507/814 [12:49<09:38,  1.88s/it, ['local weather conditions']]"
     ]
    },
    {
     "name": "stderr",
     "output_type": "stream",
     "text": [
      "\r",
      "Loss: 0.011:  62%|█████▌   | 507/814 [12:49<09:38,  1.88s/it, ['local weather conditions']]"
     ]
    },
    {
     "name": "stderr",
     "output_type": "stream",
     "text": [
      "\r",
      "Loss: 0.011:  62%|█████▌   | 508/814 [12:49<09:42,  1.90s/it, ['local weather conditions']]"
     ]
    },
    {
     "name": "stderr",
     "output_type": "stream",
     "text": [
      "\r",
      "Loss: 0.011:  62%|█████▌   | 508/814 [12:51<09:42,  1.90s/it, ['local weather conditions']]"
     ]
    },
    {
     "name": "stderr",
     "output_type": "stream",
     "text": [
      "\r",
      "Loss: 0.011:  62%|█████▌   | 508/814 [12:51<09:42,  1.90s/it, ['local weather conditions']]"
     ]
    },
    {
     "name": "stderr",
     "output_type": "stream",
     "text": [
      "\r",
      "Loss: 0.011:  63%|█████▋   | 509/814 [12:51<09:42,  1.91s/it, ['local weather conditions']]"
     ]
    },
    {
     "name": "stderr",
     "output_type": "stream",
     "text": [
      "\r",
      "Loss: 0.011:  63%|█████▋   | 509/814 [12:53<09:42,  1.91s/it, ['local weather conditions']]"
     ]
    },
    {
     "name": "stderr",
     "output_type": "stream",
     "text": [
      "\r",
      "Loss: 0.011:  63%|█████▋   | 509/814 [12:53<09:42,  1.91s/it, ['local weather conditions']]"
     ]
    },
    {
     "name": "stderr",
     "output_type": "stream",
     "text": [
      "\r",
      "Loss: 0.011:  63%|█████▋   | 510/814 [12:53<09:38,  1.90s/it, ['local weather conditions']]"
     ]
    },
    {
     "name": "stderr",
     "output_type": "stream",
     "text": [
      "\r",
      "Loss: 0.010:  63%|█████▋   | 510/814 [12:55<09:38,  1.90s/it, ['local weather conditions']]"
     ]
    },
    {
     "name": "stderr",
     "output_type": "stream",
     "text": [
      "\r",
      "Loss: 0.010:  63%|█████▋   | 510/814 [12:55<09:38,  1.90s/it, ['local weather conditions']]"
     ]
    },
    {
     "name": "stderr",
     "output_type": "stream",
     "text": [
      "\r",
      "Loss: 0.010:  63%|█████▋   | 511/814 [12:55<09:20,  1.85s/it, ['local weather conditions']]"
     ]
    },
    {
     "name": "stderr",
     "output_type": "stream",
     "text": [
      "\r",
      "Loss: 0.009:  63%|█████▋   | 511/814 [12:57<09:20,  1.85s/it, ['local weather conditions']]"
     ]
    },
    {
     "name": "stderr",
     "output_type": "stream",
     "text": [
      "\r",
      "Loss: 0.009:  63%|█████▋   | 511/814 [12:57<09:20,  1.85s/it, ['local weather conditions']]"
     ]
    },
    {
     "name": "stderr",
     "output_type": "stream",
     "text": [
      "\r",
      "Loss: 0.009:  63%|█████▋   | 512/814 [12:57<09:27,  1.88s/it, ['local weather conditions']]"
     ]
    },
    {
     "name": "stderr",
     "output_type": "stream",
     "text": [
      "\r",
      "Loss: 0.008:  63%|█████▋   | 512/814 [12:59<09:27,  1.88s/it, ['local weather conditions']]"
     ]
    },
    {
     "name": "stderr",
     "output_type": "stream",
     "text": [
      "\r",
      "Loss: 0.008:  63%|█████▋   | 512/814 [12:59<09:27,  1.88s/it, ['local weather conditions']]"
     ]
    },
    {
     "name": "stderr",
     "output_type": "stream",
     "text": [
      "\r",
      "Loss: 0.008:  63%|█████▋   | 513/814 [12:59<09:07,  1.82s/it, ['local weather conditions']]"
     ]
    },
    {
     "name": "stderr",
     "output_type": "stream",
     "text": [
      "\r",
      "Loss: 0.008:  63%|█████▋   | 513/814 [13:01<09:07,  1.82s/it, ['local weather conditions']]"
     ]
    },
    {
     "name": "stderr",
     "output_type": "stream",
     "text": [
      "\r",
      "Loss: 0.008:  63%|█████▋   | 513/814 [13:01<09:07,  1.82s/it, ['local weather conditions']]"
     ]
    },
    {
     "name": "stderr",
     "output_type": "stream",
     "text": [
      "\r",
      "Loss: 0.008:  63%|█████▋   | 514/814 [13:01<09:12,  1.84s/it, ['local weather conditions']]"
     ]
    },
    {
     "name": "stderr",
     "output_type": "stream",
     "text": [
      "\r",
      "Loss: 0.007:  63%|█████▋   | 514/814 [13:02<09:12,  1.84s/it, ['local weather conditions']]"
     ]
    },
    {
     "name": "stderr",
     "output_type": "stream",
     "text": [
      "\r",
      "Loss: 0.007:  63%|█████▋   | 514/814 [13:02<09:12,  1.84s/it, ['local weather conditions']]"
     ]
    },
    {
     "name": "stderr",
     "output_type": "stream",
     "text": [
      "\r",
      "Loss: 0.007:  63%|█████▋   | 515/814 [13:02<09:17,  1.86s/it, ['local weather conditions']]"
     ]
    },
    {
     "name": "stderr",
     "output_type": "stream",
     "text": [
      "\r",
      "Loss: 0.006:  63%|█████▋   | 515/814 [13:04<09:17,  1.86s/it, ['local weather conditions']]"
     ]
    },
    {
     "name": "stderr",
     "output_type": "stream",
     "text": [
      "\r",
      "Loss: 0.006:  63%|█████▋   | 515/814 [13:04<09:17,  1.86s/it, ['local weather conditions']]"
     ]
    },
    {
     "name": "stderr",
     "output_type": "stream",
     "text": [
      "\r",
      "Loss: 0.006:  63%|█████▋   | 516/814 [13:04<09:21,  1.88s/it, ['local weather conditions']]"
     ]
    },
    {
     "name": "stderr",
     "output_type": "stream",
     "text": [
      "\r",
      "Loss: 0.006:  63%|█████▋   | 516/814 [13:06<09:21,  1.88s/it, ['local weather conditions']]"
     ]
    },
    {
     "name": "stderr",
     "output_type": "stream",
     "text": [
      "\r",
      "Loss: 0.006:  63%|█████▋   | 516/814 [13:06<09:21,  1.88s/it, ['local weather conditions']]"
     ]
    },
    {
     "name": "stderr",
     "output_type": "stream",
     "text": [
      "\r",
      "Loss: 0.006:  64%|█████▋   | 517/814 [13:06<09:24,  1.90s/it, ['local weather conditions']]"
     ]
    },
    {
     "name": "stderr",
     "output_type": "stream",
     "text": [
      "\r",
      "Loss: 0.005:  64%|█████▋   | 517/814 [13:08<09:24,  1.90s/it, ['local weather conditions']]"
     ]
    },
    {
     "name": "stderr",
     "output_type": "stream",
     "text": [
      "\r",
      "Loss: 0.005:  64%|█████▋   | 517/814 [13:08<09:24,  1.90s/it, ['local weather conditions']]"
     ]
    },
    {
     "name": "stderr",
     "output_type": "stream",
     "text": [
      "\r",
      "Loss: 0.005:  64%|█████▋   | 518/814 [13:08<09:15,  1.88s/it, ['local weather conditions']]"
     ]
    },
    {
     "name": "stderr",
     "output_type": "stream",
     "text": [
      "\r",
      "Loss: 0.005:  64%|█████▋   | 518/814 [13:10<09:15,  1.88s/it, ['local weather conditions']]"
     ]
    },
    {
     "name": "stderr",
     "output_type": "stream",
     "text": [
      "\r",
      "Loss: 0.005:  64%|█████▋   | 518/814 [13:10<09:15,  1.88s/it, ['local weather conditions']]"
     ]
    },
    {
     "name": "stderr",
     "output_type": "stream",
     "text": [
      "\r",
      "Loss: 0.005:  64%|█████▋   | 519/814 [13:10<09:18,  1.89s/it, ['local weather conditions']]"
     ]
    },
    {
     "name": "stderr",
     "output_type": "stream",
     "text": [
      "\r",
      "Loss: 0.010:  64%|█████▋   | 519/814 [13:12<09:18,  1.89s/it, ['local weather conditions']]"
     ]
    },
    {
     "name": "stderr",
     "output_type": "stream",
     "text": [
      "\r",
      "Loss: 0.010:  64%|█████▋   | 519/814 [13:12<09:18,  1.89s/it, ['local weather conditions']]"
     ]
    },
    {
     "name": "stderr",
     "output_type": "stream",
     "text": [
      "\r",
      "Loss: 0.010:  64%|█████▋   | 520/814 [13:12<08:55,  1.82s/it, ['local weather conditions']]"
     ]
    },
    {
     "name": "stderr",
     "output_type": "stream",
     "text": [
      "\r",
      "Loss: 0.009:  64%|█████▋   | 520/814 [13:13<08:55,  1.82s/it, ['local weather conditions']]"
     ]
    },
    {
     "name": "stderr",
     "output_type": "stream",
     "text": [
      "\r",
      "Loss: 0.009:  64%|█████▋   | 520/814 [13:13<08:55,  1.82s/it, ['local weather conditions']]"
     ]
    },
    {
     "name": "stderr",
     "output_type": "stream",
     "text": [
      "\r",
      "Loss: 0.009:  64%|█████▊   | 521/814 [13:13<08:35,  1.76s/it, ['local weather conditions']]"
     ]
    },
    {
     "name": "stderr",
     "output_type": "stream",
     "text": [
      "\r",
      "Loss: 0.009:  64%|█████▊   | 521/814 [13:15<08:35,  1.76s/it, ['local weather conditions']]"
     ]
    },
    {
     "name": "stderr",
     "output_type": "stream",
     "text": [
      "\r",
      "Loss: 0.009:  64%|█████▊   | 521/814 [13:15<08:35,  1.76s/it, ['local weather conditions']]"
     ]
    },
    {
     "name": "stderr",
     "output_type": "stream",
     "text": [
      "\r",
      "Loss: 0.009:  64%|█████▊   | 522/814 [13:15<08:12,  1.69s/it, ['local weather conditions']]"
     ]
    },
    {
     "name": "stderr",
     "output_type": "stream",
     "text": [
      "\r",
      "Loss: 0.008:  64%|█████▊   | 522/814 [13:16<08:12,  1.69s/it, ['local weather conditions']]"
     ]
    },
    {
     "name": "stderr",
     "output_type": "stream",
     "text": [
      "\r",
      "Loss: 0.008:  64%|█████▊   | 522/814 [13:16<08:12,  1.69s/it, ['local weather conditions']]"
     ]
    },
    {
     "name": "stderr",
     "output_type": "stream",
     "text": [
      "\r",
      "Loss: 0.008:  64%|█████▊   | 523/814 [13:16<08:02,  1.66s/it, ['local weather conditions']]"
     ]
    },
    {
     "name": "stderr",
     "output_type": "stream",
     "text": [
      "\r",
      "Loss: 0.008:  64%|█████▊   | 523/814 [13:18<08:02,  1.66s/it, ['local weather conditions']]"
     ]
    },
    {
     "name": "stderr",
     "output_type": "stream",
     "text": [
      "\r",
      "Loss: 0.008:  64%|█████▊   | 523/814 [13:18<08:02,  1.66s/it, ['local weather conditions']]"
     ]
    },
    {
     "name": "stderr",
     "output_type": "stream",
     "text": [
      "\r",
      "Loss: 0.008:  64%|█████▊   | 524/814 [13:18<07:52,  1.63s/it, ['local weather conditions']]"
     ]
    },
    {
     "name": "stderr",
     "output_type": "stream",
     "text": [
      "\r",
      "Loss: 0.007:  64%|█████▊   | 524/814 [13:20<07:52,  1.63s/it, ['local weather conditions']]"
     ]
    },
    {
     "name": "stderr",
     "output_type": "stream",
     "text": [
      "\r",
      "Loss: 0.007:  64%|█████▊   | 524/814 [13:20<07:52,  1.63s/it, ['local weather conditions']]"
     ]
    },
    {
     "name": "stderr",
     "output_type": "stream",
     "text": [
      "\r",
      "Loss: 0.007:  64%|█████▊   | 525/814 [13:20<08:15,  1.72s/it, ['local weather conditions']]"
     ]
    },
    {
     "name": "stderr",
     "output_type": "stream",
     "text": [
      "\r",
      "Loss: 0.006:  64%|█████▊   | 525/814 [13:22<08:15,  1.72s/it, ['local weather conditions']]"
     ]
    },
    {
     "name": "stderr",
     "output_type": "stream",
     "text": [
      "\r",
      "Loss: 0.006:  64%|█████▊   | 525/814 [13:22<08:15,  1.72s/it, ['local weather conditions']]"
     ]
    },
    {
     "name": "stderr",
     "output_type": "stream",
     "text": [
      "\r",
      "Loss: 0.006:  65%|█████▊   | 526/814 [13:22<08:31,  1.78s/it, ['local weather conditions']]"
     ]
    },
    {
     "name": "stderr",
     "output_type": "stream",
     "text": [
      "\r",
      "Loss: 0.006:  65%|█████▊   | 526/814 [13:24<08:31,  1.78s/it, ['local weather conditions']]"
     ]
    },
    {
     "name": "stderr",
     "output_type": "stream",
     "text": [
      "\r",
      "Loss: 0.006:  65%|█████▊   | 526/814 [13:24<08:31,  1.78s/it, ['local weather conditions']]"
     ]
    },
    {
     "name": "stderr",
     "output_type": "stream",
     "text": [
      "\r",
      "Loss: 0.006:  65%|█████▊   | 527/814 [13:24<08:40,  1.81s/it, ['local weather conditions']]"
     ]
    },
    {
     "name": "stderr",
     "output_type": "stream",
     "text": [
      "\r",
      "Loss: 0.006:  65%|█████▊   | 527/814 [13:26<08:40,  1.81s/it, ['local weather conditions']]"
     ]
    },
    {
     "name": "stderr",
     "output_type": "stream",
     "text": [
      "\r",
      "Loss: 0.006:  65%|█████▊   | 527/814 [13:26<08:40,  1.81s/it, ['local weather conditions']]"
     ]
    },
    {
     "name": "stderr",
     "output_type": "stream",
     "text": [
      "\r",
      "Loss: 0.006:  65%|█████▊   | 528/814 [13:26<08:45,  1.84s/it, ['local weather conditions']]"
     ]
    },
    {
     "name": "stderr",
     "output_type": "stream",
     "text": [
      "\r",
      "Loss: 0.005:  65%|█████▊   | 528/814 [13:28<08:45,  1.84s/it, ['local weather conditions']]"
     ]
    },
    {
     "name": "stderr",
     "output_type": "stream",
     "text": [
      "\r",
      "Loss: 0.005:  65%|█████▊   | 528/814 [13:28<08:45,  1.84s/it, ['local weather conditions']]"
     ]
    },
    {
     "name": "stderr",
     "output_type": "stream",
     "text": [
      "\r",
      "Loss: 0.005:  65%|█████▊   | 529/814 [13:28<08:51,  1.86s/it, ['local weather conditions']]"
     ]
    },
    {
     "name": "stderr",
     "output_type": "stream",
     "text": [
      "\r",
      "Loss: 0.016:  65%|█████▊   | 529/814 [13:29<08:51,  1.86s/it, ['local weather conditions']]"
     ]
    },
    {
     "name": "stderr",
     "output_type": "stream",
     "text": [
      "\r",
      "Loss: 0.016:  65%|█████▊   | 529/814 [13:29<08:51,  1.86s/it, ['local weather conditions']]"
     ]
    },
    {
     "name": "stderr",
     "output_type": "stream",
     "text": [
      "\r",
      "Loss: 0.016:  65%|█████▊   | 530/814 [13:29<08:10,  1.73s/it, ['local weather conditions']]"
     ]
    },
    {
     "name": "stderr",
     "output_type": "stream",
     "text": [
      "\r",
      "Loss: 0.015:  65%|█████▊   | 530/814 [13:30<08:10,  1.73s/it, ['local weather conditions']]"
     ]
    },
    {
     "name": "stderr",
     "output_type": "stream",
     "text": [
      "\r",
      "Loss: 0.015:  65%|█████▊   | 530/814 [13:30<08:10,  1.73s/it, ['local weather conditions']]"
     ]
    },
    {
     "name": "stderr",
     "output_type": "stream",
     "text": [
      "\r",
      "Loss: 0.015:  65%|█████▊   | 531/814 [13:30<07:18,  1.55s/it, ['local weather conditions']]"
     ]
    },
    {
     "name": "stderr",
     "output_type": "stream",
     "text": [
      "\r",
      "Loss: 0.013:  65%|█████▊   | 531/814 [13:31<07:18,  1.55s/it, ['local weather conditions']]"
     ]
    },
    {
     "name": "stderr",
     "output_type": "stream",
     "text": [
      "\r",
      "Loss: 0.013:  65%|█████▊   | 531/814 [13:31<07:18,  1.55s/it, ['local weather conditions']]"
     ]
    },
    {
     "name": "stderr",
     "output_type": "stream",
     "text": [
      "\r",
      "Loss: 0.013:  65%|█████▉   | 532/814 [13:31<06:49,  1.45s/it, ['local weather conditions']]"
     ]
    },
    {
     "name": "stderr",
     "output_type": "stream",
     "text": [
      "\r",
      "Loss: 0.044:  65%|█████▉   | 532/814 [13:33<06:49,  1.45s/it, ['local weather conditions']]"
     ]
    },
    {
     "name": "stderr",
     "output_type": "stream",
     "text": [
      "\r",
      "Loss: 0.044:  65%|█████▉   | 532/814 [13:33<06:49,  1.45s/it, ['local weather conditions']]"
     ]
    },
    {
     "name": "stderr",
     "output_type": "stream",
     "text": [
      "\r",
      "Loss: 0.044:  65%|█████▉   | 533/814 [13:33<06:39,  1.42s/it, ['local weather conditions']]"
     ]
    },
    {
     "name": "stderr",
     "output_type": "stream",
     "text": [
      "\r",
      "Loss: 0.039:  65%|█████▉   | 533/814 [13:34<06:39,  1.42s/it, ['local weather conditions']]"
     ]
    },
    {
     "name": "stderr",
     "output_type": "stream",
     "text": [
      "\r",
      "Loss: 0.039:  65%|█████▉   | 533/814 [13:34<06:39,  1.42s/it, ['local weather conditions']]"
     ]
    },
    {
     "name": "stderr",
     "output_type": "stream",
     "text": [
      "\r",
      "Loss: 0.039:  66%|█████▉   | 534/814 [13:34<06:26,  1.38s/it, ['local weather conditions']]"
     ]
    },
    {
     "name": "stderr",
     "output_type": "stream",
     "text": [
      "\r",
      "Loss: 0.036:  66%|█████▉   | 534/814 [13:36<06:26,  1.38s/it, ['local weather conditions']]"
     ]
    },
    {
     "name": "stderr",
     "output_type": "stream",
     "text": [
      "\r",
      "Loss: 0.036:  66%|█████▉   | 534/814 [13:36<06:26,  1.38s/it, ['local weather conditions']]"
     ]
    },
    {
     "name": "stderr",
     "output_type": "stream",
     "text": [
      "\r",
      "Loss: 0.036:  66%|█████▉   | 535/814 [13:36<06:42,  1.44s/it, ['local weather conditions']]"
     ]
    },
    {
     "name": "stderr",
     "output_type": "stream",
     "text": [
      "\r",
      "Loss: 0.034:  66%|█████▉   | 535/814 [13:38<06:42,  1.44s/it, ['local weather conditions']]"
     ]
    },
    {
     "name": "stderr",
     "output_type": "stream",
     "text": [
      "\r",
      "Loss: 0.034:  66%|█████▉   | 535/814 [13:38<06:42,  1.44s/it, ['local weather conditions']]"
     ]
    },
    {
     "name": "stderr",
     "output_type": "stream",
     "text": [
      "\r",
      "Loss: 0.034:  66%|█████▉   | 536/814 [13:38<07:31,  1.62s/it, ['local weather conditions']]"
     ]
    },
    {
     "name": "stderr",
     "output_type": "stream",
     "text": [
      "\r",
      "Loss: 0.030:  66%|█████▉   | 536/814 [13:39<07:31,  1.62s/it, ['local weather conditions']]"
     ]
    },
    {
     "name": "stderr",
     "output_type": "stream",
     "text": [
      "\r",
      "Loss: 0.030:  66%|█████▉   | 536/814 [13:39<07:31,  1.62s/it, ['local weather conditions']]"
     ]
    },
    {
     "name": "stderr",
     "output_type": "stream",
     "text": [
      "\r",
      "Loss: 0.030:  66%|█████▉   | 537/814 [13:39<07:35,  1.65s/it, ['local weather conditions']]"
     ]
    },
    {
     "name": "stderr",
     "output_type": "stream",
     "text": [
      "\r",
      "Loss: 0.027:  66%|█████▉   | 537/814 [13:41<07:35,  1.65s/it, ['local weather conditions']]"
     ]
    },
    {
     "name": "stderr",
     "output_type": "stream",
     "text": [
      "\r",
      "Loss: 0.027:  66%|█████▉   | 537/814 [13:41<07:35,  1.65s/it, ['local weather conditions']]"
     ]
    },
    {
     "name": "stderr",
     "output_type": "stream",
     "text": [
      "\r",
      "Loss: 0.027:  66%|█████▉   | 538/814 [13:41<07:19,  1.59s/it, ['local weather conditions']]"
     ]
    },
    {
     "name": "stderr",
     "output_type": "stream",
     "text": [
      "\r",
      "Loss: 0.027:  66%|█████▉   | 538/814 [13:43<07:19,  1.59s/it, ['local weather conditions']]"
     ]
    },
    {
     "name": "stderr",
     "output_type": "stream",
     "text": [
      "\r",
      "Loss: 0.027:  66%|█████▉   | 538/814 [13:43<07:19,  1.59s/it, ['local weather conditions']]"
     ]
    },
    {
     "name": "stderr",
     "output_type": "stream",
     "text": [
      "\r",
      "Loss: 0.027:  66%|█████▉   | 539/814 [13:43<07:45,  1.69s/it, ['local weather conditions']]"
     ]
    },
    {
     "name": "stderr",
     "output_type": "stream",
     "text": [
      "\r",
      "Loss: 0.024:  66%|█████▉   | 539/814 [13:44<07:45,  1.69s/it, ['local weather conditions']]"
     ]
    },
    {
     "name": "stderr",
     "output_type": "stream",
     "text": [
      "\r",
      "Loss: 0.024:  66%|█████▉   | 539/814 [13:44<07:45,  1.69s/it, ['local weather conditions']]"
     ]
    },
    {
     "name": "stderr",
     "output_type": "stream",
     "text": [
      "\r",
      "Loss: 0.024:  66%|█████▉   | 540/814 [13:44<07:14,  1.59s/it, ['local weather conditions']]"
     ]
    },
    {
     "name": "stderr",
     "output_type": "stream",
     "text": [
      "\r",
      "Loss: 0.022:  66%|█████▉   | 540/814 [13:46<07:14,  1.59s/it, ['local weather conditions']]"
     ]
    },
    {
     "name": "stderr",
     "output_type": "stream",
     "text": [
      "\r",
      "Loss: 0.022:  66%|█████▉   | 540/814 [13:46<07:14,  1.59s/it, ['local weather conditions']]"
     ]
    },
    {
     "name": "stderr",
     "output_type": "stream",
     "text": [
      "\r",
      "Loss: 0.022:  66%|█████▉   | 541/814 [13:46<07:40,  1.69s/it, ['local weather conditions']]"
     ]
    },
    {
     "name": "stderr",
     "output_type": "stream",
     "text": [
      "\r",
      "Loss: 0.020:  66%|█████▉   | 541/814 [13:48<07:40,  1.69s/it, ['local weather conditions']]"
     ]
    },
    {
     "name": "stderr",
     "output_type": "stream",
     "text": [
      "\r",
      "Loss: 0.020:  66%|█████▉   | 541/814 [13:48<07:40,  1.69s/it, ['local weather conditions']]"
     ]
    },
    {
     "name": "stderr",
     "output_type": "stream",
     "text": [
      "\r",
      "Loss: 0.020:  67%|█████▉   | 542/814 [13:48<07:55,  1.75s/it, ['local weather conditions']]"
     ]
    },
    {
     "name": "stderr",
     "output_type": "stream",
     "text": [
      "\r",
      "Loss: 0.023:  67%|█████▉   | 542/814 [13:49<07:55,  1.75s/it, ['local weather conditions']]"
     ]
    },
    {
     "name": "stderr",
     "output_type": "stream",
     "text": [
      "\r",
      "Loss: 0.023:  67%|█████▉   | 542/814 [13:49<07:55,  1.75s/it, ['local weather conditions']]"
     ]
    },
    {
     "name": "stderr",
     "output_type": "stream",
     "text": [
      "\r",
      "Loss: 0.023:  67%|██████   | 543/814 [13:49<07:23,  1.64s/it, ['local weather conditions']]"
     ]
    },
    {
     "name": "stderr",
     "output_type": "stream",
     "text": [
      "\r",
      "Loss: 0.021:  67%|██████   | 543/814 [13:51<07:23,  1.64s/it, ['local weather conditions']]"
     ]
    },
    {
     "name": "stderr",
     "output_type": "stream",
     "text": [
      "\r",
      "Loss: 0.021:  67%|██████   | 543/814 [13:51<07:23,  1.64s/it, ['local weather conditions']]"
     ]
    },
    {
     "name": "stderr",
     "output_type": "stream",
     "text": [
      "\r",
      "Loss: 0.021:  67%|██████   | 544/814 [13:51<07:43,  1.72s/it, ['local weather conditions']]"
     ]
    },
    {
     "name": "stderr",
     "output_type": "stream",
     "text": [
      "\r",
      "Loss: 0.029:  67%|██████   | 544/814 [13:53<07:43,  1.72s/it, ['local weather conditions']]"
     ]
    },
    {
     "name": "stderr",
     "output_type": "stream",
     "text": [
      "\r",
      "Loss: 0.029:  67%|██████   | 544/814 [13:53<07:43,  1.72s/it, ['local weather conditions']]"
     ]
    },
    {
     "name": "stderr",
     "output_type": "stream",
     "text": [
      "\r",
      "Loss: 0.029:  67%|██████   | 545/814 [13:53<07:53,  1.76s/it, ['local weather conditions']]"
     ]
    },
    {
     "name": "stderr",
     "output_type": "stream",
     "text": [
      "\r",
      "Loss: 0.027:  67%|██████   | 545/814 [13:54<07:53,  1.76s/it, ['local weather conditions']]"
     ]
    },
    {
     "name": "stderr",
     "output_type": "stream",
     "text": [
      "\r",
      "Loss: 0.027:  67%|██████   | 545/814 [13:54<07:53,  1.76s/it, ['local weather conditions']]"
     ]
    },
    {
     "name": "stderr",
     "output_type": "stream",
     "text": [
      "\r",
      "Loss: 0.027:  67%|██████   | 546/814 [13:54<07:00,  1.57s/it, ['local weather conditions']]"
     ]
    },
    {
     "name": "stderr",
     "output_type": "stream",
     "text": [
      "\r",
      "Loss: 0.024:  67%|██████   | 546/814 [13:56<07:00,  1.57s/it, ['local weather conditions']]"
     ]
    },
    {
     "name": "stderr",
     "output_type": "stream",
     "text": [
      "\r",
      "Loss: 0.024:  67%|██████   | 546/814 [13:56<07:00,  1.57s/it, ['local weather conditions']]"
     ]
    },
    {
     "name": "stderr",
     "output_type": "stream",
     "text": [
      "\r",
      "Loss: 0.024:  67%|██████   | 547/814 [13:56<07:23,  1.66s/it, ['local weather conditions']]"
     ]
    },
    {
     "name": "stderr",
     "output_type": "stream",
     "text": [
      "\r",
      "Loss: 0.022:  67%|██████   | 547/814 [13:58<07:23,  1.66s/it, ['local weather conditions']]"
     ]
    },
    {
     "name": "stderr",
     "output_type": "stream",
     "text": [
      "\r",
      "Loss: 0.022:  67%|██████   | 547/814 [13:58<07:23,  1.66s/it, ['local weather conditions']]"
     ]
    },
    {
     "name": "stderr",
     "output_type": "stream",
     "text": [
      "\r",
      "Loss: 0.022:  67%|██████   | 548/814 [13:58<07:33,  1.70s/it, ['local weather conditions']]"
     ]
    },
    {
     "name": "stderr",
     "output_type": "stream",
     "text": [
      "\r",
      "Loss: 0.020:  67%|██████   | 548/814 [13:59<07:33,  1.70s/it, ['local weather conditions']]"
     ]
    },
    {
     "name": "stderr",
     "output_type": "stream",
     "text": [
      "\r",
      "Loss: 0.020:  67%|██████   | 548/814 [13:59<07:33,  1.70s/it, ['local weather conditions']]"
     ]
    },
    {
     "name": "stderr",
     "output_type": "stream",
     "text": [
      "\r",
      "Loss: 0.020:  67%|██████   | 549/814 [13:59<06:44,  1.53s/it, ['local weather conditions']]"
     ]
    },
    {
     "name": "stderr",
     "output_type": "stream",
     "text": [
      "\r",
      "Loss: 0.020:  67%|██████   | 549/814 [14:00<06:44,  1.53s/it, ['local weather conditions']]"
     ]
    },
    {
     "name": "stderr",
     "output_type": "stream",
     "text": [
      "\r",
      "Loss: 0.020:  67%|██████   | 549/814 [14:00<06:44,  1.53s/it, ['local weather conditions']]"
     ]
    },
    {
     "name": "stderr",
     "output_type": "stream",
     "text": [
      "\r",
      "Loss: 0.020:  68%|██████   | 550/814 [14:00<06:22,  1.45s/it, ['local weather conditions']]"
     ]
    },
    {
     "name": "stderr",
     "output_type": "stream",
     "text": [
      "\r",
      "Loss: 0.018:  68%|██████   | 550/814 [14:01<06:22,  1.45s/it, ['local weather conditions']]"
     ]
    },
    {
     "name": "stderr",
     "output_type": "stream",
     "text": [
      "\r",
      "Loss: 0.018:  68%|██████   | 550/814 [14:01<06:22,  1.45s/it, ['local weather conditions']]"
     ]
    },
    {
     "name": "stderr",
     "output_type": "stream",
     "text": [
      "\r",
      "Loss: 0.018:  68%|██████   | 551/814 [14:01<05:54,  1.35s/it, ['local weather conditions']]"
     ]
    },
    {
     "name": "stderr",
     "output_type": "stream",
     "text": [
      "\r",
      "Loss: 0.023:  68%|██████   | 551/814 [14:02<05:54,  1.35s/it, ['local weather conditions']]"
     ]
    },
    {
     "name": "stderr",
     "output_type": "stream",
     "text": [
      "\r",
      "Loss: 0.023:  68%|██████   | 551/814 [14:02<05:54,  1.35s/it, ['local weather conditions']]"
     ]
    },
    {
     "name": "stderr",
     "output_type": "stream",
     "text": [
      "\r",
      "Loss: 0.023:  68%|██████   | 552/814 [14:02<05:40,  1.30s/it, ['local weather conditions']]"
     ]
    },
    {
     "name": "stderr",
     "output_type": "stream",
     "text": [
      "\r",
      "Loss: 0.021:  68%|██████   | 552/814 [14:04<05:40,  1.30s/it, ['local weather conditions']]"
     ]
    },
    {
     "name": "stderr",
     "output_type": "stream",
     "text": [
      "\r",
      "Loss: 0.021:  68%|██████   | 552/814 [14:04<05:40,  1.30s/it, ['local weather conditions']]"
     ]
    },
    {
     "name": "stderr",
     "output_type": "stream",
     "text": [
      "\r",
      "Loss: 0.021:  68%|██████   | 553/814 [14:04<05:24,  1.24s/it, ['local weather conditions']]"
     ]
    },
    {
     "name": "stderr",
     "output_type": "stream",
     "text": [
      "\r",
      "Loss: 0.019:  68%|██████   | 553/814 [14:05<05:24,  1.24s/it, ['local weather conditions']]"
     ]
    },
    {
     "name": "stderr",
     "output_type": "stream",
     "text": [
      "\r",
      "Loss: 0.019:  68%|██████   | 553/814 [14:05<05:24,  1.24s/it, ['local weather conditions']]"
     ]
    },
    {
     "name": "stderr",
     "output_type": "stream",
     "text": [
      "\r",
      "Loss: 0.019:  68%|██████▏  | 554/814 [14:05<05:09,  1.19s/it, ['local weather conditions']]"
     ]
    },
    {
     "name": "stderr",
     "output_type": "stream",
     "text": [
      "\r",
      "Loss: 0.017:  68%|██████▏  | 554/814 [14:06<05:09,  1.19s/it, ['local weather conditions']]"
     ]
    },
    {
     "name": "stderr",
     "output_type": "stream",
     "text": [
      "\r",
      "Loss: 0.017:  68%|██████▏  | 554/814 [14:06<05:09,  1.19s/it, ['local weather conditions']]"
     ]
    },
    {
     "name": "stderr",
     "output_type": "stream",
     "text": [
      "\r",
      "Loss: 0.017:  68%|██████▏  | 555/814 [14:06<05:02,  1.17s/it, ['local weather conditions']]"
     ]
    },
    {
     "name": "stderr",
     "output_type": "stream",
     "text": [
      "\r",
      "Loss: 0.016:  68%|██████▏  | 555/814 [14:07<05:02,  1.17s/it, ['local weather conditions']]"
     ]
    },
    {
     "name": "stderr",
     "output_type": "stream",
     "text": [
      "\r",
      "Loss: 0.016:  68%|██████▏  | 555/814 [14:07<05:02,  1.17s/it, ['local weather conditions']]"
     ]
    },
    {
     "name": "stderr",
     "output_type": "stream",
     "text": [
      "\r",
      "Loss: 0.016:  68%|██████▏  | 556/814 [14:07<05:13,  1.22s/it, ['local weather conditions']]"
     ]
    },
    {
     "name": "stderr",
     "output_type": "stream",
     "text": [
      "\r",
      "Loss: 0.015:  68%|██████▏  | 556/814 [14:08<05:13,  1.22s/it, ['local weather conditions']]"
     ]
    },
    {
     "name": "stderr",
     "output_type": "stream",
     "text": [
      "\r",
      "Loss: 0.015:  68%|██████▏  | 556/814 [14:08<05:13,  1.22s/it, ['local weather conditions']]"
     ]
    },
    {
     "name": "stderr",
     "output_type": "stream",
     "text": [
      "\r",
      "Loss: 0.015:  68%|██████▏  | 557/814 [14:08<05:23,  1.26s/it, ['local weather conditions']]"
     ]
    },
    {
     "name": "stderr",
     "output_type": "stream",
     "text": [
      "\r",
      "Loss: 0.013:  68%|██████▏  | 557/814 [14:10<05:23,  1.26s/it, ['local weather conditions']]"
     ]
    },
    {
     "name": "stderr",
     "output_type": "stream",
     "text": [
      "\r",
      "Loss: 0.013:  68%|██████▏  | 557/814 [14:10<05:23,  1.26s/it, ['local weather conditions']]"
     ]
    },
    {
     "name": "stderr",
     "output_type": "stream",
     "text": [
      "\r",
      "Loss: 0.013:  69%|██████▏  | 558/814 [14:10<05:29,  1.29s/it, ['local weather conditions']]"
     ]
    },
    {
     "name": "stderr",
     "output_type": "stream",
     "text": [
      "\r",
      "Loss: 0.020:  69%|██████▏  | 558/814 [14:11<05:29,  1.29s/it, ['local weather conditions']]"
     ]
    },
    {
     "name": "stderr",
     "output_type": "stream",
     "text": [
      "\r",
      "Loss: 0.020:  69%|██████▏  | 558/814 [14:11<05:29,  1.29s/it, ['local weather conditions']]"
     ]
    },
    {
     "name": "stderr",
     "output_type": "stream",
     "text": [
      "\r",
      "Loss: 0.020:  69%|██████▏  | 559/814 [14:11<05:31,  1.30s/it, ['local weather conditions']]"
     ]
    },
    {
     "name": "stderr",
     "output_type": "stream",
     "text": [
      "\r",
      "Loss: 0.018:  69%|██████▏  | 559/814 [14:12<05:31,  1.30s/it, ['local weather conditions']]"
     ]
    },
    {
     "name": "stderr",
     "output_type": "stream",
     "text": [
      "\r",
      "Loss: 0.018:  69%|██████▏  | 559/814 [14:12<05:31,  1.30s/it, ['local weather conditions']]"
     ]
    },
    {
     "name": "stderr",
     "output_type": "stream",
     "text": [
      "\r",
      "Loss: 0.018:  69%|██████▏  | 560/814 [14:12<05:23,  1.27s/it, ['local weather conditions']]"
     ]
    },
    {
     "name": "stderr",
     "output_type": "stream",
     "text": [
      "\r",
      "Loss: 0.016:  69%|██████▏  | 560/814 [14:13<05:23,  1.27s/it, ['local weather conditions']]"
     ]
    },
    {
     "name": "stderr",
     "output_type": "stream",
     "text": [
      "\r",
      "Loss: 0.016:  69%|██████▏  | 560/814 [14:13<05:23,  1.27s/it, ['local weather conditions']]"
     ]
    },
    {
     "name": "stderr",
     "output_type": "stream",
     "text": [
      "\r",
      "Loss: 0.016:  69%|██████▏  | 561/814 [14:13<05:11,  1.23s/it, ['local weather conditions']]"
     ]
    },
    {
     "name": "stderr",
     "output_type": "stream",
     "text": [
      "\r",
      "Loss: 0.020:  69%|██████▏  | 561/814 [14:15<05:11,  1.23s/it, ['local weather conditions']]"
     ]
    },
    {
     "name": "stderr",
     "output_type": "stream",
     "text": [
      "\r",
      "Loss: 0.020:  69%|██████▏  | 561/814 [14:15<05:11,  1.23s/it, ['local weather conditions']]"
     ]
    },
    {
     "name": "stderr",
     "output_type": "stream",
     "text": [
      "\r",
      "Loss: 0.020:  69%|██████▏  | 562/814 [14:15<05:00,  1.19s/it, ['local weather conditions']]"
     ]
    },
    {
     "name": "stderr",
     "output_type": "stream",
     "text": [
      "\r",
      "Loss: 0.018:  69%|██████▏  | 562/814 [14:16<05:00,  1.19s/it, ['local weather conditions']]"
     ]
    },
    {
     "name": "stderr",
     "output_type": "stream",
     "text": [
      "\r",
      "Loss: 0.018:  69%|██████▏  | 562/814 [14:16<05:00,  1.19s/it, ['local weather conditions']]"
     ]
    },
    {
     "name": "stderr",
     "output_type": "stream",
     "text": [
      "\r",
      "Loss: 0.018:  69%|██████▏  | 563/814 [14:16<04:54,  1.17s/it, ['local weather conditions']]"
     ]
    },
    {
     "name": "stderr",
     "output_type": "stream",
     "text": [
      "\r",
      "Loss: 0.016:  69%|██████▏  | 563/814 [14:17<04:54,  1.17s/it, ['local weather conditions']]"
     ]
    },
    {
     "name": "stderr",
     "output_type": "stream",
     "text": [
      "\r",
      "Loss: 0.016:  69%|██████▏  | 563/814 [14:17<04:54,  1.17s/it, ['local weather conditions']]"
     ]
    },
    {
     "name": "stderr",
     "output_type": "stream",
     "text": [
      "\r",
      "Loss: 0.016:  69%|██████▏  | 564/814 [14:17<04:50,  1.16s/it, ['local weather conditions']]"
     ]
    },
    {
     "name": "stderr",
     "output_type": "stream",
     "text": [
      "\r",
      "Loss: 0.017:  69%|██████▏  | 564/814 [14:18<04:50,  1.16s/it, ['local weather conditions']]"
     ]
    },
    {
     "name": "stderr",
     "output_type": "stream",
     "text": [
      "\r",
      "Loss: 0.017:  69%|██████▏  | 564/814 [14:18<04:50,  1.16s/it, ['local weather conditions']]"
     ]
    },
    {
     "name": "stderr",
     "output_type": "stream",
     "text": [
      "\r",
      "Loss: 0.017:  69%|██████▏  | 565/814 [14:18<04:51,  1.17s/it, ['local weather conditions']]"
     ]
    },
    {
     "name": "stderr",
     "output_type": "stream",
     "text": [
      "\r",
      "Loss: 0.016:  69%|██████▏  | 565/814 [14:19<04:51,  1.17s/it, ['local weather conditions']]"
     ]
    },
    {
     "name": "stderr",
     "output_type": "stream",
     "text": [
      "\r",
      "Loss: 0.016:  69%|██████▏  | 565/814 [14:19<04:51,  1.17s/it, ['local weather conditions']]"
     ]
    },
    {
     "name": "stderr",
     "output_type": "stream",
     "text": [
      "\r",
      "Loss: 0.016:  70%|██████▎  | 566/814 [14:19<05:03,  1.22s/it, ['local weather conditions']]"
     ]
    },
    {
     "name": "stderr",
     "output_type": "stream",
     "text": [
      "\r",
      "Loss: 0.015:  70%|██████▎  | 566/814 [14:20<05:03,  1.22s/it, ['local weather conditions']]"
     ]
    },
    {
     "name": "stderr",
     "output_type": "stream",
     "text": [
      "\r",
      "Loss: 0.015:  70%|██████▎  | 566/814 [14:20<05:03,  1.22s/it, ['local weather conditions']]"
     ]
    },
    {
     "name": "stderr",
     "output_type": "stream",
     "text": [
      "\r",
      "Loss: 0.015:  70%|██████▎  | 567/814 [14:20<04:53,  1.19s/it, ['local weather conditions']]"
     ]
    },
    {
     "name": "stderr",
     "output_type": "stream",
     "text": [
      "\r",
      "Loss: 0.014:  70%|██████▎  | 567/814 [14:22<04:53,  1.19s/it, ['local weather conditions']]"
     ]
    },
    {
     "name": "stderr",
     "output_type": "stream",
     "text": [
      "\r",
      "Loss: 0.014:  70%|██████▎  | 567/814 [14:22<04:53,  1.19s/it, ['local weather conditions']]"
     ]
    },
    {
     "name": "stderr",
     "output_type": "stream",
     "text": [
      "\r",
      "Loss: 0.014:  70%|██████▎  | 568/814 [14:22<04:51,  1.19s/it, ['local weather conditions']]"
     ]
    },
    {
     "name": "stderr",
     "output_type": "stream",
     "text": [
      "\r",
      "Loss: 0.013:  70%|██████▎  | 568/814 [14:23<04:51,  1.19s/it, ['local weather conditions']]"
     ]
    },
    {
     "name": "stderr",
     "output_type": "stream",
     "text": [
      "\r",
      "Loss: 0.013:  70%|██████▎  | 568/814 [14:23<04:51,  1.19s/it, ['local weather conditions']]"
     ]
    },
    {
     "name": "stderr",
     "output_type": "stream",
     "text": [
      "\r",
      "Loss: 0.013:  70%|██████▎  | 569/814 [14:23<04:49,  1.18s/it, ['local weather conditions']]"
     ]
    },
    {
     "name": "stderr",
     "output_type": "stream",
     "text": [
      "\r",
      "Loss: 0.012:  70%|██████▎  | 569/814 [14:24<04:49,  1.18s/it, ['local weather conditions']]"
     ]
    },
    {
     "name": "stderr",
     "output_type": "stream",
     "text": [
      "\r",
      "Loss: 0.012:  70%|██████▎  | 569/814 [14:24<04:49,  1.18s/it, ['local weather conditions']]"
     ]
    },
    {
     "name": "stderr",
     "output_type": "stream",
     "text": [
      "\r",
      "Loss: 0.012:  70%|██████▎  | 570/814 [14:24<04:43,  1.16s/it, ['local weather conditions']]"
     ]
    },
    {
     "name": "stderr",
     "output_type": "stream",
     "text": [
      "\r",
      "Loss: 0.016:  70%|██████▎  | 570/814 [14:25<04:43,  1.16s/it, ['local weather conditions']]"
     ]
    },
    {
     "name": "stderr",
     "output_type": "stream",
     "text": [
      "\r",
      "Loss: 0.016:  70%|██████▎  | 570/814 [14:25<04:43,  1.16s/it, ['local weather conditions']]"
     ]
    },
    {
     "name": "stderr",
     "output_type": "stream",
     "text": [
      "\r",
      "Loss: 0.016:  70%|██████▎  | 571/814 [14:25<04:42,  1.16s/it, ['local weather conditions']]"
     ]
    },
    {
     "name": "stderr",
     "output_type": "stream",
     "text": [
      "\r",
      "Loss: 0.017:  70%|██████▎  | 571/814 [14:26<04:42,  1.16s/it, ['local weather conditions']]"
     ]
    },
    {
     "name": "stderr",
     "output_type": "stream",
     "text": [
      "\r",
      "Loss: 0.017:  70%|██████▎  | 571/814 [14:26<04:42,  1.16s/it, ['local weather conditions']]"
     ]
    },
    {
     "name": "stderr",
     "output_type": "stream",
     "text": [
      "\r",
      "Loss: 0.017:  70%|██████▎  | 572/814 [14:26<04:40,  1.16s/it, ['local weather conditions']]"
     ]
    },
    {
     "name": "stderr",
     "output_type": "stream",
     "text": [
      "\r",
      "Loss: 0.015:  70%|██████▎  | 572/814 [14:27<04:40,  1.16s/it, ['local weather conditions']]"
     ]
    },
    {
     "name": "stderr",
     "output_type": "stream",
     "text": [
      "\r",
      "Loss: 0.015:  70%|██████▎  | 572/814 [14:27<04:40,  1.16s/it, ['local weather conditions']]"
     ]
    },
    {
     "name": "stderr",
     "output_type": "stream",
     "text": [
      "\r",
      "Loss: 0.015:  70%|██████▎  | 573/814 [14:27<04:38,  1.15s/it, ['local weather conditions']]"
     ]
    },
    {
     "name": "stderr",
     "output_type": "stream",
     "text": [
      "\r",
      "Loss: 0.015:  70%|██████▎  | 573/814 [14:29<04:38,  1.15s/it, ['local weather conditions']]"
     ]
    },
    {
     "name": "stderr",
     "output_type": "stream",
     "text": [
      "\r",
      "Loss: 0.015:  70%|██████▎  | 573/814 [14:29<04:38,  1.15s/it, ['local weather conditions']]"
     ]
    },
    {
     "name": "stderr",
     "output_type": "stream",
     "text": [
      "\r",
      "Loss: 0.015:  71%|██████▎  | 574/814 [14:29<04:36,  1.15s/it, ['local weather conditions']]"
     ]
    },
    {
     "name": "stderr",
     "output_type": "stream",
     "text": [
      "\r",
      "Loss: 0.014:  71%|██████▎  | 574/814 [14:30<04:36,  1.15s/it, ['local weather conditions']]"
     ]
    },
    {
     "name": "stderr",
     "output_type": "stream",
     "text": [
      "\r",
      "Loss: 0.014:  71%|██████▎  | 574/814 [14:30<04:36,  1.15s/it, ['local weather conditions']]"
     ]
    },
    {
     "name": "stderr",
     "output_type": "stream",
     "text": [
      "\r",
      "Loss: 0.014:  71%|██████▎  | 575/814 [14:30<04:32,  1.14s/it, ['local weather conditions']]"
     ]
    },
    {
     "name": "stderr",
     "output_type": "stream",
     "text": [
      "\r",
      "Loss: 0.013:  71%|██████▎  | 575/814 [14:31<04:32,  1.14s/it, ['local weather conditions']]"
     ]
    },
    {
     "name": "stderr",
     "output_type": "stream",
     "text": [
      "\r",
      "Loss: 0.013:  71%|██████▎  | 575/814 [14:31<04:32,  1.14s/it, ['local weather conditions']]"
     ]
    },
    {
     "name": "stderr",
     "output_type": "stream",
     "text": [
      "\r",
      "Loss: 0.013:  71%|██████▎  | 576/814 [14:31<04:29,  1.13s/it, ['local weather conditions']]"
     ]
    },
    {
     "name": "stderr",
     "output_type": "stream",
     "text": [
      "\r",
      "Loss: 0.012:  71%|██████▎  | 576/814 [14:32<04:29,  1.13s/it, ['local weather conditions']]"
     ]
    },
    {
     "name": "stderr",
     "output_type": "stream",
     "text": [
      "\r",
      "Loss: 0.012:  71%|██████▎  | 576/814 [14:32<04:29,  1.13s/it, ['local weather conditions']]"
     ]
    },
    {
     "name": "stderr",
     "output_type": "stream",
     "text": [
      "\r",
      "Loss: 0.012:  71%|██████▍  | 577/814 [14:32<04:29,  1.14s/it, ['local weather conditions']]"
     ]
    },
    {
     "name": "stderr",
     "output_type": "stream",
     "text": [
      "\r",
      "Loss: 0.011:  71%|██████▍  | 577/814 [14:33<04:29,  1.14s/it, ['local weather conditions']]"
     ]
    },
    {
     "name": "stderr",
     "output_type": "stream",
     "text": [
      "\r",
      "Loss: 0.011:  71%|██████▍  | 577/814 [14:33<04:29,  1.14s/it, ['local weather conditions']]"
     ]
    },
    {
     "name": "stderr",
     "output_type": "stream",
     "text": [
      "\r",
      "Loss: 0.011:  71%|██████▍  | 578/814 [14:33<04:26,  1.13s/it, ['local weather conditions']]"
     ]
    },
    {
     "name": "stderr",
     "output_type": "stream",
     "text": [
      "\r",
      "Loss: 0.010:  71%|██████▍  | 578/814 [14:34<04:26,  1.13s/it, ['local weather conditions']]"
     ]
    },
    {
     "name": "stderr",
     "output_type": "stream",
     "text": [
      "\r",
      "Loss: 0.010:  71%|██████▍  | 578/814 [14:34<04:26,  1.13s/it, ['local weather conditions']]"
     ]
    },
    {
     "name": "stderr",
     "output_type": "stream",
     "text": [
      "\r",
      "Loss: 0.010:  71%|██████▍  | 579/814 [14:34<04:26,  1.13s/it, ['local weather conditions']]"
     ]
    },
    {
     "name": "stderr",
     "output_type": "stream",
     "text": [
      "\r",
      "Loss: 0.009:  71%|██████▍  | 579/814 [14:35<04:26,  1.13s/it, ['local weather conditions']]"
     ]
    },
    {
     "name": "stderr",
     "output_type": "stream",
     "text": [
      "\r",
      "Loss: 0.009:  71%|██████▍  | 579/814 [14:35<04:26,  1.13s/it, ['local weather conditions']]"
     ]
    },
    {
     "name": "stderr",
     "output_type": "stream",
     "text": [
      "\r",
      "Loss: 0.009:  71%|██████▍  | 580/814 [14:35<04:23,  1.12s/it, ['local weather conditions']]"
     ]
    },
    {
     "name": "stderr",
     "output_type": "stream",
     "text": [
      "\r",
      "Loss: 0.012:  71%|██████▍  | 580/814 [14:36<04:23,  1.12s/it, ['local weather conditions']]"
     ]
    },
    {
     "name": "stderr",
     "output_type": "stream",
     "text": [
      "\r",
      "Loss: 0.012:  71%|██████▍  | 580/814 [14:36<04:23,  1.12s/it, ['local weather conditions']]"
     ]
    },
    {
     "name": "stderr",
     "output_type": "stream",
     "text": [
      "\r",
      "Loss: 0.012:  71%|██████▍  | 581/814 [14:36<04:21,  1.12s/it, ['local weather conditions']]"
     ]
    },
    {
     "name": "stderr",
     "output_type": "stream",
     "text": [
      "\r",
      "Loss: 0.010:  71%|██████▍  | 581/814 [14:38<04:21,  1.12s/it, ['local weather conditions']]"
     ]
    },
    {
     "name": "stderr",
     "output_type": "stream",
     "text": [
      "\r",
      "Loss: 0.010:  71%|██████▍  | 581/814 [14:38<04:21,  1.12s/it, ['local weather conditions']]"
     ]
    },
    {
     "name": "stderr",
     "output_type": "stream",
     "text": [
      "\r",
      "Loss: 0.010:  71%|██████▍  | 582/814 [14:38<04:23,  1.14s/it, ['local weather conditions']]"
     ]
    },
    {
     "name": "stderr",
     "output_type": "stream",
     "text": [
      "\r",
      "Loss: 0.010:  71%|██████▍  | 582/814 [14:39<04:23,  1.14s/it, ['local weather conditions']]"
     ]
    },
    {
     "name": "stderr",
     "output_type": "stream",
     "text": [
      "\r",
      "Loss: 0.010:  71%|██████▍  | 582/814 [14:39<04:23,  1.14s/it, ['local weather conditions']]"
     ]
    },
    {
     "name": "stderr",
     "output_type": "stream",
     "text": [
      "\r",
      "Loss: 0.010:  72%|██████▍  | 583/814 [14:39<04:18,  1.12s/it, ['local weather conditions']]"
     ]
    },
    {
     "name": "stderr",
     "output_type": "stream",
     "text": [
      "\r",
      "Loss: 0.009:  72%|██████▍  | 583/814 [14:40<04:18,  1.12s/it, ['local weather conditions']]"
     ]
    },
    {
     "name": "stderr",
     "output_type": "stream",
     "text": [
      "\r",
      "Loss: 0.009:  72%|██████▍  | 583/814 [14:40<04:18,  1.12s/it, ['local weather conditions']]"
     ]
    },
    {
     "name": "stderr",
     "output_type": "stream",
     "text": [
      "\r",
      "Loss: 0.009:  72%|██████▍  | 584/814 [14:40<04:16,  1.12s/it, ['local weather conditions']]"
     ]
    },
    {
     "name": "stderr",
     "output_type": "stream",
     "text": [
      "\r",
      "Loss: 0.009:  72%|██████▍  | 584/814 [14:41<04:16,  1.12s/it, ['local weather conditions']]"
     ]
    },
    {
     "name": "stderr",
     "output_type": "stream",
     "text": [
      "\r",
      "Loss: 0.009:  72%|██████▍  | 584/814 [14:41<04:16,  1.12s/it, ['local weather conditions']]"
     ]
    },
    {
     "name": "stderr",
     "output_type": "stream",
     "text": [
      "\r",
      "Loss: 0.009:  72%|██████▍  | 585/814 [14:41<04:19,  1.13s/it, ['local weather conditions']]"
     ]
    },
    {
     "name": "stderr",
     "output_type": "stream",
     "text": [
      "\r",
      "Loss: 0.009:  72%|██████▍  | 585/814 [14:42<04:19,  1.13s/it, ['local weather conditions']]"
     ]
    },
    {
     "name": "stderr",
     "output_type": "stream",
     "text": [
      "\r",
      "Loss: 0.009:  72%|██████▍  | 585/814 [14:42<04:19,  1.13s/it, ['local weather conditions']]"
     ]
    },
    {
     "name": "stderr",
     "output_type": "stream",
     "text": [
      "\r",
      "Loss: 0.009:  72%|██████▍  | 586/814 [14:42<04:17,  1.13s/it, ['local weather conditions']]"
     ]
    },
    {
     "name": "stderr",
     "output_type": "stream",
     "text": [
      "\r",
      "Loss: 0.008:  72%|██████▍  | 586/814 [14:43<04:17,  1.13s/it, ['local weather conditions']]"
     ]
    },
    {
     "name": "stderr",
     "output_type": "stream",
     "text": [
      "\r",
      "Loss: 0.008:  72%|██████▍  | 586/814 [14:43<04:17,  1.13s/it, ['local weather conditions']]"
     ]
    },
    {
     "name": "stderr",
     "output_type": "stream",
     "text": [
      "\r",
      "Loss: 0.008:  72%|██████▍  | 587/814 [14:43<04:13,  1.12s/it, ['local weather conditions']]"
     ]
    },
    {
     "name": "stderr",
     "output_type": "stream",
     "text": [
      "\r",
      "Loss: 0.007:  72%|██████▍  | 587/814 [14:44<04:13,  1.12s/it, ['local weather conditions']]"
     ]
    },
    {
     "name": "stderr",
     "output_type": "stream",
     "text": [
      "\r",
      "Loss: 0.007:  72%|██████▍  | 587/814 [14:44<04:13,  1.12s/it, ['local weather conditions']]"
     ]
    },
    {
     "name": "stderr",
     "output_type": "stream",
     "text": [
      "\r",
      "Loss: 0.007:  72%|██████▌  | 588/814 [14:44<04:10,  1.11s/it, ['local weather conditions']]"
     ]
    },
    {
     "name": "stderr",
     "output_type": "stream",
     "text": [
      "\r",
      "Loss: 0.009:  72%|██████▌  | 588/814 [14:45<04:10,  1.11s/it, ['local weather conditions']]"
     ]
    },
    {
     "name": "stderr",
     "output_type": "stream",
     "text": [
      "\r",
      "Loss: 0.009:  72%|██████▌  | 588/814 [14:45<04:10,  1.11s/it, ['local weather conditions']]"
     ]
    },
    {
     "name": "stderr",
     "output_type": "stream",
     "text": [
      "\r",
      "Loss: 0.009:  72%|██████▌  | 589/814 [14:45<04:05,  1.09s/it, ['local weather conditions']]"
     ]
    },
    {
     "name": "stderr",
     "output_type": "stream",
     "text": [
      "\r",
      "Loss: 0.008:  72%|██████▌  | 589/814 [14:46<04:05,  1.09s/it, ['local weather conditions']]"
     ]
    },
    {
     "name": "stderr",
     "output_type": "stream",
     "text": [
      "\r",
      "Loss: 0.008:  72%|██████▌  | 589/814 [14:46<04:05,  1.09s/it, ['local weather conditions']]"
     ]
    },
    {
     "name": "stderr",
     "output_type": "stream",
     "text": [
      "\r",
      "Loss: 0.008:  72%|██████▌  | 590/814 [14:46<04:03,  1.09s/it, ['local weather conditions']]"
     ]
    },
    {
     "name": "stderr",
     "output_type": "stream",
     "text": [
      "\r",
      "Loss: 0.007:  72%|██████▌  | 590/814 [14:47<04:03,  1.09s/it, ['local weather conditions']]"
     ]
    },
    {
     "name": "stderr",
     "output_type": "stream",
     "text": [
      "\r",
      "Loss: 0.007:  72%|██████▌  | 590/814 [14:47<04:03,  1.09s/it, ['local weather conditions']]"
     ]
    },
    {
     "name": "stderr",
     "output_type": "stream",
     "text": [
      "\r",
      "Loss: 0.007:  73%|██████▌  | 591/814 [14:47<04:00,  1.08s/it, ['local weather conditions']]"
     ]
    },
    {
     "name": "stderr",
     "output_type": "stream",
     "text": [
      "\r",
      "Loss: 0.007:  73%|██████▌  | 591/814 [14:48<04:00,  1.08s/it, ['local weather conditions']]"
     ]
    },
    {
     "name": "stderr",
     "output_type": "stream",
     "text": [
      "\r",
      "Loss: 0.007:  73%|██████▌  | 591/814 [14:48<04:00,  1.08s/it, ['local weather conditions']]"
     ]
    },
    {
     "name": "stderr",
     "output_type": "stream",
     "text": [
      "\r",
      "Loss: 0.007:  73%|██████▌  | 592/814 [14:48<03:57,  1.07s/it, ['local weather conditions']]"
     ]
    },
    {
     "name": "stderr",
     "output_type": "stream",
     "text": [
      "\r",
      "Loss: 0.006:  73%|██████▌  | 592/814 [14:50<03:57,  1.07s/it, ['local weather conditions']]"
     ]
    },
    {
     "name": "stderr",
     "output_type": "stream",
     "text": [
      "\r",
      "Loss: 0.006:  73%|██████▌  | 592/814 [14:50<03:57,  1.07s/it, ['local weather conditions']]"
     ]
    },
    {
     "name": "stderr",
     "output_type": "stream",
     "text": [
      "\r",
      "Loss: 0.006:  73%|██████▌  | 593/814 [14:50<03:57,  1.07s/it, ['local weather conditions']]"
     ]
    },
    {
     "name": "stderr",
     "output_type": "stream",
     "text": [
      "\r",
      "Loss: 0.006:  73%|██████▌  | 593/814 [14:51<03:57,  1.07s/it, ['local weather conditions']]"
     ]
    },
    {
     "name": "stderr",
     "output_type": "stream",
     "text": [
      "\r",
      "Loss: 0.006:  73%|██████▌  | 593/814 [14:51<03:57,  1.07s/it, ['local weather conditions']]"
     ]
    },
    {
     "name": "stderr",
     "output_type": "stream",
     "text": [
      "\r",
      "Loss: 0.006:  73%|██████▌  | 594/814 [14:51<03:57,  1.08s/it, ['local weather conditions']]"
     ]
    },
    {
     "name": "stderr",
     "output_type": "stream",
     "text": [
      "\r",
      "Loss: 0.005:  73%|██████▌  | 594/814 [14:52<03:57,  1.08s/it, ['local weather conditions']]"
     ]
    },
    {
     "name": "stderr",
     "output_type": "stream",
     "text": [
      "\r",
      "Loss: 0.005:  73%|██████▌  | 594/814 [14:52<03:57,  1.08s/it, ['local weather conditions']]"
     ]
    },
    {
     "name": "stderr",
     "output_type": "stream",
     "text": [
      "\r",
      "Loss: 0.005:  73%|██████▌  | 595/814 [14:52<03:56,  1.08s/it, ['local weather conditions']]"
     ]
    },
    {
     "name": "stderr",
     "output_type": "stream",
     "text": [
      "\r",
      "Loss: 0.005:  73%|██████▌  | 595/814 [14:53<03:56,  1.08s/it, ['local weather conditions']]"
     ]
    },
    {
     "name": "stderr",
     "output_type": "stream",
     "text": [
      "\r",
      "Loss: 0.005:  73%|██████▌  | 595/814 [14:53<03:56,  1.08s/it, ['local weather conditions']]"
     ]
    },
    {
     "name": "stderr",
     "output_type": "stream",
     "text": [
      "\r",
      "Loss: 0.005:  73%|██████▌  | 596/814 [14:53<03:55,  1.08s/it, ['local weather conditions']]"
     ]
    },
    {
     "name": "stderr",
     "output_type": "stream",
     "text": [
      "\r",
      "Loss: 0.004:  73%|██████▌  | 596/814 [14:54<03:55,  1.08s/it, ['local weather conditions']]"
     ]
    },
    {
     "name": "stderr",
     "output_type": "stream",
     "text": [
      "\r",
      "Loss: 0.004:  73%|██████▌  | 596/814 [14:54<03:55,  1.08s/it, ['local weather conditions']]"
     ]
    },
    {
     "name": "stderr",
     "output_type": "stream",
     "text": [
      "\r",
      "Loss: 0.004:  73%|██████▌  | 597/814 [14:54<03:54,  1.08s/it, ['local weather conditions']]"
     ]
    },
    {
     "name": "stderr",
     "output_type": "stream",
     "text": [
      "\r",
      "Loss: 0.004:  73%|██████▌  | 597/814 [14:55<03:54,  1.08s/it, ['local weather conditions']]"
     ]
    },
    {
     "name": "stderr",
     "output_type": "stream",
     "text": [
      "\r",
      "Loss: 0.004:  73%|██████▌  | 597/814 [14:55<03:54,  1.08s/it, ['local weather conditions']]"
     ]
    },
    {
     "name": "stderr",
     "output_type": "stream",
     "text": [
      "\r",
      "Loss: 0.004:  73%|██████▌  | 598/814 [14:55<03:55,  1.09s/it, ['local weather conditions']]"
     ]
    },
    {
     "name": "stderr",
     "output_type": "stream",
     "text": [
      "\r",
      "Loss: 0.004:  73%|██████▌  | 598/814 [14:56<03:55,  1.09s/it, ['local weather conditions']]"
     ]
    },
    {
     "name": "stderr",
     "output_type": "stream",
     "text": [
      "\r",
      "Loss: 0.004:  73%|██████▌  | 598/814 [14:56<03:55,  1.09s/it, ['local weather conditions']]"
     ]
    },
    {
     "name": "stderr",
     "output_type": "stream",
     "text": [
      "\r",
      "Loss: 0.004:  74%|██████▌  | 599/814 [14:56<03:54,  1.09s/it, ['local weather conditions']]"
     ]
    },
    {
     "name": "stderr",
     "output_type": "stream",
     "text": [
      "\r",
      "Loss: 0.003:  74%|██████▌  | 599/814 [14:58<03:54,  1.09s/it, ['local weather conditions']]"
     ]
    },
    {
     "name": "stderr",
     "output_type": "stream",
     "text": [
      "\r",
      "Loss: 0.003:  74%|██████▌  | 599/814 [14:58<03:54,  1.09s/it, ['local weather conditions']]"
     ]
    },
    {
     "name": "stderr",
     "output_type": "stream",
     "text": [
      "\r",
      "Loss: 0.003:  74%|██████▋  | 600/814 [14:58<04:27,  1.25s/it, ['local weather conditions']]"
     ]
    },
    {
     "name": "stderr",
     "output_type": "stream",
     "text": [
      "\r",
      "Loss: 0.004:  74%|██████▋  | 600/814 [14:59<04:27,  1.25s/it, ['local weather conditions']]"
     ]
    },
    {
     "name": "stderr",
     "output_type": "stream",
     "text": [
      "\r",
      "Loss: 0.004:  74%|██████▋  | 600/814 [14:59<04:27,  1.25s/it, ['local weather conditions']]"
     ]
    },
    {
     "name": "stderr",
     "output_type": "stream",
     "text": [
      "\r",
      "Loss: 0.004:  74%|██████▋  | 601/814 [14:59<04:13,  1.19s/it, ['local weather conditions']]"
     ]
    },
    {
     "name": "stderr",
     "output_type": "stream",
     "text": [
      "\r",
      "Loss: 0.004:  74%|██████▋  | 601/814 [15:00<04:13,  1.19s/it, ['local weather conditions']]"
     ]
    },
    {
     "name": "stderr",
     "output_type": "stream",
     "text": [
      "\r",
      "Loss: 0.004:  74%|██████▋  | 601/814 [15:00<04:13,  1.19s/it, ['local weather conditions']]"
     ]
    },
    {
     "name": "stderr",
     "output_type": "stream",
     "text": [
      "\r",
      "Loss: 0.004:  74%|██████▋  | 602/814 [15:00<04:10,  1.18s/it, ['local weather conditions']]"
     ]
    },
    {
     "name": "stderr",
     "output_type": "stream",
     "text": [
      "\r",
      "Loss: 0.004:  74%|██████▋  | 602/814 [15:01<04:10,  1.18s/it, ['local weather conditions']]"
     ]
    },
    {
     "name": "stderr",
     "output_type": "stream",
     "text": [
      "\r",
      "Loss: 0.004:  74%|██████▋  | 602/814 [15:01<04:10,  1.18s/it, ['local weather conditions']]"
     ]
    },
    {
     "name": "stderr",
     "output_type": "stream",
     "text": [
      "\r",
      "Loss: 0.004:  74%|██████▋  | 603/814 [15:01<04:03,  1.15s/it, ['local weather conditions']]"
     ]
    },
    {
     "name": "stderr",
     "output_type": "stream",
     "text": [
      "\r",
      "Loss: 0.014:  74%|██████▋  | 603/814 [15:02<04:03,  1.15s/it, ['local weather conditions']]"
     ]
    },
    {
     "name": "stderr",
     "output_type": "stream",
     "text": [
      "\r",
      "Loss: 0.014:  74%|██████▋  | 603/814 [15:02<04:03,  1.15s/it, ['local weather conditions']]"
     ]
    },
    {
     "name": "stderr",
     "output_type": "stream",
     "text": [
      "\r",
      "Loss: 0.014:  74%|██████▋  | 604/814 [15:02<03:57,  1.13s/it, ['local weather conditions']]"
     ]
    },
    {
     "name": "stderr",
     "output_type": "stream",
     "text": [
      "\r",
      "Loss: 0.012:  74%|██████▋  | 604/814 [15:03<03:57,  1.13s/it, ['local weather conditions']]"
     ]
    },
    {
     "name": "stderr",
     "output_type": "stream",
     "text": [
      "\r",
      "Loss: 0.012:  74%|██████▋  | 604/814 [15:03<03:57,  1.13s/it, ['local weather conditions']]"
     ]
    },
    {
     "name": "stderr",
     "output_type": "stream",
     "text": [
      "\r",
      "Loss: 0.012:  74%|██████▋  | 605/814 [15:03<03:53,  1.12s/it, ['local weather conditions']]"
     ]
    },
    {
     "name": "stderr",
     "output_type": "stream",
     "text": [
      "\r",
      "Loss: 0.011:  74%|██████▋  | 605/814 [15:04<03:53,  1.12s/it, ['local weather conditions']]"
     ]
    },
    {
     "name": "stderr",
     "output_type": "stream",
     "text": [
      "\r",
      "Loss: 0.011:  74%|██████▋  | 605/814 [15:04<03:53,  1.12s/it, ['local weather conditions']]"
     ]
    },
    {
     "name": "stderr",
     "output_type": "stream",
     "text": [
      "\r",
      "Loss: 0.011:  74%|██████▋  | 606/814 [15:04<03:51,  1.11s/it, ['local weather conditions']]"
     ]
    },
    {
     "name": "stderr",
     "output_type": "stream",
     "text": [
      "\r",
      "Loss: 0.010:  74%|██████▋  | 606/814 [15:05<03:51,  1.11s/it, ['local weather conditions']]"
     ]
    },
    {
     "name": "stderr",
     "output_type": "stream",
     "text": [
      "\r",
      "Loss: 0.010:  74%|██████▋  | 606/814 [15:05<03:51,  1.11s/it, ['local weather conditions']]"
     ]
    },
    {
     "name": "stderr",
     "output_type": "stream",
     "text": [
      "\r",
      "Loss: 0.010:  75%|██████▋  | 607/814 [15:05<03:48,  1.10s/it, ['local weather conditions']]"
     ]
    },
    {
     "name": "stderr",
     "output_type": "stream",
     "text": [
      "\r",
      "Loss: 0.009:  75%|██████▋  | 607/814 [15:06<03:48,  1.10s/it, ['local weather conditions']]"
     ]
    },
    {
     "name": "stderr",
     "output_type": "stream",
     "text": [
      "\r",
      "Loss: 0.009:  75%|██████▋  | 607/814 [15:06<03:48,  1.10s/it, ['local weather conditions']]"
     ]
    },
    {
     "name": "stderr",
     "output_type": "stream",
     "text": [
      "\r",
      "Loss: 0.009:  75%|██████▋  | 608/814 [15:06<03:42,  1.08s/it, ['local weather conditions']]"
     ]
    },
    {
     "name": "stderr",
     "output_type": "stream",
     "text": [
      "\r",
      "Loss: 0.009:  75%|██████▋  | 608/814 [15:08<03:42,  1.08s/it, ['local weather conditions']]"
     ]
    },
    {
     "name": "stderr",
     "output_type": "stream",
     "text": [
      "\r",
      "Loss: 0.009:  75%|██████▋  | 608/814 [15:08<03:42,  1.08s/it, ['local weather conditions']]"
     ]
    },
    {
     "name": "stderr",
     "output_type": "stream",
     "text": [
      "\r",
      "Loss: 0.009:  75%|██████▋  | 609/814 [15:08<03:43,  1.09s/it, ['local weather conditions']]"
     ]
    },
    {
     "name": "stderr",
     "output_type": "stream",
     "text": [
      "\r",
      "Loss: 0.008:  75%|██████▋  | 609/814 [15:09<03:43,  1.09s/it, ['local weather conditions']]"
     ]
    },
    {
     "name": "stderr",
     "output_type": "stream",
     "text": [
      "\r",
      "Loss: 0.008:  75%|██████▋  | 609/814 [15:09<03:43,  1.09s/it, ['local weather conditions']]"
     ]
    },
    {
     "name": "stderr",
     "output_type": "stream",
     "text": [
      "\r",
      "Loss: 0.008:  75%|██████▋  | 610/814 [15:09<03:43,  1.10s/it, ['local weather conditions']]"
     ]
    },
    {
     "name": "stderr",
     "output_type": "stream",
     "text": [
      "\r",
      "Loss: 0.007:  75%|██████▋  | 610/814 [15:10<03:43,  1.10s/it, ['local weather conditions']]"
     ]
    },
    {
     "name": "stderr",
     "output_type": "stream",
     "text": [
      "\r",
      "Loss: 0.007:  75%|██████▋  | 610/814 [15:10<03:43,  1.10s/it, ['local weather conditions']]"
     ]
    },
    {
     "name": "stderr",
     "output_type": "stream",
     "text": [
      "\r",
      "Loss: 0.007:  75%|██████▊  | 611/814 [15:10<03:43,  1.10s/it, ['local weather conditions']]"
     ]
    },
    {
     "name": "stderr",
     "output_type": "stream",
     "text": [
      "\r",
      "Loss: 0.007:  75%|██████▊  | 611/814 [15:11<03:43,  1.10s/it, ['local weather conditions']]"
     ]
    },
    {
     "name": "stderr",
     "output_type": "stream",
     "text": [
      "\r",
      "Loss: 0.007:  75%|██████▊  | 611/814 [15:11<03:43,  1.10s/it, ['local weather conditions']]"
     ]
    },
    {
     "name": "stderr",
     "output_type": "stream",
     "text": [
      "\r",
      "Loss: 0.007:  75%|██████▊  | 612/814 [15:11<03:42,  1.10s/it, ['local weather conditions']]"
     ]
    },
    {
     "name": "stderr",
     "output_type": "stream",
     "text": [
      "\r",
      "Loss: 0.010:  75%|██████▊  | 612/814 [15:12<03:42,  1.10s/it, ['local weather conditions']]"
     ]
    },
    {
     "name": "stderr",
     "output_type": "stream",
     "text": [
      "\r",
      "Loss: 0.010:  75%|██████▊  | 612/814 [15:12<03:42,  1.10s/it, ['local weather conditions']]"
     ]
    },
    {
     "name": "stderr",
     "output_type": "stream",
     "text": [
      "\r",
      "Loss: 0.010:  75%|██████▊  | 613/814 [15:12<03:42,  1.11s/it, ['local weather conditions']]"
     ]
    },
    {
     "name": "stderr",
     "output_type": "stream",
     "text": [
      "\r",
      "Loss: 0.037:  75%|██████▊  | 613/814 [15:13<03:42,  1.11s/it, ['local weather conditions']]"
     ]
    },
    {
     "name": "stderr",
     "output_type": "stream",
     "text": [
      "\r",
      "Loss: 0.037:  75%|██████▊  | 613/814 [15:13<03:42,  1.11s/it, ['local weather conditions']]"
     ]
    },
    {
     "name": "stderr",
     "output_type": "stream",
     "text": [
      "\r",
      "Loss: 0.037:  75%|██████▊  | 614/814 [15:13<03:40,  1.10s/it, ['local weather conditions']]"
     ]
    },
    {
     "name": "stderr",
     "output_type": "stream",
     "text": [
      "\r",
      "Loss: 0.047:  75%|██████▊  | 614/814 [15:14<03:40,  1.10s/it, ['local weather conditions']]"
     ]
    },
    {
     "name": "stderr",
     "output_type": "stream",
     "text": [
      "\r",
      "Loss: 0.047:  75%|██████▊  | 614/814 [15:14<03:40,  1.10s/it, ['local weather conditions']]"
     ]
    },
    {
     "name": "stderr",
     "output_type": "stream",
     "text": [
      "\r",
      "Loss: 0.047:  76%|██████▊  | 615/814 [15:14<03:37,  1.09s/it, ['local weather conditions']]"
     ]
    },
    {
     "name": "stderr",
     "output_type": "stream",
     "text": [
      "\r",
      "Loss: 0.042:  76%|██████▊  | 615/814 [15:15<03:37,  1.09s/it, ['local weather conditions']]"
     ]
    },
    {
     "name": "stderr",
     "output_type": "stream",
     "text": [
      "\r",
      "Loss: 0.042:  76%|██████▊  | 615/814 [15:15<03:37,  1.09s/it, ['local weather conditions']]"
     ]
    },
    {
     "name": "stderr",
     "output_type": "stream",
     "text": [
      "\r",
      "Loss: 0.042:  76%|██████▊  | 616/814 [15:15<03:37,  1.10s/it, ['local weather conditions']]"
     ]
    },
    {
     "name": "stderr",
     "output_type": "stream",
     "text": [
      "\r",
      "Loss: 0.039:  76%|██████▊  | 616/814 [15:16<03:37,  1.10s/it, ['local weather conditions']]"
     ]
    },
    {
     "name": "stderr",
     "output_type": "stream",
     "text": [
      "\r",
      "Loss: 0.039:  76%|██████▊  | 616/814 [15:16<03:37,  1.10s/it, ['local weather conditions']]"
     ]
    },
    {
     "name": "stderr",
     "output_type": "stream",
     "text": [
      "\r",
      "Loss: 0.039:  76%|██████▊  | 617/814 [15:16<03:38,  1.11s/it, ['local weather conditions']]"
     ]
    },
    {
     "name": "stderr",
     "output_type": "stream",
     "text": [
      "\r",
      "Loss: 0.035:  76%|██████▊  | 617/814 [15:17<03:38,  1.11s/it, ['local weather conditions']]"
     ]
    },
    {
     "name": "stderr",
     "output_type": "stream",
     "text": [
      "\r",
      "Loss: 0.035:  76%|██████▊  | 617/814 [15:17<03:38,  1.11s/it, ['local weather conditions']]"
     ]
    },
    {
     "name": "stderr",
     "output_type": "stream",
     "text": [
      "\r",
      "Loss: 0.035:  76%|██████▊  | 618/814 [15:17<03:37,  1.11s/it, ['local weather conditions']]"
     ]
    },
    {
     "name": "stderr",
     "output_type": "stream",
     "text": [
      "\r",
      "Loss: 0.043:  76%|██████▊  | 618/814 [15:19<03:37,  1.11s/it, ['local weather conditions']]"
     ]
    },
    {
     "name": "stderr",
     "output_type": "stream",
     "text": [
      "\r",
      "Loss: 0.043:  76%|██████▊  | 618/814 [15:19<03:37,  1.11s/it, ['local weather conditions']]"
     ]
    },
    {
     "name": "stderr",
     "output_type": "stream",
     "text": [
      "\r",
      "Loss: 0.043:  76%|██████▊  | 619/814 [15:19<03:36,  1.11s/it, ['local weather conditions']]"
     ]
    },
    {
     "name": "stderr",
     "output_type": "stream",
     "text": [
      "\r",
      "Loss: 0.039:  76%|██████▊  | 619/814 [15:20<03:36,  1.11s/it, ['local weather conditions']]"
     ]
    },
    {
     "name": "stderr",
     "output_type": "stream",
     "text": [
      "\r",
      "Loss: 0.039:  76%|██████▊  | 619/814 [15:20<03:36,  1.11s/it, ['local weather conditions']]"
     ]
    },
    {
     "name": "stderr",
     "output_type": "stream",
     "text": [
      "\r",
      "Loss: 0.039:  76%|██████▊  | 620/814 [15:20<03:35,  1.11s/it, ['local weather conditions']]"
     ]
    },
    {
     "name": "stderr",
     "output_type": "stream",
     "text": [
      "\r",
      "Loss: 0.035:  76%|██████▊  | 620/814 [15:21<03:35,  1.11s/it, ['local weather conditions']]"
     ]
    },
    {
     "name": "stderr",
     "output_type": "stream",
     "text": [
      "\r",
      "Loss: 0.035:  76%|██████▊  | 620/814 [15:21<03:35,  1.11s/it, ['local weather conditions']]"
     ]
    },
    {
     "name": "stderr",
     "output_type": "stream",
     "text": [
      "\r",
      "Loss: 0.035:  76%|██████▊  | 621/814 [15:21<03:36,  1.12s/it, ['local weather conditions']]"
     ]
    },
    {
     "name": "stderr",
     "output_type": "stream",
     "text": [
      "\r",
      "Loss: 0.031:  76%|██████▊  | 621/814 [15:22<03:36,  1.12s/it, ['local weather conditions']]"
     ]
    },
    {
     "name": "stderr",
     "output_type": "stream",
     "text": [
      "\r",
      "Loss: 0.031:  76%|██████▊  | 621/814 [15:22<03:36,  1.12s/it, ['local weather conditions']]"
     ]
    },
    {
     "name": "stderr",
     "output_type": "stream",
     "text": [
      "\r",
      "Loss: 0.031:  76%|██████▉  | 622/814 [15:22<03:35,  1.12s/it, ['local weather conditions']]"
     ]
    },
    {
     "name": "stderr",
     "output_type": "stream",
     "text": [
      "\r",
      "Loss: 0.048:  76%|██████▉  | 622/814 [15:23<03:35,  1.12s/it, ['local weather conditions']]"
     ]
    },
    {
     "name": "stderr",
     "output_type": "stream",
     "text": [
      "\r",
      "Loss: 0.048:  76%|██████▉  | 622/814 [15:23<03:35,  1.12s/it, ['local weather conditions']]"
     ]
    },
    {
     "name": "stderr",
     "output_type": "stream",
     "text": [
      "\r",
      "Loss: 0.048:  77%|██████▉  | 623/814 [15:23<03:35,  1.13s/it, ['local weather conditions']]"
     ]
    },
    {
     "name": "stderr",
     "output_type": "stream",
     "text": [
      "\r",
      "Loss: 0.045:  77%|██████▉  | 623/814 [15:24<03:35,  1.13s/it, ['local weather conditions']]"
     ]
    },
    {
     "name": "stderr",
     "output_type": "stream",
     "text": [
      "\r",
      "Loss: 0.045:  77%|██████▉  | 623/814 [15:24<03:35,  1.13s/it, ['local weather conditions']]"
     ]
    },
    {
     "name": "stderr",
     "output_type": "stream",
     "text": [
      "\r",
      "Loss: 0.045:  77%|██████▉  | 624/814 [15:24<03:33,  1.12s/it, ['local weather conditions']]"
     ]
    },
    {
     "name": "stderr",
     "output_type": "stream",
     "text": [
      "\r",
      "Loss: 0.040:  77%|██████▉  | 624/814 [15:25<03:33,  1.12s/it, ['local weather conditions']]"
     ]
    },
    {
     "name": "stderr",
     "output_type": "stream",
     "text": [
      "\r",
      "Loss: 0.040:  77%|██████▉  | 624/814 [15:25<03:33,  1.12s/it, ['local weather conditions']]"
     ]
    },
    {
     "name": "stderr",
     "output_type": "stream",
     "text": [
      "\r",
      "Loss: 0.040:  77%|██████▉  | 625/814 [15:25<03:33,  1.13s/it, ['local weather conditions']]"
     ]
    },
    {
     "name": "stderr",
     "output_type": "stream",
     "text": [
      "\r",
      "Loss: 0.037:  77%|██████▉  | 625/814 [15:27<03:33,  1.13s/it, ['local weather conditions']]"
     ]
    },
    {
     "name": "stderr",
     "output_type": "stream",
     "text": [
      "\r",
      "Loss: 0.037:  77%|██████▉  | 625/814 [15:27<03:33,  1.13s/it, ['local weather conditions']]"
     ]
    },
    {
     "name": "stderr",
     "output_type": "stream",
     "text": [
      "\r",
      "Loss: 0.037:  77%|██████▉  | 626/814 [15:27<03:32,  1.13s/it, ['local weather conditions']]"
     ]
    },
    {
     "name": "stderr",
     "output_type": "stream",
     "text": [
      "\r",
      "Loss: 0.033:  77%|██████▉  | 626/814 [15:28<03:32,  1.13s/it, ['local weather conditions']]"
     ]
    },
    {
     "name": "stderr",
     "output_type": "stream",
     "text": [
      "\r",
      "Loss: 0.033:  77%|██████▉  | 626/814 [15:28<03:32,  1.13s/it, ['local weather conditions']]"
     ]
    },
    {
     "name": "stderr",
     "output_type": "stream",
     "text": [
      "\r",
      "Loss: 0.033:  77%|██████▉  | 627/814 [15:28<03:29,  1.12s/it, ['local weather conditions']]"
     ]
    },
    {
     "name": "stderr",
     "output_type": "stream",
     "text": [
      "\r",
      "Loss: 0.030:  77%|██████▉  | 627/814 [15:29<03:29,  1.12s/it, ['local weather conditions']]"
     ]
    },
    {
     "name": "stderr",
     "output_type": "stream",
     "text": [
      "\r",
      "Loss: 0.030:  77%|██████▉  | 627/814 [15:29<03:29,  1.12s/it, ['local weather conditions']]"
     ]
    },
    {
     "name": "stderr",
     "output_type": "stream",
     "text": [
      "\r",
      "Loss: 0.030:  77%|██████▉  | 628/814 [15:29<03:26,  1.11s/it, ['local weather conditions']]"
     ]
    },
    {
     "name": "stderr",
     "output_type": "stream",
     "text": [
      "\r",
      "Loss: 0.028:  77%|██████▉  | 628/814 [15:30<03:26,  1.11s/it, ['local weather conditions']]"
     ]
    },
    {
     "name": "stderr",
     "output_type": "stream",
     "text": [
      "\r",
      "Loss: 0.028:  77%|██████▉  | 628/814 [15:30<03:26,  1.11s/it, ['local weather conditions']]"
     ]
    },
    {
     "name": "stderr",
     "output_type": "stream",
     "text": [
      "\r",
      "Loss: 0.028:  77%|██████▉  | 629/814 [15:30<03:37,  1.18s/it, ['local weather conditions']]"
     ]
    },
    {
     "name": "stderr",
     "output_type": "stream",
     "text": [
      "\r",
      "Loss: 0.025:  77%|██████▉  | 629/814 [15:32<03:37,  1.18s/it, ['local weather conditions']]"
     ]
    },
    {
     "name": "stderr",
     "output_type": "stream",
     "text": [
      "\r",
      "Loss: 0.025:  77%|██████▉  | 629/814 [15:32<03:37,  1.18s/it, ['local weather conditions']]"
     ]
    },
    {
     "name": "stderr",
     "output_type": "stream",
     "text": [
      "\r",
      "Loss: 0.025:  77%|██████▉  | 630/814 [15:32<03:54,  1.28s/it, ['local weather conditions']]"
     ]
    },
    {
     "name": "stderr",
     "output_type": "stream",
     "text": [
      "\r",
      "Loss: 0.023:  77%|██████▉  | 630/814 [15:33<03:54,  1.28s/it, ['local weather conditions']]"
     ]
    },
    {
     "name": "stderr",
     "output_type": "stream",
     "text": [
      "\r",
      "Loss: 0.023:  77%|██████▉  | 630/814 [15:33<03:54,  1.28s/it, ['local weather conditions']]"
     ]
    },
    {
     "name": "stderr",
     "output_type": "stream",
     "text": [
      "\r",
      "Loss: 0.023:  78%|██████▉  | 631/814 [15:33<03:42,  1.21s/it, ['local weather conditions']]"
     ]
    },
    {
     "name": "stderr",
     "output_type": "stream",
     "text": [
      "\r",
      "Loss: 0.021:  78%|██████▉  | 631/814 [15:34<03:42,  1.21s/it, ['local weather conditions']]"
     ]
    },
    {
     "name": "stderr",
     "output_type": "stream",
     "text": [
      "\r",
      "Loss: 0.021:  78%|██████▉  | 631/814 [15:34<03:42,  1.21s/it, ['local weather conditions']]"
     ]
    },
    {
     "name": "stderr",
     "output_type": "stream",
     "text": [
      "\r",
      "Loss: 0.021:  78%|██████▉  | 632/814 [15:34<03:32,  1.17s/it, ['local weather conditions']]"
     ]
    },
    {
     "name": "stderr",
     "output_type": "stream",
     "text": [
      "\r",
      "Loss: 0.027:  78%|██████▉  | 632/814 [15:35<03:32,  1.17s/it, ['local weather conditions']]"
     ]
    },
    {
     "name": "stderr",
     "output_type": "stream",
     "text": [
      "\r",
      "Loss: 0.027:  78%|██████▉  | 632/814 [15:35<03:32,  1.17s/it, ['local weather conditions']]"
     ]
    },
    {
     "name": "stderr",
     "output_type": "stream",
     "text": [
      "\r",
      "Loss: 0.027:  78%|██████▉  | 633/814 [15:35<03:26,  1.14s/it, ['local weather conditions']]"
     ]
    },
    {
     "name": "stderr",
     "output_type": "stream",
     "text": [
      "\r",
      "Loss: 0.025:  78%|██████▉  | 633/814 [15:36<03:26,  1.14s/it, ['local weather conditions']]"
     ]
    },
    {
     "name": "stderr",
     "output_type": "stream",
     "text": [
      "\r",
      "Loss: 0.025:  78%|██████▉  | 633/814 [15:36<03:26,  1.14s/it, ['local weather conditions']]"
     ]
    },
    {
     "name": "stderr",
     "output_type": "stream",
     "text": [
      "\r",
      "Loss: 0.025:  78%|███████  | 634/814 [15:36<03:21,  1.12s/it, ['local weather conditions']]"
     ]
    },
    {
     "name": "stderr",
     "output_type": "stream",
     "text": [
      "\r",
      "Loss: 0.022:  78%|███████  | 634/814 [15:37<03:21,  1.12s/it, ['local weather conditions']]"
     ]
    },
    {
     "name": "stderr",
     "output_type": "stream",
     "text": [
      "\r",
      "Loss: 0.022:  78%|███████  | 634/814 [15:37<03:21,  1.12s/it, ['local weather conditions']]"
     ]
    },
    {
     "name": "stderr",
     "output_type": "stream",
     "text": [
      "\r",
      "Loss: 0.022:  78%|███████  | 635/814 [15:37<03:21,  1.13s/it, ['local weather conditions']]"
     ]
    },
    {
     "name": "stderr",
     "output_type": "stream",
     "text": [
      "\r",
      "Loss: 0.020:  78%|███████  | 635/814 [15:38<03:21,  1.13s/it, ['local weather conditions']]"
     ]
    },
    {
     "name": "stderr",
     "output_type": "stream",
     "text": [
      "\r",
      "Loss: 0.020:  78%|███████  | 635/814 [15:38<03:21,  1.13s/it, ['local weather conditions']]"
     ]
    },
    {
     "name": "stderr",
     "output_type": "stream",
     "text": [
      "\r",
      "Loss: 0.020:  78%|███████  | 636/814 [15:38<03:19,  1.12s/it, ['local weather conditions']]"
     ]
    },
    {
     "name": "stderr",
     "output_type": "stream",
     "text": [
      "\r",
      "Loss: 0.031:  78%|███████  | 636/814 [15:39<03:19,  1.12s/it, ['local weather conditions']]"
     ]
    },
    {
     "name": "stderr",
     "output_type": "stream",
     "text": [
      "\r",
      "Loss: 0.031:  78%|███████  | 636/814 [15:39<03:19,  1.12s/it, ['local weather conditions']]"
     ]
    },
    {
     "name": "stderr",
     "output_type": "stream",
     "text": [
      "\r",
      "Loss: 0.031:  78%|███████  | 637/814 [15:39<03:19,  1.13s/it, ['local weather conditions']]"
     ]
    },
    {
     "name": "stderr",
     "output_type": "stream",
     "text": [
      "\r",
      "Loss: 0.044:  78%|███████  | 637/814 [15:40<03:19,  1.13s/it, ['local weather conditions']]"
     ]
    },
    {
     "name": "stderr",
     "output_type": "stream",
     "text": [
      "\r",
      "Loss: 0.044:  78%|███████  | 637/814 [15:40<03:19,  1.13s/it, ['local weather conditions']]"
     ]
    },
    {
     "name": "stderr",
     "output_type": "stream",
     "text": [
      "\r",
      "Loss: 0.044:  78%|███████  | 638/814 [15:40<03:14,  1.11s/it, ['local weather conditions']]"
     ]
    },
    {
     "name": "stderr",
     "output_type": "stream",
     "text": [
      "\r",
      "Loss: 0.040:  78%|███████  | 638/814 [15:41<03:14,  1.11s/it, ['local weather conditions']]"
     ]
    },
    {
     "name": "stderr",
     "output_type": "stream",
     "text": [
      "\r",
      "Loss: 0.040:  78%|███████  | 638/814 [15:41<03:14,  1.11s/it, ['local weather conditions']]"
     ]
    },
    {
     "name": "stderr",
     "output_type": "stream",
     "text": [
      "\r",
      "Loss: 0.040:  79%|███████  | 639/814 [15:41<03:16,  1.12s/it, ['local weather conditions']]"
     ]
    },
    {
     "name": "stderr",
     "output_type": "stream",
     "text": [
      "\r",
      "Loss: 0.037:  79%|███████  | 639/814 [15:43<03:16,  1.12s/it, ['local weather conditions']]"
     ]
    },
    {
     "name": "stderr",
     "output_type": "stream",
     "text": [
      "\r",
      "Loss: 0.037:  79%|███████  | 639/814 [15:43<03:16,  1.12s/it, ['local weather conditions']]"
     ]
    },
    {
     "name": "stderr",
     "output_type": "stream",
     "text": [
      "\r",
      "Loss: 0.037:  79%|███████  | 640/814 [15:43<03:19,  1.14s/it, ['local weather conditions']]"
     ]
    },
    {
     "name": "stderr",
     "output_type": "stream",
     "text": [
      "\r",
      "Loss: 0.034:  79%|███████  | 640/814 [15:44<03:19,  1.14s/it, ['local weather conditions']]"
     ]
    },
    {
     "name": "stderr",
     "output_type": "stream",
     "text": [
      "\r",
      "Loss: 0.034:  79%|███████  | 640/814 [15:44<03:19,  1.14s/it, ['local weather conditions']]"
     ]
    },
    {
     "name": "stderr",
     "output_type": "stream",
     "text": [
      "\r",
      "Loss: 0.034:  79%|███████  | 641/814 [15:44<03:43,  1.29s/it, ['local weather conditions']]"
     ]
    },
    {
     "name": "stderr",
     "output_type": "stream",
     "text": [
      "\r",
      "Loss: 0.031:  79%|███████  | 641/814 [15:46<03:43,  1.29s/it, ['local weather conditions']]"
     ]
    },
    {
     "name": "stderr",
     "output_type": "stream",
     "text": [
      "\r",
      "Loss: 0.031:  79%|███████  | 641/814 [15:46<03:43,  1.29s/it, ['local weather conditions']]"
     ]
    },
    {
     "name": "stderr",
     "output_type": "stream",
     "text": [
      "\r",
      "Loss: 0.031:  79%|███████  | 642/814 [15:46<04:15,  1.49s/it, ['local weather conditions']]"
     ]
    },
    {
     "name": "stderr",
     "output_type": "stream",
     "text": [
      "\r",
      "Loss: 0.028:  79%|███████  | 642/814 [15:48<04:15,  1.49s/it, ['local weather conditions']]"
     ]
    },
    {
     "name": "stderr",
     "output_type": "stream",
     "text": [
      "\r",
      "Loss: 0.028:  79%|███████  | 642/814 [15:48<04:15,  1.49s/it, ['local weather conditions']]"
     ]
    },
    {
     "name": "stderr",
     "output_type": "stream",
     "text": [
      "\r",
      "Loss: 0.028:  79%|███████  | 643/814 [15:48<04:34,  1.61s/it, ['local weather conditions']]"
     ]
    },
    {
     "name": "stderr",
     "output_type": "stream",
     "text": [
      "\r",
      "Loss: 0.025:  79%|███████  | 643/814 [15:50<04:34,  1.61s/it, ['local weather conditions']]"
     ]
    },
    {
     "name": "stderr",
     "output_type": "stream",
     "text": [
      "\r",
      "Loss: 0.025:  79%|███████  | 643/814 [15:50<04:34,  1.61s/it, ['local weather conditions']]"
     ]
    },
    {
     "name": "stderr",
     "output_type": "stream",
     "text": [
      "\r",
      "Loss: 0.025:  79%|███████  | 644/814 [15:50<04:48,  1.70s/it, ['local weather conditions']]"
     ]
    },
    {
     "name": "stderr",
     "output_type": "stream",
     "text": [
      "\r",
      "Loss: 0.023:  79%|███████  | 644/814 [15:52<04:48,  1.70s/it, ['local weather conditions']]"
     ]
    },
    {
     "name": "stderr",
     "output_type": "stream",
     "text": [
      "\r",
      "Loss: 0.023:  79%|███████  | 644/814 [15:52<04:48,  1.70s/it, ['local weather conditions']]"
     ]
    },
    {
     "name": "stderr",
     "output_type": "stream",
     "text": [
      "\r",
      "Loss: 0.023:  79%|███████▏ | 645/814 [15:52<04:57,  1.76s/it, ['local weather conditions']]"
     ]
    },
    {
     "name": "stderr",
     "output_type": "stream",
     "text": [
      "\r",
      "Loss: 0.021:  79%|███████▏ | 645/814 [15:54<04:57,  1.76s/it, ['local weather conditions']]"
     ]
    },
    {
     "name": "stderr",
     "output_type": "stream",
     "text": [
      "\r",
      "Loss: 0.021:  79%|███████▏ | 645/814 [15:54<04:57,  1.76s/it, ['local weather conditions']]"
     ]
    },
    {
     "name": "stderr",
     "output_type": "stream",
     "text": [
      "\r",
      "Loss: 0.021:  79%|███████▏ | 646/814 [15:54<05:03,  1.81s/it, ['local weather conditions']]"
     ]
    },
    {
     "name": "stderr",
     "output_type": "stream",
     "text": [
      "\r",
      "Loss: 0.019:  79%|███████▏ | 646/814 [15:56<05:03,  1.81s/it, ['local weather conditions']]"
     ]
    },
    {
     "name": "stderr",
     "output_type": "stream",
     "text": [
      "\r",
      "Loss: 0.019:  79%|███████▏ | 646/814 [15:56<05:03,  1.81s/it, ['local weather conditions']]"
     ]
    },
    {
     "name": "stderr",
     "output_type": "stream",
     "text": [
      "\r",
      "Loss: 0.019:  79%|███████▏ | 647/814 [15:56<05:07,  1.84s/it, ['local weather conditions']]"
     ]
    },
    {
     "name": "stderr",
     "output_type": "stream",
     "text": [
      "\r",
      "Loss: 0.017:  79%|███████▏ | 647/814 [15:58<05:07,  1.84s/it, ['local weather conditions']]"
     ]
    },
    {
     "name": "stderr",
     "output_type": "stream",
     "text": [
      "\r",
      "Loss: 0.017:  79%|███████▏ | 647/814 [15:58<05:07,  1.84s/it, ['local weather conditions']]"
     ]
    },
    {
     "name": "stderr",
     "output_type": "stream",
     "text": [
      "\r",
      "Loss: 0.017:  80%|███████▏ | 648/814 [15:58<05:08,  1.86s/it, ['local weather conditions']]"
     ]
    },
    {
     "name": "stderr",
     "output_type": "stream",
     "text": [
      "\r",
      "Loss: 0.015:  80%|███████▏ | 648/814 [16:00<05:08,  1.86s/it, ['local weather conditions']]"
     ]
    },
    {
     "name": "stderr",
     "output_type": "stream",
     "text": [
      "\r",
      "Loss: 0.015:  80%|███████▏ | 648/814 [16:00<05:08,  1.86s/it, ['local weather conditions']]"
     ]
    },
    {
     "name": "stderr",
     "output_type": "stream",
     "text": [
      "\r",
      "Loss: 0.015:  80%|███████▏ | 649/814 [16:00<05:09,  1.87s/it, ['local weather conditions']]"
     ]
    },
    {
     "name": "stderr",
     "output_type": "stream",
     "text": [
      "\r",
      "Loss: 0.014:  80%|███████▏ | 649/814 [16:01<05:09,  1.87s/it, ['local weather conditions']]"
     ]
    },
    {
     "name": "stderr",
     "output_type": "stream",
     "text": [
      "\r",
      "Loss: 0.014:  80%|███████▏ | 649/814 [16:01<05:09,  1.87s/it, ['local weather conditions']]"
     ]
    },
    {
     "name": "stderr",
     "output_type": "stream",
     "text": [
      "\r",
      "Loss: 0.014:  80%|███████▏ | 650/814 [16:01<05:08,  1.88s/it, ['local weather conditions']]"
     ]
    },
    {
     "name": "stderr",
     "output_type": "stream",
     "text": [
      "\r",
      "Loss: 0.013:  80%|███████▏ | 650/814 [16:03<05:08,  1.88s/it, ['local weather conditions']]"
     ]
    },
    {
     "name": "stderr",
     "output_type": "stream",
     "text": [
      "\r",
      "Loss: 0.013:  80%|███████▏ | 650/814 [16:03<05:08,  1.88s/it, ['local weather conditions']]"
     ]
    },
    {
     "name": "stderr",
     "output_type": "stream",
     "text": [
      "\r",
      "Loss: 0.013:  80%|███████▏ | 651/814 [16:03<05:09,  1.90s/it, ['local weather conditions']]"
     ]
    },
    {
     "name": "stderr",
     "output_type": "stream",
     "text": [
      "\r",
      "Loss: 0.011:  80%|███████▏ | 651/814 [16:05<05:09,  1.90s/it, ['local weather conditions']]"
     ]
    },
    {
     "name": "stderr",
     "output_type": "stream",
     "text": [
      "\r",
      "Loss: 0.011:  80%|███████▏ | 651/814 [16:05<05:09,  1.90s/it, ['local weather conditions']]"
     ]
    },
    {
     "name": "stderr",
     "output_type": "stream",
     "text": [
      "\r",
      "Loss: 0.011:  80%|███████▏ | 652/814 [16:05<05:09,  1.91s/it, ['local weather conditions']]"
     ]
    },
    {
     "name": "stderr",
     "output_type": "stream",
     "text": [
      "\r",
      "Loss: 0.010:  80%|███████▏ | 652/814 [16:07<05:09,  1.91s/it, ['local weather conditions']]"
     ]
    },
    {
     "name": "stderr",
     "output_type": "stream",
     "text": [
      "\r",
      "Loss: 0.010:  80%|███████▏ | 652/814 [16:07<05:09,  1.91s/it, ['local weather conditions']]"
     ]
    },
    {
     "name": "stderr",
     "output_type": "stream",
     "text": [
      "\r",
      "Loss: 0.010:  80%|███████▏ | 653/814 [16:07<05:08,  1.92s/it, ['local weather conditions']]"
     ]
    },
    {
     "name": "stderr",
     "output_type": "stream",
     "text": [
      "\r",
      "Loss: 0.009:  80%|███████▏ | 653/814 [16:09<05:08,  1.92s/it, ['local weather conditions']]"
     ]
    },
    {
     "name": "stderr",
     "output_type": "stream",
     "text": [
      "\r",
      "Loss: 0.009:  80%|███████▏ | 653/814 [16:09<05:08,  1.92s/it, ['local weather conditions']]"
     ]
    },
    {
     "name": "stderr",
     "output_type": "stream",
     "text": [
      "\r",
      "Loss: 0.009:  80%|███████▏ | 654/814 [16:09<05:07,  1.92s/it, ['local weather conditions']]"
     ]
    },
    {
     "name": "stderr",
     "output_type": "stream",
     "text": [
      "\r",
      "Loss: 0.009:  80%|███████▏ | 654/814 [16:11<05:07,  1.92s/it, ['local weather conditions']]"
     ]
    },
    {
     "name": "stderr",
     "output_type": "stream",
     "text": [
      "\r",
      "Loss: 0.009:  80%|███████▏ | 654/814 [16:11<05:07,  1.92s/it, ['local weather conditions']]"
     ]
    },
    {
     "name": "stderr",
     "output_type": "stream",
     "text": [
      "\r",
      "Loss: 0.009:  80%|███████▏ | 655/814 [16:11<05:05,  1.92s/it, ['local weather conditions']]"
     ]
    },
    {
     "name": "stderr",
     "output_type": "stream",
     "text": [
      "\r",
      "Loss: 0.008:  80%|███████▏ | 655/814 [16:13<05:05,  1.92s/it, ['local weather conditions']]"
     ]
    },
    {
     "name": "stderr",
     "output_type": "stream",
     "text": [
      "\r",
      "Loss: 0.008:  80%|███████▏ | 655/814 [16:13<05:05,  1.92s/it, ['local weather conditions']]"
     ]
    },
    {
     "name": "stderr",
     "output_type": "stream",
     "text": [
      "\r",
      "Loss: 0.008:  81%|███████▎ | 656/814 [16:13<05:03,  1.92s/it, ['local weather conditions']]"
     ]
    },
    {
     "name": "stderr",
     "output_type": "stream",
     "text": [
      "\r",
      "Loss: 0.007:  81%|███████▎ | 656/814 [16:15<05:03,  1.92s/it, ['local weather conditions']]"
     ]
    },
    {
     "name": "stderr",
     "output_type": "stream",
     "text": [
      "\r",
      "Loss: 0.007:  81%|███████▎ | 656/814 [16:15<05:03,  1.92s/it, ['local weather conditions']]"
     ]
    },
    {
     "name": "stderr",
     "output_type": "stream",
     "text": [
      "\r",
      "Loss: 0.007:  81%|███████▎ | 657/814 [16:15<04:59,  1.91s/it, ['local weather conditions']]"
     ]
    },
    {
     "name": "stderr",
     "output_type": "stream",
     "text": [
      "\r",
      "Loss: 0.007:  81%|███████▎ | 657/814 [16:16<04:59,  1.91s/it, ['local weather conditions']]"
     ]
    },
    {
     "name": "stderr",
     "output_type": "stream",
     "text": [
      "\r",
      "Loss: 0.007:  81%|███████▎ | 657/814 [16:16<04:59,  1.91s/it, ['local weather conditions']]"
     ]
    },
    {
     "name": "stderr",
     "output_type": "stream",
     "text": [
      "\r",
      "Loss: 0.007:  81%|███████▎ | 658/814 [16:16<04:26,  1.71s/it, ['local weather conditions']]"
     ]
    },
    {
     "name": "stderr",
     "output_type": "stream",
     "text": [
      "\r",
      "Loss: 0.009:  81%|███████▎ | 658/814 [16:17<04:26,  1.71s/it, ['local weather conditions']]"
     ]
    },
    {
     "name": "stderr",
     "output_type": "stream",
     "text": [
      "\r",
      "Loss: 0.009:  81%|███████▎ | 658/814 [16:17<04:26,  1.71s/it, ['local weather conditions']]"
     ]
    },
    {
     "name": "stderr",
     "output_type": "stream",
     "text": [
      "\r",
      "Loss: 0.009:  81%|███████▎ | 659/814 [16:17<04:01,  1.56s/it, ['local weather conditions']]"
     ]
    },
    {
     "name": "stderr",
     "output_type": "stream",
     "text": [
      "\r",
      "Loss: 0.012:  81%|███████▎ | 659/814 [16:19<04:01,  1.56s/it, ['local weather conditions']]"
     ]
    },
    {
     "name": "stderr",
     "output_type": "stream",
     "text": [
      "\r",
      "Loss: 0.012:  81%|███████▎ | 659/814 [16:19<04:01,  1.56s/it, ['local weather conditions']]"
     ]
    },
    {
     "name": "stderr",
     "output_type": "stream",
     "text": [
      "\r",
      "Loss: 0.012:  81%|███████▎ | 660/814 [16:19<04:14,  1.65s/it, ['local weather conditions']]"
     ]
    },
    {
     "name": "stderr",
     "output_type": "stream",
     "text": [
      "\r",
      "Loss: 0.011:  81%|███████▎ | 660/814 [16:20<04:14,  1.65s/it, ['local weather conditions']]"
     ]
    },
    {
     "name": "stderr",
     "output_type": "stream",
     "text": [
      "\r",
      "Loss: 0.011:  81%|███████▎ | 660/814 [16:20<04:14,  1.65s/it, ['local weather conditions']]"
     ]
    },
    {
     "name": "stderr",
     "output_type": "stream",
     "text": [
      "\r",
      "Loss: 0.011:  81%|███████▎ | 661/814 [16:20<03:52,  1.52s/it, ['local weather conditions']]"
     ]
    },
    {
     "name": "stderr",
     "output_type": "stream",
     "text": [
      "\r",
      "Loss: 0.011:  81%|███████▎ | 661/814 [16:22<03:52,  1.52s/it, ['local weather conditions']]"
     ]
    },
    {
     "name": "stderr",
     "output_type": "stream",
     "text": [
      "\r",
      "Loss: 0.011:  81%|███████▎ | 661/814 [16:22<03:52,  1.52s/it, ['local weather conditions']]"
     ]
    },
    {
     "name": "stderr",
     "output_type": "stream",
     "text": [
      "\r",
      "Loss: 0.011:  81%|███████▎ | 662/814 [16:22<03:50,  1.52s/it, ['local weather conditions']]"
     ]
    },
    {
     "name": "stderr",
     "output_type": "stream",
     "text": [
      "\r",
      "Loss: 0.010:  81%|███████▎ | 662/814 [16:23<03:50,  1.52s/it, ['local weather conditions']]"
     ]
    },
    {
     "name": "stderr",
     "output_type": "stream",
     "text": [
      "\r",
      "Loss: 0.010:  81%|███████▎ | 662/814 [16:23<03:50,  1.52s/it, ['local weather conditions']]"
     ]
    },
    {
     "name": "stderr",
     "output_type": "stream",
     "text": [
      "\r",
      "Loss: 0.010:  81%|███████▎ | 663/814 [16:23<03:51,  1.53s/it, ['local weather conditions']]"
     ]
    },
    {
     "name": "stderr",
     "output_type": "stream",
     "text": [
      "\r",
      "Loss: 0.012:  81%|███████▎ | 663/814 [16:25<03:51,  1.53s/it, ['local weather conditions']]"
     ]
    },
    {
     "name": "stderr",
     "output_type": "stream",
     "text": [
      "\r",
      "Loss: 0.012:  81%|███████▎ | 663/814 [16:25<03:51,  1.53s/it, ['local weather conditions']]"
     ]
    },
    {
     "name": "stderr",
     "output_type": "stream",
     "text": [
      "\r",
      "Loss: 0.012:  82%|███████▎ | 664/814 [16:25<03:50,  1.54s/it, ['local weather conditions']]"
     ]
    },
    {
     "name": "stderr",
     "output_type": "stream",
     "text": [
      "\r",
      "Loss: 0.011:  82%|███████▎ | 664/814 [16:27<03:50,  1.54s/it, ['local weather conditions']]"
     ]
    },
    {
     "name": "stderr",
     "output_type": "stream",
     "text": [
      "\r",
      "Loss: 0.011:  82%|███████▎ | 664/814 [16:27<03:50,  1.54s/it, ['local weather conditions']]"
     ]
    },
    {
     "name": "stderr",
     "output_type": "stream",
     "text": [
      "\r",
      "Loss: 0.011:  82%|███████▎ | 665/814 [16:27<04:09,  1.67s/it, ['local weather conditions']]"
     ]
    },
    {
     "name": "stderr",
     "output_type": "stream",
     "text": [
      "\r",
      "Loss: 0.010:  82%|███████▎ | 665/814 [16:28<04:09,  1.67s/it, ['local weather conditions']]"
     ]
    },
    {
     "name": "stderr",
     "output_type": "stream",
     "text": [
      "\r",
      "Loss: 0.010:  82%|███████▎ | 665/814 [16:28<04:09,  1.67s/it, ['local weather conditions']]"
     ]
    },
    {
     "name": "stderr",
     "output_type": "stream",
     "text": [
      "\r",
      "Loss: 0.010:  82%|███████▎ | 666/814 [16:28<03:57,  1.60s/it, ['local weather conditions']]"
     ]
    },
    {
     "name": "stderr",
     "output_type": "stream",
     "text": [
      "\r",
      "Loss: 0.009:  82%|███████▎ | 666/814 [16:30<03:57,  1.60s/it, ['local weather conditions']]"
     ]
    },
    {
     "name": "stderr",
     "output_type": "stream",
     "text": [
      "\r",
      "Loss: 0.009:  82%|███████▎ | 666/814 [16:30<03:57,  1.60s/it, ['local weather conditions']]"
     ]
    },
    {
     "name": "stderr",
     "output_type": "stream",
     "text": [
      "\r",
      "Loss: 0.009:  82%|███████▎ | 667/814 [16:30<04:10,  1.71s/it, ['local weather conditions']]"
     ]
    },
    {
     "name": "stderr",
     "output_type": "stream",
     "text": [
      "\r",
      "Loss: 0.008:  82%|███████▎ | 667/814 [16:32<04:10,  1.71s/it, ['local weather conditions']]"
     ]
    },
    {
     "name": "stderr",
     "output_type": "stream",
     "text": [
      "\r",
      "Loss: 0.008:  82%|███████▎ | 667/814 [16:32<04:10,  1.71s/it, ['local weather conditions']]"
     ]
    },
    {
     "name": "stderr",
     "output_type": "stream",
     "text": [
      "\r",
      "Loss: 0.008:  82%|███████▍ | 668/814 [16:32<04:19,  1.78s/it, ['local weather conditions']]"
     ]
    },
    {
     "name": "stderr",
     "output_type": "stream",
     "text": [
      "\r",
      "Loss: 0.008:  82%|███████▍ | 668/814 [16:34<04:19,  1.78s/it, ['local weather conditions']]"
     ]
    },
    {
     "name": "stderr",
     "output_type": "stream",
     "text": [
      "\r",
      "Loss: 0.008:  82%|███████▍ | 668/814 [16:34<04:19,  1.78s/it, ['local weather conditions']]"
     ]
    },
    {
     "name": "stderr",
     "output_type": "stream",
     "text": [
      "\r",
      "Loss: 0.008:  82%|███████▍ | 669/814 [16:34<04:24,  1.83s/it, ['local weather conditions']]"
     ]
    },
    {
     "name": "stderr",
     "output_type": "stream",
     "text": [
      "\r",
      "Loss: 0.007:  82%|███████▍ | 669/814 [16:36<04:24,  1.83s/it, ['local weather conditions']]"
     ]
    },
    {
     "name": "stderr",
     "output_type": "stream",
     "text": [
      "\r",
      "Loss: 0.007:  82%|███████▍ | 669/814 [16:36<04:24,  1.83s/it, ['local weather conditions']]"
     ]
    },
    {
     "name": "stderr",
     "output_type": "stream",
     "text": [
      "\r",
      "Loss: 0.007:  82%|███████▍ | 670/814 [16:36<04:28,  1.87s/it, ['local weather conditions']]"
     ]
    },
    {
     "name": "stderr",
     "output_type": "stream",
     "text": [
      "\r",
      "Loss: 0.008:  82%|███████▍ | 670/814 [16:38<04:28,  1.87s/it, ['local weather conditions']]"
     ]
    },
    {
     "name": "stderr",
     "output_type": "stream",
     "text": [
      "\r",
      "Loss: 0.008:  82%|███████▍ | 670/814 [16:38<04:28,  1.87s/it, ['local weather conditions']]"
     ]
    },
    {
     "name": "stderr",
     "output_type": "stream",
     "text": [
      "\r",
      "Loss: 0.008:  82%|███████▍ | 671/814 [16:38<04:29,  1.88s/it, ['local weather conditions']]"
     ]
    },
    {
     "name": "stderr",
     "output_type": "stream",
     "text": [
      "\r",
      "Loss: 0.007:  82%|███████▍ | 671/814 [16:40<04:29,  1.88s/it, ['local weather conditions']]"
     ]
    },
    {
     "name": "stderr",
     "output_type": "stream",
     "text": [
      "\r",
      "Loss: 0.007:  82%|███████▍ | 671/814 [16:40<04:29,  1.88s/it, ['local weather conditions']]"
     ]
    },
    {
     "name": "stderr",
     "output_type": "stream",
     "text": [
      "\r",
      "Loss: 0.007:  83%|███████▍ | 672/814 [16:40<04:28,  1.89s/it, ['local weather conditions']]"
     ]
    },
    {
     "name": "stderr",
     "output_type": "stream",
     "text": [
      "\r",
      "Loss: 0.006:  83%|███████▍ | 672/814 [16:42<04:28,  1.89s/it, ['local weather conditions']]"
     ]
    },
    {
     "name": "stderr",
     "output_type": "stream",
     "text": [
      "\r",
      "Loss: 0.006:  83%|███████▍ | 672/814 [16:42<04:28,  1.89s/it, ['local weather conditions']]"
     ]
    },
    {
     "name": "stderr",
     "output_type": "stream",
     "text": [
      "\r",
      "Loss: 0.006:  83%|███████▍ | 673/814 [16:42<04:30,  1.92s/it, ['local weather conditions']]"
     ]
    },
    {
     "name": "stderr",
     "output_type": "stream",
     "text": [
      "\r",
      "Loss: 0.006:  83%|███████▍ | 673/814 [16:44<04:30,  1.92s/it, ['local weather conditions']]"
     ]
    },
    {
     "name": "stderr",
     "output_type": "stream",
     "text": [
      "\r",
      "Loss: 0.006:  83%|███████▍ | 673/814 [16:44<04:30,  1.92s/it, ['local weather conditions']]"
     ]
    },
    {
     "name": "stderr",
     "output_type": "stream",
     "text": [
      "\r",
      "Loss: 0.006:  83%|███████▍ | 674/814 [16:44<04:30,  1.93s/it, ['local weather conditions']]"
     ]
    },
    {
     "name": "stderr",
     "output_type": "stream",
     "text": [
      "\r",
      "Loss: 0.005:  83%|███████▍ | 674/814 [16:46<04:30,  1.93s/it, ['local weather conditions']]"
     ]
    },
    {
     "name": "stderr",
     "output_type": "stream",
     "text": [
      "\r",
      "Loss: 0.005:  83%|███████▍ | 674/814 [16:46<04:30,  1.93s/it, ['local weather conditions']]"
     ]
    },
    {
     "name": "stderr",
     "output_type": "stream",
     "text": [
      "\r",
      "Loss: 0.005:  83%|███████▍ | 675/814 [16:46<04:28,  1.93s/it, ['local weather conditions']]"
     ]
    },
    {
     "name": "stderr",
     "output_type": "stream",
     "text": [
      "\r",
      "Loss: 0.005:  83%|███████▍ | 675/814 [16:48<04:28,  1.93s/it, ['local weather conditions']]"
     ]
    },
    {
     "name": "stderr",
     "output_type": "stream",
     "text": [
      "\r",
      "Loss: 0.005:  83%|███████▍ | 675/814 [16:48<04:28,  1.93s/it, ['local weather conditions']]"
     ]
    },
    {
     "name": "stderr",
     "output_type": "stream",
     "text": [
      "\r",
      "Loss: 0.005:  83%|███████▍ | 676/814 [16:48<04:23,  1.91s/it, ['local weather conditions']]"
     ]
    },
    {
     "name": "stderr",
     "output_type": "stream",
     "text": [
      "\r",
      "Loss: 0.007:  83%|███████▍ | 676/814 [16:49<04:23,  1.91s/it, ['local weather conditions']]"
     ]
    },
    {
     "name": "stderr",
     "output_type": "stream",
     "text": [
      "\r",
      "Loss: 0.007:  83%|███████▍ | 676/814 [16:49<04:23,  1.91s/it, ['local weather conditions']]"
     ]
    },
    {
     "name": "stderr",
     "output_type": "stream",
     "text": [
      "\r",
      "Loss: 0.007:  83%|███████▍ | 677/814 [16:49<03:54,  1.71s/it, ['local weather conditions']]"
     ]
    },
    {
     "name": "stderr",
     "output_type": "stream",
     "text": [
      "\r",
      "Loss: 0.014:  83%|███████▍ | 677/814 [16:51<03:54,  1.71s/it, ['local weather conditions']]"
     ]
    },
    {
     "name": "stderr",
     "output_type": "stream",
     "text": [
      "\r",
      "Loss: 0.014:  83%|███████▍ | 677/814 [16:51<03:54,  1.71s/it, ['local weather conditions']]"
     ]
    },
    {
     "name": "stderr",
     "output_type": "stream",
     "text": [
      "\r",
      "Loss: 0.014:  83%|███████▍ | 678/814 [16:51<04:03,  1.79s/it, ['local weather conditions']]"
     ]
    },
    {
     "name": "stderr",
     "output_type": "stream",
     "text": [
      "\r",
      "Loss: 0.013:  83%|███████▍ | 678/814 [16:53<04:03,  1.79s/it, ['local weather conditions']]"
     ]
    },
    {
     "name": "stderr",
     "output_type": "stream",
     "text": [
      "\r",
      "Loss: 0.013:  83%|███████▍ | 678/814 [16:53<04:03,  1.79s/it, ['local weather conditions']]"
     ]
    },
    {
     "name": "stderr",
     "output_type": "stream",
     "text": [
      "\r",
      "Loss: 0.013:  83%|███████▌ | 679/814 [16:53<04:08,  1.84s/it, ['local weather conditions']]"
     ]
    },
    {
     "name": "stderr",
     "output_type": "stream",
     "text": [
      "\r",
      "Loss: 0.012:  83%|███████▌ | 679/814 [16:55<04:08,  1.84s/it, ['local weather conditions']]"
     ]
    },
    {
     "name": "stderr",
     "output_type": "stream",
     "text": [
      "\r",
      "Loss: 0.012:  83%|███████▌ | 679/814 [16:55<04:08,  1.84s/it, ['local weather conditions']]"
     ]
    },
    {
     "name": "stderr",
     "output_type": "stream",
     "text": [
      "\r",
      "Loss: 0.012:  84%|███████▌ | 680/814 [16:55<04:09,  1.86s/it, ['local weather conditions']]"
     ]
    },
    {
     "name": "stderr",
     "output_type": "stream",
     "text": [
      "\r",
      "Loss: 0.051:  84%|███████▌ | 680/814 [16:57<04:09,  1.86s/it, ['local weather conditions']]"
     ]
    },
    {
     "name": "stderr",
     "output_type": "stream",
     "text": [
      "\r",
      "Loss: 0.051:  84%|███████▌ | 680/814 [16:57<04:09,  1.86s/it, ['local weather conditions']]"
     ]
    },
    {
     "name": "stderr",
     "output_type": "stream",
     "text": [
      "\r",
      "Loss: 0.051:  84%|███████▌ | 681/814 [16:57<04:10,  1.89s/it, ['local weather conditions']]"
     ]
    },
    {
     "name": "stderr",
     "output_type": "stream",
     "text": [
      "\r",
      "Loss: 0.054:  84%|███████▌ | 681/814 [16:59<04:10,  1.89s/it, ['local weather conditions']]"
     ]
    },
    {
     "name": "stderr",
     "output_type": "stream",
     "text": [
      "\r",
      "Loss: 0.054:  84%|███████▌ | 681/814 [16:59<04:10,  1.89s/it, ['local weather conditions']]"
     ]
    },
    {
     "name": "stderr",
     "output_type": "stream",
     "text": [
      "\r",
      "Loss: 0.054:  84%|███████▌ | 682/814 [16:59<04:11,  1.90s/it, ['local weather conditions']]"
     ]
    },
    {
     "name": "stderr",
     "output_type": "stream",
     "text": [
      "\r",
      "Loss: 0.049:  84%|███████▌ | 682/814 [17:01<04:11,  1.90s/it, ['local weather conditions']]"
     ]
    },
    {
     "name": "stderr",
     "output_type": "stream",
     "text": [
      "\r",
      "Loss: 0.049:  84%|███████▌ | 682/814 [17:01<04:11,  1.90s/it, ['local weather conditions']]"
     ]
    },
    {
     "name": "stderr",
     "output_type": "stream",
     "text": [
      "\r",
      "Loss: 0.049:  84%|███████▌ | 683/814 [17:01<04:11,  1.92s/it, ['local weather conditions']]"
     ]
    },
    {
     "name": "stderr",
     "output_type": "stream",
     "text": [
      "\r",
      "Loss: 0.044:  84%|███████▌ | 683/814 [17:03<04:11,  1.92s/it, ['local weather conditions']]"
     ]
    },
    {
     "name": "stderr",
     "output_type": "stream",
     "text": [
      "\r",
      "Loss: 0.044:  84%|███████▌ | 683/814 [17:03<04:11,  1.92s/it, ['local weather conditions']]"
     ]
    },
    {
     "name": "stderr",
     "output_type": "stream",
     "text": [
      "\r",
      "Loss: 0.044:  84%|███████▌ | 684/814 [17:03<04:07,  1.91s/it, ['local weather conditions']]"
     ]
    },
    {
     "name": "stderr",
     "output_type": "stream",
     "text": [
      "\r",
      "Loss: 0.057:  84%|███████▌ | 684/814 [17:05<04:07,  1.91s/it, ['local weather conditions']]"
     ]
    },
    {
     "name": "stderr",
     "output_type": "stream",
     "text": [
      "\r",
      "Loss: 0.057:  84%|███████▌ | 684/814 [17:05<04:07,  1.91s/it, ['local weather conditions']]"
     ]
    },
    {
     "name": "stderr",
     "output_type": "stream",
     "text": [
      "\r",
      "Loss: 0.057:  84%|███████▌ | 685/814 [17:05<04:06,  1.91s/it, ['local weather conditions']]"
     ]
    },
    {
     "name": "stderr",
     "output_type": "stream",
     "text": [
      "\r",
      "Loss: 0.051:  84%|███████▌ | 685/814 [17:06<04:06,  1.91s/it, ['local weather conditions']]"
     ]
    },
    {
     "name": "stderr",
     "output_type": "stream",
     "text": [
      "\r",
      "Loss: 0.051:  84%|███████▌ | 685/814 [17:06<04:06,  1.91s/it, ['local weather conditions']]"
     ]
    },
    {
     "name": "stderr",
     "output_type": "stream",
     "text": [
      "\r",
      "Loss: 0.051:  84%|███████▌ | 686/814 [17:06<04:03,  1.91s/it, ['local weather conditions']]"
     ]
    },
    {
     "name": "stderr",
     "output_type": "stream",
     "text": [
      "\r",
      "Loss: 0.047:  84%|███████▌ | 686/814 [17:08<04:03,  1.91s/it, ['local weather conditions']]"
     ]
    },
    {
     "name": "stderr",
     "output_type": "stream",
     "text": [
      "\r",
      "Loss: 0.047:  84%|███████▌ | 686/814 [17:08<04:03,  1.91s/it, ['local weather conditions']]"
     ]
    },
    {
     "name": "stderr",
     "output_type": "stream",
     "text": [
      "\r",
      "Loss: 0.047:  84%|███████▌ | 687/814 [17:08<03:53,  1.83s/it, ['local weather conditions']]"
     ]
    },
    {
     "name": "stderr",
     "output_type": "stream",
     "text": [
      "\r",
      "Loss: 0.042:  84%|███████▌ | 687/814 [17:10<03:53,  1.83s/it, ['local weather conditions']]"
     ]
    },
    {
     "name": "stderr",
     "output_type": "stream",
     "text": [
      "\r",
      "Loss: 0.042:  84%|███████▌ | 687/814 [17:10<03:53,  1.83s/it, ['local weather conditions']]"
     ]
    },
    {
     "name": "stderr",
     "output_type": "stream",
     "text": [
      "\r",
      "Loss: 0.042:  85%|███████▌ | 688/814 [17:10<03:54,  1.86s/it, ['local weather conditions']]"
     ]
    },
    {
     "name": "stderr",
     "output_type": "stream",
     "text": [
      "\r",
      "Loss: 0.038:  85%|███████▌ | 688/814 [17:12<03:54,  1.86s/it, ['local weather conditions']]"
     ]
    },
    {
     "name": "stderr",
     "output_type": "stream",
     "text": [
      "\r",
      "Loss: 0.038:  85%|███████▌ | 688/814 [17:12<03:54,  1.86s/it, ['local weather conditions']]"
     ]
    },
    {
     "name": "stderr",
     "output_type": "stream",
     "text": [
      "\r",
      "Loss: 0.038:  85%|███████▌ | 689/814 [17:12<03:53,  1.87s/it, ['local weather conditions']]"
     ]
    },
    {
     "name": "stderr",
     "output_type": "stream",
     "text": [
      "\r",
      "Loss: 0.035:  85%|███████▌ | 689/814 [17:14<03:53,  1.87s/it, ['local weather conditions']]"
     ]
    },
    {
     "name": "stderr",
     "output_type": "stream",
     "text": [
      "\r",
      "Loss: 0.035:  85%|███████▌ | 689/814 [17:14<03:53,  1.87s/it, ['local weather conditions']]"
     ]
    },
    {
     "name": "stderr",
     "output_type": "stream",
     "text": [
      "\r",
      "Loss: 0.035:  85%|███████▋ | 690/814 [17:14<03:53,  1.88s/it, ['local weather conditions']]"
     ]
    },
    {
     "name": "stderr",
     "output_type": "stream",
     "text": [
      "\r",
      "Loss: 0.031:  85%|███████▋ | 690/814 [17:16<03:53,  1.88s/it, ['local weather conditions']]"
     ]
    },
    {
     "name": "stderr",
     "output_type": "stream",
     "text": [
      "\r",
      "Loss: 0.031:  85%|███████▋ | 690/814 [17:16<03:53,  1.88s/it, ['local weather conditions']]"
     ]
    },
    {
     "name": "stderr",
     "output_type": "stream",
     "text": [
      "\r",
      "Loss: 0.031:  85%|███████▋ | 691/814 [17:16<03:52,  1.89s/it, ['local weather conditions']]"
     ]
    },
    {
     "name": "stderr",
     "output_type": "stream",
     "text": [
      "\r",
      "Loss: 0.029:  85%|███████▋ | 691/814 [17:18<03:52,  1.89s/it, ['local weather conditions']]"
     ]
    },
    {
     "name": "stderr",
     "output_type": "stream",
     "text": [
      "\r",
      "Loss: 0.029:  85%|███████▋ | 691/814 [17:18<03:52,  1.89s/it, ['local weather conditions']]"
     ]
    },
    {
     "name": "stderr",
     "output_type": "stream",
     "text": [
      "\r",
      "Loss: 0.029:  85%|███████▋ | 692/814 [17:18<03:49,  1.88s/it, ['local weather conditions']]"
     ]
    },
    {
     "name": "stderr",
     "output_type": "stream",
     "text": [
      "\r",
      "Loss: 0.026:  85%|███████▋ | 692/814 [17:20<03:49,  1.88s/it, ['local weather conditions']]"
     ]
    },
    {
     "name": "stderr",
     "output_type": "stream",
     "text": [
      "\r",
      "Loss: 0.026:  85%|███████▋ | 692/814 [17:20<03:49,  1.88s/it, ['local weather conditions']]"
     ]
    },
    {
     "name": "stderr",
     "output_type": "stream",
     "text": [
      "\r",
      "Loss: 0.026:  85%|███████▋ | 693/814 [17:20<03:49,  1.90s/it, ['local weather conditions']]"
     ]
    },
    {
     "name": "stderr",
     "output_type": "stream",
     "text": [
      "\r",
      "Loss: 0.023:  85%|███████▋ | 693/814 [17:21<03:49,  1.90s/it, ['local weather conditions']]"
     ]
    },
    {
     "name": "stderr",
     "output_type": "stream",
     "text": [
      "\r",
      "Loss: 0.023:  85%|███████▋ | 693/814 [17:21<03:49,  1.90s/it, ['local weather conditions']]"
     ]
    },
    {
     "name": "stderr",
     "output_type": "stream",
     "text": [
      "\r",
      "Loss: 0.023:  85%|███████▋ | 694/814 [17:21<03:49,  1.91s/it, ['local weather conditions']]"
     ]
    },
    {
     "name": "stderr",
     "output_type": "stream",
     "text": [
      "\r",
      "Loss: 0.021:  85%|███████▋ | 694/814 [17:23<03:49,  1.91s/it, ['local weather conditions']]"
     ]
    },
    {
     "name": "stderr",
     "output_type": "stream",
     "text": [
      "\r",
      "Loss: 0.021:  85%|███████▋ | 694/814 [17:23<03:49,  1.91s/it, ['local weather conditions']]"
     ]
    },
    {
     "name": "stderr",
     "output_type": "stream",
     "text": [
      "\r",
      "Loss: 0.021:  85%|███████▋ | 695/814 [17:23<03:22,  1.70s/it, ['local weather conditions']]"
     ]
    },
    {
     "name": "stderr",
     "output_type": "stream",
     "text": [
      "\r",
      "Loss: 0.019:  85%|███████▋ | 695/814 [17:24<03:22,  1.70s/it, ['local weather conditions']]"
     ]
    },
    {
     "name": "stderr",
     "output_type": "stream",
     "text": [
      "\r",
      "Loss: 0.019:  85%|███████▋ | 695/814 [17:24<03:22,  1.70s/it, ['local weather conditions']]"
     ]
    },
    {
     "name": "stderr",
     "output_type": "stream",
     "text": [
      "\r",
      "Loss: 0.019:  86%|███████▋ | 696/814 [17:24<03:05,  1.57s/it, ['local weather conditions']]"
     ]
    },
    {
     "name": "stderr",
     "output_type": "stream",
     "text": [
      "\r",
      "Loss: 0.017:  86%|███████▋ | 696/814 [17:26<03:05,  1.57s/it, ['local weather conditions']]"
     ]
    },
    {
     "name": "stderr",
     "output_type": "stream",
     "text": [
      "\r",
      "Loss: 0.017:  86%|███████▋ | 696/814 [17:26<03:05,  1.57s/it, ['local weather conditions']]"
     ]
    },
    {
     "name": "stderr",
     "output_type": "stream",
     "text": [
      "\r",
      "Loss: 0.017:  86%|███████▋ | 697/814 [17:26<03:17,  1.69s/it, ['local weather conditions']]"
     ]
    },
    {
     "name": "stderr",
     "output_type": "stream",
     "text": [
      "\r",
      "Loss: 0.016:  86%|███████▋ | 697/814 [17:28<03:17,  1.69s/it, ['local weather conditions']]"
     ]
    },
    {
     "name": "stderr",
     "output_type": "stream",
     "text": [
      "\r",
      "Loss: 0.016:  86%|███████▋ | 697/814 [17:28<03:17,  1.69s/it, ['local weather conditions']]"
     ]
    },
    {
     "name": "stderr",
     "output_type": "stream",
     "text": [
      "\r",
      "Loss: 0.016:  86%|███████▋ | 698/814 [17:28<03:23,  1.75s/it, ['local weather conditions']]"
     ]
    },
    {
     "name": "stderr",
     "output_type": "stream",
     "text": [
      "\r",
      "Loss: 0.014:  86%|███████▋ | 698/814 [17:30<03:23,  1.75s/it, ['local weather conditions']]"
     ]
    },
    {
     "name": "stderr",
     "output_type": "stream",
     "text": [
      "\r",
      "Loss: 0.014:  86%|███████▋ | 698/814 [17:30<03:23,  1.75s/it, ['local weather conditions']]"
     ]
    },
    {
     "name": "stderr",
     "output_type": "stream",
     "text": [
      "\r",
      "Loss: 0.014:  86%|███████▋ | 699/814 [17:30<03:27,  1.81s/it, ['local weather conditions']]"
     ]
    },
    {
     "name": "stderr",
     "output_type": "stream",
     "text": [
      "\r",
      "Loss: 0.013:  86%|███████▋ | 699/814 [17:33<03:27,  1.81s/it, ['local weather conditions']]"
     ]
    },
    {
     "name": "stderr",
     "output_type": "stream",
     "text": [
      "\r",
      "Loss: 0.013:  86%|███████▋ | 699/814 [17:33<03:27,  1.81s/it, ['local weather conditions']]"
     ]
    },
    {
     "name": "stderr",
     "output_type": "stream",
     "text": [
      "\r",
      "Loss: 0.013:  86%|███████▋ | 700/814 [17:33<04:00,  2.11s/it, ['local weather conditions']]"
     ]
    },
    {
     "name": "stderr",
     "output_type": "stream",
     "text": [
      "\r",
      "Loss: 0.012:  86%|███████▋ | 700/814 [17:34<04:00,  2.11s/it, ['local weather conditions']]"
     ]
    },
    {
     "name": "stderr",
     "output_type": "stream",
     "text": [
      "\r",
      "Loss: 0.012:  86%|███████▋ | 700/814 [17:34<04:00,  2.11s/it, ['local weather conditions']]"
     ]
    },
    {
     "name": "stderr",
     "output_type": "stream",
     "text": [
      "\r",
      "Loss: 0.012:  86%|███████▊ | 701/814 [17:34<03:51,  2.05s/it, ['local weather conditions']]"
     ]
    },
    {
     "name": "stderr",
     "output_type": "stream",
     "text": [
      "\r",
      "Loss: 0.010:  86%|███████▊ | 701/814 [17:36<03:51,  2.05s/it, ['local weather conditions']]"
     ]
    },
    {
     "name": "stderr",
     "output_type": "stream",
     "text": [
      "\r",
      "Loss: 0.010:  86%|███████▊ | 701/814 [17:36<03:51,  2.05s/it, ['local weather conditions']]"
     ]
    },
    {
     "name": "stderr",
     "output_type": "stream",
     "text": [
      "\r",
      "Loss: 0.010:  86%|███████▊ | 702/814 [17:36<03:45,  2.01s/it, ['local weather conditions']]"
     ]
    },
    {
     "name": "stderr",
     "output_type": "stream",
     "text": [
      "\r",
      "Loss: 0.010:  86%|███████▊ | 702/814 [17:38<03:45,  2.01s/it, ['local weather conditions']]"
     ]
    },
    {
     "name": "stderr",
     "output_type": "stream",
     "text": [
      "\r",
      "Loss: 0.010:  86%|███████▊ | 702/814 [17:38<03:45,  2.01s/it, ['local weather conditions']]"
     ]
    },
    {
     "name": "stderr",
     "output_type": "stream",
     "text": [
      "\r",
      "Loss: 0.010:  86%|███████▊ | 703/814 [17:38<03:40,  1.99s/it, ['local weather conditions']]"
     ]
    },
    {
     "name": "stderr",
     "output_type": "stream",
     "text": [
      "\r",
      "Loss: 0.009:  86%|███████▊ | 703/814 [17:40<03:40,  1.99s/it, ['local weather conditions']]"
     ]
    },
    {
     "name": "stderr",
     "output_type": "stream",
     "text": [
      "\r",
      "Loss: 0.009:  86%|███████▊ | 703/814 [17:40<03:40,  1.99s/it, ['local weather conditions']]"
     ]
    },
    {
     "name": "stderr",
     "output_type": "stream",
     "text": [
      "\r",
      "Loss: 0.009:  86%|███████▊ | 704/814 [17:40<03:36,  1.97s/it, ['local weather conditions']]"
     ]
    },
    {
     "name": "stderr",
     "output_type": "stream",
     "text": [
      "\r",
      "Loss: 0.013:  86%|███████▊ | 704/814 [17:42<03:36,  1.97s/it, ['local weather conditions']]"
     ]
    },
    {
     "name": "stderr",
     "output_type": "stream",
     "text": [
      "\r",
      "Loss: 0.013:  86%|███████▊ | 704/814 [17:42<03:36,  1.97s/it, ['local weather conditions']]"
     ]
    },
    {
     "name": "stderr",
     "output_type": "stream",
     "text": [
      "\r",
      "Loss: 0.013:  87%|███████▊ | 705/814 [17:42<03:32,  1.95s/it, ['local weather conditions']]"
     ]
    },
    {
     "name": "stderr",
     "output_type": "stream",
     "text": [
      "\r",
      "Loss: 0.011:  87%|███████▊ | 705/814 [17:44<03:32,  1.95s/it, ['local weather conditions']]"
     ]
    },
    {
     "name": "stderr",
     "output_type": "stream",
     "text": [
      "\r",
      "Loss: 0.011:  87%|███████▊ | 705/814 [17:44<03:32,  1.95s/it, ['local weather conditions']]"
     ]
    },
    {
     "name": "stderr",
     "output_type": "stream",
     "text": [
      "\r",
      "Loss: 0.011:  87%|███████▊ | 706/814 [17:44<03:30,  1.95s/it, ['local weather conditions']]"
     ]
    },
    {
     "name": "stderr",
     "output_type": "stream",
     "text": [
      "\r",
      "Loss: 0.010:  87%|███████▊ | 706/814 [17:46<03:30,  1.95s/it, ['local weather conditions']]"
     ]
    },
    {
     "name": "stderr",
     "output_type": "stream",
     "text": [
      "\r",
      "Loss: 0.010:  87%|███████▊ | 706/814 [17:46<03:30,  1.95s/it, ['local weather conditions']]"
     ]
    },
    {
     "name": "stderr",
     "output_type": "stream",
     "text": [
      "\r",
      "Loss: 0.010:  87%|███████▊ | 707/814 [17:46<03:27,  1.94s/it, ['local weather conditions']]"
     ]
    },
    {
     "name": "stderr",
     "output_type": "stream",
     "text": [
      "\r",
      "Loss: 0.011:  87%|███████▊ | 707/814 [17:48<03:27,  1.94s/it, ['local weather conditions']]"
     ]
    },
    {
     "name": "stderr",
     "output_type": "stream",
     "text": [
      "\r",
      "Loss: 0.011:  87%|███████▊ | 707/814 [17:48<03:27,  1.94s/it, ['local weather conditions']]"
     ]
    },
    {
     "name": "stderr",
     "output_type": "stream",
     "text": [
      "\r",
      "Loss: 0.011:  87%|███████▊ | 708/814 [17:48<03:25,  1.94s/it, ['local weather conditions']]"
     ]
    },
    {
     "name": "stderr",
     "output_type": "stream",
     "text": [
      "\r",
      "Loss: 0.010:  87%|███████▊ | 708/814 [17:50<03:25,  1.94s/it, ['local weather conditions']]"
     ]
    },
    {
     "name": "stderr",
     "output_type": "stream",
     "text": [
      "\r",
      "Loss: 0.010:  87%|███████▊ | 708/814 [17:50<03:25,  1.94s/it, ['local weather conditions']]"
     ]
    },
    {
     "name": "stderr",
     "output_type": "stream",
     "text": [
      "\r",
      "Loss: 0.010:  87%|███████▊ | 709/814 [17:50<03:22,  1.93s/it, ['local weather conditions']]"
     ]
    },
    {
     "name": "stderr",
     "output_type": "stream",
     "text": [
      "\r",
      "Loss: 0.010:  87%|███████▊ | 709/814 [17:51<03:22,  1.93s/it, ['local weather conditions']]"
     ]
    },
    {
     "name": "stderr",
     "output_type": "stream",
     "text": [
      "\r",
      "Loss: 0.010:  87%|███████▊ | 709/814 [17:51<03:22,  1.93s/it, ['local weather conditions']]"
     ]
    },
    {
     "name": "stderr",
     "output_type": "stream",
     "text": [
      "\r",
      "Loss: 0.010:  87%|███████▊ | 710/814 [17:51<03:01,  1.74s/it, ['local weather conditions']]"
     ]
    },
    {
     "name": "stderr",
     "output_type": "stream",
     "text": [
      "\r",
      "Loss: 0.009:  87%|███████▊ | 710/814 [17:53<03:01,  1.74s/it, ['local weather conditions']]"
     ]
    },
    {
     "name": "stderr",
     "output_type": "stream",
     "text": [
      "\r",
      "Loss: 0.009:  87%|███████▊ | 710/814 [17:53<03:01,  1.74s/it, ['local weather conditions']]"
     ]
    },
    {
     "name": "stderr",
     "output_type": "stream",
     "text": [
      "\r",
      "Loss: 0.009:  87%|███████▊ | 711/814 [17:53<02:55,  1.70s/it, ['local weather conditions']]"
     ]
    },
    {
     "name": "stderr",
     "output_type": "stream",
     "text": [
      "\r",
      "Loss: 0.024:  87%|███████▊ | 711/814 [17:54<02:55,  1.70s/it, ['local weather conditions']]"
     ]
    },
    {
     "name": "stderr",
     "output_type": "stream",
     "text": [
      "\r",
      "Loss: 0.024:  87%|███████▊ | 711/814 [17:54<02:55,  1.70s/it, ['local weather conditions']]"
     ]
    },
    {
     "name": "stderr",
     "output_type": "stream",
     "text": [
      "\r",
      "Loss: 0.024:  87%|███████▊ | 712/814 [17:54<02:44,  1.61s/it, ['local weather conditions']]"
     ]
    },
    {
     "name": "stderr",
     "output_type": "stream",
     "text": [
      "\r",
      "Loss: 0.022:  87%|███████▊ | 712/814 [17:56<02:44,  1.61s/it, ['local weather conditions']]"
     ]
    },
    {
     "name": "stderr",
     "output_type": "stream",
     "text": [
      "\r",
      "Loss: 0.022:  87%|███████▊ | 712/814 [17:56<02:44,  1.61s/it, ['local weather conditions']]"
     ]
    },
    {
     "name": "stderr",
     "output_type": "stream",
     "text": [
      "\r",
      "Loss: 0.022:  88%|███████▉ | 713/814 [17:56<02:51,  1.70s/it, ['local weather conditions']]"
     ]
    },
    {
     "name": "stderr",
     "output_type": "stream",
     "text": [
      "\r",
      "Loss: 0.019:  88%|███████▉ | 713/814 [17:58<02:51,  1.70s/it, ['local weather conditions']]"
     ]
    },
    {
     "name": "stderr",
     "output_type": "stream",
     "text": [
      "\r",
      "Loss: 0.019:  88%|███████▉ | 713/814 [17:58<02:51,  1.70s/it, ['local weather conditions']]"
     ]
    },
    {
     "name": "stderr",
     "output_type": "stream",
     "text": [
      "\r",
      "Loss: 0.019:  88%|███████▉ | 714/814 [17:58<02:43,  1.64s/it, ['local weather conditions']]"
     ]
    },
    {
     "name": "stderr",
     "output_type": "stream",
     "text": [
      "\r",
      "Loss: 0.053:  88%|███████▉ | 714/814 [18:00<02:43,  1.64s/it, ['local weather conditions']]"
     ]
    },
    {
     "name": "stderr",
     "output_type": "stream",
     "text": [
      "\r",
      "Loss: 0.053:  88%|███████▉ | 714/814 [18:00<02:43,  1.64s/it, ['local weather conditions']]"
     ]
    },
    {
     "name": "stderr",
     "output_type": "stream",
     "text": [
      "\r",
      "Loss: 0.053:  88%|███████▉ | 715/814 [18:00<02:51,  1.73s/it, ['local weather conditions']]"
     ]
    },
    {
     "name": "stderr",
     "output_type": "stream",
     "text": [
      "\r",
      "Loss: 0.048:  88%|███████▉ | 715/814 [18:01<02:51,  1.73s/it, ['local weather conditions']]"
     ]
    },
    {
     "name": "stderr",
     "output_type": "stream",
     "text": [
      "\r",
      "Loss: 0.048:  88%|███████▉ | 715/814 [18:01<02:51,  1.73s/it, ['local weather conditions']]"
     ]
    },
    {
     "name": "stderr",
     "output_type": "stream",
     "text": [
      "\r",
      "Loss: 0.048:  88%|███████▉ | 716/814 [18:01<02:54,  1.78s/it, ['local weather conditions']]"
     ]
    },
    {
     "name": "stderr",
     "output_type": "stream",
     "text": [
      "\r",
      "Loss: 0.043:  88%|███████▉ | 716/814 [18:03<02:54,  1.78s/it, ['local weather conditions']]"
     ]
    },
    {
     "name": "stderr",
     "output_type": "stream",
     "text": [
      "\r",
      "Loss: 0.043:  88%|███████▉ | 716/814 [18:03<02:54,  1.78s/it, ['local weather conditions']]"
     ]
    },
    {
     "name": "stderr",
     "output_type": "stream",
     "text": [
      "\r",
      "Loss: 0.043:  88%|███████▉ | 717/814 [18:03<02:56,  1.82s/it, ['local weather conditions']]"
     ]
    },
    {
     "name": "stderr",
     "output_type": "stream",
     "text": [
      "\r",
      "Loss: 0.039:  88%|███████▉ | 717/814 [18:05<02:56,  1.82s/it, ['local weather conditions']]"
     ]
    },
    {
     "name": "stderr",
     "output_type": "stream",
     "text": [
      "\r",
      "Loss: 0.039:  88%|███████▉ | 717/814 [18:05<02:56,  1.82s/it, ['local weather conditions']]"
     ]
    },
    {
     "name": "stderr",
     "output_type": "stream",
     "text": [
      "\r",
      "Loss: 0.039:  88%|███████▉ | 718/814 [18:05<02:57,  1.85s/it, ['local weather conditions']]"
     ]
    },
    {
     "name": "stderr",
     "output_type": "stream",
     "text": [
      "\r",
      "Loss: 0.037:  88%|███████▉ | 718/814 [18:07<02:57,  1.85s/it, ['local weather conditions']]"
     ]
    },
    {
     "name": "stderr",
     "output_type": "stream",
     "text": [
      "\r",
      "Loss: 0.037:  88%|███████▉ | 718/814 [18:07<02:57,  1.85s/it, ['local weather conditions']]"
     ]
    },
    {
     "name": "stderr",
     "output_type": "stream",
     "text": [
      "\r",
      "Loss: 0.037:  88%|███████▉ | 719/814 [18:07<02:57,  1.87s/it, ['local weather conditions']]"
     ]
    },
    {
     "name": "stderr",
     "output_type": "stream",
     "text": [
      "\r",
      "Loss: 0.033:  88%|███████▉ | 719/814 [18:09<02:57,  1.87s/it, ['local weather conditions']]"
     ]
    },
    {
     "name": "stderr",
     "output_type": "stream",
     "text": [
      "\r",
      "Loss: 0.033:  88%|███████▉ | 719/814 [18:09<02:57,  1.87s/it, ['local weather conditions']]"
     ]
    },
    {
     "name": "stderr",
     "output_type": "stream",
     "text": [
      "\r",
      "Loss: 0.033:  88%|███████▉ | 720/814 [18:09<02:51,  1.82s/it, ['local weather conditions']]"
     ]
    },
    {
     "name": "stderr",
     "output_type": "stream",
     "text": [
      "\r",
      "Loss: 0.030:  88%|███████▉ | 720/814 [18:10<02:51,  1.82s/it, ['local weather conditions']]"
     ]
    },
    {
     "name": "stderr",
     "output_type": "stream",
     "text": [
      "\r",
      "Loss: 0.030:  88%|███████▉ | 720/814 [18:10<02:51,  1.82s/it, ['local weather conditions']]"
     ]
    },
    {
     "name": "stderr",
     "output_type": "stream",
     "text": [
      "\r",
      "Loss: 0.030:  89%|███████▉ | 721/814 [18:10<02:28,  1.60s/it, ['local weather conditions']]"
     ]
    },
    {
     "name": "stderr",
     "output_type": "stream",
     "text": [
      "\r",
      "Loss: 0.028:  89%|███████▉ | 721/814 [18:11<02:28,  1.60s/it, ['local weather conditions']]"
     ]
    },
    {
     "name": "stderr",
     "output_type": "stream",
     "text": [
      "\r",
      "Loss: 0.028:  89%|███████▉ | 721/814 [18:11<02:28,  1.60s/it, ['local weather conditions']]"
     ]
    },
    {
     "name": "stderr",
     "output_type": "stream",
     "text": [
      "\r",
      "Loss: 0.028:  89%|███████▉ | 722/814 [18:11<02:13,  1.46s/it, ['local weather conditions']]"
     ]
    },
    {
     "name": "stderr",
     "output_type": "stream",
     "text": [
      "\r",
      "Loss: 0.025:  89%|███████▉ | 722/814 [18:12<02:13,  1.46s/it, ['local weather conditions']]"
     ]
    },
    {
     "name": "stderr",
     "output_type": "stream",
     "text": [
      "\r",
      "Loss: 0.025:  89%|███████▉ | 722/814 [18:12<02:13,  1.46s/it, ['local weather conditions']]"
     ]
    },
    {
     "name": "stderr",
     "output_type": "stream",
     "text": [
      "\r",
      "Loss: 0.025:  89%|███████▉ | 723/814 [18:12<02:02,  1.34s/it, ['local weather conditions']]"
     ]
    },
    {
     "name": "stderr",
     "output_type": "stream",
     "text": [
      "\r",
      "Loss: 0.023:  89%|███████▉ | 723/814 [18:13<02:02,  1.34s/it, ['local weather conditions']]"
     ]
    },
    {
     "name": "stderr",
     "output_type": "stream",
     "text": [
      "\r",
      "Loss: 0.023:  89%|███████▉ | 723/814 [18:13<02:02,  1.34s/it, ['local weather conditions']]"
     ]
    },
    {
     "name": "stderr",
     "output_type": "stream",
     "text": [
      "\r",
      "Loss: 0.023:  89%|████████ | 724/814 [18:13<01:55,  1.29s/it, ['local weather conditions']]"
     ]
    },
    {
     "name": "stderr",
     "output_type": "stream",
     "text": [
      "\r",
      "Loss: 0.035:  89%|████████ | 724/814 [18:14<01:55,  1.29s/it, ['local weather conditions']]"
     ]
    },
    {
     "name": "stderr",
     "output_type": "stream",
     "text": [
      "\r",
      "Loss: 0.035:  89%|████████ | 724/814 [18:14<01:55,  1.29s/it, ['local weather conditions']]"
     ]
    },
    {
     "name": "stderr",
     "output_type": "stream",
     "text": [
      "\r",
      "Loss: 0.035:  89%|████████ | 725/814 [18:14<01:49,  1.23s/it, ['local weather conditions']]"
     ]
    },
    {
     "name": "stderr",
     "output_type": "stream",
     "text": [
      "\r",
      "Loss: 0.033:  89%|████████ | 725/814 [18:16<01:49,  1.23s/it, ['local weather conditions']]"
     ]
    },
    {
     "name": "stderr",
     "output_type": "stream",
     "text": [
      "\r",
      "Loss: 0.033:  89%|████████ | 725/814 [18:16<01:49,  1.23s/it, ['local weather conditions']]"
     ]
    },
    {
     "name": "stderr",
     "output_type": "stream",
     "text": [
      "\r",
      "Loss: 0.033:  89%|████████ | 726/814 [18:16<01:45,  1.20s/it, ['local weather conditions']]"
     ]
    },
    {
     "name": "stderr",
     "output_type": "stream",
     "text": [
      "\r",
      "Loss: 0.035:  89%|████████ | 726/814 [18:17<01:45,  1.20s/it, ['local weather conditions']]"
     ]
    },
    {
     "name": "stderr",
     "output_type": "stream",
     "text": [
      "\r",
      "Loss: 0.035:  89%|████████ | 726/814 [18:17<01:45,  1.20s/it, ['local weather conditions']]"
     ]
    },
    {
     "name": "stderr",
     "output_type": "stream",
     "text": [
      "\r",
      "Loss: 0.035:  89%|████████ | 727/814 [18:17<01:43,  1.19s/it, ['local weather conditions']]"
     ]
    },
    {
     "name": "stderr",
     "output_type": "stream",
     "text": [
      "\r",
      "Loss: 0.032:  89%|████████ | 727/814 [18:18<01:43,  1.19s/it, ['local weather conditions']]"
     ]
    },
    {
     "name": "stderr",
     "output_type": "stream",
     "text": [
      "\r",
      "Loss: 0.032:  89%|████████ | 727/814 [18:18<01:43,  1.19s/it, ['local weather conditions']]"
     ]
    },
    {
     "name": "stderr",
     "output_type": "stream",
     "text": [
      "\r",
      "Loss: 0.032:  89%|████████ | 728/814 [18:18<01:49,  1.27s/it, ['local weather conditions']]"
     ]
    },
    {
     "name": "stderr",
     "output_type": "stream",
     "text": [
      "\r",
      "Loss: 0.030:  89%|████████ | 728/814 [18:19<01:49,  1.27s/it, ['local weather conditions']]"
     ]
    },
    {
     "name": "stderr",
     "output_type": "stream",
     "text": [
      "\r",
      "Loss: 0.030:  89%|████████ | 728/814 [18:19<01:49,  1.27s/it, ['local weather conditions']]"
     ]
    },
    {
     "name": "stderr",
     "output_type": "stream",
     "text": [
      "\r",
      "Loss: 0.030:  90%|████████ | 729/814 [18:19<01:45,  1.25s/it, ['local weather conditions']]"
     ]
    },
    {
     "name": "stderr",
     "output_type": "stream",
     "text": [
      "\r",
      "Loss: 0.027:  90%|████████ | 729/814 [18:21<01:45,  1.25s/it, ['local weather conditions']]"
     ]
    },
    {
     "name": "stderr",
     "output_type": "stream",
     "text": [
      "\r",
      "Loss: 0.027:  90%|████████ | 729/814 [18:21<01:45,  1.25s/it, ['local weather conditions']]"
     ]
    },
    {
     "name": "stderr",
     "output_type": "stream",
     "text": [
      "\r",
      "Loss: 0.027:  90%|████████ | 730/814 [18:21<01:42,  1.22s/it, ['local weather conditions']]"
     ]
    },
    {
     "name": "stderr",
     "output_type": "stream",
     "text": [
      "\r",
      "Loss: 0.055:  90%|████████ | 730/814 [18:22<01:42,  1.22s/it, ['local weather conditions']]"
     ]
    },
    {
     "name": "stderr",
     "output_type": "stream",
     "text": [
      "\r",
      "Loss: 0.055:  90%|████████ | 730/814 [18:22<01:42,  1.22s/it, ['local weather conditions']]"
     ]
    },
    {
     "name": "stderr",
     "output_type": "stream",
     "text": [
      "\r",
      "Loss: 0.055:  90%|████████ | 731/814 [18:22<01:41,  1.22s/it, ['local weather conditions']]"
     ]
    },
    {
     "name": "stderr",
     "output_type": "stream",
     "text": [
      "\r",
      "Loss: 0.056:  90%|████████ | 731/814 [18:23<01:41,  1.22s/it, ['local weather conditions']]"
     ]
    },
    {
     "name": "stderr",
     "output_type": "stream",
     "text": [
      "\r",
      "Loss: 0.056:  90%|████████ | 731/814 [18:23<01:41,  1.22s/it, ['local weather conditions']]"
     ]
    },
    {
     "name": "stderr",
     "output_type": "stream",
     "text": [
      "\r",
      "Loss: 0.056:  90%|████████ | 732/814 [18:23<01:40,  1.22s/it, ['local weather conditions']]"
     ]
    },
    {
     "name": "stderr",
     "output_type": "stream",
     "text": [
      "\r",
      "Loss: 0.051:  90%|████████ | 732/814 [18:24<01:40,  1.22s/it, ['local weather conditions']]"
     ]
    },
    {
     "name": "stderr",
     "output_type": "stream",
     "text": [
      "\r",
      "Loss: 0.051:  90%|████████ | 732/814 [18:24<01:40,  1.22s/it, ['local weather conditions']]"
     ]
    },
    {
     "name": "stderr",
     "output_type": "stream",
     "text": [
      "\r",
      "Loss: 0.051:  90%|████████ | 733/814 [18:24<01:42,  1.27s/it, ['local weather conditions']]"
     ]
    },
    {
     "name": "stderr",
     "output_type": "stream",
     "text": [
      "\r",
      "Loss: 0.046:  90%|████████ | 733/814 [18:26<01:42,  1.27s/it, ['local weather conditions']]"
     ]
    },
    {
     "name": "stderr",
     "output_type": "stream",
     "text": [
      "\r",
      "Loss: 0.046:  90%|████████ | 733/814 [18:26<01:42,  1.27s/it, ['local weather conditions']]"
     ]
    },
    {
     "name": "stderr",
     "output_type": "stream",
     "text": [
      "\r",
      "Loss: 0.046:  90%|████████ | 734/814 [18:26<01:39,  1.24s/it, ['local weather conditions']]"
     ]
    },
    {
     "name": "stderr",
     "output_type": "stream",
     "text": [
      "\r",
      "Loss: 0.041:  90%|████████ | 734/814 [18:27<01:39,  1.24s/it, ['local weather conditions']]"
     ]
    },
    {
     "name": "stderr",
     "output_type": "stream",
     "text": [
      "\r",
      "Loss: 0.041:  90%|████████ | 734/814 [18:27<01:39,  1.24s/it, ['local weather conditions']]"
     ]
    },
    {
     "name": "stderr",
     "output_type": "stream",
     "text": [
      "\r",
      "Loss: 0.041:  90%|████████▏| 735/814 [18:27<01:37,  1.23s/it, ['local weather conditions']]"
     ]
    },
    {
     "name": "stderr",
     "output_type": "stream",
     "text": [
      "\r",
      "Loss: 0.037:  90%|████████▏| 735/814 [18:28<01:37,  1.23s/it, ['local weather conditions']]"
     ]
    },
    {
     "name": "stderr",
     "output_type": "stream",
     "text": [
      "\r",
      "Loss: 0.037:  90%|████████▏| 735/814 [18:28<01:37,  1.23s/it, ['local weather conditions']]"
     ]
    },
    {
     "name": "stderr",
     "output_type": "stream",
     "text": [
      "\r",
      "Loss: 0.037:  90%|████████▏| 736/814 [18:28<01:34,  1.22s/it, ['local weather conditions']]"
     ]
    },
    {
     "name": "stderr",
     "output_type": "stream",
     "text": [
      "\r",
      "Loss: 0.034:  90%|████████▏| 736/814 [18:29<01:34,  1.22s/it, ['local weather conditions']]"
     ]
    },
    {
     "name": "stderr",
     "output_type": "stream",
     "text": [
      "\r",
      "Loss: 0.034:  90%|████████▏| 736/814 [18:29<01:34,  1.22s/it, ['local weather conditions']]"
     ]
    },
    {
     "name": "stderr",
     "output_type": "stream",
     "text": [
      "\r",
      "Loss: 0.034:  91%|████████▏| 737/814 [18:29<01:31,  1.19s/it, ['local weather conditions']]"
     ]
    },
    {
     "name": "stderr",
     "output_type": "stream",
     "text": [
      "\r",
      "Loss: 0.032:  91%|████████▏| 737/814 [18:30<01:31,  1.19s/it, ['local weather conditions']]"
     ]
    },
    {
     "name": "stderr",
     "output_type": "stream",
     "text": [
      "\r",
      "Loss: 0.032:  91%|████████▏| 737/814 [18:30<01:31,  1.19s/it, ['local weather conditions']]"
     ]
    },
    {
     "name": "stderr",
     "output_type": "stream",
     "text": [
      "\r",
      "Loss: 0.032:  91%|████████▏| 738/814 [18:30<01:29,  1.18s/it, ['local weather conditions']]"
     ]
    },
    {
     "name": "stderr",
     "output_type": "stream",
     "text": [
      "\r",
      "Loss: 0.029:  91%|████████▏| 738/814 [18:31<01:29,  1.18s/it, ['local weather conditions']]"
     ]
    },
    {
     "name": "stderr",
     "output_type": "stream",
     "text": [
      "\r",
      "Loss: 0.029:  91%|████████▏| 738/814 [18:31<01:29,  1.18s/it, ['local weather conditions']]"
     ]
    },
    {
     "name": "stderr",
     "output_type": "stream",
     "text": [
      "\r",
      "Loss: 0.029:  91%|████████▏| 739/814 [18:31<01:27,  1.16s/it, ['local weather conditions']]"
     ]
    },
    {
     "name": "stderr",
     "output_type": "stream",
     "text": [
      "\r",
      "Loss: 0.026:  91%|████████▏| 739/814 [18:33<01:27,  1.16s/it, ['local weather conditions']]"
     ]
    },
    {
     "name": "stderr",
     "output_type": "stream",
     "text": [
      "\r",
      "Loss: 0.026:  91%|████████▏| 739/814 [18:33<01:27,  1.16s/it, ['local weather conditions']]"
     ]
    },
    {
     "name": "stderr",
     "output_type": "stream",
     "text": [
      "\r",
      "Loss: 0.026:  91%|████████▏| 740/814 [18:33<01:30,  1.22s/it, ['local weather conditions']]"
     ]
    },
    {
     "name": "stderr",
     "output_type": "stream",
     "text": [
      "\r",
      "Loss: 0.023:  91%|████████▏| 740/814 [18:34<01:30,  1.22s/it, ['local weather conditions']]"
     ]
    },
    {
     "name": "stderr",
     "output_type": "stream",
     "text": [
      "\r",
      "Loss: 0.023:  91%|████████▏| 740/814 [18:34<01:30,  1.22s/it, ['local weather conditions']]"
     ]
    },
    {
     "name": "stderr",
     "output_type": "stream",
     "text": [
      "\r",
      "Loss: 0.023:  91%|████████▏| 741/814 [18:34<01:28,  1.21s/it, ['local weather conditions']]"
     ]
    },
    {
     "name": "stderr",
     "output_type": "stream",
     "text": [
      "\r",
      "Loss: 0.024:  91%|████████▏| 741/814 [18:35<01:28,  1.21s/it, ['local weather conditions']]"
     ]
    },
    {
     "name": "stderr",
     "output_type": "stream",
     "text": [
      "\r",
      "Loss: 0.024:  91%|████████▏| 741/814 [18:35<01:28,  1.21s/it, ['local weather conditions']]"
     ]
    },
    {
     "name": "stderr",
     "output_type": "stream",
     "text": [
      "\r",
      "Loss: 0.024:  91%|████████▏| 742/814 [18:35<01:24,  1.18s/it, ['local weather conditions']]"
     ]
    },
    {
     "name": "stderr",
     "output_type": "stream",
     "text": [
      "\r",
      "Loss: 0.021:  91%|████████▏| 742/814 [18:36<01:24,  1.18s/it, ['local weather conditions']]"
     ]
    },
    {
     "name": "stderr",
     "output_type": "stream",
     "text": [
      "\r",
      "Loss: 0.021:  91%|████████▏| 742/814 [18:36<01:24,  1.18s/it, ['local weather conditions']]"
     ]
    },
    {
     "name": "stderr",
     "output_type": "stream",
     "text": [
      "\r",
      "Loss: 0.021:  91%|████████▏| 743/814 [18:36<01:21,  1.15s/it, ['local weather conditions']]"
     ]
    },
    {
     "name": "stderr",
     "output_type": "stream",
     "text": [
      "\r",
      "Loss: 0.019:  91%|████████▏| 743/814 [18:37<01:21,  1.15s/it, ['local weather conditions']]"
     ]
    },
    {
     "name": "stderr",
     "output_type": "stream",
     "text": [
      "\r",
      "Loss: 0.019:  91%|████████▏| 743/814 [18:37<01:21,  1.15s/it, ['local weather conditions']]"
     ]
    },
    {
     "name": "stderr",
     "output_type": "stream",
     "text": [
      "\r",
      "Loss: 0.019:  91%|████████▏| 744/814 [18:37<01:23,  1.20s/it, ['local weather conditions']]"
     ]
    },
    {
     "name": "stderr",
     "output_type": "stream",
     "text": [
      "\r",
      "Loss: 0.017:  91%|████████▏| 744/814 [18:39<01:23,  1.20s/it, ['local weather conditions']]"
     ]
    },
    {
     "name": "stderr",
     "output_type": "stream",
     "text": [
      "\r",
      "Loss: 0.017:  91%|████████▏| 744/814 [18:39<01:23,  1.20s/it, ['local weather conditions']]"
     ]
    },
    {
     "name": "stderr",
     "output_type": "stream",
     "text": [
      "\r",
      "Loss: 0.017:  92%|████████▏| 745/814 [18:39<01:21,  1.19s/it, ['local weather conditions']]"
     ]
    },
    {
     "name": "stderr",
     "output_type": "stream",
     "text": [
      "\r",
      "Loss: 0.016:  92%|████████▏| 745/814 [18:40<01:21,  1.19s/it, ['local weather conditions']]"
     ]
    },
    {
     "name": "stderr",
     "output_type": "stream",
     "text": [
      "\r",
      "Loss: 0.016:  92%|████████▏| 745/814 [18:40<01:21,  1.19s/it, ['local weather conditions']]"
     ]
    },
    {
     "name": "stderr",
     "output_type": "stream",
     "text": [
      "\r",
      "Loss: 0.016:  92%|████████▏| 746/814 [18:40<01:20,  1.18s/it, ['local weather conditions']]"
     ]
    },
    {
     "name": "stderr",
     "output_type": "stream",
     "text": [
      "\r",
      "Loss: 0.014:  92%|████████▏| 746/814 [18:41<01:20,  1.18s/it, ['local weather conditions']]"
     ]
    },
    {
     "name": "stderr",
     "output_type": "stream",
     "text": [
      "\r",
      "Loss: 0.014:  92%|████████▏| 746/814 [18:41<01:20,  1.18s/it, ['local weather conditions']]"
     ]
    },
    {
     "name": "stderr",
     "output_type": "stream",
     "text": [
      "\r",
      "Loss: 0.014:  92%|████████▎| 747/814 [18:41<01:18,  1.17s/it, ['local weather conditions']]"
     ]
    },
    {
     "name": "stderr",
     "output_type": "stream",
     "text": [
      "\r",
      "Loss: 0.013:  92%|████████▎| 747/814 [18:42<01:18,  1.17s/it, ['local weather conditions']]"
     ]
    },
    {
     "name": "stderr",
     "output_type": "stream",
     "text": [
      "\r",
      "Loss: 0.013:  92%|████████▎| 747/814 [18:42<01:18,  1.17s/it, ['local weather conditions']]"
     ]
    },
    {
     "name": "stderr",
     "output_type": "stream",
     "text": [
      "\r",
      "Loss: 0.013:  92%|████████▎| 748/814 [18:42<01:16,  1.16s/it, ['local weather conditions']]"
     ]
    },
    {
     "name": "stderr",
     "output_type": "stream",
     "text": [
      "\r",
      "Loss: 0.012:  92%|████████▎| 748/814 [18:43<01:16,  1.16s/it, ['local weather conditions']]"
     ]
    },
    {
     "name": "stderr",
     "output_type": "stream",
     "text": [
      "\r",
      "Loss: 0.012:  92%|████████▎| 748/814 [18:43<01:16,  1.16s/it, ['local weather conditions']]"
     ]
    },
    {
     "name": "stderr",
     "output_type": "stream",
     "text": [
      "\r",
      "Loss: 0.012:  92%|████████▎| 749/814 [18:43<01:14,  1.14s/it, ['local weather conditions']]"
     ]
    },
    {
     "name": "stderr",
     "output_type": "stream",
     "text": [
      "\r",
      "Loss: 0.011:  92%|████████▎| 749/814 [18:44<01:14,  1.14s/it, ['local weather conditions']]"
     ]
    },
    {
     "name": "stderr",
     "output_type": "stream",
     "text": [
      "\r",
      "Loss: 0.011:  92%|████████▎| 749/814 [18:44<01:14,  1.14s/it, ['local weather conditions']]"
     ]
    },
    {
     "name": "stderr",
     "output_type": "stream",
     "text": [
      "\r",
      "Loss: 0.011:  92%|████████▎| 750/814 [18:44<01:11,  1.12s/it, ['local weather conditions']]"
     ]
    },
    {
     "name": "stderr",
     "output_type": "stream",
     "text": [
      "\r",
      "Loss: 0.010:  92%|████████▎| 750/814 [18:45<01:11,  1.12s/it, ['local weather conditions']]"
     ]
    },
    {
     "name": "stderr",
     "output_type": "stream",
     "text": [
      "\r",
      "Loss: 0.010:  92%|████████▎| 750/814 [18:45<01:11,  1.12s/it, ['local weather conditions']]"
     ]
    },
    {
     "name": "stderr",
     "output_type": "stream",
     "text": [
      "\r",
      "Loss: 0.010:  92%|████████▎| 751/814 [18:45<01:09,  1.11s/it, ['local weather conditions']]"
     ]
    },
    {
     "name": "stderr",
     "output_type": "stream",
     "text": [
      "\r",
      "Loss: 0.012:  92%|████████▎| 751/814 [18:46<01:09,  1.11s/it, ['local weather conditions']]"
     ]
    },
    {
     "name": "stderr",
     "output_type": "stream",
     "text": [
      "\r",
      "Loss: 0.012:  92%|████████▎| 751/814 [18:46<01:09,  1.11s/it, ['local weather conditions']]"
     ]
    },
    {
     "name": "stderr",
     "output_type": "stream",
     "text": [
      "\r",
      "Loss: 0.012:  92%|████████▎| 752/814 [18:46<01:08,  1.11s/it, ['local weather conditions']]"
     ]
    },
    {
     "name": "stderr",
     "output_type": "stream",
     "text": [
      "\r",
      "Loss: 0.013:  92%|████████▎| 752/814 [18:48<01:08,  1.11s/it, ['local weather conditions']]"
     ]
    },
    {
     "name": "stderr",
     "output_type": "stream",
     "text": [
      "\r",
      "Loss: 0.013:  92%|████████▎| 752/814 [18:48<01:08,  1.11s/it, ['local weather conditions']]"
     ]
    },
    {
     "name": "stderr",
     "output_type": "stream",
     "text": [
      "\r",
      "Loss: 0.013:  93%|████████▎| 753/814 [18:48<01:10,  1.15s/it, ['local weather conditions']]"
     ]
    },
    {
     "name": "stderr",
     "output_type": "stream",
     "text": [
      "\r",
      "Loss: 0.013:  93%|████████▎| 753/814 [18:49<01:10,  1.15s/it, ['local weather conditions']]"
     ]
    },
    {
     "name": "stderr",
     "output_type": "stream",
     "text": [
      "\r",
      "Loss: 0.013:  93%|████████▎| 753/814 [18:49<01:10,  1.15s/it, ['local weather conditions']]"
     ]
    },
    {
     "name": "stderr",
     "output_type": "stream",
     "text": [
      "\r",
      "Loss: 0.013:  93%|████████▎| 754/814 [18:49<01:07,  1.13s/it, ['local weather conditions']]"
     ]
    },
    {
     "name": "stderr",
     "output_type": "stream",
     "text": [
      "\r",
      "Loss: 0.012:  93%|████████▎| 754/814 [18:50<01:07,  1.13s/it, ['local weather conditions']]"
     ]
    },
    {
     "name": "stderr",
     "output_type": "stream",
     "text": [
      "\r",
      "Loss: 0.012:  93%|████████▎| 754/814 [18:50<01:07,  1.13s/it, ['local weather conditions']]"
     ]
    },
    {
     "name": "stderr",
     "output_type": "stream",
     "text": [
      "\r",
      "Loss: 0.012:  93%|████████▎| 755/814 [18:50<01:05,  1.12s/it, ['local weather conditions']]"
     ]
    },
    {
     "name": "stderr",
     "output_type": "stream",
     "text": [
      "\r",
      "Loss: 0.010:  93%|████████▎| 755/814 [18:51<01:05,  1.12s/it, ['local weather conditions']]"
     ]
    },
    {
     "name": "stderr",
     "output_type": "stream",
     "text": [
      "\r",
      "Loss: 0.010:  93%|████████▎| 755/814 [18:51<01:05,  1.12s/it, ['local weather conditions']]"
     ]
    },
    {
     "name": "stderr",
     "output_type": "stream",
     "text": [
      "\r",
      "Loss: 0.010:  93%|████████▎| 756/814 [18:51<01:04,  1.11s/it, ['local weather conditions']]"
     ]
    },
    {
     "name": "stderr",
     "output_type": "stream",
     "text": [
      "\r",
      "Loss: 0.010:  93%|████████▎| 756/814 [18:52<01:04,  1.11s/it, ['local weather conditions']]"
     ]
    },
    {
     "name": "stderr",
     "output_type": "stream",
     "text": [
      "\r",
      "Loss: 0.010:  93%|████████▎| 756/814 [18:52<01:04,  1.11s/it, ['local weather conditions']]"
     ]
    },
    {
     "name": "stderr",
     "output_type": "stream",
     "text": [
      "\r",
      "Loss: 0.010:  93%|████████▎| 757/814 [18:52<01:03,  1.12s/it, ['local weather conditions']]"
     ]
    },
    {
     "name": "stderr",
     "output_type": "stream",
     "text": [
      "\r",
      "Loss: 0.009:  93%|████████▎| 757/814 [18:53<01:03,  1.12s/it, ['local weather conditions']]"
     ]
    },
    {
     "name": "stderr",
     "output_type": "stream",
     "text": [
      "\r",
      "Loss: 0.009:  93%|████████▎| 757/814 [18:53<01:03,  1.12s/it, ['local weather conditions']]"
     ]
    },
    {
     "name": "stderr",
     "output_type": "stream",
     "text": [
      "\r",
      "Loss: 0.009:  93%|████████▍| 758/814 [18:53<01:01,  1.10s/it, ['local weather conditions']]"
     ]
    },
    {
     "name": "stderr",
     "output_type": "stream",
     "text": [
      "\r",
      "Loss: 0.008:  93%|████████▍| 758/814 [18:54<01:01,  1.10s/it, ['local weather conditions']]"
     ]
    },
    {
     "name": "stderr",
     "output_type": "stream",
     "text": [
      "\r",
      "Loss: 0.008:  93%|████████▍| 758/814 [18:54<01:01,  1.10s/it, ['local weather conditions']]"
     ]
    },
    {
     "name": "stderr",
     "output_type": "stream",
     "text": [
      "\r",
      "Loss: 0.008:  93%|████████▍| 759/814 [18:54<01:00,  1.10s/it, ['local weather conditions']]"
     ]
    },
    {
     "name": "stderr",
     "output_type": "stream",
     "text": [
      "\r",
      "Loss: 0.007:  93%|████████▍| 759/814 [18:55<01:00,  1.10s/it, ['local weather conditions']]"
     ]
    },
    {
     "name": "stderr",
     "output_type": "stream",
     "text": [
      "\r",
      "Loss: 0.007:  93%|████████▍| 759/814 [18:55<01:00,  1.10s/it, ['local weather conditions']]"
     ]
    },
    {
     "name": "stderr",
     "output_type": "stream",
     "text": [
      "\r",
      "Loss: 0.007:  93%|████████▍| 760/814 [18:55<00:58,  1.09s/it, ['local weather conditions']]"
     ]
    },
    {
     "name": "stderr",
     "output_type": "stream",
     "text": [
      "\r",
      "Loss: 0.007:  93%|████████▍| 760/814 [18:56<00:58,  1.09s/it, ['local weather conditions']]"
     ]
    },
    {
     "name": "stderr",
     "output_type": "stream",
     "text": [
      "\r",
      "Loss: 0.007:  93%|████████▍| 760/814 [18:56<00:58,  1.09s/it, ['local weather conditions']]"
     ]
    },
    {
     "name": "stderr",
     "output_type": "stream",
     "text": [
      "\r",
      "Loss: 0.007:  93%|████████▍| 761/814 [18:56<00:57,  1.08s/it, ['local weather conditions']]"
     ]
    },
    {
     "name": "stderr",
     "output_type": "stream",
     "text": [
      "\r",
      "Loss: 0.006:  93%|████████▍| 761/814 [18:57<00:57,  1.08s/it, ['local weather conditions']]"
     ]
    },
    {
     "name": "stderr",
     "output_type": "stream",
     "text": [
      "\r",
      "Loss: 0.006:  93%|████████▍| 761/814 [18:57<00:57,  1.08s/it, ['local weather conditions']]"
     ]
    },
    {
     "name": "stderr",
     "output_type": "stream",
     "text": [
      "\r",
      "Loss: 0.006:  94%|████████▍| 762/814 [18:57<00:57,  1.10s/it, ['local weather conditions']]"
     ]
    },
    {
     "name": "stderr",
     "output_type": "stream",
     "text": [
      "\r",
      "Loss: 0.006:  94%|████████▍| 762/814 [18:58<00:57,  1.10s/it, ['local weather conditions']]"
     ]
    },
    {
     "name": "stderr",
     "output_type": "stream",
     "text": [
      "\r",
      "Loss: 0.006:  94%|████████▍| 762/814 [18:58<00:57,  1.10s/it, ['local weather conditions']]"
     ]
    },
    {
     "name": "stderr",
     "output_type": "stream",
     "text": [
      "\r",
      "Loss: 0.006:  94%|████████▍| 763/814 [18:58<00:55,  1.09s/it, ['local weather conditions']]"
     ]
    },
    {
     "name": "stderr",
     "output_type": "stream",
     "text": [
      "\r",
      "Loss: 0.006:  94%|████████▍| 763/814 [19:00<00:55,  1.09s/it, ['local weather conditions']]"
     ]
    },
    {
     "name": "stderr",
     "output_type": "stream",
     "text": [
      "\r",
      "Loss: 0.006:  94%|████████▍| 763/814 [19:00<00:55,  1.09s/it, ['local weather conditions']]"
     ]
    },
    {
     "name": "stderr",
     "output_type": "stream",
     "text": [
      "\r",
      "Loss: 0.006:  94%|████████▍| 764/814 [19:00<00:55,  1.10s/it, ['local weather conditions']]"
     ]
    },
    {
     "name": "stderr",
     "output_type": "stream",
     "text": [
      "\r",
      "Loss: 0.041:  94%|████████▍| 764/814 [19:01<00:55,  1.10s/it, ['local weather conditions']]"
     ]
    },
    {
     "name": "stderr",
     "output_type": "stream",
     "text": [
      "\r",
      "Loss: 0.041:  94%|████████▍| 764/814 [19:01<00:55,  1.10s/it, ['local weather conditions']]"
     ]
    },
    {
     "name": "stderr",
     "output_type": "stream",
     "text": [
      "\r",
      "Loss: 0.041:  94%|████████▍| 765/814 [19:01<00:53,  1.09s/it, ['local weather conditions']]"
     ]
    },
    {
     "name": "stderr",
     "output_type": "stream",
     "text": [
      "\r",
      "Loss: 0.036:  94%|████████▍| 765/814 [19:02<00:53,  1.09s/it, ['local weather conditions']]"
     ]
    },
    {
     "name": "stderr",
     "output_type": "stream",
     "text": [
      "\r",
      "Loss: 0.036:  94%|████████▍| 765/814 [19:02<00:53,  1.09s/it, ['local weather conditions']]"
     ]
    },
    {
     "name": "stderr",
     "output_type": "stream",
     "text": [
      "\r",
      "Loss: 0.036:  94%|████████▍| 766/814 [19:02<00:51,  1.08s/it, ['local weather conditions']]"
     ]
    },
    {
     "name": "stderr",
     "output_type": "stream",
     "text": [
      "\r",
      "Loss: 0.033:  94%|████████▍| 766/814 [19:03<00:51,  1.08s/it, ['local weather conditions']]"
     ]
    },
    {
     "name": "stderr",
     "output_type": "stream",
     "text": [
      "\r",
      "Loss: 0.033:  94%|████████▍| 766/814 [19:03<00:51,  1.08s/it, ['local weather conditions']]"
     ]
    },
    {
     "name": "stderr",
     "output_type": "stream",
     "text": [
      "\r",
      "Loss: 0.033:  94%|████████▍| 767/814 [19:03<00:50,  1.08s/it, ['local weather conditions']]"
     ]
    },
    {
     "name": "stderr",
     "output_type": "stream",
     "text": [
      "\r",
      "Loss: 0.034:  94%|████████▍| 767/814 [19:04<00:50,  1.08s/it, ['local weather conditions']]"
     ]
    },
    {
     "name": "stderr",
     "output_type": "stream",
     "text": [
      "\r",
      "Loss: 0.034:  94%|████████▍| 767/814 [19:04<00:50,  1.08s/it, ['local weather conditions']]"
     ]
    },
    {
     "name": "stderr",
     "output_type": "stream",
     "text": [
      "\r",
      "Loss: 0.034:  94%|████████▍| 768/814 [19:04<00:49,  1.07s/it, ['local weather conditions']]"
     ]
    },
    {
     "name": "stderr",
     "output_type": "stream",
     "text": [
      "\r",
      "Loss: 0.031:  94%|████████▍| 768/814 [19:05<00:49,  1.07s/it, ['local weather conditions']]"
     ]
    },
    {
     "name": "stderr",
     "output_type": "stream",
     "text": [
      "\r",
      "Loss: 0.031:  94%|████████▍| 768/814 [19:05<00:49,  1.07s/it, ['local weather conditions']]"
     ]
    },
    {
     "name": "stderr",
     "output_type": "stream",
     "text": [
      "\r",
      "Loss: 0.031:  94%|████████▌| 769/814 [19:05<00:48,  1.08s/it, ['local weather conditions']]"
     ]
    },
    {
     "name": "stderr",
     "output_type": "stream",
     "text": [
      "\r",
      "Loss: 0.028:  94%|████████▌| 769/814 [19:06<00:48,  1.08s/it, ['local weather conditions']]"
     ]
    },
    {
     "name": "stderr",
     "output_type": "stream",
     "text": [
      "\r",
      "Loss: 0.028:  94%|████████▌| 769/814 [19:06<00:48,  1.08s/it, ['local weather conditions']]"
     ]
    },
    {
     "name": "stderr",
     "output_type": "stream",
     "text": [
      "\r",
      "Loss: 0.028:  95%|████████▌| 770/814 [19:06<00:48,  1.10s/it, ['local weather conditions']]"
     ]
    },
    {
     "name": "stderr",
     "output_type": "stream",
     "text": [
      "\r",
      "Loss: 0.028:  95%|████████▌| 770/814 [19:07<00:48,  1.10s/it, ['local weather conditions']]"
     ]
    },
    {
     "name": "stderr",
     "output_type": "stream",
     "text": [
      "\r",
      "Loss: 0.028:  95%|████████▌| 770/814 [19:07<00:48,  1.10s/it, ['local weather conditions']]"
     ]
    },
    {
     "name": "stderr",
     "output_type": "stream",
     "text": [
      "\r",
      "Loss: 0.028:  95%|████████▌| 771/814 [19:07<00:47,  1.10s/it, ['local weather conditions']]"
     ]
    },
    {
     "name": "stderr",
     "output_type": "stream",
     "text": [
      "\r",
      "Loss: 0.026:  95%|████████▌| 771/814 [19:08<00:47,  1.10s/it, ['local weather conditions']]"
     ]
    },
    {
     "name": "stderr",
     "output_type": "stream",
     "text": [
      "\r",
      "Loss: 0.026:  95%|████████▌| 771/814 [19:08<00:47,  1.10s/it, ['local weather conditions']]"
     ]
    },
    {
     "name": "stderr",
     "output_type": "stream",
     "text": [
      "\r",
      "Loss: 0.026:  95%|████████▌| 772/814 [19:08<00:45,  1.09s/it, ['local weather conditions']]"
     ]
    },
    {
     "name": "stderr",
     "output_type": "stream",
     "text": [
      "\r",
      "Loss: 0.023:  95%|████████▌| 772/814 [19:09<00:45,  1.09s/it, ['local weather conditions']]"
     ]
    },
    {
     "name": "stderr",
     "output_type": "stream",
     "text": [
      "\r",
      "Loss: 0.023:  95%|████████▌| 772/814 [19:09<00:45,  1.09s/it, ['local weather conditions']]"
     ]
    },
    {
     "name": "stderr",
     "output_type": "stream",
     "text": [
      "\r",
      "Loss: 0.023:  95%|████████▌| 773/814 [19:09<00:44,  1.08s/it, ['local weather conditions']]"
     ]
    },
    {
     "name": "stderr",
     "output_type": "stream",
     "text": [
      "\r",
      "Loss: 0.022:  95%|████████▌| 773/814 [19:10<00:44,  1.08s/it, ['local weather conditions']]"
     ]
    },
    {
     "name": "stderr",
     "output_type": "stream",
     "text": [
      "\r",
      "Loss: 0.022:  95%|████████▌| 773/814 [19:10<00:44,  1.08s/it, ['local weather conditions']]"
     ]
    },
    {
     "name": "stderr",
     "output_type": "stream",
     "text": [
      "\r",
      "Loss: 0.022:  95%|████████▌| 774/814 [19:10<00:43,  1.09s/it, ['local weather conditions']]"
     ]
    },
    {
     "name": "stderr",
     "output_type": "stream",
     "text": [
      "\r",
      "Loss: 0.020:  95%|████████▌| 774/814 [19:12<00:43,  1.09s/it, ['local weather conditions']]"
     ]
    },
    {
     "name": "stderr",
     "output_type": "stream",
     "text": [
      "\r",
      "Loss: 0.020:  95%|████████▌| 774/814 [19:12<00:43,  1.09s/it, ['local weather conditions']]"
     ]
    },
    {
     "name": "stderr",
     "output_type": "stream",
     "text": [
      "\r",
      "Loss: 0.020:  95%|████████▌| 775/814 [19:12<00:42,  1.08s/it, ['local weather conditions']]"
     ]
    },
    {
     "name": "stderr",
     "output_type": "stream",
     "text": [
      "\r",
      "Loss: 0.018:  95%|████████▌| 775/814 [19:13<00:42,  1.08s/it, ['local weather conditions']]"
     ]
    },
    {
     "name": "stderr",
     "output_type": "stream",
     "text": [
      "\r",
      "Loss: 0.018:  95%|████████▌| 775/814 [19:13<00:42,  1.08s/it, ['local weather conditions']]"
     ]
    },
    {
     "name": "stderr",
     "output_type": "stream",
     "text": [
      "\r",
      "Loss: 0.018:  95%|████████▌| 776/814 [19:13<00:40,  1.08s/it, ['local weather conditions']]"
     ]
    },
    {
     "name": "stderr",
     "output_type": "stream",
     "text": [
      "\r",
      "Loss: 0.019:  95%|████████▌| 776/814 [19:14<00:40,  1.08s/it, ['local weather conditions']]"
     ]
    },
    {
     "name": "stderr",
     "output_type": "stream",
     "text": [
      "\r",
      "Loss: 0.019:  95%|████████▌| 776/814 [19:14<00:40,  1.08s/it, ['local weather conditions']]"
     ]
    },
    {
     "name": "stderr",
     "output_type": "stream",
     "text": [
      "\r",
      "Loss: 0.019:  95%|████████▌| 777/814 [19:14<00:39,  1.07s/it, ['local weather conditions']]"
     ]
    },
    {
     "name": "stderr",
     "output_type": "stream",
     "text": [
      "\r",
      "Loss: 0.017:  95%|████████▌| 777/814 [19:15<00:39,  1.07s/it, ['local weather conditions']]"
     ]
    },
    {
     "name": "stderr",
     "output_type": "stream",
     "text": [
      "\r",
      "Loss: 0.017:  95%|████████▌| 777/814 [19:15<00:39,  1.07s/it, ['local weather conditions']]"
     ]
    },
    {
     "name": "stderr",
     "output_type": "stream",
     "text": [
      "\r",
      "Loss: 0.017:  96%|████████▌| 778/814 [19:15<00:38,  1.08s/it, ['local weather conditions']]"
     ]
    },
    {
     "name": "stderr",
     "output_type": "stream",
     "text": [
      "\r",
      "Loss: 0.015:  96%|████████▌| 778/814 [19:16<00:38,  1.08s/it, ['local weather conditions']]"
     ]
    },
    {
     "name": "stderr",
     "output_type": "stream",
     "text": [
      "\r",
      "Loss: 0.015:  96%|████████▌| 778/814 [19:16<00:38,  1.08s/it, ['local weather conditions']]"
     ]
    },
    {
     "name": "stderr",
     "output_type": "stream",
     "text": [
      "\r",
      "Loss: 0.015:  96%|████████▌| 779/814 [19:16<00:38,  1.10s/it, ['local weather conditions']]"
     ]
    },
    {
     "name": "stderr",
     "output_type": "stream",
     "text": [
      "\r",
      "Loss: 0.014:  96%|████████▌| 779/814 [19:17<00:38,  1.10s/it, ['local weather conditions']]"
     ]
    },
    {
     "name": "stderr",
     "output_type": "stream",
     "text": [
      "\r",
      "Loss: 0.014:  96%|████████▌| 779/814 [19:17<00:38,  1.10s/it, ['local weather conditions']]"
     ]
    },
    {
     "name": "stderr",
     "output_type": "stream",
     "text": [
      "\r",
      "Loss: 0.014:  96%|████████▌| 780/814 [19:17<00:37,  1.10s/it, ['local weather conditions']]"
     ]
    },
    {
     "name": "stderr",
     "output_type": "stream",
     "text": [
      "\r",
      "Loss: 0.012:  96%|████████▌| 780/814 [19:18<00:37,  1.10s/it, ['local weather conditions']]"
     ]
    },
    {
     "name": "stderr",
     "output_type": "stream",
     "text": [
      "\r",
      "Loss: 0.012:  96%|████████▌| 780/814 [19:18<00:37,  1.10s/it, ['local weather conditions']]"
     ]
    },
    {
     "name": "stderr",
     "output_type": "stream",
     "text": [
      "\r",
      "Loss: 0.012:  96%|████████▋| 781/814 [19:18<00:36,  1.09s/it, ['local weather conditions']]"
     ]
    },
    {
     "name": "stderr",
     "output_type": "stream",
     "text": [
      "\r",
      "Loss: 0.011:  96%|████████▋| 781/814 [19:19<00:36,  1.09s/it, ['local weather conditions']]"
     ]
    },
    {
     "name": "stderr",
     "output_type": "stream",
     "text": [
      "\r",
      "Loss: 0.011:  96%|████████▋| 781/814 [19:19<00:36,  1.09s/it, ['local weather conditions']]"
     ]
    },
    {
     "name": "stderr",
     "output_type": "stream",
     "text": [
      "\r",
      "Loss: 0.011:  96%|████████▋| 782/814 [19:19<00:34,  1.09s/it, ['local weather conditions']]"
     ]
    },
    {
     "name": "stderr",
     "output_type": "stream",
     "text": [
      "\r",
      "Loss: 0.010:  96%|████████▋| 782/814 [19:20<00:34,  1.09s/it, ['local weather conditions']]"
     ]
    },
    {
     "name": "stderr",
     "output_type": "stream",
     "text": [
      "\r",
      "Loss: 0.010:  96%|████████▋| 782/814 [19:20<00:34,  1.09s/it, ['local weather conditions']]"
     ]
    },
    {
     "name": "stderr",
     "output_type": "stream",
     "text": [
      "\r",
      "Loss: 0.010:  96%|████████▋| 783/814 [19:20<00:34,  1.10s/it, ['local weather conditions']]"
     ]
    },
    {
     "name": "stderr",
     "output_type": "stream",
     "text": [
      "\r",
      "Loss: 0.033:  96%|████████▋| 783/814 [19:21<00:34,  1.10s/it, ['local weather conditions']]"
     ]
    },
    {
     "name": "stderr",
     "output_type": "stream",
     "text": [
      "\r",
      "Loss: 0.033:  96%|████████▋| 783/814 [19:21<00:34,  1.10s/it, ['local weather conditions']]"
     ]
    },
    {
     "name": "stderr",
     "output_type": "stream",
     "text": [
      "\r",
      "Loss: 0.033:  96%|████████▋| 784/814 [19:21<00:32,  1.08s/it, ['local weather conditions']]"
     ]
    },
    {
     "name": "stderr",
     "output_type": "stream",
     "text": [
      "\r",
      "Loss: 0.030:  96%|████████▋| 784/814 [19:22<00:32,  1.08s/it, ['local weather conditions']]"
     ]
    },
    {
     "name": "stderr",
     "output_type": "stream",
     "text": [
      "\r",
      "Loss: 0.030:  96%|████████▋| 784/814 [19:22<00:32,  1.08s/it, ['local weather conditions']]"
     ]
    },
    {
     "name": "stderr",
     "output_type": "stream",
     "text": [
      "\r",
      "Loss: 0.030:  96%|████████▋| 785/814 [19:22<00:31,  1.08s/it, ['local weather conditions']]"
     ]
    },
    {
     "name": "stderr",
     "output_type": "stream",
     "text": [
      "\r",
      "Loss: 0.027:  96%|████████▋| 785/814 [19:24<00:31,  1.08s/it, ['local weather conditions']]"
     ]
    },
    {
     "name": "stderr",
     "output_type": "stream",
     "text": [
      "\r",
      "Loss: 0.027:  96%|████████▋| 785/814 [19:24<00:31,  1.08s/it, ['local weather conditions']]"
     ]
    },
    {
     "name": "stderr",
     "output_type": "stream",
     "text": [
      "\r",
      "Loss: 0.027:  97%|████████▋| 786/814 [19:24<00:30,  1.10s/it, ['local weather conditions']]"
     ]
    },
    {
     "name": "stderr",
     "output_type": "stream",
     "text": [
      "\r",
      "Loss: 0.034:  97%|████████▋| 786/814 [19:25<00:30,  1.10s/it, ['local weather conditions']]"
     ]
    },
    {
     "name": "stderr",
     "output_type": "stream",
     "text": [
      "\r",
      "Loss: 0.034:  97%|████████▋| 786/814 [19:25<00:30,  1.10s/it, ['local weather conditions']]"
     ]
    },
    {
     "name": "stderr",
     "output_type": "stream",
     "text": [
      "\r",
      "Loss: 0.034:  97%|████████▋| 787/814 [19:25<00:29,  1.10s/it, ['local weather conditions']]"
     ]
    },
    {
     "name": "stderr",
     "output_type": "stream",
     "text": [
      "\r",
      "Loss: 0.033:  97%|████████▋| 787/814 [19:26<00:29,  1.10s/it, ['local weather conditions']]"
     ]
    },
    {
     "name": "stderr",
     "output_type": "stream",
     "text": [
      "\r",
      "Loss: 0.033:  97%|████████▋| 787/814 [19:26<00:29,  1.10s/it, ['local weather conditions']]"
     ]
    },
    {
     "name": "stderr",
     "output_type": "stream",
     "text": [
      "\r",
      "Loss: 0.033:  97%|████████▋| 788/814 [19:26<00:28,  1.10s/it, ['local weather conditions']]"
     ]
    },
    {
     "name": "stderr",
     "output_type": "stream",
     "text": [
      "\r",
      "Loss: 0.052:  97%|████████▋| 788/814 [19:27<00:28,  1.10s/it, ['local weather conditions']]"
     ]
    },
    {
     "name": "stderr",
     "output_type": "stream",
     "text": [
      "\r",
      "Loss: 0.052:  97%|████████▋| 788/814 [19:27<00:28,  1.10s/it, ['local weather conditions']]"
     ]
    },
    {
     "name": "stderr",
     "output_type": "stream",
     "text": [
      "\r",
      "Loss: 0.052:  97%|████████▋| 789/814 [19:27<00:27,  1.10s/it, ['local weather conditions']]"
     ]
    },
    {
     "name": "stderr",
     "output_type": "stream",
     "text": [
      "\r",
      "Loss: 0.047:  97%|████████▋| 789/814 [19:28<00:27,  1.10s/it, ['local weather conditions']]"
     ]
    },
    {
     "name": "stderr",
     "output_type": "stream",
     "text": [
      "\r",
      "Loss: 0.047:  97%|████████▋| 789/814 [19:28<00:27,  1.10s/it, ['local weather conditions']]"
     ]
    },
    {
     "name": "stderr",
     "output_type": "stream",
     "text": [
      "\r",
      "Loss: 0.047:  97%|████████▋| 790/814 [19:28<00:26,  1.11s/it, ['local weather conditions']]"
     ]
    },
    {
     "name": "stderr",
     "output_type": "stream",
     "text": [
      "\r",
      "Loss: 0.042:  97%|████████▋| 790/814 [19:29<00:26,  1.11s/it, ['local weather conditions']]"
     ]
    },
    {
     "name": "stderr",
     "output_type": "stream",
     "text": [
      "\r",
      "Loss: 0.042:  97%|████████▋| 790/814 [19:29<00:26,  1.11s/it, ['local weather conditions']]"
     ]
    },
    {
     "name": "stderr",
     "output_type": "stream",
     "text": [
      "\r",
      "Loss: 0.042:  97%|████████▋| 791/814 [19:29<00:25,  1.11s/it, ['local weather conditions']]"
     ]
    },
    {
     "name": "stderr",
     "output_type": "stream",
     "text": [
      "\r",
      "Loss: 0.038:  97%|████████▋| 791/814 [19:30<00:25,  1.11s/it, ['local weather conditions']]"
     ]
    },
    {
     "name": "stderr",
     "output_type": "stream",
     "text": [
      "\r",
      "Loss: 0.038:  97%|████████▋| 791/814 [19:30<00:25,  1.11s/it, ['local weather conditions']]"
     ]
    },
    {
     "name": "stderr",
     "output_type": "stream",
     "text": [
      "\r",
      "Loss: 0.038:  97%|████████▊| 792/814 [19:30<00:24,  1.10s/it, ['local weather conditions']]"
     ]
    },
    {
     "name": "stderr",
     "output_type": "stream",
     "text": [
      "\r",
      "Loss: 0.042:  97%|████████▊| 792/814 [19:31<00:24,  1.10s/it, ['local weather conditions']]"
     ]
    },
    {
     "name": "stderr",
     "output_type": "stream",
     "text": [
      "\r",
      "Loss: 0.042:  97%|████████▊| 792/814 [19:31<00:24,  1.10s/it, ['local weather conditions']]"
     ]
    },
    {
     "name": "stderr",
     "output_type": "stream",
     "text": [
      "\r",
      "Loss: 0.042:  97%|████████▊| 793/814 [19:31<00:22,  1.09s/it, ['local weather conditions']]"
     ]
    },
    {
     "name": "stderr",
     "output_type": "stream",
     "text": [
      "\r",
      "Loss: 0.038:  97%|████████▊| 793/814 [19:32<00:22,  1.09s/it, ['local weather conditions']]"
     ]
    },
    {
     "name": "stderr",
     "output_type": "stream",
     "text": [
      "\r",
      "Loss: 0.038:  97%|████████▊| 793/814 [19:32<00:22,  1.09s/it, ['local weather conditions']]"
     ]
    },
    {
     "name": "stderr",
     "output_type": "stream",
     "text": [
      "\r",
      "Loss: 0.038:  98%|████████▊| 794/814 [19:32<00:21,  1.09s/it, ['local weather conditions']]"
     ]
    },
    {
     "name": "stderr",
     "output_type": "stream",
     "text": [
      "\r",
      "Loss: 0.034:  98%|████████▊| 794/814 [19:33<00:21,  1.09s/it, ['local weather conditions']]"
     ]
    },
    {
     "name": "stderr",
     "output_type": "stream",
     "text": [
      "\r",
      "Loss: 0.034:  98%|████████▊| 794/814 [19:33<00:21,  1.09s/it, ['local weather conditions']]"
     ]
    },
    {
     "name": "stderr",
     "output_type": "stream",
     "text": [
      "\r",
      "Loss: 0.034:  98%|████████▊| 795/814 [19:33<00:21,  1.11s/it, ['local weather conditions']]"
     ]
    },
    {
     "name": "stderr",
     "output_type": "stream",
     "text": [
      "\r",
      "Loss: 0.031:  98%|████████▊| 795/814 [19:35<00:21,  1.11s/it, ['local weather conditions']]"
     ]
    },
    {
     "name": "stderr",
     "output_type": "stream",
     "text": [
      "\r",
      "Loss: 0.031:  98%|████████▊| 795/814 [19:35<00:21,  1.11s/it, ['local weather conditions']]"
     ]
    },
    {
     "name": "stderr",
     "output_type": "stream",
     "text": [
      "\r",
      "Loss: 0.031:  98%|████████▊| 796/814 [19:35<00:19,  1.11s/it, ['local weather conditions']]"
     ]
    },
    {
     "name": "stderr",
     "output_type": "stream",
     "text": [
      "\r",
      "Loss: 0.028:  98%|████████▊| 796/814 [19:36<00:19,  1.11s/it, ['local weather conditions']]"
     ]
    },
    {
     "name": "stderr",
     "output_type": "stream",
     "text": [
      "\r",
      "Loss: 0.028:  98%|████████▊| 796/814 [19:36<00:19,  1.11s/it, ['local weather conditions']]"
     ]
    },
    {
     "name": "stderr",
     "output_type": "stream",
     "text": [
      "\r",
      "Loss: 0.028:  98%|████████▊| 797/814 [19:36<00:19,  1.12s/it, ['local weather conditions']]"
     ]
    },
    {
     "name": "stderr",
     "output_type": "stream",
     "text": [
      "\r",
      "Loss: 0.025:  98%|████████▊| 797/814 [19:37<00:19,  1.12s/it, ['local weather conditions']]"
     ]
    },
    {
     "name": "stderr",
     "output_type": "stream",
     "text": [
      "\r",
      "Loss: 0.025:  98%|████████▊| 797/814 [19:37<00:19,  1.12s/it, ['local weather conditions']]"
     ]
    },
    {
     "name": "stderr",
     "output_type": "stream",
     "text": [
      "\r",
      "Loss: 0.025:  98%|████████▊| 798/814 [19:37<00:17,  1.11s/it, ['local weather conditions']]"
     ]
    },
    {
     "name": "stderr",
     "output_type": "stream",
     "text": [
      "\r",
      "Loss: 0.031:  98%|████████▊| 798/814 [19:38<00:17,  1.11s/it, ['local weather conditions']]"
     ]
    },
    {
     "name": "stderr",
     "output_type": "stream",
     "text": [
      "\r",
      "Loss: 0.031:  98%|████████▊| 798/814 [19:38<00:17,  1.11s/it, ['local weather conditions']]"
     ]
    },
    {
     "name": "stderr",
     "output_type": "stream",
     "text": [
      "\r",
      "Loss: 0.031:  98%|████████▊| 799/814 [19:38<00:16,  1.11s/it, ['local weather conditions']]"
     ]
    },
    {
     "name": "stderr",
     "output_type": "stream",
     "text": [
      "\r",
      "Loss: 0.028:  98%|████████▊| 799/814 [19:40<00:16,  1.11s/it, ['local weather conditions']]"
     ]
    },
    {
     "name": "stderr",
     "output_type": "stream",
     "text": [
      "\r",
      "Loss: 0.028:  98%|████████▊| 799/814 [19:40<00:16,  1.11s/it, ['local weather conditions']]"
     ]
    },
    {
     "name": "stderr",
     "output_type": "stream",
     "text": [
      "\r",
      "Loss: 0.028:  98%|████████▊| 800/814 [19:40<00:17,  1.26s/it, ['local weather conditions']]"
     ]
    },
    {
     "name": "stderr",
     "output_type": "stream",
     "text": [
      "\r",
      "Loss: 0.026:  98%|████████▊| 800/814 [19:41<00:17,  1.26s/it, ['local weather conditions']]"
     ]
    },
    {
     "name": "stderr",
     "output_type": "stream",
     "text": [
      "\r",
      "Loss: 0.026:  98%|████████▊| 800/814 [19:41<00:17,  1.26s/it, ['local weather conditions']]"
     ]
    },
    {
     "name": "stderr",
     "output_type": "stream",
     "text": [
      "\r",
      "Loss: 0.026:  98%|████████▊| 801/814 [19:41<00:15,  1.22s/it, ['local weather conditions']]"
     ]
    },
    {
     "name": "stderr",
     "output_type": "stream",
     "text": [
      "\r",
      "Loss: 0.023:  98%|████████▊| 801/814 [19:42<00:15,  1.22s/it, ['local weather conditions']]"
     ]
    },
    {
     "name": "stderr",
     "output_type": "stream",
     "text": [
      "\r",
      "Loss: 0.023:  98%|████████▊| 801/814 [19:42<00:15,  1.22s/it, ['local weather conditions']]"
     ]
    },
    {
     "name": "stderr",
     "output_type": "stream",
     "text": [
      "\r",
      "Loss: 0.023:  99%|████████▊| 802/814 [19:42<00:14,  1.21s/it, ['local weather conditions']]"
     ]
    },
    {
     "name": "stderr",
     "output_type": "stream",
     "text": [
      "\r",
      "Loss: 0.022:  99%|████████▊| 802/814 [19:43<00:14,  1.21s/it, ['local weather conditions']]"
     ]
    },
    {
     "name": "stderr",
     "output_type": "stream",
     "text": [
      "\r",
      "Loss: 0.022:  99%|████████▊| 802/814 [19:43<00:14,  1.21s/it, ['local weather conditions']]"
     ]
    },
    {
     "name": "stderr",
     "output_type": "stream",
     "text": [
      "\r",
      "Loss: 0.022:  99%|████████▉| 803/814 [19:43<00:13,  1.19s/it, ['local weather conditions']]"
     ]
    },
    {
     "name": "stderr",
     "output_type": "stream",
     "text": [
      "\r",
      "Loss: 0.020:  99%|████████▉| 803/814 [19:44<00:13,  1.19s/it, ['local weather conditions']]"
     ]
    },
    {
     "name": "stderr",
     "output_type": "stream",
     "text": [
      "\r",
      "Loss: 0.020:  99%|████████▉| 803/814 [19:44<00:13,  1.19s/it, ['local weather conditions']]"
     ]
    },
    {
     "name": "stderr",
     "output_type": "stream",
     "text": [
      "\r",
      "Loss: 0.020:  99%|████████▉| 804/814 [19:44<00:11,  1.16s/it, ['local weather conditions']]"
     ]
    },
    {
     "name": "stderr",
     "output_type": "stream",
     "text": [
      "\r",
      "Loss: 0.018:  99%|████████▉| 804/814 [19:45<00:11,  1.16s/it, ['local weather conditions']]"
     ]
    },
    {
     "name": "stderr",
     "output_type": "stream",
     "text": [
      "\r",
      "Loss: 0.018:  99%|████████▉| 804/814 [19:45<00:11,  1.16s/it, ['local weather conditions']]"
     ]
    },
    {
     "name": "stderr",
     "output_type": "stream",
     "text": [
      "\r",
      "Loss: 0.018:  99%|████████▉| 805/814 [19:45<00:10,  1.19s/it, ['local weather conditions']]"
     ]
    },
    {
     "name": "stderr",
     "output_type": "stream",
     "text": [
      "\r",
      "Loss: 0.016:  99%|████████▉| 805/814 [19:47<00:10,  1.19s/it, ['local weather conditions']]"
     ]
    },
    {
     "name": "stderr",
     "output_type": "stream",
     "text": [
      "\r",
      "Loss: 0.016:  99%|████████▉| 805/814 [19:47<00:10,  1.19s/it, ['local weather conditions']]"
     ]
    },
    {
     "name": "stderr",
     "output_type": "stream",
     "text": [
      "\r",
      "Loss: 0.016:  99%|████████▉| 806/814 [19:47<00:11,  1.39s/it, ['local weather conditions']]"
     ]
    },
    {
     "name": "stderr",
     "output_type": "stream",
     "text": [
      "\r",
      "Loss: 0.015:  99%|████████▉| 806/814 [19:49<00:11,  1.39s/it, ['local weather conditions']]"
     ]
    },
    {
     "name": "stderr",
     "output_type": "stream",
     "text": [
      "\r",
      "Loss: 0.015:  99%|████████▉| 806/814 [19:49<00:11,  1.39s/it, ['local weather conditions']]"
     ]
    },
    {
     "name": "stderr",
     "output_type": "stream",
     "text": [
      "\r",
      "Loss: 0.015:  99%|████████▉| 807/814 [19:49<00:10,  1.55s/it, ['local weather conditions']]"
     ]
    },
    {
     "name": "stderr",
     "output_type": "stream",
     "text": [
      "\r",
      "Loss: 0.013:  99%|████████▉| 807/814 [19:51<00:10,  1.55s/it, ['local weather conditions']]"
     ]
    },
    {
     "name": "stderr",
     "output_type": "stream",
     "text": [
      "\r",
      "Loss: 0.013:  99%|████████▉| 807/814 [19:51<00:10,  1.55s/it, ['local weather conditions']]"
     ]
    },
    {
     "name": "stderr",
     "output_type": "stream",
     "text": [
      "\r",
      "Loss: 0.013:  99%|████████▉| 808/814 [19:51<00:09,  1.65s/it, ['local weather conditions']]"
     ]
    },
    {
     "name": "stderr",
     "output_type": "stream",
     "text": [
      "\r",
      "Loss: 0.012:  99%|████████▉| 808/814 [19:53<00:09,  1.65s/it, ['local weather conditions']]"
     ]
    },
    {
     "name": "stderr",
     "output_type": "stream",
     "text": [
      "\r",
      "Loss: 0.012:  99%|████████▉| 808/814 [19:53<00:09,  1.65s/it, ['local weather conditions']]"
     ]
    },
    {
     "name": "stderr",
     "output_type": "stream",
     "text": [
      "\r",
      "Loss: 0.012:  99%|████████▉| 809/814 [19:53<00:08,  1.73s/it, ['local weather conditions']]"
     ]
    },
    {
     "name": "stderr",
     "output_type": "stream",
     "text": [
      "\r",
      "Loss: 0.011:  99%|████████▉| 809/814 [19:54<00:08,  1.73s/it, ['local weather conditions']]"
     ]
    },
    {
     "name": "stderr",
     "output_type": "stream",
     "text": [
      "\r",
      "Loss: 0.011:  99%|████████▉| 809/814 [19:54<00:08,  1.73s/it, ['local weather conditions']]"
     ]
    },
    {
     "name": "stderr",
     "output_type": "stream",
     "text": [
      "\r",
      "Loss: 0.011: 100%|████████▉| 810/814 [19:54<00:06,  1.58s/it, ['local weather conditions']]"
     ]
    },
    {
     "name": "stderr",
     "output_type": "stream",
     "text": [
      "\r",
      "Loss: 0.010: 100%|████████▉| 810/814 [19:55<00:06,  1.58s/it, ['local weather conditions']]"
     ]
    },
    {
     "name": "stderr",
     "output_type": "stream",
     "text": [
      "\r",
      "Loss: 0.010: 100%|████████▉| 810/814 [19:55<00:06,  1.58s/it, ['local weather conditions']]"
     ]
    },
    {
     "name": "stderr",
     "output_type": "stream",
     "text": [
      "\r",
      "Loss: 0.010: 100%|████████▉| 811/814 [19:55<00:04,  1.44s/it, ['local weather conditions']]"
     ]
    },
    {
     "name": "stderr",
     "output_type": "stream",
     "text": [
      "\r",
      "Loss: 0.009: 100%|████████▉| 811/814 [19:57<00:04,  1.44s/it, ['local weather conditions']]"
     ]
    },
    {
     "name": "stderr",
     "output_type": "stream",
     "text": [
      "\r",
      "Loss: 0.009: 100%|████████▉| 811/814 [19:57<00:04,  1.44s/it, ['local weather conditions']]"
     ]
    },
    {
     "name": "stderr",
     "output_type": "stream",
     "text": [
      "\r",
      "Loss: 0.009: 100%|████████▉| 812/814 [19:57<00:02,  1.40s/it, ['local weather conditions']]"
     ]
    },
    {
     "name": "stderr",
     "output_type": "stream",
     "text": [
      "\r",
      "Loss: 0.008: 100%|████████▉| 812/814 [19:58<00:02,  1.40s/it, ['local weather conditions']]"
     ]
    },
    {
     "name": "stderr",
     "output_type": "stream",
     "text": [
      "\r",
      "Loss: 0.008: 100%|████████▉| 812/814 [19:58<00:02,  1.40s/it, ['local weather conditions']]"
     ]
    },
    {
     "name": "stderr",
     "output_type": "stream",
     "text": [
      "\r",
      "Loss: 0.008: 100%|████████▉| 813/814 [19:58<00:01,  1.56s/it, ['local weather conditions']]"
     ]
    },
    {
     "name": "stderr",
     "output_type": "stream",
     "text": [
      "\r",
      "Loss: 0.014: 100%|████████▉| 813/814 [20:00<00:01,  1.56s/it, ['local weather conditions']]"
     ]
    },
    {
     "name": "stderr",
     "output_type": "stream",
     "text": [
      "\r",
      "Loss: 0.014: 100%|████████▉| 813/814 [20:00<00:01,  1.56s/it, ['local weather conditions']]"
     ]
    },
    {
     "name": "stderr",
     "output_type": "stream",
     "text": [
      "\r",
      "Loss: 0.014: 100%|█████████| 814/814 [20:00<00:00,  1.42s/it, ['local weather conditions']]"
     ]
    },
    {
     "name": "stderr",
     "output_type": "stream",
     "text": [
      "\r",
      "Loss: 0.014: 100%|█████████| 814/814 [20:00<00:00,  1.47s/it, ['local weather conditions']]"
     ]
    },
    {
     "name": "stderr",
     "output_type": "stream",
     "text": [
      "\n"
     ]
    },
    {
     "name": "stdout",
     "output_type": "stream",
     "text": [
      "Name qasc\n"
     ]
    },
    {
     "name": "stderr",
     "output_type": "stream",
     "text": [
      "\r",
      "  0%|                                                              | 0/926 [00:00<?, ?it/s]"
     ]
    },
    {
     "name": "stderr",
     "output_type": "stream",
     "text": [
      "\r",
      "  0%|                                  | 0/926 [00:00<?, ?it/s, 1, 1, 1, 1,1,100.00,100.00]"
     ]
    },
    {
     "name": "stderr",
     "output_type": "stream",
     "text": [
      "\r",
      "  0%|                          | 1/926 [00:00<14:16,  1.08it/s, 1, 1, 1, 1,1,100.00,100.00]"
     ]
    },
    {
     "name": "stderr",
     "output_type": "stream",
     "text": [
      "\r",
      "  0%|                          | 1/926 [00:01<14:16,  1.08it/s, 2, 2, 2, 2,2,100.00,100.00]"
     ]
    },
    {
     "name": "stderr",
     "output_type": "stream",
     "text": [
      "\r",
      "  0%|                          | 2/926 [00:01<14:17,  1.08it/s, 2, 2, 2, 2,2,100.00,100.00]"
     ]
    },
    {
     "name": "stderr",
     "output_type": "stream",
     "text": [
      "\r",
      "  0%|                          | 2/926 [00:02<14:17,  1.08it/s, 3, 3, 3, 3,3,100.00,100.00]"
     ]
    },
    {
     "name": "stderr",
     "output_type": "stream",
     "text": [
      "\r",
      "  0%|                          | 3/926 [00:02<14:10,  1.09it/s, 3, 3, 3, 3,3,100.00,100.00]"
     ]
    },
    {
     "name": "stderr",
     "output_type": "stream",
     "text": [
      "\r",
      "  0%|                          | 3/926 [00:03<14:10,  1.09it/s, 4, 4, 4, 4,4,100.00,100.00]"
     ]
    },
    {
     "name": "stderr",
     "output_type": "stream",
     "text": [
      "\r",
      "  0%|                          | 4/926 [00:03<14:10,  1.08it/s, 4, 4, 4, 4,4,100.00,100.00]"
     ]
    },
    {
     "name": "stderr",
     "output_type": "stream",
     "text": [
      "\r",
      "  0%|                          | 4/926 [00:04<14:10,  1.08it/s, 5, 5, 5, 5,5,100.00,100.00]"
     ]
    },
    {
     "name": "stderr",
     "output_type": "stream",
     "text": [
      "\r",
      "  1%|▏                         | 5/926 [00:04<11:37,  1.32it/s, 5, 5, 5, 5,5,100.00,100.00]"
     ]
    },
    {
     "name": "stderr",
     "output_type": "stream",
     "text": [
      "\r",
      "  1%|▏                         | 5/926 [00:04<11:37,  1.32it/s, 6, 6, 6, 6,6,100.00,100.00]"
     ]
    },
    {
     "name": "stderr",
     "output_type": "stream",
     "text": [
      "\r",
      "  1%|▏                         | 6/926 [00:04<10:01,  1.53it/s, 6, 6, 6, 6,6,100.00,100.00]"
     ]
    },
    {
     "name": "stderr",
     "output_type": "stream",
     "text": [
      "\r",
      "  1%|▏                         | 6/926 [00:05<10:01,  1.53it/s, 7, 7, 7, 7,7,100.00,100.00]"
     ]
    },
    {
     "name": "stderr",
     "output_type": "stream",
     "text": [
      "\r",
      "  1%|▏                         | 7/926 [00:05<10:41,  1.43it/s, 7, 7, 7, 7,7,100.00,100.00]"
     ]
    },
    {
     "name": "stderr",
     "output_type": "stream",
     "text": [
      "\r",
      "  1%|▏                         | 7/926 [00:05<10:41,  1.43it/s, 8, 8, 8, 8,8,100.00,100.00]"
     ]
    },
    {
     "name": "stderr",
     "output_type": "stream",
     "text": [
      "\r",
      "  1%|▏                         | 8/926 [00:05<08:27,  1.81it/s, 8, 8, 8, 8,8,100.00,100.00]"
     ]
    },
    {
     "name": "stderr",
     "output_type": "stream",
     "text": [
      "\r",
      "  1%|▏                         | 8/926 [00:06<08:27,  1.81it/s, 9, 9, 9, 9,9,100.00,100.00]"
     ]
    },
    {
     "name": "stderr",
     "output_type": "stream",
     "text": [
      "\r",
      "  1%|▎                         | 9/926 [00:06<08:01,  1.91it/s, 9, 9, 9, 9,9,100.00,100.00]"
     ]
    },
    {
     "name": "stderr",
     "output_type": "stream",
     "text": [
      "\r",
      "  1%|▏                    | 9/926 [00:06<08:01,  1.91it/s, 10, 10, 10, 10,10,100.00,100.00]"
     ]
    },
    {
     "name": "stderr",
     "output_type": "stream",
     "text": [
      "\r",
      "  1%|▏                   | 10/926 [00:06<08:47,  1.74it/s, 10, 10, 10, 10,10,100.00,100.00]"
     ]
    },
    {
     "name": "stderr",
     "output_type": "stream",
     "text": [
      "\r",
      "  1%|▏                   | 10/926 [00:07<08:47,  1.74it/s, 11, 11, 11, 11,11,100.00,100.00]"
     ]
    },
    {
     "name": "stderr",
     "output_type": "stream",
     "text": [
      "\r",
      "  1%|▏                   | 11/926 [00:07<11:26,  1.33it/s, 11, 11, 11, 11,11,100.00,100.00]"
     ]
    },
    {
     "name": "stderr",
     "output_type": "stream",
     "text": [
      "\r",
      "  1%|▏                   | 11/926 [00:08<11:26,  1.33it/s, 12, 12, 12, 12,12,100.00,100.00]"
     ]
    },
    {
     "name": "stderr",
     "output_type": "stream",
     "text": [
      "\r",
      "  1%|▎                   | 12/926 [00:08<12:09,  1.25it/s, 12, 12, 12, 12,12,100.00,100.00]"
     ]
    },
    {
     "name": "stderr",
     "output_type": "stream",
     "text": [
      "\r",
      "  1%|▎                   | 12/926 [00:09<12:09,  1.25it/s, 13, 13, 13, 13,13,100.00,100.00]"
     ]
    },
    {
     "name": "stderr",
     "output_type": "stream",
     "text": [
      "\r",
      "  1%|▎                   | 13/926 [00:09<10:36,  1.43it/s, 13, 13, 13, 13,13,100.00,100.00]"
     ]
    },
    {
     "name": "stderr",
     "output_type": "stream",
     "text": [
      "\r",
      "  1%|▎                   | 13/926 [00:09<10:36,  1.43it/s, 14, 14, 14, 14,14,100.00,100.00]"
     ]
    },
    {
     "name": "stderr",
     "output_type": "stream",
     "text": [
      "\r",
      "  2%|▎                   | 14/926 [00:09<09:30,  1.60it/s, 14, 14, 14, 14,14,100.00,100.00]"
     ]
    },
    {
     "name": "stderr",
     "output_type": "stream",
     "text": [
      "\r",
      "  2%|▎                   | 14/926 [00:10<09:30,  1.60it/s, 15, 15, 15, 15,15,100.00,100.00]"
     ]
    },
    {
     "name": "stderr",
     "output_type": "stream",
     "text": [
      "\r",
      "  2%|▎                   | 15/926 [00:10<09:46,  1.55it/s, 15, 15, 15, 15,15,100.00,100.00]"
     ]
    },
    {
     "name": "stderr",
     "output_type": "stream",
     "text": [
      "\r",
      "  2%|▎                   | 15/926 [00:10<09:46,  1.55it/s, 16, 16, 16, 16,16,100.00,100.00]"
     ]
    },
    {
     "name": "stderr",
     "output_type": "stream",
     "text": [
      "\r",
      "  2%|▎                   | 16/926 [00:10<08:57,  1.69it/s, 16, 16, 16, 16,16,100.00,100.00]"
     ]
    },
    {
     "name": "stderr",
     "output_type": "stream",
     "text": [
      "\r",
      "  2%|▎                   | 16/926 [00:11<08:57,  1.69it/s, 17, 17, 17, 17,17,100.00,100.00]"
     ]
    },
    {
     "name": "stderr",
     "output_type": "stream",
     "text": [
      "\r",
      "  2%|▎                   | 17/926 [00:11<08:20,  1.82it/s, 17, 17, 17, 17,17,100.00,100.00]"
     ]
    },
    {
     "name": "stderr",
     "output_type": "stream",
     "text": [
      "\r",
      "  2%|▎                   | 17/926 [00:12<08:20,  1.82it/s, 18, 18, 18, 18,18,100.00,100.00]"
     ]
    },
    {
     "name": "stderr",
     "output_type": "stream",
     "text": [
      "\r",
      "  2%|▍                   | 18/926 [00:12<08:54,  1.70it/s, 18, 18, 18, 18,18,100.00,100.00]"
     ]
    },
    {
     "name": "stderr",
     "output_type": "stream",
     "text": [
      "\r",
      "  2%|▍                   | 18/926 [00:12<08:54,  1.70it/s, 19, 19, 19, 19,19,100.00,100.00]"
     ]
    },
    {
     "name": "stderr",
     "output_type": "stream",
     "text": [
      "\r",
      "  2%|▍                   | 19/926 [00:12<08:19,  1.82it/s, 19, 19, 19, 19,19,100.00,100.00]"
     ]
    },
    {
     "name": "stderr",
     "output_type": "stream",
     "text": [
      "\r",
      "  2%|▍                   | 19/926 [00:13<08:19,  1.82it/s, 20, 20, 20, 20,20,100.00,100.00]"
     ]
    },
    {
     "name": "stderr",
     "output_type": "stream",
     "text": [
      "\r",
      "  2%|▍                   | 20/926 [00:13<08:55,  1.69it/s, 20, 20, 20, 20,20,100.00,100.00]"
     ]
    },
    {
     "name": "stderr",
     "output_type": "stream",
     "text": [
      "\r",
      "  2%|▍                   | 20/926 [00:14<08:55,  1.69it/s, 21, 21, 21, 21,21,100.00,100.00]"
     ]
    },
    {
     "name": "stderr",
     "output_type": "stream",
     "text": [
      "\r",
      "  2%|▍                   | 21/926 [00:14<10:31,  1.43it/s, 21, 21, 21, 21,21,100.00,100.00]"
     ]
    },
    {
     "name": "stderr",
     "output_type": "stream",
     "text": [
      "\r",
      "  2%|▍                   | 21/926 [00:14<10:31,  1.43it/s, 22, 22, 22, 22,22,100.00,100.00]"
     ]
    },
    {
     "name": "stderr",
     "output_type": "stream",
     "text": [
      "\r",
      "  2%|▍                   | 22/926 [00:14<09:28,  1.59it/s, 22, 22, 22, 22,22,100.00,100.00]"
     ]
    },
    {
     "name": "stderr",
     "output_type": "stream",
     "text": [
      "\r",
      "  2%|▍                   | 22/926 [00:15<09:28,  1.59it/s, 23, 23, 23, 23,23,100.00,100.00]"
     ]
    },
    {
     "name": "stderr",
     "output_type": "stream",
     "text": [
      "\r",
      "  2%|▍                   | 23/926 [00:15<09:46,  1.54it/s, 23, 23, 23, 23,23,100.00,100.00]"
     ]
    },
    {
     "name": "stderr",
     "output_type": "stream",
     "text": [
      "\r",
      "  2%|▍                   | 23/926 [00:15<09:46,  1.54it/s, 24, 24, 24, 24,24,100.00,100.00]"
     ]
    },
    {
     "name": "stderr",
     "output_type": "stream",
     "text": [
      "\r",
      "  3%|▌                   | 24/926 [00:16<09:54,  1.52it/s, 24, 24, 24, 24,24,100.00,100.00]"
     ]
    },
    {
     "name": "stderr",
     "output_type": "stream",
     "text": [
      "\r",
      "  3%|▌                   | 24/926 [00:16<09:54,  1.52it/s, 25, 25, 25, 25,25,100.00,100.00]"
     ]
    },
    {
     "name": "stderr",
     "output_type": "stream",
     "text": [
      "\r",
      "  3%|▌                   | 25/926 [00:16<08:36,  1.75it/s, 25, 25, 25, 25,25,100.00,100.00]"
     ]
    },
    {
     "name": "stderr",
     "output_type": "stream",
     "text": [
      "\r",
      "  3%|▌                   | 25/926 [00:16<08:36,  1.75it/s, 26, 26, 26, 26,26,100.00,100.00]"
     ]
    },
    {
     "name": "stderr",
     "output_type": "stream",
     "text": [
      "\r",
      "  3%|▌                   | 26/926 [00:16<07:08,  2.10it/s, 26, 26, 26, 26,26,100.00,100.00]"
     ]
    },
    {
     "name": "stderr",
     "output_type": "stream",
     "text": [
      "\r",
      "  3%|▌                   | 26/926 [00:17<07:08,  2.10it/s, 27, 27, 27, 27,27,100.00,100.00]"
     ]
    },
    {
     "name": "stderr",
     "output_type": "stream",
     "text": [
      "\r",
      "  3%|▌                   | 27/926 [00:17<09:25,  1.59it/s, 27, 27, 27, 27,27,100.00,100.00]"
     ]
    },
    {
     "name": "stderr",
     "output_type": "stream",
     "text": [
      "\r",
      "  3%|▌                   | 27/926 [00:17<09:25,  1.59it/s, 28, 28, 28, 28,28,100.00,100.00]"
     ]
    },
    {
     "name": "stderr",
     "output_type": "stream",
     "text": [
      "\r",
      "  3%|▌                   | 28/926 [00:17<07:41,  1.94it/s, 28, 28, 28, 28,28,100.00,100.00]"
     ]
    },
    {
     "name": "stderr",
     "output_type": "stream",
     "text": [
      "\r",
      "  3%|▌                   | 28/926 [00:18<07:41,  1.94it/s, 29, 29, 29, 29,29,100.00,100.00]"
     ]
    },
    {
     "name": "stderr",
     "output_type": "stream",
     "text": [
      "\r",
      "  3%|▋                   | 29/926 [00:18<07:09,  2.09it/s, 29, 29, 29, 29,29,100.00,100.00]"
     ]
    },
    {
     "name": "stderr",
     "output_type": "stream",
     "text": [
      "\r",
      "  3%|▋                   | 29/926 [00:18<07:09,  2.09it/s, 30, 30, 30, 30,30,100.00,100.00]"
     ]
    },
    {
     "name": "stderr",
     "output_type": "stream",
     "text": [
      "\r",
      "  3%|▋                   | 30/926 [00:18<06:05,  2.45it/s, 30, 30, 30, 30,30,100.00,100.00]"
     ]
    },
    {
     "name": "stderr",
     "output_type": "stream",
     "text": [
      "\r",
      "  3%|▋                   | 30/926 [00:18<06:05,  2.45it/s, 31, 31, 31, 31,31,100.00,100.00]"
     ]
    },
    {
     "name": "stderr",
     "output_type": "stream",
     "text": [
      "\r",
      "  3%|▋                   | 31/926 [00:18<06:29,  2.30it/s, 31, 31, 31, 31,31,100.00,100.00]"
     ]
    },
    {
     "name": "stderr",
     "output_type": "stream",
     "text": [
      "\r",
      "  3%|▋                   | 31/926 [00:19<06:29,  2.30it/s, 32, 32, 32, 32,32,100.00,100.00]"
     ]
    },
    {
     "name": "stderr",
     "output_type": "stream",
     "text": [
      "\r",
      "  3%|▋                   | 32/926 [00:19<06:40,  2.23it/s, 32, 32, 32, 32,32,100.00,100.00]"
     ]
    },
    {
     "name": "stderr",
     "output_type": "stream",
     "text": [
      "\r",
      "  3%|▋                   | 32/926 [00:19<06:40,  2.23it/s, 33, 33, 33, 33,33,100.00,100.00]"
     ]
    },
    {
     "name": "stderr",
     "output_type": "stream",
     "text": [
      "\r",
      "  4%|▋                   | 33/926 [00:19<06:33,  2.27it/s, 33, 33, 33, 33,33,100.00,100.00]"
     ]
    },
    {
     "name": "stderr",
     "output_type": "stream",
     "text": [
      "\r",
      "  4%|▋                   | 33/926 [00:20<06:33,  2.27it/s, 34, 34, 34, 34,34,100.00,100.00]"
     ]
    },
    {
     "name": "stderr",
     "output_type": "stream",
     "text": [
      "\r",
      "  4%|▋                   | 34/926 [00:20<05:42,  2.61it/s, 34, 34, 34, 34,34,100.00,100.00]"
     ]
    },
    {
     "name": "stderr",
     "output_type": "stream",
     "text": [
      "\r",
      "  4%|▋                   | 34/926 [00:20<05:42,  2.61it/s, 35, 35, 35, 35,35,100.00,100.00]"
     ]
    },
    {
     "name": "stderr",
     "output_type": "stream",
     "text": [
      "\r",
      "  4%|▊                   | 35/926 [00:20<07:17,  2.04it/s, 35, 35, 35, 35,35,100.00,100.00]"
     ]
    },
    {
     "name": "stderr",
     "output_type": "stream",
     "text": [
      "\r",
      "  4%|▊                   | 35/926 [00:21<07:17,  2.04it/s, 36, 36, 36, 36,36,100.00,100.00]"
     ]
    },
    {
     "name": "stderr",
     "output_type": "stream",
     "text": [
      "\r",
      "  4%|▊                   | 36/926 [00:21<06:11,  2.40it/s, 36, 36, 36, 36,36,100.00,100.00]"
     ]
    },
    {
     "name": "stderr",
     "output_type": "stream",
     "text": [
      "\r",
      "  4%|▊                   | 36/926 [00:21<06:11,  2.40it/s, 37, 37, 37, 37,37,100.00,100.00]"
     ]
    },
    {
     "name": "stderr",
     "output_type": "stream",
     "text": [
      "\r",
      "  4%|▊                   | 37/926 [00:21<06:34,  2.25it/s, 37, 37, 37, 37,37,100.00,100.00]"
     ]
    },
    {
     "name": "stderr",
     "output_type": "stream",
     "text": [
      "\r",
      "  4%|▊                   | 37/926 [00:22<06:34,  2.25it/s, 38, 38, 38, 38,38,100.00,100.00]"
     ]
    },
    {
     "name": "stderr",
     "output_type": "stream",
     "text": [
      "\r",
      "  4%|▊                   | 38/926 [00:22<09:22,  1.58it/s, 38, 38, 38, 38,38,100.00,100.00]"
     ]
    },
    {
     "name": "stderr",
     "output_type": "stream",
     "text": [
      "\r",
      "  4%|▊                   | 38/926 [00:22<09:22,  1.58it/s, 39, 39, 39, 39,39,100.00,100.00]"
     ]
    },
    {
     "name": "stderr",
     "output_type": "stream",
     "text": [
      "\r",
      "  4%|▊                   | 39/926 [00:22<07:39,  1.93it/s, 39, 39, 39, 39,39,100.00,100.00]"
     ]
    },
    {
     "name": "stderr",
     "output_type": "stream",
     "text": [
      "\r",
      "  4%|▊                   | 39/926 [00:23<07:39,  1.93it/s, 40, 40, 40, 40,40,100.00,100.00]"
     ]
    },
    {
     "name": "stderr",
     "output_type": "stream",
     "text": [
      "\r",
      "  4%|▊                   | 40/926 [00:23<06:59,  2.11it/s, 40, 40, 40, 40,40,100.00,100.00]"
     ]
    },
    {
     "name": "stderr",
     "output_type": "stream",
     "text": [
      "\r",
      "  4%|▊                   | 40/926 [00:23<06:59,  2.11it/s, 41, 41, 41, 41,41,100.00,100.00]"
     ]
    },
    {
     "name": "stderr",
     "output_type": "stream",
     "text": [
      "\r",
      "  4%|▉                   | 41/926 [00:23<05:59,  2.47it/s, 41, 41, 41, 41,41,100.00,100.00]"
     ]
    },
    {
     "name": "stderr",
     "output_type": "stream",
     "text": [
      "\r",
      "  4%|▉                   | 41/926 [00:23<05:59,  2.47it/s, 42, 42, 42, 42,42,100.00,100.00]"
     ]
    },
    {
     "name": "stderr",
     "output_type": "stream",
     "text": [
      "\r",
      "  5%|▉                   | 42/926 [00:23<05:53,  2.50it/s, 42, 42, 42, 42,42,100.00,100.00]"
     ]
    },
    {
     "name": "stderr",
     "output_type": "stream",
     "text": [
      "\r",
      "  5%|▉                   | 42/926 [00:24<05:53,  2.50it/s, 43, 43, 43, 43,43,100.00,100.00]"
     ]
    },
    {
     "name": "stderr",
     "output_type": "stream",
     "text": [
      "\r",
      "  5%|▉                   | 43/926 [00:24<05:14,  2.81it/s, 43, 43, 43, 43,43,100.00,100.00]"
     ]
    },
    {
     "name": "stderr",
     "output_type": "stream",
     "text": [
      "\r",
      "  5%|▉                   | 43/926 [00:24<05:14,  2.81it/s, 44, 44, 44, 44,44,100.00,100.00]"
     ]
    },
    {
     "name": "stderr",
     "output_type": "stream",
     "text": [
      "\r",
      "  5%|▉                   | 44/926 [00:24<05:55,  2.48it/s, 44, 44, 44, 44,44,100.00,100.00]"
     ]
    },
    {
     "name": "stderr",
     "output_type": "stream",
     "text": [
      "\r",
      "  5%|▉                   | 44/926 [00:25<05:55,  2.48it/s, 45, 45, 45, 45,45,100.00,100.00]"
     ]
    },
    {
     "name": "stderr",
     "output_type": "stream",
     "text": [
      "\r",
      "  5%|▉                   | 45/926 [00:25<06:58,  2.11it/s, 45, 45, 45, 45,45,100.00,100.00]"
     ]
    },
    {
     "name": "stderr",
     "output_type": "stream",
     "text": [
      "\r",
      "  5%|▉                   | 45/926 [00:25<06:58,  2.11it/s, 46, 46, 46, 46,46,100.00,100.00]"
     ]
    },
    {
     "name": "stderr",
     "output_type": "stream",
     "text": [
      "\r",
      "  5%|▉                   | 46/926 [00:25<06:31,  2.25it/s, 46, 46, 46, 46,46,100.00,100.00]"
     ]
    },
    {
     "name": "stderr",
     "output_type": "stream",
     "text": [
      "\r",
      "  5%|▉                   | 46/926 [00:26<06:31,  2.25it/s, 47, 47, 47, 47,47,100.00,100.00]"
     ]
    },
    {
     "name": "stderr",
     "output_type": "stream",
     "text": [
      "\r",
      "  5%|█                   | 47/926 [00:26<06:10,  2.37it/s, 47, 47, 47, 47,47,100.00,100.00]"
     ]
    },
    {
     "name": "stderr",
     "output_type": "stream",
     "text": [
      "\r",
      "  5%|█                   | 47/926 [00:26<06:10,  2.37it/s, 48, 48, 48, 48,48,100.00,100.00]"
     ]
    },
    {
     "name": "stderr",
     "output_type": "stream",
     "text": [
      "\r",
      "  5%|█                   | 48/926 [00:26<07:03,  2.07it/s, 48, 48, 48, 48,48,100.00,100.00]"
     ]
    },
    {
     "name": "stderr",
     "output_type": "stream",
     "text": [
      "\r",
      "  5%|█                   | 48/926 [00:27<07:03,  2.07it/s, 49, 49, 49, 49,49,100.00,100.00]"
     ]
    },
    {
     "name": "stderr",
     "output_type": "stream",
     "text": [
      "\r",
      "  5%|█                   | 49/926 [00:27<09:02,  1.62it/s, 49, 49, 49, 49,49,100.00,100.00]"
     ]
    },
    {
     "name": "stderr",
     "output_type": "stream",
     "text": [
      "\r",
      "  5%|█                   | 49/926 [00:28<09:02,  1.62it/s, 50, 50, 50, 50,50,100.00,100.00]"
     ]
    },
    {
     "name": "stderr",
     "output_type": "stream",
     "text": [
      "\r",
      "  5%|█                   | 50/926 [00:28<09:21,  1.56it/s, 50, 50, 50, 50,50,100.00,100.00]"
     ]
    },
    {
     "name": "stderr",
     "output_type": "stream",
     "text": [
      "\r",
      "  5%|█                   | 50/926 [00:28<09:21,  1.56it/s, 51, 51, 51, 51,51,100.00,100.00]"
     ]
    },
    {
     "name": "stderr",
     "output_type": "stream",
     "text": [
      "\r",
      "  6%|█                   | 51/926 [00:28<08:36,  1.69it/s, 51, 51, 51, 51,51,100.00,100.00]"
     ]
    },
    {
     "name": "stderr",
     "output_type": "stream",
     "text": [
      "\r",
      "  6%|█                   | 51/926 [00:29<08:36,  1.69it/s, 52, 52, 52, 52,52,100.00,100.00]"
     ]
    },
    {
     "name": "stderr",
     "output_type": "stream",
     "text": [
      "\r",
      "  6%|█                   | 52/926 [00:29<08:03,  1.81it/s, 52, 52, 52, 52,52,100.00,100.00]"
     ]
    },
    {
     "name": "stderr",
     "output_type": "stream",
     "text": [
      "\r",
      "  6%|█                   | 52/926 [00:30<08:03,  1.81it/s, 53, 53, 53, 53,53,100.00,100.00]"
     ]
    },
    {
     "name": "stderr",
     "output_type": "stream",
     "text": [
      "\r",
      "  6%|█▏                  | 53/926 [00:30<08:42,  1.67it/s, 53, 53, 53, 53,53,100.00,100.00]"
     ]
    },
    {
     "name": "stderr",
     "output_type": "stream",
     "text": [
      "\r",
      "  6%|█▏                  | 53/926 [00:30<08:42,  1.67it/s, 54, 54, 54, 54,54,100.00,100.00]"
     ]
    },
    {
     "name": "stderr",
     "output_type": "stream",
     "text": [
      "\r",
      "  6%|█▏                  | 54/926 [00:30<10:11,  1.43it/s, 54, 54, 54, 54,54,100.00,100.00]"
     ]
    },
    {
     "name": "stderr",
     "output_type": "stream",
     "text": [
      "\r",
      "  6%|█▏                  | 54/926 [00:31<10:11,  1.43it/s, 55, 55, 55, 55,55,100.00,100.00]"
     ]
    },
    {
     "name": "stderr",
     "output_type": "stream",
     "text": [
      "\r",
      "  6%|█▏                  | 55/926 [00:31<09:08,  1.59it/s, 55, 55, 55, 55,55,100.00,100.00]"
     ]
    },
    {
     "name": "stderr",
     "output_type": "stream",
     "text": [
      "\r",
      "  6%|█▏                  | 55/926 [00:32<09:08,  1.59it/s, 56, 56, 56, 56,56,100.00,100.00]"
     ]
    },
    {
     "name": "stderr",
     "output_type": "stream",
     "text": [
      "\r",
      "  6%|█▏                  | 56/926 [00:32<09:24,  1.54it/s, 56, 56, 56, 56,56,100.00,100.00]"
     ]
    },
    {
     "name": "stderr",
     "output_type": "stream",
     "text": [
      "\r",
      "  6%|█▏                  | 56/926 [00:32<09:24,  1.54it/s, 57, 57, 57, 57,57,100.00,100.00]"
     ]
    },
    {
     "name": "stderr",
     "output_type": "stream",
     "text": [
      "\r",
      "  6%|█▏                  | 57/926 [00:32<08:33,  1.69it/s, 57, 57, 57, 57,57,100.00,100.00]"
     ]
    },
    {
     "name": "stderr",
     "output_type": "stream",
     "text": [
      "\r",
      "  6%|█▏                  | 57/926 [00:33<08:33,  1.69it/s, 58, 58, 58, 58,58,100.00,100.00]"
     ]
    },
    {
     "name": "stderr",
     "output_type": "stream",
     "text": [
      "\r",
      "  6%|█▎                  | 58/926 [00:33<09:12,  1.57it/s, 58, 58, 58, 58,58,100.00,100.00]"
     ]
    },
    {
     "name": "stderr",
     "output_type": "stream",
     "text": [
      "\r",
      "  6%|█▎                  | 58/926 [00:33<09:12,  1.57it/s, 59, 59, 59, 59,59,100.00,100.00]"
     ]
    },
    {
     "name": "stderr",
     "output_type": "stream",
     "text": [
      "\r",
      "  6%|█▎                  | 59/926 [00:33<08:27,  1.71it/s, 59, 59, 59, 59,59,100.00,100.00]"
     ]
    },
    {
     "name": "stderr",
     "output_type": "stream",
     "text": [
      "\r",
      "  6%|█▎                  | 59/926 [00:34<08:27,  1.71it/s, 60, 60, 60, 60,60,100.00,100.00]"
     ]
    },
    {
     "name": "stderr",
     "output_type": "stream",
     "text": [
      "\r",
      "  6%|█▎                  | 60/926 [00:34<07:54,  1.82it/s, 60, 60, 60, 60,60,100.00,100.00]"
     ]
    },
    {
     "name": "stderr",
     "output_type": "stream",
     "text": [
      "\r",
      "  6%|█▎                  | 60/926 [00:35<07:54,  1.82it/s, 61, 61, 61, 61,61,100.00,100.00]"
     ]
    },
    {
     "name": "stderr",
     "output_type": "stream",
     "text": [
      "\r",
      "  7%|█▎                  | 61/926 [00:35<11:32,  1.25it/s, 61, 61, 61, 61,61,100.00,100.00]"
     ]
    },
    {
     "name": "stderr",
     "output_type": "stream",
     "text": [
      "\r",
      "  7%|█▎                  | 61/926 [00:36<11:32,  1.25it/s, 62, 62, 62, 62,62,100.00,100.00]"
     ]
    },
    {
     "name": "stderr",
     "output_type": "stream",
     "text": [
      "\r",
      "  7%|█▎                  | 62/926 [00:36<10:00,  1.44it/s, 62, 62, 62, 62,62,100.00,100.00]"
     ]
    },
    {
     "name": "stderr",
     "output_type": "stream",
     "text": [
      "\r",
      "  7%|█▎                  | 62/926 [00:36<10:00,  1.44it/s, 63, 63, 63, 63,63,100.00,100.00]"
     ]
    },
    {
     "name": "stderr",
     "output_type": "stream",
     "text": [
      "\r",
      "  7%|█▎                  | 63/926 [00:36<10:00,  1.44it/s, 63, 63, 63, 63,63,100.00,100.00]"
     ]
    },
    {
     "name": "stderr",
     "output_type": "stream",
     "text": [
      "\r",
      "  7%|█▎                  | 63/926 [00:37<10:00,  1.44it/s, 64, 64, 64, 64,64,100.00,100.00]"
     ]
    },
    {
     "name": "stderr",
     "output_type": "stream",
     "text": [
      "\r",
      "  7%|█▍                  | 64/926 [00:37<09:00,  1.60it/s, 64, 64, 64, 64,64,100.00,100.00]"
     ]
    },
    {
     "name": "stderr",
     "output_type": "stream",
     "text": [
      "\r",
      "  7%|█▍                  | 64/926 [00:37<09:00,  1.60it/s, 65, 65, 65, 65,65,100.00,100.00]"
     ]
    },
    {
     "name": "stderr",
     "output_type": "stream",
     "text": [
      "\r",
      "  7%|█▍                  | 65/926 [00:37<08:15,  1.74it/s, 65, 65, 65, 65,65,100.00,100.00]"
     ]
    },
    {
     "name": "stderr",
     "output_type": "stream",
     "text": [
      "\r",
      "  7%|█▍                  | 65/926 [00:38<08:15,  1.74it/s, 66, 66, 66, 66,66,100.00,100.00]"
     ]
    },
    {
     "name": "stderr",
     "output_type": "stream",
     "text": [
      "\r",
      "  7%|█▍                  | 66/926 [00:38<07:43,  1.85it/s, 66, 66, 66, 66,66,100.00,100.00]"
     ]
    },
    {
     "name": "stderr",
     "output_type": "stream",
     "text": [
      "\r",
      "  7%|█▍                  | 66/926 [00:39<07:43,  1.85it/s, 67, 67, 67, 67,67,100.00,100.00]"
     ]
    },
    {
     "name": "stderr",
     "output_type": "stream",
     "text": [
      "\r",
      "  7%|█▍                  | 67/926 [00:39<09:20,  1.53it/s, 67, 67, 67, 67,67,100.00,100.00]"
     ]
    },
    {
     "name": "stderr",
     "output_type": "stream",
     "text": [
      "\r",
      "  7%|█▍                  | 67/926 [00:41<09:20,  1.53it/s, 68, 68, 68, 68,68,100.00,100.00]"
     ]
    },
    {
     "name": "stderr",
     "output_type": "stream",
     "text": [
      "\r",
      "  7%|█▍                  | 68/926 [00:41<15:51,  1.11s/it, 68, 68, 68, 68,68,100.00,100.00]"
     ]
    },
    {
     "name": "stderr",
     "output_type": "stream",
     "text": [
      "\r",
      "  7%|█▍                  | 68/926 [00:42<15:51,  1.11s/it, 69, 69, 69, 69,69,100.00,100.00]"
     ]
    },
    {
     "name": "stderr",
     "output_type": "stream",
     "text": [
      "\r",
      "  7%|█▍                  | 69/926 [00:42<14:26,  1.01s/it, 69, 69, 69, 69,69,100.00,100.00]"
     ]
    },
    {
     "name": "stderr",
     "output_type": "stream",
     "text": [
      "\r",
      "  7%|█▍                  | 69/926 [00:42<14:26,  1.01s/it, 70, 70, 70, 70,70,100.00,100.00]"
     ]
    },
    {
     "name": "stderr",
     "output_type": "stream",
     "text": [
      "\r",
      "  8%|█▌                  | 70/926 [00:42<11:11,  1.28it/s, 70, 70, 70, 70,70,100.00,100.00]"
     ]
    },
    {
     "name": "stderr",
     "output_type": "stream",
     "text": [
      "\r",
      "  8%|█▌                  | 70/926 [00:42<11:11,  1.28it/s, 71, 71, 71, 71,71,100.00,100.00]"
     ]
    },
    {
     "name": "stderr",
     "output_type": "stream",
     "text": [
      "\r",
      "  8%|█▌                  | 71/926 [00:42<08:59,  1.59it/s, 71, 71, 71, 71,71,100.00,100.00]"
     ]
    },
    {
     "name": "stderr",
     "output_type": "stream",
     "text": [
      "\r",
      "  8%|█▌                  | 71/926 [00:42<08:59,  1.59it/s, 72, 72, 72, 72,72,100.00,100.00]"
     ]
    },
    {
     "name": "stderr",
     "output_type": "stream",
     "text": [
      "\r",
      "  8%|█▌                  | 72/926 [00:42<07:34,  1.88it/s, 72, 72, 72, 72,72,100.00,100.00]"
     ]
    },
    {
     "name": "stderr",
     "output_type": "stream",
     "text": [
      "\r",
      "  8%|█▌                  | 72/926 [00:43<07:34,  1.88it/s, 73, 73, 73, 73,73,100.00,100.00]"
     ]
    },
    {
     "name": "stderr",
     "output_type": "stream",
     "text": [
      "\r",
      "  8%|█▌                  | 73/926 [00:43<08:09,  1.74it/s, 73, 73, 73, 73,73,100.00,100.00]"
     ]
    },
    {
     "name": "stderr",
     "output_type": "stream",
     "text": [
      "\r",
      "  8%|█▌                  | 73/926 [00:43<08:09,  1.74it/s, 74, 74, 74, 74,74,100.00,100.00]"
     ]
    },
    {
     "name": "stderr",
     "output_type": "stream",
     "text": [
      "\r",
      "  8%|█▌                  | 74/926 [00:43<07:27,  1.90it/s, 74, 74, 74, 74,74,100.00,100.00]"
     ]
    },
    {
     "name": "stderr",
     "output_type": "stream",
     "text": [
      "\r",
      "  8%|█▌                  | 74/926 [00:44<07:27,  1.90it/s, 75, 75, 75, 75,75,100.00,100.00]"
     ]
    },
    {
     "name": "stderr",
     "output_type": "stream",
     "text": [
      "\r",
      "  8%|█▌                  | 75/926 [00:44<07:33,  1.88it/s, 75, 75, 75, 75,75,100.00,100.00]"
     ]
    },
    {
     "name": "stderr",
     "output_type": "stream",
     "text": [
      "\r",
      "  8%|█▌                  | 75/926 [00:44<07:33,  1.88it/s, 76, 76, 76, 76,76,100.00,100.00]"
     ]
    },
    {
     "name": "stderr",
     "output_type": "stream",
     "text": [
      "\r",
      "  8%|█▋                  | 76/926 [00:44<06:25,  2.20it/s, 76, 76, 76, 76,76,100.00,100.00]"
     ]
    },
    {
     "name": "stderr",
     "output_type": "stream",
     "text": [
      "\r",
      "  8%|█▋                  | 76/926 [00:45<06:25,  2.20it/s, 77, 77, 77, 77,77,100.00,100.00]"
     ]
    },
    {
     "name": "stderr",
     "output_type": "stream",
     "text": [
      "\r",
      "  8%|█▋                  | 77/926 [00:45<06:15,  2.26it/s, 77, 77, 77, 77,77,100.00,100.00]"
     ]
    },
    {
     "name": "stderr",
     "output_type": "stream",
     "text": [
      "\r",
      "  8%|█▋                  | 77/926 [00:45<06:15,  2.26it/s, 78, 78, 78, 78,78,100.00,100.00]"
     ]
    },
    {
     "name": "stderr",
     "output_type": "stream",
     "text": [
      "\r",
      "  8%|█▋                  | 78/926 [00:45<05:27,  2.59it/s, 78, 78, 78, 78,78,100.00,100.00]"
     ]
    },
    {
     "name": "stderr",
     "output_type": "stream",
     "text": [
      "\r",
      "  8%|█▋                  | 78/926 [00:45<05:27,  2.59it/s, 79, 79, 79, 79,79,100.00,100.00]"
     ]
    },
    {
     "name": "stderr",
     "output_type": "stream",
     "text": [
      "\r",
      "  9%|█▋                  | 79/926 [00:45<05:41,  2.48it/s, 79, 79, 79, 79,79,100.00,100.00]"
     ]
    },
    {
     "name": "stderr",
     "output_type": "stream",
     "text": [
      "\r",
      "  9%|█▋                  | 79/926 [00:46<05:41,  2.48it/s, 80, 80, 80, 80,80,100.00,100.00]"
     ]
    },
    {
     "name": "stderr",
     "output_type": "stream",
     "text": [
      "\r",
      "  9%|█▋                  | 80/926 [00:46<06:05,  2.31it/s, 80, 80, 80, 80,80,100.00,100.00]"
     ]
    },
    {
     "name": "stderr",
     "output_type": "stream",
     "text": [
      "\r",
      "  9%|█▋                  | 80/926 [00:46<06:05,  2.31it/s, 81, 81, 81, 81,81,100.00,100.00]"
     ]
    },
    {
     "name": "stderr",
     "output_type": "stream",
     "text": [
      "\r",
      "  9%|█▋                  | 81/926 [00:46<05:51,  2.40it/s, 81, 81, 81, 81,81,100.00,100.00]"
     ]
    },
    {
     "name": "stderr",
     "output_type": "stream",
     "text": [
      "\r",
      "  9%|█▋                  | 81/926 [00:47<05:51,  2.40it/s, 82, 82, 82, 82,82,100.00,100.00]"
     ]
    },
    {
     "name": "stderr",
     "output_type": "stream",
     "text": [
      "\r",
      "  9%|█▊                  | 82/926 [00:47<05:10,  2.72it/s, 82, 82, 82, 82,82,100.00,100.00]"
     ]
    },
    {
     "name": "stderr",
     "output_type": "stream",
     "text": [
      "\r",
      "  9%|█▊                  | 82/926 [00:47<05:10,  2.72it/s, 83, 83, 83, 83,83,100.00,100.00]"
     ]
    },
    {
     "name": "stderr",
     "output_type": "stream",
     "text": [
      "\r",
      "  9%|█▊                  | 83/926 [00:47<06:21,  2.21it/s, 83, 83, 83, 83,83,100.00,100.00]"
     ]
    },
    {
     "name": "stderr",
     "output_type": "stream",
     "text": [
      "\r",
      "  9%|█▊                  | 83/926 [00:47<06:21,  2.21it/s, 84, 84, 84, 84,84,100.00,100.00]"
     ]
    },
    {
     "name": "stderr",
     "output_type": "stream",
     "text": [
      "\r",
      "  9%|█▊                  | 84/926 [00:47<05:47,  2.42it/s, 84, 84, 84, 84,84,100.00,100.00]"
     ]
    },
    {
     "name": "stderr",
     "output_type": "stream",
     "text": [
      "\r",
      "  9%|█▊                  | 84/926 [00:48<05:47,  2.42it/s, 85, 85, 85, 85,85,100.00,100.00]"
     ]
    },
    {
     "name": "stderr",
     "output_type": "stream",
     "text": [
      "\r",
      "  9%|█▊                  | 85/926 [00:48<08:16,  1.69it/s, 85, 85, 85, 85,85,100.00,100.00]"
     ]
    },
    {
     "name": "stderr",
     "output_type": "stream",
     "text": [
      "\r",
      "  9%|█▊                  | 85/926 [00:49<08:16,  1.69it/s, 86, 86, 86, 86,86,100.00,100.00]"
     ]
    },
    {
     "name": "stderr",
     "output_type": "stream",
     "text": [
      "\r",
      "  9%|█▊                  | 86/926 [00:49<09:48,  1.43it/s, 86, 86, 86, 86,86,100.00,100.00]"
     ]
    },
    {
     "name": "stderr",
     "output_type": "stream",
     "text": [
      "\r",
      "  9%|█▊                  | 86/926 [00:50<09:48,  1.43it/s, 87, 87, 87, 87,87,100.00,100.00]"
     ]
    },
    {
     "name": "stderr",
     "output_type": "stream",
     "text": [
      "\r",
      "  9%|█▉                  | 87/926 [00:50<08:34,  1.63it/s, 87, 87, 87, 87,87,100.00,100.00]"
     ]
    },
    {
     "name": "stderr",
     "output_type": "stream",
     "text": [
      "\r",
      "  9%|█▉                  | 87/926 [00:51<08:34,  1.63it/s, 88, 88, 88, 88,88,100.00,100.00]"
     ]
    },
    {
     "name": "stderr",
     "output_type": "stream",
     "text": [
      "\r",
      " 10%|█▉                  | 88/926 [00:51<08:50,  1.58it/s, 88, 88, 88, 88,88,100.00,100.00]"
     ]
    },
    {
     "name": "stderr",
     "output_type": "stream",
     "text": [
      "\r",
      " 10%|█▉                  | 88/926 [00:51<08:50,  1.58it/s, 89, 89, 89, 89,89,100.00,100.00]"
     ]
    },
    {
     "name": "stderr",
     "output_type": "stream",
     "text": [
      "\r",
      " 10%|█▉                  | 89/926 [00:51<09:01,  1.55it/s, 89, 89, 89, 89,89,100.00,100.00]"
     ]
    },
    {
     "name": "stderr",
     "output_type": "stream",
     "text": [
      "\r",
      " 10%|█▉                  | 89/926 [00:52<09:01,  1.55it/s, 90, 90, 90, 90,90,100.00,100.00]"
     ]
    },
    {
     "name": "stderr",
     "output_type": "stream",
     "text": [
      "\r",
      " 10%|█▉                  | 90/926 [00:52<07:59,  1.75it/s, 90, 90, 90, 90,90,100.00,100.00]"
     ]
    },
    {
     "name": "stderr",
     "output_type": "stream",
     "text": [
      "\r",
      " 10%|█▉                  | 90/926 [00:52<07:59,  1.75it/s, 91, 91, 91, 91,91,100.00,100.00]"
     ]
    },
    {
     "name": "stderr",
     "output_type": "stream",
     "text": [
      "\r",
      " 10%|█▉                  | 91/926 [00:52<09:02,  1.54it/s, 91, 91, 91, 91,91,100.00,100.00]"
     ]
    },
    {
     "name": "stderr",
     "output_type": "stream",
     "text": [
      "\r",
      " 10%|█▉                  | 91/926 [00:53<09:02,  1.54it/s, 92, 92, 92, 92,92,100.00,100.00]"
     ]
    },
    {
     "name": "stderr",
     "output_type": "stream",
     "text": [
      "\r",
      " 10%|█▉                  | 92/926 [00:53<09:11,  1.51it/s, 92, 92, 92, 92,92,100.00,100.00]"
     ]
    },
    {
     "name": "stderr",
     "output_type": "stream",
     "text": [
      "\r",
      " 10%|█▉                  | 92/926 [00:54<09:11,  1.51it/s, 93, 93, 93, 93,93,100.00,100.00]"
     ]
    },
    {
     "name": "stderr",
     "output_type": "stream",
     "text": [
      "\r",
      " 10%|██                  | 93/926 [00:54<08:05,  1.71it/s, 93, 93, 93, 93,93,100.00,100.00]"
     ]
    },
    {
     "name": "stderr",
     "output_type": "stream",
     "text": [
      "\r",
      " 10%|██                  | 93/926 [00:54<08:05,  1.71it/s, 94, 94, 94, 94,94,100.00,100.00]"
     ]
    },
    {
     "name": "stderr",
     "output_type": "stream",
     "text": [
      "\r",
      " 10%|██                  | 94/926 [00:54<06:55,  2.00it/s, 94, 94, 94, 94,94,100.00,100.00]"
     ]
    },
    {
     "name": "stderr",
     "output_type": "stream",
     "text": [
      "\r",
      " 10%|██                  | 94/926 [00:54<06:55,  2.00it/s, 95, 95, 95, 95,95,100.00,100.00]"
     ]
    },
    {
     "name": "stderr",
     "output_type": "stream",
     "text": [
      "\r",
      " 10%|██                  | 95/926 [00:54<07:03,  1.96it/s, 95, 95, 95, 95,95,100.00,100.00]"
     ]
    },
    {
     "name": "stderr",
     "output_type": "stream",
     "text": [
      "\r",
      " 10%|██                  | 95/926 [00:55<07:03,  1.96it/s, 96, 96, 96, 96,96,100.00,100.00]"
     ]
    },
    {
     "name": "stderr",
     "output_type": "stream",
     "text": [
      "\r",
      " 10%|██                  | 96/926 [00:55<06:06,  2.26it/s, 96, 96, 96, 96,96,100.00,100.00]"
     ]
    },
    {
     "name": "stderr",
     "output_type": "stream",
     "text": [
      "\r",
      " 10%|██                  | 96/926 [00:55<06:06,  2.26it/s, 97, 97, 97, 97,97,100.00,100.00]"
     ]
    },
    {
     "name": "stderr",
     "output_type": "stream",
     "text": [
      "\r",
      " 10%|██                  | 97/926 [00:55<06:34,  2.10it/s, 97, 97, 97, 97,97,100.00,100.00]"
     ]
    },
    {
     "name": "stderr",
     "output_type": "stream",
     "text": [
      "\r",
      " 10%|██                  | 97/926 [00:55<06:34,  2.10it/s, 98, 98, 98, 98,98,100.00,100.00]"
     ]
    },
    {
     "name": "stderr",
     "output_type": "stream",
     "text": [
      "\r",
      " 11%|██                  | 98/926 [00:55<05:48,  2.37it/s, 98, 98, 98, 98,98,100.00,100.00]"
     ]
    },
    {
     "name": "stderr",
     "output_type": "stream",
     "text": [
      "\r",
      " 11%|██                  | 98/926 [00:56<05:48,  2.37it/s, 99, 99, 99, 99,99,100.00,100.00]"
     ]
    },
    {
     "name": "stderr",
     "output_type": "stream",
     "text": [
      "\r",
      " 11%|██▏                 | 99/926 [00:56<08:07,  1.70it/s, 99, 99, 99, 99,99,100.00,100.00]"
     ]
    },
    {
     "name": "stderr",
     "output_type": "stream",
     "text": [
      "\r",
      " 11%|█▌             | 99/926 [00:57<08:07,  1.70it/s, 100, 100, 100, 100,100,100.00,100.00]"
     ]
    },
    {
     "name": "stderr",
     "output_type": "stream",
     "text": [
      "\r",
      " 11%|█▌            | 100/926 [00:57<06:47,  2.03it/s, 100, 100, 100, 100,100,100.00,100.00]"
     ]
    },
    {
     "name": "stderr",
     "output_type": "stream",
     "text": [
      "\r",
      " 11%|█▌            | 100/926 [00:57<06:47,  2.03it/s, 101, 101, 101, 101,101,100.00,100.00]"
     ]
    },
    {
     "name": "stderr",
     "output_type": "stream",
     "text": [
      "\r",
      " 11%|█▌            | 101/926 [00:57<05:53,  2.33it/s, 101, 101, 101, 101,101,100.00,100.00]"
     ]
    },
    {
     "name": "stderr",
     "output_type": "stream",
     "text": [
      "\r",
      " 11%|█▌            | 101/926 [00:58<05:53,  2.33it/s, 102, 102, 102, 102,102,100.00,100.00]"
     ]
    },
    {
     "name": "stderr",
     "output_type": "stream",
     "text": [
      "\r",
      " 11%|█▌            | 102/926 [00:58<06:26,  2.13it/s, 102, 102, 102, 102,102,100.00,100.00]"
     ]
    },
    {
     "name": "stderr",
     "output_type": "stream",
     "text": [
      "\r",
      " 11%|█▌            | 102/926 [00:59<06:26,  2.13it/s, 103, 103, 103, 103,103,100.00,100.00]"
     ]
    },
    {
     "name": "stderr",
     "output_type": "stream",
     "text": [
      "\r",
      " 11%|█▌            | 103/926 [00:59<08:23,  1.63it/s, 103, 103, 103, 103,103,100.00,100.00]"
     ]
    },
    {
     "name": "stderr",
     "output_type": "stream",
     "text": [
      "\r",
      " 11%|█▌            | 103/926 [00:59<08:23,  1.63it/s, 104, 104, 104, 104,104,100.00,100.00]"
     ]
    },
    {
     "name": "stderr",
     "output_type": "stream",
     "text": [
      "\r",
      " 11%|█▌            | 104/926 [00:59<07:26,  1.84it/s, 104, 104, 104, 104,104,100.00,100.00]"
     ]
    },
    {
     "name": "stderr",
     "output_type": "stream",
     "text": [
      "\r",
      " 11%|█▌            | 104/926 [01:00<07:26,  1.84it/s, 105, 105, 105, 105,105,100.00,100.00]"
     ]
    },
    {
     "name": "stderr",
     "output_type": "stream",
     "text": [
      "\r",
      " 11%|█▌            | 105/926 [01:00<08:33,  1.60it/s, 105, 105, 105, 105,105,100.00,100.00]"
     ]
    },
    {
     "name": "stderr",
     "output_type": "stream",
     "text": [
      "\r",
      " 11%|█▌            | 105/926 [01:00<08:33,  1.60it/s, 106, 106, 106, 106,106,100.00,100.00]"
     ]
    },
    {
     "name": "stderr",
     "output_type": "stream",
     "text": [
      "\r",
      " 11%|█▌            | 106/926 [01:00<07:38,  1.79it/s, 106, 106, 106, 106,106,100.00,100.00]"
     ]
    },
    {
     "name": "stderr",
     "output_type": "stream",
     "text": [
      "\r",
      " 11%|█▌            | 106/926 [01:00<07:38,  1.79it/s, 107, 107, 107, 107,107,100.00,100.00]"
     ]
    },
    {
     "name": "stderr",
     "output_type": "stream",
     "text": [
      "\r",
      " 12%|█▌            | 107/926 [01:00<06:33,  2.08it/s, 107, 107, 107, 107,107,100.00,100.00]"
     ]
    },
    {
     "name": "stderr",
     "output_type": "stream",
     "text": [
      "\r",
      " 12%|█▌            | 107/926 [01:01<06:33,  2.08it/s, 108, 108, 108, 108,108,100.00,100.00]"
     ]
    },
    {
     "name": "stderr",
     "output_type": "stream",
     "text": [
      "\r",
      " 12%|█▋            | 108/926 [01:01<05:39,  2.41it/s, 108, 108, 108, 108,108,100.00,100.00]"
     ]
    },
    {
     "name": "stderr",
     "output_type": "stream",
     "text": [
      "\r",
      " 12%|█▋            | 108/926 [01:01<05:39,  2.41it/s, 109, 109, 109, 109,109,100.00,100.00]"
     ]
    },
    {
     "name": "stderr",
     "output_type": "stream",
     "text": [
      "\r",
      " 12%|█▋            | 109/926 [01:01<05:05,  2.68it/s, 109, 109, 109, 109,109,100.00,100.00]"
     ]
    },
    {
     "name": "stderr",
     "output_type": "stream",
     "text": [
      "\r",
      " 12%|█▋            | 109/926 [01:02<05:05,  2.68it/s, 110, 110, 110, 110,110,100.00,100.00]"
     ]
    },
    {
     "name": "stderr",
     "output_type": "stream",
     "text": [
      "\r",
      " 12%|█▋            | 110/926 [01:02<06:06,  2.22it/s, 110, 110, 110, 110,110,100.00,100.00]"
     ]
    },
    {
     "name": "stderr",
     "output_type": "stream",
     "text": [
      "\r",
      " 12%|█▋            | 110/926 [01:02<06:06,  2.22it/s, 111, 111, 111, 111,111,100.00,100.00]"
     ]
    },
    {
     "name": "stderr",
     "output_type": "stream",
     "text": [
      "\r",
      " 12%|█▋            | 111/926 [01:02<05:28,  2.48it/s, 111, 111, 111, 111,111,100.00,100.00]"
     ]
    },
    {
     "name": "stderr",
     "output_type": "stream",
     "text": [
      "\r",
      " 12%|█▋            | 111/926 [01:02<05:28,  2.48it/s, 112, 112, 112, 112,112,100.00,100.00]"
     ]
    },
    {
     "name": "stderr",
     "output_type": "stream",
     "text": [
      "\r",
      " 12%|█▋            | 112/926 [01:02<04:53,  2.77it/s, 112, 112, 112, 112,112,100.00,100.00]"
     ]
    },
    {
     "name": "stderr",
     "output_type": "stream",
     "text": [
      "\r",
      " 12%|█▋            | 112/926 [01:02<04:53,  2.77it/s, 113, 113, 113, 113,113,100.00,100.00]"
     ]
    },
    {
     "name": "stderr",
     "output_type": "stream",
     "text": [
      "\r",
      " 12%|█▋            | 113/926 [01:02<04:40,  2.90it/s, 113, 113, 113, 113,113,100.00,100.00]"
     ]
    },
    {
     "name": "stderr",
     "output_type": "stream",
     "text": [
      "\r",
      " 12%|█▋            | 113/926 [01:03<04:40,  2.90it/s, 114, 114, 114, 114,114,100.00,100.00]"
     ]
    },
    {
     "name": "stderr",
     "output_type": "stream",
     "text": [
      "\r",
      " 12%|█▋            | 114/926 [01:03<04:54,  2.76it/s, 114, 114, 114, 114,114,100.00,100.00]"
     ]
    },
    {
     "name": "stderr",
     "output_type": "stream",
     "text": [
      "\r",
      " 12%|█▋            | 114/926 [01:03<04:54,  2.76it/s, 115, 115, 115, 115,115,100.00,100.00]"
     ]
    },
    {
     "name": "stderr",
     "output_type": "stream",
     "text": [
      "\r",
      " 12%|█▋            | 115/926 [01:03<05:15,  2.57it/s, 115, 115, 115, 115,115,100.00,100.00]"
     ]
    },
    {
     "name": "stderr",
     "output_type": "stream",
     "text": [
      "\r",
      " 12%|█▋            | 115/926 [01:04<05:15,  2.57it/s, 116, 116, 116, 116,116,100.00,100.00]"
     ]
    },
    {
     "name": "stderr",
     "output_type": "stream",
     "text": [
      "\r",
      " 13%|█▊            | 116/926 [01:04<05:04,  2.66it/s, 116, 116, 116, 116,116,100.00,100.00]"
     ]
    },
    {
     "name": "stderr",
     "output_type": "stream",
     "text": [
      "\r",
      " 13%|█▊            | 116/926 [01:04<05:04,  2.66it/s, 117, 117, 117, 117,117,100.00,100.00]"
     ]
    },
    {
     "name": "stderr",
     "output_type": "stream",
     "text": [
      "\r",
      " 13%|█▊            | 117/926 [01:04<05:34,  2.42it/s, 117, 117, 117, 117,117,100.00,100.00]"
     ]
    },
    {
     "name": "stderr",
     "output_type": "stream",
     "text": [
      "\r",
      " 13%|█▊            | 117/926 [01:05<05:34,  2.42it/s, 118, 118, 118, 118,118,100.00,100.00]"
     ]
    },
    {
     "name": "stderr",
     "output_type": "stream",
     "text": [
      "\r",
      " 13%|█▊            | 118/926 [01:05<05:42,  2.36it/s, 118, 118, 118, 118,118,100.00,100.00]"
     ]
    },
    {
     "name": "stderr",
     "output_type": "stream",
     "text": [
      "\r",
      " 13%|██              | 118/926 [01:05<05:42,  2.36it/s, 118, 119, 119, 118,119,99.16,99.16]"
     ]
    },
    {
     "name": "stderr",
     "output_type": "stream",
     "text": [
      "\r",
      " 13%|██              | 119/926 [01:05<07:11,  1.87it/s, 118, 119, 119, 118,119,99.16,99.16]"
     ]
    },
    {
     "name": "stderr",
     "output_type": "stream",
     "text": [
      "\r",
      " 13%|██              | 119/926 [01:06<07:11,  1.87it/s, 119, 120, 120, 119,120,99.17,99.17]"
     ]
    },
    {
     "name": "stderr",
     "output_type": "stream",
     "text": [
      "\r",
      " 13%|██              | 120/926 [01:06<06:48,  1.97it/s, 119, 120, 120, 119,120,99.17,99.17]"
     ]
    },
    {
     "name": "stderr",
     "output_type": "stream",
     "text": [
      "\r",
      " 13%|██              | 120/926 [01:06<06:48,  1.97it/s, 120, 121, 121, 120,121,99.17,99.17]"
     ]
    },
    {
     "name": "stderr",
     "output_type": "stream",
     "text": [
      "\r",
      " 13%|██              | 121/926 [01:06<06:27,  2.08it/s, 120, 121, 121, 120,121,99.17,99.17]"
     ]
    },
    {
     "name": "stderr",
     "output_type": "stream",
     "text": [
      "\r",
      " 13%|██              | 121/926 [01:07<06:27,  2.08it/s, 121, 122, 122, 121,122,99.18,99.18]"
     ]
    },
    {
     "name": "stderr",
     "output_type": "stream",
     "text": [
      "\r",
      " 13%|██              | 122/926 [01:07<06:04,  2.21it/s, 121, 122, 122, 121,122,99.18,99.18]"
     ]
    },
    {
     "name": "stderr",
     "output_type": "stream",
     "text": [
      "\r",
      " 13%|██              | 122/926 [01:08<06:04,  2.21it/s, 122, 123, 123, 122,123,99.19,99.19]"
     ]
    },
    {
     "name": "stderr",
     "output_type": "stream",
     "text": [
      "\r",
      " 13%|██▏             | 123/926 [01:08<08:05,  1.66it/s, 122, 123, 123, 122,123,99.19,99.19]"
     ]
    },
    {
     "name": "stderr",
     "output_type": "stream",
     "text": [
      "\r",
      " 13%|██▏             | 123/926 [01:09<08:05,  1.66it/s, 123, 124, 124, 123,124,99.19,99.19]"
     ]
    },
    {
     "name": "stderr",
     "output_type": "stream",
     "text": [
      "\r",
      " 13%|██▏             | 124/926 [01:09<09:49,  1.36it/s, 123, 124, 124, 123,124,99.19,99.19]"
     ]
    },
    {
     "name": "stderr",
     "output_type": "stream",
     "text": [
      "\r",
      " 13%|██▏             | 124/926 [01:09<09:49,  1.36it/s, 124, 125, 125, 124,125,99.20,99.20]"
     ]
    },
    {
     "name": "stderr",
     "output_type": "stream",
     "text": [
      "\r",
      " 13%|██▏             | 125/926 [01:09<07:54,  1.69it/s, 124, 125, 125, 124,125,99.20,99.20]"
     ]
    },
    {
     "name": "stderr",
     "output_type": "stream",
     "text": [
      "\r",
      " 13%|██▏             | 125/926 [01:09<07:54,  1.69it/s, 125, 126, 126, 125,126,99.21,99.21]"
     ]
    },
    {
     "name": "stderr",
     "output_type": "stream",
     "text": [
      "\r",
      " 14%|██▏             | 126/926 [01:09<07:17,  1.83it/s, 125, 126, 126, 125,126,99.21,99.21]"
     ]
    },
    {
     "name": "stderr",
     "output_type": "stream",
     "text": [
      "\r",
      " 14%|██▏             | 126/926 [01:10<07:17,  1.83it/s, 126, 127, 127, 126,127,99.21,99.21]"
     ]
    },
    {
     "name": "stderr",
     "output_type": "stream",
     "text": [
      "\r",
      " 14%|██▏             | 127/926 [01:10<07:52,  1.69it/s, 126, 127, 127, 126,127,99.21,99.21]"
     ]
    },
    {
     "name": "stderr",
     "output_type": "stream",
     "text": [
      "\r",
      " 14%|██▏             | 127/926 [01:11<07:52,  1.69it/s, 127, 128, 128, 127,128,99.22,99.22]"
     ]
    },
    {
     "name": "stderr",
     "output_type": "stream",
     "text": [
      "\r",
      " 14%|██▏             | 128/926 [01:11<07:20,  1.81it/s, 127, 128, 128, 127,128,99.22,99.22]"
     ]
    },
    {
     "name": "stderr",
     "output_type": "stream",
     "text": [
      "\r",
      " 14%|██▏             | 128/926 [01:12<07:20,  1.81it/s, 128, 129, 129, 128,129,99.22,99.22]"
     ]
    },
    {
     "name": "stderr",
     "output_type": "stream",
     "text": [
      "\r",
      " 14%|██▏             | 129/926 [01:12<11:32,  1.15it/s, 128, 129, 129, 128,129,99.22,99.22]"
     ]
    },
    {
     "name": "stderr",
     "output_type": "stream",
     "text": [
      "\r",
      " 14%|██▏             | 129/926 [01:13<11:32,  1.15it/s, 129, 130, 130, 129,130,99.23,99.23]"
     ]
    },
    {
     "name": "stderr",
     "output_type": "stream",
     "text": [
      "\r",
      " 14%|██▏             | 130/926 [01:13<10:06,  1.31it/s, 129, 130, 130, 129,130,99.23,99.23]"
     ]
    },
    {
     "name": "stderr",
     "output_type": "stream",
     "text": [
      "\r",
      " 14%|██▏             | 130/926 [01:14<10:06,  1.31it/s, 130, 131, 131, 130,131,99.24,99.24]"
     ]
    },
    {
     "name": "stderr",
     "output_type": "stream",
     "text": [
      "\r",
      " 14%|██▎             | 131/926 [01:14<10:34,  1.25it/s, 130, 131, 131, 130,131,99.24,99.24]"
     ]
    },
    {
     "name": "stderr",
     "output_type": "stream",
     "text": [
      "\r",
      " 14%|██▎             | 131/926 [01:14<10:34,  1.25it/s, 131, 132, 132, 131,132,99.24,99.24]"
     ]
    },
    {
     "name": "stderr",
     "output_type": "stream",
     "text": [
      "\r",
      " 14%|██▎             | 132/926 [01:14<10:19,  1.28it/s, 131, 132, 132, 131,132,99.24,99.24]"
     ]
    },
    {
     "name": "stderr",
     "output_type": "stream",
     "text": [
      "\r",
      " 14%|██▎             | 132/926 [01:15<10:19,  1.28it/s, 132, 133, 133, 132,133,99.25,99.25]"
     ]
    },
    {
     "name": "stderr",
     "output_type": "stream",
     "text": [
      "\r",
      " 14%|██▎             | 133/926 [01:15<09:41,  1.36it/s, 132, 133, 133, 132,133,99.25,99.25]"
     ]
    },
    {
     "name": "stderr",
     "output_type": "stream",
     "text": [
      "\r",
      " 14%|██▎             | 133/926 [01:16<09:41,  1.36it/s, 133, 134, 134, 133,134,99.25,99.25]"
     ]
    },
    {
     "name": "stderr",
     "output_type": "stream",
     "text": [
      "\r",
      " 14%|██▎             | 134/926 [01:16<09:42,  1.36it/s, 133, 134, 134, 133,134,99.25,99.25]"
     ]
    },
    {
     "name": "stderr",
     "output_type": "stream",
     "text": [
      "\r",
      " 14%|██▎             | 134/926 [01:16<09:42,  1.36it/s, 134, 135, 135, 134,135,99.26,99.26]"
     ]
    },
    {
     "name": "stderr",
     "output_type": "stream",
     "text": [
      "\r",
      " 15%|██▎             | 135/926 [01:16<09:38,  1.37it/s, 134, 135, 135, 134,135,99.26,99.26]"
     ]
    },
    {
     "name": "stderr",
     "output_type": "stream",
     "text": [
      "\r",
      " 15%|██▎             | 135/926 [01:17<09:38,  1.37it/s, 135, 136, 136, 135,136,99.26,99.26]"
     ]
    },
    {
     "name": "stderr",
     "output_type": "stream",
     "text": [
      "\r",
      " 15%|██▎             | 136/926 [01:17<09:36,  1.37it/s, 135, 136, 136, 135,136,99.26,99.26]"
     ]
    },
    {
     "name": "stderr",
     "output_type": "stream",
     "text": [
      "\r",
      " 15%|██▎             | 136/926 [01:18<09:36,  1.37it/s, 136, 137, 137, 136,137,99.27,99.27]"
     ]
    },
    {
     "name": "stderr",
     "output_type": "stream",
     "text": [
      "\r",
      " 15%|██▎             | 137/926 [01:18<09:07,  1.44it/s, 136, 137, 137, 136,137,99.27,99.27]"
     ]
    },
    {
     "name": "stderr",
     "output_type": "stream",
     "text": [
      "\r",
      " 15%|██▎             | 137/926 [01:18<09:07,  1.44it/s, 137, 138, 138, 137,138,99.28,99.28]"
     ]
    },
    {
     "name": "stderr",
     "output_type": "stream",
     "text": [
      "\r",
      " 15%|██▍             | 138/926 [01:18<08:46,  1.50it/s, 137, 138, 138, 137,138,99.28,99.28]"
     ]
    },
    {
     "name": "stderr",
     "output_type": "stream",
     "text": [
      "\r",
      " 15%|██▍             | 138/926 [01:19<08:46,  1.50it/s, 138, 139, 139, 138,139,99.28,99.28]"
     ]
    },
    {
     "name": "stderr",
     "output_type": "stream",
     "text": [
      "\r",
      " 15%|██▍             | 139/926 [01:19<08:31,  1.54it/s, 138, 139, 139, 138,139,99.28,99.28]"
     ]
    },
    {
     "name": "stderr",
     "output_type": "stream",
     "text": [
      "\r",
      " 15%|██▍             | 139/926 [01:19<08:31,  1.54it/s, 139, 140, 140, 139,140,99.29,99.29]"
     ]
    },
    {
     "name": "stderr",
     "output_type": "stream",
     "text": [
      "\r",
      " 15%|██▍             | 140/926 [01:19<07:22,  1.78it/s, 139, 140, 140, 139,140,99.29,99.29]"
     ]
    },
    {
     "name": "stderr",
     "output_type": "stream",
     "text": [
      "\r",
      " 15%|██▍             | 140/926 [01:19<07:22,  1.78it/s, 140, 141, 141, 140,141,99.29,99.29]"
     ]
    },
    {
     "name": "stderr",
     "output_type": "stream",
     "text": [
      "\r",
      " 15%|██▍             | 141/926 [01:19<06:07,  2.14it/s, 140, 141, 141, 140,141,99.29,99.29]"
     ]
    },
    {
     "name": "stderr",
     "output_type": "stream",
     "text": [
      "\r",
      " 15%|██▍             | 141/926 [01:20<06:07,  2.14it/s, 141, 142, 142, 141,142,99.30,99.30]"
     ]
    },
    {
     "name": "stderr",
     "output_type": "stream",
     "text": [
      "\r",
      " 15%|██▍             | 142/926 [01:20<05:14,  2.49it/s, 141, 142, 142, 141,142,99.30,99.30]"
     ]
    },
    {
     "name": "stderr",
     "output_type": "stream",
     "text": [
      "\r",
      " 15%|██▍             | 142/926 [01:20<05:14,  2.49it/s, 142, 143, 143, 142,143,99.30,99.30]"
     ]
    },
    {
     "name": "stderr",
     "output_type": "stream",
     "text": [
      "\r",
      " 15%|██▍             | 143/926 [01:20<06:30,  2.01it/s, 142, 143, 143, 142,143,99.30,99.30]"
     ]
    },
    {
     "name": "stderr",
     "output_type": "stream",
     "text": [
      "\r",
      " 15%|██▍             | 143/926 [01:21<06:30,  2.01it/s, 143, 144, 144, 143,144,99.31,99.31]"
     ]
    },
    {
     "name": "stderr",
     "output_type": "stream",
     "text": [
      "\r",
      " 16%|██▍             | 144/926 [01:21<06:25,  2.03it/s, 143, 144, 144, 143,144,99.31,99.31]"
     ]
    },
    {
     "name": "stderr",
     "output_type": "stream",
     "text": [
      "\r",
      " 16%|██▍             | 144/926 [01:21<06:25,  2.03it/s, 144, 145, 145, 144,145,99.31,99.31]"
     ]
    },
    {
     "name": "stderr",
     "output_type": "stream",
     "text": [
      "\r",
      " 16%|██▌             | 145/926 [01:21<05:55,  2.19it/s, 144, 145, 145, 144,145,99.31,99.31]"
     ]
    },
    {
     "name": "stderr",
     "output_type": "stream",
     "text": [
      "\r",
      " 16%|██▌             | 145/926 [01:22<05:55,  2.19it/s, 145, 146, 146, 145,146,99.32,99.32]"
     ]
    },
    {
     "name": "stderr",
     "output_type": "stream",
     "text": [
      "\r",
      " 16%|██▌             | 146/926 [01:22<06:03,  2.15it/s, 145, 146, 146, 145,146,99.32,99.32]"
     ]
    },
    {
     "name": "stderr",
     "output_type": "stream",
     "text": [
      "\r",
      " 16%|██▌             | 146/926 [01:22<06:03,  2.15it/s, 146, 147, 147, 146,147,99.32,99.32]"
     ]
    },
    {
     "name": "stderr",
     "output_type": "stream",
     "text": [
      "\r",
      " 16%|██▌             | 147/926 [01:22<06:07,  2.12it/s, 146, 147, 147, 146,147,99.32,99.32]"
     ]
    },
    {
     "name": "stderr",
     "output_type": "stream",
     "text": [
      "\r",
      " 16%|██▌             | 147/926 [01:23<06:07,  2.12it/s, 147, 148, 148, 147,148,99.32,99.32]"
     ]
    },
    {
     "name": "stderr",
     "output_type": "stream",
     "text": [
      "\r",
      " 16%|██▌             | 148/926 [01:23<05:13,  2.48it/s, 147, 148, 148, 147,148,99.32,99.32]"
     ]
    },
    {
     "name": "stderr",
     "output_type": "stream",
     "text": [
      "\r",
      " 16%|██▌             | 148/926 [01:23<05:13,  2.48it/s, 148, 149, 149, 148,149,99.33,99.33]"
     ]
    },
    {
     "name": "stderr",
     "output_type": "stream",
     "text": [
      "\r",
      " 16%|██▌             | 149/926 [01:23<05:26,  2.38it/s, 148, 149, 149, 148,149,99.33,99.33]"
     ]
    },
    {
     "name": "stderr",
     "output_type": "stream",
     "text": [
      "\r",
      " 16%|██▌             | 149/926 [01:24<05:26,  2.38it/s, 149, 150, 150, 149,150,99.33,99.33]"
     ]
    },
    {
     "name": "stderr",
     "output_type": "stream",
     "text": [
      "\r",
      " 16%|██▌             | 150/926 [01:24<06:28,  2.00it/s, 149, 150, 150, 149,150,99.33,99.33]"
     ]
    },
    {
     "name": "stderr",
     "output_type": "stream",
     "text": [
      "\r",
      " 16%|██▌             | 150/926 [01:25<06:28,  2.00it/s, 150, 151, 151, 150,151,99.34,99.34]"
     ]
    },
    {
     "name": "stderr",
     "output_type": "stream",
     "text": [
      "\r",
      " 16%|██▌             | 151/926 [01:25<08:02,  1.60it/s, 150, 151, 151, 150,151,99.34,99.34]"
     ]
    },
    {
     "name": "stderr",
     "output_type": "stream",
     "text": [
      "\r",
      " 16%|██▌             | 151/926 [01:25<08:02,  1.60it/s, 151, 152, 152, 151,152,99.34,99.34]"
     ]
    },
    {
     "name": "stderr",
     "output_type": "stream",
     "text": [
      "\r",
      " 16%|██▋             | 152/926 [01:25<07:24,  1.74it/s, 151, 152, 152, 151,152,99.34,99.34]"
     ]
    },
    {
     "name": "stderr",
     "output_type": "stream",
     "text": [
      "\r",
      " 16%|██▋             | 152/926 [01:27<07:24,  1.74it/s, 152, 153, 153, 152,153,99.35,99.35]"
     ]
    },
    {
     "name": "stderr",
     "output_type": "stream",
     "text": [
      "\r",
      " 17%|██▋             | 153/926 [01:27<11:26,  1.13it/s, 152, 153, 153, 152,153,99.35,99.35]"
     ]
    },
    {
     "name": "stderr",
     "output_type": "stream",
     "text": [
      "\r",
      " 17%|██▋             | 153/926 [01:27<11:26,  1.13it/s, 153, 154, 154, 153,154,99.35,99.35]"
     ]
    },
    {
     "name": "stderr",
     "output_type": "stream",
     "text": [
      "\r",
      " 17%|██▋             | 154/926 [01:27<10:39,  1.21it/s, 153, 154, 154, 153,154,99.35,99.35]"
     ]
    },
    {
     "name": "stderr",
     "output_type": "stream",
     "text": [
      "\r",
      " 17%|██▋             | 154/926 [01:29<10:39,  1.21it/s, 154, 155, 155, 154,155,99.35,99.35]"
     ]
    },
    {
     "name": "stderr",
     "output_type": "stream",
     "text": [
      "\r",
      " 17%|██▋             | 155/926 [01:29<13:40,  1.06s/it, 154, 155, 155, 154,155,99.35,99.35]"
     ]
    },
    {
     "name": "stderr",
     "output_type": "stream",
     "text": [
      "\r",
      " 17%|██▋             | 155/926 [01:30<13:40,  1.06s/it, 155, 156, 156, 155,156,99.36,99.36]"
     ]
    },
    {
     "name": "stderr",
     "output_type": "stream",
     "text": [
      "\r",
      " 17%|██▋             | 156/926 [01:30<14:54,  1.16s/it, 155, 156, 156, 155,156,99.36,99.36]"
     ]
    },
    {
     "name": "stderr",
     "output_type": "stream",
     "text": [
      "\r",
      " 17%|██▋             | 156/926 [01:32<14:54,  1.16s/it, 156, 157, 157, 156,157,99.36,99.36]"
     ]
    },
    {
     "name": "stderr",
     "output_type": "stream",
     "text": [
      "\r",
      " 17%|██▋             | 157/926 [01:32<14:51,  1.16s/it, 156, 157, 157, 156,157,99.36,99.36]"
     ]
    },
    {
     "name": "stderr",
     "output_type": "stream",
     "text": [
      "\r",
      " 17%|██▋             | 157/926 [01:33<14:51,  1.16s/it, 157, 158, 158, 157,158,99.37,99.37]"
     ]
    },
    {
     "name": "stderr",
     "output_type": "stream",
     "text": [
      "\r",
      " 17%|██▋             | 158/926 [01:33<15:44,  1.23s/it, 157, 158, 158, 157,158,99.37,99.37]"
     ]
    },
    {
     "name": "stderr",
     "output_type": "stream",
     "text": [
      "\r",
      " 17%|██▋             | 158/926 [01:34<15:44,  1.23s/it, 158, 159, 159, 158,159,99.37,99.37]"
     ]
    },
    {
     "name": "stderr",
     "output_type": "stream",
     "text": [
      "\r",
      " 17%|██▋             | 159/926 [01:34<14:29,  1.13s/it, 158, 159, 159, 158,159,99.37,99.37]"
     ]
    },
    {
     "name": "stderr",
     "output_type": "stream",
     "text": [
      "\r",
      " 17%|██▋             | 159/926 [01:34<14:29,  1.13s/it, 159, 160, 160, 159,160,99.38,99.38]"
     ]
    },
    {
     "name": "stderr",
     "output_type": "stream",
     "text": [
      "\r",
      " 17%|██▊             | 160/926 [01:34<11:52,  1.08it/s, 159, 160, 160, 159,160,99.38,99.38]"
     ]
    },
    {
     "name": "stderr",
     "output_type": "stream",
     "text": [
      "\r",
      " 17%|██▊             | 160/926 [01:35<11:52,  1.08it/s, 160, 161, 161, 160,161,99.38,99.38]"
     ]
    },
    {
     "name": "stderr",
     "output_type": "stream",
     "text": [
      "\r",
      " 17%|██▊             | 161/926 [01:35<12:45,  1.00s/it, 160, 161, 161, 160,161,99.38,99.38]"
     ]
    },
    {
     "name": "stderr",
     "output_type": "stream",
     "text": [
      "\r",
      " 17%|██▊             | 161/926 [01:36<12:45,  1.00s/it, 161, 162, 162, 161,162,99.38,99.38]"
     ]
    },
    {
     "name": "stderr",
     "output_type": "stream",
     "text": [
      "\r",
      " 17%|██▊             | 162/926 [01:36<12:23,  1.03it/s, 161, 162, 162, 161,162,99.38,99.38]"
     ]
    },
    {
     "name": "stderr",
     "output_type": "stream",
     "text": [
      "\r",
      " 17%|██▊             | 162/926 [01:38<12:23,  1.03it/s, 162, 163, 163, 162,163,99.39,99.39]"
     ]
    },
    {
     "name": "stderr",
     "output_type": "stream",
     "text": [
      "\r",
      " 18%|██▊             | 163/926 [01:38<13:55,  1.10s/it, 162, 163, 163, 162,163,99.39,99.39]"
     ]
    },
    {
     "name": "stderr",
     "output_type": "stream",
     "text": [
      "\r",
      " 18%|██▊             | 163/926 [01:38<13:55,  1.10s/it, 163, 164, 164, 163,164,99.39,99.39]"
     ]
    },
    {
     "name": "stderr",
     "output_type": "stream",
     "text": [
      "\r",
      " 18%|██▊             | 164/926 [01:38<11:19,  1.12it/s, 163, 164, 164, 163,164,99.39,99.39]"
     ]
    },
    {
     "name": "stderr",
     "output_type": "stream",
     "text": [
      "\r",
      " 18%|██▊             | 164/926 [01:39<11:19,  1.12it/s, 164, 165, 165, 164,165,99.39,99.39]"
     ]
    },
    {
     "name": "stderr",
     "output_type": "stream",
     "text": [
      "\r",
      " 18%|██▊             | 165/926 [01:39<09:45,  1.30it/s, 164, 165, 165, 164,165,99.39,99.39]"
     ]
    },
    {
     "name": "stderr",
     "output_type": "stream",
     "text": [
      "\r",
      " 18%|██▊             | 165/926 [01:39<09:45,  1.30it/s, 165, 166, 166, 165,166,99.40,99.40]"
     ]
    },
    {
     "name": "stderr",
     "output_type": "stream",
     "text": [
      "\r",
      " 18%|██▊             | 166/926 [01:39<09:13,  1.37it/s, 165, 166, 166, 165,166,99.40,99.40]"
     ]
    },
    {
     "name": "stderr",
     "output_type": "stream",
     "text": [
      "\r",
      " 18%|██▊             | 166/926 [01:41<09:13,  1.37it/s, 166, 167, 167, 166,167,99.40,99.40]"
     ]
    },
    {
     "name": "stderr",
     "output_type": "stream",
     "text": [
      "\r",
      " 18%|██▉             | 167/926 [01:41<12:37,  1.00it/s, 166, 167, 167, 166,167,99.40,99.40]"
     ]
    },
    {
     "name": "stderr",
     "output_type": "stream",
     "text": [
      "\r",
      " 18%|██▉             | 167/926 [01:41<12:37,  1.00it/s, 167, 168, 168, 167,168,99.40,99.40]"
     ]
    },
    {
     "name": "stderr",
     "output_type": "stream",
     "text": [
      "\r",
      " 18%|██▉             | 168/926 [01:41<10:35,  1.19it/s, 167, 168, 168, 167,168,99.40,99.40]"
     ]
    },
    {
     "name": "stderr",
     "output_type": "stream",
     "text": [
      "\r",
      " 18%|██▉             | 168/926 [01:43<10:35,  1.19it/s, 168, 169, 169, 168,169,99.41,99.41]"
     ]
    },
    {
     "name": "stderr",
     "output_type": "stream",
     "text": [
      "\r",
      " 18%|██▉             | 169/926 [01:43<13:39,  1.08s/it, 168, 169, 169, 168,169,99.41,99.41]"
     ]
    },
    {
     "name": "stderr",
     "output_type": "stream",
     "text": [
      "\r",
      " 18%|██▉             | 169/926 [01:44<13:39,  1.08s/it, 169, 170, 170, 169,170,99.41,99.41]"
     ]
    },
    {
     "name": "stderr",
     "output_type": "stream",
     "text": [
      "\r",
      " 18%|██▉             | 170/926 [01:44<13:02,  1.03s/it, 169, 170, 170, 169,170,99.41,99.41]"
     ]
    },
    {
     "name": "stderr",
     "output_type": "stream",
     "text": [
      "\r",
      " 18%|██▉             | 170/926 [01:45<13:02,  1.03s/it, 170, 171, 171, 170,171,99.42,99.42]"
     ]
    },
    {
     "name": "stderr",
     "output_type": "stream",
     "text": [
      "\r",
      " 18%|██▉             | 171/926 [01:45<12:39,  1.01s/it, 170, 171, 171, 170,171,99.42,99.42]"
     ]
    },
    {
     "name": "stderr",
     "output_type": "stream",
     "text": [
      "\r",
      " 18%|██▉             | 171/926 [01:46<12:39,  1.01s/it, 171, 172, 172, 171,172,99.42,99.42]"
     ]
    },
    {
     "name": "stderr",
     "output_type": "stream",
     "text": [
      "\r",
      " 19%|██▉             | 172/926 [01:46<12:21,  1.02it/s, 171, 172, 172, 171,172,99.42,99.42]"
     ]
    },
    {
     "name": "stderr",
     "output_type": "stream",
     "text": [
      "\r",
      " 19%|██▉             | 172/926 [01:48<12:21,  1.02it/s, 172, 173, 173, 172,173,99.42,99.42]"
     ]
    },
    {
     "name": "stderr",
     "output_type": "stream",
     "text": [
      "\r",
      " 19%|██▉             | 173/926 [01:48<15:37,  1.24s/it, 172, 173, 173, 172,173,99.42,99.42]"
     ]
    },
    {
     "name": "stderr",
     "output_type": "stream",
     "text": [
      "\r",
      " 19%|██▉             | 173/926 [01:48<15:37,  1.24s/it, 173, 174, 174, 173,174,99.43,99.43]"
     ]
    },
    {
     "name": "stderr",
     "output_type": "stream",
     "text": [
      "\r",
      " 19%|███             | 174/926 [01:48<13:33,  1.08s/it, 173, 174, 174, 173,174,99.43,99.43]"
     ]
    },
    {
     "name": "stderr",
     "output_type": "stream",
     "text": [
      "\r",
      " 19%|███             | 174/926 [01:50<13:33,  1.08s/it, 174, 175, 175, 174,175,99.43,99.43]"
     ]
    },
    {
     "name": "stderr",
     "output_type": "stream",
     "text": [
      "\r",
      " 19%|███             | 175/926 [01:50<13:47,  1.10s/it, 174, 175, 175, 174,175,99.43,99.43]"
     ]
    },
    {
     "name": "stderr",
     "output_type": "stream",
     "text": [
      "\r",
      " 19%|███             | 175/926 [01:51<13:47,  1.10s/it, 175, 176, 176, 175,176,99.43,99.43]"
     ]
    },
    {
     "name": "stderr",
     "output_type": "stream",
     "text": [
      "\r",
      " 19%|███             | 176/926 [01:51<15:41,  1.25s/it, 175, 176, 176, 175,176,99.43,99.43]"
     ]
    },
    {
     "name": "stderr",
     "output_type": "stream",
     "text": [
      "\r",
      " 19%|███             | 176/926 [01:53<15:41,  1.25s/it, 176, 177, 177, 176,177,99.44,99.44]"
     ]
    },
    {
     "name": "stderr",
     "output_type": "stream",
     "text": [
      "\r",
      " 19%|███             | 177/926 [01:53<17:05,  1.37s/it, 176, 177, 177, 176,177,99.44,99.44]"
     ]
    },
    {
     "name": "stderr",
     "output_type": "stream",
     "text": [
      "\r",
      " 19%|███             | 177/926 [01:54<17:05,  1.37s/it, 177, 178, 178, 177,178,99.44,99.44]"
     ]
    },
    {
     "name": "stderr",
     "output_type": "stream",
     "text": [
      "\r",
      " 19%|███             | 178/926 [01:54<16:13,  1.30s/it, 177, 178, 178, 177,178,99.44,99.44]"
     ]
    },
    {
     "name": "stderr",
     "output_type": "stream",
     "text": [
      "\r",
      " 19%|███             | 178/926 [01:56<16:13,  1.30s/it, 178, 179, 179, 178,179,99.44,99.44]"
     ]
    },
    {
     "name": "stderr",
     "output_type": "stream",
     "text": [
      "\r",
      " 19%|███             | 179/926 [01:56<17:22,  1.40s/it, 178, 179, 179, 178,179,99.44,99.44]"
     ]
    },
    {
     "name": "stderr",
     "output_type": "stream",
     "text": [
      "\r",
      " 19%|███             | 179/926 [01:57<17:22,  1.40s/it, 179, 180, 180, 179,180,99.44,99.44]"
     ]
    },
    {
     "name": "stderr",
     "output_type": "stream",
     "text": [
      "\r",
      " 19%|███             | 180/926 [01:57<16:25,  1.32s/it, 179, 180, 180, 179,180,99.44,99.44]"
     ]
    },
    {
     "name": "stderr",
     "output_type": "stream",
     "text": [
      "\r",
      " 19%|███             | 180/926 [01:57<16:25,  1.32s/it, 180, 181, 181, 180,181,99.45,99.45]"
     ]
    },
    {
     "name": "stderr",
     "output_type": "stream",
     "text": [
      "\r",
      " 20%|███▏            | 181/926 [01:57<13:10,  1.06s/it, 180, 181, 181, 180,181,99.45,99.45]"
     ]
    },
    {
     "name": "stderr",
     "output_type": "stream",
     "text": [
      "\r",
      " 20%|███▏            | 181/926 [01:58<13:10,  1.06s/it, 181, 182, 182, 181,182,99.45,99.45]"
     ]
    },
    {
     "name": "stderr",
     "output_type": "stream",
     "text": [
      "\r",
      " 20%|███▏            | 182/926 [01:58<10:55,  1.14it/s, 181, 182, 182, 181,182,99.45,99.45]"
     ]
    },
    {
     "name": "stderr",
     "output_type": "stream",
     "text": [
      "\r",
      " 20%|███▏            | 182/926 [01:58<10:55,  1.14it/s, 182, 183, 183, 182,183,99.45,99.45]"
     ]
    },
    {
     "name": "stderr",
     "output_type": "stream",
     "text": [
      "\r",
      " 20%|███▏            | 183/926 [01:58<10:38,  1.16it/s, 182, 183, 183, 182,183,99.45,99.45]"
     ]
    },
    {
     "name": "stderr",
     "output_type": "stream",
     "text": [
      "\r",
      " 20%|███▏            | 183/926 [01:59<10:38,  1.16it/s, 183, 184, 184, 183,184,99.46,99.46]"
     ]
    },
    {
     "name": "stderr",
     "output_type": "stream",
     "text": [
      "\r",
      " 20%|███▏            | 184/926 [01:59<08:24,  1.47it/s, 183, 184, 184, 183,184,99.46,99.46]"
     ]
    },
    {
     "name": "stderr",
     "output_type": "stream",
     "text": [
      "\r",
      " 20%|███▏            | 184/926 [01:59<08:24,  1.47it/s, 183, 184, 184, 184,185,98.92,99.46]"
     ]
    },
    {
     "name": "stderr",
     "output_type": "stream",
     "text": [
      "\r",
      " 20%|███▏            | 185/926 [01:59<06:50,  1.81it/s, 183, 184, 184, 184,185,98.92,99.46]"
     ]
    },
    {
     "name": "stderr",
     "output_type": "stream",
     "text": [
      "\r",
      " 20%|███▏            | 185/926 [01:59<06:50,  1.81it/s, 184, 185, 185, 185,186,98.92,99.46]"
     ]
    },
    {
     "name": "stderr",
     "output_type": "stream",
     "text": [
      "\r",
      " 20%|███▏            | 186/926 [01:59<06:12,  1.99it/s, 184, 185, 185, 185,186,98.92,99.46]"
     ]
    },
    {
     "name": "stderr",
     "output_type": "stream",
     "text": [
      "\r",
      " 20%|███▏            | 186/926 [02:00<06:12,  1.99it/s, 185, 186, 186, 186,187,98.93,99.47]"
     ]
    },
    {
     "name": "stderr",
     "output_type": "stream",
     "text": [
      "\r",
      " 20%|███▏            | 187/926 [02:00<05:47,  2.13it/s, 185, 186, 186, 186,187,98.93,99.47]"
     ]
    },
    {
     "name": "stderr",
     "output_type": "stream",
     "text": [
      "\r",
      " 20%|███▏            | 187/926 [02:00<05:47,  2.13it/s, 186, 187, 187, 187,188,98.94,99.47]"
     ]
    },
    {
     "name": "stderr",
     "output_type": "stream",
     "text": [
      "\r",
      " 20%|███▏            | 188/926 [02:00<05:58,  2.06it/s, 186, 187, 187, 187,188,98.94,99.47]"
     ]
    },
    {
     "name": "stderr",
     "output_type": "stream",
     "text": [
      "\r",
      " 20%|███▏            | 188/926 [02:01<07:55,  1.55it/s, 186, 187, 187, 187,188,98.94,99.47]"
     ]
    },
    {
     "name": "stderr",
     "output_type": "stream",
     "text": [
      "\n"
     ]
    },
    {
     "ename": "KeyboardInterrupt",
     "evalue": "",
     "output_type": "error",
     "traceback": [
      "\u001b[0;31m---------------------------------------------------------------------------\u001b[0m",
      "\u001b[0;31mKeyboardInterrupt\u001b[0m                         Traceback (most recent call last)",
      "\u001b[0;32m/tmp/ipykernel_2286953/1718971589.py\u001b[0m in \u001b[0;36m<module>\u001b[0;34m\u001b[0m\n\u001b[1;32m     37\u001b[0m             \u001b[0mpbar\u001b[0m\u001b[0;34m.\u001b[0m\u001b[0mset_description_str\u001b[0m\u001b[0;34m(\u001b[0m\u001b[0;34mf\"Loss: {loss_running_score:.3f}\"\u001b[0m\u001b[0;34m)\u001b[0m\u001b[0;34m\u001b[0m\u001b[0;34m\u001b[0m\u001b[0m\n\u001b[1;32m     38\u001b[0m             \u001b[0mpbar\u001b[0m\u001b[0;34m.\u001b[0m\u001b[0mset_postfix_str\u001b[0m\u001b[0;34m(\u001b[0m\u001b[0mextra_info\u001b[0m\u001b[0;34m)\u001b[0m\u001b[0;34m\u001b[0m\u001b[0;34m\u001b[0m\u001b[0m\n\u001b[0;32m---> 39\u001b[0;31m     \u001b[0mevaluate\u001b[0m\u001b[0;34m(\u001b[0m\u001b[0;34m)\u001b[0m\u001b[0;34m\u001b[0m\u001b[0;34m\u001b[0m\u001b[0m\n\u001b[0m\u001b[1;32m     40\u001b[0m     \u001b[0;31m# before_lr = optimizer.param_groups[0][\"lr\"]\u001b[0m\u001b[0;34m\u001b[0m\u001b[0;34m\u001b[0m\u001b[0m\n\u001b[1;32m     41\u001b[0m     \u001b[0;31m# after_lr = optimizer.param_groups[0][\"lr\"]\u001b[0m\u001b[0;34m\u001b[0m\u001b[0;34m\u001b[0m\u001b[0m\n",
      "\u001b[0;32m/tmp/ipykernel_2286953/3009152980.py\u001b[0m in \u001b[0;36mevaluate\u001b[0;34m()\u001b[0m\n\u001b[1;32m     33\u001b[0m             \u001b[0mkey\u001b[0m \u001b[0;34m=\u001b[0m \u001b[0mdata\u001b[0m\u001b[0;34m[\u001b[0m\u001b[0mques\u001b[0m\u001b[0;34m]\u001b[0m\u001b[0;34m[\u001b[0m\u001b[0;36m1\u001b[0m\u001b[0;34m]\u001b[0m\u001b[0;34m\u001b[0m\u001b[0;34m\u001b[0m\u001b[0m\n\u001b[1;32m     34\u001b[0m             \u001b[0mtotal\u001b[0m \u001b[0;34m+=\u001b[0m \u001b[0;36m1\u001b[0m\u001b[0;34m\u001b[0m\u001b[0;34m\u001b[0m\u001b[0m\n\u001b[0;32m---> 35\u001b[0;31m             \u001b[0manswer\u001b[0m \u001b[0;34m=\u001b[0m \u001b[0mrun_model\u001b[0m\u001b[0;34m(\u001b[0m\u001b[0mquestion\u001b[0m\u001b[0;34m)\u001b[0m\u001b[0;34m[\u001b[0m\u001b[0;36m0\u001b[0m\u001b[0;34m]\u001b[0m\u001b[0;34m\u001b[0m\u001b[0;34m\u001b[0m\u001b[0m\n\u001b[0m\u001b[1;32m     36\u001b[0m             \u001b[0manswers\u001b[0m\u001b[0;34m[\u001b[0m\u001b[0mix\u001b[0m\u001b[0;34m]\u001b[0m\u001b[0;34m.\u001b[0m\u001b[0mappend\u001b[0m\u001b[0;34m(\u001b[0m\u001b[0manswer\u001b[0m\u001b[0;34m)\u001b[0m\u001b[0;34m\u001b[0m\u001b[0;34m\u001b[0m\u001b[0m\n\u001b[1;32m     37\u001b[0m             \u001b[0;32mif\u001b[0m \u001b[0mkey\u001b[0m \u001b[0;34m==\u001b[0m \u001b[0manswer\u001b[0m\u001b[0;34m:\u001b[0m\u001b[0;34m\u001b[0m\u001b[0;34m\u001b[0m\u001b[0m\n",
      "\u001b[0;32m/tmp/ipykernel_2286953/4271837176.py\u001b[0m in \u001b[0;36mrun_model\u001b[0;34m(input_strs)\u001b[0m\n\u001b[1;32m     47\u001b[0m         input_strs, padding=True, return_tensors='pt')\n\u001b[1;32m     48\u001b[0m \u001b[0;34m\u001b[0m\u001b[0m\n\u001b[0;32m---> 49\u001b[0;31m     answer = get_model_forward(input_ids_wrapper['input_ids'],\n\u001b[0m\u001b[1;32m     50\u001b[0m                                input_ids_wrapper['attention_mask'])\n\u001b[1;32m     51\u001b[0m     \u001b[0;32mreturn\u001b[0m \u001b[0manswer\u001b[0m\u001b[0;34m\u001b[0m\u001b[0;34m\u001b[0m\u001b[0m\n",
      "\u001b[0;32m/tmp/ipykernel_2286953/4271837176.py\u001b[0m in \u001b[0;36mget_model_forward\u001b[0;34m(input_ids, attention_mask, model)\u001b[0m\n\u001b[1;32m     17\u001b[0m         \u001b[0;32mfor\u001b[0m \u001b[0mk\u001b[0m \u001b[0;32min\u001b[0m \u001b[0mrange\u001b[0m\u001b[0;34m(\u001b[0m\u001b[0mmax_answer_length\u001b[0m\u001b[0;34m)\u001b[0m\u001b[0;34m:\u001b[0m\u001b[0;34m\u001b[0m\u001b[0;34m\u001b[0m\u001b[0m\n\u001b[1;32m     18\u001b[0m             \u001b[0;31m# print(torch.tensor(start).shape)\u001b[0m\u001b[0;34m\u001b[0m\u001b[0;34m\u001b[0m\u001b[0m\n\u001b[0;32m---> 19\u001b[0;31m             result = model(\n\u001b[0m\u001b[1;32m     20\u001b[0m                 \u001b[0minput_ids\u001b[0m\u001b[0;34m=\u001b[0m\u001b[0minput_ids\u001b[0m\u001b[0;34m.\u001b[0m\u001b[0mto\u001b[0m\u001b[0;34m(\u001b[0m\u001b[0mDEVICE\u001b[0m\u001b[0;34m)\u001b[0m\u001b[0;34m,\u001b[0m\u001b[0;34m\u001b[0m\u001b[0;34m\u001b[0m\u001b[0m\n\u001b[1;32m     21\u001b[0m                 \u001b[0mattention_mask\u001b[0m\u001b[0;34m=\u001b[0m\u001b[0mattention_mask\u001b[0m\u001b[0;34m.\u001b[0m\u001b[0mto\u001b[0m\u001b[0;34m(\u001b[0m\u001b[0mDEVICE\u001b[0m\u001b[0;34m)\u001b[0m\u001b[0;34m,\u001b[0m\u001b[0;34m\u001b[0m\u001b[0;34m\u001b[0m\u001b[0m\n",
      "\u001b[0;32m~/.local/lib/python3.10/site-packages/torch/nn/modules/module.py\u001b[0m in \u001b[0;36m_call_impl\u001b[0;34m(self, *args, **kwargs)\u001b[0m\n\u001b[1;32m   1499\u001b[0m                 \u001b[0;32mor\u001b[0m \u001b[0m_global_backward_pre_hooks\u001b[0m \u001b[0;32mor\u001b[0m \u001b[0m_global_backward_hooks\u001b[0m\u001b[0;34m\u001b[0m\u001b[0;34m\u001b[0m\u001b[0m\n\u001b[1;32m   1500\u001b[0m                 or _global_forward_hooks or _global_forward_pre_hooks):\n\u001b[0;32m-> 1501\u001b[0;31m             \u001b[0;32mreturn\u001b[0m \u001b[0mforward_call\u001b[0m\u001b[0;34m(\u001b[0m\u001b[0;34m*\u001b[0m\u001b[0margs\u001b[0m\u001b[0;34m,\u001b[0m \u001b[0;34m**\u001b[0m\u001b[0mkwargs\u001b[0m\u001b[0;34m)\u001b[0m\u001b[0;34m\u001b[0m\u001b[0;34m\u001b[0m\u001b[0m\n\u001b[0m\u001b[1;32m   1502\u001b[0m         \u001b[0;31m# Do not call functions when jit is used\u001b[0m\u001b[0;34m\u001b[0m\u001b[0;34m\u001b[0m\u001b[0m\n\u001b[1;32m   1503\u001b[0m         \u001b[0mfull_backward_hooks\u001b[0m\u001b[0;34m,\u001b[0m \u001b[0mnon_full_backward_hooks\u001b[0m \u001b[0;34m=\u001b[0m \u001b[0;34m[\u001b[0m\u001b[0;34m]\u001b[0m\u001b[0;34m,\u001b[0m \u001b[0;34m[\u001b[0m\u001b[0;34m]\u001b[0m\u001b[0;34m\u001b[0m\u001b[0;34m\u001b[0m\u001b[0m\n",
      "\u001b[0;32m/tmp/ipykernel_2286953/2496884920.py\u001b[0m in \u001b[0;36mfoo\u001b[0;34m(*args, **kwargs)\u001b[0m\n\u001b[1;32m      3\u001b[0m     \u001b[0;32mdef\u001b[0m \u001b[0mfoo\u001b[0m\u001b[0;34m(\u001b[0m\u001b[0;34m*\u001b[0m\u001b[0margs\u001b[0m\u001b[0;34m,\u001b[0m \u001b[0;34m**\u001b[0m\u001b[0mkwargs\u001b[0m\u001b[0;34m)\u001b[0m\u001b[0;34m:\u001b[0m\u001b[0;34m\u001b[0m\u001b[0;34m\u001b[0m\u001b[0m\n\u001b[1;32m      4\u001b[0m         \u001b[0mhook_before\u001b[0m\u001b[0;34m(\u001b[0m\u001b[0;34m*\u001b[0m\u001b[0margs\u001b[0m\u001b[0;34m,\u001b[0m \u001b[0;34m**\u001b[0m\u001b[0mkwargs\u001b[0m\u001b[0;34m)\u001b[0m\u001b[0;34m\u001b[0m\u001b[0;34m\u001b[0m\u001b[0m\n\u001b[0;32m----> 5\u001b[0;31m         \u001b[0maa\u001b[0m \u001b[0;34m=\u001b[0m \u001b[0moldfunc\u001b[0m\u001b[0;34m(\u001b[0m\u001b[0;34m*\u001b[0m\u001b[0margs\u001b[0m\u001b[0;34m,\u001b[0m \u001b[0;34m**\u001b[0m\u001b[0mkwargs\u001b[0m\u001b[0;34m)\u001b[0m\u001b[0;34m\u001b[0m\u001b[0;34m\u001b[0m\u001b[0m\n\u001b[0m\u001b[1;32m      6\u001b[0m         \u001b[0mhook_after\u001b[0m\u001b[0;34m(\u001b[0m\u001b[0;34m*\u001b[0m\u001b[0margs\u001b[0m\u001b[0;34m,\u001b[0m \u001b[0;34m**\u001b[0m\u001b[0mkwargs\u001b[0m\u001b[0;34m)\u001b[0m\u001b[0;34m\u001b[0m\u001b[0;34m\u001b[0m\u001b[0m\n\u001b[1;32m      7\u001b[0m         \u001b[0;32mreturn\u001b[0m \u001b[0maa\u001b[0m\u001b[0;34m\u001b[0m\u001b[0;34m\u001b[0m\u001b[0m\n",
      "\u001b[0;32m~/.local/lib/python3.10/site-packages/transformers/models/t5/modeling_t5.py\u001b[0m in \u001b[0;36mforward\u001b[0;34m(self, input_ids, attention_mask, decoder_input_ids, decoder_attention_mask, head_mask, decoder_head_mask, cross_attn_head_mask, encoder_outputs, past_key_values, inputs_embeds, decoder_inputs_embeds, labels, use_cache, output_attentions, output_hidden_states, return_dict)\u001b[0m\n\u001b[1;32m   1746\u001b[0m \u001b[0;34m\u001b[0m\u001b[0m\n\u001b[1;32m   1747\u001b[0m         \u001b[0;31m# Decode\u001b[0m\u001b[0;34m\u001b[0m\u001b[0;34m\u001b[0m\u001b[0m\n\u001b[0;32m-> 1748\u001b[0;31m         decoder_outputs = self.decoder(\n\u001b[0m\u001b[1;32m   1749\u001b[0m             \u001b[0minput_ids\u001b[0m\u001b[0;34m=\u001b[0m\u001b[0mdecoder_input_ids\u001b[0m\u001b[0;34m,\u001b[0m\u001b[0;34m\u001b[0m\u001b[0;34m\u001b[0m\u001b[0m\n\u001b[1;32m   1750\u001b[0m             \u001b[0mattention_mask\u001b[0m\u001b[0;34m=\u001b[0m\u001b[0mdecoder_attention_mask\u001b[0m\u001b[0;34m,\u001b[0m\u001b[0;34m\u001b[0m\u001b[0;34m\u001b[0m\u001b[0m\n",
      "\u001b[0;32m~/.local/lib/python3.10/site-packages/torch/nn/modules/module.py\u001b[0m in \u001b[0;36m_call_impl\u001b[0;34m(self, *args, **kwargs)\u001b[0m\n\u001b[1;32m   1499\u001b[0m                 \u001b[0;32mor\u001b[0m \u001b[0m_global_backward_pre_hooks\u001b[0m \u001b[0;32mor\u001b[0m \u001b[0m_global_backward_hooks\u001b[0m\u001b[0;34m\u001b[0m\u001b[0;34m\u001b[0m\u001b[0m\n\u001b[1;32m   1500\u001b[0m                 or _global_forward_hooks or _global_forward_pre_hooks):\n\u001b[0;32m-> 1501\u001b[0;31m             \u001b[0;32mreturn\u001b[0m \u001b[0mforward_call\u001b[0m\u001b[0;34m(\u001b[0m\u001b[0;34m*\u001b[0m\u001b[0margs\u001b[0m\u001b[0;34m,\u001b[0m \u001b[0;34m**\u001b[0m\u001b[0mkwargs\u001b[0m\u001b[0;34m)\u001b[0m\u001b[0;34m\u001b[0m\u001b[0;34m\u001b[0m\u001b[0m\n\u001b[0m\u001b[1;32m   1502\u001b[0m         \u001b[0;31m# Do not call functions when jit is used\u001b[0m\u001b[0;34m\u001b[0m\u001b[0;34m\u001b[0m\u001b[0m\n\u001b[1;32m   1503\u001b[0m         \u001b[0mfull_backward_hooks\u001b[0m\u001b[0;34m,\u001b[0m \u001b[0mnon_full_backward_hooks\u001b[0m \u001b[0;34m=\u001b[0m \u001b[0;34m[\u001b[0m\u001b[0;34m]\u001b[0m\u001b[0;34m,\u001b[0m \u001b[0;34m[\u001b[0m\u001b[0;34m]\u001b[0m\u001b[0;34m\u001b[0m\u001b[0;34m\u001b[0m\u001b[0m\n",
      "\u001b[0;32m~/.local/lib/python3.10/site-packages/transformers/models/t5/modeling_t5.py\u001b[0m in \u001b[0;36mforward\u001b[0;34m(self, input_ids, attention_mask, encoder_hidden_states, encoder_attention_mask, inputs_embeds, head_mask, cross_attn_head_mask, past_key_values, use_cache, output_attentions, output_hidden_states, return_dict)\u001b[0m\n\u001b[1;32m   1113\u001b[0m                 )\n\u001b[1;32m   1114\u001b[0m             \u001b[0;32melse\u001b[0m\u001b[0;34m:\u001b[0m\u001b[0;34m\u001b[0m\u001b[0;34m\u001b[0m\u001b[0m\n\u001b[0;32m-> 1115\u001b[0;31m                 layer_outputs = layer_module(\n\u001b[0m\u001b[1;32m   1116\u001b[0m                     \u001b[0mhidden_states\u001b[0m\u001b[0;34m,\u001b[0m\u001b[0;34m\u001b[0m\u001b[0;34m\u001b[0m\u001b[0m\n\u001b[1;32m   1117\u001b[0m                     \u001b[0mattention_mask\u001b[0m\u001b[0;34m=\u001b[0m\u001b[0mextended_attention_mask\u001b[0m\u001b[0;34m,\u001b[0m\u001b[0;34m\u001b[0m\u001b[0;34m\u001b[0m\u001b[0m\n",
      "\u001b[0;32m~/.local/lib/python3.10/site-packages/torch/nn/modules/module.py\u001b[0m in \u001b[0;36m_call_impl\u001b[0;34m(self, *args, **kwargs)\u001b[0m\n\u001b[1;32m   1499\u001b[0m                 \u001b[0;32mor\u001b[0m \u001b[0m_global_backward_pre_hooks\u001b[0m \u001b[0;32mor\u001b[0m \u001b[0m_global_backward_hooks\u001b[0m\u001b[0;34m\u001b[0m\u001b[0;34m\u001b[0m\u001b[0m\n\u001b[1;32m   1500\u001b[0m                 or _global_forward_hooks or _global_forward_pre_hooks):\n\u001b[0;32m-> 1501\u001b[0;31m             \u001b[0;32mreturn\u001b[0m \u001b[0mforward_call\u001b[0m\u001b[0;34m(\u001b[0m\u001b[0;34m*\u001b[0m\u001b[0margs\u001b[0m\u001b[0;34m,\u001b[0m \u001b[0;34m**\u001b[0m\u001b[0mkwargs\u001b[0m\u001b[0;34m)\u001b[0m\u001b[0;34m\u001b[0m\u001b[0;34m\u001b[0m\u001b[0m\n\u001b[0m\u001b[1;32m   1502\u001b[0m         \u001b[0;31m# Do not call functions when jit is used\u001b[0m\u001b[0;34m\u001b[0m\u001b[0;34m\u001b[0m\u001b[0m\n\u001b[1;32m   1503\u001b[0m         \u001b[0mfull_backward_hooks\u001b[0m\u001b[0;34m,\u001b[0m \u001b[0mnon_full_backward_hooks\u001b[0m \u001b[0;34m=\u001b[0m \u001b[0;34m[\u001b[0m\u001b[0;34m]\u001b[0m\u001b[0;34m,\u001b[0m \u001b[0;34m[\u001b[0m\u001b[0;34m]\u001b[0m\u001b[0;34m\u001b[0m\u001b[0;34m\u001b[0m\u001b[0m\n",
      "\u001b[0;32m~/.local/lib/python3.10/site-packages/accelerate/hooks.py\u001b[0m in \u001b[0;36mnew_forward\u001b[0;34m(module, *args, **kwargs)\u001b[0m\n\u001b[1;32m    164\u001b[0m                 \u001b[0moutput\u001b[0m \u001b[0;34m=\u001b[0m \u001b[0mmodule\u001b[0m\u001b[0;34m.\u001b[0m\u001b[0m_old_forward\u001b[0m\u001b[0;34m(\u001b[0m\u001b[0;34m*\u001b[0m\u001b[0margs\u001b[0m\u001b[0;34m,\u001b[0m \u001b[0;34m**\u001b[0m\u001b[0mkwargs\u001b[0m\u001b[0;34m)\u001b[0m\u001b[0;34m\u001b[0m\u001b[0;34m\u001b[0m\u001b[0m\n\u001b[1;32m    165\u001b[0m         \u001b[0;32melse\u001b[0m\u001b[0;34m:\u001b[0m\u001b[0;34m\u001b[0m\u001b[0;34m\u001b[0m\u001b[0m\n\u001b[0;32m--> 166\u001b[0;31m             \u001b[0moutput\u001b[0m \u001b[0;34m=\u001b[0m \u001b[0mmodule\u001b[0m\u001b[0;34m.\u001b[0m\u001b[0m_old_forward\u001b[0m\u001b[0;34m(\u001b[0m\u001b[0;34m*\u001b[0m\u001b[0margs\u001b[0m\u001b[0;34m,\u001b[0m \u001b[0;34m**\u001b[0m\u001b[0mkwargs\u001b[0m\u001b[0;34m)\u001b[0m\u001b[0;34m\u001b[0m\u001b[0;34m\u001b[0m\u001b[0m\n\u001b[0m\u001b[1;32m    167\u001b[0m         \u001b[0;32mreturn\u001b[0m \u001b[0mmodule\u001b[0m\u001b[0;34m.\u001b[0m\u001b[0m_hf_hook\u001b[0m\u001b[0;34m.\u001b[0m\u001b[0mpost_forward\u001b[0m\u001b[0;34m(\u001b[0m\u001b[0mmodule\u001b[0m\u001b[0;34m,\u001b[0m \u001b[0moutput\u001b[0m\u001b[0;34m)\u001b[0m\u001b[0;34m\u001b[0m\u001b[0;34m\u001b[0m\u001b[0m\n\u001b[1;32m    168\u001b[0m \u001b[0;34m\u001b[0m\u001b[0m\n",
      "\u001b[0;32m~/.local/lib/python3.10/site-packages/transformers/models/t5/modeling_t5.py\u001b[0m in \u001b[0;36mforward\u001b[0;34m(self, hidden_states, attention_mask, position_bias, encoder_hidden_states, encoder_attention_mask, encoder_decoder_position_bias, layer_head_mask, cross_attn_layer_head_mask, past_key_value, use_cache, output_attentions, return_dict)\u001b[0m\n\u001b[1;32m    723\u001b[0m                 \u001b[0mquery_length\u001b[0m \u001b[0;34m=\u001b[0m \u001b[0;32mNone\u001b[0m\u001b[0;34m\u001b[0m\u001b[0;34m\u001b[0m\u001b[0m\n\u001b[1;32m    724\u001b[0m \u001b[0;34m\u001b[0m\u001b[0m\n\u001b[0;32m--> 725\u001b[0;31m             cross_attention_outputs = self.layer[1](\n\u001b[0m\u001b[1;32m    726\u001b[0m                 \u001b[0mhidden_states\u001b[0m\u001b[0;34m,\u001b[0m\u001b[0;34m\u001b[0m\u001b[0;34m\u001b[0m\u001b[0m\n\u001b[1;32m    727\u001b[0m                 \u001b[0mkey_value_states\u001b[0m\u001b[0;34m=\u001b[0m\u001b[0mencoder_hidden_states\u001b[0m\u001b[0;34m,\u001b[0m\u001b[0;34m\u001b[0m\u001b[0;34m\u001b[0m\u001b[0m\n",
      "\u001b[0;32m~/.local/lib/python3.10/site-packages/torch/nn/modules/module.py\u001b[0m in \u001b[0;36m_call_impl\u001b[0;34m(self, *args, **kwargs)\u001b[0m\n\u001b[1;32m   1499\u001b[0m                 \u001b[0;32mor\u001b[0m \u001b[0m_global_backward_pre_hooks\u001b[0m \u001b[0;32mor\u001b[0m \u001b[0m_global_backward_hooks\u001b[0m\u001b[0;34m\u001b[0m\u001b[0;34m\u001b[0m\u001b[0m\n\u001b[1;32m   1500\u001b[0m                 or _global_forward_hooks or _global_forward_pre_hooks):\n\u001b[0;32m-> 1501\u001b[0;31m             \u001b[0;32mreturn\u001b[0m \u001b[0mforward_call\u001b[0m\u001b[0;34m(\u001b[0m\u001b[0;34m*\u001b[0m\u001b[0margs\u001b[0m\u001b[0;34m,\u001b[0m \u001b[0;34m**\u001b[0m\u001b[0mkwargs\u001b[0m\u001b[0;34m)\u001b[0m\u001b[0;34m\u001b[0m\u001b[0;34m\u001b[0m\u001b[0m\n\u001b[0m\u001b[1;32m   1502\u001b[0m         \u001b[0;31m# Do not call functions when jit is used\u001b[0m\u001b[0;34m\u001b[0m\u001b[0;34m\u001b[0m\u001b[0m\n\u001b[1;32m   1503\u001b[0m         \u001b[0mfull_backward_hooks\u001b[0m\u001b[0;34m,\u001b[0m \u001b[0mnon_full_backward_hooks\u001b[0m \u001b[0;34m=\u001b[0m \u001b[0;34m[\u001b[0m\u001b[0;34m]\u001b[0m\u001b[0;34m,\u001b[0m \u001b[0;34m[\u001b[0m\u001b[0;34m]\u001b[0m\u001b[0;34m\u001b[0m\u001b[0;34m\u001b[0m\u001b[0m\n",
      "\u001b[0;32m~/.local/lib/python3.10/site-packages/accelerate/hooks.py\u001b[0m in \u001b[0;36mnew_forward\u001b[0;34m(module, *args, **kwargs)\u001b[0m\n\u001b[1;32m    164\u001b[0m                 \u001b[0moutput\u001b[0m \u001b[0;34m=\u001b[0m \u001b[0mmodule\u001b[0m\u001b[0;34m.\u001b[0m\u001b[0m_old_forward\u001b[0m\u001b[0;34m(\u001b[0m\u001b[0;34m*\u001b[0m\u001b[0margs\u001b[0m\u001b[0;34m,\u001b[0m \u001b[0;34m**\u001b[0m\u001b[0mkwargs\u001b[0m\u001b[0;34m)\u001b[0m\u001b[0;34m\u001b[0m\u001b[0;34m\u001b[0m\u001b[0m\n\u001b[1;32m    165\u001b[0m         \u001b[0;32melse\u001b[0m\u001b[0;34m:\u001b[0m\u001b[0;34m\u001b[0m\u001b[0;34m\u001b[0m\u001b[0m\n\u001b[0;32m--> 166\u001b[0;31m             \u001b[0moutput\u001b[0m \u001b[0;34m=\u001b[0m \u001b[0mmodule\u001b[0m\u001b[0;34m.\u001b[0m\u001b[0m_old_forward\u001b[0m\u001b[0;34m(\u001b[0m\u001b[0;34m*\u001b[0m\u001b[0margs\u001b[0m\u001b[0;34m,\u001b[0m \u001b[0;34m**\u001b[0m\u001b[0mkwargs\u001b[0m\u001b[0;34m)\u001b[0m\u001b[0;34m\u001b[0m\u001b[0;34m\u001b[0m\u001b[0m\n\u001b[0m\u001b[1;32m    167\u001b[0m         \u001b[0;32mreturn\u001b[0m \u001b[0mmodule\u001b[0m\u001b[0;34m.\u001b[0m\u001b[0m_hf_hook\u001b[0m\u001b[0;34m.\u001b[0m\u001b[0mpost_forward\u001b[0m\u001b[0;34m(\u001b[0m\u001b[0mmodule\u001b[0m\u001b[0;34m,\u001b[0m \u001b[0moutput\u001b[0m\u001b[0;34m)\u001b[0m\u001b[0;34m\u001b[0m\u001b[0;34m\u001b[0m\u001b[0m\n\u001b[1;32m    168\u001b[0m \u001b[0;34m\u001b[0m\u001b[0m\n",
      "\u001b[0;32m~/.local/lib/python3.10/site-packages/transformers/models/t5/modeling_t5.py\u001b[0m in \u001b[0;36mforward\u001b[0;34m(self, hidden_states, key_value_states, attention_mask, position_bias, layer_head_mask, past_key_value, use_cache, query_length, output_attentions)\u001b[0m\n\u001b[1;32m    634\u001b[0m     ):\n\u001b[1;32m    635\u001b[0m         \u001b[0mnormed_hidden_states\u001b[0m \u001b[0;34m=\u001b[0m \u001b[0mself\u001b[0m\u001b[0;34m.\u001b[0m\u001b[0mlayer_norm\u001b[0m\u001b[0;34m(\u001b[0m\u001b[0mhidden_states\u001b[0m\u001b[0;34m)\u001b[0m\u001b[0;34m\u001b[0m\u001b[0;34m\u001b[0m\u001b[0m\n\u001b[0;32m--> 636\u001b[0;31m         attention_output = self.EncDecAttention(\n\u001b[0m\u001b[1;32m    637\u001b[0m             \u001b[0mnormed_hidden_states\u001b[0m\u001b[0;34m,\u001b[0m\u001b[0;34m\u001b[0m\u001b[0;34m\u001b[0m\u001b[0m\n\u001b[1;32m    638\u001b[0m             \u001b[0mmask\u001b[0m\u001b[0;34m=\u001b[0m\u001b[0mattention_mask\u001b[0m\u001b[0;34m,\u001b[0m\u001b[0;34m\u001b[0m\u001b[0;34m\u001b[0m\u001b[0m\n",
      "\u001b[0;32m~/.local/lib/python3.10/site-packages/torch/nn/modules/module.py\u001b[0m in \u001b[0;36m_call_impl\u001b[0;34m(self, *args, **kwargs)\u001b[0m\n\u001b[1;32m   1499\u001b[0m                 \u001b[0;32mor\u001b[0m \u001b[0m_global_backward_pre_hooks\u001b[0m \u001b[0;32mor\u001b[0m \u001b[0m_global_backward_hooks\u001b[0m\u001b[0;34m\u001b[0m\u001b[0;34m\u001b[0m\u001b[0m\n\u001b[1;32m   1500\u001b[0m                 or _global_forward_hooks or _global_forward_pre_hooks):\n\u001b[0;32m-> 1501\u001b[0;31m             \u001b[0;32mreturn\u001b[0m \u001b[0mforward_call\u001b[0m\u001b[0;34m(\u001b[0m\u001b[0;34m*\u001b[0m\u001b[0margs\u001b[0m\u001b[0;34m,\u001b[0m \u001b[0;34m**\u001b[0m\u001b[0mkwargs\u001b[0m\u001b[0;34m)\u001b[0m\u001b[0;34m\u001b[0m\u001b[0;34m\u001b[0m\u001b[0m\n\u001b[0m\u001b[1;32m   1502\u001b[0m         \u001b[0;31m# Do not call functions when jit is used\u001b[0m\u001b[0;34m\u001b[0m\u001b[0;34m\u001b[0m\u001b[0m\n\u001b[1;32m   1503\u001b[0m         \u001b[0mfull_backward_hooks\u001b[0m\u001b[0;34m,\u001b[0m \u001b[0mnon_full_backward_hooks\u001b[0m \u001b[0;34m=\u001b[0m \u001b[0;34m[\u001b[0m\u001b[0;34m]\u001b[0m\u001b[0;34m,\u001b[0m \u001b[0;34m[\u001b[0m\u001b[0;34m]\u001b[0m\u001b[0;34m\u001b[0m\u001b[0;34m\u001b[0m\u001b[0m\n",
      "\u001b[0;32m~/.local/lib/python3.10/site-packages/accelerate/hooks.py\u001b[0m in \u001b[0;36mnew_forward\u001b[0;34m(module, *args, **kwargs)\u001b[0m\n\u001b[1;32m    164\u001b[0m                 \u001b[0moutput\u001b[0m \u001b[0;34m=\u001b[0m \u001b[0mmodule\u001b[0m\u001b[0;34m.\u001b[0m\u001b[0m_old_forward\u001b[0m\u001b[0;34m(\u001b[0m\u001b[0;34m*\u001b[0m\u001b[0margs\u001b[0m\u001b[0;34m,\u001b[0m \u001b[0;34m**\u001b[0m\u001b[0mkwargs\u001b[0m\u001b[0;34m)\u001b[0m\u001b[0;34m\u001b[0m\u001b[0;34m\u001b[0m\u001b[0m\n\u001b[1;32m    165\u001b[0m         \u001b[0;32melse\u001b[0m\u001b[0;34m:\u001b[0m\u001b[0;34m\u001b[0m\u001b[0;34m\u001b[0m\u001b[0m\n\u001b[0;32m--> 166\u001b[0;31m             \u001b[0moutput\u001b[0m \u001b[0;34m=\u001b[0m \u001b[0mmodule\u001b[0m\u001b[0;34m.\u001b[0m\u001b[0m_old_forward\u001b[0m\u001b[0;34m(\u001b[0m\u001b[0;34m*\u001b[0m\u001b[0margs\u001b[0m\u001b[0;34m,\u001b[0m \u001b[0;34m**\u001b[0m\u001b[0mkwargs\u001b[0m\u001b[0;34m)\u001b[0m\u001b[0;34m\u001b[0m\u001b[0;34m\u001b[0m\u001b[0m\n\u001b[0m\u001b[1;32m    167\u001b[0m         \u001b[0;32mreturn\u001b[0m \u001b[0mmodule\u001b[0m\u001b[0;34m.\u001b[0m\u001b[0m_hf_hook\u001b[0m\u001b[0;34m.\u001b[0m\u001b[0mpost_forward\u001b[0m\u001b[0;34m(\u001b[0m\u001b[0mmodule\u001b[0m\u001b[0;34m,\u001b[0m \u001b[0moutput\u001b[0m\u001b[0;34m)\u001b[0m\u001b[0;34m\u001b[0m\u001b[0;34m\u001b[0m\u001b[0m\n\u001b[1;32m    168\u001b[0m \u001b[0;34m\u001b[0m\u001b[0m\n",
      "\u001b[0;32m~/.local/lib/python3.10/site-packages/transformers/models/t5/modeling_t5.py\u001b[0m in \u001b[0;36mforward\u001b[0;34m(self, hidden_states, mask, key_value_states, position_bias, past_key_value, layer_head_mask, query_length, use_cache, output_attentions)\u001b[0m\n\u001b[1;32m    571\u001b[0m             \u001b[0mattn_weights\u001b[0m \u001b[0;34m=\u001b[0m \u001b[0mattn_weights\u001b[0m \u001b[0;34m*\u001b[0m \u001b[0mlayer_head_mask\u001b[0m\u001b[0;34m\u001b[0m\u001b[0;34m\u001b[0m\u001b[0m\n\u001b[1;32m    572\u001b[0m \u001b[0;34m\u001b[0m\u001b[0m\n\u001b[0;32m--> 573\u001b[0;31m         \u001b[0mattn_output\u001b[0m \u001b[0;34m=\u001b[0m \u001b[0munshape\u001b[0m\u001b[0;34m(\u001b[0m\u001b[0mtorch\u001b[0m\u001b[0;34m.\u001b[0m\u001b[0mmatmul\u001b[0m\u001b[0;34m(\u001b[0m\u001b[0mattn_weights\u001b[0m\u001b[0;34m,\u001b[0m \u001b[0mvalue_states\u001b[0m\u001b[0;34m)\u001b[0m\u001b[0;34m)\u001b[0m  \u001b[0;31m# (batch_size, seq_length, dim)\u001b[0m\u001b[0;34m\u001b[0m\u001b[0;34m\u001b[0m\u001b[0m\n\u001b[0m\u001b[1;32m    574\u001b[0m         \u001b[0mattn_output\u001b[0m \u001b[0;34m=\u001b[0m \u001b[0mself\u001b[0m\u001b[0;34m.\u001b[0m\u001b[0mo\u001b[0m\u001b[0;34m(\u001b[0m\u001b[0mattn_output\u001b[0m\u001b[0;34m)\u001b[0m\u001b[0;34m\u001b[0m\u001b[0;34m\u001b[0m\u001b[0m\n\u001b[1;32m    575\u001b[0m \u001b[0;34m\u001b[0m\u001b[0m\n",
      "\u001b[0;31mKeyboardInterrupt\u001b[0m: "
     ]
    }
   ],
   "source": [
    "def turn_position_learning(on):\n",
    "    for x in all_position_weight:\n",
    "        x.requires_grad = on\n",
    "\n",
    "\n",
    "loss_running_score = 0\n",
    "correct_running_score = 0\n",
    "conform_running_score = 0\n",
    "count = 0\n",
    "extra_info = \"\"\n",
    "res_tokens = []\n",
    "accumulate = 10\n",
    "optimizer.zero_grad()\n",
    "set_seed(42)\n",
    "turn_position = False\n",
    "turn_position_learning(False)\n",
    "for learn_pos in range(5):\n",
    "    pbar = tqdm(loi_dataloader)\n",
    "    for wrapper in pbar:\n",
    "        count += 1\n",
    "        result = model(\n",
    "            input_ids=wrapper[\"input_ids\"].to(DEVICE),\n",
    "            attention_mask=wrapper['attention_mask'].to(DEVICE),\n",
    "            labels=wrapper['label_ids'].to(DEVICE),\n",
    "            decoder_attention_mask=wrapper[\"all_decoder_attention_masks\"].to(\n",
    "                DEVICE),  # output_attentions=True\n",
    "        )\n",
    "        loss = result.loss\n",
    "        loss_running_score = loss_running_score * 0.9 + loss.item() * 0.1\n",
    "        if loss != 0:\n",
    "            loss.backward()\n",
    "        optimizer.step()\n",
    "        optimizer.zero_grad()\n",
    "        with torch.no_grad():\n",
    "            if count % 100 == 0:\n",
    "                extra_info = run_model(dataset_test[0][0][0])\n",
    "            pbar.set_description_str(f\"Loss: {loss_running_score:.3f}\")\n",
    "            pbar.set_postfix_str(extra_info)\n",
    "    evaluate()\n",
    "    # before_lr = optimizer.param_groups[0][\"lr\"]\n",
    "    # after_lr = optimizer.param_groups[0][\"lr\"]\n",
    "    # print(\"Epoch %d: SGD lr %.4f -> %.4f\" % (learn_pos, before_lr, after_lr))"
   ]
  },
  {
   "cell_type": "code",
   "execution_count": null,
   "id": "6b21ba03",
   "metadata": {
    "execution": {
     "iopub.execute_input": "2024-04-05T04:52:18.154091Z",
     "iopub.status.busy": "2024-04-05T04:52:18.153625Z",
     "iopub.status.idle": "2024-04-05T04:52:23.163957Z",
     "shell.execute_reply": "2024-04-05T04:52:23.163539Z"
    },
    "papermill": {
     "duration": null,
     "end_time": null,
     "exception": null,
     "start_time": null,
     "status": "completed"
    },
    "tags": []
   },
   "outputs": [],
   "source": [
    "model.save_pretrained(f\"loi_model_{DATA_NAME_SINGLE}.pkl\", from_pt=True)"
   ]
  },
  {
   "cell_type": "markdown",
   "id": "34e6b8d7",
   "metadata": {
    "papermill": {
     "duration": null,
     "end_time": null,
     "exception": null,
     "start_time": null,
     "status": "completed"
    },
    "tags": []
   },
   "source": [
    "### Measure resilient"
   ]
  },
  {
   "cell_type": "code",
   "execution_count": null,
   "id": "bbb4e9a5",
   "metadata": {
    "execution": {
     "iopub.execute_input": "2024-04-05T04:54:38.127143Z",
     "iopub.status.busy": "2024-04-05T04:54:38.126677Z",
     "iopub.status.idle": "2024-04-05T04:54:38.128283Z",
     "shell.execute_reply": "2024-04-05T04:54:38.128653Z"
    },
    "papermill": {
     "duration": null,
     "end_time": null,
     "exception": null,
     "start_time": null,
     "status": "completed"
    },
    "tags": []
   },
   "outputs": [],
   "source": [
    "def measure_unalike(arr):\n",
    "    n = len(arr)\n",
    "    arr = pd.Series(arr).value_counts()\n",
    "    return 1 - ((arr / n)**2).sum()\n",
    "\n",
    "\n",
    "measure_unalike([\"a\", \"a\", \"a\"])"
   ]
  },
  {
   "cell_type": "code",
   "execution_count": null,
   "id": "68aa7006",
   "metadata": {
    "execution": {
     "iopub.execute_input": "2024-04-05T04:54:38.131867Z",
     "iopub.status.busy": "2024-04-05T04:54:38.131396Z",
     "iopub.status.idle": "2024-04-05T04:54:38.132776Z",
     "shell.execute_reply": "2024-04-05T04:54:38.132388Z"
    },
    "papermill": {
     "duration": null,
     "end_time": null,
     "exception": null,
     "start_time": null,
     "status": "completed"
    },
    "tags": []
   },
   "outputs": [],
   "source": [
    "# for data in [dataset_test]:\n",
    "#     count = 0\n",
    "#     count1 = 0\n",
    "#     count2 = 0\n",
    "#     count10 = 0\n",
    "#     total = 0\n",
    "#     question_index = range(5)\n",
    "#     pbar1 = tqdm(question_index)\n",
    "#     unalike = []\n",
    "#     for ques1 in pbar1:\n",
    "#         answer_set = []\n",
    "#         for m in trange(24):\n",
    "#             ques = ques1 * 24 + m\n",
    "#             question = data[ques][0]\n",
    "#             key = data[ques][1]\n",
    "#             question_convert = check(question)\n",
    "#             if question_convert is None:\n",
    "#                 continue\n",
    "#             total += 1\n",
    "#             answer, _, _, _ = get_model_forward(question_convert.to(DEVICE),\n",
    "#                                                 model=model2)\n",
    "#             answer_set.append(answer)\n",
    "#         unalike.append(measure_unalike(answer_set))\n",
    "# print(f\"Mean unalikeability: {sum(unalike)/len(unalike)}\")"
   ]
  },
  {
   "cell_type": "code",
   "execution_count": null,
   "id": "6b0fdfb4",
   "metadata": {
    "execution": {
     "iopub.execute_input": "2024-04-05T04:54:38.135719Z",
     "iopub.status.busy": "2024-04-05T04:54:38.135249Z",
     "iopub.status.idle": "2024-04-05T04:54:38.137093Z",
     "shell.execute_reply": "2024-04-05T04:54:38.136683Z"
    },
    "papermill": {
     "duration": null,
     "end_time": null,
     "exception": null,
     "start_time": null,
     "status": "completed"
    },
    "tags": []
   },
   "outputs": [],
   "source": [
    "# pbar = trange(0, len(dataset_train), 24)\n",
    "# loss_score = 0\n",
    "# count = 0\n",
    "# extra_info = \"\"\n",
    "# set_seed(42)\n",
    "# res_tokens=[]\n",
    "# for learn_pos in range(10):\n",
    "#     for step in pbar:\n",
    "#         count += 1\n",
    "#         # if count>20:\n",
    "#         #     break\n",
    "#         # print(textwrap.fill(dataset_train[0][0]))\n",
    "#         input_tokens = check(dataset_train[step][0])\n",
    "#         if input_tokens is None:\n",
    "#             continue\n",
    "#         labels = tokenizer.encode(dataset_train[step][1], return_tensors=\"pt\")\n",
    "#         result = model(input_ids=input_tokens.to(DEVICE), labels=shape(labels).to(DEVICE))\n",
    "\n",
    "#         optimizer.zero_grad()\n",
    "#         loss =loss_fn(result.logits[0][learn_pos],labels[0][learn_pos].to(DEVICE))\n",
    "#         loss_score = loss_score * 0.9 + loss.item() * 0.1\n",
    "#         if loss.item()!=0:\n",
    "#             loss.backward()\n",
    "#         optimizer.step()\n",
    "#         # scheduler.step()\n",
    "#         with torch.no_grad():\n",
    "#             if count % 10 == 0:\n",
    "#                 extra_info, res_tokens = get_model_forward(check(dataset_test[0][0]).to(DEVICE))\n",
    "#             pbar.set_description_str(f\"Loss: {loss_score:.2f}\")\n",
    "#             pbar.set_postfix_str(res_tokens[:learn_pos+2])\n",
    "# pass"
   ]
  },
  {
   "cell_type": "code",
   "execution_count": null,
   "id": "8ab14fc0",
   "metadata": {
    "execution": {
     "iopub.execute_input": "2024-04-05T04:54:38.139460Z",
     "iopub.status.busy": "2024-04-05T04:54:38.139015Z",
     "iopub.status.idle": "2024-04-05T04:54:38.140562Z",
     "shell.execute_reply": "2024-04-05T04:54:38.140933Z"
    },
    "papermill": {
     "duration": null,
     "end_time": null,
     "exception": null,
     "start_time": null,
     "status": "completed"
    },
    "tags": []
   },
   "outputs": [],
   "source": [
    "# class ListDataset(Dataset):\n",
    "#     def __init__(self, li):\n",
    "#         super(ListDataset, self).__init__()\n",
    "#         self.li=li\n",
    "#     def __getitem__(self, index):\n",
    "#         x,y=self.li[index]\n",
    "#         return x,y\n",
    "#     def __len__(self):\n",
    "#         return len(self.li)\n",
    "# test_loader=DataLoader(ListDataset(dataset_test), batch_size=10, shuffle=True)\n",
    "# for x,y in test_loader:\n",
    "#     print(x,y)\n",
    "#     break\n",
    "# count=0\n",
    "# pbar=tqdm(test_loader)\n",
    "# for question,key in pbar:\n",
    "#     answer = run_model(question)\n",
    "#     count+=sum([answer[x]==key[x] for x in range(len(answer))])\n",
    "#     if key == answer:\n",
    "#         count += 1\n",
    "#     pbar.set_postfix_str(f'{count}')\n",
    "# print(count)"
   ]
  }
 ],
 "metadata": {
  "kernelspec": {
   "display_name": ".venv",
   "language": "python",
   "name": "python3"
  },
  "language_info": {
   "codemirror_mode": {
    "name": "ipython",
    "version": 3
   },
   "file_extension": ".py",
   "mimetype": "text/x-python",
   "name": "python",
   "nbconvert_exporter": "python",
   "pygments_lexer": "ipython3",
   "version": "3.10.12"
  },
  "papermill": {
   "default_parameters": {},
   "duration": 1330.186749,
   "end_time": "2024-04-06T18:44:58.358748",
   "environment_variables": {},
   "exception": null,
   "input_path": "1_7_0_filled_0_and_fixed_max_length.ipynb",
   "output_path": "loi_qasc.ipynb",
   "parameters": {
    "BATCH_SIZE": 10,
    "DATA_NAME_SINGLE": "qasc",
    "model_name": "google-t5/t5-large"
   },
   "start_time": "2024-04-06T18:22:48.171999",
   "version": "2.5.0"
  }
 },
 "nbformat": 4,
 "nbformat_minor": 5
}