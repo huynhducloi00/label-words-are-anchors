{
 "cells": [
  {
   "cell_type": "code",
   "execution_count": 1,
   "metadata": {
    "collapsed": false,
    "pycharm": {
     "name": "#%%\n"
    }
   },
   "outputs": [],
   "source": [
    "from sklearn.metrics import roc_auc_score\n",
    "from icl.util_classes.arg_classes import DeepArgs\n",
    "import numpy as np\n",
    "import matplotlib.pyplot as plt"
   ]
  },
  {
   "cell_type": "code",
   "execution_count": 2,
   "metadata": {
    "collapsed": false,
    "pycharm": {
     "name": "#%%\n"
    }
   },
   "outputs": [],
   "source": [
    "from tqdm.notebook import tqdm\n",
    "\n",
    "def get_auc_roc_score(task_name, seed=42, sample_size=1000,model_name='gpt2-xl',demonstration_shot=1):\n",
    "    if model_name == 'gpt2-xl':\n",
    "        num_layer = 48\n",
    "    elif model_name == 'gpt-j-6b':\n",
    "        num_layer = 28\n",
    "    else:\n",
    "        raise NotImplementedError\n",
    "    try:\n",
    "        args = DeepArgs(task_name=task_name,seeds=[seed],sample_size=sample_size,\n",
    "            model_name=model_name,using_old=False,demonstration_shot=demonstration_shot)\n",
    "        y =  args.load_result()[0][0]\n",
    "    except:\n",
    "        args = DeepArgs(task_name=task_name,seeds=[seed],sample_size=sample_size,\n",
    "            model_name=model_name,using_old=True,demonstration_shot=demonstration_shot)\n",
    "        y =  args.load_result()[0][0]\n",
    "\n",
    "    scores = []\n",
    "    gold = y.predictions[0].argmax(-1)\n",
    "    num_class = y.predictions[0].shape[-1]\n",
    "    select_list = []\n",
    "    for i in range(num_class):\n",
    "        if (gold == i).sum() > 0:\n",
    "            select_list.append(i)\n",
    "    for layer in range(0,num_layer):\n",
    "        if demonstration_shot == 1:\n",
    "            # the difference in implementation of demonstration_shot >=2 causes the difference in the order of layer and class,\n",
    "            # since we have run the experiments, we do not align the order in the implementation and just change the order here\n",
    "            pred = y.predictions[2].reshape(-1,num_layer,num_class)[:,layer,:]\n",
    "        else:\n",
    "            pred = y.predictions[2].reshape(-1,num_class,num_layer)[:,:,layer]\n",
    "        pred = pred[:,select_list]\n",
    "        if len(select_list) == 2:\n",
    "            pred =  pred[:,1]\n",
    "        else:\n",
    "            pred = pred / pred.sum(-1,keepdims=True)\n",
    "        scores.append(roc_auc_score(gold,pred,multi_class = 'ovo'))\n",
    "    return scores\n",
    "\n",
    "def get_mean_auc_roc_score(task_name, seeds = None, sample_size=1000,model_name='gpt2-xl',demonstration_shot=1):\n",
    "    if seeds is None:\n",
    "        seeds = [42,43,44,45,46]\n",
    "    score_list = []\n",
    "    for seed in seeds:\n",
    "        score_list.append(get_auc_roc_score(task_name,seed,sample_size,model_name,demonstration_shot=demonstration_shot))\n",
    "    return np.mean(score_list,0)"
   ]
  },
  {
   "cell_type": "code",
   "execution_count": 3,
   "metadata": {
    "collapsed": false,
    "pycharm": {
     "name": "#%%\n"
    }
   },
   "outputs": [
    {
     "ename": "FileNotFoundError",
     "evalue": "[Errno 2] No such file or directory: '/home/ldh0033@auburn.edu/learning_nlp/SocialSense/testing/llm_unlearn_loi_version/label-words-are-anchors/results/deep/sst2_gpt-j-6b_2_train_test_1000_42'",
     "output_type": "error",
     "traceback": [
      "\u001b[0;31m---------------------------------------------------------------------------\u001b[0m",
      "\u001b[0;31mFileNotFoundError\u001b[0m                         Traceback (most recent call last)",
      "\u001b[0;32m/tmp/ipykernel_3954630/652280984.py\u001b[0m in \u001b[0;36mget_auc_roc_score\u001b[0;34m(task_name, seed, sample_size, model_name, demonstration_shot)\u001b[0m\n\u001b[1;32m     12\u001b[0m             model_name=model_name,using_old=False,demonstration_shot=demonstration_shot)\n\u001b[0;32m---> 13\u001b[0;31m         \u001b[0my\u001b[0m \u001b[0;34m=\u001b[0m  \u001b[0margs\u001b[0m\u001b[0;34m.\u001b[0m\u001b[0mload_result\u001b[0m\u001b[0;34m(\u001b[0m\u001b[0;34m)\u001b[0m\u001b[0;34m[\u001b[0m\u001b[0;36m0\u001b[0m\u001b[0;34m]\u001b[0m\u001b[0;34m[\u001b[0m\u001b[0;36m0\u001b[0m\u001b[0;34m]\u001b[0m\u001b[0;34m\u001b[0m\u001b[0;34m\u001b[0m\u001b[0m\n\u001b[0m\u001b[1;32m     14\u001b[0m     \u001b[0;32mexcept\u001b[0m\u001b[0;34m:\u001b[0m\u001b[0;34m\u001b[0m\u001b[0;34m\u001b[0m\u001b[0m\n",
      "\u001b[0;32m~/learning_nlp/SocialSense/testing/llm_unlearn_loi_version/label-words-are-anchors/icl/util_classes/arg_classes.py\u001b[0m in \u001b[0;36mload_result\u001b[0;34m(self)\u001b[0m\n\u001b[1;32m     72\u001b[0m     \u001b[0;32mdef\u001b[0m \u001b[0mload_result\u001b[0m\u001b[0;34m(\u001b[0m\u001b[0mself\u001b[0m\u001b[0;34m)\u001b[0m\u001b[0;34m:\u001b[0m\u001b[0;34m\u001b[0m\u001b[0;34m\u001b[0m\u001b[0m\n\u001b[0;32m---> 73\u001b[0;31m         \u001b[0;32mwith\u001b[0m \u001b[0mopen\u001b[0m\u001b[0;34m(\u001b[0m\u001b[0mself\u001b[0m\u001b[0;34m.\u001b[0m\u001b[0msave_file_name\u001b[0m\u001b[0;34m,\u001b[0m \u001b[0;34m\"rb\"\u001b[0m\u001b[0;34m)\u001b[0m \u001b[0;32mas\u001b[0m \u001b[0mf\u001b[0m\u001b[0;34m:\u001b[0m\u001b[0;34m\u001b[0m\u001b[0;34m\u001b[0m\u001b[0m\n\u001b[0m\u001b[1;32m     74\u001b[0m             \u001b[0;32mreturn\u001b[0m \u001b[0mpickle\u001b[0m\u001b[0;34m.\u001b[0m\u001b[0mload\u001b[0m\u001b[0;34m(\u001b[0m\u001b[0mf\u001b[0m\u001b[0;34m)\u001b[0m\u001b[0;34m\u001b[0m\u001b[0;34m\u001b[0m\u001b[0m\n",
      "\u001b[0;31mFileNotFoundError\u001b[0m: [Errno 2] No such file or directory: '/home/ldh0033@auburn.edu/learning_nlp/SocialSense/testing/llm_unlearn_loi_version/label-words-are-anchors/results/deep/sst2_gpt-j-6b_2_train_test_1000_42_None'",
      "\nDuring handling of the above exception, another exception occurred:\n",
      "\u001b[0;31mFileNotFoundError\u001b[0m                         Traceback (most recent call last)",
      "\u001b[0;32m/tmp/ipykernel_3954630/3972972551.py\u001b[0m in \u001b[0;36m<module>\u001b[0;34m\u001b[0m\n\u001b[1;32m      3\u001b[0m \u001b[0;34m\u001b[0m\u001b[0m\n\u001b[1;32m      4\u001b[0m \u001b[0mtask_names\u001b[0m \u001b[0;34m=\u001b[0m \u001b[0;34m[\u001b[0m\u001b[0;34m'SST-2'\u001b[0m\u001b[0;34m,\u001b[0m\u001b[0;34m'TREC'\u001b[0m\u001b[0;34m,\u001b[0m\u001b[0;34m'AGNews'\u001b[0m\u001b[0;34m,\u001b[0m\u001b[0;34m'EmoC'\u001b[0m\u001b[0;34m]\u001b[0m\u001b[0;34m\u001b[0m\u001b[0;34m\u001b[0m\u001b[0m\n\u001b[0;32m----> 5\u001b[0;31m \u001b[0mscores_list\u001b[0m \u001b[0;34m=\u001b[0m \u001b[0;34m[\u001b[0m\u001b[0mget_mean_auc_roc_score\u001b[0m\u001b[0;34m(\u001b[0m\u001b[0mtask\u001b[0m\u001b[0;34m,\u001b[0m\u001b[0mmodel_name\u001b[0m\u001b[0;34m=\u001b[0m\u001b[0mmodel_name\u001b[0m\u001b[0;34m,\u001b[0m\u001b[0mdemonstration_shot\u001b[0m\u001b[0;34m=\u001b[0m\u001b[0mdemonstration_shot\u001b[0m\u001b[0;34m)\u001b[0m \u001b[0;32mfor\u001b[0m \u001b[0mtask\u001b[0m \u001b[0;32min\u001b[0m \u001b[0;34m[\u001b[0m\u001b[0;34m'sst2'\u001b[0m\u001b[0;34m,\u001b[0m\u001b[0;34m'trec'\u001b[0m\u001b[0;34m,\u001b[0m\u001b[0;34m'agnews'\u001b[0m\u001b[0;34m,\u001b[0m\u001b[0;34m'emo'\u001b[0m\u001b[0;34m]\u001b[0m\u001b[0;34m]\u001b[0m\u001b[0;34m\u001b[0m\u001b[0;34m\u001b[0m\u001b[0m\n\u001b[0m",
      "\u001b[0;32m/tmp/ipykernel_3954630/3972972551.py\u001b[0m in \u001b[0;36m<listcomp>\u001b[0;34m(.0)\u001b[0m\n\u001b[1;32m      3\u001b[0m \u001b[0;34m\u001b[0m\u001b[0m\n\u001b[1;32m      4\u001b[0m \u001b[0mtask_names\u001b[0m \u001b[0;34m=\u001b[0m \u001b[0;34m[\u001b[0m\u001b[0;34m'SST-2'\u001b[0m\u001b[0;34m,\u001b[0m\u001b[0;34m'TREC'\u001b[0m\u001b[0;34m,\u001b[0m\u001b[0;34m'AGNews'\u001b[0m\u001b[0;34m,\u001b[0m\u001b[0;34m'EmoC'\u001b[0m\u001b[0;34m]\u001b[0m\u001b[0;34m\u001b[0m\u001b[0;34m\u001b[0m\u001b[0m\n\u001b[0;32m----> 5\u001b[0;31m \u001b[0mscores_list\u001b[0m \u001b[0;34m=\u001b[0m \u001b[0;34m[\u001b[0m\u001b[0mget_mean_auc_roc_score\u001b[0m\u001b[0;34m(\u001b[0m\u001b[0mtask\u001b[0m\u001b[0;34m,\u001b[0m\u001b[0mmodel_name\u001b[0m\u001b[0;34m=\u001b[0m\u001b[0mmodel_name\u001b[0m\u001b[0;34m,\u001b[0m\u001b[0mdemonstration_shot\u001b[0m\u001b[0;34m=\u001b[0m\u001b[0mdemonstration_shot\u001b[0m\u001b[0;34m)\u001b[0m \u001b[0;32mfor\u001b[0m \u001b[0mtask\u001b[0m \u001b[0;32min\u001b[0m \u001b[0;34m[\u001b[0m\u001b[0;34m'sst2'\u001b[0m\u001b[0;34m,\u001b[0m\u001b[0;34m'trec'\u001b[0m\u001b[0;34m,\u001b[0m\u001b[0;34m'agnews'\u001b[0m\u001b[0;34m,\u001b[0m\u001b[0;34m'emo'\u001b[0m\u001b[0;34m]\u001b[0m\u001b[0;34m]\u001b[0m\u001b[0;34m\u001b[0m\u001b[0;34m\u001b[0m\u001b[0m\n\u001b[0m",
      "\u001b[0;32m/tmp/ipykernel_3954630/652280984.py\u001b[0m in \u001b[0;36mget_mean_auc_roc_score\u001b[0;34m(task_name, seeds, sample_size, model_name, demonstration_shot)\u001b[0m\n\u001b[1;32m     44\u001b[0m     \u001b[0mscore_list\u001b[0m \u001b[0;34m=\u001b[0m \u001b[0;34m[\u001b[0m\u001b[0;34m]\u001b[0m\u001b[0;34m\u001b[0m\u001b[0;34m\u001b[0m\u001b[0m\n\u001b[1;32m     45\u001b[0m     \u001b[0;32mfor\u001b[0m \u001b[0mseed\u001b[0m \u001b[0;32min\u001b[0m \u001b[0mseeds\u001b[0m\u001b[0;34m:\u001b[0m\u001b[0;34m\u001b[0m\u001b[0;34m\u001b[0m\u001b[0m\n\u001b[0;32m---> 46\u001b[0;31m         \u001b[0mscore_list\u001b[0m\u001b[0;34m.\u001b[0m\u001b[0mappend\u001b[0m\u001b[0;34m(\u001b[0m\u001b[0mget_auc_roc_score\u001b[0m\u001b[0;34m(\u001b[0m\u001b[0mtask_name\u001b[0m\u001b[0;34m,\u001b[0m\u001b[0mseed\u001b[0m\u001b[0;34m,\u001b[0m\u001b[0msample_size\u001b[0m\u001b[0;34m,\u001b[0m\u001b[0mmodel_name\u001b[0m\u001b[0;34m,\u001b[0m\u001b[0mdemonstration_shot\u001b[0m\u001b[0;34m=\u001b[0m\u001b[0mdemonstration_shot\u001b[0m\u001b[0;34m)\u001b[0m\u001b[0;34m)\u001b[0m\u001b[0;34m\u001b[0m\u001b[0;34m\u001b[0m\u001b[0m\n\u001b[0m\u001b[1;32m     47\u001b[0m     \u001b[0;32mreturn\u001b[0m \u001b[0mnp\u001b[0m\u001b[0;34m.\u001b[0m\u001b[0mmean\u001b[0m\u001b[0;34m(\u001b[0m\u001b[0mscore_list\u001b[0m\u001b[0;34m,\u001b[0m\u001b[0;36m0\u001b[0m\u001b[0;34m)\u001b[0m\u001b[0;34m\u001b[0m\u001b[0;34m\u001b[0m\u001b[0m\n",
      "\u001b[0;32m/tmp/ipykernel_3954630/652280984.py\u001b[0m in \u001b[0;36mget_auc_roc_score\u001b[0;34m(task_name, seed, sample_size, model_name, demonstration_shot)\u001b[0m\n\u001b[1;32m     15\u001b[0m         args = DeepArgs(task_name=task_name,seeds=[seed],sample_size=sample_size,\n\u001b[1;32m     16\u001b[0m             model_name=model_name,using_old=True,demonstration_shot=demonstration_shot)\n\u001b[0;32m---> 17\u001b[0;31m         \u001b[0my\u001b[0m \u001b[0;34m=\u001b[0m  \u001b[0margs\u001b[0m\u001b[0;34m.\u001b[0m\u001b[0mload_result\u001b[0m\u001b[0;34m(\u001b[0m\u001b[0;34m)\u001b[0m\u001b[0;34m[\u001b[0m\u001b[0;36m0\u001b[0m\u001b[0;34m]\u001b[0m\u001b[0;34m[\u001b[0m\u001b[0;36m0\u001b[0m\u001b[0;34m]\u001b[0m\u001b[0;34m\u001b[0m\u001b[0;34m\u001b[0m\u001b[0m\n\u001b[0m\u001b[1;32m     18\u001b[0m \u001b[0;34m\u001b[0m\u001b[0m\n\u001b[1;32m     19\u001b[0m     \u001b[0mscores\u001b[0m \u001b[0;34m=\u001b[0m \u001b[0;34m[\u001b[0m\u001b[0;34m]\u001b[0m\u001b[0;34m\u001b[0m\u001b[0;34m\u001b[0m\u001b[0m\n",
      "\u001b[0;32m~/learning_nlp/SocialSense/testing/llm_unlearn_loi_version/label-words-are-anchors/icl/util_classes/arg_classes.py\u001b[0m in \u001b[0;36mload_result\u001b[0;34m(self)\u001b[0m\n\u001b[1;32m     71\u001b[0m \u001b[0;34m\u001b[0m\u001b[0m\n\u001b[1;32m     72\u001b[0m     \u001b[0;32mdef\u001b[0m \u001b[0mload_result\u001b[0m\u001b[0;34m(\u001b[0m\u001b[0mself\u001b[0m\u001b[0;34m)\u001b[0m\u001b[0;34m:\u001b[0m\u001b[0;34m\u001b[0m\u001b[0;34m\u001b[0m\u001b[0m\n\u001b[0;32m---> 73\u001b[0;31m         \u001b[0;32mwith\u001b[0m \u001b[0mopen\u001b[0m\u001b[0;34m(\u001b[0m\u001b[0mself\u001b[0m\u001b[0;34m.\u001b[0m\u001b[0msave_file_name\u001b[0m\u001b[0;34m,\u001b[0m \u001b[0;34m\"rb\"\u001b[0m\u001b[0;34m)\u001b[0m \u001b[0;32mas\u001b[0m \u001b[0mf\u001b[0m\u001b[0;34m:\u001b[0m\u001b[0;34m\u001b[0m\u001b[0;34m\u001b[0m\u001b[0m\n\u001b[0m\u001b[1;32m     74\u001b[0m             \u001b[0;32mreturn\u001b[0m \u001b[0mpickle\u001b[0m\u001b[0;34m.\u001b[0m\u001b[0mload\u001b[0m\u001b[0;34m(\u001b[0m\u001b[0mf\u001b[0m\u001b[0;34m)\u001b[0m\u001b[0;34m\u001b[0m\u001b[0;34m\u001b[0m\u001b[0m\n\u001b[1;32m     75\u001b[0m \u001b[0;34m\u001b[0m\u001b[0m\n",
      "\u001b[0;31mFileNotFoundError\u001b[0m: [Errno 2] No such file or directory: '/home/ldh0033@auburn.edu/learning_nlp/SocialSense/testing/llm_unlearn_loi_version/label-words-are-anchors/results/deep/sst2_gpt-j-6b_2_train_test_1000_42'"
     ]
    }
   ],
   "source": [
    "demonstration_shot = 2\n",
    "model_name = 'gpt-j-6b'\n",
    "\n",
    "task_names = ['SST-2','TREC','AGNews','EmoC']\n",
    "scores_list = [get_mean_auc_roc_score(task,model_name=model_name,demonstration_shot=demonstration_shot) for task in ['sst2','trec','agnews','emo']]"
   ]
  },
  {
   "cell_type": "code",
   "execution_count": null,
   "metadata": {
    "collapsed": false,
    "pycharm": {
     "name": "#%%\n"
    }
   },
   "outputs": [],
   "source": [
    "import pickle\n",
    "pickle.dump(scores_list,open(f'auc_roc_scores_{model_name}_{demonstration_shot}.pkl','wb'))"
   ]
  },
  {
   "cell_type": "code",
   "execution_count": null,
   "metadata": {
    "collapsed": false,
    "pycharm": {
     "name": "#%%\n"
    }
   },
   "outputs": [],
   "source": [
    "import numpy as np\n",
    "import matplotlib as mpl\n",
    "import matplotlib.pyplot as plt\n",
    "\n",
    "mpl.rcParams['text.usetex'] = False\n",
    "scores = np.mean(np.array(scores_list), axis=0)\n",
    "\n",
    "normalized_scores = np.cumsum(scores-0.5) / np.cumsum(scores-0.5)[-1]\n",
    "\n",
    "fig, ax1 = plt.subplots()\n",
    "\n",
    "ax1.plot(range(1, len(scores) + 1), scores, 'b--')\n",
    "ax1.set_xlabel('Layers')\n",
    "ax1.set_ylabel(r'$\\mathrm{AUCROC_l}$')\n",
    "ax1.tick_params('y')\n",
    "\n",
    "ax2 = ax1.twinx()\n",
    "\n",
    "ax2.plot(range(1, len(scores) + 1), normalized_scores, 'r-')\n",
    "ax2.set_ylabel(r'$R_l$')\n",
    "ax2.tick_params('y')\n",
    "\n",
    "ax1.legend([r'$\\mathrm{AUCROC_l}$'], loc='upper left')\n",
    "ax2.legend([r'$R_l$'], loc='upper right')\n",
    "\n",
    "plt.show()\n",
    "fig.savefig(f'AUC_ROC_{model_name}_{demonstration_shot}.pdf', dpi=300, bbox_inches='tight')"
   ]
  },
  {
   "cell_type": "code",
   "execution_count": null,
   "metadata": {
    "collapsed": false,
    "pycharm": {
     "name": "#%%\n"
    }
   },
   "outputs": [],
   "source": [
    "fig, ax = plt.subplots()\n",
    "x = range(len(scores_list[0]))\n",
    "for task_name, scores in zip(task_names,scores_list):\n",
    "    ax.plot(x, scores, label=task_name)\n",
    "\n",
    "ax.legend()\n",
    "\n",
    "ax.set_title(f'AUC-ROC Score of {model_name} on Different Tasks')\n",
    "ax.set_xlabel('Layer')\n",
    "ax.set_ylabel('Score')\n",
    "\n",
    "plt.show()\n",
    "\n",
    "fig.savefig(f'AUC-ROC Score of {model_name} on Different Tasks (demonstration={demonstration_shot}).png', dpi=300, bbox_inches='tight')"
   ]
  },
  {
   "cell_type": "code",
   "execution_count": null,
   "metadata": {
    "collapsed": false,
    "pycharm": {
     "name": "#%%\n"
    }
   },
   "outputs": [],
   "source": [
    "fig, ax = plt.subplots()\n",
    "x = range(len(scores_list[0]))\n",
    "for task_name, scores in zip(task_names,scores_list):\n",
    "    n_scores = np.cumsum(scores-0.5)\n",
    "    n_scores = n_scores / n_scores[-1]\n",
    "    ax.plot(x, n_scores, label=task_name)\n",
    "\n",
    "ax.legend()\n",
    "\n",
    "ax.set_title(f'Prediction Ratio of {model_name} on Different Tasks')\n",
    "ax.set_xlabel('Layer')\n",
    "ax.set_ylabel('Ratio')\n",
    "\n",
    "plt.show()\n",
    "\n",
    "fig.savefig(f'Prediction Ratio of {model_name} on Different Tasks {demonstration_shot}.png')"
   ]
  }
 ],
 "metadata": {
  "kernelspec": {
   "display_name": "Python 3.10.10 ('wm')",
   "language": "python",
   "name": "python3"
  },
  "language_info": {
   "codemirror_mode": {
    "name": "ipython",
    "version": 3
   },
   "file_extension": ".py",
   "mimetype": "text/x-python",
   "name": "python",
   "nbconvert_exporter": "python",
   "pygments_lexer": "ipython3",
   "version": "3.10.12"
  },
  "vscode": {
   "interpreter": {
    "hash": "69f52fabb15766d39c6bf90ba53c555c905cb082f5a671ecb5c4487727b3f015"
   }
  }
 },
 "nbformat": 4,
 "nbformat_minor": 0
}
